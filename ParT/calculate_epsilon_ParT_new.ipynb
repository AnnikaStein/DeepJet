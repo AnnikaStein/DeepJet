{
 "cells": [
  {
   "cell_type": "markdown",
   "metadata": {},
   "source": [
    "# Find a suiting epsilon\n",
    "\n",
    "The goal of this notebook is to derive a suitable magnitude of the attack for each feature."
   ]
  },
  {
   "cell_type": "code",
   "execution_count": 1,
   "metadata": {},
   "outputs": [],
   "source": [
    "#import uproot\n",
    "import uproot4 as uproot\n",
    "import numpy as np\n",
    "import pandas as pd\n",
    "\n",
    "import matplotlib.pyplot as plt\n",
    "#import seaborn as sns\n",
    "import mplhep as hep"
   ]
  },
  {
   "cell_type": "code",
   "execution_count": 2,
   "metadata": {},
   "outputs": [],
   "source": [
    "import awkward1 as ak"
   ]
  },
  {
   "cell_type": "code",
   "execution_count": 3,
   "metadata": {},
   "outputs": [
    {
     "data": {
      "text/plain": [
       "'0.1.2'"
      ]
     },
     "execution_count": 3,
     "metadata": {},
     "output_type": "execute_result"
    }
   ],
   "source": [
    "uproot.__version__"
   ]
  },
  {
   "cell_type": "markdown",
   "metadata": {},
   "source": [
    "## Checking files content"
   ]
  },
  {
   "cell_type": "markdown",
   "metadata": {},
   "source": [
    "Focusing on ntuple_merged_42"
   ]
  },
  {
   "cell_type": "code",
   "execution_count": 4,
   "metadata": {},
   "outputs": [],
   "source": [
    "inputs_root = \"/eos/cms/store/group/phys_btag/ParT_Run3/Merged_Puppi_v1/ntuple_merged_42.root:deepntuplizer/tree\""
   ]
  },
  {
   "cell_type": "code",
   "execution_count": 5,
   "metadata": {},
   "outputs": [],
   "source": [
    "file_ = uproot.open(inputs_root)\n",
    "columns_ = file_.keys()"
   ]
  },
  {
   "cell_type": "code",
   "execution_count": 6,
   "metadata": {
    "scrolled": true
   },
   "outputs": [
    {
     "data": {
      "text/plain": [
       "['n_sv',\n",
       " 'nsv',\n",
       " 'sv_pt',\n",
       " 'sv_eta',\n",
       " 'sv_phi',\n",
       " 'sv_e',\n",
       " 'sv_etarel',\n",
       " 'sv_phirel',\n",
       " 'sv_deltaR',\n",
       " 'sv_mass',\n",
       " 'sv_ntracks',\n",
       " 'sv_chi2',\n",
       " 'sv_ndf',\n",
       " 'sv_normchi2',\n",
       " 'sv_dxy',\n",
       " 'sv_dxyerr',\n",
       " 'sv_dxysig',\n",
       " 'sv_d3d',\n",
       " 'sv_d3derr',\n",
       " 'sv_d3dsig',\n",
       " 'sv_costhetasvpv',\n",
       " 'sv_enratio',\n",
       " 'n_gtracks',\n",
       " 'nGtracks',\n",
       " 'gtrack_pt',\n",
       " 'gtrack_eta',\n",
       " 'gtrack_phi',\n",
       " 'gtrack_mass',\n",
       " 'gtrack_dz',\n",
       " 'gtrack_dxy',\n",
       " 'gtrack_3D_ip',\n",
       " 'gtrack_3D_sip',\n",
       " 'gtrack_2D_ip',\n",
       " 'gtrack_2D_sip',\n",
       " 'gtrack_dR',\n",
       " 'gtrack_dist_neigh',\n",
       " 'gtrack_3D_TrackProbability',\n",
       " 'gtrack_2D_TrackProbability',\n",
       " 'gtrack_chi2reduced',\n",
       " 'gtrack_nPixelHits',\n",
       " 'gtrack_nHits',\n",
       " 'gtrack_jetAxisDistance',\n",
       " 'gtrack_jetAxisDlength',\n",
       " 'gtrack_PCAtrackFromPV',\n",
       " 'gtrack_dotProdTrack',\n",
       " 'gtrack_dotProdTrack2D',\n",
       " 'n_layers',\n",
       " 'r004',\n",
       " 'r006',\n",
       " 'r008',\n",
       " 'r010',\n",
       " 'r016',\n",
       " 'rvar',\n",
       " 'rvwt',\n",
       " 'npv',\n",
       " 'rho',\n",
       " 'ntrueInt',\n",
       " 'event_no',\n",
       " 'jet_no',\n",
       " 'gen_pt',\n",
       " 'Delta_gen_pt',\n",
       " 'isB',\n",
       " 'isGBB',\n",
       " 'isBB',\n",
       " 'isLeptonicB',\n",
       " 'isLeptonicB_C',\n",
       " 'isC',\n",
       " 'isGCC',\n",
       " 'isCC',\n",
       " 'isUD',\n",
       " 'isS',\n",
       " 'isG',\n",
       " 'isPU',\n",
       " 'isUndefined',\n",
       " 'genDecay',\n",
       " 'jet_hflav',\n",
       " 'jet_pflav',\n",
       " 'jet_phflav',\n",
       " 'jet_pt',\n",
       " 'jet_corr_pt',\n",
       " 'jet_eta',\n",
       " 'jet_phi',\n",
       " 'jet_mass',\n",
       " 'jet_energy',\n",
       " 'jet_looseId',\n",
       " 'jet_jetId',\n",
       " 'jet_puId',\n",
       " 'jet_qgl',\n",
       " 'QG_ptD',\n",
       " 'QG_axis2',\n",
       " 'QG_mult',\n",
       " 'gen_pt_Recluster',\n",
       " 'gen_pt_WithNu',\n",
       " 'Delta_gen_pt_Recluster',\n",
       " 'Delta_gen_pt_WithNu',\n",
       " 'pfCombinedMVAV2BJetTags',\n",
       " 'pfDeepCSVJetTags_probb',\n",
       " 'pfDeepCSVJetTags_probbb',\n",
       " 'pfDeepCSVJetTags_probc',\n",
       " 'pfDeepCSVJetTags_probudsg',\n",
       " 'n_Cpfcand',\n",
       " 'nCpfcand',\n",
       " 'Cpfcan_pt',\n",
       " 'Cpfcan_eta',\n",
       " 'Cpfcan_phi',\n",
       " 'Cpfcan_ptrel',\n",
       " 'Cpfcan_e',\n",
       " 'Cpfcan_erel',\n",
       " 'Cpfcan_phirel',\n",
       " 'Cpfcan_etarel',\n",
       " 'Cpfcan_deltaR',\n",
       " 'Cpfcan_puppiw',\n",
       " 'Cpfcan_dxy',\n",
       " 'Cpfcan_dxyerrinv',\n",
       " 'Cpfcan_dxysig',\n",
       " 'Cpfcan_dz',\n",
       " 'Cpfcan_VTX_ass',\n",
       " 'Cpfcan_fromPV',\n",
       " 'Cpfcan_drminsv',\n",
       " 'Cpfcan_vertex_rho',\n",
       " 'Cpfcan_vertex_phirel',\n",
       " 'Cpfcan_vertex_etarel',\n",
       " 'Cpfcan_BtagPf_trackMomentum',\n",
       " 'Cpfcan_BtagPf_trackEta',\n",
       " 'Cpfcan_BtagPf_trackEtaRel',\n",
       " 'Cpfcan_BtagPf_trackPtRel',\n",
       " 'Cpfcan_BtagPf_trackPPar',\n",
       " 'Cpfcan_BtagPf_trackDeltaR',\n",
       " 'Cpfcan_BtagPf_trackPtRatio',\n",
       " 'Cpfcan_BtagPf_trackPParRatio',\n",
       " 'Cpfcan_BtagPf_trackSip3dVal',\n",
       " 'Cpfcan_BtagPf_trackSip3dSig',\n",
       " 'Cpfcan_BtagPf_trackSip2dVal',\n",
       " 'Cpfcan_BtagPf_trackSip2dSig',\n",
       " 'Cpfcan_BtagPf_trackDecayLen',\n",
       " 'Cpfcan_BtagPf_trackJetDistVal',\n",
       " 'Cpfcan_BtagPf_trackJetDistSig',\n",
       " 'Cpfcan_isMu',\n",
       " 'Cpfcan_isEl',\n",
       " 'Cpfcan_charge',\n",
       " 'Cpfcan_lostInnerHits',\n",
       " 'Cpfcan_numberOfPixelHits',\n",
       " 'Cpfcan_chi2',\n",
       " 'Cpfcan_quality',\n",
       " 'Cpfcan_nhitpixelBarrelLayer1',\n",
       " 'Cpfcan_nhitpixelBarrelLayer2',\n",
       " 'Cpfcan_nhitpixelBarrelLayer3',\n",
       " 'Cpfcan_nhitpixelBarrelLayer4',\n",
       " 'Cpfcan_nhitpixelEndcapLayer1',\n",
       " 'Cpfcan_nhitpixelEndcapLayer2',\n",
       " 'Cpfcan_nhitstripTIBLayer1',\n",
       " 'Cpfcan_nhitstripTIBLayer2',\n",
       " 'Cpfcan_nhitstripTIBLayer3',\n",
       " 'Cpfcan_nhitstripTIBLayer4',\n",
       " 'Cpfcan_nhitstripTIDLayer1',\n",
       " 'Cpfcan_nhitstripTIDLayer2',\n",
       " 'Cpfcan_nhitstripTIDLayer3',\n",
       " 'Cpfcan_nhitstripTOBLayer1',\n",
       " 'Cpfcan_nhitstripTOBLayer2',\n",
       " 'Cpfcan_nhitstripTOBLayer3',\n",
       " 'Cpfcan_nhitstripTOBLayer4',\n",
       " 'Cpfcan_nhitstripTOBLayer5',\n",
       " 'Cpfcan_nhitstripTOBLayer6',\n",
       " 'Cpfcan_nhitstripTECLayer1',\n",
       " 'Cpfcan_nhitstripTECLayer2',\n",
       " 'Cpfcan_nhitstripTECLayer3',\n",
       " 'Cpfcan_nhitstripTECLayer4',\n",
       " 'Cpfcan_nhitstripTECLayer5',\n",
       " 'Cpfcan_nhitstripTECLayer6',\n",
       " 'Cpfcan_nhitstripTECLayer7',\n",
       " 'Cpfcan_nhitstripTECLayer8',\n",
       " 'Cpfcan_nhitstripTECLayer9',\n",
       " 'Cpfcan_numberOfValidHits',\n",
       " 'Cpfcan_numberOfValidTrackerHits',\n",
       " 'Cpfcan_numberOfValidPixelHits',\n",
       " 'Cpfcan_numberOfValidPixelBarrelHits',\n",
       " 'Cpfcan_numberOfValidPixelEndcapHits',\n",
       " 'Cpfcan_numberOfValidStripHits',\n",
       " 'Cpfcan_numberOfValidStripTIBHits',\n",
       " 'Cpfcan_numberOfValidStripTIDHits',\n",
       " 'Cpfcan_numberOfValidStripTOBHits',\n",
       " 'Cpfcan_numberOfValidStripTECHits',\n",
       " 'Cpfcan_trackerLayersWithMeasurementOld',\n",
       " 'Cpfcan_trackerLayersWithMeasurement',\n",
       " 'Cpfcan_pixelLayersWithMeasurementOld',\n",
       " 'Cpfcan_pixelLayersWithMeasurement',\n",
       " 'Cpfcan_stripLayersWithMeasurement',\n",
       " 'Cpfcan_pixelBarrelLayersWithMeasurement',\n",
       " 'Cpfcan_pixelEndcapLayersWithMeasurement',\n",
       " 'Cpfcan_stripTIBLayersWithMeasurement',\n",
       " 'Cpfcan_stripTIDLayersWithMeasurement',\n",
       " 'Cpfcan_stripTOBLayersWithMeasurement',\n",
       " 'Cpfcan_stripTECLayersWithMeasurement',\n",
       " 'Cpfcan_trackerLayersNull',\n",
       " 'Cpfcan_pixelLayersNull',\n",
       " 'Cpfcan_stripLayersNull',\n",
       " 'Cpfcan_pixelBarrelLayersNull',\n",
       " 'Cpfcan_pixelEndcapLayersNull',\n",
       " 'Cpfcan_stripTIBLayersNull',\n",
       " 'Cpfcan_stripTIDLayersNull',\n",
       " 'Cpfcan_stripTOBLayersNull',\n",
       " 'Cpfcan_stripTECLayersNull',\n",
       " 'n_Npfcand',\n",
       " 'nNpfcand',\n",
       " 'Npfcan_pt',\n",
       " 'Npfcan_eta',\n",
       " 'Npfcan_phi',\n",
       " 'Npfcan_ptrel',\n",
       " 'Npfcan_e',\n",
       " 'Npfcan_erel',\n",
       " 'Npfcan_puppiw',\n",
       " 'Npfcan_phirel',\n",
       " 'Npfcan_etarel',\n",
       " 'Npfcan_deltaR',\n",
       " 'Npfcan_isGamma',\n",
       " 'Npfcan_HadFrac',\n",
       " 'Npfcan_drminsv',\n",
       " 'trackJetPt',\n",
       " 'jetNTracks',\n",
       " 'TagVarCSV_jetNSecondaryVertices',\n",
       " 'TagVarCSV_trackSumJetEtRatio',\n",
       " 'TagVarCSV_trackSumJetDeltaR',\n",
       " 'TagVarCSV_vertexCategory',\n",
       " 'TagVarCSV_trackSip2dValAboveCharm',\n",
       " 'TagVarCSV_trackSip2dSigAboveCharm',\n",
       " 'TagVarCSV_trackSip3dValAboveCharm',\n",
       " 'TagVarCSV_trackSip3dSigAboveCharm',\n",
       " 'n_TagVarCSV_jetNSelectedTracks',\n",
       " 'TagVarCSV_jetNSelectedTracks',\n",
       " 'TagVarCSVTrk_trackPtRel',\n",
       " 'TagVarCSVTrk_trackDeltaR',\n",
       " 'TagVarCSVTrk_trackPtRatio',\n",
       " 'TagVarCSVTrk_trackSip3dSig',\n",
       " 'TagVarCSVTrk_trackSip2dSig',\n",
       " 'TagVarCSVTrk_trackDecayLenVal',\n",
       " 'TagVarCSVTrk_trackJetDistVal',\n",
       " 'n_TagVarCSV_jetNTracksEtaRel',\n",
       " 'TagVarCSV_jetNTracksEtaRel',\n",
       " 'TagVarCSV_trackEtaRel',\n",
       " 'trackPParRatio',\n",
       " 'trackSip2dVal',\n",
       " 'trackSip3dVal',\n",
       " 'trackMomentum',\n",
       " 'trackEta',\n",
       " 'trackPPar',\n",
       " 'n_StoredVertices',\n",
       " 'NStoredVertices',\n",
       " 'TagVarCSV_vertexMass',\n",
       " 'TagVarCSV_vertexNTracks',\n",
       " 'TagVarCSV_vertexEnergyRatio',\n",
       " 'TagVarCSV_vertexJetDeltaR',\n",
       " 'TagVarCSV_flightDistance2dVal',\n",
       " 'TagVarCSV_flightDistance2dSig',\n",
       " 'TagVarCSV_flightDistance3dVal',\n",
       " 'TagVarCSV_flightDistance3dSig']"
      ]
     },
     "execution_count": 6,
     "metadata": {},
     "output_type": "execute_result"
    }
   ],
   "source": [
    "columns_"
   ]
  },
  {
   "cell_type": "code",
   "execution_count": 7,
   "metadata": {},
   "outputs": [],
   "source": [
    "global_branches = ['jet_pt',\n",
    "                   'jet_eta',\n",
    "                   'nCpfcand',\n",
    "                   'nNpfcand',\n",
    "                   'nsv',\n",
    "                   'npv',\n",
    "                   'TagVarCSV_trackSumJetEtRatio',\n",
    "                   'TagVarCSV_trackSumJetDeltaR',\n",
    "                   'TagVarCSV_vertexCategory',\n",
    "                   'TagVarCSV_trackSip2dValAboveCharm',\n",
    "                   'TagVarCSV_trackSip2dSigAboveCharm',\n",
    "                   'TagVarCSV_trackSip3dValAboveCharm',\n",
    "                   'TagVarCSV_trackSip3dSigAboveCharm',\n",
    "                   'TagVarCSV_jetNSelectedTracks',\n",
    "                   'TagVarCSV_jetNTracksEtaRel']\n",
    "cpf_branches = ['Cpfcan_BtagPf_trackEtaRel',\n",
    "                'Cpfcan_BtagPf_trackPtRel',\n",
    "                'Cpfcan_BtagPf_trackPPar',\n",
    "                'Cpfcan_BtagPf_trackDeltaR',\n",
    "                'Cpfcan_BtagPf_trackPParRatio',\n",
    "                'Cpfcan_BtagPf_trackSip2dVal',\n",
    "                'Cpfcan_BtagPf_trackSip2dSig',\n",
    "                'Cpfcan_BtagPf_trackSip3dVal',\n",
    "                'Cpfcan_BtagPf_trackSip3dSig',\n",
    "                'Cpfcan_BtagPf_trackJetDistVal',\n",
    "                'Cpfcan_ptrel',\n",
    "                'Cpfcan_drminsv',\n",
    "                #'Cpfcan_distminsv',\n",
    "                'Cpfcan_VTX_ass',\n",
    "                'Cpfcan_puppiw',\n",
    "                'Cpfcan_chi2',\n",
    "                'Cpfcan_quality']\n",
    "npf_branches = ['Npfcan_ptrel',\n",
    "                'Npfcan_etarel',\n",
    "                'Npfcan_phirel', \n",
    "                'Npfcan_deltaR',\n",
    "                'Npfcan_isGamma',\n",
    "                'Npfcan_HadFrac',\n",
    "                'Npfcan_drminsv',\n",
    "                'Npfcan_puppiw']\n",
    "vtx_branches = ['sv_pt',\n",
    "                'sv_deltaR',\n",
    "                'sv_mass',\n",
    "                'sv_etarel',\n",
    "                'sv_phirel',\n",
    "                'sv_ntracks',\n",
    "                'sv_chi2',\n",
    "                'sv_normchi2',\n",
    "                'sv_dxy',\n",
    "                'sv_dxysig',\n",
    "                'sv_d3d',\n",
    "                'sv_d3dsig',\n",
    "                'sv_costhetasvpv',\n",
    "                'sv_enratio']\n",
    "cpf_pts_branches = ['Cpfcan_pt',\n",
    "                    'Cpfcan_eta',\n",
    "                    'Cpfcan_phi',\n",
    "                    'Cpfcan_e']\n",
    "npf_pts_branches = ['Npfcan_pt',\n",
    "                    'Npfcan_eta',\n",
    "                    'Npfcan_phi',\n",
    "                    'Npfcan_e']\n",
    "vtx_pts_branches = ['sv_pt',\n",
    "                    'sv_eta',\n",
    "                    'sv_phi',\n",
    "                    'sv_e']"
   ]
  },
  {
   "cell_type": "code",
   "execution_count": 8,
   "metadata": {},
   "outputs": [],
   "source": [
    "df_glob = file_.arrays(global_branches, library=\"ak\")"
   ]
  },
  {
   "cell_type": "code",
   "execution_count": 9,
   "metadata": {},
   "outputs": [],
   "source": [
    "df_cpf = file_.arrays(cpf_branches, library=\"ak\")"
   ]
  },
  {
   "cell_type": "code",
   "execution_count": 10,
   "metadata": {},
   "outputs": [],
   "source": [
    "df_npf = file_.arrays(npf_branches, library=\"ak\")"
   ]
  },
  {
   "cell_type": "code",
   "execution_count": 11,
   "metadata": {},
   "outputs": [],
   "source": [
    "df_vtx = file_.arrays(vtx_branches, library=\"ak\")"
   ]
  },
  {
   "cell_type": "code",
   "execution_count": 12,
   "metadata": {},
   "outputs": [],
   "source": [
    "df_cpf_pts = file_.arrays(cpf_pts_branches, library=\"ak\")"
   ]
  },
  {
   "cell_type": "code",
   "execution_count": 13,
   "metadata": {},
   "outputs": [],
   "source": [
    "df_npf_pts = file_.arrays(npf_pts_branches, library=\"ak\")"
   ]
  },
  {
   "cell_type": "code",
   "execution_count": 14,
   "metadata": {},
   "outputs": [],
   "source": [
    "df_vtx_pts = file_.arrays(vtx_pts_branches, library=\"ak\")"
   ]
  },
  {
   "cell_type": "code",
   "execution_count": 15,
   "metadata": {},
   "outputs": [],
   "source": [
    "hflav = file_.arrays('jet_hflav', library=\"ak\")['jet_hflav']"
   ]
  },
  {
   "cell_type": "code",
   "execution_count": 16,
   "metadata": {},
   "outputs": [
    {
     "data": {
      "text/plain": [
       "0.9501963"
      ]
     },
     "execution_count": 16,
     "metadata": {},
     "output_type": "execute_result"
    }
   ],
   "source": [
    "ak.min(ak.flatten(df_npf_pts['Npfcan_e']))"
   ]
  },
  {
   "cell_type": "code",
   "execution_count": 17,
   "metadata": {},
   "outputs": [
    {
     "data": {
      "text/plain": [
       "0"
      ]
     },
     "execution_count": 17,
     "metadata": {},
     "output_type": "execute_result"
    }
   ],
   "source": [
    "ak.min(ak.num(df_npf_pts['Npfcan_e']))"
   ]
  },
  {
   "cell_type": "code",
   "execution_count": 22,
   "metadata": {
    "scrolled": true
   },
   "outputs": [
    {
     "data": {
      "text/plain": [
       "(array([1.00000e+01, 1.40000e+01, 8.00000e+00, 1.50000e+01, 9.00000e+00,\n",
       "        1.30000e+01, 1.70000e+01, 1.80000e+01, 8.00000e+00, 2.00000e+01,\n",
       "        9.00000e+00, 2.90000e+01, 1.90000e+01, 4.40000e+01, 2.40000e+01,\n",
       "        4.80000e+01, 5.20000e+01, 4.40000e+01, 5.60000e+01, 4.10000e+01,\n",
       "        5.60000e+01, 6.00000e+01, 8.60000e+01, 6.60000e+01, 1.06000e+02,\n",
       "        8.20000e+01, 1.33000e+02, 8.30000e+01, 1.42000e+02, 1.14000e+02,\n",
       "        1.73000e+02, 1.21000e+02, 2.20000e+02, 2.34000e+02, 1.43000e+02,\n",
       "        2.52000e+02, 1.79000e+02, 2.38000e+02, 1.96000e+02, 3.10000e+02,\n",
       "        2.36000e+02, 3.65000e+02, 2.27000e+02, 4.01000e+02, 2.88000e+02,\n",
       "        4.46000e+02, 2.97000e+02, 5.22000e+02, 3.56000e+02, 6.05000e+02,\n",
       "        6.51000e+02, 4.15000e+02, 7.48000e+02, 4.78000e+02, 8.40000e+02,\n",
       "        5.80000e+02, 8.51000e+02, 5.95000e+02, 1.00800e+03, 6.79000e+02,\n",
       "        1.02800e+03, 7.10000e+02, 1.16600e+03, 8.93000e+02, 1.30300e+03,\n",
       "        9.55000e+02, 1.45000e+03, 1.64700e+03, 1.10800e+03, 1.87700e+03,\n",
       "        1.25400e+03, 2.08400e+03, 1.43800e+03, 2.29400e+03, 1.65100e+03,\n",
       "        2.63300e+03, 1.88900e+03, 2.96700e+03, 2.15800e+03, 3.44800e+03,\n",
       "        2.56100e+03, 4.04700e+03, 2.97200e+03, 4.69500e+03, 5.26500e+03,\n",
       "        3.82900e+03, 6.40900e+03, 4.51700e+03, 7.88900e+03, 5.97800e+03,\n",
       "        1.01660e+04, 7.57700e+03, 1.34770e+04, 1.05960e+04, 1.94150e+04,\n",
       "        1.61520e+04, 3.25500e+04, 3.17680e+04, 8.87410e+04, 2.13047e+06]),\n",
       " array([0.00784314, 0.01776471, 0.02768627, 0.03760784, 0.04752941,\n",
       "        0.05745098, 0.06737255, 0.07729412, 0.08721569, 0.09713726,\n",
       "        0.10705882, 0.11698039, 0.12690196, 0.13682353, 0.1467451 ,\n",
       "        0.15666667, 0.16658824, 0.1765098 , 0.18643137, 0.19635294,\n",
       "        0.20627451, 0.21619608, 0.22611765, 0.23603922, 0.24596078,\n",
       "        0.25588235, 0.26580392, 0.27572549, 0.28564706, 0.29556863,\n",
       "        0.3054902 , 0.31541177, 0.32533333, 0.3352549 , 0.34517647,\n",
       "        0.35509804, 0.36501961, 0.37494118, 0.38486275, 0.39478431,\n",
       "        0.40470588, 0.41462745, 0.42454902, 0.43447059, 0.44439216,\n",
       "        0.45431373, 0.46423529, 0.47415686, 0.48407843, 0.494     ,\n",
       "        0.50392157, 0.51384314, 0.52376471, 0.53368627, 0.54360784,\n",
       "        0.55352941, 0.56345098, 0.57337255, 0.58329412, 0.59321569,\n",
       "        0.60313726, 0.61305882, 0.62298039, 0.63290196, 0.64282353,\n",
       "        0.6527451 , 0.66266667, 0.67258824, 0.6825098 , 0.69243137,\n",
       "        0.70235294, 0.71227451, 0.72219608, 0.73211765, 0.74203922,\n",
       "        0.75196078, 0.76188235, 0.77180392, 0.78172549, 0.79164706,\n",
       "        0.80156863, 0.8114902 , 0.82141176, 0.83133333, 0.8412549 ,\n",
       "        0.85117647, 0.86109804, 0.87101961, 0.88094118, 0.89086275,\n",
       "        0.90078431, 0.91070588, 0.92062745, 0.93054902, 0.94047059,\n",
       "        0.95039216, 0.96031373, 0.97023529, 0.98015686, 0.99007843,\n",
       "        1.        ]),\n",
       " <BarContainer object of 100 artists>)"
      ]
     },
     "execution_count": 22,
     "metadata": {},
     "output_type": "execute_result"
    },
    {
     "data": {
      "image/png": "[encoded data removed]",
      "text/plain": [
       "<Figure size 432x288 with 1 Axes>"
      ]
     },
     "metadata": {
      "needs_background": "light"
     },
     "output_type": "display_data"
    }
   ],
   "source": [
    "plt.hist(ak.flatten(df_npf['Npfcan_puppiw']),bins=100)"
   ]
  },
  {
   "cell_type": "code",
   "execution_count": 24,
   "metadata": {
    "scrolled": true
   },
   "outputs": [
    {
     "data": {
      "text/plain": [
       "(array([1.000000e+00, 0.000000e+00, 2.000000e+00, 4.000000e+00,\n",
       "        5.000000e+00, 9.000000e+00, 5.000000e+00, 1.000000e+01,\n",
       "        1.000000e+01, 1.200000e+01, 8.000000e+00, 2.400000e+01,\n",
       "        1.600000e+01, 2.300000e+01, 1.500000e+01, 3.400000e+01,\n",
       "        3.300000e+01, 5.100000e+01, 4.000000e+01, 4.900000e+01,\n",
       "        3.700000e+01, 6.400000e+01, 4.600000e+01, 7.900000e+01,\n",
       "        5.900000e+01, 9.100000e+01, 5.500000e+01, 9.200000e+01,\n",
       "        7.200000e+01, 1.010000e+02, 8.500000e+01, 1.550000e+02,\n",
       "        1.130000e+02, 1.640000e+02, 1.260000e+02, 1.740000e+02,\n",
       "        1.090000e+02, 2.230000e+02, 1.480000e+02, 2.730000e+02,\n",
       "        1.780000e+02, 2.730000e+02, 2.110000e+02, 3.450000e+02,\n",
       "        2.210000e+02, 3.630000e+02, 2.380000e+02, 4.010000e+02,\n",
       "        2.810000e+02, 4.370000e+02, 5.210000e+02, 3.600000e+02,\n",
       "        5.580000e+02, 3.770000e+02, 5.910000e+02, 4.250000e+02,\n",
       "        6.730000e+02, 5.180000e+02, 7.550000e+02, 5.570000e+02,\n",
       "        8.140000e+02, 6.040000e+02, 9.060000e+02, 6.770000e+02,\n",
       "        1.031000e+03, 7.530000e+02, 1.103000e+03, 7.980000e+02,\n",
       "        1.239000e+03, 9.100000e+02, 1.427000e+03, 1.002000e+03,\n",
       "        1.614000e+03, 1.184000e+03, 1.862000e+03, 1.274000e+03,\n",
       "        2.108000e+03, 1.493000e+03, 2.396000e+03, 1.735000e+03,\n",
       "        2.719000e+03, 1.946000e+03, 3.215000e+03, 2.306000e+03,\n",
       "        3.708000e+03, 2.637000e+03, 4.425000e+03, 3.255000e+03,\n",
       "        5.430000e+03, 3.947000e+03, 6.810000e+03, 5.136000e+03,\n",
       "        8.853000e+03, 7.036000e+03, 1.253400e+04, 1.033600e+04,\n",
       "        2.046900e+04, 1.958100e+04, 5.339400e+04, 4.202746e+06]),\n",
       " array([0.01568628, 0.02552941, 0.03537255, 0.04521569, 0.05505882,\n",
       "        0.06490196, 0.0747451 , 0.08458824, 0.09443137, 0.10427451,\n",
       "        0.11411765, 0.12396079, 0.13380392, 0.14364706, 0.1534902 ,\n",
       "        0.16333333, 0.17317647, 0.18301961, 0.19286275, 0.20270588,\n",
       "        0.21254902, 0.22239216, 0.23223529, 0.24207843, 0.25192157,\n",
       "        0.26176471, 0.27160784, 0.28145098, 0.29129412, 0.30113726,\n",
       "        0.31098039, 0.32082353, 0.33066667, 0.3405098 , 0.35035294,\n",
       "        0.36019608, 0.37003922, 0.37988235, 0.38972549, 0.39956863,\n",
       "        0.40941177, 0.4192549 , 0.42909804, 0.43894118, 0.44878431,\n",
       "        0.45862745, 0.46847059, 0.47831373, 0.48815686, 0.498     ,\n",
       "        0.50784314, 0.51768627, 0.52752941, 0.53737255, 0.54721569,\n",
       "        0.55705882, 0.56690196, 0.5767451 , 0.58658824, 0.59643137,\n",
       "        0.60627451, 0.61611765, 0.62596078, 0.63580392, 0.64564706,\n",
       "        0.6554902 , 0.66533333, 0.67517647, 0.68501961, 0.69486275,\n",
       "        0.70470588, 0.71454902, 0.72439216, 0.73423529, 0.74407843,\n",
       "        0.75392157, 0.76376471, 0.77360784, 0.78345098, 0.79329412,\n",
       "        0.80313726, 0.81298039, 0.82282353, 0.83266667, 0.8425098 ,\n",
       "        0.85235294, 0.86219608, 0.87203922, 0.88188235, 0.89172549,\n",
       "        0.90156863, 0.91141176, 0.9212549 , 0.93109804, 0.94094118,\n",
       "        0.95078431, 0.96062745, 0.97047059, 0.98031373, 0.99015686,\n",
       "        1.        ]),\n",
       " <BarContainer object of 100 artists>)"
      ]
     },
     "execution_count": 24,
     "metadata": {},
     "output_type": "execute_result"
    },
    {
     "data": {
      "image/png": "[encoded data removed]",
      "text/plain": [
       "<Figure size 432x288 with 1 Axes>"
      ]
     },
     "metadata": {
      "needs_background": "light"
     },
     "output_type": "display_data"
    }
   ],
   "source": [
    "plt.hist(ak.flatten(df_cpf['Cpfcan_puppiw']),bins=100)"
   ]
  },
  {
   "cell_type": "code",
   "execution_count": 18,
   "metadata": {},
   "outputs": [
    {
     "data": {
      "text/plain": [
       "<Array [5, 4, 0, 0, 0, 0, ... 0, 5, 0, 0, 0, 0] type='400000 * int32'>"
      ]
     },
     "execution_count": 18,
     "metadata": {},
     "output_type": "execute_result"
    }
   ],
   "source": [
    "hflav"
   ]
  },
  {
   "cell_type": "code",
   "execution_count": 17,
   "metadata": {},
   "outputs": [
    {
     "data": {
      "text/plain": [
       "<Array [{jet_pt: 156, ... ] type='400000 * {\"jet_pt\": float32, \"jet_eta\": float3...'>"
      ]
     },
     "execution_count": 17,
     "metadata": {},
     "output_type": "execute_result"
    }
   ],
   "source": [
    "df_glob"
   ]
  },
  {
   "cell_type": "code",
   "execution_count": 18,
   "metadata": {},
   "outputs": [
    {
     "data": {
      "text/plain": [
       "13711"
      ]
     },
     "execution_count": 18,
     "metadata": {},
     "output_type": "execute_result"
    }
   ],
   "source": [
    "ak.sum(df_glob.nNpfcand == 0)"
   ]
  },
  {
   "cell_type": "code",
   "execution_count": 19,
   "metadata": {},
   "outputs": [
    {
     "data": {
      "text/plain": [
       "<Array [10, 8, 5, 15, 19] type='5 * float32'>"
      ]
     },
     "execution_count": 19,
     "metadata": {},
     "output_type": "execute_result"
    }
   ],
   "source": [
    "df_glob.nNpfcand[:5]"
   ]
  },
  {
   "cell_type": "code",
   "execution_count": 20,
   "metadata": {},
   "outputs": [
    {
     "data": {
      "text/plain": [
       "<Array [2, 1, 1, 1, 2] type='5 * float32'>"
      ]
     },
     "execution_count": 20,
     "metadata": {},
     "output_type": "execute_result"
    }
   ],
   "source": [
    "df_glob.nsv[:5]"
   ]
  },
  {
   "cell_type": "code",
   "execution_count": 21,
   "metadata": {},
   "outputs": [
    {
     "data": {
      "text/plain": [
       "<Array [{Cpfcan_BtagPf_trackEtaRel: [, ... ] type='400000 * {\"Cpfcan_BtagPf_trac...'>"
      ]
     },
     "execution_count": 21,
     "metadata": {},
     "output_type": "execute_result"
    }
   ],
   "source": [
    "df_cpf"
   ]
  },
  {
   "cell_type": "code",
   "execution_count": 22,
   "metadata": {},
   "outputs": [
    {
     "data": {
      "text/plain": [
       "<Array [{Npfcan_ptrel: [-0.797, ... 0.976]}] type='400000 * {\"Npfcan_ptrel\": var...'>"
      ]
     },
     "execution_count": 22,
     "metadata": {},
     "output_type": "execute_result"
    }
   ],
   "source": [
    "df_npf"
   ]
  },
  {
   "cell_type": "code",
   "execution_count": 23,
   "metadata": {},
   "outputs": [
    {
     "data": {
      "text/plain": [
       "400000"
      ]
     },
     "execution_count": 23,
     "metadata": {},
     "output_type": "execute_result"
    }
   ],
   "source": [
    "ak.sum(ak.num(df_npf.Npfcan_ptrel[:]) == df_glob.nNpfcand[:])"
   ]
  },
  {
   "cell_type": "code",
   "execution_count": 24,
   "metadata": {},
   "outputs": [
    {
     "data": {
      "text/plain": [
       "<Array [{sv_pt: [40.9, ... sv_enratio: []}] type='400000 * {\"sv_pt\": var * float...'>"
      ]
     },
     "execution_count": 24,
     "metadata": {},
     "output_type": "execute_result"
    }
   ],
   "source": [
    "df_vtx"
   ]
  },
  {
   "cell_type": "code",
   "execution_count": 25,
   "metadata": {},
   "outputs": [
    {
     "data": {
      "text/plain": [
       "<Array [{Cpfcan_pt: [1.26, 1.34, ... 6.44]}] type='400000 * {\"Cpfcan_pt\": var * ...'>"
      ]
     },
     "execution_count": 25,
     "metadata": {},
     "output_type": "execute_result"
    }
   ],
   "source": [
    "df_cpf_pts"
   ]
  },
  {
   "cell_type": "code",
   "execution_count": 26,
   "metadata": {},
   "outputs": [
    {
     "data": {
      "text/plain": [
       "<Array [{Npfcan_pt: [31.6, 3.91, ... 1.86]}] type='400000 * {\"Npfcan_pt\": var * ...'>"
      ]
     },
     "execution_count": 26,
     "metadata": {},
     "output_type": "execute_result"
    }
   ],
   "source": [
    "df_npf_pts"
   ]
  },
  {
   "cell_type": "code",
   "execution_count": 27,
   "metadata": {},
   "outputs": [
    {
     "data": {
      "text/plain": [
       "<Array [{sv_pt: [40.9, 6.99], ... sv_e: []}] type='400000 * {\"sv_pt\": var * floa...'>"
      ]
     },
     "execution_count": 27,
     "metadata": {},
     "output_type": "execute_result"
    }
   ],
   "source": [
    "df_vtx_pts"
   ]
  },
  {
   "cell_type": "code",
   "execution_count": 28,
   "metadata": {},
   "outputs": [],
   "source": [
    "df_cpf_clip = ak.pad_none(df_cpf,25,clip=True)"
   ]
  },
  {
   "cell_type": "code",
   "execution_count": 29,
   "metadata": {},
   "outputs": [],
   "source": [
    "df_npf_clip = ak.pad_none(df_npf,25,clip=True)"
   ]
  },
  {
   "cell_type": "code",
   "execution_count": 30,
   "metadata": {},
   "outputs": [],
   "source": [
    "df_vtx_clip = ak.pad_none(df_vtx,5,clip=True)"
   ]
  },
  {
   "cell_type": "code",
   "execution_count": 31,
   "metadata": {},
   "outputs": [],
   "source": [
    "df_cpf_pts_clip = ak.pad_none(df_cpf_pts,25,clip=True)"
   ]
  },
  {
   "cell_type": "code",
   "execution_count": 32,
   "metadata": {},
   "outputs": [],
   "source": [
    "df_npf_pts_clip = ak.pad_none(df_npf_pts,25,clip=True)"
   ]
  },
  {
   "cell_type": "code",
   "execution_count": 33,
   "metadata": {},
   "outputs": [],
   "source": [
    "df_vtx_pts_clip = ak.pad_none(df_vtx_pts,5,clip=True)"
   ]
  },
  {
   "cell_type": "code",
   "execution_count": 34,
   "metadata": {},
   "outputs": [],
   "source": [
    "glob_np = ak.to_numpy(df_glob)"
   ]
  },
  {
   "cell_type": "code",
   "execution_count": 35,
   "metadata": {},
   "outputs": [],
   "source": [
    "interesting_variable = [#'jet_pt'\n",
    "                   #'jet_eta'\n",
    "                   #'nCpfcand',\n",
    "                   #'nNpfcand',\n",
    "                   #'nsv',\n",
    "                   #'npv',\n",
    "                   #'TagVarCSV_trackSumJetEtRatio',\n",
    "                   #'TagVarCSV_trackSumJetDeltaR',\n",
    "                   #'TagVarCSV_vertexCategory',\n",
    "                   #'TagVarCSV_trackSip2dValAboveCharm',\n",
    "                   #'TagVarCSV_trackSip2dSigAboveCharm',\n",
    "                   #'TagVarCSV_trackSip3dValAboveCharm',\n",
    "                   #'TagVarCSV_trackSip3dSigAboveCharm',\n",
    "                   #'TagVarCSV_jetNSelectedTracks',\n",
    "                   'TagVarCSV_jetNTracksEtaRel'\n",
    "                        ][0]"
   ]
  },
  {
   "cell_type": "code",
   "execution_count": 36,
   "metadata": {
    "scrolled": true
   },
   "outputs": [
    {
     "data": {
      "text/plain": [
       "(array([0., 0., 0., 0., 0., 0., 0., 0., 0., 0., 0., 0., 0., 0., 0., 0., 0.,\n",
       "        0., 0., 0., 0., 0., 0., 0., 0., 0., 0., 0., 0., 0., 0., 0., 0., 0.,\n",
       "        0., 0., 0., 0., 0., 0., 0., 0., 0., 0., 0., 0., 0., 0., 0., 0., 0.,\n",
       "        0., 0., 0., 0., 0., 0., 0., 0., 0., 0., 0., 0., 0., 0., 0., 0., 0.,\n",
       "        0., 0., 0., 0., 0., 0., 0., 0., 0., 0., 0., 0., 0., 0., 0., 0., 0.,\n",
       "        0., 0., 0., 0., 0., 0., 0., 0., 0., 0., 0., 0., 0., 0., 0.]),\n",
       " array([-1000.   ,  -999.985,  -999.97 ,  -999.955,  -999.94 ,  -999.925,\n",
       "         -999.91 ,  -999.895,  -999.88 ,  -999.865,  -999.85 ,  -999.835,\n",
       "         -999.82 ,  -999.805,  -999.79 ,  -999.775,  -999.76 ,  -999.745,\n",
       "         -999.73 ,  -999.715,  -999.7  ,  -999.685,  -999.67 ,  -999.655,\n",
       "         -999.64 ,  -999.625,  -999.61 ,  -999.595,  -999.58 ,  -999.565,\n",
       "         -999.55 ,  -999.535,  -999.52 ,  -999.505,  -999.49 ,  -999.475,\n",
       "         -999.46 ,  -999.445,  -999.43 ,  -999.415,  -999.4  ,  -999.385,\n",
       "         -999.37 ,  -999.355,  -999.34 ,  -999.325,  -999.31 ,  -999.295,\n",
       "         -999.28 ,  -999.265,  -999.25 ,  -999.235,  -999.22 ,  -999.205,\n",
       "         -999.19 ,  -999.175,  -999.16 ,  -999.145,  -999.13 ,  -999.115,\n",
       "         -999.1  ,  -999.085,  -999.07 ,  -999.055,  -999.04 ,  -999.025,\n",
       "         -999.01 ,  -998.995,  -998.98 ,  -998.965,  -998.95 ,  -998.935,\n",
       "         -998.92 ,  -998.905,  -998.89 ,  -998.875,  -998.86 ,  -998.845,\n",
       "         -998.83 ,  -998.815,  -998.8  ,  -998.785,  -998.77 ,  -998.755,\n",
       "         -998.74 ,  -998.725,  -998.71 ,  -998.695,  -998.68 ,  -998.665,\n",
       "         -998.65 ,  -998.635,  -998.62 ,  -998.605,  -998.59 ,  -998.575,\n",
       "         -998.56 ,  -998.545,  -998.53 ,  -998.515,  -998.5  ],\n",
       "       dtype=float32),\n",
       " <BarContainer object of 100 artists>)"
      ]
     },
     "execution_count": 36,
     "metadata": {},
     "output_type": "execute_result"
    },
    {
     "data": {
      "image/png": "[encoded data removed]",
      "text/plain": [
       "<Figure size 432x288 with 1 Axes>"
      ]
     },
     "metadata": {
      "needs_background": "light"
     },
     "output_type": "display_data"
    }
   ],
   "source": [
    "plt.hist(glob_np[interesting_variable], bins=100, range=(-1000,-998.5))"
   ]
  },
  {
   "cell_type": "code",
   "execution_count": 37,
   "metadata": {
    "scrolled": true
   },
   "outputs": [
    {
     "data": {
      "text/plain": [
       "(array([     0.,      0.,      0.,      0.,      0.,      0.,      0.,\n",
       "             0.,      0.,      0.,      0.,      0.,      0.,      0.,\n",
       "             0.,      0.,      0.,      0.,      0.,      0.,      0.,\n",
       "             0.,      0.,      0.,      0.,      0.,      0.,      0.,\n",
       "             0.,      0.,      0.,      0.,      0.,      0.,      0.,\n",
       "             0.,      0.,      0.,      0.,      0.,      0.,      0.,\n",
       "             0.,      0.,      0.,      0.,      0.,      0.,      0.,\n",
       "             0., 239050.,      0.,      0.,      0.,      0.,      0.,\n",
       "             0.,      0.,      0.,      0.,      0.,      0.,      0.,\n",
       "             0.,      0.,      0.,      0.,      0.,      0.,      0.,\n",
       "             0.,      0.,      0.,      0.,      0.,      0.,      0.,\n",
       "             0.,      0.,      0.,      0.,      0.,      0.,      0.,\n",
       "             0.,      0.,      0.,      0.,      0.,      0.,      0.,\n",
       "             0.,      0.,      0.,      0.,      0.,      0.,      0.,\n",
       "             0.,      0.]),\n",
       " array([-1.  , -0.98, -0.96, -0.94, -0.92, -0.9 , -0.88, -0.86, -0.84,\n",
       "        -0.82, -0.8 , -0.78, -0.76, -0.74, -0.72, -0.7 , -0.68, -0.66,\n",
       "        -0.64, -0.62, -0.6 , -0.58, -0.56, -0.54, -0.52, -0.5 , -0.48,\n",
       "        -0.46, -0.44, -0.42, -0.4 , -0.38, -0.36, -0.34, -0.32, -0.3 ,\n",
       "        -0.28, -0.26, -0.24, -0.22, -0.2 , -0.18, -0.16, -0.14, -0.12,\n",
       "        -0.1 , -0.08, -0.06, -0.04, -0.02,  0.  ,  0.02,  0.04,  0.06,\n",
       "         0.08,  0.1 ,  0.12,  0.14,  0.16,  0.18,  0.2 ,  0.22,  0.24,\n",
       "         0.26,  0.28,  0.3 ,  0.32,  0.34,  0.36,  0.38,  0.4 ,  0.42,\n",
       "         0.44,  0.46,  0.48,  0.5 ,  0.52,  0.54,  0.56,  0.58,  0.6 ,\n",
       "         0.62,  0.64,  0.66,  0.68,  0.7 ,  0.72,  0.74,  0.76,  0.78,\n",
       "         0.8 ,  0.82,  0.84,  0.86,  0.88,  0.9 ,  0.92,  0.94,  0.96,\n",
       "         0.98,  1.  ], dtype=float32),\n",
       " <BarContainer object of 100 artists>)"
      ]
     },
     "execution_count": 37,
     "metadata": {},
     "output_type": "execute_result"
    },
    {
     "data": {
      "image/png": "[encoded data removed]",
      "text/plain": [
       "<Figure size 432x288 with 1 Axes>"
      ]
     },
     "metadata": {
      "needs_background": "light"
     },
     "output_type": "display_data"
    }
   ],
   "source": [
    "plt.hist(glob_np[interesting_variable], bins=100, range=(-1,1))"
   ]
  },
  {
   "cell_type": "code",
   "execution_count": 38,
   "metadata": {
    "scrolled": true
   },
   "outputs": [
    {
     "data": {
      "text/plain": [
       "(array([     0.,      0.,      0.,      0.,      0.,      0.,      0.,\n",
       "             0.,      0.,      0.,      0.,      0.,      0.,      0.,\n",
       "             0.,      0.,      0.,      0.,      0.,      0.,      0.,\n",
       "             0.,      0.,      0.,      0.,      0.,      0.,      0.,\n",
       "             0.,      0.,      0.,      0.,      0.,      0.,      0.,\n",
       "             0.,      0.,      0.,      0.,      0.,      0.,      0.,\n",
       "             0.,      0.,      0.,      0.,      0.,      0.,      0.,\n",
       "             0., 239050.,      0.,      0.,      0.,      0.,      0.,\n",
       "             0.,      0.,      0.,      0.,      0.,      0.,      0.,\n",
       "             0.,      0.,      0.,      0.,      0.,      0.,      0.,\n",
       "             0.,      0.,      0.,      0.,      0.,      0.,      0.,\n",
       "             0.,      0.,      0.,      0.,      0.,      0.,      0.,\n",
       "             0.,      0.,      0.,      0.,      0.,      0.,      0.,\n",
       "             0.,      0.,      0.,      0.,      0.,      0.,      0.,\n",
       "             0.,      0.]),\n",
       " array([-1.0e-03, -9.8e-04, -9.6e-04, -9.4e-04, -9.2e-04, -9.0e-04,\n",
       "        -8.8e-04, -8.6e-04, -8.4e-04, -8.2e-04, -8.0e-04, -7.8e-04,\n",
       "        -7.6e-04, -7.4e-04, -7.2e-04, -7.0e-04, -6.8e-04, -6.6e-04,\n",
       "        -6.4e-04, -6.2e-04, -6.0e-04, -5.8e-04, -5.6e-04, -5.4e-04,\n",
       "        -5.2e-04, -5.0e-04, -4.8e-04, -4.6e-04, -4.4e-04, -4.2e-04,\n",
       "        -4.0e-04, -3.8e-04, -3.6e-04, -3.4e-04, -3.2e-04, -3.0e-04,\n",
       "        -2.8e-04, -2.6e-04, -2.4e-04, -2.2e-04, -2.0e-04, -1.8e-04,\n",
       "        -1.6e-04, -1.4e-04, -1.2e-04, -1.0e-04, -8.0e-05, -6.0e-05,\n",
       "        -4.0e-05, -2.0e-05,  0.0e+00,  2.0e-05,  4.0e-05,  6.0e-05,\n",
       "         8.0e-05,  1.0e-04,  1.2e-04,  1.4e-04,  1.6e-04,  1.8e-04,\n",
       "         2.0e-04,  2.2e-04,  2.4e-04,  2.6e-04,  2.8e-04,  3.0e-04,\n",
       "         3.2e-04,  3.4e-04,  3.6e-04,  3.8e-04,  4.0e-04,  4.2e-04,\n",
       "         4.4e-04,  4.6e-04,  4.8e-04,  5.0e-04,  5.2e-04,  5.4e-04,\n",
       "         5.6e-04,  5.8e-04,  6.0e-04,  6.2e-04,  6.4e-04,  6.6e-04,\n",
       "         6.8e-04,  7.0e-04,  7.2e-04,  7.4e-04,  7.6e-04,  7.8e-04,\n",
       "         8.0e-04,  8.2e-04,  8.4e-04,  8.6e-04,  8.8e-04,  9.0e-04,\n",
       "         9.2e-04,  9.4e-04,  9.6e-04,  9.8e-04,  1.0e-03], dtype=float32),\n",
       " <BarContainer object of 100 artists>)"
      ]
     },
     "execution_count": 38,
     "metadata": {},
     "output_type": "execute_result"
    },
    {
     "data": {
      "image/png": "[encoded data removed]",
      "text/plain": [
       "<Figure size 432x288 with 1 Axes>"
      ]
     },
     "metadata": {
      "needs_background": "light"
     },
     "output_type": "display_data"
    }
   ],
   "source": [
    "plt.hist(glob_np[interesting_variable], bins=100, range=(-0.001,0.001))"
   ]
  },
  {
   "cell_type": "code",
   "execution_count": 39,
   "metadata": {
    "scrolled": true
   },
   "outputs": [
    {
     "data": {
      "text/plain": [
       "(array([0., 0., 0., 0., 0., 0., 0., 0., 0., 0., 0., 0., 0., 0., 0., 0., 0.,\n",
       "        0., 0., 0., 0., 0., 0., 0., 0., 0., 0., 0., 0., 0., 0., 0., 0., 0.,\n",
       "        0., 0., 0., 0., 0., 0., 0., 0., 0., 0., 0., 0., 0., 0., 0., 0., 0.,\n",
       "        0., 0., 0., 0., 0., 0., 0., 0., 0., 0., 0., 0., 0., 0., 0., 0., 0.,\n",
       "        0., 0., 0., 0., 0., 0., 0., 0., 0., 0., 0., 0., 0., 0., 0., 0., 0.,\n",
       "        0., 0., 0., 0., 0., 0., 0., 0., 0., 0., 0., 0., 0., 0., 0.]),\n",
       " array([-1.0001e+01, -9.9010e+00, -9.8010e+00, -9.7010e+00, -9.6010e+00,\n",
       "        -9.5010e+00, -9.4010e+00, -9.3010e+00, -9.2010e+00, -9.1010e+00,\n",
       "        -9.0010e+00, -8.9010e+00, -8.8010e+00, -8.7010e+00, -8.6010e+00,\n",
       "        -8.5010e+00, -8.4010e+00, -8.3010e+00, -8.2010e+00, -8.1010e+00,\n",
       "        -8.0010e+00, -7.9010e+00, -7.8010e+00, -7.7010e+00, -7.6010e+00,\n",
       "        -7.5010e+00, -7.4010e+00, -7.3010e+00, -7.2010e+00, -7.1010e+00,\n",
       "        -7.0010e+00, -6.9010e+00, -6.8010e+00, -6.7010e+00, -6.6010e+00,\n",
       "        -6.5010e+00, -6.4010e+00, -6.3010e+00, -6.2010e+00, -6.1010e+00,\n",
       "        -6.0010e+00, -5.9010e+00, -5.8010e+00, -5.7010e+00, -5.6010e+00,\n",
       "        -5.5010e+00, -5.4010e+00, -5.3010e+00, -5.2010e+00, -5.1010e+00,\n",
       "        -5.0010e+00, -4.9010e+00, -4.8010e+00, -4.7010e+00, -4.6010e+00,\n",
       "        -4.5010e+00, -4.4010e+00, -4.3010e+00, -4.2010e+00, -4.1010e+00,\n",
       "        -4.0010e+00, -3.9010e+00, -3.8010e+00, -3.7010e+00, -3.6010e+00,\n",
       "        -3.5010e+00, -3.4010e+00, -3.3010e+00, -3.2010e+00, -3.1010e+00,\n",
       "        -3.0010e+00, -2.9010e+00, -2.8010e+00, -2.7010e+00, -2.6010e+00,\n",
       "        -2.5010e+00, -2.4010e+00, -2.3010e+00, -2.2010e+00, -2.1010e+00,\n",
       "        -2.0010e+00, -1.9010e+00, -1.8010e+00, -1.7010e+00, -1.6010e+00,\n",
       "        -1.5010e+00, -1.4010e+00, -1.3010e+00, -1.2010e+00, -1.1010e+00,\n",
       "        -1.0010e+00, -9.0100e-01, -8.0100e-01, -7.0100e-01, -6.0100e-01,\n",
       "        -5.0100e-01, -4.0100e-01, -3.0100e-01, -2.0100e-01, -1.0100e-01,\n",
       "        -1.0000e-03], dtype=float32),\n",
       " <BarContainer object of 100 artists>)"
      ]
     },
     "execution_count": 39,
     "metadata": {},
     "output_type": "execute_result"
    },
    {
     "data": {
      "image/png": "[encoded data removed]",
      "text/plain": [
       "<Figure size 432x288 with 1 Axes>"
      ]
     },
     "metadata": {
      "needs_background": "light"
     },
     "output_type": "display_data"
    }
   ],
   "source": [
    "plt.hist(glob_np[interesting_variable], bins=100, range=(-10.001,-0.001))"
   ]
  },
  {
   "cell_type": "code",
   "execution_count": 40,
   "metadata": {
    "scrolled": true
   },
   "outputs": [
    {
     "data": {
      "text/plain": [
       "(array([0., 0., 0., 0., 0., 0., 0., 0., 0., 0., 0., 0., 0., 0., 0., 0., 0.,\n",
       "        0., 0., 0., 0., 0., 0., 0., 0., 0., 0., 0., 0., 0., 0., 0., 0., 0.,\n",
       "        0., 0., 0., 0., 0., 0., 0., 0., 0., 0., 0., 0., 0., 0., 0., 0., 0.,\n",
       "        0., 0., 0., 0., 0., 0., 0., 0., 0., 0., 0., 0., 0., 0., 0., 0., 0.,\n",
       "        0., 0., 0., 0., 0., 0., 0., 0., 0., 0., 0., 0., 0., 0., 0., 0., 0.,\n",
       "        0., 0., 0., 0., 0., 0., 0., 0., 0., 0., 0., 0., 0., 0., 0.]),\n",
       " array([0.001  , 0.00599, 0.01098, 0.01597, 0.02096, 0.02595, 0.03094,\n",
       "        0.03593, 0.04092, 0.04591, 0.0509 , 0.05589, 0.06088, 0.06587,\n",
       "        0.07086, 0.07585, 0.08084, 0.08583, 0.09082, 0.09581, 0.1008 ,\n",
       "        0.10579, 0.11078, 0.11577, 0.12076, 0.12575, 0.13074, 0.13573,\n",
       "        0.14072, 0.14571, 0.1507 , 0.15569, 0.16068, 0.16567, 0.17066,\n",
       "        0.17565, 0.18064, 0.18563, 0.19062, 0.19561, 0.2006 , 0.20559,\n",
       "        0.21058, 0.21557, 0.22056, 0.22555, 0.23054, 0.23553, 0.24052,\n",
       "        0.24551, 0.2505 , 0.25549, 0.26048, 0.26547, 0.27046, 0.27545,\n",
       "        0.28044, 0.28543, 0.29042, 0.29541, 0.3004 , 0.30539, 0.31038,\n",
       "        0.31537, 0.32036, 0.32535, 0.33034, 0.33533, 0.34032, 0.34531,\n",
       "        0.3503 , 0.35529, 0.36028, 0.36527, 0.37026, 0.37525, 0.38024,\n",
       "        0.38523, 0.39022, 0.39521, 0.4002 , 0.40519, 0.41018, 0.41517,\n",
       "        0.42016, 0.42515, 0.43014, 0.43513, 0.44012, 0.44511, 0.4501 ,\n",
       "        0.45509, 0.46008, 0.46507, 0.47006, 0.47505, 0.48004, 0.48503,\n",
       "        0.49002, 0.49501, 0.5    ], dtype=float32),\n",
       " <BarContainer object of 100 artists>)"
      ]
     },
     "execution_count": 40,
     "metadata": {},
     "output_type": "execute_result"
    },
    {
     "data": {
      "image/png": "[encoded data removed]",
      "text/plain": [
       "<Figure size 432x288 with 1 Axes>"
      ]
     },
     "metadata": {
      "needs_background": "light"
     },
     "output_type": "display_data"
    }
   ],
   "source": [
    "plt.hist(glob_np[interesting_variable], bins=100, range=(0.001,0.5))"
   ]
  },
  {
   "cell_type": "code",
   "execution_count": 41,
   "metadata": {
    "scrolled": true
   },
   "outputs": [
    {
     "data": {
      "text/plain": [
       "(array([2.3905e+05, 0.0000e+00, 0.0000e+00, 0.0000e+00, 0.0000e+00,\n",
       "        5.6897e+04, 0.0000e+00, 3.4084e+04, 0.0000e+00, 0.0000e+00,\n",
       "        2.3844e+04, 0.0000e+00, 1.6761e+04, 0.0000e+00, 0.0000e+00,\n",
       "        1.0569e+04, 0.0000e+00, 6.8460e+03, 0.0000e+00, 0.0000e+00,\n",
       "        4.4080e+03, 0.0000e+00, 0.0000e+00, 2.7110e+03, 0.0000e+00,\n",
       "        1.6390e+03, 0.0000e+00, 0.0000e+00, 1.1410e+03, 0.0000e+00,\n",
       "        7.4400e+02, 0.0000e+00, 0.0000e+00, 4.4400e+02, 0.0000e+00,\n",
       "        3.0400e+02, 0.0000e+00, 0.0000e+00, 2.0000e+02, 0.0000e+00,\n",
       "        0.0000e+00, 1.2400e+02, 0.0000e+00, 6.7000e+01, 0.0000e+00,\n",
       "        0.0000e+00, 5.4000e+01, 0.0000e+00, 4.2000e+01, 0.0000e+00,\n",
       "        0.0000e+00, 2.7000e+01, 0.0000e+00, 1.8000e+01, 0.0000e+00,\n",
       "        0.0000e+00, 7.0000e+00, 0.0000e+00, 6.0000e+00, 0.0000e+00,\n",
       "        0.0000e+00, 5.0000e+00, 0.0000e+00, 0.0000e+00, 4.0000e+00,\n",
       "        0.0000e+00, 1.0000e+00, 0.0000e+00, 0.0000e+00, 0.0000e+00,\n",
       "        0.0000e+00, 0.0000e+00, 0.0000e+00, 0.0000e+00, 2.0000e+00,\n",
       "        0.0000e+00, 0.0000e+00, 0.0000e+00, 0.0000e+00, 0.0000e+00,\n",
       "        0.0000e+00, 0.0000e+00, 0.0000e+00, 0.0000e+00, 0.0000e+00,\n",
       "        0.0000e+00, 0.0000e+00, 0.0000e+00, 0.0000e+00, 0.0000e+00,\n",
       "        0.0000e+00, 0.0000e+00, 0.0000e+00, 0.0000e+00, 0.0000e+00,\n",
       "        0.0000e+00, 0.0000e+00, 0.0000e+00, 0.0000e+00, 1.0000e+00]),\n",
       " array([ 0.  ,  0.39,  0.78,  1.17,  1.56,  1.95,  2.34,  2.73,  3.12,\n",
       "         3.51,  3.9 ,  4.29,  4.68,  5.07,  5.46,  5.85,  6.24,  6.63,\n",
       "         7.02,  7.41,  7.8 ,  8.19,  8.58,  8.97,  9.36,  9.75, 10.14,\n",
       "        10.53, 10.92, 11.31, 11.7 , 12.09, 12.48, 12.87, 13.26, 13.65,\n",
       "        14.04, 14.43, 14.82, 15.21, 15.6 , 15.99, 16.38, 16.77, 17.16,\n",
       "        17.55, 17.94, 18.33, 18.72, 19.11, 19.5 , 19.89, 20.28, 20.67,\n",
       "        21.06, 21.45, 21.84, 22.23, 22.62, 23.01, 23.4 , 23.79, 24.18,\n",
       "        24.57, 24.96, 25.35, 25.74, 26.13, 26.52, 26.91, 27.3 , 27.69,\n",
       "        28.08, 28.47, 28.86, 29.25, 29.64, 30.03, 30.42, 30.81, 31.2 ,\n",
       "        31.59, 31.98, 32.37, 32.76, 33.15, 33.54, 33.93, 34.32, 34.71,\n",
       "        35.1 , 35.49, 35.88, 36.27, 36.66, 37.05, 37.44, 37.83, 38.22,\n",
       "        38.61, 39.  ], dtype=float32),\n",
       " <BarContainer object of 100 artists>)"
      ]
     },
     "execution_count": 41,
     "metadata": {},
     "output_type": "execute_result"
    },
    {
     "data": {
      "image/png": "[encoded data removed]",
      "text/plain": [
       "<Figure size 432x288 with 1 Axes>"
      ]
     },
     "metadata": {
      "needs_background": "light"
     },
     "output_type": "display_data"
    }
   ],
   "source": [
    "plt.hist(glob_np[interesting_variable], bins=100)"
   ]
  },
  {
   "cell_type": "code",
   "execution_count": 42,
   "metadata": {},
   "outputs": [],
   "source": [
    "first_cpf_stuff = ak.to_numpy(df_cpf_clip[:,0])"
   ]
  },
  {
   "cell_type": "code",
   "execution_count": 43,
   "metadata": {},
   "outputs": [
    {
     "data": {
      "text/plain": [
       "array([(2.582552 , 0.49685094,  3.394601 , 0.39111567, 0.9894577 , 5.4323955e+00, 37.440704 ,  5.545766  , 35.92345  , -5.9487438e-01, -0.99191874, -0.0857321 , 1., 0.99607843, 0., 5.),\n",
       "       (3.2344155, 1.2677245 , 16.166862 , 0.17650335, 0.99693966, 1.9267578e-02,  6.4249744,  0.01938684,  6.5175204, -6.8419287e-04, -0.85861206, -0.37429464, 5., 0.99607843, 1., 5.),\n",
       "       (3.7448602, 0.36129934,  8.187844 , 0.05083602, 0.99902785, 7.7131581e-01, 11.896003 ,  1.9440634 ,  4.773617 , -5.4043323e-01, -0.9541272 , -0.11601138, 1., 1.        , 0., 5.),\n",
       "       ...,\n",
       "       (2.0939517, 0.8365904 ,  3.389952 , 0.25886315, 0.9708724 , 1.0162419e+00, 31.516325 ,  1.7154119 , 32.835575 , -3.9626923e-01, -0.8455641 , -0.16507532, 1., 0.8039216 , 1., 5.),\n",
       "       (1.8156571, 0.60079455,  1.8449464, 0.34012446, 0.95085406, 7.1349998e+00, 67.35532  ,  7.9013305 , 38.974224 , -1.0704285e+00, -0.9239618 ,  0.        , 1., 0.8509804 , 0., 5.),\n",
       "       (2.489805 , 1.08292   ,  6.5381584, 0.281623  , 0.98655915, 4.0307622e-03,  2.332717 , -0.00892789, -1.       , -8.1940182e-03, -0.94669753,  0.        , 5., 0.98039216, 1., 5.)],\n",
       "      dtype=[('Cpfcan_BtagPf_trackEtaRel', '<f4'), ('Cpfcan_BtagPf_trackPtRel', '<f4'), ('Cpfcan_BtagPf_trackPPar', '<f4'), ('Cpfcan_BtagPf_trackDeltaR', '<f4'), ('Cpfcan_BtagPf_trackPParRatio', '<f4'), ('Cpfcan_BtagPf_trackSip2dVal', '<f4'), ('Cpfcan_BtagPf_trackSip2dSig', '<f4'), ('Cpfcan_BtagPf_trackSip3dVal', '<f4'), ('Cpfcan_BtagPf_trackSip3dSig', '<f4'), ('Cpfcan_BtagPf_trackJetDistVal', '<f4'), ('Cpfcan_ptrel', '<f4'), ('Cpfcan_drminsv', '<f4'), ('Cpfcan_VTX_ass', '<f4'), ('Cpfcan_puppiw', '<f4'), ('Cpfcan_chi2', '<f4'), ('Cpfcan_quality', '<f4')])"
      ]
     },
     "execution_count": 43,
     "metadata": {},
     "output_type": "execute_result"
    }
   ],
   "source": [
    "first_cpf_stuff"
   ]
  },
  {
   "cell_type": "code",
   "execution_count": 44,
   "metadata": {
    "scrolled": true
   },
   "outputs": [
    {
     "data": {
      "text/plain": [
       "(array([0., 0., 0., 0., 0., 0., 0., 0., 0., 0., 0., 0., 0., 0., 0., 0., 0.,\n",
       "        0., 0., 0., 0., 0., 0., 0., 0., 0., 0., 0., 0., 0., 0., 0., 0., 0.,\n",
       "        0., 0., 0., 0., 0., 0., 0., 0., 0., 0., 0., 0., 0., 0., 0., 0., 0.,\n",
       "        0., 0., 0., 0., 0., 0., 0., 0., 0., 0., 0., 0., 0., 0., 0., 0., 0.,\n",
       "        0., 0., 0., 0., 0., 0., 0., 0., 0., 0., 0., 0., 0., 0., 0., 0., 0.,\n",
       "        0., 0., 0., 0., 0., 0., 0., 0., 0., 0., 0., 0., 0., 0., 0.]),\n",
       " array([-1000.  ,  -999.98,  -999.96,  -999.94,  -999.92,  -999.9 ,\n",
       "         -999.88,  -999.86,  -999.84,  -999.82,  -999.8 ,  -999.78,\n",
       "         -999.76,  -999.74,  -999.72,  -999.7 ,  -999.68,  -999.66,\n",
       "         -999.64,  -999.62,  -999.6 ,  -999.58,  -999.56,  -999.54,\n",
       "         -999.52,  -999.5 ,  -999.48,  -999.46,  -999.44,  -999.42,\n",
       "         -999.4 ,  -999.38,  -999.36,  -999.34,  -999.32,  -999.3 ,\n",
       "         -999.28,  -999.26,  -999.24,  -999.22,  -999.2 ,  -999.18,\n",
       "         -999.16,  -999.14,  -999.12,  -999.1 ,  -999.08,  -999.06,\n",
       "         -999.04,  -999.02,  -999.  ,  -998.98,  -998.96,  -998.94,\n",
       "         -998.92,  -998.9 ,  -998.88,  -998.86,  -998.84,  -998.82,\n",
       "         -998.8 ,  -998.78,  -998.76,  -998.74,  -998.72,  -998.7 ,\n",
       "         -998.68,  -998.66,  -998.64,  -998.62,  -998.6 ,  -998.58,\n",
       "         -998.56,  -998.54,  -998.52,  -998.5 ,  -998.48,  -998.46,\n",
       "         -998.44,  -998.42,  -998.4 ,  -998.38,  -998.36,  -998.34,\n",
       "         -998.32,  -998.3 ,  -998.28,  -998.26,  -998.24,  -998.22,\n",
       "         -998.2 ,  -998.18,  -998.16,  -998.14,  -998.12,  -998.1 ,\n",
       "         -998.08,  -998.06,  -998.04,  -998.02,  -998.  ], dtype=float32),\n",
       " <BarContainer object of 100 artists>)"
      ]
     },
     "execution_count": 44,
     "metadata": {},
     "output_type": "execute_result"
    },
    {
     "data": {
      "image/png": "[encoded data removed]",
      "text/plain": [
       "<Figure size 432x288 with 1 Axes>"
      ]
     },
     "metadata": {
      "needs_background": "light"
     },
     "output_type": "display_data"
    }
   ],
   "source": [
    "interesting_variable = 'Cpfcan_ptrel'\n",
    "#plt.hist(first_cpf_stuff[interesting_variable],bins=100)\n",
    "plt.hist(first_cpf_stuff[interesting_variable],bins=100,range=(-1000,-998))"
   ]
  },
  {
   "cell_type": "code",
   "execution_count": 45,
   "metadata": {
    "scrolled": true
   },
   "outputs": [
    {
     "data": {
      "text/plain": [
       "(array([0.0000e+00, 9.9848e+04, 5.3223e+04, 3.7953e+04, 2.9633e+04,\n",
       "        2.4384e+04, 2.0394e+04, 1.6328e+04, 1.3409e+04, 1.1079e+04,\n",
       "        9.4580e+03, 7.8270e+03, 6.8470e+03, 5.9520e+03, 5.3260e+03,\n",
       "        4.5480e+03, 4.0880e+03, 3.5750e+03, 3.1650e+03, 2.9350e+03,\n",
       "        2.6520e+03, 2.4910e+03, 2.1850e+03, 2.0350e+03, 1.7910e+03,\n",
       "        1.6650e+03, 1.5040e+03, 1.3490e+03, 1.2670e+03, 1.2280e+03,\n",
       "        1.0840e+03, 1.0000e+03, 9.1500e+02, 8.4500e+02, 7.9700e+02,\n",
       "        7.5900e+02, 6.9800e+02, 6.1100e+02, 5.7100e+02, 5.6500e+02,\n",
       "        5.1300e+02, 4.6600e+02, 4.3900e+02, 4.1700e+02, 4.0100e+02,\n",
       "        3.5500e+02, 3.5200e+02, 3.1800e+02, 2.8500e+02, 2.5400e+02,\n",
       "        2.5200e+02, 2.5000e+02, 2.1200e+02, 2.2300e+02, 1.9100e+02,\n",
       "        1.7800e+02, 1.9700e+02, 1.7800e+02, 1.6800e+02, 1.4100e+02,\n",
       "        1.5200e+02, 1.4200e+02, 1.4000e+02, 1.1600e+02, 1.2000e+02,\n",
       "        1.1300e+02, 1.1500e+02, 1.1400e+02, 1.1000e+02, 1.0500e+02,\n",
       "        9.2000e+01, 9.6000e+01, 8.2000e+01, 9.9000e+01, 8.1000e+01,\n",
       "        9.4000e+01, 8.8000e+01, 8.9000e+01, 8.7000e+01, 1.0300e+02,\n",
       "        9.2000e+01, 1.0600e+02, 1.1100e+02, 1.2700e+02, 1.3600e+02,\n",
       "        1.6500e+02, 1.5500e+02, 1.7100e+02, 1.9200e+02, 2.2800e+02,\n",
       "        2.3200e+02, 2.9400e+02, 3.3900e+02, 3.6100e+02, 4.3100e+02,\n",
       "        4.2200e+02, 4.9000e+02, 5.3600e+02, 5.1600e+02, 7.6400e+02]),\n",
       " array([-1.01  , -0.9999, -0.9898, -0.9797, -0.9696, -0.9595, -0.9494,\n",
       "        -0.9393, -0.9292, -0.9191, -0.909 , -0.8989, -0.8888, -0.8787,\n",
       "        -0.8686, -0.8585, -0.8484, -0.8383, -0.8282, -0.8181, -0.808 ,\n",
       "        -0.7979, -0.7878, -0.7777, -0.7676, -0.7575, -0.7474, -0.7373,\n",
       "        -0.7272, -0.7171, -0.707 , -0.6969, -0.6868, -0.6767, -0.6666,\n",
       "        -0.6565, -0.6464, -0.6363, -0.6262, -0.6161, -0.606 , -0.5959,\n",
       "        -0.5858, -0.5757, -0.5656, -0.5555, -0.5454, -0.5353, -0.5252,\n",
       "        -0.5151, -0.505 , -0.4949, -0.4848, -0.4747, -0.4646, -0.4545,\n",
       "        -0.4444, -0.4343, -0.4242, -0.4141, -0.404 , -0.3939, -0.3838,\n",
       "        -0.3737, -0.3636, -0.3535, -0.3434, -0.3333, -0.3232, -0.3131,\n",
       "        -0.303 , -0.2929, -0.2828, -0.2727, -0.2626, -0.2525, -0.2424,\n",
       "        -0.2323, -0.2222, -0.2121, -0.202 , -0.1919, -0.1818, -0.1717,\n",
       "        -0.1616, -0.1515, -0.1414, -0.1313, -0.1212, -0.1111, -0.101 ,\n",
       "        -0.0909, -0.0808, -0.0707, -0.0606, -0.0505, -0.0404, -0.0303,\n",
       "        -0.0202, -0.0101,  0.    ], dtype=float32),\n",
       " <BarContainer object of 100 artists>)"
      ]
     },
     "execution_count": 45,
     "metadata": {},
     "output_type": "execute_result"
    },
    {
     "data": {
      "image/png": "[encoded data removed]",
      "text/plain": [
       "<Figure size 432x288 with 1 Axes>"
      ]
     },
     "metadata": {
      "needs_background": "light"
     },
     "output_type": "display_data"
    }
   ],
   "source": [
    "plt.hist(first_cpf_stuff[interesting_variable],bins=100,range=(-1.01,0))"
   ]
  },
  {
   "cell_type": "code",
   "execution_count": 46,
   "metadata": {
    "scrolled": true
   },
   "outputs": [
    {
     "data": {
      "text/plain": [
       "(array([ 62.,  55.,  61.,  57.,  53.,  64.,  40.,  52.,  43.,  47.,  53.,\n",
       "         44.,  44.,  45.,  50.,  47.,  43.,  39.,  44.,  47.,  49.,  44.,\n",
       "         41.,  39.,  44.,  32.,  31.,  40.,  43.,  30.,  33.,  28.,  36.,\n",
       "         41.,  43.,  28.,  39.,  36.,  29.,  42.,  31.,  40.,  34.,  28.,\n",
       "         40.,  37.,  32.,  44.,  38.,  35.,  32.,  43.,  38.,  40.,  48.,\n",
       "         42.,  47.,  53.,  51.,  54.,  56.,  48.,  70.,  57.,  64.,  51.,\n",
       "         67.,  71.,  68.,  69.,  83.,  70.,  86.,  89.,  88.,  88.,  93.,\n",
       "        119., 102., 133., 127., 138., 136., 161., 133., 160., 177., 170.,\n",
       "        162., 182., 165., 209., 222., 201., 219., 216., 196., 168., 117.,\n",
       "        574.]),\n",
       " array([-0.4  , -0.396, -0.392, -0.388, -0.384, -0.38 , -0.376, -0.372,\n",
       "        -0.368, -0.364, -0.36 , -0.356, -0.352, -0.348, -0.344, -0.34 ,\n",
       "        -0.336, -0.332, -0.328, -0.324, -0.32 , -0.316, -0.312, -0.308,\n",
       "        -0.304, -0.3  , -0.296, -0.292, -0.288, -0.284, -0.28 , -0.276,\n",
       "        -0.272, -0.268, -0.264, -0.26 , -0.256, -0.252, -0.248, -0.244,\n",
       "        -0.24 , -0.236, -0.232, -0.228, -0.224, -0.22 , -0.216, -0.212,\n",
       "        -0.208, -0.204, -0.2  , -0.196, -0.192, -0.188, -0.184, -0.18 ,\n",
       "        -0.176, -0.172, -0.168, -0.164, -0.16 , -0.156, -0.152, -0.148,\n",
       "        -0.144, -0.14 , -0.136, -0.132, -0.128, -0.124, -0.12 , -0.116,\n",
       "        -0.112, -0.108, -0.104, -0.1  , -0.096, -0.092, -0.088, -0.084,\n",
       "        -0.08 , -0.076, -0.072, -0.068, -0.064, -0.06 , -0.056, -0.052,\n",
       "        -0.048, -0.044, -0.04 , -0.036, -0.032, -0.028, -0.024, -0.02 ,\n",
       "        -0.016, -0.012, -0.008, -0.004,  0.   ], dtype=float32),\n",
       " <BarContainer object of 100 artists>)"
      ]
     },
     "execution_count": 46,
     "metadata": {},
     "output_type": "execute_result"
    },
    {
     "data": {
      "image/png": "[encoded data removed]",
      "text/plain": [
       "<Figure size 432x288 with 1 Axes>"
      ]
     },
     "metadata": {
      "needs_background": "light"
     },
     "output_type": "display_data"
    }
   ],
   "source": [
    "plt.hist(first_cpf_stuff[interesting_variable],bins=100,range=(-0.40,0))"
   ]
  },
  {
   "cell_type": "code",
   "execution_count": 47,
   "metadata": {
    "scrolled": true
   },
   "outputs": [
    {
     "data": {
      "text/plain": [
       "(array([   0.,    0.,    0.,    0.,    0.,    0.,    0.,    0.,    0.,\n",
       "           0.,    0.,    0.,    0.,    0.,    0.,    0.,    0.,    0.,\n",
       "           0.,    0.,    0.,    0.,    0.,    0.,    0.,    0.,    0.,\n",
       "           0.,    0.,    0.,    0.,    0.,    0.,    0.,    0.,    0.,\n",
       "           0.,    0.,    0.,    0.,    0.,    0.,    0.,    0.,    0.,\n",
       "           0.,    0.,    0.,    0.,    0.,    0.,    0.,   58.,  445.,\n",
       "         948., 1818., 2403., 2832., 3185., 3288., 3409., 3283., 3265.,\n",
       "        3066., 3025., 3028., 2960., 2877., 2692., 2509., 2559., 2552.,\n",
       "        2341., 2241., 2160., 2121., 2047., 1954., 1959., 1981., 1916.,\n",
       "        1815., 1814., 1789., 1660., 1745., 1617., 1619., 1625., 1581.,\n",
       "        1517., 1569., 1482., 1447., 1408., 1349., 1380., 1320., 1427.,\n",
       "        1361.]),\n",
       " array([-1.01  , -1.0098, -1.0096, -1.0094, -1.0092, -1.009 , -1.0088,\n",
       "        -1.0086, -1.0084, -1.0082, -1.008 , -1.0078, -1.0076, -1.0074,\n",
       "        -1.0072, -1.007 , -1.0068, -1.0066, -1.0064, -1.0062, -1.006 ,\n",
       "        -1.0058, -1.0056, -1.0054, -1.0052, -1.005 , -1.0048, -1.0046,\n",
       "        -1.0044, -1.0042, -1.004 , -1.0038, -1.0036, -1.0034, -1.0032,\n",
       "        -1.003 , -1.0028, -1.0026, -1.0024, -1.0022, -1.002 , -1.0018,\n",
       "        -1.0016, -1.0014, -1.0012, -1.001 , -1.0008, -1.0006, -1.0004,\n",
       "        -1.0002, -1.    , -0.9998, -0.9996, -0.9994, -0.9992, -0.999 ,\n",
       "        -0.9988, -0.9986, -0.9984, -0.9982, -0.998 , -0.9978, -0.9976,\n",
       "        -0.9974, -0.9972, -0.997 , -0.9968, -0.9966, -0.9964, -0.9962,\n",
       "        -0.996 , -0.9958, -0.9956, -0.9954, -0.9952, -0.995 , -0.9948,\n",
       "        -0.9946, -0.9944, -0.9942, -0.994 , -0.9938, -0.9936, -0.9934,\n",
       "        -0.9932, -0.993 , -0.9928, -0.9926, -0.9924, -0.9922, -0.992 ,\n",
       "        -0.9918, -0.9916, -0.9914, -0.9912, -0.991 , -0.9908, -0.9906,\n",
       "        -0.9904, -0.9902, -0.99  ], dtype=float32),\n",
       " <BarContainer object of 100 artists>)"
      ]
     },
     "execution_count": 47,
     "metadata": {},
     "output_type": "execute_result"
    },
    {
     "data": {
      "image/png": "[encoded data removed]",
      "text/plain": [
       "<Figure size 432x288 with 1 Axes>"
      ]
     },
     "metadata": {
      "needs_background": "light"
     },
     "output_type": "display_data"
    }
   ],
   "source": [
    "plt.hist(first_cpf_stuff[interesting_variable],bins=100,range=(-1.01,-0.99))"
   ]
  },
  {
   "cell_type": "code",
   "execution_count": 48,
   "metadata": {
    "scrolled": true
   },
   "outputs": [
    {
     "data": {
      "text/plain": [
       "(array([  5.,   4.,   6.,   7.,   4.,   6.,   5.,  12.,  11.,   8.,  11.,\n",
       "          6.,   4.,   6.,  10.,   6.,   4.,   6.,   4.,   4.,   6.,  11.,\n",
       "          5.,   4.,   3.,   4.,   2.,   9.,   7.,   5.,   1.,   3.,   6.,\n",
       "          1.,   3.,   2.,   4.,   2.,   2.,   2.,   1.,   0.,   0.,   1.,\n",
       "          0.,   0.,   0.,   4.,  54.,  83., 625.,   0.,   0.,   0.,   0.,\n",
       "          0.,   0.,   0.,   0.,   0.,   0.,   0.,   0.,   0.,   0.,   0.,\n",
       "          0.,   0.,   0.,   0.,   0.,   0.,   0.,   0.,   0.,   0.,   0.,\n",
       "          0.,   0.,   0.,   0.,   0.,   0.,   0.,   0.,   0.,   0.,   0.,\n",
       "          0.,   0.,   0.,   0.,   0.,   0.,   0.,   0.,   0.,   0.,   0.,\n",
       "          0.]),\n",
       " array([-0.01  , -0.0098, -0.0096, -0.0094, -0.0092, -0.009 , -0.0088,\n",
       "        -0.0086, -0.0084, -0.0082, -0.008 , -0.0078, -0.0076, -0.0074,\n",
       "        -0.0072, -0.007 , -0.0068, -0.0066, -0.0064, -0.0062, -0.006 ,\n",
       "        -0.0058, -0.0056, -0.0054, -0.0052, -0.005 , -0.0048, -0.0046,\n",
       "        -0.0044, -0.0042, -0.004 , -0.0038, -0.0036, -0.0034, -0.0032,\n",
       "        -0.003 , -0.0028, -0.0026, -0.0024, -0.0022, -0.002 , -0.0018,\n",
       "        -0.0016, -0.0014, -0.0012, -0.001 , -0.0008, -0.0006, -0.0004,\n",
       "        -0.0002,  0.    ,  0.0002,  0.0004,  0.0006,  0.0008,  0.001 ,\n",
       "         0.0012,  0.0014,  0.0016,  0.0018,  0.002 ,  0.0022,  0.0024,\n",
       "         0.0026,  0.0028,  0.003 ,  0.0032,  0.0034,  0.0036,  0.0038,\n",
       "         0.004 ,  0.0042,  0.0044,  0.0046,  0.0048,  0.005 ,  0.0052,\n",
       "         0.0054,  0.0056,  0.0058,  0.006 ,  0.0062,  0.0064,  0.0066,\n",
       "         0.0068,  0.007 ,  0.0072,  0.0074,  0.0076,  0.0078,  0.008 ,\n",
       "         0.0082,  0.0084,  0.0086,  0.0088,  0.009 ,  0.0092,  0.0094,\n",
       "         0.0096,  0.0098,  0.01  ], dtype=float32),\n",
       " <BarContainer object of 100 artists>)"
      ]
     },
     "execution_count": 48,
     "metadata": {},
     "output_type": "execute_result"
    },
    {
     "data": {
      "image/png": "[encoded data removed]",
      "text/plain": [
       "<Figure size 432x288 with 1 Axes>"
      ]
     },
     "metadata": {
      "needs_background": "light"
     },
     "output_type": "display_data"
    }
   ],
   "source": [
    "plt.hist(first_cpf_stuff[interesting_variable],bins=100,range=(-0.01,0.01))"
   ]
  },
  {
   "cell_type": "code",
   "execution_count": 49,
   "metadata": {
    "scrolled": true
   },
   "outputs": [
    {
     "data": {
      "text/plain": [
       "(array([625.,   0.,   0.,   0.,   0.,   0.,   0.,   0.,   0.,   0.,   0.,\n",
       "          0.,   0.,   0.,   0.,   0.,   0.,   0.,   0.,   0.,   0.,   0.,\n",
       "          0.,   0.,   0.,   0.,   0.,   0.,   0.,   0.,   0.,   0.,   0.,\n",
       "          0.,   0.,   0.,   0.,   0.,   0.,   0.,   0.,   0.,   0.,   0.,\n",
       "          0.,   0.,   0.,   0.,   0.,   0.,   0.,   0.,   0.,   0.,   0.,\n",
       "          0.,   0.,   0.,   0.,   0.,   0.,   0.,   0.,   0.,   0.,   0.,\n",
       "          0.,   0.,   0.,   0.,   0.,   0.,   0.,   0.,   0.,   0.,   0.,\n",
       "          0.,   0.,   0.,   0.,   0.,   0.,   0.,   0.,   0.,   0.,   0.,\n",
       "          0.,   0.,   0.,   0.,   0.,   0.,   0.,   0.,   0.,   0.,   0.,\n",
       "          0.]),\n",
       " array([0.  , 0.01, 0.02, 0.03, 0.04, 0.05, 0.06, 0.07, 0.08, 0.09, 0.1 ,\n",
       "        0.11, 0.12, 0.13, 0.14, 0.15, 0.16, 0.17, 0.18, 0.19, 0.2 , 0.21,\n",
       "        0.22, 0.23, 0.24, 0.25, 0.26, 0.27, 0.28, 0.29, 0.3 , 0.31, 0.32,\n",
       "        0.33, 0.34, 0.35, 0.36, 0.37, 0.38, 0.39, 0.4 , 0.41, 0.42, 0.43,\n",
       "        0.44, 0.45, 0.46, 0.47, 0.48, 0.49, 0.5 , 0.51, 0.52, 0.53, 0.54,\n",
       "        0.55, 0.56, 0.57, 0.58, 0.59, 0.6 , 0.61, 0.62, 0.63, 0.64, 0.65,\n",
       "        0.66, 0.67, 0.68, 0.69, 0.7 , 0.71, 0.72, 0.73, 0.74, 0.75, 0.76,\n",
       "        0.77, 0.78, 0.79, 0.8 , 0.81, 0.82, 0.83, 0.84, 0.85, 0.86, 0.87,\n",
       "        0.88, 0.89, 0.9 , 0.91, 0.92, 0.93, 0.94, 0.95, 0.96, 0.97, 0.98,\n",
       "        0.99, 1.  ], dtype=float32),\n",
       " <BarContainer object of 100 artists>)"
      ]
     },
     "execution_count": 49,
     "metadata": {},
     "output_type": "execute_result"
    },
    {
     "data": {
      "image/png": "[encoded data removed]",
      "text/plain": [
       "<Figure size 432x288 with 1 Axes>"
      ]
     },
     "metadata": {
      "needs_background": "light"
     },
     "output_type": "display_data"
    }
   ],
   "source": [
    "plt.hist(first_cpf_stuff[interesting_variable],bins=100,range=(0,1))"
   ]
  },
  {
   "cell_type": "code",
   "execution_count": 50,
   "metadata": {
    "scrolled": true
   },
   "outputs": [
    {
     "data": {
      "text/plain": [
       "(array([0., 0., 0., 0., 0., 0., 0., 0., 0., 0., 0., 0., 0., 0., 0., 0., 0.,\n",
       "        0., 0., 0., 0., 0., 0., 0., 0., 0., 0., 0., 0., 0., 0., 0., 0., 0.,\n",
       "        0., 0., 0., 0., 0., 0., 0., 0., 0., 0., 0., 0., 0., 0., 0., 0., 0.,\n",
       "        0., 0., 0., 0., 0., 0., 0., 0., 0., 0., 0., 0., 0., 0., 0., 0., 0.,\n",
       "        0., 0., 0., 0., 0., 0., 0., 0., 0., 0., 0., 0., 0., 0., 0., 0., 0.,\n",
       "        0., 0., 0., 0., 0., 0., 0., 0., 0., 0., 0., 0., 0., 0., 0.]),\n",
       " array([0.95 , 0.951, 0.952, 0.953, 0.954, 0.955, 0.956, 0.957, 0.958,\n",
       "        0.959, 0.96 , 0.961, 0.962, 0.963, 0.964, 0.965, 0.966, 0.967,\n",
       "        0.968, 0.969, 0.97 , 0.971, 0.972, 0.973, 0.974, 0.975, 0.976,\n",
       "        0.977, 0.978, 0.979, 0.98 , 0.981, 0.982, 0.983, 0.984, 0.985,\n",
       "        0.986, 0.987, 0.988, 0.989, 0.99 , 0.991, 0.992, 0.993, 0.994,\n",
       "        0.995, 0.996, 0.997, 0.998, 0.999, 1.   , 1.001, 1.002, 1.003,\n",
       "        1.004, 1.005, 1.006, 1.007, 1.008, 1.009, 1.01 , 1.011, 1.012,\n",
       "        1.013, 1.014, 1.015, 1.016, 1.017, 1.018, 1.019, 1.02 , 1.021,\n",
       "        1.022, 1.023, 1.024, 1.025, 1.026, 1.027, 1.028, 1.029, 1.03 ,\n",
       "        1.031, 1.032, 1.033, 1.034, 1.035, 1.036, 1.037, 1.038, 1.039,\n",
       "        1.04 , 1.041, 1.042, 1.043, 1.044, 1.045, 1.046, 1.047, 1.048,\n",
       "        1.049, 1.05 ], dtype=float32),\n",
       " <BarContainer object of 100 artists>)"
      ]
     },
     "execution_count": 50,
     "metadata": {},
     "output_type": "execute_result"
    },
    {
     "data": {
      "image/png": "[encoded data removed]",
      "text/plain": [
       "<Figure size 432x288 with 1 Axes>"
      ]
     },
     "metadata": {
      "needs_background": "light"
     },
     "output_type": "display_data"
    }
   ],
   "source": [
    "plt.hist(first_cpf_stuff[interesting_variable],bins=100,range=(0.95,1.05))"
   ]
  },
  {
   "cell_type": "code",
   "execution_count": 51,
   "metadata": {
    "scrolled": true
   },
   "outputs": [
    {
     "data": {
      "text/plain": [
       "(array([625.,   0.,   0.,   0.,   0.,   0.,   0.,   0.,   0.,   0.,   0.,\n",
       "          0.,   0.,   0.,   0.,   0.,   0.,   0.,   0.,   0.,   0.,   0.,\n",
       "          0.,   0.,   0.,   0.,   0.,   0.,   0.,   0.,   0.,   0.,   0.,\n",
       "          0.,   0.,   0.,   0.,   0.,   0.,   0.,   0.,   0.,   0.,   0.,\n",
       "          0.,   0.,   0.,   0.,   0.,   0.,   0.,   0.,   0.,   0.,   0.,\n",
       "          0.,   0.,   0.,   0.,   0.,   0.,   0.,   0.,   0.,   0.,   0.,\n",
       "          0.,   0.,   0.,   0.,   0.,   0.,   0.,   0.,   0.,   0.,   0.,\n",
       "          0.,   0.,   0.,   0.,   0.,   0.,   0.,   0.,   0.,   0.,   0.,\n",
       "          0.,   0.,   0.,   0.,   0.,   0.,   0.,   0.,   0.,   0.,   0.,\n",
       "          0.]),\n",
       " array([0.  , 0.05, 0.1 , 0.15, 0.2 , 0.25, 0.3 , 0.35, 0.4 , 0.45, 0.5 ,\n",
       "        0.55, 0.6 , 0.65, 0.7 , 0.75, 0.8 , 0.85, 0.9 , 0.95, 1.  , 1.05,\n",
       "        1.1 , 1.15, 1.2 , 1.25, 1.3 , 1.35, 1.4 , 1.45, 1.5 , 1.55, 1.6 ,\n",
       "        1.65, 1.7 , 1.75, 1.8 , 1.85, 1.9 , 1.95, 2.  , 2.05, 2.1 , 2.15,\n",
       "        2.2 , 2.25, 2.3 , 2.35, 2.4 , 2.45, 2.5 , 2.55, 2.6 , 2.65, 2.7 ,\n",
       "        2.75, 2.8 , 2.85, 2.9 , 2.95, 3.  , 3.05, 3.1 , 3.15, 3.2 , 3.25,\n",
       "        3.3 , 3.35, 3.4 , 3.45, 3.5 , 3.55, 3.6 , 3.65, 3.7 , 3.75, 3.8 ,\n",
       "        3.85, 3.9 , 3.95, 4.  , 4.05, 4.1 , 4.15, 4.2 , 4.25, 4.3 , 4.35,\n",
       "        4.4 , 4.45, 4.5 , 4.55, 4.6 , 4.65, 4.7 , 4.75, 4.8 , 4.85, 4.9 ,\n",
       "        4.95, 5.  ], dtype=float32),\n",
       " <BarContainer object of 100 artists>)"
      ]
     },
     "execution_count": 51,
     "metadata": {},
     "output_type": "execute_result"
    },
    {
     "data": {
      "image/png": "[encoded data removed]",
      "text/plain": [
       "<Figure size 432x288 with 1 Axes>"
      ]
     },
     "metadata": {
      "needs_background": "light"
     },
     "output_type": "display_data"
    }
   ],
   "source": [
    "plt.hist(first_cpf_stuff[interesting_variable],bins=100,range=(0,5))"
   ]
  },
  {
   "cell_type": "code",
   "execution_count": 52,
   "metadata": {
    "scrolled": true
   },
   "outputs": [
    {
     "data": {
      "text/plain": [
       "(array([1.01869e+05, 5.20840e+04, 3.74190e+04, 2.92780e+04, 2.41440e+04,\n",
       "        2.02280e+04, 1.62770e+04, 1.33610e+04, 1.10670e+04, 9.42700e+03,\n",
       "        7.90200e+03, 6.76700e+03, 5.99500e+03, 5.34200e+03, 4.49500e+03,\n",
       "        4.17000e+03, 3.57800e+03, 3.18700e+03, 2.94900e+03, 2.67400e+03,\n",
       "        2.47200e+03, 2.22700e+03, 2.01500e+03, 1.84400e+03, 1.65800e+03,\n",
       "        1.54100e+03, 1.36800e+03, 1.27400e+03, 1.23700e+03, 1.06800e+03,\n",
       "        1.04300e+03, 9.17000e+02, 8.45000e+02, 8.01000e+02, 7.84000e+02,\n",
       "        7.07000e+02, 6.25000e+02, 5.93000e+02, 5.56000e+02, 5.21000e+02,\n",
       "        4.92000e+02, 4.43000e+02, 3.98000e+02, 4.22000e+02, 3.61000e+02,\n",
       "        3.42000e+02, 3.28000e+02, 2.99000e+02, 2.80000e+02, 2.55000e+02,\n",
       "        2.51000e+02, 2.12000e+02, 2.17000e+02, 2.09000e+02, 1.81000e+02,\n",
       "        1.72000e+02, 1.94000e+02, 1.79000e+02, 1.55000e+02, 1.35000e+02,\n",
       "        1.40000e+02, 1.47000e+02, 1.24000e+02, 1.20000e+02, 1.15000e+02,\n",
       "        1.24000e+02, 1.10000e+02, 1.07000e+02, 1.15000e+02, 1.02000e+02,\n",
       "        8.40000e+01, 9.10000e+01, 8.50000e+01, 9.70000e+01, 8.20000e+01,\n",
       "        9.10000e+01, 9.00000e+01, 8.30000e+01, 8.40000e+01, 1.03000e+02,\n",
       "        9.60000e+01, 1.04000e+02, 1.21000e+02, 1.28000e+02, 1.40000e+02,\n",
       "        1.53000e+02, 1.58000e+02, 1.69000e+02, 1.93000e+02, 2.22000e+02,\n",
       "        2.42000e+02, 2.94000e+02, 3.30000e+02, 3.65000e+02, 4.24000e+02,\n",
       "        4.26000e+02, 4.82000e+02, 5.35000e+02, 5.11000e+02, 9.79000e+02]),\n",
       " array([-9.99483943e-01, -9.89489079e-01, -9.79494274e-01, -9.69499409e-01,\n",
       "        -9.59504604e-01, -9.49509740e-01, -9.39514935e-01, -9.29520071e-01,\n",
       "        -9.19525206e-01, -9.09530401e-01, -8.99535537e-01, -8.89540732e-01,\n",
       "        -8.79545867e-01, -8.69551003e-01, -8.59556198e-01, -8.49561334e-01,\n",
       "        -8.39566529e-01, -8.29571664e-01, -8.19576859e-01, -8.09581995e-01,\n",
       "        -7.99587131e-01, -7.89592326e-01, -7.79597461e-01, -7.69602656e-01,\n",
       "        -7.59607792e-01, -7.49612927e-01, -7.39618123e-01, -7.29623258e-01,\n",
       "        -7.19628453e-01, -7.09633589e-01, -6.99638784e-01, -6.89643919e-01,\n",
       "        -6.79649055e-01, -6.69654250e-01, -6.59659386e-01, -6.49664581e-01,\n",
       "        -6.39669716e-01, -6.29674911e-01, -6.19680047e-01, -6.09685183e-01,\n",
       "        -5.99690378e-01, -5.89695513e-01, -5.79700708e-01, -5.69705844e-01,\n",
       "        -5.59710979e-01, -5.49716175e-01, -5.39721310e-01, -5.29726505e-01,\n",
       "        -5.19731641e-01, -5.09736836e-01, -4.99741971e-01, -4.89747137e-01,\n",
       "        -4.79752302e-01, -4.69757468e-01, -4.59762603e-01, -4.49767768e-01,\n",
       "        -4.39772934e-01, -4.29778099e-01, -4.19783264e-01, -4.09788430e-01,\n",
       "        -3.99793565e-01, -3.89798731e-01, -3.79803896e-01, -3.69809061e-01,\n",
       "        -3.59814227e-01, -3.49819392e-01, -3.39824528e-01, -3.29829693e-01,\n",
       "        -3.19834858e-01, -3.09840024e-01, -2.99845189e-01, -2.89850354e-01,\n",
       "        -2.79855490e-01, -2.69860655e-01, -2.59865820e-01, -2.49870986e-01,\n",
       "        -2.39876151e-01, -2.29881302e-01, -2.19886467e-01, -2.09891632e-01,\n",
       "        -1.99896783e-01, -1.89901948e-01, -1.79907113e-01, -1.69912264e-01,\n",
       "        -1.59917429e-01, -1.49922594e-01, -1.39927745e-01, -1.29932910e-01,\n",
       "        -1.19938076e-01, -1.09943233e-01, -9.99483913e-02, -8.99535567e-02,\n",
       "        -7.99587145e-02, -6.99638724e-02, -5.99690378e-02, -4.99741957e-02,\n",
       "        -3.99793573e-02, -2.99845189e-02, -1.99896786e-02, -9.99483932e-03,\n",
       "         3.09743153e-39], dtype=float32),\n",
       " <BarContainer object of 100 artists>)"
      ]
     },
     "execution_count": 52,
     "metadata": {},
     "output_type": "execute_result"
    },
    {
     "data": {
      "image/png": "[encoded data removed]",
      "text/plain": [
       "<Figure size 432x288 with 1 Axes>"
      ]
     },
     "metadata": {
      "needs_background": "light"
     },
     "output_type": "display_data"
    }
   ],
   "source": [
    "plt.hist(first_cpf_stuff[interesting_variable],bins=100)"
   ]
  },
  {
   "cell_type": "code",
   "execution_count": 53,
   "metadata": {},
   "outputs": [],
   "source": [
    "first_cpf_pts_stuff = ak.to_numpy(df_cpf_pts_clip[:,0])"
   ]
  },
  {
   "cell_type": "code",
   "execution_count": 54,
   "metadata": {},
   "outputs": [
    {
     "data": {
      "text/plain": [
       "array([(1.2607422, -1.65862   ,  0.85433066,  3.4336052),\n",
       "       (7.1953125, -1.4524369 , -0.71096057, 16.21709  ),\n",
       "       (7.0195312,  0.57112336,  0.5904491 ,  8.197    ), ...,\n",
       "       (3.3867188,  0.2482986 , -0.93137896,  3.4944422),\n",
       "       (1.7539062,  0.4570452 ,  2.8481286 ,  1.9453145),\n",
       "       (4.1875   ,  1.0329294 ,  2.059924  ,  6.6287026)],\n",
       "      dtype=[('Cpfcan_pt', '<f4'), ('Cpfcan_eta', '<f4'), ('Cpfcan_phi', '<f4'), ('Cpfcan_e', '<f4')])"
      ]
     },
     "execution_count": 54,
     "metadata": {},
     "output_type": "execute_result"
    }
   ],
   "source": [
    "first_cpf_pts_stuff"
   ]
  },
  {
   "cell_type": "code",
   "execution_count": 55,
   "metadata": {
    "scrolled": true
   },
   "outputs": [
    {
     "data": {
      "text/plain": [
       "(array([0., 0., 0., 0., 0., 0., 0., 0., 0., 0., 0., 0., 0., 0., 0., 0., 0.,\n",
       "        0., 0., 0., 0., 0., 0., 0., 0., 0., 0., 0., 0., 0., 0., 0., 0., 0.,\n",
       "        0., 0., 0., 0., 0., 0., 0., 0., 0., 0., 0., 0., 0., 0., 0., 0., 0.,\n",
       "        0., 0., 0., 0., 0., 0., 0., 0., 0., 0., 0., 0., 0., 0., 0., 0., 0.,\n",
       "        0., 0., 0., 0., 0., 0., 0., 0., 0., 0., 0., 0., 0., 0., 0., 0., 0.,\n",
       "        0., 0., 0., 0., 0., 0., 0., 0., 0., 0., 0., 0., 0., 0., 0.]),\n",
       " array([-1000.   ,  -999.985,  -999.97 ,  -999.955,  -999.94 ,  -999.925,\n",
       "         -999.91 ,  -999.895,  -999.88 ,  -999.865,  -999.85 ,  -999.835,\n",
       "         -999.82 ,  -999.805,  -999.79 ,  -999.775,  -999.76 ,  -999.745,\n",
       "         -999.73 ,  -999.715,  -999.7  ,  -999.685,  -999.67 ,  -999.655,\n",
       "         -999.64 ,  -999.625,  -999.61 ,  -999.595,  -999.58 ,  -999.565,\n",
       "         -999.55 ,  -999.535,  -999.52 ,  -999.505,  -999.49 ,  -999.475,\n",
       "         -999.46 ,  -999.445,  -999.43 ,  -999.415,  -999.4  ,  -999.385,\n",
       "         -999.37 ,  -999.355,  -999.34 ,  -999.325,  -999.31 ,  -999.295,\n",
       "         -999.28 ,  -999.265,  -999.25 ,  -999.235,  -999.22 ,  -999.205,\n",
       "         -999.19 ,  -999.175,  -999.16 ,  -999.145,  -999.13 ,  -999.115,\n",
       "         -999.1  ,  -999.085,  -999.07 ,  -999.055,  -999.04 ,  -999.025,\n",
       "         -999.01 ,  -998.995,  -998.98 ,  -998.965,  -998.95 ,  -998.935,\n",
       "         -998.92 ,  -998.905,  -998.89 ,  -998.875,  -998.86 ,  -998.845,\n",
       "         -998.83 ,  -998.815,  -998.8  ,  -998.785,  -998.77 ,  -998.755,\n",
       "         -998.74 ,  -998.725,  -998.71 ,  -998.695,  -998.68 ,  -998.665,\n",
       "         -998.65 ,  -998.635,  -998.62 ,  -998.605,  -998.59 ,  -998.575,\n",
       "         -998.56 ,  -998.545,  -998.53 ,  -998.515,  -998.5  ],\n",
       "       dtype=float32),\n",
       " <BarContainer object of 100 artists>)"
      ]
     },
     "execution_count": 55,
     "metadata": {},
     "output_type": "execute_result"
    },
    {
     "data": {
      "image/png": "[encoded data removed]",
      "text/plain": [
       "<Figure size 432x288 with 1 Axes>"
      ]
     },
     "metadata": {
      "needs_background": "light"
     },
     "output_type": "display_data"
    }
   ],
   "source": [
    "interesting_variable = 'Cpfcan_e'\n",
    "#plt.hist(first_cpf_stuff[interesting_variable],bins=100)\n",
    "plt.hist(first_cpf_pts_stuff[interesting_variable],bins=100,range=(-1000,-998.5))"
   ]
  },
  {
   "cell_type": "code",
   "execution_count": 56,
   "metadata": {
    "scrolled": true
   },
   "outputs": [
    {
     "data": {
      "text/plain": [
       "(array([ 0.,  0.,  0.,  0.,  0.,  0.,  0.,  0.,  0.,  0.,  0.,  0.,  0.,\n",
       "         0.,  0.,  0.,  0.,  0.,  0.,  0.,  0.,  0.,  0.,  0.,  0.,  0.,\n",
       "         0.,  0.,  0.,  0.,  0.,  0.,  0.,  0.,  0.,  0.,  0.,  0.,  0.,\n",
       "         0.,  0.,  0.,  0.,  0.,  0.,  0.,  0.,  0.,  0.,  0.,  0.,  0.,\n",
       "         0.,  0.,  1.,  0.,  0.,  0.,  0.,  0.,  0.,  0.,  0.,  0.,  0.,\n",
       "         0.,  0.,  0.,  0.,  0.,  0.,  0.,  0.,  0.,  0.,  0.,  0.,  0.,\n",
       "         0.,  0.,  0.,  0.,  0.,  0.,  0.,  0.,  0.,  0.,  0.,  0.,  0.,\n",
       "         0.,  0.,  0.,  0.,  0.,  0.,  0.,  0., 68.]),\n",
       " array([-1.01  , -0.9999, -0.9898, -0.9797, -0.9696, -0.9595, -0.9494,\n",
       "        -0.9393, -0.9292, -0.9191, -0.909 , -0.8989, -0.8888, -0.8787,\n",
       "        -0.8686, -0.8585, -0.8484, -0.8383, -0.8282, -0.8181, -0.808 ,\n",
       "        -0.7979, -0.7878, -0.7777, -0.7676, -0.7575, -0.7474, -0.7373,\n",
       "        -0.7272, -0.7171, -0.707 , -0.6969, -0.6868, -0.6767, -0.6666,\n",
       "        -0.6565, -0.6464, -0.6363, -0.6262, -0.6161, -0.606 , -0.5959,\n",
       "        -0.5858, -0.5757, -0.5656, -0.5555, -0.5454, -0.5353, -0.5252,\n",
       "        -0.5151, -0.505 , -0.4949, -0.4848, -0.4747, -0.4646, -0.4545,\n",
       "        -0.4444, -0.4343, -0.4242, -0.4141, -0.404 , -0.3939, -0.3838,\n",
       "        -0.3737, -0.3636, -0.3535, -0.3434, -0.3333, -0.3232, -0.3131,\n",
       "        -0.303 , -0.2929, -0.2828, -0.2727, -0.2626, -0.2525, -0.2424,\n",
       "        -0.2323, -0.2222, -0.2121, -0.202 , -0.1919, -0.1818, -0.1717,\n",
       "        -0.1616, -0.1515, -0.1414, -0.1313, -0.1212, -0.1111, -0.101 ,\n",
       "        -0.0909, -0.0808, -0.0707, -0.0606, -0.0505, -0.0404, -0.0303,\n",
       "        -0.0202, -0.0101,  0.    ], dtype=float32),\n",
       " <BarContainer object of 100 artists>)"
      ]
     },
     "execution_count": 56,
     "metadata": {},
     "output_type": "execute_result"
    },
    {
     "data": {
      "image/png": "[encoded data removed]",
      "text/plain": [
       "<Figure size 432x288 with 1 Axes>"
      ]
     },
     "metadata": {
      "needs_background": "light"
     },
     "output_type": "display_data"
    }
   ],
   "source": [
    "plt.hist(first_cpf_pts_stuff[interesting_variable],bins=100,range=(-1.01,0))"
   ]
  },
  {
   "cell_type": "code",
   "execution_count": 57,
   "metadata": {
    "scrolled": true
   },
   "outputs": [
    {
     "data": {
      "text/plain": [
       "(array([ 0.,  0.,  0.,  0.,  0.,  0.,  0.,  0.,  0.,  0.,  0.,  0.,  0.,\n",
       "         0.,  0.,  0.,  0.,  0.,  0.,  0.,  0.,  0.,  0.,  0.,  0.,  0.,\n",
       "         0.,  0.,  0.,  0.,  0.,  0.,  0.,  0.,  0.,  0.,  0.,  0.,  0.,\n",
       "         0.,  0.,  0.,  0.,  0.,  0.,  0.,  0.,  0.,  0.,  0.,  0.,  0.,\n",
       "         0.,  0.,  0.,  0.,  0.,  0.,  0.,  0.,  0.,  0.,  0.,  0.,  0.,\n",
       "         0.,  0.,  0.,  0.,  0.,  0.,  0.,  0.,  0.,  0.,  0.,  0.,  0.,\n",
       "         0.,  0.,  0.,  0.,  0.,  0.,  0.,  0.,  0.,  0.,  0.,  0.,  0.,\n",
       "         0.,  0.,  0.,  0.,  0.,  0.,  0.,  1., 67.]),\n",
       " array([-0.4  , -0.396, -0.392, -0.388, -0.384, -0.38 , -0.376, -0.372,\n",
       "        -0.368, -0.364, -0.36 , -0.356, -0.352, -0.348, -0.344, -0.34 ,\n",
       "        -0.336, -0.332, -0.328, -0.324, -0.32 , -0.316, -0.312, -0.308,\n",
       "        -0.304, -0.3  , -0.296, -0.292, -0.288, -0.284, -0.28 , -0.276,\n",
       "        -0.272, -0.268, -0.264, -0.26 , -0.256, -0.252, -0.248, -0.244,\n",
       "        -0.24 , -0.236, -0.232, -0.228, -0.224, -0.22 , -0.216, -0.212,\n",
       "        -0.208, -0.204, -0.2  , -0.196, -0.192, -0.188, -0.184, -0.18 ,\n",
       "        -0.176, -0.172, -0.168, -0.164, -0.16 , -0.156, -0.152, -0.148,\n",
       "        -0.144, -0.14 , -0.136, -0.132, -0.128, -0.124, -0.12 , -0.116,\n",
       "        -0.112, -0.108, -0.104, -0.1  , -0.096, -0.092, -0.088, -0.084,\n",
       "        -0.08 , -0.076, -0.072, -0.068, -0.064, -0.06 , -0.056, -0.052,\n",
       "        -0.048, -0.044, -0.04 , -0.036, -0.032, -0.028, -0.024, -0.02 ,\n",
       "        -0.016, -0.012, -0.008, -0.004,  0.   ], dtype=float32),\n",
       " <BarContainer object of 100 artists>)"
      ]
     },
     "execution_count": 57,
     "metadata": {},
     "output_type": "execute_result"
    },
    {
     "data": {
      "image/png": "[encoded data removed]",
      "text/plain": [
       "<Figure size 432x288 with 1 Axes>"
      ]
     },
     "metadata": {
      "needs_background": "light"
     },
     "output_type": "display_data"
    }
   ],
   "source": [
    "plt.hist(first_cpf_pts_stuff[interesting_variable],bins=100,range=(-0.40,0))"
   ]
  },
  {
   "cell_type": "code",
   "execution_count": 58,
   "metadata": {
    "scrolled": true
   },
   "outputs": [
    {
     "data": {
      "text/plain": [
       "(array([0., 0., 0., 0., 0., 0., 0., 0., 0., 0., 0., 0., 0., 0., 0., 0., 0.,\n",
       "        0., 0., 0., 0., 0., 0., 0., 0., 0., 0., 0., 0., 0., 0., 0., 0., 0.,\n",
       "        0., 0., 0., 0., 0., 0., 0., 0., 0., 0., 0., 0., 0., 0., 0., 0., 0.,\n",
       "        0., 0., 0., 0., 0., 0., 0., 0., 0., 0., 0., 0., 0., 0., 0., 0., 0.,\n",
       "        0., 0., 0., 0., 0., 0., 0., 0., 0., 0., 0., 0., 0., 0., 0., 0., 0.,\n",
       "        0., 0., 0., 0., 0., 0., 0., 0., 0., 0., 0., 0., 0., 0., 0.]),\n",
       " array([-1.01  , -1.0098, -1.0096, -1.0094, -1.0092, -1.009 , -1.0088,\n",
       "        -1.0086, -1.0084, -1.0082, -1.008 , -1.0078, -1.0076, -1.0074,\n",
       "        -1.0072, -1.007 , -1.0068, -1.0066, -1.0064, -1.0062, -1.006 ,\n",
       "        -1.0058, -1.0056, -1.0054, -1.0052, -1.005 , -1.0048, -1.0046,\n",
       "        -1.0044, -1.0042, -1.004 , -1.0038, -1.0036, -1.0034, -1.0032,\n",
       "        -1.003 , -1.0028, -1.0026, -1.0024, -1.0022, -1.002 , -1.0018,\n",
       "        -1.0016, -1.0014, -1.0012, -1.001 , -1.0008, -1.0006, -1.0004,\n",
       "        -1.0002, -1.    , -0.9998, -0.9996, -0.9994, -0.9992, -0.999 ,\n",
       "        -0.9988, -0.9986, -0.9984, -0.9982, -0.998 , -0.9978, -0.9976,\n",
       "        -0.9974, -0.9972, -0.997 , -0.9968, -0.9966, -0.9964, -0.9962,\n",
       "        -0.996 , -0.9958, -0.9956, -0.9954, -0.9952, -0.995 , -0.9948,\n",
       "        -0.9946, -0.9944, -0.9942, -0.994 , -0.9938, -0.9936, -0.9934,\n",
       "        -0.9932, -0.993 , -0.9928, -0.9926, -0.9924, -0.9922, -0.992 ,\n",
       "        -0.9918, -0.9916, -0.9914, -0.9912, -0.991 , -0.9908, -0.9906,\n",
       "        -0.9904, -0.9902, -0.99  ], dtype=float32),\n",
       " <BarContainer object of 100 artists>)"
      ]
     },
     "execution_count": 58,
     "metadata": {},
     "output_type": "execute_result"
    },
    {
     "data": {
      "image/png": "[encoded data removed]",
      "text/plain": [
       "<Figure size 432x288 with 1 Axes>"
      ]
     },
     "metadata": {
      "needs_background": "light"
     },
     "output_type": "display_data"
    }
   ],
   "source": [
    "plt.hist(first_cpf_pts_stuff[interesting_variable],bins=100,range=(-1.01,-0.99))"
   ]
  },
  {
   "cell_type": "code",
   "execution_count": 59,
   "metadata": {
    "scrolled": true
   },
   "outputs": [
    {
     "data": {
      "text/plain": [
       "(array([  0.,   0.,   0.,   0.,   0.,   0.,   0.,   0.,   0.,   0.,   0.,\n",
       "          0.,   0.,   0.,   0.,   0.,   0.,   0.,   0.,   0.,   0.,   0.,\n",
       "          0.,   0.,   0.,   0.,   0.,   1.,   0.,   0.,   1.,   0.,   0.,\n",
       "          0.,   0.,   0.,   0.,   0.,   0.,   0.,   0.,   1.,   0.,   0.,\n",
       "          0.,   0.,   0.,   0.,   2.,  63., 204.,   1.,   0.,   1.,   0.,\n",
       "          0.,   0.,   0.,   0.,   1.,   0.,   0.,   0.,   0.,   0.,   0.,\n",
       "          0.,   0.,   0.,   1.,   0.,   0.,   0.,   0.,   0.,   0.,   0.,\n",
       "          0.,   0.,   0.,   0.,   0.,   0.,   0.,   0.,   0.,   0.,   0.,\n",
       "          0.,   0.,   0.,   0.,   0.,   0.,   0.,   0.,   0.,   0.,   0.,\n",
       "          0.]),\n",
       " array([-0.01  , -0.0098, -0.0096, -0.0094, -0.0092, -0.009 , -0.0088,\n",
       "        -0.0086, -0.0084, -0.0082, -0.008 , -0.0078, -0.0076, -0.0074,\n",
       "        -0.0072, -0.007 , -0.0068, -0.0066, -0.0064, -0.0062, -0.006 ,\n",
       "        -0.0058, -0.0056, -0.0054, -0.0052, -0.005 , -0.0048, -0.0046,\n",
       "        -0.0044, -0.0042, -0.004 , -0.0038, -0.0036, -0.0034, -0.0032,\n",
       "        -0.003 , -0.0028, -0.0026, -0.0024, -0.0022, -0.002 , -0.0018,\n",
       "        -0.0016, -0.0014, -0.0012, -0.001 , -0.0008, -0.0006, -0.0004,\n",
       "        -0.0002,  0.    ,  0.0002,  0.0004,  0.0006,  0.0008,  0.001 ,\n",
       "         0.0012,  0.0014,  0.0016,  0.0018,  0.002 ,  0.0022,  0.0024,\n",
       "         0.0026,  0.0028,  0.003 ,  0.0032,  0.0034,  0.0036,  0.0038,\n",
       "         0.004 ,  0.0042,  0.0044,  0.0046,  0.0048,  0.005 ,  0.0052,\n",
       "         0.0054,  0.0056,  0.0058,  0.006 ,  0.0062,  0.0064,  0.0066,\n",
       "         0.0068,  0.007 ,  0.0072,  0.0074,  0.0076,  0.0078,  0.008 ,\n",
       "         0.0082,  0.0084,  0.0086,  0.0088,  0.009 ,  0.0092,  0.0094,\n",
       "         0.0096,  0.0098,  0.01  ], dtype=float32),\n",
       " <BarContainer object of 100 artists>)"
      ]
     },
     "execution_count": 59,
     "metadata": {},
     "output_type": "execute_result"
    },
    {
     "data": {
      "image/png": "[encoded data removed]",
      "text/plain": [
       "<Figure size 432x288 with 1 Axes>"
      ]
     },
     "metadata": {
      "needs_background": "light"
     },
     "output_type": "display_data"
    }
   ],
   "source": [
    "plt.hist(first_cpf_pts_stuff[interesting_variable],bins=100,range=(-0.01,0.01))"
   ]
  },
  {
   "cell_type": "code",
   "execution_count": 60,
   "metadata": {
    "scrolled": true
   },
   "outputs": [
    {
     "data": {
      "text/plain": [
       "(array([208.,   0.,   0.,   0.,   0.,   1.,   0.,   2.,   0.,   0.,   0.,\n",
       "          0.,   0.,   0.,   0.,   1.,   0.,   0.,   0.,   0.,   0.,   0.,\n",
       "          0.,   0.,   0.,   0.,   0.,   0.,   0.,   0.,   0.,   0.,   0.,\n",
       "          0.,   0.,   0.,   0.,   0.,   0.,   0.,   0.,   0.,   0.,   0.,\n",
       "          0.,   0.,   0.,   0.,   0.,   0.,   0.,   0.,   0.,   0.,   0.,\n",
       "          0.,   0.,   0.,   0.,   0.,   0.,   0.,   0.,   0.,   0.,   0.,\n",
       "          0.,   0.,   0.,   0.,   0.,   0.,   0.,   0.,   0.,   0.,   0.,\n",
       "          0.,   0.,   0.,   0.,   0.,   0.,   0.,   0.,   0.,   0.,   0.,\n",
       "          1.,   0.,   0.,   0.,   0.,   0.,   0.,   0.,  93., 187., 224.,\n",
       "        308.]),\n",
       " array([0.  , 0.01, 0.02, 0.03, 0.04, 0.05, 0.06, 0.07, 0.08, 0.09, 0.1 ,\n",
       "        0.11, 0.12, 0.13, 0.14, 0.15, 0.16, 0.17, 0.18, 0.19, 0.2 , 0.21,\n",
       "        0.22, 0.23, 0.24, 0.25, 0.26, 0.27, 0.28, 0.29, 0.3 , 0.31, 0.32,\n",
       "        0.33, 0.34, 0.35, 0.36, 0.37, 0.38, 0.39, 0.4 , 0.41, 0.42, 0.43,\n",
       "        0.44, 0.45, 0.46, 0.47, 0.48, 0.49, 0.5 , 0.51, 0.52, 0.53, 0.54,\n",
       "        0.55, 0.56, 0.57, 0.58, 0.59, 0.6 , 0.61, 0.62, 0.63, 0.64, 0.65,\n",
       "        0.66, 0.67, 0.68, 0.69, 0.7 , 0.71, 0.72, 0.73, 0.74, 0.75, 0.76,\n",
       "        0.77, 0.78, 0.79, 0.8 , 0.81, 0.82, 0.83, 0.84, 0.85, 0.86, 0.87,\n",
       "        0.88, 0.89, 0.9 , 0.91, 0.92, 0.93, 0.94, 0.95, 0.96, 0.97, 0.98,\n",
       "        0.99, 1.  ], dtype=float32),\n",
       " <BarContainer object of 100 artists>)"
      ]
     },
     "execution_count": 60,
     "metadata": {},
     "output_type": "execute_result"
    },
    {
     "data": {
      "image/png": "[encoded data removed]",
      "text/plain": [
       "<Figure size 432x288 with 1 Axes>"
      ]
     },
     "metadata": {
      "needs_background": "light"
     },
     "output_type": "display_data"
    }
   ],
   "source": [
    "plt.hist(first_cpf_pts_stuff[interesting_variable],bins=100,range=(0,1))"
   ]
  },
  {
   "cell_type": "code",
   "execution_count": 61,
   "metadata": {
    "scrolled": true
   },
   "outputs": [
    {
     "data": {
      "text/plain": [
       "(array([ 0.,  0.,  0.,  0.,  0.,  0.,  0.,  0.,  0.,  0.,  3.,  7.,  3.,\n",
       "         8.,  9.,  7.,  8., 14., 20., 14., 22., 15., 10., 20., 16., 21.,\n",
       "        21., 21., 28., 13., 22., 16., 25., 24., 16., 19., 24., 24., 28.,\n",
       "        26., 38., 34., 37., 33., 32., 26., 30., 26., 23., 29., 31., 29.,\n",
       "        23., 31., 37., 34., 30., 40., 31., 32., 37., 35., 19., 28., 35.,\n",
       "        39., 34., 30., 39., 41., 43., 43., 39., 45., 47., 36., 50., 45.,\n",
       "        32., 35., 36., 42., 37., 38., 34., 46., 44., 40., 43., 46., 47.,\n",
       "        53., 39., 43., 33., 43., 42., 48., 41., 48.]),\n",
       " array([0.95 , 0.951, 0.952, 0.953, 0.954, 0.955, 0.956, 0.957, 0.958,\n",
       "        0.959, 0.96 , 0.961, 0.962, 0.963, 0.964, 0.965, 0.966, 0.967,\n",
       "        0.968, 0.969, 0.97 , 0.971, 0.972, 0.973, 0.974, 0.975, 0.976,\n",
       "        0.977, 0.978, 0.979, 0.98 , 0.981, 0.982, 0.983, 0.984, 0.985,\n",
       "        0.986, 0.987, 0.988, 0.989, 0.99 , 0.991, 0.992, 0.993, 0.994,\n",
       "        0.995, 0.996, 0.997, 0.998, 0.999, 1.   , 1.001, 1.002, 1.003,\n",
       "        1.004, 1.005, 1.006, 1.007, 1.008, 1.009, 1.01 , 1.011, 1.012,\n",
       "        1.013, 1.014, 1.015, 1.016, 1.017, 1.018, 1.019, 1.02 , 1.021,\n",
       "        1.022, 1.023, 1.024, 1.025, 1.026, 1.027, 1.028, 1.029, 1.03 ,\n",
       "        1.031, 1.032, 1.033, 1.034, 1.035, 1.036, 1.037, 1.038, 1.039,\n",
       "        1.04 , 1.041, 1.042, 1.043, 1.044, 1.045, 1.046, 1.047, 1.048,\n",
       "        1.049, 1.05 ], dtype=float32),\n",
       " <BarContainer object of 100 artists>)"
      ]
     },
     "execution_count": 61,
     "metadata": {},
     "output_type": "execute_result"
    },
    {
     "data": {
      "image/png": "[encoded data removed]",
      "text/plain": [
       "<Figure size 432x288 with 1 Axes>"
      ]
     },
     "metadata": {
      "needs_background": "light"
     },
     "output_type": "display_data"
    }
   ],
   "source": [
    "plt.hist(first_cpf_pts_stuff[interesting_variable],bins=100,range=(0.95,1.05))"
   ]
  },
  {
   "cell_type": "code",
   "execution_count": 62,
   "metadata": {
    "scrolled": true
   },
   "outputs": [
    {
     "data": {
      "text/plain": [
       "(array([2.080e+02, 3.000e+00, 0.000e+00, 1.000e+00, 0.000e+00, 0.000e+00,\n",
       "        0.000e+00, 0.000e+00, 0.000e+00, 0.000e+00, 0.000e+00, 0.000e+00,\n",
       "        0.000e+00, 0.000e+00, 0.000e+00, 0.000e+00, 0.000e+00, 1.000e+00,\n",
       "        0.000e+00, 8.120e+02, 1.913e+03, 2.477e+03, 2.830e+03, 3.046e+03,\n",
       "        3.327e+03, 3.537e+03, 3.579e+03, 3.585e+03, 3.655e+03, 3.529e+03,\n",
       "        3.704e+03, 3.690e+03, 3.605e+03, 3.673e+03, 3.627e+03, 3.624e+03,\n",
       "        3.566e+03, 3.564e+03, 3.438e+03, 3.523e+03, 3.423e+03, 3.273e+03,\n",
       "        3.311e+03, 3.226e+03, 3.219e+03, 3.180e+03, 3.175e+03, 2.971e+03,\n",
       "        3.207e+03, 3.097e+03, 2.968e+03, 3.123e+03, 3.008e+03, 2.982e+03,\n",
       "        2.917e+03, 2.881e+03, 2.801e+03, 2.761e+03, 2.721e+03, 2.646e+03,\n",
       "        2.668e+03, 2.704e+03, 2.543e+03, 2.455e+03, 2.517e+03, 2.439e+03,\n",
       "        2.386e+03, 2.439e+03, 2.353e+03, 2.355e+03, 2.163e+03, 2.231e+03,\n",
       "        2.212e+03, 2.215e+03, 2.114e+03, 2.127e+03, 2.022e+03, 1.951e+03,\n",
       "        1.966e+03, 2.077e+03, 1.963e+03, 1.907e+03, 1.956e+03, 1.895e+03,\n",
       "        1.845e+03, 1.844e+03, 1.869e+03, 1.784e+03, 1.760e+03, 1.677e+03,\n",
       "        1.754e+03, 1.797e+03, 1.577e+03, 1.670e+03, 1.589e+03, 1.620e+03,\n",
       "        1.583e+03, 1.555e+03, 1.597e+03, 1.530e+03]),\n",
       " array([0.  , 0.05, 0.1 , 0.15, 0.2 , 0.25, 0.3 , 0.35, 0.4 , 0.45, 0.5 ,\n",
       "        0.55, 0.6 , 0.65, 0.7 , 0.75, 0.8 , 0.85, 0.9 , 0.95, 1.  , 1.05,\n",
       "        1.1 , 1.15, 1.2 , 1.25, 1.3 , 1.35, 1.4 , 1.45, 1.5 , 1.55, 1.6 ,\n",
       "        1.65, 1.7 , 1.75, 1.8 , 1.85, 1.9 , 1.95, 2.  , 2.05, 2.1 , 2.15,\n",
       "        2.2 , 2.25, 2.3 , 2.35, 2.4 , 2.45, 2.5 , 2.55, 2.6 , 2.65, 2.7 ,\n",
       "        2.75, 2.8 , 2.85, 2.9 , 2.95, 3.  , 3.05, 3.1 , 3.15, 3.2 , 3.25,\n",
       "        3.3 , 3.35, 3.4 , 3.45, 3.5 , 3.55, 3.6 , 3.65, 3.7 , 3.75, 3.8 ,\n",
       "        3.85, 3.9 , 3.95, 4.  , 4.05, 4.1 , 4.15, 4.2 , 4.25, 4.3 , 4.35,\n",
       "        4.4 , 4.45, 4.5 , 4.55, 4.6 , 4.65, 4.7 , 4.75, 4.8 , 4.85, 4.9 ,\n",
       "        4.95, 5.  ], dtype=float32),\n",
       " <BarContainer object of 100 artists>)"
      ]
     },
     "execution_count": 62,
     "metadata": {},
     "output_type": "execute_result"
    },
    {
     "data": {
      "image/png": "[encoded data removed]",
      "text/plain": [
       "<Figure size 432x288 with 1 Axes>"
      ]
     },
     "metadata": {
      "needs_background": "light"
     },
     "output_type": "display_data"
    }
   ],
   "source": [
    "plt.hist(first_cpf_pts_stuff[interesting_variable],bins=100,range=(0,5))"
   ]
  },
  {
   "cell_type": "code",
   "execution_count": 63,
   "metadata": {
    "scrolled": true
   },
   "outputs": [
    {
     "data": {
      "text/plain": [
       "(array([0.000e+00, 0.000e+00, 0.000e+00, 0.000e+00, 0.000e+00, 0.000e+00,\n",
       "        0.000e+00, 0.000e+00, 0.000e+00, 0.000e+00, 0.000e+00, 0.000e+00,\n",
       "        0.000e+00, 0.000e+00, 0.000e+00, 0.000e+00, 0.000e+00, 0.000e+00,\n",
       "        0.000e+00, 0.000e+00, 0.000e+00, 0.000e+00, 0.000e+00, 0.000e+00,\n",
       "        0.000e+00, 0.000e+00, 0.000e+00, 0.000e+00, 0.000e+00, 0.000e+00,\n",
       "        0.000e+00, 0.000e+00, 0.000e+00, 0.000e+00, 0.000e+00, 0.000e+00,\n",
       "        0.000e+00, 0.000e+00, 0.000e+00, 0.000e+00, 0.000e+00, 0.000e+00,\n",
       "        0.000e+00, 0.000e+00, 0.000e+00, 0.000e+00, 1.000e+00, 0.000e+00,\n",
       "        0.000e+00, 6.800e+01, 2.110e+02, 1.000e+00, 0.000e+00, 0.000e+00,\n",
       "        0.000e+00, 0.000e+00, 0.000e+00, 1.000e+00, 4.135e+03, 6.943e+03,\n",
       "        8.276e+03, 8.675e+03, 8.730e+03, 8.799e+03, 8.655e+03, 8.506e+03,\n",
       "        8.323e+03, 7.954e+03, 7.653e+03, 7.433e+03, 7.468e+03, 7.306e+03,\n",
       "        7.104e+03, 6.779e+03, 6.455e+03, 6.412e+03, 5.979e+03, 5.812e+03,\n",
       "        5.726e+03, 5.324e+03, 5.308e+03, 5.009e+03, 4.768e+03, 4.703e+03,\n",
       "        4.617e+03, 4.417e+03, 4.341e+03, 4.149e+03, 3.961e+03, 3.918e+03,\n",
       "        3.795e+03, 3.661e+03, 3.571e+03, 3.446e+03, 3.342e+03, 3.203e+03,\n",
       "        3.131e+03, 2.876e+03, 2.950e+03, 2.814e+03]),\n",
       " array([-6.  , -5.88, -5.76, -5.64, -5.52, -5.4 , -5.28, -5.16, -5.04,\n",
       "        -4.92, -4.8 , -4.68, -4.56, -4.44, -4.32, -4.2 , -4.08, -3.96,\n",
       "        -3.84, -3.72, -3.6 , -3.48, -3.36, -3.24, -3.12, -3.  , -2.88,\n",
       "        -2.76, -2.64, -2.52, -2.4 , -2.28, -2.16, -2.04, -1.92, -1.8 ,\n",
       "        -1.68, -1.56, -1.44, -1.32, -1.2 , -1.08, -0.96, -0.84, -0.72,\n",
       "        -0.6 , -0.48, -0.36, -0.24, -0.12,  0.  ,  0.12,  0.24,  0.36,\n",
       "         0.48,  0.6 ,  0.72,  0.84,  0.96,  1.08,  1.2 ,  1.32,  1.44,\n",
       "         1.56,  1.68,  1.8 ,  1.92,  2.04,  2.16,  2.28,  2.4 ,  2.52,\n",
       "         2.64,  2.76,  2.88,  3.  ,  3.12,  3.24,  3.36,  3.48,  3.6 ,\n",
       "         3.72,  3.84,  3.96,  4.08,  4.2 ,  4.32,  4.44,  4.56,  4.68,\n",
       "         4.8 ,  4.92,  5.04,  5.16,  5.28,  5.4 ,  5.52,  5.64,  5.76,\n",
       "         5.88,  6.  ], dtype=float32),\n",
       " <BarContainer object of 100 artists>)"
      ]
     },
     "execution_count": 63,
     "metadata": {},
     "output_type": "execute_result"
    },
    {
     "data": {
      "image/png": "[encoded data removed]",
      "text/plain": [
       "<Figure size 432x288 with 1 Axes>"
      ]
     },
     "metadata": {
      "needs_background": "light"
     },
     "output_type": "display_data"
    }
   ],
   "source": [
    "plt.hist(first_cpf_pts_stuff[interesting_variable],bins=100,range=(-6,6))"
   ]
  },
  {
   "cell_type": "code",
   "execution_count": 64,
   "metadata": {
    "scrolled": true
   },
   "outputs": [
    {
     "data": {
      "text/plain": [
       "(array([1.00000e+00, 0.00000e+00, 0.00000e+00, 0.00000e+00, 0.00000e+00,\n",
       "        1.00000e+00, 0.00000e+00, 1.00000e+00, 0.00000e+00, 3.99991e+05,\n",
       "        2.00000e+00, 1.00000e+00, 0.00000e+00, 2.00000e+00, 0.00000e+00,\n",
       "        0.00000e+00, 0.00000e+00, 0.00000e+00, 0.00000e+00, 0.00000e+00,\n",
       "        0.00000e+00, 0.00000e+00, 0.00000e+00, 0.00000e+00, 0.00000e+00,\n",
       "        0.00000e+00, 0.00000e+00, 0.00000e+00, 0.00000e+00, 0.00000e+00,\n",
       "        0.00000e+00, 0.00000e+00, 0.00000e+00, 0.00000e+00, 0.00000e+00,\n",
       "        0.00000e+00, 0.00000e+00, 0.00000e+00, 0.00000e+00, 0.00000e+00,\n",
       "        0.00000e+00, 0.00000e+00, 0.00000e+00, 0.00000e+00, 0.00000e+00,\n",
       "        0.00000e+00, 0.00000e+00, 0.00000e+00, 0.00000e+00, 0.00000e+00,\n",
       "        0.00000e+00, 0.00000e+00, 0.00000e+00, 0.00000e+00, 0.00000e+00,\n",
       "        0.00000e+00, 0.00000e+00, 0.00000e+00, 0.00000e+00, 0.00000e+00,\n",
       "        0.00000e+00, 0.00000e+00, 0.00000e+00, 0.00000e+00, 0.00000e+00,\n",
       "        0.00000e+00, 0.00000e+00, 0.00000e+00, 0.00000e+00, 0.00000e+00,\n",
       "        0.00000e+00, 0.00000e+00, 0.00000e+00, 0.00000e+00, 0.00000e+00,\n",
       "        0.00000e+00, 0.00000e+00, 0.00000e+00, 0.00000e+00, 0.00000e+00,\n",
       "        0.00000e+00, 0.00000e+00, 0.00000e+00, 0.00000e+00, 0.00000e+00,\n",
       "        0.00000e+00, 0.00000e+00, 0.00000e+00, 0.00000e+00, 0.00000e+00,\n",
       "        0.00000e+00, 0.00000e+00, 0.00000e+00, 0.00000e+00, 0.00000e+00,\n",
       "        0.00000e+00, 0.00000e+00, 0.00000e+00, 0.00000e+00, 1.00000e+00]),\n",
       " array([-3.02177416e+36, -2.71616832e+36, -2.41056264e+36, -2.10495680e+36,\n",
       "        -1.79935096e+36, -1.49374528e+36, -1.18813943e+36, -8.82533673e+35,\n",
       "        -5.76927912e+35, -2.71322111e+35,  3.42836749e+34,  3.39889451e+35,\n",
       "         6.45495252e+35,  9.51101053e+35,  1.25670681e+36,  1.56231265e+36,\n",
       "         1.86791834e+36,  2.17352418e+36,  2.47913002e+36,  2.78473586e+36,\n",
       "         3.09034138e+36,  3.39594722e+36,  3.70155306e+36,  4.00715890e+36,\n",
       "         4.31276474e+36,  4.61837058e+36,  4.92397611e+36,  5.22958195e+36,\n",
       "         5.53518747e+36,  5.84079331e+36,  6.14639915e+36,  6.45200499e+36,\n",
       "         6.75761083e+36,  7.06321667e+36,  7.36882252e+36,  7.67442836e+36,\n",
       "         7.98003420e+36,  8.28564004e+36,  8.59124588e+36,  8.89685108e+36,\n",
       "         9.20245692e+36,  9.50806277e+36,  9.81366861e+36,  1.01192744e+37,\n",
       "         1.04248803e+37,  1.07304861e+37,  1.10360913e+37,  1.13416978e+37,\n",
       "         1.16473030e+37,  1.19529095e+37,  1.22585147e+37,  1.25641212e+37,\n",
       "         1.28697264e+37,  1.31753329e+37,  1.34809381e+37,  1.37865445e+37,\n",
       "         1.40921497e+37,  1.43977549e+37,  1.47033614e+37,  1.50089666e+37,\n",
       "         1.53145731e+37,  1.56201783e+37,  1.59257848e+37,  1.62313900e+37,\n",
       "         1.65369965e+37,  1.68426017e+37,  1.71482081e+37,  1.74538134e+37,\n",
       "         1.77594186e+37,  1.80650250e+37,  1.83706302e+37,  1.86762367e+37,\n",
       "         1.89818419e+37,  1.92874484e+37,  1.95930536e+37,  1.98986601e+37,\n",
       "         2.02042653e+37,  2.05098718e+37,  2.08154770e+37,  2.11210822e+37,\n",
       "         2.14266874e+37,  2.17322951e+37,  2.20379003e+37,  2.23435055e+37,\n",
       "         2.26491107e+37,  2.29547185e+37,  2.32603237e+37,  2.35659289e+37,\n",
       "         2.38715341e+37,  2.41771393e+37,  2.44827470e+37,  2.47883523e+37,\n",
       "         2.50939575e+37,  2.53995627e+37,  2.57051704e+37,  2.60107756e+37,\n",
       "         2.63163808e+37,  2.66219860e+37,  2.69275938e+37,  2.72331990e+37,\n",
       "         2.75388042e+37], dtype=float32),\n",
       " <BarContainer object of 100 artists>)"
      ]
     },
     "execution_count": 64,
     "metadata": {},
     "output_type": "execute_result"
    },
    {
     "data": {
      "image/png": "[encoded data removed]",
      "text/plain": [
       "<Figure size 432x288 with 1 Axes>"
      ]
     },
     "metadata": {
      "needs_background": "light"
     },
     "output_type": "display_data"
    }
   ],
   "source": [
    "plt.hist(first_cpf_pts_stuff[interesting_variable],bins=100)"
   ]
  },
  {
   "cell_type": "code",
   "execution_count": 65,
   "metadata": {},
   "outputs": [],
   "source": [
    "first_npf_pts_stuff = ak.to_numpy(df_npf_pts_clip[:,0])"
   ]
  },
  {
   "cell_type": "code",
   "execution_count": 66,
   "metadata": {},
   "outputs": [
    {
     "data": {
      "text/plain": [
       "array([(31.640625 , -1.5941648 ,  1.1947634 , 81.11538  ),\n",
       "       ( 1.2197266, -1.4610431 , -0.6644654 ,  2.770272 ),\n",
       "       ( 1.8769531,  0.38947722,  0.24786434,  2.0211217), ...,\n",
       "       ( 2.484375 ,  0.407239  , -0.9756118 ,  2.6932468),\n",
       "       ( 2.6933594,  0.37739187, -3.1229434 ,  2.8874469),\n",
       "       (12.8984375,  1.2510147 ,  2.3031962 , 24.378696 )],\n",
       "      dtype=[('Npfcan_pt', '<f4'), ('Npfcan_eta', '<f4'), ('Npfcan_phi', '<f4'), ('Npfcan_e', '<f4')])"
      ]
     },
     "execution_count": 66,
     "metadata": {},
     "output_type": "execute_result"
    }
   ],
   "source": [
    "first_npf_pts_stuff"
   ]
  },
  {
   "cell_type": "code",
   "execution_count": 67,
   "metadata": {
    "scrolled": true
   },
   "outputs": [
    {
     "data": {
      "text/plain": [
       "(array([0., 0., 0., 0., 0., 0., 0., 0., 0., 0., 0., 0., 0., 0., 0., 0., 0.,\n",
       "        0., 0., 0., 0., 0., 0., 0., 0., 0., 0., 0., 0., 0., 0., 0., 0., 0.,\n",
       "        0., 0., 0., 0., 0., 0., 0., 0., 0., 0., 0., 0., 0., 0., 0., 0., 0.,\n",
       "        0., 0., 0., 0., 0., 0., 0., 0., 0., 0., 0., 0., 0., 0., 0., 0., 0.,\n",
       "        0., 0., 0., 0., 0., 0., 0., 0., 0., 0., 0., 0., 0., 0., 0., 0., 0.,\n",
       "        0., 0., 0., 0., 0., 0., 0., 0., 0., 0., 0., 0., 0., 0., 0.]),\n",
       " array([-1000.   ,  -999.985,  -999.97 ,  -999.955,  -999.94 ,  -999.925,\n",
       "         -999.91 ,  -999.895,  -999.88 ,  -999.865,  -999.85 ,  -999.835,\n",
       "         -999.82 ,  -999.805,  -999.79 ,  -999.775,  -999.76 ,  -999.745,\n",
       "         -999.73 ,  -999.715,  -999.7  ,  -999.685,  -999.67 ,  -999.655,\n",
       "         -999.64 ,  -999.625,  -999.61 ,  -999.595,  -999.58 ,  -999.565,\n",
       "         -999.55 ,  -999.535,  -999.52 ,  -999.505,  -999.49 ,  -999.475,\n",
       "         -999.46 ,  -999.445,  -999.43 ,  -999.415,  -999.4  ,  -999.385,\n",
       "         -999.37 ,  -999.355,  -999.34 ,  -999.325,  -999.31 ,  -999.295,\n",
       "         -999.28 ,  -999.265,  -999.25 ,  -999.235,  -999.22 ,  -999.205,\n",
       "         -999.19 ,  -999.175,  -999.16 ,  -999.145,  -999.13 ,  -999.115,\n",
       "         -999.1  ,  -999.085,  -999.07 ,  -999.055,  -999.04 ,  -999.025,\n",
       "         -999.01 ,  -998.995,  -998.98 ,  -998.965,  -998.95 ,  -998.935,\n",
       "         -998.92 ,  -998.905,  -998.89 ,  -998.875,  -998.86 ,  -998.845,\n",
       "         -998.83 ,  -998.815,  -998.8  ,  -998.785,  -998.77 ,  -998.755,\n",
       "         -998.74 ,  -998.725,  -998.71 ,  -998.695,  -998.68 ,  -998.665,\n",
       "         -998.65 ,  -998.635,  -998.62 ,  -998.605,  -998.59 ,  -998.575,\n",
       "         -998.56 ,  -998.545,  -998.53 ,  -998.515,  -998.5  ],\n",
       "       dtype=float32),\n",
       " <BarContainer object of 100 artists>)"
      ]
     },
     "execution_count": 67,
     "metadata": {},
     "output_type": "execute_result"
    },
    {
     "data": {
      "image/png": "[encoded data removed]",
      "text/plain": [
       "<Figure size 432x288 with 1 Axes>"
      ]
     },
     "metadata": {
      "needs_background": "light"
     },
     "output_type": "display_data"
    }
   ],
   "source": [
    "interesting_variable = 'Npfcan_e'\n",
    "#plt.hist(first_cpf_stuff[interesting_variable],bins=100)\n",
    "plt.hist(first_npf_pts_stuff[interesting_variable],bins=100,range=(-1000,-998.5))"
   ]
  },
  {
   "cell_type": "code",
   "execution_count": 68,
   "metadata": {
    "scrolled": true
   },
   "outputs": [
    {
     "data": {
      "text/plain": [
       "(array([15., 22., 26., 15., 22., 18., 23., 19., 24., 23., 25., 18., 20.,\n",
       "        22., 24., 25., 22., 23., 18., 21., 20., 15., 22., 12., 17., 24.,\n",
       "        24., 18., 32., 19., 20., 26., 28., 22., 18., 19., 19., 15., 27.,\n",
       "        16., 24., 23., 16., 22., 19., 32., 23., 19., 23., 29., 26., 26.,\n",
       "        26., 23., 26., 23., 27., 19., 24., 25., 25., 19., 23., 17., 19.,\n",
       "        24., 25., 23., 26., 20., 20., 20., 31., 22., 25., 35., 23., 20.,\n",
       "        20., 19., 22., 20., 25., 23., 28., 21., 20., 20., 17., 24., 16.,\n",
       "        15., 24., 21., 16., 20., 20., 20., 16., 23.]),\n",
       " array([-1.01  , -0.9999, -0.9898, -0.9797, -0.9696, -0.9595, -0.9494,\n",
       "        -0.9393, -0.9292, -0.9191, -0.909 , -0.8989, -0.8888, -0.8787,\n",
       "        -0.8686, -0.8585, -0.8484, -0.8383, -0.8282, -0.8181, -0.808 ,\n",
       "        -0.7979, -0.7878, -0.7777, -0.7676, -0.7575, -0.7474, -0.7373,\n",
       "        -0.7272, -0.7171, -0.707 , -0.6969, -0.6868, -0.6767, -0.6666,\n",
       "        -0.6565, -0.6464, -0.6363, -0.6262, -0.6161, -0.606 , -0.5959,\n",
       "        -0.5858, -0.5757, -0.5656, -0.5555, -0.5454, -0.5353, -0.5252,\n",
       "        -0.5151, -0.505 , -0.4949, -0.4848, -0.4747, -0.4646, -0.4545,\n",
       "        -0.4444, -0.4343, -0.4242, -0.4141, -0.404 , -0.3939, -0.3838,\n",
       "        -0.3737, -0.3636, -0.3535, -0.3434, -0.3333, -0.3232, -0.3131,\n",
       "        -0.303 , -0.2929, -0.2828, -0.2727, -0.2626, -0.2525, -0.2424,\n",
       "        -0.2323, -0.2222, -0.2121, -0.202 , -0.1919, -0.1818, -0.1717,\n",
       "        -0.1616, -0.1515, -0.1414, -0.1313, -0.1212, -0.1111, -0.101 ,\n",
       "        -0.0909, -0.0808, -0.0707, -0.0606, -0.0505, -0.0404, -0.0303,\n",
       "        -0.0202, -0.0101,  0.    ], dtype=float32),\n",
       " <BarContainer object of 100 artists>)"
      ]
     },
     "execution_count": 68,
     "metadata": {},
     "output_type": "execute_result"
    },
    {
     "data": {
      "image/png": "[encoded data removed]",
      "text/plain": [
       "<Figure size 432x288 with 1 Axes>"
      ]
     },
     "metadata": {
      "needs_background": "light"
     },
     "output_type": "display_data"
    }
   ],
   "source": [
    "plt.hist(first_npf_pts_stuff[interesting_variable],bins=100,range=(-1.01,0))"
   ]
  },
  {
   "cell_type": "code",
   "execution_count": 140,
   "metadata": {},
   "outputs": [
    {
     "data": {
      "text/plain": [
       "array([(31.640625 , -1.5941648 ,  1.1947634 , 81.11538  ),\n",
       "       ( 1.2197266, -1.4610431 , -0.6644654 ,  2.770272 ),\n",
       "       ( 1.8769531,  0.38947722,  0.24786434,  2.0211217), ...,\n",
       "       ( 2.484375 ,  0.407239  , -0.9756118 ,  2.6932468),\n",
       "       ( 2.6933594,  0.37739187, -3.1229434 ,  2.8874469),\n",
       "       (12.8984375,  1.2510147 ,  2.3031962 , 24.378696 )],\n",
       "      dtype=[('Npfcan_pt', '<f4'), ('Npfcan_eta', '<f4'), ('Npfcan_phi', '<f4'), ('Npfcan_e', '<f4')])"
      ]
     },
     "execution_count": 140,
     "metadata": {},
     "output_type": "execute_result"
    }
   ],
   "source": [
    "first_npf_pts_stuff"
   ]
  },
  {
   "cell_type": "code",
   "execution_count": 69,
   "metadata": {
    "scrolled": true
   },
   "outputs": [
    {
     "data": {
      "text/plain": [
       "(array([16.,  7.,  7., 11.,  9.,  7., 10.,  4.,  9., 11.,  6.,  8.,  8.,\n",
       "        10.,  8.,  9., 13.,  8., 10., 11.,  8., 10.,  8.,  7., 12.,  6.,\n",
       "         8.,  9.,  7.,  9., 12., 12., 10., 10.,  8.,  6., 12., 19., 12.,\n",
       "         9., 11., 10.,  5.,  9., 10.,  7.,  7.,  7.,  8.,  6., 10.,  9.,\n",
       "         8.,  8., 10., 10.,  8.,  7., 11., 11., 12.,  9.,  9., 11.,  5.,\n",
       "         8.,  8.,  9.,  8., 12.,  5.,  3., 11.,  7.,  9.,  8.,  4.,  7.,\n",
       "         8.,  4., 11., 10., 10.,  7.,  6.,  7.,  6., 11.,  7.,  7.,  7.,\n",
       "         8., 10.,  9.,  4.,  5.,  7.,  7., 14.,  6.]),\n",
       " array([-0.4  , -0.396, -0.392, -0.388, -0.384, -0.38 , -0.376, -0.372,\n",
       "        -0.368, -0.364, -0.36 , -0.356, -0.352, -0.348, -0.344, -0.34 ,\n",
       "        -0.336, -0.332, -0.328, -0.324, -0.32 , -0.316, -0.312, -0.308,\n",
       "        -0.304, -0.3  , -0.296, -0.292, -0.288, -0.284, -0.28 , -0.276,\n",
       "        -0.272, -0.268, -0.264, -0.26 , -0.256, -0.252, -0.248, -0.244,\n",
       "        -0.24 , -0.236, -0.232, -0.228, -0.224, -0.22 , -0.216, -0.212,\n",
       "        -0.208, -0.204, -0.2  , -0.196, -0.192, -0.188, -0.184, -0.18 ,\n",
       "        -0.176, -0.172, -0.168, -0.164, -0.16 , -0.156, -0.152, -0.148,\n",
       "        -0.144, -0.14 , -0.136, -0.132, -0.128, -0.124, -0.12 , -0.116,\n",
       "        -0.112, -0.108, -0.104, -0.1  , -0.096, -0.092, -0.088, -0.084,\n",
       "        -0.08 , -0.076, -0.072, -0.068, -0.064, -0.06 , -0.056, -0.052,\n",
       "        -0.048, -0.044, -0.04 , -0.036, -0.032, -0.028, -0.024, -0.02 ,\n",
       "        -0.016, -0.012, -0.008, -0.004,  0.   ], dtype=float32),\n",
       " <BarContainer object of 100 artists>)"
      ]
     },
     "execution_count": 69,
     "metadata": {},
     "output_type": "execute_result"
    },
    {
     "data": {
      "image/png": "[encoded data removed]",
      "text/plain": [
       "<Figure size 432x288 with 1 Axes>"
      ]
     },
     "metadata": {
      "needs_background": "light"
     },
     "output_type": "display_data"
    }
   ],
   "source": [
    "plt.hist(first_npf_pts_stuff[interesting_variable],bins=100,range=(-0.40,0))"
   ]
  },
  {
   "cell_type": "code",
   "execution_count": 70,
   "metadata": {
    "scrolled": true
   },
   "outputs": [
    {
     "data": {
      "text/plain": [
       "(array([0., 1., 0., 1., 0., 0., 0., 1., 1., 0., 0., 0., 0., 0., 1., 1., 0.,\n",
       "        0., 0., 0., 0., 0., 0., 0., 0., 0., 2., 0., 1., 0., 0., 0., 1., 0.,\n",
       "        0., 0., 1., 0., 0., 0., 1., 1., 0., 0., 0., 0., 1., 1., 0., 0., 0.,\n",
       "        0., 0., 0., 1., 1., 0., 0., 0., 0., 0., 1., 0., 0., 0., 0., 1., 0.,\n",
       "        0., 0., 1., 0., 0., 1., 1., 0., 1., 1., 2., 0., 0., 1., 0., 1., 1.,\n",
       "        2., 0., 1., 0., 0., 0., 1., 0., 0., 1., 0., 0., 0., 0., 2.]),\n",
       " array([-1.01  , -1.0098, -1.0096, -1.0094, -1.0092, -1.009 , -1.0088,\n",
       "        -1.0086, -1.0084, -1.0082, -1.008 , -1.0078, -1.0076, -1.0074,\n",
       "        -1.0072, -1.007 , -1.0068, -1.0066, -1.0064, -1.0062, -1.006 ,\n",
       "        -1.0058, -1.0056, -1.0054, -1.0052, -1.005 , -1.0048, -1.0046,\n",
       "        -1.0044, -1.0042, -1.004 , -1.0038, -1.0036, -1.0034, -1.0032,\n",
       "        -1.003 , -1.0028, -1.0026, -1.0024, -1.0022, -1.002 , -1.0018,\n",
       "        -1.0016, -1.0014, -1.0012, -1.001 , -1.0008, -1.0006, -1.0004,\n",
       "        -1.0002, -1.    , -0.9998, -0.9996, -0.9994, -0.9992, -0.999 ,\n",
       "        -0.9988, -0.9986, -0.9984, -0.9982, -0.998 , -0.9978, -0.9976,\n",
       "        -0.9974, -0.9972, -0.997 , -0.9968, -0.9966, -0.9964, -0.9962,\n",
       "        -0.996 , -0.9958, -0.9956, -0.9954, -0.9952, -0.995 , -0.9948,\n",
       "        -0.9946, -0.9944, -0.9942, -0.994 , -0.9938, -0.9936, -0.9934,\n",
       "        -0.9932, -0.993 , -0.9928, -0.9926, -0.9924, -0.9922, -0.992 ,\n",
       "        -0.9918, -0.9916, -0.9914, -0.9912, -0.991 , -0.9908, -0.9906,\n",
       "        -0.9904, -0.9902, -0.99  ], dtype=float32),\n",
       " <BarContainer object of 100 artists>)"
      ]
     },
     "execution_count": 70,
     "metadata": {},
     "output_type": "execute_result"
    },
    {
     "data": {
      "image/png": "[encoded data removed]",
      "text/plain": [
       "<Figure size 432x288 with 1 Axes>"
      ]
     },
     "metadata": {
      "needs_background": "light"
     },
     "output_type": "display_data"
    }
   ],
   "source": [
    "plt.hist(first_npf_pts_stuff[interesting_variable],bins=100,range=(-1.01,-0.99))"
   ]
  },
  {
   "cell_type": "code",
   "execution_count": 71,
   "metadata": {
    "scrolled": true
   },
   "outputs": [
    {
     "data": {
      "text/plain": [
       "(array([0., 0., 0., 0., 1., 1., 0., 0., 0., 1., 0., 0., 1., 2., 1., 0., 0.,\n",
       "        0., 0., 0., 0., 2., 2., 1., 0., 2., 1., 1., 1., 0., 0., 0., 1., 2.,\n",
       "        0., 0., 0., 0., 0., 0., 0., 0., 0., 1., 1., 0., 0., 0., 1., 0., 1.,\n",
       "        0., 0., 0., 1., 0., 0., 1., 0., 0., 0., 0., 1., 0., 0., 1., 0., 0.,\n",
       "        0., 1., 0., 0., 0., 1., 0., 0., 1., 0., 1., 0., 2., 1., 0., 2., 0.,\n",
       "        0., 1., 0., 0., 0., 0., 0., 0., 0., 1., 0., 1., 0., 0., 0.]),\n",
       " array([-0.01  , -0.0098, -0.0096, -0.0094, -0.0092, -0.009 , -0.0088,\n",
       "        -0.0086, -0.0084, -0.0082, -0.008 , -0.0078, -0.0076, -0.0074,\n",
       "        -0.0072, -0.007 , -0.0068, -0.0066, -0.0064, -0.0062, -0.006 ,\n",
       "        -0.0058, -0.0056, -0.0054, -0.0052, -0.005 , -0.0048, -0.0046,\n",
       "        -0.0044, -0.0042, -0.004 , -0.0038, -0.0036, -0.0034, -0.0032,\n",
       "        -0.003 , -0.0028, -0.0026, -0.0024, -0.0022, -0.002 , -0.0018,\n",
       "        -0.0016, -0.0014, -0.0012, -0.001 , -0.0008, -0.0006, -0.0004,\n",
       "        -0.0002,  0.    ,  0.0002,  0.0004,  0.0006,  0.0008,  0.001 ,\n",
       "         0.0012,  0.0014,  0.0016,  0.0018,  0.002 ,  0.0022,  0.0024,\n",
       "         0.0026,  0.0028,  0.003 ,  0.0032,  0.0034,  0.0036,  0.0038,\n",
       "         0.004 ,  0.0042,  0.0044,  0.0046,  0.0048,  0.005 ,  0.0052,\n",
       "         0.0054,  0.0056,  0.0058,  0.006 ,  0.0062,  0.0064,  0.0066,\n",
       "         0.0068,  0.007 ,  0.0072,  0.0074,  0.0076,  0.0078,  0.008 ,\n",
       "         0.0082,  0.0084,  0.0086,  0.0088,  0.009 ,  0.0092,  0.0094,\n",
       "         0.0096,  0.0098,  0.01  ], dtype=float32),\n",
       " <BarContainer object of 100 artists>)"
      ]
     },
     "execution_count": 71,
     "metadata": {},
     "output_type": "execute_result"
    },
    {
     "data": {
      "image/png": "[encoded data removed]",
      "text/plain": [
       "<Figure size 432x288 with 1 Axes>"
      ]
     },
     "metadata": {
      "needs_background": "light"
     },
     "output_type": "display_data"
    }
   ],
   "source": [
    "plt.hist(first_npf_pts_stuff[interesting_variable],bins=100,range=(-0.01,0.01))"
   ]
  },
  {
   "cell_type": "code",
   "execution_count": 72,
   "metadata": {
    "scrolled": true
   },
   "outputs": [
    {
     "data": {
      "text/plain": [
       "(array([ 17.,  18.,  28.,  20.,  12.,  21.,  27.,  17.,  24.,  42.,  24.,\n",
       "         19.,  25.,  15.,  25.,  18.,  13.,  14.,  29.,  21.,  15.,  30.,\n",
       "         26.,  18.,  20.,  38.,  18.,  17.,  24.,  22.,  22.,  21.,  24.,\n",
       "         21.,  22.,  25.,  28.,  28.,  28.,  20.,  25.,  14.,  11.,  23.,\n",
       "         19.,  18.,  20.,  22.,  23.,  16.,  19.,  28.,  16.,  13.,  21.,\n",
       "         17.,  26.,  17.,  21.,  20.,  20.,  19.,  26.,  21.,  16.,  21.,\n",
       "         20.,  20.,  21.,  23.,  19.,  19.,  14.,  24.,  21.,  29.,  24.,\n",
       "         22.,   8.,  15.,  24.,  18.,  25.,  27.,  18.,  19.,  28.,  20.,\n",
       "         22.,  21.,  26.,  20.,  19.,  22.,  18.,  67.,  90., 115., 137.,\n",
       "        160.]),\n",
       " array([0.  , 0.01, 0.02, 0.03, 0.04, 0.05, 0.06, 0.07, 0.08, 0.09, 0.1 ,\n",
       "        0.11, 0.12, 0.13, 0.14, 0.15, 0.16, 0.17, 0.18, 0.19, 0.2 , 0.21,\n",
       "        0.22, 0.23, 0.24, 0.25, 0.26, 0.27, 0.28, 0.29, 0.3 , 0.31, 0.32,\n",
       "        0.33, 0.34, 0.35, 0.36, 0.37, 0.38, 0.39, 0.4 , 0.41, 0.42, 0.43,\n",
       "        0.44, 0.45, 0.46, 0.47, 0.48, 0.49, 0.5 , 0.51, 0.52, 0.53, 0.54,\n",
       "        0.55, 0.56, 0.57, 0.58, 0.59, 0.6 , 0.61, 0.62, 0.63, 0.64, 0.65,\n",
       "        0.66, 0.67, 0.68, 0.69, 0.7 , 0.71, 0.72, 0.73, 0.74, 0.75, 0.76,\n",
       "        0.77, 0.78, 0.79, 0.8 , 0.81, 0.82, 0.83, 0.84, 0.85, 0.86, 0.87,\n",
       "        0.88, 0.89, 0.9 , 0.91, 0.92, 0.93, 0.94, 0.95, 0.96, 0.97, 0.98,\n",
       "        0.99, 1.  ], dtype=float32),\n",
       " <BarContainer object of 100 artists>)"
      ]
     },
     "execution_count": 72,
     "metadata": {},
     "output_type": "execute_result"
    },
    {
     "data": {
      "image/png": "[encoded data removed]",
      "text/plain": [
       "<Figure size 432x288 with 1 Axes>"
      ]
     },
     "metadata": {
      "needs_background": "light"
     },
     "output_type": "display_data"
    }
   ],
   "source": [
    "plt.hist(first_npf_pts_stuff[interesting_variable],bins=100,range=(0,1))"
   ]
  },
  {
   "cell_type": "code",
   "execution_count": 73,
   "metadata": {
    "scrolled": true
   },
   "outputs": [
    {
     "data": {
      "text/plain": [
       "(array([ 0.,  7.,  4.,  7.,  9.,  9.,  7.,  7., 10.,  7.,  7., 10., 10.,\n",
       "        10.,  5.,  8.,  5., 13., 12., 10., 12.,  6., 10., 17., 11.,  9.,\n",
       "         9., 18., 13., 10., 13., 16., 14., 11., 16., 17., 11., 14., 10.,\n",
       "        15., 13., 12., 21., 13., 11., 17., 23., 10., 13., 27., 14., 21.,\n",
       "        20., 13., 16., 12., 16., 13., 10., 12., 15., 20., 13., 15., 17.,\n",
       "        18., 22., 17., 22., 14., 14., 15., 15., 17., 18., 25., 14., 16.,\n",
       "        21., 10., 16., 21., 18., 10., 18., 11., 27., 21., 19., 16., 14.,\n",
       "        24., 17., 25., 20., 28., 12., 16., 14., 18.]),\n",
       " array([0.95 , 0.951, 0.952, 0.953, 0.954, 0.955, 0.956, 0.957, 0.958,\n",
       "        0.959, 0.96 , 0.961, 0.962, 0.963, 0.964, 0.965, 0.966, 0.967,\n",
       "        0.968, 0.969, 0.97 , 0.971, 0.972, 0.973, 0.974, 0.975, 0.976,\n",
       "        0.977, 0.978, 0.979, 0.98 , 0.981, 0.982, 0.983, 0.984, 0.985,\n",
       "        0.986, 0.987, 0.988, 0.989, 0.99 , 0.991, 0.992, 0.993, 0.994,\n",
       "        0.995, 0.996, 0.997, 0.998, 0.999, 1.   , 1.001, 1.002, 1.003,\n",
       "        1.004, 1.005, 1.006, 1.007, 1.008, 1.009, 1.01 , 1.011, 1.012,\n",
       "        1.013, 1.014, 1.015, 1.016, 1.017, 1.018, 1.019, 1.02 , 1.021,\n",
       "        1.022, 1.023, 1.024, 1.025, 1.026, 1.027, 1.028, 1.029, 1.03 ,\n",
       "        1.031, 1.032, 1.033, 1.034, 1.035, 1.036, 1.037, 1.038, 1.039,\n",
       "        1.04 , 1.041, 1.042, 1.043, 1.044, 1.045, 1.046, 1.047, 1.048,\n",
       "        1.049, 1.05 ], dtype=float32),\n",
       " <BarContainer object of 100 artists>)"
      ]
     },
     "execution_count": 73,
     "metadata": {},
     "output_type": "execute_result"
    },
    {
     "data": {
      "image/png": "[encoded data removed]",
      "text/plain": [
       "<Figure size 432x288 with 1 Axes>"
      ]
     },
     "metadata": {
      "needs_background": "light"
     },
     "output_type": "display_data"
    }
   ],
   "source": [
    "plt.hist(first_npf_pts_stuff[interesting_variable],bins=100,range=(0.95,1.05))"
   ]
  },
  {
   "cell_type": "code",
   "execution_count": 74,
   "metadata": {
    "scrolled": true
   },
   "outputs": [
    {
     "data": {
      "text/plain": [
       "(array([  95.,  131.,  108.,   95.,  109.,  119.,  110.,  129.,   92.,\n",
       "          99.,   97.,  101.,  102.,  105.,   97.,   98.,  112.,  110.,\n",
       "         105.,  569.,  850., 1041., 1188., 1339., 1335., 1373., 1507.,\n",
       "        1471., 1469., 1478., 1536., 1599., 1558., 1524., 1612., 1527.,\n",
       "        1527., 1561., 1531., 1537., 1451., 1524., 1430., 1492., 1507.,\n",
       "        1390., 1467., 1381., 1404., 1507., 1474., 1448., 1324., 1502.,\n",
       "        1429., 1451., 1401., 1362., 1431., 1353., 1485., 1291., 1470.,\n",
       "        1289., 1290., 1321., 1205., 1191., 1202., 1191., 1191., 1151.,\n",
       "        1149., 1194., 1186., 1054., 1027., 1182., 1094., 1138., 1034.,\n",
       "        1087., 1109., 1062., 1074.,  988., 1037., 1083.,  997.,  945.,\n",
       "        1106.,  980.,  990.,  932.,  968., 1007.,  944.,  997.,  943.,\n",
       "        1011.]),\n",
       " array([0.  , 0.05, 0.1 , 0.15, 0.2 , 0.25, 0.3 , 0.35, 0.4 , 0.45, 0.5 ,\n",
       "        0.55, 0.6 , 0.65, 0.7 , 0.75, 0.8 , 0.85, 0.9 , 0.95, 1.  , 1.05,\n",
       "        1.1 , 1.15, 1.2 , 1.25, 1.3 , 1.35, 1.4 , 1.45, 1.5 , 1.55, 1.6 ,\n",
       "        1.65, 1.7 , 1.75, 1.8 , 1.85, 1.9 , 1.95, 2.  , 2.05, 2.1 , 2.15,\n",
       "        2.2 , 2.25, 2.3 , 2.35, 2.4 , 2.45, 2.5 , 2.55, 2.6 , 2.65, 2.7 ,\n",
       "        2.75, 2.8 , 2.85, 2.9 , 2.95, 3.  , 3.05, 3.1 , 3.15, 3.2 , 3.25,\n",
       "        3.3 , 3.35, 3.4 , 3.45, 3.5 , 3.55, 3.6 , 3.65, 3.7 , 3.75, 3.8 ,\n",
       "        3.85, 3.9 , 3.95, 4.  , 4.05, 4.1 , 4.15, 4.2 , 4.25, 4.3 , 4.35,\n",
       "        4.4 , 4.45, 4.5 , 4.55, 4.6 , 4.65, 4.7 , 4.75, 4.8 , 4.85, 4.9 ,\n",
       "        4.95, 5.  ], dtype=float32),\n",
       " <BarContainer object of 100 artists>)"
      ]
     },
     "execution_count": 74,
     "metadata": {},
     "output_type": "execute_result"
    },
    {
     "data": {
      "image/png": "[encoded data removed]",
      "text/plain": [
       "<Figure size 432x288 with 1 Axes>"
      ]
     },
     "metadata": {
      "needs_background": "light"
     },
     "output_type": "display_data"
    }
   ],
   "source": [
    "plt.hist(first_npf_pts_stuff[interesting_variable],bins=100,range=(0,5))"
   ]
  },
  {
   "cell_type": "code",
   "execution_count": 75,
   "metadata": {
    "scrolled": true
   },
   "outputs": [
    {
     "data": {
      "text/plain": [
       "(array([   0.,    0.,    0.,    0.,    0.,    0.,    0.,    0.,    0.,\n",
       "           0.,    0.,    0.,    0.,    0.,    0.,    0.,    0.,    0.,\n",
       "           0.,    0.,    0.,    0.,    0.,   43.,  264.,  253.,  249.,\n",
       "         225.,  277.,  264.,  262.,  263.,  291.,  272.,  278.,  273.,\n",
       "         264.,  297.,  248.,  299.,  262.,  234.,  260.,  239.,  256.,\n",
       "         280.,  273.,  285.,  263.,  225.,  269.,  249.,  274.,  256.,\n",
       "         237.,  245.,  251.,  300., 1948., 2972., 3301., 3583., 3588.,\n",
       "        3736., 3781., 3673., 3644., 3529., 3542., 3410., 3477., 3385.,\n",
       "        3530., 3347., 3347., 3388., 3195., 2999., 2862., 2833., 2805.,\n",
       "        2613., 2703., 2599., 2596., 2483., 2519., 2424., 2328., 2353.,\n",
       "        2305., 2253., 2132., 2056., 2161., 2154., 1987., 2054., 2074.,\n",
       "        1902.]),\n",
       " array([-6.  , -5.88, -5.76, -5.64, -5.52, -5.4 , -5.28, -5.16, -5.04,\n",
       "        -4.92, -4.8 , -4.68, -4.56, -4.44, -4.32, -4.2 , -4.08, -3.96,\n",
       "        -3.84, -3.72, -3.6 , -3.48, -3.36, -3.24, -3.12, -3.  , -2.88,\n",
       "        -2.76, -2.64, -2.52, -2.4 , -2.28, -2.16, -2.04, -1.92, -1.8 ,\n",
       "        -1.68, -1.56, -1.44, -1.32, -1.2 , -1.08, -0.96, -0.84, -0.72,\n",
       "        -0.6 , -0.48, -0.36, -0.24, -0.12,  0.  ,  0.12,  0.24,  0.36,\n",
       "         0.48,  0.6 ,  0.72,  0.84,  0.96,  1.08,  1.2 ,  1.32,  1.44,\n",
       "         1.56,  1.68,  1.8 ,  1.92,  2.04,  2.16,  2.28,  2.4 ,  2.52,\n",
       "         2.64,  2.76,  2.88,  3.  ,  3.12,  3.24,  3.36,  3.48,  3.6 ,\n",
       "         3.72,  3.84,  3.96,  4.08,  4.2 ,  4.32,  4.44,  4.56,  4.68,\n",
       "         4.8 ,  4.92,  5.04,  5.16,  5.28,  5.4 ,  5.52,  5.64,  5.76,\n",
       "         5.88,  6.  ], dtype=float32),\n",
       " <BarContainer object of 100 artists>)"
      ]
     },
     "execution_count": 75,
     "metadata": {},
     "output_type": "execute_result"
    },
    {
     "data": {
      "image/png": "[encoded data removed]",
      "text/plain": [
       "<Figure size 432x288 with 1 Axes>"
      ]
     },
     "metadata": {
      "needs_background": "light"
     },
     "output_type": "display_data"
    }
   ],
   "source": [
    "plt.hist(first_npf_pts_stuff[interesting_variable],bins=100,range=(-6,6))"
   ]
  },
  {
   "cell_type": "code",
   "execution_count": 76,
   "metadata": {
    "scrolled": true
   },
   "outputs": [
    {
     "data": {
      "text/plain": [
       "(array([2.65693e+05, 3.61850e+04, 1.85300e+04, 1.27380e+04, 9.58500e+03,\n",
       "        7.81300e+03, 6.49000e+03, 5.57300e+03, 4.86300e+03, 4.06000e+03,\n",
       "        3.57300e+03, 3.06000e+03, 2.69200e+03, 2.37700e+03, 2.01200e+03,\n",
       "        1.73100e+03, 1.50400e+03, 1.32600e+03, 1.18800e+03, 9.93000e+02,\n",
       "        9.71000e+02, 8.46000e+02, 7.14000e+02, 6.14000e+02, 4.79000e+02,\n",
       "        5.06000e+02, 4.08000e+02, 3.79000e+02, 3.34000e+02, 2.81000e+02,\n",
       "        2.63000e+02, 2.17000e+02, 2.15000e+02, 2.05000e+02, 1.64000e+02,\n",
       "        1.44000e+02, 1.08000e+02, 1.19000e+02, 1.12000e+02, 1.05000e+02,\n",
       "        9.20000e+01, 7.60000e+01, 6.80000e+01, 6.30000e+01, 6.20000e+01,\n",
       "        5.20000e+01, 4.60000e+01, 4.20000e+01, 2.40000e+01, 3.20000e+01,\n",
       "        2.50000e+01, 2.60000e+01, 2.00000e+01, 2.30000e+01, 1.90000e+01,\n",
       "        1.80000e+01, 1.50000e+01, 1.30000e+01, 2.30000e+01, 7.00000e+00,\n",
       "        8.00000e+00, 9.00000e+00, 5.00000e+00, 9.00000e+00, 1.00000e+00,\n",
       "        6.00000e+00, 6.00000e+00, 3.00000e+00, 3.00000e+00, 4.00000e+00,\n",
       "        4.00000e+00, 2.00000e+00, 1.00000e+00, 8.00000e+00, 3.00000e+00,\n",
       "        1.00000e+00, 1.00000e+00, 2.00000e+00, 1.00000e+00, 1.00000e+00,\n",
       "        0.00000e+00, 0.00000e+00, 0.00000e+00, 0.00000e+00, 0.00000e+00,\n",
       "        0.00000e+00, 0.00000e+00, 1.00000e+00, 0.00000e+00, 1.00000e+00,\n",
       "        1.00000e+00, 0.00000e+00, 1.00000e+00, 0.00000e+00, 0.00000e+00,\n",
       "        0.00000e+00, 0.00000e+00, 1.00000e+00, 0.00000e+00, 1.00000e+00]),\n",
       " array([-3.1414101e+00,  3.4614975e+01,  7.2371361e+01,  1.1012775e+02,\n",
       "         1.4788412e+02,  1.8564052e+02,  2.2339690e+02,  2.6115329e+02,\n",
       "         2.9890967e+02,  3.3666605e+02,  3.7442242e+02,  4.1217883e+02,\n",
       "         4.4993521e+02,  4.8769159e+02,  5.2544800e+02,  5.6320435e+02,\n",
       "         6.0096075e+02,  6.3871710e+02,  6.7647351e+02,  7.1422992e+02,\n",
       "         7.5198627e+02,  7.8974268e+02,  8.2749908e+02,  8.6525543e+02,\n",
       "         9.0301184e+02,  9.4076819e+02,  9.7852460e+02,  1.0162810e+03,\n",
       "         1.0540374e+03,  1.0917937e+03,  1.1295502e+03,  1.1673065e+03,\n",
       "         1.2050629e+03,  1.2428193e+03,  1.2805757e+03,  1.3183320e+03,\n",
       "         1.3560885e+03,  1.3938448e+03,  1.4316012e+03,  1.4693575e+03,\n",
       "         1.5071140e+03,  1.5448704e+03,  1.5826267e+03,  1.6203832e+03,\n",
       "         1.6581395e+03,  1.6958959e+03,  1.7336523e+03,  1.7714087e+03,\n",
       "         1.8091650e+03,  1.8469214e+03,  1.8846779e+03,  1.9224342e+03,\n",
       "         1.9601906e+03,  1.9979470e+03,  2.0357034e+03,  2.0734597e+03,\n",
       "         2.1112161e+03,  2.1489724e+03,  2.1867290e+03,  2.2244854e+03,\n",
       "         2.2622417e+03,  2.2999980e+03,  2.3377544e+03,  2.3755107e+03,\n",
       "         2.4132673e+03,  2.4510237e+03,  2.4887800e+03,  2.5265364e+03,\n",
       "         2.5642927e+03,  2.6020491e+03,  2.6398054e+03,  2.6775620e+03,\n",
       "         2.7153184e+03,  2.7530747e+03,  2.7908311e+03,  2.8285874e+03,\n",
       "         2.8663438e+03,  2.9041003e+03,  2.9418567e+03,  2.9796130e+03,\n",
       "         3.0173694e+03,  3.0551257e+03,  3.0928821e+03,  3.1306384e+03,\n",
       "         3.1683950e+03,  3.2061514e+03,  3.2439077e+03,  3.2816641e+03,\n",
       "         3.3194204e+03,  3.3571768e+03,  3.3949331e+03,  3.4326897e+03,\n",
       "         3.4704460e+03,  3.5082024e+03,  3.5459587e+03,  3.5837151e+03,\n",
       "         3.6214714e+03,  3.6592280e+03,  3.6969844e+03,  3.7347407e+03,\n",
       "         3.7724971e+03], dtype=float32),\n",
       " <BarContainer object of 100 artists>)"
      ]
     },
     "execution_count": 76,
     "metadata": {},
     "output_type": "execute_result"
    },
    {
     "data": {
      "image/png": "[encoded data removed]",
      "text/plain": [
       "<Figure size 432x288 with 1 Axes>"
      ]
     },
     "metadata": {
      "needs_background": "light"
     },
     "output_type": "display_data"
    }
   ],
   "source": [
    "plt.hist(first_npf_pts_stuff[interesting_variable],bins=100)"
   ]
  },
  {
   "cell_type": "code",
   "execution_count": 77,
   "metadata": {},
   "outputs": [],
   "source": [
    "first_vtx_pts_stuff = ak.to_numpy(df_vtx_pts_clip[:,0])"
   ]
  },
  {
   "cell_type": "code",
   "execution_count": 78,
   "metadata": {},
   "outputs": [
    {
     "data": {
      "text/plain": [
       "array([(40.92438  , -1.6263797 ,  1.1669405 , 108.09734  ),\n",
       "       (17.476078 , -1.44862   , -0.68554014,  39.263157 ),\n",
       "       ( 4.3416257,  0.7246975 ,  0.35156727,   5.606667 ), ...,\n",
       "       (13.906122 ,  0.48273987, -0.94644225,  15.680996 ),\n",
       "       ( 6.1343594,  0.17103565, -3.0363085 ,   6.2517395),\n",
       "       (24.378696 , 24.378696  ,  1.2510147 ,   2.3031962)],\n",
       "      dtype=[('sv_pt', '<f4'), ('sv_eta', '<f4'), ('sv_phi', '<f4'), ('sv_e', '<f4')])"
      ]
     },
     "execution_count": 78,
     "metadata": {},
     "output_type": "execute_result"
    }
   ],
   "source": [
    "first_vtx_pts_stuff"
   ]
  },
  {
   "cell_type": "code",
   "execution_count": 79,
   "metadata": {
    "scrolled": true
   },
   "outputs": [
    {
     "data": {
      "text/plain": [
       "(array([0., 0., 0., 0., 0., 0., 0., 0., 0., 0., 0., 0., 0., 0., 0., 0., 0.,\n",
       "        0., 0., 0., 0., 0., 0., 0., 0., 0., 0., 0., 0., 0., 0., 0., 0., 0.,\n",
       "        0., 0., 0., 0., 0., 0., 0., 0., 0., 0., 0., 0., 0., 0., 0., 0., 0.,\n",
       "        0., 0., 0., 0., 0., 0., 0., 0., 0., 0., 0., 0., 0., 0., 0., 0., 0.,\n",
       "        0., 0., 0., 0., 0., 0., 0., 0., 0., 0., 0., 0., 0., 0., 0., 0., 0.,\n",
       "        0., 0., 0., 0., 0., 0., 0., 0., 0., 0., 0., 0., 0., 0., 0.]),\n",
       " array([-1000.   ,  -999.985,  -999.97 ,  -999.955,  -999.94 ,  -999.925,\n",
       "         -999.91 ,  -999.895,  -999.88 ,  -999.865,  -999.85 ,  -999.835,\n",
       "         -999.82 ,  -999.805,  -999.79 ,  -999.775,  -999.76 ,  -999.745,\n",
       "         -999.73 ,  -999.715,  -999.7  ,  -999.685,  -999.67 ,  -999.655,\n",
       "         -999.64 ,  -999.625,  -999.61 ,  -999.595,  -999.58 ,  -999.565,\n",
       "         -999.55 ,  -999.535,  -999.52 ,  -999.505,  -999.49 ,  -999.475,\n",
       "         -999.46 ,  -999.445,  -999.43 ,  -999.415,  -999.4  ,  -999.385,\n",
       "         -999.37 ,  -999.355,  -999.34 ,  -999.325,  -999.31 ,  -999.295,\n",
       "         -999.28 ,  -999.265,  -999.25 ,  -999.235,  -999.22 ,  -999.205,\n",
       "         -999.19 ,  -999.175,  -999.16 ,  -999.145,  -999.13 ,  -999.115,\n",
       "         -999.1  ,  -999.085,  -999.07 ,  -999.055,  -999.04 ,  -999.025,\n",
       "         -999.01 ,  -998.995,  -998.98 ,  -998.965,  -998.95 ,  -998.935,\n",
       "         -998.92 ,  -998.905,  -998.89 ,  -998.875,  -998.86 ,  -998.845,\n",
       "         -998.83 ,  -998.815,  -998.8  ,  -998.785,  -998.77 ,  -998.755,\n",
       "         -998.74 ,  -998.725,  -998.71 ,  -998.695,  -998.68 ,  -998.665,\n",
       "         -998.65 ,  -998.635,  -998.62 ,  -998.605,  -998.59 ,  -998.575,\n",
       "         -998.56 ,  -998.545,  -998.53 ,  -998.515,  -998.5  ],\n",
       "       dtype=float32),\n",
       " <BarContainer object of 100 artists>)"
      ]
     },
     "execution_count": 79,
     "metadata": {},
     "output_type": "execute_result"
    },
    {
     "data": {
      "image/png": "[encoded data removed]",
      "text/plain": [
       "<Figure size 432x288 with 1 Axes>"
      ]
     },
     "metadata": {
      "needs_background": "light"
     },
     "output_type": "display_data"
    }
   ],
   "source": [
    "interesting_variable = 'sv_e'\n",
    "#plt.hist(first_cpf_stuff[interesting_variable],bins=100)\n",
    "plt.hist(first_vtx_pts_stuff[interesting_variable],bins=100,range=(-1000,-998.5))"
   ]
  },
  {
   "cell_type": "code",
   "execution_count": 80,
   "metadata": {
    "scrolled": true
   },
   "outputs": [
    {
     "data": {
      "text/plain": [
       "(array([343., 293., 320., 286., 306., 336., 295., 312., 254., 323., 254.,\n",
       "        287., 293., 284., 279., 296., 336., 378., 301., 322., 282., 294.,\n",
       "        313., 310., 334., 348., 340., 282., 323., 292., 324., 327., 286.,\n",
       "        333., 340., 376., 316., 295., 306., 311., 313., 292., 272., 355.,\n",
       "        272., 296., 268., 295., 257., 302., 297., 318., 375., 305., 326.,\n",
       "        296., 264., 289., 294., 309., 298., 333., 338., 322., 277., 291.,\n",
       "        271., 275., 315., 365., 299., 335., 291., 306., 332., 327., 303.,\n",
       "        285., 347., 288., 303., 319., 303., 283., 336., 353., 296., 373.,\n",
       "        294., 303., 337., 303., 279., 335., 315., 372., 274., 307., 296.,\n",
       "        260.]),\n",
       " array([-1.01  , -0.9999, -0.9898, -0.9797, -0.9696, -0.9595, -0.9494,\n",
       "        -0.9393, -0.9292, -0.9191, -0.909 , -0.8989, -0.8888, -0.8787,\n",
       "        -0.8686, -0.8585, -0.8484, -0.8383, -0.8282, -0.8181, -0.808 ,\n",
       "        -0.7979, -0.7878, -0.7777, -0.7676, -0.7575, -0.7474, -0.7373,\n",
       "        -0.7272, -0.7171, -0.707 , -0.6969, -0.6868, -0.6767, -0.6666,\n",
       "        -0.6565, -0.6464, -0.6363, -0.6262, -0.6161, -0.606 , -0.5959,\n",
       "        -0.5858, -0.5757, -0.5656, -0.5555, -0.5454, -0.5353, -0.5252,\n",
       "        -0.5151, -0.505 , -0.4949, -0.4848, -0.4747, -0.4646, -0.4545,\n",
       "        -0.4444, -0.4343, -0.4242, -0.4141, -0.404 , -0.3939, -0.3838,\n",
       "        -0.3737, -0.3636, -0.3535, -0.3434, -0.3333, -0.3232, -0.3131,\n",
       "        -0.303 , -0.2929, -0.2828, -0.2727, -0.2626, -0.2525, -0.2424,\n",
       "        -0.2323, -0.2222, -0.2121, -0.202 , -0.1919, -0.1818, -0.1717,\n",
       "        -0.1616, -0.1515, -0.1414, -0.1313, -0.1212, -0.1111, -0.101 ,\n",
       "        -0.0909, -0.0808, -0.0707, -0.0606, -0.0505, -0.0404, -0.0303,\n",
       "        -0.0202, -0.0101,  0.    ], dtype=float32),\n",
       " <BarContainer object of 100 artists>)"
      ]
     },
     "execution_count": 80,
     "metadata": {},
     "output_type": "execute_result"
    },
    {
     "data": {
      "image/png": "[encoded data removed]",
      "text/plain": [
       "<Figure size 432x288 with 1 Axes>"
      ]
     },
     "metadata": {
      "needs_background": "light"
     },
     "output_type": "display_data"
    }
   ],
   "source": [
    "plt.hist(first_vtx_pts_stuff[interesting_variable],bins=100,range=(-1.01,0))"
   ]
  },
  {
   "cell_type": "code",
   "execution_count": 81,
   "metadata": {
    "scrolled": true
   },
   "outputs": [
    {
     "data": {
      "text/plain": [
       "(array([105., 165., 129., 102., 130., 148., 146., 117., 114., 107., 103.,\n",
       "        113., 120., 119.,  93., 128., 104.,  94., 127., 125., 113., 122.,\n",
       "        131., 168., 126., 118., 135., 113., 142., 119., 107., 122., 127.,\n",
       "        113., 126., 145., 129., 151., 101., 125., 112., 127.,  89., 124.,\n",
       "        124., 182., 109.,  95., 133., 116., 140., 100., 135., 106., 132.,\n",
       "        119., 124.,  87., 134., 119., 138., 146., 124., 159., 117., 108.,\n",
       "        127., 179., 118., 130., 119., 116., 128., 113., 114., 148., 128.,\n",
       "        117., 127., 120.,  95., 125., 120., 134., 121., 133., 129., 133.,\n",
       "        125., 164., 107., 124., 124.,  88., 135., 109., 113., 132., 107.,\n",
       "         93.]),\n",
       " array([-0.4  , -0.396, -0.392, -0.388, -0.384, -0.38 , -0.376, -0.372,\n",
       "        -0.368, -0.364, -0.36 , -0.356, -0.352, -0.348, -0.344, -0.34 ,\n",
       "        -0.336, -0.332, -0.328, -0.324, -0.32 , -0.316, -0.312, -0.308,\n",
       "        -0.304, -0.3  , -0.296, -0.292, -0.288, -0.284, -0.28 , -0.276,\n",
       "        -0.272, -0.268, -0.264, -0.26 , -0.256, -0.252, -0.248, -0.244,\n",
       "        -0.24 , -0.236, -0.232, -0.228, -0.224, -0.22 , -0.216, -0.212,\n",
       "        -0.208, -0.204, -0.2  , -0.196, -0.192, -0.188, -0.184, -0.18 ,\n",
       "        -0.176, -0.172, -0.168, -0.164, -0.16 , -0.156, -0.152, -0.148,\n",
       "        -0.144, -0.14 , -0.136, -0.132, -0.128, -0.124, -0.12 , -0.116,\n",
       "        -0.112, -0.108, -0.104, -0.1  , -0.096, -0.092, -0.088, -0.084,\n",
       "        -0.08 , -0.076, -0.072, -0.068, -0.064, -0.06 , -0.056, -0.052,\n",
       "        -0.048, -0.044, -0.04 , -0.036, -0.032, -0.028, -0.024, -0.02 ,\n",
       "        -0.016, -0.012, -0.008, -0.004,  0.   ], dtype=float32),\n",
       " <BarContainer object of 100 artists>)"
      ]
     },
     "execution_count": 81,
     "metadata": {},
     "output_type": "execute_result"
    },
    {
     "data": {
      "image/png": "[encoded data removed]",
      "text/plain": [
       "<Figure size 432x288 with 1 Axes>"
      ]
     },
     "metadata": {
      "needs_background": "light"
     },
     "output_type": "display_data"
    }
   ],
   "source": [
    "plt.hist(first_vtx_pts_stuff[interesting_variable],bins=100,range=(-0.40,0))"
   ]
  },
  {
   "cell_type": "code",
   "execution_count": 82,
   "metadata": {
    "scrolled": true
   },
   "outputs": [
    {
     "data": {
      "text/plain": [
       "(array([ 7.,  8.,  5.,  4.,  3.,  7.,  4.,  1.,  1.,  8.,  4.,  3.,  1.,\n",
       "        13., 10., 10.,  5.,  9.,  3.,  6.,  3.,  4.,  9.,  6.,  3.,  5.,\n",
       "         9.,  5.,  2.,  6.,  3., 70.,  6.,  3.,  6.,  8.,  2.,  6.,  2.,\n",
       "         5.,  9.,  7., 11.,  9., 13.,  2.,  5.,  3.,  4.,  5.,  4.,  7.,\n",
       "         5.,  5.,  6.,  2.,  8.,  6.,  4.,  8.,  4.,  8.,  6.,  4.,  6.,\n",
       "         8.,  4.,  4.,  4.,  7.,  3.,  6.,  8.,  7.,  5.,  6.,  5., 10.,\n",
       "         8.,  6.,  3.,  5.,  3.,  3.,  9.,  4.,  9.,  4.,  2.,  4.,  5.,\n",
       "         3.,  1.,  3.,  5.,  7.,  2.,  9., 12., 17.]),\n",
       " array([-1.01  , -1.0098, -1.0096, -1.0094, -1.0092, -1.009 , -1.0088,\n",
       "        -1.0086, -1.0084, -1.0082, -1.008 , -1.0078, -1.0076, -1.0074,\n",
       "        -1.0072, -1.007 , -1.0068, -1.0066, -1.0064, -1.0062, -1.006 ,\n",
       "        -1.0058, -1.0056, -1.0054, -1.0052, -1.005 , -1.0048, -1.0046,\n",
       "        -1.0044, -1.0042, -1.004 , -1.0038, -1.0036, -1.0034, -1.0032,\n",
       "        -1.003 , -1.0028, -1.0026, -1.0024, -1.0022, -1.002 , -1.0018,\n",
       "        -1.0016, -1.0014, -1.0012, -1.001 , -1.0008, -1.0006, -1.0004,\n",
       "        -1.0002, -1.    , -0.9998, -0.9996, -0.9994, -0.9992, -0.999 ,\n",
       "        -0.9988, -0.9986, -0.9984, -0.9982, -0.998 , -0.9978, -0.9976,\n",
       "        -0.9974, -0.9972, -0.997 , -0.9968, -0.9966, -0.9964, -0.9962,\n",
       "        -0.996 , -0.9958, -0.9956, -0.9954, -0.9952, -0.995 , -0.9948,\n",
       "        -0.9946, -0.9944, -0.9942, -0.994 , -0.9938, -0.9936, -0.9934,\n",
       "        -0.9932, -0.993 , -0.9928, -0.9926, -0.9924, -0.9922, -0.992 ,\n",
       "        -0.9918, -0.9916, -0.9914, -0.9912, -0.991 , -0.9908, -0.9906,\n",
       "        -0.9904, -0.9902, -0.99  ], dtype=float32),\n",
       " <BarContainer object of 100 artists>)"
      ]
     },
     "execution_count": 82,
     "metadata": {},
     "output_type": "execute_result"
    },
    {
     "data": {
      "image/png": "[encoded data removed]",
      "text/plain": [
       "<Figure size 432x288 with 1 Axes>"
      ]
     },
     "metadata": {
      "needs_background": "light"
     },
     "output_type": "display_data"
    }
   ],
   "source": [
    "plt.hist(first_vtx_pts_stuff[interesting_variable],bins=100,range=(-1.01,-0.99))"
   ]
  },
  {
   "cell_type": "code",
   "execution_count": 83,
   "metadata": {
    "scrolled": true
   },
   "outputs": [
    {
     "data": {
      "text/plain": [
       "(array([ 6.,  9.,  5.,  3.,  3.,  7.,  4.,  6., 12.,  2.,  1.,  4.,  5.,\n",
       "         1.,  6.,  6.,  7., 12.,  9.,  6.,  9.,  5.,  5.,  4.,  3.,  4.,\n",
       "         3.,  4.,  5.,  8.,  3.,  4.,  4.,  4.,  2.,  2.,  4.,  1.,  6.,\n",
       "         3.,  6.,  6.,  2.,  2., 10.,  6.,  8.,  4.,  9.,  5.,  8.,  5.,\n",
       "         7.,  2.,  4.,  4.,  6.,  5.,  4.,  4.,  5.,  6.,  9.,  5., 10.,\n",
       "         6.,  5.,  3.,  4., 12.,  8.,  4.,  7.,  2.,  2.,  7.,  5.,  6.,\n",
       "         9.,  1.,  3.,  7.,  8.,  2.,  2.,  5.,  2.,  3.,  5.,  7.,  6.,\n",
       "         8.,  6.,  5.,  2.,  4.,  4.,  3.,  1.,  2.]),\n",
       " array([-0.01  , -0.0098, -0.0096, -0.0094, -0.0092, -0.009 , -0.0088,\n",
       "        -0.0086, -0.0084, -0.0082, -0.008 , -0.0078, -0.0076, -0.0074,\n",
       "        -0.0072, -0.007 , -0.0068, -0.0066, -0.0064, -0.0062, -0.006 ,\n",
       "        -0.0058, -0.0056, -0.0054, -0.0052, -0.005 , -0.0048, -0.0046,\n",
       "        -0.0044, -0.0042, -0.004 , -0.0038, -0.0036, -0.0034, -0.0032,\n",
       "        -0.003 , -0.0028, -0.0026, -0.0024, -0.0022, -0.002 , -0.0018,\n",
       "        -0.0016, -0.0014, -0.0012, -0.001 , -0.0008, -0.0006, -0.0004,\n",
       "        -0.0002,  0.    ,  0.0002,  0.0004,  0.0006,  0.0008,  0.001 ,\n",
       "         0.0012,  0.0014,  0.0016,  0.0018,  0.002 ,  0.0022,  0.0024,\n",
       "         0.0026,  0.0028,  0.003 ,  0.0032,  0.0034,  0.0036,  0.0038,\n",
       "         0.004 ,  0.0042,  0.0044,  0.0046,  0.0048,  0.005 ,  0.0052,\n",
       "         0.0054,  0.0056,  0.0058,  0.006 ,  0.0062,  0.0064,  0.0066,\n",
       "         0.0068,  0.007 ,  0.0072,  0.0074,  0.0076,  0.0078,  0.008 ,\n",
       "         0.0082,  0.0084,  0.0086,  0.0088,  0.009 ,  0.0092,  0.0094,\n",
       "         0.0096,  0.0098,  0.01  ], dtype=float32),\n",
       " <BarContainer object of 100 artists>)"
      ]
     },
     "execution_count": 83,
     "metadata": {},
     "output_type": "execute_result"
    },
    {
     "data": {
      "image/png": "[encoded data removed]",
      "text/plain": [
       "<Figure size 432x288 with 1 Axes>"
      ]
     },
     "metadata": {
      "needs_background": "light"
     },
     "output_type": "display_data"
    }
   ],
   "source": [
    "plt.hist(first_vtx_pts_stuff[interesting_variable],bins=100,range=(-0.01,0.01))"
   ]
  },
  {
   "cell_type": "code",
   "execution_count": 84,
   "metadata": {
    "scrolled": true
   },
   "outputs": [
    {
     "data": {
      "text/plain": [
       "(array([250., 272., 295., 263., 390., 311., 320., 272., 306., 279., 285.,\n",
       "        270., 286., 369., 325., 314., 306., 249., 321., 279., 270., 348.,\n",
       "        309., 313., 277., 348., 303., 311., 305., 336., 344., 302., 293.,\n",
       "        343., 271., 311., 291., 322., 324., 342., 325., 309., 315., 263.,\n",
       "        312., 300., 272., 339., 312., 327., 315., 310., 256., 295., 276.,\n",
       "        307., 369., 305., 301., 302., 320., 285., 289., 324., 297., 350.,\n",
       "        316., 266., 308., 289., 293., 301., 312., 282., 328., 292., 315.,\n",
       "        296., 260., 305., 277., 298., 332., 296., 309., 303., 280., 274.,\n",
       "        279., 291., 251., 336., 294., 310., 304., 289., 269., 308., 321.,\n",
       "        272.]),\n",
       " array([0.  , 0.01, 0.02, 0.03, 0.04, 0.05, 0.06, 0.07, 0.08, 0.09, 0.1 ,\n",
       "        0.11, 0.12, 0.13, 0.14, 0.15, 0.16, 0.17, 0.18, 0.19, 0.2 , 0.21,\n",
       "        0.22, 0.23, 0.24, 0.25, 0.26, 0.27, 0.28, 0.29, 0.3 , 0.31, 0.32,\n",
       "        0.33, 0.34, 0.35, 0.36, 0.37, 0.38, 0.39, 0.4 , 0.41, 0.42, 0.43,\n",
       "        0.44, 0.45, 0.46, 0.47, 0.48, 0.49, 0.5 , 0.51, 0.52, 0.53, 0.54,\n",
       "        0.55, 0.56, 0.57, 0.58, 0.59, 0.6 , 0.61, 0.62, 0.63, 0.64, 0.65,\n",
       "        0.66, 0.67, 0.68, 0.69, 0.7 , 0.71, 0.72, 0.73, 0.74, 0.75, 0.76,\n",
       "        0.77, 0.78, 0.79, 0.8 , 0.81, 0.82, 0.83, 0.84, 0.85, 0.86, 0.87,\n",
       "        0.88, 0.89, 0.9 , 0.91, 0.92, 0.93, 0.94, 0.95, 0.96, 0.97, 0.98,\n",
       "        0.99, 1.  ], dtype=float32),\n",
       " <BarContainer object of 100 artists>)"
      ]
     },
     "execution_count": 84,
     "metadata": {},
     "output_type": "execute_result"
    },
    {
     "data": {
      "image/png": "[encoded data removed]",
      "text/plain": [
       "<Figure size 432x288 with 1 Axes>"
      ]
     },
     "metadata": {
      "needs_background": "light"
     },
     "output_type": "display_data"
    }
   ],
   "source": [
    "plt.hist(first_vtx_pts_stuff[interesting_variable],bins=100,range=(0,1))"
   ]
  },
  {
   "cell_type": "code",
   "execution_count": 85,
   "metadata": {
    "scrolled": true
   },
   "outputs": [
    {
     "data": {
      "text/plain": [
       "(array([27., 34., 20., 22., 35., 28., 29., 33., 19., 42., 28., 19., 18.,\n",
       "        24., 31., 28., 45., 36., 19., 21., 22., 45., 28., 27., 34., 28.,\n",
       "        27., 37., 32., 28., 29., 26., 29., 31., 41., 28., 38., 22., 44.,\n",
       "        33., 25., 28., 30., 23., 26., 36., 30., 24., 26., 24., 25., 37.,\n",
       "        17., 87., 20., 31., 42., 18., 33., 27., 27., 26., 25., 26., 19.,\n",
       "        26., 24., 32., 49., 18., 23., 28., 17., 44., 27., 26., 28., 27.,\n",
       "        29., 28., 27., 28., 27., 26., 32., 53., 28., 21., 25., 19., 29.,\n",
       "        26., 17., 35., 29., 22., 16., 25., 29., 26.]),\n",
       " array([0.95 , 0.951, 0.952, 0.953, 0.954, 0.955, 0.956, 0.957, 0.958,\n",
       "        0.959, 0.96 , 0.961, 0.962, 0.963, 0.964, 0.965, 0.966, 0.967,\n",
       "        0.968, 0.969, 0.97 , 0.971, 0.972, 0.973, 0.974, 0.975, 0.976,\n",
       "        0.977, 0.978, 0.979, 0.98 , 0.981, 0.982, 0.983, 0.984, 0.985,\n",
       "        0.986, 0.987, 0.988, 0.989, 0.99 , 0.991, 0.992, 0.993, 0.994,\n",
       "        0.995, 0.996, 0.997, 0.998, 0.999, 1.   , 1.001, 1.002, 1.003,\n",
       "        1.004, 1.005, 1.006, 1.007, 1.008, 1.009, 1.01 , 1.011, 1.012,\n",
       "        1.013, 1.014, 1.015, 1.016, 1.017, 1.018, 1.019, 1.02 , 1.021,\n",
       "        1.022, 1.023, 1.024, 1.025, 1.026, 1.027, 1.028, 1.029, 1.03 ,\n",
       "        1.031, 1.032, 1.033, 1.034, 1.035, 1.036, 1.037, 1.038, 1.039,\n",
       "        1.04 , 1.041, 1.042, 1.043, 1.044, 1.045, 1.046, 1.047, 1.048,\n",
       "        1.049, 1.05 ], dtype=float32),\n",
       " <BarContainer object of 100 artists>)"
      ]
     },
     "execution_count": 85,
     "metadata": {},
     "output_type": "execute_result"
    },
    {
     "data": {
      "image/png": "[encoded data removed]",
      "text/plain": [
       "<Figure size 432x288 with 1 Axes>"
      ]
     },
     "metadata": {
      "needs_background": "light"
     },
     "output_type": "display_data"
    }
   ],
   "source": [
    "plt.hist(first_vtx_pts_stuff[interesting_variable],bins=100,range=(0.95,1.05))"
   ]
  },
  {
   "cell_type": "code",
   "execution_count": 86,
   "metadata": {
    "scrolled": true
   },
   "outputs": [
    {
     "data": {
      "text/plain": [
       "(array([1470., 1488., 1535., 1469., 1517., 1603., 1553., 1590., 1524.,\n",
       "        1550., 1452., 1584., 1515., 1529., 1516., 1468., 1512., 1427.,\n",
       "        1495., 1459., 1426., 1439., 1405., 1459., 1429., 1555., 1470.,\n",
       "        1492., 1490., 1496., 1515., 1345., 1533., 1456., 1530., 1520.,\n",
       "        1460., 1554., 1445., 1699., 1541., 1547., 1564., 1497., 1620.,\n",
       "        1609., 1698., 1673., 1637., 1607., 1631., 1555., 1565., 1542.,\n",
       "        1518., 1538., 1623., 1601., 1576., 1489., 1590., 1629., 1310.,\n",
       "         195.,  183.,  174.,  206.,  214.,  193.,  210.,  205.,  199.,\n",
       "         193.,  228.,  214.,  235.,  216.,  218.,  227.,  229.,  197.,\n",
       "         223.,  221.,  222.,  242.,  189.,  243.,  231.,  227.,  215.,\n",
       "         283.,  258.,  228.,  257.,  218.,  240.,  243.,  240.,  253.,\n",
       "         247.]),\n",
       " array([0.  , 0.05, 0.1 , 0.15, 0.2 , 0.25, 0.3 , 0.35, 0.4 , 0.45, 0.5 ,\n",
       "        0.55, 0.6 , 0.65, 0.7 , 0.75, 0.8 , 0.85, 0.9 , 0.95, 1.  , 1.05,\n",
       "        1.1 , 1.15, 1.2 , 1.25, 1.3 , 1.35, 1.4 , 1.45, 1.5 , 1.55, 1.6 ,\n",
       "        1.65, 1.7 , 1.75, 1.8 , 1.85, 1.9 , 1.95, 2.  , 2.05, 2.1 , 2.15,\n",
       "        2.2 , 2.25, 2.3 , 2.35, 2.4 , 2.45, 2.5 , 2.55, 2.6 , 2.65, 2.7 ,\n",
       "        2.75, 2.8 , 2.85, 2.9 , 2.95, 3.  , 3.05, 3.1 , 3.15, 3.2 , 3.25,\n",
       "        3.3 , 3.35, 3.4 , 3.45, 3.5 , 3.55, 3.6 , 3.65, 3.7 , 3.75, 3.8 ,\n",
       "        3.85, 3.9 , 3.95, 4.  , 4.05, 4.1 , 4.15, 4.2 , 4.25, 4.3 , 4.35,\n",
       "        4.4 , 4.45, 4.5 , 4.55, 4.6 , 4.65, 4.7 , 4.75, 4.8 , 4.85, 4.9 ,\n",
       "        4.95, 5.  ], dtype=float32),\n",
       " <BarContainer object of 100 artists>)"
      ]
     },
     "execution_count": 86,
     "metadata": {},
     "output_type": "execute_result"
    },
    {
     "data": {
      "image/png": "[encoded data removed]",
      "text/plain": [
       "<Figure size 432x288 with 1 Axes>"
      ]
     },
     "metadata": {
      "needs_background": "light"
     },
     "output_type": "display_data"
    }
   ],
   "source": [
    "plt.hist(first_vtx_pts_stuff[interesting_variable],bins=100,range=(0,5))"
   ]
  },
  {
   "cell_type": "code",
   "execution_count": 87,
   "metadata": {
    "scrolled": true
   },
   "outputs": [
    {
     "data": {
      "text/plain": [
       "(array([14366., 14696., 15670., 15445.,  6866.,  2092.,  2183.,  2382.,\n",
       "         2406.,  2366.,  2435.,  2491.,  2436.,  2351.,  2356.,  2261.,\n",
       "         2282.,  2369.,  2321.,  2163.,  2184.,  2083.,  2048.,  2075.,\n",
       "         1962.,  1939.,  1908.,  1868.,  1863.,  1821.,  1855.,  1815.,\n",
       "         1763.,  1680.,  1661.,  1610.,  1535.,  1580.,  1527.,  1537.,\n",
       "         1518.,  1456.,  1441.,  1416.,  1353.,  1399.,  1376.,  1258.,\n",
       "         1293.,  1307.,  1258.,  1183.,  1188.,  1241.,  1129.,  1154.,\n",
       "         1062.,  1113.,  1061.,  1042.,  1103.,  1070.,  1001.,   977.,\n",
       "          979.,   968.,   968.,   945.,   935.,   905.,   885.,   917.,\n",
       "          925.,   845.,   833.,   837.,   797.,   815.,   779.,   771.,\n",
       "          780.,   766.,   783.,   730.,   733.,   750.,   670.,   689.,\n",
       "          701.,   684.,   678.,   669.,   663.,   642.,   676.,   639.,\n",
       "          650.,   636.,   617.,   587.]),\n",
       " array([ 1.  ,  1.49,  1.98,  2.47,  2.96,  3.45,  3.94,  4.43,  4.92,\n",
       "         5.41,  5.9 ,  6.39,  6.88,  7.37,  7.86,  8.35,  8.84,  9.33,\n",
       "         9.82, 10.31, 10.8 , 11.29, 11.78, 12.27, 12.76, 13.25, 13.74,\n",
       "        14.23, 14.72, 15.21, 15.7 , 16.19, 16.68, 17.17, 17.66, 18.15,\n",
       "        18.64, 19.13, 19.62, 20.11, 20.6 , 21.09, 21.58, 22.07, 22.56,\n",
       "        23.05, 23.54, 24.03, 24.52, 25.01, 25.5 , 25.99, 26.48, 26.97,\n",
       "        27.46, 27.95, 28.44, 28.93, 29.42, 29.91, 30.4 , 30.89, 31.38,\n",
       "        31.87, 32.36, 32.85, 33.34, 33.83, 34.32, 34.81, 35.3 , 35.79,\n",
       "        36.28, 36.77, 37.26, 37.75, 38.24, 38.73, 39.22, 39.71, 40.2 ,\n",
       "        40.69, 41.18, 41.67, 42.16, 42.65, 43.14, 43.63, 44.12, 44.61,\n",
       "        45.1 , 45.59, 46.08, 46.57, 47.06, 47.55, 48.04, 48.53, 49.02,\n",
       "        49.51, 50.  ], dtype=float32),\n",
       " <BarContainer object of 100 artists>)"
      ]
     },
     "execution_count": 87,
     "metadata": {},
     "output_type": "execute_result"
    },
    {
     "data": {
      "image/png": "[encoded data removed]",
      "text/plain": [
       "<Figure size 432x288 with 1 Axes>"
      ]
     },
     "metadata": {
      "needs_background": "light"
     },
     "output_type": "display_data"
    }
   ],
   "source": [
    "plt.hist(first_vtx_pts_stuff[interesting_variable],bins=100,range=(1,50))"
   ]
  },
  {
   "cell_type": "code",
   "execution_count": 88,
   "metadata": {
    "scrolled": true
   },
   "outputs": [
    {
     "data": {
      "text/plain": [
       "(array([   0.,    0.,    0.,    0.,    0.,    0.,    0.,    0.,    0.,\n",
       "           0.,    0.,    0.,    0.,    0.,    0.,    0.,    0.,    0.,\n",
       "           0.,    0.,    0.,    0.,    0.,  493., 3398., 3391., 3489.,\n",
       "        3582., 3416., 3543., 3664., 3550., 3573., 3589., 3682., 3538.,\n",
       "        3519., 3597., 3404., 3510., 3605., 3532., 3510., 3813., 3760.,\n",
       "        3592., 3607., 3659., 3753., 3639., 3513., 3689., 3744., 3714.,\n",
       "        3675., 3638., 3593., 3520., 3467., 3432., 3550., 3584., 3609.,\n",
       "        3458., 3630., 3596., 3819., 3694., 3766., 4032., 3908., 3762.,\n",
       "        3707., 3788., 3717., 3854., 1022.,  457.,  486.,  489.,  497.,\n",
       "         553.,  525.,  526.,  522.,  529.,  548.,  617.,  573.,  564.,\n",
       "         589.,  587.,  584.,  601.,  585.,  574.,  600.,  596.,  560.,\n",
       "         587.]),\n",
       " array([-6.  , -5.88, -5.76, -5.64, -5.52, -5.4 , -5.28, -5.16, -5.04,\n",
       "        -4.92, -4.8 , -4.68, -4.56, -4.44, -4.32, -4.2 , -4.08, -3.96,\n",
       "        -3.84, -3.72, -3.6 , -3.48, -3.36, -3.24, -3.12, -3.  , -2.88,\n",
       "        -2.76, -2.64, -2.52, -2.4 , -2.28, -2.16, -2.04, -1.92, -1.8 ,\n",
       "        -1.68, -1.56, -1.44, -1.32, -1.2 , -1.08, -0.96, -0.84, -0.72,\n",
       "        -0.6 , -0.48, -0.36, -0.24, -0.12,  0.  ,  0.12,  0.24,  0.36,\n",
       "         0.48,  0.6 ,  0.72,  0.84,  0.96,  1.08,  1.2 ,  1.32,  1.44,\n",
       "         1.56,  1.68,  1.8 ,  1.92,  2.04,  2.16,  2.28,  2.4 ,  2.52,\n",
       "         2.64,  2.76,  2.88,  3.  ,  3.12,  3.24,  3.36,  3.48,  3.6 ,\n",
       "         3.72,  3.84,  3.96,  4.08,  4.2 ,  4.32,  4.44,  4.56,  4.68,\n",
       "         4.8 ,  4.92,  5.04,  5.16,  5.28,  5.4 ,  5.52,  5.64,  5.76,\n",
       "         5.88,  6.  ], dtype=float32),\n",
       " <BarContainer object of 100 artists>)"
      ]
     },
     "execution_count": 88,
     "metadata": {},
     "output_type": "execute_result"
    },
    {
     "data": {
      "image/png": "[encoded data removed]",
      "text/plain": [
       "<Figure size 432x288 with 1 Axes>"
      ]
     },
     "metadata": {
      "needs_background": "light"
     },
     "output_type": "display_data"
    }
   ],
   "source": [
    "plt.hist(first_vtx_pts_stuff[interesting_variable],bins=100,range=(-6,6))"
   ]
  },
  {
   "cell_type": "code",
   "execution_count": 89,
   "metadata": {
    "scrolled": true
   },
   "outputs": [
    {
     "data": {
      "text/plain": [
       "(array([2.8035e+05, 4.7399e+04, 2.2728e+04, 1.3140e+04, 8.3750e+03,\n",
       "        6.0130e+03, 4.1430e+03, 3.2110e+03, 2.4690e+03, 2.0630e+03,\n",
       "        1.5870e+03, 1.3280e+03, 1.0230e+03, 8.2500e+02, 7.1000e+02,\n",
       "        6.2000e+02, 4.8300e+02, 4.4600e+02, 3.6900e+02, 2.8500e+02,\n",
       "        2.7400e+02, 2.4600e+02, 2.1100e+02, 1.8400e+02, 1.7300e+02,\n",
       "        1.2800e+02, 1.1800e+02, 1.0300e+02, 8.7000e+01, 9.9000e+01,\n",
       "        9.3000e+01, 7.3000e+01, 5.1000e+01, 4.5000e+01, 5.1000e+01,\n",
       "        4.5000e+01, 2.1000e+01, 3.5000e+01, 3.0000e+01, 2.4000e+01,\n",
       "        3.1000e+01, 1.8000e+01, 2.4000e+01, 1.8000e+01, 1.8000e+01,\n",
       "        1.8000e+01, 1.2000e+01, 1.8000e+01, 1.5000e+01, 1.1000e+01,\n",
       "        1.3000e+01, 1.5000e+01, 1.2000e+01, 8.0000e+00, 5.0000e+00,\n",
       "        7.0000e+00, 5.0000e+00, 6.0000e+00, 8.0000e+00, 7.0000e+00,\n",
       "        1.0000e+01, 3.0000e+00, 3.0000e+00, 4.0000e+00, 5.0000e+00,\n",
       "        4.0000e+00, 2.0000e+00, 1.0000e+00, 1.0000e+00, 8.0000e+00,\n",
       "        2.0000e+00, 3.0000e+00, 3.0000e+00, 2.0000e+00, 0.0000e+00,\n",
       "        4.0000e+00, 1.0000e+00, 4.0000e+00, 0.0000e+00, 2.0000e+00,\n",
       "        1.0000e+00, 0.0000e+00, 1.0000e+00, 1.0000e+00, 0.0000e+00,\n",
       "        0.0000e+00, 0.0000e+00, 1.0000e+00, 2.0000e+00, 2.0000e+00,\n",
       "        0.0000e+00, 0.0000e+00, 0.0000e+00, 0.0000e+00, 0.0000e+00,\n",
       "        0.0000e+00, 0.0000e+00, 1.0000e+00, 1.0000e+00, 1.0000e+00]),\n",
       " array([  -3.1415865,   27.357302 ,   57.85619  ,   88.35508  ,\n",
       "         118.853966 ,  149.35286  ,  179.85175  ,  210.35063  ,\n",
       "         240.84953  ,  271.34842  ,  301.8473   ,  332.3462   ,\n",
       "         362.8451   ,  393.34396  ,  423.84286  ,  454.34174  ,\n",
       "         484.84064  ,  515.33954  ,  545.83844  ,  576.3373   ,\n",
       "         606.8362   ,  637.3351   ,  667.834    ,  698.3329   ,\n",
       "         728.8317   ,  759.3306   ,  789.8295   ,  820.3284   ,\n",
       "         850.82733  ,  881.3262   ,  911.8251   ,  942.324    ,\n",
       "         972.8229   , 1003.3218   , 1033.8207   , 1064.3196   ,\n",
       "        1094.8184   , 1125.3173   , 1155.8162   , 1186.3151   ,\n",
       "        1216.814    , 1247.3129   , 1277.8118   , 1308.3107   ,\n",
       "        1338.8096   , 1369.3085   , 1399.8073   , 1430.3062   ,\n",
       "        1460.805    , 1491.304    , 1521.8029   , 1552.3018   ,\n",
       "        1582.8007   , 1613.2996   , 1643.7985   , 1674.2974   ,\n",
       "        1704.7961   , 1735.295    , 1765.794    , 1796.2928   ,\n",
       "        1826.7917   , 1857.2906   , 1887.7896   , 1918.2885   ,\n",
       "        1948.7874   , 1979.2863   , 2009.785    , 2040.2839   ,\n",
       "        2070.783    , 2101.2817   , 2131.7808   , 2162.2795   ,\n",
       "        2192.7783   , 2223.2773   , 2253.7761   , 2284.2751   ,\n",
       "        2314.774    , 2345.273    , 2375.7717   , 2406.2708   ,\n",
       "        2436.7695   , 2467.2683   , 2497.7673   , 2528.266    ,\n",
       "        2558.7651   , 2589.264    , 2619.763    , 2650.2617   ,\n",
       "        2680.7607   , 2711.2595   , 2741.7585   , 2772.2573   ,\n",
       "        2802.756    , 2833.2551   , 2863.754    , 2894.253    ,\n",
       "        2924.7517   , 2955.2507   , 2985.7495   , 3016.2485   ,\n",
       "        3046.7473   ], dtype=float32),\n",
       " <BarContainer object of 100 artists>)"
      ]
     },
     "execution_count": 89,
     "metadata": {},
     "output_type": "execute_result"
    },
    {
     "data": {
      "image/png": "[encoded data removed]",
      "text/plain": [
       "<Figure size 432x288 with 1 Axes>"
      ]
     },
     "metadata": {
      "needs_background": "light"
     },
     "output_type": "display_data"
    }
   ],
   "source": [
    "plt.hist(first_vtx_pts_stuff[interesting_variable],bins=100)"
   ]
  },
  {
   "cell_type": "code",
   "execution_count": 90,
   "metadata": {},
   "outputs": [],
   "source": [
    "first_npf_stuff = ak.to_numpy(df_npf_clip[:,0])"
   ]
  },
  {
   "cell_type": "code",
   "execution_count": 91,
   "metadata": {},
   "outputs": [
    {
     "data": {
      "text/plain": [
       "<Record ... 0.996, 0.992, 0.992, 0.988]} type='{\"Npfcan_ptrel\": 5 * ?float32, \"N...'>"
      ]
     },
     "execution_count": 91,
     "metadata": {},
     "output_type": "execute_result"
    }
   ],
   "source": [
    "df_npf_clip[1,:5]"
   ]
  },
  {
   "cell_type": "code",
   "execution_count": 92,
   "metadata": {},
   "outputs": [
    {
     "data": {
      "text/plain": [
       "array([(-0.7971864, -0.47113132, -0.45093936, -0.543076  , 1., 0., -0.35743344, 0.99607843),\n",
       "       (-0.9760324, -0.4907838 , -0.36999285, -0.46966666, 1., 0., -0.37553617, 0.99607843),\n",
       "       (-0.9877341, -0.36879542, -0.16373584, -0.23904541, 1., 0., -0.17687078, 0.99607843),\n",
       "       ...,\n",
       "       (-0.8867114, -0.4222955 , -0.43930745, -0.501402  , 1., 0., -0.31906024, 0.94509804),\n",
       "       (-0.8832332, -0.45671543, -0.4949842 , -0.5564258 , 1., 0., -0.17619544, 0.99607843),\n",
       "       (-0.8358164, -0.48399115, -0.45288226, -0.55023694, 1., 0.,  0.        , 0.99607843)],\n",
       "      dtype=[('Npfcan_ptrel', '<f4'), ('Npfcan_etarel', '<f4'), ('Npfcan_phirel', '<f4'), ('Npfcan_deltaR', '<f4'), ('Npfcan_isGamma', '<f4'), ('Npfcan_HadFrac', '<f4'), ('Npfcan_drminsv', '<f4'), ('Npfcan_puppiw', '<f4')])"
      ]
     },
     "execution_count": 92,
     "metadata": {},
     "output_type": "execute_result"
    }
   ],
   "source": [
    "first_npf_stuff"
   ]
  },
  {
   "cell_type": "code",
   "execution_count": 93,
   "metadata": {
    "scrolled": true
   },
   "outputs": [
    {
     "data": {
      "text/plain": [
       "(array([0., 0., 0., 0., 0., 0., 0., 0., 0., 0., 0., 0., 0., 0., 0., 0., 0.,\n",
       "        0., 0., 0., 0., 0., 0., 0., 0., 0., 0., 0., 0., 0., 0., 0., 0., 0.,\n",
       "        0., 0., 0., 0., 0., 0., 0., 0., 0., 0., 0., 0., 0., 0., 0., 0., 0.,\n",
       "        0., 0., 0., 0., 0., 0., 0., 0., 0., 0., 0., 0., 0., 0., 0., 0., 0.,\n",
       "        0., 0., 0., 0., 0., 0., 0., 0., 0., 0., 0., 0., 0., 0., 0., 0., 0.,\n",
       "        0., 0., 0., 0., 0., 0., 0., 0., 0., 0., 0., 0., 0., 0., 0.]),\n",
       " array([-1000.  ,  -999.98,  -999.96,  -999.94,  -999.92,  -999.9 ,\n",
       "         -999.88,  -999.86,  -999.84,  -999.82,  -999.8 ,  -999.78,\n",
       "         -999.76,  -999.74,  -999.72,  -999.7 ,  -999.68,  -999.66,\n",
       "         -999.64,  -999.62,  -999.6 ,  -999.58,  -999.56,  -999.54,\n",
       "         -999.52,  -999.5 ,  -999.48,  -999.46,  -999.44,  -999.42,\n",
       "         -999.4 ,  -999.38,  -999.36,  -999.34,  -999.32,  -999.3 ,\n",
       "         -999.28,  -999.26,  -999.24,  -999.22,  -999.2 ,  -999.18,\n",
       "         -999.16,  -999.14,  -999.12,  -999.1 ,  -999.08,  -999.06,\n",
       "         -999.04,  -999.02,  -999.  ,  -998.98,  -998.96,  -998.94,\n",
       "         -998.92,  -998.9 ,  -998.88,  -998.86,  -998.84,  -998.82,\n",
       "         -998.8 ,  -998.78,  -998.76,  -998.74,  -998.72,  -998.7 ,\n",
       "         -998.68,  -998.66,  -998.64,  -998.62,  -998.6 ,  -998.58,\n",
       "         -998.56,  -998.54,  -998.52,  -998.5 ,  -998.48,  -998.46,\n",
       "         -998.44,  -998.42,  -998.4 ,  -998.38,  -998.36,  -998.34,\n",
       "         -998.32,  -998.3 ,  -998.28,  -998.26,  -998.24,  -998.22,\n",
       "         -998.2 ,  -998.18,  -998.16,  -998.14,  -998.12,  -998.1 ,\n",
       "         -998.08,  -998.06,  -998.04,  -998.02,  -998.  ], dtype=float32),\n",
       " <BarContainer object of 100 artists>)"
      ]
     },
     "execution_count": 93,
     "metadata": {},
     "output_type": "execute_result"
    },
    {
     "data": {
      "image/png": "[encoded data removed]",
      "text/plain": [
       "<Figure size 432x288 with 1 Axes>"
      ]
     },
     "metadata": {
      "needs_background": "light"
     },
     "output_type": "display_data"
    }
   ],
   "source": [
    "interesting_variable = 'Npfcan_drminsv'\n",
    "#plt.hist(first_cpf_stuff[interesting_variable],bins=100)\n",
    "plt.hist(first_npf_stuff[interesting_variable],bins=100,range=(-1000,-998))"
   ]
  },
  {
   "cell_type": "code",
   "execution_count": 94,
   "metadata": {
    "scrolled": true
   },
   "outputs": [
    {
     "data": {
      "text/plain": [
       "(array([     0.,      0.,      0.,      0.,      0.,      0.,      0.,\n",
       "             0.,      0.,      0.,      0.,      0.,      0.,      0.,\n",
       "             0.,      0.,      0.,      0.,      0.,      0.,      0.,\n",
       "             0.,      0.,      0.,      0.,      0.,      0.,      0.,\n",
       "             0.,      0.,      0.,      0.,      0.,      0.,      0.,\n",
       "             0.,      0.,      0.,      0.,      0.,      0.,      0.,\n",
       "             0.,      0.,      0.,      0.,      0.,      0.,      0.,\n",
       "             0.,      0.,      0.,      0.,      0.,      0.,      0.,\n",
       "             0.,      0.,      0.,      0.,  20317.,  38199.,  26704.,\n",
       "         19997.,  15444.,  12297.,  10032.,   8307.,   6895.,   5929.,\n",
       "          5021.,   4402.,   3755.,   3349.,   2932.,   2571.,   2308.,\n",
       "          2112.,   1943.,   1766.,   1644.,   1501.,   1396.,   1263.,\n",
       "          1255.,   1188.,   1144.,   1054.,   1079.,   1059.,    970.,\n",
       "           982.,   1022.,    957.,    956.,   1039.,   1013.,   1019.,\n",
       "          1012., 180545.]),\n",
       " array([-1.01  , -0.9999, -0.9898, -0.9797, -0.9696, -0.9595, -0.9494,\n",
       "        -0.9393, -0.9292, -0.9191, -0.909 , -0.8989, -0.8888, -0.8787,\n",
       "        -0.8686, -0.8585, -0.8484, -0.8383, -0.8282, -0.8181, -0.808 ,\n",
       "        -0.7979, -0.7878, -0.7777, -0.7676, -0.7575, -0.7474, -0.7373,\n",
       "        -0.7272, -0.7171, -0.707 , -0.6969, -0.6868, -0.6767, -0.6666,\n",
       "        -0.6565, -0.6464, -0.6363, -0.6262, -0.6161, -0.606 , -0.5959,\n",
       "        -0.5858, -0.5757, -0.5656, -0.5555, -0.5454, -0.5353, -0.5252,\n",
       "        -0.5151, -0.505 , -0.4949, -0.4848, -0.4747, -0.4646, -0.4545,\n",
       "        -0.4444, -0.4343, -0.4242, -0.4141, -0.404 , -0.3939, -0.3838,\n",
       "        -0.3737, -0.3636, -0.3535, -0.3434, -0.3333, -0.3232, -0.3131,\n",
       "        -0.303 , -0.2929, -0.2828, -0.2727, -0.2626, -0.2525, -0.2424,\n",
       "        -0.2323, -0.2222, -0.2121, -0.202 , -0.1919, -0.1818, -0.1717,\n",
       "        -0.1616, -0.1515, -0.1414, -0.1313, -0.1212, -0.1111, -0.101 ,\n",
       "        -0.0909, -0.0808, -0.0707, -0.0606, -0.0505, -0.0404, -0.0303,\n",
       "        -0.0202, -0.0101,  0.    ], dtype=float32),\n",
       " <BarContainer object of 100 artists>)"
      ]
     },
     "execution_count": 94,
     "metadata": {},
     "output_type": "execute_result"
    },
    {
     "data": {
      "image/png": "[encoded data removed]",
      "text/plain": [
       "<Figure size 432x288 with 1 Axes>"
      ]
     },
     "metadata": {
      "needs_background": "light"
     },
     "output_type": "display_data"
    }
   ],
   "source": [
    "plt.hist(first_npf_stuff[interesting_variable],bins=100,range=(-1.01,0))"
   ]
  },
  {
   "cell_type": "code",
   "execution_count": 95,
   "metadata": {
    "scrolled": true
   },
   "outputs": [
    {
     "data": {
      "text/plain": [
       "(array([ 11088.,  17750.,  15753.,  13282.,  11523.,  10369.,   9185.,\n",
       "          8236.,   7297.,   6684.,   5980.,   5442.,   5041.,   4623.,\n",
       "          4243.,   3999.,   3617.,   3484.,   3115.,   2891.,   2775.,\n",
       "          2511.,   2370.,   2361.,   2126.,   2006.,   1798.,   1907.,\n",
       "          1594.,   1576.,   1467.,   1448.,   1357.,   1346.,   1208.,\n",
       "          1109.,   1133.,   1047.,   1027.,    985.,    913.,    861.,\n",
       "           839.,    860.,    783.,    794.,    728.,    705.,    733.,\n",
       "           654.,    692.,    593.,    626.,    556.,    588.,    542.,\n",
       "           551.,    523.,    492.,    496.,    468.,    526.,    502.,\n",
       "           445.,    464.,    449.,    451.,    395.,    442.,    446.,\n",
       "           410.,    420.,    421.,    456.,    382.,    423.,    360.,\n",
       "           370.,    379.,    395.,    410.,    414.,    362.,    379.,\n",
       "           392.,    365.,    393.,    416.,    411.,    393.,    427.,\n",
       "           383.,    412.,    395.,    403.,    397.,    379.,    447.,\n",
       "           456., 179858.]),\n",
       " array([-0.4  , -0.396, -0.392, -0.388, -0.384, -0.38 , -0.376, -0.372,\n",
       "        -0.368, -0.364, -0.36 , -0.356, -0.352, -0.348, -0.344, -0.34 ,\n",
       "        -0.336, -0.332, -0.328, -0.324, -0.32 , -0.316, -0.312, -0.308,\n",
       "        -0.304, -0.3  , -0.296, -0.292, -0.288, -0.284, -0.28 , -0.276,\n",
       "        -0.272, -0.268, -0.264, -0.26 , -0.256, -0.252, -0.248, -0.244,\n",
       "        -0.24 , -0.236, -0.232, -0.228, -0.224, -0.22 , -0.216, -0.212,\n",
       "        -0.208, -0.204, -0.2  , -0.196, -0.192, -0.188, -0.184, -0.18 ,\n",
       "        -0.176, -0.172, -0.168, -0.164, -0.16 , -0.156, -0.152, -0.148,\n",
       "        -0.144, -0.14 , -0.136, -0.132, -0.128, -0.124, -0.12 , -0.116,\n",
       "        -0.112, -0.108, -0.104, -0.1  , -0.096, -0.092, -0.088, -0.084,\n",
       "        -0.08 , -0.076, -0.072, -0.068, -0.064, -0.06 , -0.056, -0.052,\n",
       "        -0.048, -0.044, -0.04 , -0.036, -0.032, -0.028, -0.024, -0.02 ,\n",
       "        -0.016, -0.012, -0.008, -0.004,  0.   ], dtype=float32),\n",
       " <BarContainer object of 100 artists>)"
      ]
     },
     "execution_count": 95,
     "metadata": {},
     "output_type": "execute_result"
    },
    {
     "data": {
      "image/png": "[encoded data removed]",
      "text/plain": [
       "<Figure size 432x288 with 1 Axes>"
      ]
     },
     "metadata": {
      "needs_background": "light"
     },
     "output_type": "display_data"
    }
   ],
   "source": [
    "plt.hist(first_npf_stuff[interesting_variable],bins=100,range=(-0.40,0))"
   ]
  },
  {
   "cell_type": "code",
   "execution_count": 96,
   "metadata": {
    "scrolled": true
   },
   "outputs": [
    {
     "data": {
      "text/plain": [
       "(array([     0.,      0.,      0.,      0.,      0.,      0.,      0.,\n",
       "             0.,      0.,      0.,      0.,      0.,      0.,      0.,\n",
       "             0.,      0.,      0.,      0.,      0.,      0.,      0.,\n",
       "             0.,      0.,      0.,      0.,      0.,      0.,      0.,\n",
       "             0.,      0.,      0.,      0.,      0.,  11088.,  25946.,\n",
       "         20839.,  16866.,  14211.,  11968.,  10249.,   8838.,   7625.,\n",
       "          6817.,   6048.,   5376.,   4840.,   4269.,   3908.,   3578.,\n",
       "          3279.,   2875.,   2836.,   2417.,   2220.,   2153.,   1998.,\n",
       "          1781.,   1669.,   1567.,   1492.,   1329.,   1284.,   1239.,\n",
       "          1198.,   1086.,   1080.,    990.,    949.,    902.,    868.,\n",
       "           819.,    797.,    740.,    716.,    781.,    692.,    699.,\n",
       "           665.,    618.,    665.,    614.,    637.,    644.,    617.,\n",
       "           521.,    588.,    597.,    622.,    561.,    572.,    582.,\n",
       "           592.,    605.,    626.,    581.,    609.,    602.,    577.,\n",
       "           670., 180091.]),\n",
       " array([-0.6  , -0.594, -0.588, -0.582, -0.576, -0.57 , -0.564, -0.558,\n",
       "        -0.552, -0.546, -0.54 , -0.534, -0.528, -0.522, -0.516, -0.51 ,\n",
       "        -0.504, -0.498, -0.492, -0.486, -0.48 , -0.474, -0.468, -0.462,\n",
       "        -0.456, -0.45 , -0.444, -0.438, -0.432, -0.426, -0.42 , -0.414,\n",
       "        -0.408, -0.402, -0.396, -0.39 , -0.384, -0.378, -0.372, -0.366,\n",
       "        -0.36 , -0.354, -0.348, -0.342, -0.336, -0.33 , -0.324, -0.318,\n",
       "        -0.312, -0.306, -0.3  , -0.294, -0.288, -0.282, -0.276, -0.27 ,\n",
       "        -0.264, -0.258, -0.252, -0.246, -0.24 , -0.234, -0.228, -0.222,\n",
       "        -0.216, -0.21 , -0.204, -0.198, -0.192, -0.186, -0.18 , -0.174,\n",
       "        -0.168, -0.162, -0.156, -0.15 , -0.144, -0.138, -0.132, -0.126,\n",
       "        -0.12 , -0.114, -0.108, -0.102, -0.096, -0.09 , -0.084, -0.078,\n",
       "        -0.072, -0.066, -0.06 , -0.054, -0.048, -0.042, -0.036, -0.03 ,\n",
       "        -0.024, -0.018, -0.012, -0.006,  0.   ], dtype=float32),\n",
       " <BarContainer object of 100 artists>)"
      ]
     },
     "execution_count": 96,
     "metadata": {},
     "output_type": "execute_result"
    },
    {
     "data": {
      "image/png": "[encoded data removed]",
      "text/plain": [
       "<Figure size 432x288 with 1 Axes>"
      ]
     },
     "metadata": {
      "needs_background": "light"
     },
     "output_type": "display_data"
    }
   ],
   "source": [
    "plt.hist(first_npf_stuff[interesting_variable],bins=100,range=(-0.60,0))"
   ]
  },
  {
   "cell_type": "code",
   "execution_count": 97,
   "metadata": {
    "scrolled": true
   },
   "outputs": [
    {
     "data": {
      "text/plain": [
       "(array([0., 0., 0., 0., 0., 0., 0., 0., 0., 0., 0., 0., 0., 0., 0., 0., 0.,\n",
       "        0., 0., 0., 0., 0., 0., 0., 0., 0., 0., 0., 0., 0., 0., 0., 0., 0.,\n",
       "        0., 0., 0., 0., 0., 0., 0., 0., 0., 0., 0., 0., 0., 0., 0., 0., 0.,\n",
       "        0., 0., 0., 0., 0., 0., 0., 0., 0., 0., 0., 0., 0., 0., 0., 0., 0.,\n",
       "        0., 0., 0., 0., 0., 0., 0., 0., 0., 0., 0., 0., 0., 0., 0., 0., 0.,\n",
       "        0., 0., 0., 0., 0., 0., 0., 0., 0., 0., 0., 0., 0., 0., 0.]),\n",
       " array([-1.01  , -1.0098, -1.0096, -1.0094, -1.0092, -1.009 , -1.0088,\n",
       "        -1.0086, -1.0084, -1.0082, -1.008 , -1.0078, -1.0076, -1.0074,\n",
       "        -1.0072, -1.007 , -1.0068, -1.0066, -1.0064, -1.0062, -1.006 ,\n",
       "        -1.0058, -1.0056, -1.0054, -1.0052, -1.005 , -1.0048, -1.0046,\n",
       "        -1.0044, -1.0042, -1.004 , -1.0038, -1.0036, -1.0034, -1.0032,\n",
       "        -1.003 , -1.0028, -1.0026, -1.0024, -1.0022, -1.002 , -1.0018,\n",
       "        -1.0016, -1.0014, -1.0012, -1.001 , -1.0008, -1.0006, -1.0004,\n",
       "        -1.0002, -1.    , -0.9998, -0.9996, -0.9994, -0.9992, -0.999 ,\n",
       "        -0.9988, -0.9986, -0.9984, -0.9982, -0.998 , -0.9978, -0.9976,\n",
       "        -0.9974, -0.9972, -0.997 , -0.9968, -0.9966, -0.9964, -0.9962,\n",
       "        -0.996 , -0.9958, -0.9956, -0.9954, -0.9952, -0.995 , -0.9948,\n",
       "        -0.9946, -0.9944, -0.9942, -0.994 , -0.9938, -0.9936, -0.9934,\n",
       "        -0.9932, -0.993 , -0.9928, -0.9926, -0.9924, -0.9922, -0.992 ,\n",
       "        -0.9918, -0.9916, -0.9914, -0.9912, -0.991 , -0.9908, -0.9906,\n",
       "        -0.9904, -0.9902, -0.99  ], dtype=float32),\n",
       " <BarContainer object of 100 artists>)"
      ]
     },
     "execution_count": 97,
     "metadata": {},
     "output_type": "execute_result"
    },
    {
     "data": {
      "image/png": "[encoded data removed]",
      "text/plain": [
       "<Figure size 432x288 with 1 Axes>"
      ]
     },
     "metadata": {
      "needs_background": "light"
     },
     "output_type": "display_data"
    }
   ],
   "source": [
    "plt.hist(first_npf_stuff[interesting_variable],bins=100,range=(-1.01,-0.99))"
   ]
  },
  {
   "cell_type": "code",
   "execution_count": 98,
   "metadata": {
    "scrolled": true
   },
   "outputs": [
    {
     "data": {
      "text/plain": [
       "(array([2.00000e+01, 1.80000e+01, 2.60000e+01, 2.00000e+01, 1.60000e+01,\n",
       "        1.90000e+01, 2.50000e+01, 2.30000e+01, 1.80000e+01, 2.80000e+01,\n",
       "        1.90000e+01, 3.20000e+01, 1.70000e+01, 1.70000e+01, 1.80000e+01,\n",
       "        2.60000e+01, 2.40000e+01, 2.80000e+01, 2.10000e+01, 2.10000e+01,\n",
       "        2.90000e+01, 1.70000e+01, 2.30000e+01, 2.40000e+01, 2.60000e+01,\n",
       "        2.50000e+01, 2.40000e+01, 2.10000e+01, 2.40000e+01, 2.00000e+01,\n",
       "        2.60000e+01, 1.50000e+01, 2.70000e+01, 2.20000e+01, 2.20000e+01,\n",
       "        2.40000e+01, 3.40000e+01, 2.30000e+01, 2.90000e+01, 2.40000e+01,\n",
       "        1.70000e+01, 2.20000e+01, 2.20000e+01, 2.40000e+01, 2.00000e+01,\n",
       "        2.40000e+01, 2.40000e+01, 1.70000e+01, 2.50000e+01, 2.80000e+01,\n",
       "        1.79389e+05, 0.00000e+00, 0.00000e+00, 0.00000e+00, 0.00000e+00,\n",
       "        0.00000e+00, 0.00000e+00, 0.00000e+00, 0.00000e+00, 0.00000e+00,\n",
       "        0.00000e+00, 0.00000e+00, 0.00000e+00, 0.00000e+00, 0.00000e+00,\n",
       "        0.00000e+00, 0.00000e+00, 1.00000e+00, 0.00000e+00, 1.00000e+00,\n",
       "        0.00000e+00, 2.00000e+00, 0.00000e+00, 0.00000e+00, 0.00000e+00,\n",
       "        0.00000e+00, 0.00000e+00, 0.00000e+00, 0.00000e+00, 0.00000e+00,\n",
       "        0.00000e+00, 0.00000e+00, 0.00000e+00, 1.00000e+00, 0.00000e+00,\n",
       "        1.00000e+00, 0.00000e+00, 0.00000e+00, 0.00000e+00, 0.00000e+00,\n",
       "        0.00000e+00, 0.00000e+00, 1.00000e+00, 1.00000e+00, 0.00000e+00,\n",
       "        0.00000e+00, 0.00000e+00, 0.00000e+00, 0.00000e+00, 1.00000e+00]),\n",
       " array([-0.01  , -0.0098, -0.0096, -0.0094, -0.0092, -0.009 , -0.0088,\n",
       "        -0.0086, -0.0084, -0.0082, -0.008 , -0.0078, -0.0076, -0.0074,\n",
       "        -0.0072, -0.007 , -0.0068, -0.0066, -0.0064, -0.0062, -0.006 ,\n",
       "        -0.0058, -0.0056, -0.0054, -0.0052, -0.005 , -0.0048, -0.0046,\n",
       "        -0.0044, -0.0042, -0.004 , -0.0038, -0.0036, -0.0034, -0.0032,\n",
       "        -0.003 , -0.0028, -0.0026, -0.0024, -0.0022, -0.002 , -0.0018,\n",
       "        -0.0016, -0.0014, -0.0012, -0.001 , -0.0008, -0.0006, -0.0004,\n",
       "        -0.0002,  0.    ,  0.0002,  0.0004,  0.0006,  0.0008,  0.001 ,\n",
       "         0.0012,  0.0014,  0.0016,  0.0018,  0.002 ,  0.0022,  0.0024,\n",
       "         0.0026,  0.0028,  0.003 ,  0.0032,  0.0034,  0.0036,  0.0038,\n",
       "         0.004 ,  0.0042,  0.0044,  0.0046,  0.0048,  0.005 ,  0.0052,\n",
       "         0.0054,  0.0056,  0.0058,  0.006 ,  0.0062,  0.0064,  0.0066,\n",
       "         0.0068,  0.007 ,  0.0072,  0.0074,  0.0076,  0.0078,  0.008 ,\n",
       "         0.0082,  0.0084,  0.0086,  0.0088,  0.009 ,  0.0092,  0.0094,\n",
       "         0.0096,  0.0098,  0.01  ], dtype=float32),\n",
       " <BarContainer object of 100 artists>)"
      ]
     },
     "execution_count": 98,
     "metadata": {},
     "output_type": "execute_result"
    },
    {
     "data": {
      "image/png": "[encoded data removed]",
      "text/plain": [
       "<Figure size 432x288 with 1 Axes>"
      ]
     },
     "metadata": {
      "needs_background": "light"
     },
     "output_type": "display_data"
    }
   ],
   "source": [
    "plt.hist(first_npf_stuff[interesting_variable],bins=100,range=(-0.01,0.01))"
   ]
  },
  {
   "cell_type": "code",
   "execution_count": 99,
   "metadata": {
    "scrolled": true
   },
   "outputs": [
    {
     "data": {
      "text/plain": [
       "(array([1.79398e+05, 3.00000e+00, 4.00000e+00, 3.00000e+00, 7.00000e+00,\n",
       "        3.00000e+00, 5.00000e+00, 8.00000e+00, 5.00000e+00, 5.00000e+00,\n",
       "        5.00000e+00, 7.00000e+00, 4.00000e+00, 8.00000e+00, 4.00000e+00,\n",
       "        6.00000e+00, 9.00000e+00, 8.00000e+00, 6.00000e+00, 5.00000e+00,\n",
       "        7.00000e+00, 0.00000e+00, 0.00000e+00, 1.00000e+00, 1.00000e+00,\n",
       "        0.00000e+00, 1.00000e+00, 0.00000e+00, 2.00000e+00, 1.00000e+00,\n",
       "        2.00000e+00, 0.00000e+00, 0.00000e+00, 2.00000e+00, 1.00000e+00,\n",
       "        4.00000e+00, 0.00000e+00, 2.00000e+00, 3.00000e+00, 4.00000e+00,\n",
       "        1.00000e+00, 1.00000e+00, 0.00000e+00, 2.00000e+00, 1.00000e+00,\n",
       "        0.00000e+00, 3.00000e+00, 0.00000e+00, 0.00000e+00, 2.00000e+00,\n",
       "        1.00000e+00, 1.00000e+00, 2.00000e+00, 0.00000e+00, 2.00000e+00,\n",
       "        0.00000e+00, 1.00000e+00, 1.00000e+00, 2.00000e+00, 0.00000e+00,\n",
       "        0.00000e+00, 0.00000e+00, 3.00000e+00, 1.00000e+00, 3.00000e+00,\n",
       "        1.00000e+00, 0.00000e+00, 1.00000e+00, 0.00000e+00, 2.00000e+00,\n",
       "        0.00000e+00, 0.00000e+00, 0.00000e+00, 1.00000e+00, 1.00000e+00,\n",
       "        0.00000e+00, 0.00000e+00, 0.00000e+00, 3.00000e+00, 3.00000e+00,\n",
       "        0.00000e+00, 0.00000e+00, 0.00000e+00, 1.00000e+00, 0.00000e+00,\n",
       "        1.00000e+00, 0.00000e+00, 0.00000e+00, 1.00000e+00, 0.00000e+00,\n",
       "        2.00000e+00, 0.00000e+00, 1.00000e+00, 1.00000e+00, 2.00000e+00,\n",
       "        0.00000e+00, 2.00000e+00, 0.00000e+00, 1.00000e+00, 3.12700e+03]),\n",
       " array([0.  , 0.01, 0.02, 0.03, 0.04, 0.05, 0.06, 0.07, 0.08, 0.09, 0.1 ,\n",
       "        0.11, 0.12, 0.13, 0.14, 0.15, 0.16, 0.17, 0.18, 0.19, 0.2 , 0.21,\n",
       "        0.22, 0.23, 0.24, 0.25, 0.26, 0.27, 0.28, 0.29, 0.3 , 0.31, 0.32,\n",
       "        0.33, 0.34, 0.35, 0.36, 0.37, 0.38, 0.39, 0.4 , 0.41, 0.42, 0.43,\n",
       "        0.44, 0.45, 0.46, 0.47, 0.48, 0.49, 0.5 , 0.51, 0.52, 0.53, 0.54,\n",
       "        0.55, 0.56, 0.57, 0.58, 0.59, 0.6 , 0.61, 0.62, 0.63, 0.64, 0.65,\n",
       "        0.66, 0.67, 0.68, 0.69, 0.7 , 0.71, 0.72, 0.73, 0.74, 0.75, 0.76,\n",
       "        0.77, 0.78, 0.79, 0.8 , 0.81, 0.82, 0.83, 0.84, 0.85, 0.86, 0.87,\n",
       "        0.88, 0.89, 0.9 , 0.91, 0.92, 0.93, 0.94, 0.95, 0.96, 0.97, 0.98,\n",
       "        0.99, 1.  ], dtype=float32),\n",
       " <BarContainer object of 100 artists>)"
      ]
     },
     "execution_count": 99,
     "metadata": {},
     "output_type": "execute_result"
    },
    {
     "data": {
      "image/png": "[encoded data removed]",
      "text/plain": [
       "<Figure size 432x288 with 1 Axes>"
      ]
     },
     "metadata": {
      "needs_background": "light"
     },
     "output_type": "display_data"
    }
   ],
   "source": [
    "plt.hist(first_npf_stuff[interesting_variable],bins=100,range=(0,1))"
   ]
  },
  {
   "cell_type": "code",
   "execution_count": 100,
   "metadata": {
    "scrolled": true
   },
   "outputs": [
    {
     "data": {
      "text/plain": [
       "(array([0.000e+00, 0.000e+00, 0.000e+00, 0.000e+00, 0.000e+00, 0.000e+00,\n",
       "        0.000e+00, 0.000e+00, 0.000e+00, 0.000e+00, 0.000e+00, 0.000e+00,\n",
       "        0.000e+00, 0.000e+00, 1.000e+00, 0.000e+00, 1.000e+00, 0.000e+00,\n",
       "        0.000e+00, 0.000e+00, 0.000e+00, 0.000e+00, 0.000e+00, 0.000e+00,\n",
       "        0.000e+00, 0.000e+00, 0.000e+00, 0.000e+00, 0.000e+00, 0.000e+00,\n",
       "        0.000e+00, 0.000e+00, 0.000e+00, 0.000e+00, 1.000e+00, 0.000e+00,\n",
       "        0.000e+00, 0.000e+00, 0.000e+00, 0.000e+00, 0.000e+00, 0.000e+00,\n",
       "        0.000e+00, 0.000e+00, 0.000e+00, 0.000e+00, 0.000e+00, 0.000e+00,\n",
       "        0.000e+00, 0.000e+00, 3.127e+03, 1.000e+00, 0.000e+00, 0.000e+00,\n",
       "        0.000e+00, 0.000e+00, 0.000e+00, 0.000e+00, 0.000e+00, 0.000e+00,\n",
       "        0.000e+00, 0.000e+00, 1.000e+00, 0.000e+00, 0.000e+00, 0.000e+00,\n",
       "        0.000e+00, 0.000e+00, 0.000e+00, 0.000e+00, 0.000e+00, 0.000e+00,\n",
       "        0.000e+00, 0.000e+00, 0.000e+00, 0.000e+00, 0.000e+00, 0.000e+00,\n",
       "        0.000e+00, 0.000e+00, 0.000e+00, 0.000e+00, 0.000e+00, 0.000e+00,\n",
       "        0.000e+00, 1.000e+00, 0.000e+00, 1.000e+00, 0.000e+00, 0.000e+00,\n",
       "        0.000e+00, 0.000e+00, 0.000e+00, 0.000e+00, 0.000e+00, 0.000e+00,\n",
       "        1.000e+00, 0.000e+00, 0.000e+00, 0.000e+00]),\n",
       " array([0.95 , 0.951, 0.952, 0.953, 0.954, 0.955, 0.956, 0.957, 0.958,\n",
       "        0.959, 0.96 , 0.961, 0.962, 0.963, 0.964, 0.965, 0.966, 0.967,\n",
       "        0.968, 0.969, 0.97 , 0.971, 0.972, 0.973, 0.974, 0.975, 0.976,\n",
       "        0.977, 0.978, 0.979, 0.98 , 0.981, 0.982, 0.983, 0.984, 0.985,\n",
       "        0.986, 0.987, 0.988, 0.989, 0.99 , 0.991, 0.992, 0.993, 0.994,\n",
       "        0.995, 0.996, 0.997, 0.998, 0.999, 1.   , 1.001, 1.002, 1.003,\n",
       "        1.004, 1.005, 1.006, 1.007, 1.008, 1.009, 1.01 , 1.011, 1.012,\n",
       "        1.013, 1.014, 1.015, 1.016, 1.017, 1.018, 1.019, 1.02 , 1.021,\n",
       "        1.022, 1.023, 1.024, 1.025, 1.026, 1.027, 1.028, 1.029, 1.03 ,\n",
       "        1.031, 1.032, 1.033, 1.034, 1.035, 1.036, 1.037, 1.038, 1.039,\n",
       "        1.04 , 1.041, 1.042, 1.043, 1.044, 1.045, 1.046, 1.047, 1.048,\n",
       "        1.049, 1.05 ], dtype=float32),\n",
       " <BarContainer object of 100 artists>)"
      ]
     },
     "execution_count": 100,
     "metadata": {},
     "output_type": "execute_result"
    },
    {
     "data": {
      "image/png": "[encoded data removed]",
      "text/plain": [
       "<Figure size 432x288 with 1 Axes>"
      ]
     },
     "metadata": {
      "needs_background": "light"
     },
     "output_type": "display_data"
    }
   ],
   "source": [
    "plt.hist(first_npf_stuff[interesting_variable],bins=100,range=(0.95,1.05))"
   ]
  },
  {
   "cell_type": "code",
   "execution_count": 101,
   "metadata": {
    "scrolled": true
   },
   "outputs": [
    {
     "data": {
      "text/plain": [
       "(array([1.79415e+05, 2.60000e+01, 2.80000e+01, 3.40000e+01, 9.00000e+00,\n",
       "        4.00000e+00, 5.00000e+00, 1.30000e+01, 5.00000e+00, 5.00000e+00,\n",
       "        6.00000e+00, 4.00000e+00, 7.00000e+00, 4.00000e+00, 2.00000e+00,\n",
       "        6.00000e+00, 1.00000e+00, 2.00000e+00, 6.00000e+00, 3.00000e+00,\n",
       "        3.13200e+03, 3.00000e+00, 0.00000e+00, 2.00000e+00, 2.00000e+00,\n",
       "        0.00000e+00, 6.00000e+00, 3.00000e+00, 3.00000e+00, 2.00000e+00,\n",
       "        2.00000e+00, 0.00000e+00, 3.00000e+00, 3.00000e+00, 0.00000e+00,\n",
       "        2.00000e+00, 1.00000e+00, 2.00000e+00, 4.00000e+00, 1.00000e+00,\n",
       "        4.00000e+00, 2.00000e+00, 1.00000e+00, 4.00000e+00, 0.00000e+00,\n",
       "        4.00000e+00, 2.00000e+00, 1.00000e+00, 1.00000e+00, 3.00000e+00,\n",
       "        1.00000e+00, 2.00000e+00, 1.00000e+00, 0.00000e+00, 1.00000e+00,\n",
       "        2.00000e+00, 2.00000e+00, 0.00000e+00, 1.00000e+00, 2.00000e+00,\n",
       "        1.00000e+00, 2.00000e+00, 1.00000e+00, 2.00000e+00, 1.00000e+00,\n",
       "        0.00000e+00, 2.00000e+00, 2.00000e+00, 1.00000e+00, 3.00000e+00,\n",
       "        4.00000e+00, 2.00000e+00, 3.00000e+00, 1.00000e+00, 2.00000e+00,\n",
       "        1.00000e+00, 1.00000e+00, 2.00000e+00, 1.00000e+00, 1.00000e+00,\n",
       "        0.00000e+00, 0.00000e+00, 3.00000e+00, 0.00000e+00, 0.00000e+00,\n",
       "        0.00000e+00, 1.00000e+00, 4.00000e+00, 2.00000e+00, 1.00000e+00,\n",
       "        0.00000e+00, 4.00000e+00, 1.00000e+00, 1.00000e+00, 1.00000e+00,\n",
       "        1.00000e+00, 1.00000e+00, 0.00000e+00, 0.00000e+00, 3.00000e+00]),\n",
       " array([0.  , 0.05, 0.1 , 0.15, 0.2 , 0.25, 0.3 , 0.35, 0.4 , 0.45, 0.5 ,\n",
       "        0.55, 0.6 , 0.65, 0.7 , 0.75, 0.8 , 0.85, 0.9 , 0.95, 1.  , 1.05,\n",
       "        1.1 , 1.15, 1.2 , 1.25, 1.3 , 1.35, 1.4 , 1.45, 1.5 , 1.55, 1.6 ,\n",
       "        1.65, 1.7 , 1.75, 1.8 , 1.85, 1.9 , 1.95, 2.  , 2.05, 2.1 , 2.15,\n",
       "        2.2 , 2.25, 2.3 , 2.35, 2.4 , 2.45, 2.5 , 2.55, 2.6 , 2.65, 2.7 ,\n",
       "        2.75, 2.8 , 2.85, 2.9 , 2.95, 3.  , 3.05, 3.1 , 3.15, 3.2 , 3.25,\n",
       "        3.3 , 3.35, 3.4 , 3.45, 3.5 , 3.55, 3.6 , 3.65, 3.7 , 3.75, 3.8 ,\n",
       "        3.85, 3.9 , 3.95, 4.  , 4.05, 4.1 , 4.15, 4.2 , 4.25, 4.3 , 4.35,\n",
       "        4.4 , 4.45, 4.5 , 4.55, 4.6 , 4.65, 4.7 , 4.75, 4.8 , 4.85, 4.9 ,\n",
       "        4.95, 5.  ], dtype=float32),\n",
       " <BarContainer object of 100 artists>)"
      ]
     },
     "execution_count": 101,
     "metadata": {},
     "output_type": "execute_result"
    },
    {
     "data": {
      "image/png": "[encoded data removed]",
      "text/plain": [
       "<Figure size 432x288 with 1 Axes>"
      ]
     },
     "metadata": {
      "needs_background": "light"
     },
     "output_type": "display_data"
    }
   ],
   "source": [
    "plt.hist(first_npf_stuff[interesting_variable],bins=100,range=(0,5))"
   ]
  },
  {
   "cell_type": "code",
   "execution_count": 102,
   "metadata": {
    "scrolled": true
   },
   "outputs": [
    {
     "data": {
      "text/plain": [
       "(array([8., 0., 4., 6., 6., 3., 4., 3., 3., 2., 5., 5., 4., 3., 5., 2., 4.,\n",
       "        3., 0., 3., 2., 2., 3., 3., 2., 2., 3., 5., 5., 3., 3., 2., 2., 1.,\n",
       "        3., 0., 0., 6., 2., 4., 2., 2., 1., 0., 4., 2., 0., 0., 1., 2., 1.,\n",
       "        0., 0., 1., 4., 1., 3., 5., 2., 1., 1., 1., 1., 0., 0., 0., 0., 0.,\n",
       "        0., 0., 2., 0., 2., 0., 0., 0., 0., 1., 0., 1., 1., 1., 0., 0., 1.,\n",
       "        2., 0., 0., 0., 0., 1., 0., 0., 0., 0., 1., 1., 0., 0., 1.]),\n",
       " array([ 1.00001  ,  1.0900099,  1.1800098,  1.2700098,  1.3600096,\n",
       "         1.4500095,  1.5400094,  1.6300093,  1.7200092,  1.8100091,\n",
       "         1.900009 ,  1.990009 ,  2.0800087,  2.1700087,  2.2600086,\n",
       "         2.3500085,  2.4400084,  2.5300083,  2.6200082,  2.7100081,\n",
       "         2.800008 ,  2.890008 ,  2.980008 ,  3.0700078,  3.1600077,\n",
       "         3.2500074,  3.3400073,  3.4300072,  3.5200071,  3.610007 ,\n",
       "         3.700007 ,  3.7900069,  3.8800068,  3.9700067,  4.0600066,\n",
       "         4.1500063,  4.2400064,  4.330006 ,  4.4200063,  4.510006 ,\n",
       "         4.600006 ,  4.690006 ,  4.780006 ,  4.8700056,  4.9600058,\n",
       "         5.0500054,  5.1400056,  5.2300053,  5.3200054,  5.410005 ,\n",
       "         5.500005 ,  5.590005 ,  5.6800046,  5.7700047,  5.8600044,\n",
       "         5.9500046,  6.0400043,  6.1300044,  6.220004 ,  6.310004 ,\n",
       "         6.400004 ,  6.490004 ,  6.5800037,  6.670004 ,  6.7600036,\n",
       "         6.8500037,  6.9400034,  7.030003 ,  7.120003 ,  7.210003 ,\n",
       "         7.300003 ,  7.3900027,  7.480003 ,  7.5700026,  7.6600027,\n",
       "         7.7500024,  7.8400025,  7.930002 ,  8.020002 ,  8.1100025,\n",
       "         8.200002 ,  8.290002 ,  8.380002 ,  8.470002 ,  8.560001 ,\n",
       "         8.650002 ,  8.740002 ,  8.830001 ,  8.920001 ,  9.010001 ,\n",
       "         9.100001 ,  9.190001 ,  9.280001 ,  9.370001 ,  9.460001 ,\n",
       "         9.55     ,  9.64     ,  9.7300005,  9.820001 ,  9.91     ,\n",
       "        10.       ], dtype=float32),\n",
       " <BarContainer object of 100 artists>)"
      ]
     },
     "execution_count": 102,
     "metadata": {},
     "output_type": "execute_result"
    },
    {
     "data": {
      "image/png": "[encoded data removed]",
      "text/plain": [
       "<Figure size 432x288 with 1 Axes>"
      ]
     },
     "metadata": {
      "needs_background": "light"
     },
     "output_type": "display_data"
    }
   ],
   "source": [
    "plt.hist(first_npf_stuff[interesting_variable],bins=100,range=(1.00001,10))"
   ]
  },
  {
   "cell_type": "code",
   "execution_count": 103,
   "metadata": {
    "scrolled": true
   },
   "outputs": [
    {
     "data": {
      "text/plain": [
       "(array([9., 3., 4., 3., 7., 3., 5., 8., 5., 5., 5., 7., 4., 8., 4., 6., 9.,\n",
       "        8., 6., 5., 7., 0., 0., 1., 1., 0., 1., 0., 2., 1., 2., 0., 0., 2.,\n",
       "        1., 4., 0., 2., 3., 4., 1., 1., 0., 2., 1., 0., 3., 0., 0., 2., 1.,\n",
       "        1., 2., 0., 2., 0., 1., 1., 2., 0., 0., 0., 3., 1., 3., 1., 0., 1.,\n",
       "        0., 2., 0., 0., 0., 1., 1., 0., 0., 0., 3., 3., 0., 0., 0., 1., 0.,\n",
       "        1., 0., 0., 1., 0., 2., 0., 1., 1., 2., 0., 2., 0., 1., 0.]),\n",
       " array([1.0000000e-06, 1.0000989e-02, 2.0000977e-02, 3.0000968e-02,\n",
       "        4.0000957e-02, 5.0000943e-02, 6.0000934e-02, 7.0000924e-02,\n",
       "        8.0000915e-02, 9.0000898e-02, 1.0000089e-01, 1.1000088e-01,\n",
       "        1.2000087e-01, 1.3000086e-01, 1.4000085e-01, 1.5000084e-01,\n",
       "        1.6000083e-01, 1.7000081e-01, 1.8000080e-01, 1.9000079e-01,\n",
       "        2.0000078e-01, 2.1000077e-01, 2.2000076e-01, 2.3000075e-01,\n",
       "        2.4000074e-01, 2.5000072e-01, 2.6000071e-01, 2.7000070e-01,\n",
       "        2.8000069e-01, 2.9000068e-01, 3.0000067e-01, 3.1000066e-01,\n",
       "        3.2000065e-01, 3.3000064e-01, 3.4000063e-01, 3.5000062e-01,\n",
       "        3.6000061e-01, 3.7000060e-01, 3.8000059e-01, 3.9000058e-01,\n",
       "        4.0000057e-01, 4.1000056e-01, 4.2000052e-01, 4.3000051e-01,\n",
       "        4.4000050e-01, 4.5000049e-01, 4.6000049e-01, 4.7000048e-01,\n",
       "        4.8000047e-01, 4.9000046e-01, 5.0000048e-01, 5.1000047e-01,\n",
       "        5.2000046e-01, 5.3000039e-01, 5.4000038e-01, 5.5000037e-01,\n",
       "        5.6000036e-01, 5.7000035e-01, 5.8000034e-01, 5.9000033e-01,\n",
       "        6.0000032e-01, 6.1000031e-01, 6.2000030e-01, 6.3000029e-01,\n",
       "        6.4000028e-01, 6.5000027e-01, 6.6000026e-01, 6.7000026e-01,\n",
       "        6.8000025e-01, 6.9000024e-01, 7.0000023e-01, 7.1000022e-01,\n",
       "        7.2000021e-01, 7.3000020e-01, 7.4000019e-01, 7.5000018e-01,\n",
       "        7.6000017e-01, 7.7000016e-01, 7.8000015e-01, 7.9000014e-01,\n",
       "        8.0000013e-01, 8.1000012e-01, 8.2000011e-01, 8.3000010e-01,\n",
       "        8.4000009e-01, 8.5000008e-01, 8.6000007e-01, 8.7000006e-01,\n",
       "        8.8000005e-01, 8.9000005e-01, 9.0000004e-01, 9.1000003e-01,\n",
       "        9.2000002e-01, 9.2999995e-01, 9.3999994e-01, 9.4999993e-01,\n",
       "        9.5999992e-01, 9.6999991e-01, 9.7999990e-01, 9.8999989e-01,\n",
       "        9.9999988e-01], dtype=float32),\n",
       " <BarContainer object of 100 artists>)"
      ]
     },
     "execution_count": 103,
     "metadata": {},
     "output_type": "execute_result"
    },
    {
     "data": {
      "image/png": "[encoded data removed]",
      "text/plain": [
       "<Figure size 432x288 with 1 Axes>"
      ]
     },
     "metadata": {
      "needs_background": "light"
     },
     "output_type": "display_data"
    }
   ],
   "source": [
    "plt.hist(first_npf_stuff[interesting_variable],bins=100,range=(0.000001,0.9999999))"
   ]
  },
  {
   "cell_type": "code",
   "execution_count": 104,
   "metadata": {
    "scrolled": true
   },
   "outputs": [
    {
     "data": {
      "text/plain": [
       "(array([     0.,      0.,      0.,      0.,      0.,      0.,      0.,\n",
       "             0.,      0.,      0.,      0.,      0.,      0.,      0.,\n",
       "             0.,      0.,      0.,      0.,      0.,      0.,      0.,\n",
       "             0.,      0.,      0.,      0.,      0.,      0.,      0.,\n",
       "             0.,      0.,      0.,      0.,      0.,      0.,      0.,\n",
       "             0.,      0.,      0.,      0.,      0.,      0.,      0.,\n",
       "             0.,      0.,      0.,      0.,      0.,      0.,      0.,\n",
       "             0.,      0.,      0.,      0.,      0.,      0.,      0.,\n",
       "             0.,      0.,      0.,      0.,      0.,      0.,      0.,\n",
       "             0.,      0.,      0.,      0.,      0.,      0.,      0.,\n",
       "             0.,      0.,      0.,      0.,      0.,      0.,      0.,\n",
       "             0.,      0.,      0.,      0.,      0.,      0.,      0.,\n",
       "             0.,      0.,      0.,      0.,      0.,      0.,      0.,\n",
       "             0., 125125.,  40617.,  18448.,  10432.,   6906.,   5431.,\n",
       "          4834.,   5194.]),\n",
       " array([-5.0000000e+00, -4.9500003e+00, -4.9000001e+00, -4.8500004e+00,\n",
       "        -4.8000002e+00, -4.7500005e+00, -4.7000008e+00, -4.6500006e+00,\n",
       "        -4.6000009e+00, -4.5500007e+00, -4.5000010e+00, -4.4500012e+00,\n",
       "        -4.4000010e+00, -4.3500013e+00, -4.3000016e+00, -4.2500014e+00,\n",
       "        -4.2000017e+00, -4.1500015e+00, -4.1000018e+00, -4.0500021e+00,\n",
       "        -4.0000019e+00, -3.9500022e+00, -3.9000022e+00, -3.8500023e+00,\n",
       "        -3.8000023e+00, -3.7500024e+00, -3.7000027e+00, -3.6500027e+00,\n",
       "        -3.6000028e+00, -3.5500028e+00, -3.5000031e+00, -3.4500031e+00,\n",
       "        -3.4000032e+00, -3.3500032e+00, -3.3000033e+00, -3.2500036e+00,\n",
       "        -3.2000036e+00, -3.1500037e+00, -3.1000037e+00, -3.0500040e+00,\n",
       "        -3.0000041e+00, -2.9500041e+00, -2.9000041e+00, -2.8500042e+00,\n",
       "        -2.8000045e+00, -2.7500045e+00, -2.7000046e+00, -2.6500046e+00,\n",
       "        -2.6000049e+00, -2.5500050e+00, -2.5000050e+00, -2.4500051e+00,\n",
       "        -2.4000051e+00, -2.3500054e+00, -2.3000054e+00, -2.2500055e+00,\n",
       "        -2.2000055e+00, -2.1500058e+00, -2.1000059e+00, -2.0500059e+00,\n",
       "        -2.0000060e+00, -1.9500061e+00, -1.9000062e+00, -1.8500063e+00,\n",
       "        -1.8000064e+00, -1.7500066e+00, -1.7000066e+00, -1.6500067e+00,\n",
       "        -1.6000068e+00, -1.5500069e+00, -1.5000070e+00, -1.4500071e+00,\n",
       "        -1.4000072e+00, -1.3500073e+00, -1.3000073e+00, -1.2500075e+00,\n",
       "        -1.2000076e+00, -1.1500077e+00, -1.1000078e+00, -1.0500079e+00,\n",
       "        -1.0000080e+00, -9.5000809e-01, -9.0000820e-01, -8.5000831e-01,\n",
       "        -8.0000842e-01, -7.5000852e-01, -7.0000857e-01, -6.5000868e-01,\n",
       "        -6.0000879e-01, -5.5000889e-01, -5.0000900e-01, -4.5000911e-01,\n",
       "        -4.0000921e-01, -3.5000929e-01, -3.0000940e-01, -2.5000951e-01,\n",
       "        -2.0000960e-01, -1.5000971e-01, -1.0000980e-01, -5.0009899e-02,\n",
       "        -9.9999997e-06], dtype=float32),\n",
       " <BarContainer object of 100 artists>)"
      ]
     },
     "execution_count": 104,
     "metadata": {},
     "output_type": "execute_result"
    },
    {
     "data": {
      "image/png": "[encoded data removed]",
      "text/plain": [
       "<Figure size 432x288 with 1 Axes>"
      ]
     },
     "metadata": {
      "needs_background": "light"
     },
     "output_type": "display_data"
    }
   ],
   "source": [
    "plt.hist(first_npf_stuff[interesting_variable],bins=100,range=(-5,-0.00001))"
   ]
  },
  {
   "cell_type": "code",
   "execution_count": 105,
   "metadata": {},
   "outputs": [
    {
     "data": {
      "text/plain": [
       "12953.0"
      ]
     },
     "execution_count": 105,
     "metadata": {},
     "output_type": "execute_result"
    }
   ],
   "source": [
    "np.sum(np.array([  2.,   3.,   0.,   1.,   1.,   0.,  16.,  81., 116., 156., 201.,\n",
    "        231., 238., 269., 268., 271., 301., 341., 347., 394., 381., 375.,\n",
    "        420., 427., 427., 485., 491., 492., 422., 435., 401., 366., 342.,\n",
    "        342., 290., 279., 262., 233., 200., 197., 184., 170., 163., 129.,\n",
    "        132., 113., 105.,  84., 102.,  95.,  80.,  79., 100.,  83.,  61.,\n",
    "         74.,  69.,  72.,  52.,  63.,  50.,  52.,  45.,  46.,  34.,  34.,\n",
    "         25.,  18.,  22.,  22.,  17.,  14.,  16.,  10.,   9.,   7.,   1.,\n",
    "          3.,   5.,   2.,   1.,   2.,   0.,   0.,   2.,   2.,   0.,   0.,\n",
    "          0.,   0.,   0.,   0.,   0.,   0.,   0.,   0.,   0.,   0.,   0.,\n",
    "          0.]))"
   ]
  },
  {
   "cell_type": "code",
   "execution_count": 106,
   "metadata": {},
   "outputs": [
    {
     "data": {
      "text/plain": [
       "12956"
      ]
     },
     "execution_count": 106,
     "metadata": {},
     "output_type": "execute_result"
    }
   ],
   "source": [
    "12956"
   ]
  },
  {
   "cell_type": "code",
   "execution_count": 107,
   "metadata": {
    "scrolled": true
   },
   "outputs": [
    {
     "data": {
      "text/plain": [
       "(array([3.99885e+05, 3.30000e+01, 2.10000e+01, 9.00000e+00, 1.20000e+01,\n",
       "        5.00000e+00, 6.00000e+00, 3.00000e+00, 3.00000e+00, 3.00000e+00,\n",
       "        2.00000e+00, 1.00000e+00, 4.00000e+00, 2.00000e+00, 0.00000e+00,\n",
       "        2.00000e+00, 1.00000e+00, 0.00000e+00, 1.00000e+00, 2.00000e+00,\n",
       "        0.00000e+00, 0.00000e+00, 1.00000e+00, 1.00000e+00, 1.00000e+00,\n",
       "        0.00000e+00, 0.00000e+00, 0.00000e+00, 0.00000e+00, 0.00000e+00,\n",
       "        1.00000e+00, 0.00000e+00, 0.00000e+00, 0.00000e+00, 0.00000e+00,\n",
       "        0.00000e+00, 0.00000e+00, 0.00000e+00, 0.00000e+00, 0.00000e+00,\n",
       "        0.00000e+00, 0.00000e+00, 0.00000e+00, 0.00000e+00, 0.00000e+00,\n",
       "        0.00000e+00, 0.00000e+00, 0.00000e+00, 0.00000e+00, 0.00000e+00,\n",
       "        0.00000e+00, 0.00000e+00, 0.00000e+00, 0.00000e+00, 0.00000e+00,\n",
       "        0.00000e+00, 0.00000e+00, 0.00000e+00, 0.00000e+00, 0.00000e+00,\n",
       "        0.00000e+00, 0.00000e+00, 0.00000e+00, 0.00000e+00, 0.00000e+00,\n",
       "        0.00000e+00, 0.00000e+00, 0.00000e+00, 0.00000e+00, 0.00000e+00,\n",
       "        0.00000e+00, 0.00000e+00, 0.00000e+00, 0.00000e+00, 0.00000e+00,\n",
       "        0.00000e+00, 0.00000e+00, 0.00000e+00, 0.00000e+00, 0.00000e+00,\n",
       "        0.00000e+00, 0.00000e+00, 0.00000e+00, 0.00000e+00, 0.00000e+00,\n",
       "        0.00000e+00, 0.00000e+00, 0.00000e+00, 0.00000e+00, 0.00000e+00,\n",
       "        0.00000e+00, 0.00000e+00, 0.00000e+00, 0.00000e+00, 0.00000e+00,\n",
       "        0.00000e+00, 0.00000e+00, 0.00000e+00, 0.00000e+00, 1.00000e+00]),\n",
       " array([-3.99976850e-01,  1.26378803e+01,  2.56757374e+01,  3.87135963e+01,\n",
       "         5.17514534e+01,  6.47893066e+01,  7.78271637e+01,  9.08650208e+01,\n",
       "         1.03902878e+02,  1.16940735e+02,  1.29978592e+02,  1.43016449e+02,\n",
       "         1.56054306e+02,  1.69092163e+02,  1.82130020e+02,  1.95167877e+02,\n",
       "         2.08205734e+02,  2.21243591e+02,  2.34281448e+02,  2.47319305e+02,\n",
       "         2.60357178e+02,  2.73395020e+02,  2.86432892e+02,  2.99470734e+02,\n",
       "         3.12508606e+02,  3.25546448e+02,  3.38584320e+02,  3.51622162e+02,\n",
       "         3.64660034e+02,  3.77697876e+02,  3.90735748e+02,  4.03773590e+02,\n",
       "         4.16811462e+02,  4.29849304e+02,  4.42887177e+02,  4.55925018e+02,\n",
       "         4.68962891e+02,  4.82000732e+02,  4.95038605e+02,  5.08076447e+02,\n",
       "         5.21114319e+02,  5.34152161e+02,  5.47190002e+02,  5.60227905e+02,\n",
       "         5.73265747e+02,  5.86303589e+02,  5.99341431e+02,  6.12379333e+02,\n",
       "         6.25417175e+02,  6.38455017e+02,  6.51492859e+02,  6.64530762e+02,\n",
       "         6.77568604e+02,  6.90606445e+02,  7.03644287e+02,  7.16682190e+02,\n",
       "         7.29720032e+02,  7.42757874e+02,  7.55795715e+02,  7.68833618e+02,\n",
       "         7.81871460e+02,  7.94909302e+02,  8.07947144e+02,  8.20985046e+02,\n",
       "         8.34022888e+02,  8.47060730e+02,  8.60098572e+02,  8.73136475e+02,\n",
       "         8.86174316e+02,  8.99212158e+02,  9.12250000e+02,  9.25287903e+02,\n",
       "         9.38325745e+02,  9.51363586e+02,  9.64401428e+02,  9.77439331e+02,\n",
       "         9.90477173e+02,  1.00351501e+03,  1.01655286e+03,  1.02959070e+03,\n",
       "         1.04262854e+03,  1.05566650e+03,  1.06870435e+03,  1.08174219e+03,\n",
       "         1.09478003e+03,  1.10781787e+03,  1.12085571e+03,  1.13389355e+03,\n",
       "         1.14693140e+03,  1.15996936e+03,  1.17300720e+03,  1.18604504e+03,\n",
       "         1.19908289e+03,  1.21212073e+03,  1.22515857e+03,  1.23819641e+03,\n",
       "         1.25123425e+03,  1.26427222e+03,  1.27731006e+03,  1.29034790e+03,\n",
       "         1.30338574e+03], dtype=float32),\n",
       " <BarContainer object of 100 artists>)"
      ]
     },
     "execution_count": 107,
     "metadata": {},
     "output_type": "execute_result"
    },
    {
     "data": {
      "image/png": "[encoded data removed]",
      "text/plain": [
       "<Figure size 432x288 with 1 Axes>"
      ]
     },
     "metadata": {
      "needs_background": "light"
     },
     "output_type": "display_data"
    }
   ],
   "source": [
    "plt.hist(first_npf_stuff[interesting_variable],bins=100)"
   ]
  },
  {
   "cell_type": "code",
   "execution_count": 108,
   "metadata": {},
   "outputs": [],
   "source": [
    "first_vtx_stuff = ak.to_numpy(df_vtx_clip[:,0])"
   ]
  },
  {
   "cell_type": "code",
   "execution_count": 109,
   "metadata": {},
   "outputs": [
    {
     "data": {
      "text/plain": [
       "<Record ... 0.263, 0.0436, None, None, None]} type='{\"sv_pt\": 5 * ?float32, \"sv_...'>"
      ]
     },
     "execution_count": 109,
     "metadata": {},
     "output_type": "execute_result"
    }
   ],
   "source": [
    "df_vtx_clip[0,:5]"
   ]
  },
  {
   "cell_type": "code",
   "execution_count": 110,
   "metadata": {},
   "outputs": [
    {
     "data": {
      "text/plain": [
       "array([(40.92438  , -0.42304367, 1.7769272, -0.4966538 , -0.42311645, 4., 4.098559  , 0.85899377, 1.0513455 , 49.267982 , 2.7619932 , 49.520184 , 0.99997705, 0.26288605),\n",
       "       (17.476078 , -0.3488841 , 0.9189258, -0.49679303, -0.34891814, 3., 4.633194  , 1.8092972 , 0.35758275,  6.3204107, 0.80146766,  6.3231845, 0.9999425 , 0.34145305),\n",
       "       ( 4.3416257, -0.19063433, 0.9090243, -0.29598433, -0.26743877, 2., 0.08055659, 0.08562515, 0.02706654,  2.3187418, 0.03502447,  2.3626354, 0.97801346, 0.03202774),\n",
       "       ...,\n",
       "       (13.906122 , -0.4101109 , 1.9588983, -0.4977964 , -0.4101379 , 6., 4.278945  , 0.4910895 , 0.06541351,  4.3136578, 0.07457376,  4.3763065, 0.99885696, 0.6304855 ),\n",
       "       ( 6.1343594, -0.3176431 , 0.5850642, -0.33692834, -0.41838098, 2., 0.29547176, 0.3161494 , 0.05631754,  2.0200331, 0.05790783,  2.0246084, 0.99778384, 0.2524571 ),\n",
       "       ( 0.       ,  0.        , 0.       ,  0.        ,  0.        , 0., 0.        , 0.        , 0.        ,  0.       , 0.        ,  0.       , 0.        , 0.        )],\n",
       "      dtype=[('sv_pt', '<f4'), ('sv_deltaR', '<f4'), ('sv_mass', '<f4'), ('sv_etarel', '<f4'), ('sv_phirel', '<f4'), ('sv_ntracks', '<f4'), ('sv_chi2', '<f4'), ('sv_normchi2', '<f4'), ('sv_dxy', '<f4'), ('sv_dxysig', '<f4'), ('sv_d3d', '<f4'), ('sv_d3dsig', '<f4'), ('sv_costhetasvpv', '<f4'), ('sv_enratio', '<f4')])"
      ]
     },
     "execution_count": 110,
     "metadata": {},
     "output_type": "execute_result"
    }
   ],
   "source": [
    "first_vtx_stuff"
   ]
  },
  {
   "cell_type": "code",
   "execution_count": 111,
   "metadata": {
    "scrolled": true
   },
   "outputs": [
    {
     "data": {
      "text/plain": [
       "(array([0., 0., 0., 0., 0., 0., 0., 0., 0., 0., 0., 0., 0., 0., 0., 0., 0.,\n",
       "        0., 0., 0., 0., 0., 0., 0., 0., 0., 0., 0., 0., 0., 0., 0., 0., 0.,\n",
       "        0., 0., 0., 0., 0., 0., 0., 0., 0., 0., 0., 0., 0., 0., 0., 0., 0.,\n",
       "        0., 0., 0., 0., 0., 0., 0., 0., 0., 0., 0., 0., 0., 0., 0., 0., 0.,\n",
       "        0., 0., 0., 0., 0., 0., 0., 0., 0., 0., 0., 0., 0., 0., 0., 0., 0.,\n",
       "        0., 0., 0., 0., 0., 0., 0., 0., 0., 0., 0., 0., 0., 0., 0.]),\n",
       " array([-1000.   ,  -999.985,  -999.97 ,  -999.955,  -999.94 ,  -999.925,\n",
       "         -999.91 ,  -999.895,  -999.88 ,  -999.865,  -999.85 ,  -999.835,\n",
       "         -999.82 ,  -999.805,  -999.79 ,  -999.775,  -999.76 ,  -999.745,\n",
       "         -999.73 ,  -999.715,  -999.7  ,  -999.685,  -999.67 ,  -999.655,\n",
       "         -999.64 ,  -999.625,  -999.61 ,  -999.595,  -999.58 ,  -999.565,\n",
       "         -999.55 ,  -999.535,  -999.52 ,  -999.505,  -999.49 ,  -999.475,\n",
       "         -999.46 ,  -999.445,  -999.43 ,  -999.415,  -999.4  ,  -999.385,\n",
       "         -999.37 ,  -999.355,  -999.34 ,  -999.325,  -999.31 ,  -999.295,\n",
       "         -999.28 ,  -999.265,  -999.25 ,  -999.235,  -999.22 ,  -999.205,\n",
       "         -999.19 ,  -999.175,  -999.16 ,  -999.145,  -999.13 ,  -999.115,\n",
       "         -999.1  ,  -999.085,  -999.07 ,  -999.055,  -999.04 ,  -999.025,\n",
       "         -999.01 ,  -998.995,  -998.98 ,  -998.965,  -998.95 ,  -998.935,\n",
       "         -998.92 ,  -998.905,  -998.89 ,  -998.875,  -998.86 ,  -998.845,\n",
       "         -998.83 ,  -998.815,  -998.8  ,  -998.785,  -998.77 ,  -998.755,\n",
       "         -998.74 ,  -998.725,  -998.71 ,  -998.695,  -998.68 ,  -998.665,\n",
       "         -998.65 ,  -998.635,  -998.62 ,  -998.605,  -998.59 ,  -998.575,\n",
       "         -998.56 ,  -998.545,  -998.53 ,  -998.515,  -998.5  ],\n",
       "       dtype=float32),\n",
       " <BarContainer object of 100 artists>)"
      ]
     },
     "execution_count": 111,
     "metadata": {},
     "output_type": "execute_result"
    },
    {
     "data": {
      "image/png": "[encoded data removed]",
      "text/plain": [
       "<Figure size 432x288 with 1 Axes>"
      ]
     },
     "metadata": {
      "needs_background": "light"
     },
     "output_type": "display_data"
    }
   ],
   "source": [
    "interesting_variable = 'sv_enratio'\n",
    "#plt.hist(first_cpf_stuff[interesting_variable],bins=100)\n",
    "plt.hist(first_vtx_stuff[interesting_variable],bins=100,range=(-1000,-998.5))"
   ]
  },
  {
   "cell_type": "code",
   "execution_count": 112,
   "metadata": {
    "scrolled": true
   },
   "outputs": [
    {
     "data": {
      "text/plain": [
       "(array([    0.,     0.,     0.,     0.,     0.,     0.,     0.,     0.,\n",
       "            0.,     0.,     0.,     0.,     0.,     0.,     0.,     0.,\n",
       "            0.,     0.,     0.,     0.,     0.,     0.,     0.,     0.,\n",
       "            0.,     0.,     0.,     0.,     0.,     0.,     0.,     0.,\n",
       "            0.,     0.,     0.,     0.,     0.,     0.,     0.,     0.,\n",
       "            0.,     0.,     0.,     0.,     0.,     0.,     0.,     0.,\n",
       "            0.,     0.,     0.,     0.,     0.,     0.,     0.,     0.,\n",
       "            0.,     0.,     0.,     0.,     0.,     0.,     0.,     0.,\n",
       "            0.,     0.,     0.,     0.,     0.,     0.,     0.,     0.,\n",
       "            0.,     0.,     0.,     0.,     0.,     0.,     0.,     0.,\n",
       "            0.,     0.,     0.,     0.,     0.,     0.,     0.,     0.,\n",
       "            0.,     0.,     0.,     0.,     0.,     0.,     0.,     0.,\n",
       "            0.,     0.,     0., 93085.]),\n",
       " array([-1.01  , -0.9999, -0.9898, -0.9797, -0.9696, -0.9595, -0.9494,\n",
       "        -0.9393, -0.9292, -0.9191, -0.909 , -0.8989, -0.8888, -0.8787,\n",
       "        -0.8686, -0.8585, -0.8484, -0.8383, -0.8282, -0.8181, -0.808 ,\n",
       "        -0.7979, -0.7878, -0.7777, -0.7676, -0.7575, -0.7474, -0.7373,\n",
       "        -0.7272, -0.7171, -0.707 , -0.6969, -0.6868, -0.6767, -0.6666,\n",
       "        -0.6565, -0.6464, -0.6363, -0.6262, -0.6161, -0.606 , -0.5959,\n",
       "        -0.5858, -0.5757, -0.5656, -0.5555, -0.5454, -0.5353, -0.5252,\n",
       "        -0.5151, -0.505 , -0.4949, -0.4848, -0.4747, -0.4646, -0.4545,\n",
       "        -0.4444, -0.4343, -0.4242, -0.4141, -0.404 , -0.3939, -0.3838,\n",
       "        -0.3737, -0.3636, -0.3535, -0.3434, -0.3333, -0.3232, -0.3131,\n",
       "        -0.303 , -0.2929, -0.2828, -0.2727, -0.2626, -0.2525, -0.2424,\n",
       "        -0.2323, -0.2222, -0.2121, -0.202 , -0.1919, -0.1818, -0.1717,\n",
       "        -0.1616, -0.1515, -0.1414, -0.1313, -0.1212, -0.1111, -0.101 ,\n",
       "        -0.0909, -0.0808, -0.0707, -0.0606, -0.0505, -0.0404, -0.0303,\n",
       "        -0.0202, -0.0101,  0.    ], dtype=float32),\n",
       " <BarContainer object of 100 artists>)"
      ]
     },
     "execution_count": 112,
     "metadata": {},
     "output_type": "execute_result"
    },
    {
     "data": {
      "image/png": "[encoded data removed]",
      "text/plain": [
       "<Figure size 432x288 with 1 Axes>"
      ]
     },
     "metadata": {
      "needs_background": "light"
     },
     "output_type": "display_data"
    }
   ],
   "source": [
    "plt.hist(first_vtx_stuff[interesting_variable],bins=100,range=(-1.01,0))"
   ]
  },
  {
   "cell_type": "code",
   "execution_count": 113,
   "metadata": {
    "scrolled": true
   },
   "outputs": [
    {
     "data": {
      "text/plain": [
       "(array([    0.,     0.,     0.,     0.,     0.,     0.,     0.,     0.,\n",
       "            0.,     0.,     0.,     0.,     0.,     0.,     0.,     0.,\n",
       "            0.,     0.,     0.,     0.,     0.,     0.,     0.,     0.,\n",
       "            0.,     0.,     0.,     0.,     0.,     0.,     0.,     0.,\n",
       "            0.,     0.,     0.,     0.,     0.,     0.,     0.,     0.,\n",
       "            0.,     0.,     0.,     0.,     0.,     0.,     0.,     0.,\n",
       "            0.,     0.,     0.,     0.,     0.,     0.,     0.,     0.,\n",
       "            0.,     0.,     0.,     0.,     0.,     0.,     0.,     0.,\n",
       "            0.,     0.,     0.,     0.,     0.,     0.,     0.,     0.,\n",
       "            0.,     0.,     0.,     0.,     0.,     0.,     0.,     0.,\n",
       "            0.,     0.,     0.,     0.,     0.,     0.,     0.,     0.,\n",
       "            0.,     0.,     0.,     0.,     0.,     0.,     0.,     0.,\n",
       "            0.,     0.,     0., 93085.]),\n",
       " array([-0.4  , -0.396, -0.392, -0.388, -0.384, -0.38 , -0.376, -0.372,\n",
       "        -0.368, -0.364, -0.36 , -0.356, -0.352, -0.348, -0.344, -0.34 ,\n",
       "        -0.336, -0.332, -0.328, -0.324, -0.32 , -0.316, -0.312, -0.308,\n",
       "        -0.304, -0.3  , -0.296, -0.292, -0.288, -0.284, -0.28 , -0.276,\n",
       "        -0.272, -0.268, -0.264, -0.26 , -0.256, -0.252, -0.248, -0.244,\n",
       "        -0.24 , -0.236, -0.232, -0.228, -0.224, -0.22 , -0.216, -0.212,\n",
       "        -0.208, -0.204, -0.2  , -0.196, -0.192, -0.188, -0.184, -0.18 ,\n",
       "        -0.176, -0.172, -0.168, -0.164, -0.16 , -0.156, -0.152, -0.148,\n",
       "        -0.144, -0.14 , -0.136, -0.132, -0.128, -0.124, -0.12 , -0.116,\n",
       "        -0.112, -0.108, -0.104, -0.1  , -0.096, -0.092, -0.088, -0.084,\n",
       "        -0.08 , -0.076, -0.072, -0.068, -0.064, -0.06 , -0.056, -0.052,\n",
       "        -0.048, -0.044, -0.04 , -0.036, -0.032, -0.028, -0.024, -0.02 ,\n",
       "        -0.016, -0.012, -0.008, -0.004,  0.   ], dtype=float32),\n",
       " <BarContainer object of 100 artists>)"
      ]
     },
     "execution_count": 113,
     "metadata": {},
     "output_type": "execute_result"
    },
    {
     "data": {
      "image/png": "[encoded data removed]",
      "text/plain": [
       "<Figure size 432x288 with 1 Axes>"
      ]
     },
     "metadata": {
      "needs_background": "light"
     },
     "output_type": "display_data"
    }
   ],
   "source": [
    "plt.hist(first_vtx_stuff[interesting_variable],bins=100,range=(-0.40,0))"
   ]
  },
  {
   "cell_type": "code",
   "execution_count": 114,
   "metadata": {
    "scrolled": true
   },
   "outputs": [
    {
     "data": {
      "text/plain": [
       "(array([    0.,     0.,     0.,     0.,     0.,     0.,     0.,     0.,\n",
       "            0.,     0.,     0.,     0.,     0.,     0.,     0.,     0.,\n",
       "            0.,     0.,     0.,     0.,     0.,     0.,     0.,     0.,\n",
       "            0.,     0.,     0.,     0.,     0.,     0.,     0.,     0.,\n",
       "            0.,     0.,     0.,     0.,     0.,     0.,     0.,     0.,\n",
       "            0.,     0.,     0.,     0.,     0.,     0.,     0.,     0.,\n",
       "            0.,     0.,     0.,     0.,     0.,     0.,     0.,     0.,\n",
       "            0.,     0.,     0.,     0.,     0.,     0.,     0.,     0.,\n",
       "            0.,     0.,     0.,     0.,     0.,     0.,     0.,     0.,\n",
       "            0.,     0.,     0.,     0.,     0.,     0.,     0.,     0.,\n",
       "            0.,     0.,     0.,     0.,     0.,     0.,     0.,     0.,\n",
       "            0.,     0.,     0.,     0.,     0.,     0.,     0.,     0.,\n",
       "            0.,     0.,     0., 93085.]),\n",
       " array([-0.6  , -0.594, -0.588, -0.582, -0.576, -0.57 , -0.564, -0.558,\n",
       "        -0.552, -0.546, -0.54 , -0.534, -0.528, -0.522, -0.516, -0.51 ,\n",
       "        -0.504, -0.498, -0.492, -0.486, -0.48 , -0.474, -0.468, -0.462,\n",
       "        -0.456, -0.45 , -0.444, -0.438, -0.432, -0.426, -0.42 , -0.414,\n",
       "        -0.408, -0.402, -0.396, -0.39 , -0.384, -0.378, -0.372, -0.366,\n",
       "        -0.36 , -0.354, -0.348, -0.342, -0.336, -0.33 , -0.324, -0.318,\n",
       "        -0.312, -0.306, -0.3  , -0.294, -0.288, -0.282, -0.276, -0.27 ,\n",
       "        -0.264, -0.258, -0.252, -0.246, -0.24 , -0.234, -0.228, -0.222,\n",
       "        -0.216, -0.21 , -0.204, -0.198, -0.192, -0.186, -0.18 , -0.174,\n",
       "        -0.168, -0.162, -0.156, -0.15 , -0.144, -0.138, -0.132, -0.126,\n",
       "        -0.12 , -0.114, -0.108, -0.102, -0.096, -0.09 , -0.084, -0.078,\n",
       "        -0.072, -0.066, -0.06 , -0.054, -0.048, -0.042, -0.036, -0.03 ,\n",
       "        -0.024, -0.018, -0.012, -0.006,  0.   ], dtype=float32),\n",
       " <BarContainer object of 100 artists>)"
      ]
     },
     "execution_count": 114,
     "metadata": {},
     "output_type": "execute_result"
    },
    {
     "data": {
      "image/png": "[encoded data removed]",
      "text/plain": [
       "<Figure size 432x288 with 1 Axes>"
      ]
     },
     "metadata": {
      "needs_background": "light"
     },
     "output_type": "display_data"
    }
   ],
   "source": [
    "plt.hist(first_vtx_stuff[interesting_variable],bins=100,range=(-0.60,0))"
   ]
  },
  {
   "cell_type": "code",
   "execution_count": 115,
   "metadata": {
    "scrolled": true
   },
   "outputs": [
    {
     "data": {
      "text/plain": [
       "(array([0., 0., 0., 0., 0., 0., 0., 0., 0., 0., 0., 0., 0., 0., 0., 0., 0.,\n",
       "        0., 0., 0., 0., 0., 0., 0., 0., 0., 0., 0., 0., 0., 0., 0., 0., 0.,\n",
       "        0., 0., 0., 0., 0., 0., 0., 0., 0., 0., 0., 0., 0., 0., 0., 0., 0.,\n",
       "        0., 0., 0., 0., 0., 0., 0., 0., 0., 0., 0., 0., 0., 0., 0., 0., 0.,\n",
       "        0., 0., 0., 0., 0., 0., 0., 0., 0., 0., 0., 0., 0., 0., 0., 0., 0.,\n",
       "        0., 0., 0., 0., 0., 0., 0., 0., 0., 0., 0., 0., 0., 0., 0.]),\n",
       " array([-1.01  , -1.0098, -1.0096, -1.0094, -1.0092, -1.009 , -1.0088,\n",
       "        -1.0086, -1.0084, -1.0082, -1.008 , -1.0078, -1.0076, -1.0074,\n",
       "        -1.0072, -1.007 , -1.0068, -1.0066, -1.0064, -1.0062, -1.006 ,\n",
       "        -1.0058, -1.0056, -1.0054, -1.0052, -1.005 , -1.0048, -1.0046,\n",
       "        -1.0044, -1.0042, -1.004 , -1.0038, -1.0036, -1.0034, -1.0032,\n",
       "        -1.003 , -1.0028, -1.0026, -1.0024, -1.0022, -1.002 , -1.0018,\n",
       "        -1.0016, -1.0014, -1.0012, -1.001 , -1.0008, -1.0006, -1.0004,\n",
       "        -1.0002, -1.    , -0.9998, -0.9996, -0.9994, -0.9992, -0.999 ,\n",
       "        -0.9988, -0.9986, -0.9984, -0.9982, -0.998 , -0.9978, -0.9976,\n",
       "        -0.9974, -0.9972, -0.997 , -0.9968, -0.9966, -0.9964, -0.9962,\n",
       "        -0.996 , -0.9958, -0.9956, -0.9954, -0.9952, -0.995 , -0.9948,\n",
       "        -0.9946, -0.9944, -0.9942, -0.994 , -0.9938, -0.9936, -0.9934,\n",
       "        -0.9932, -0.993 , -0.9928, -0.9926, -0.9924, -0.9922, -0.992 ,\n",
       "        -0.9918, -0.9916, -0.9914, -0.9912, -0.991 , -0.9908, -0.9906,\n",
       "        -0.9904, -0.9902, -0.99  ], dtype=float32),\n",
       " <BarContainer object of 100 artists>)"
      ]
     },
     "execution_count": 115,
     "metadata": {},
     "output_type": "execute_result"
    },
    {
     "data": {
      "image/png": "[encoded data removed]",
      "text/plain": [
       "<Figure size 432x288 with 1 Axes>"
      ]
     },
     "metadata": {
      "needs_background": "light"
     },
     "output_type": "display_data"
    }
   ],
   "source": [
    "plt.hist(first_vtx_stuff[interesting_variable],bins=100,range=(-1.01,-0.99))"
   ]
  },
  {
   "cell_type": "code",
   "execution_count": 116,
   "metadata": {
    "scrolled": true
   },
   "outputs": [
    {
     "data": {
      "text/plain": [
       "(array([0.00000e+00, 0.00000e+00, 0.00000e+00, 0.00000e+00, 0.00000e+00,\n",
       "        0.00000e+00, 0.00000e+00, 0.00000e+00, 0.00000e+00, 0.00000e+00,\n",
       "        0.00000e+00, 0.00000e+00, 0.00000e+00, 0.00000e+00, 0.00000e+00,\n",
       "        0.00000e+00, 0.00000e+00, 0.00000e+00, 0.00000e+00, 0.00000e+00,\n",
       "        0.00000e+00, 0.00000e+00, 0.00000e+00, 0.00000e+00, 0.00000e+00,\n",
       "        0.00000e+00, 0.00000e+00, 0.00000e+00, 0.00000e+00, 0.00000e+00,\n",
       "        0.00000e+00, 0.00000e+00, 0.00000e+00, 0.00000e+00, 0.00000e+00,\n",
       "        0.00000e+00, 0.00000e+00, 0.00000e+00, 0.00000e+00, 0.00000e+00,\n",
       "        0.00000e+00, 0.00000e+00, 0.00000e+00, 0.00000e+00, 0.00000e+00,\n",
       "        0.00000e+00, 0.00000e+00, 0.00000e+00, 0.00000e+00, 1.00000e+00,\n",
       "        1.86142e+05, 0.00000e+00, 0.00000e+00, 1.00000e+00, 2.00000e+00,\n",
       "        9.00000e+00, 1.00000e+01, 2.00000e+01, 3.60000e+01, 4.80000e+01,\n",
       "        5.00000e+01, 8.90000e+01, 1.00000e+02, 1.06000e+02, 1.33000e+02,\n",
       "        1.67000e+02, 1.58000e+02, 1.61000e+02, 1.84000e+02, 1.60000e+02,\n",
       "        2.08000e+02, 2.11000e+02, 2.04000e+02, 2.23000e+02, 2.01000e+02,\n",
       "        2.05000e+02, 2.25000e+02, 2.21000e+02, 2.02000e+02, 2.52000e+02,\n",
       "        2.37000e+02, 2.49000e+02, 2.51000e+02, 2.46000e+02, 2.43000e+02,\n",
       "        2.02000e+02, 2.27000e+02, 2.50000e+02, 2.47000e+02, 2.53000e+02,\n",
       "        2.26000e+02, 2.49000e+02, 2.68000e+02, 2.45000e+02, 2.44000e+02,\n",
       "        2.84000e+02, 2.23000e+02, 2.58000e+02, 2.40000e+02, 2.43000e+02]),\n",
       " array([-0.01  , -0.0098, -0.0096, -0.0094, -0.0092, -0.009 , -0.0088,\n",
       "        -0.0086, -0.0084, -0.0082, -0.008 , -0.0078, -0.0076, -0.0074,\n",
       "        -0.0072, -0.007 , -0.0068, -0.0066, -0.0064, -0.0062, -0.006 ,\n",
       "        -0.0058, -0.0056, -0.0054, -0.0052, -0.005 , -0.0048, -0.0046,\n",
       "        -0.0044, -0.0042, -0.004 , -0.0038, -0.0036, -0.0034, -0.0032,\n",
       "        -0.003 , -0.0028, -0.0026, -0.0024, -0.0022, -0.002 , -0.0018,\n",
       "        -0.0016, -0.0014, -0.0012, -0.001 , -0.0008, -0.0006, -0.0004,\n",
       "        -0.0002,  0.    ,  0.0002,  0.0004,  0.0006,  0.0008,  0.001 ,\n",
       "         0.0012,  0.0014,  0.0016,  0.0018,  0.002 ,  0.0022,  0.0024,\n",
       "         0.0026,  0.0028,  0.003 ,  0.0032,  0.0034,  0.0036,  0.0038,\n",
       "         0.004 ,  0.0042,  0.0044,  0.0046,  0.0048,  0.005 ,  0.0052,\n",
       "         0.0054,  0.0056,  0.0058,  0.006 ,  0.0062,  0.0064,  0.0066,\n",
       "         0.0068,  0.007 ,  0.0072,  0.0074,  0.0076,  0.0078,  0.008 ,\n",
       "         0.0082,  0.0084,  0.0086,  0.0088,  0.009 ,  0.0092,  0.0094,\n",
       "         0.0096,  0.0098,  0.01  ], dtype=float32),\n",
       " <BarContainer object of 100 artists>)"
      ]
     },
     "execution_count": 116,
     "metadata": {},
     "output_type": "execute_result"
    },
    {
     "data": {
      "image/png": "[encoded data removed]",
      "text/plain": [
       "<Figure size 432x288 with 1 Axes>"
      ]
     },
     "metadata": {
      "needs_background": "light"
     },
     "output_type": "display_data"
    }
   ],
   "source": [
    "plt.hist(first_vtx_stuff[interesting_variable],bins=100,range=(-0.01,0.01))"
   ]
  },
  {
   "cell_type": "code",
   "execution_count": 117,
   "metadata": {
    "scrolled": true
   },
   "outputs": [
    {
     "data": {
      "text/plain": [
       "(array([1.94613e+05, 1.11290e+04, 9.93100e+03, 8.64900e+03, 7.91400e+03,\n",
       "        7.32300e+03, 6.67700e+03, 6.53900e+03, 6.07500e+03, 5.75500e+03,\n",
       "        5.62400e+03, 5.38300e+03, 5.08800e+03, 4.90400e+03, 4.65200e+03,\n",
       "        4.60800e+03, 4.34800e+03, 4.06900e+03, 4.13200e+03, 3.73400e+03,\n",
       "        3.63400e+03, 3.43200e+03, 3.51800e+03, 3.42600e+03, 3.14400e+03,\n",
       "        3.08700e+03, 3.04700e+03, 2.81600e+03, 2.71700e+03, 2.56500e+03,\n",
       "        2.56300e+03, 2.43600e+03, 2.40000e+03, 2.35000e+03, 2.13300e+03,\n",
       "        2.08100e+03, 2.07300e+03, 1.87000e+03, 1.80300e+03, 1.83400e+03,\n",
       "        1.75100e+03, 1.66100e+03, 1.55600e+03, 1.49600e+03, 1.44300e+03,\n",
       "        1.42400e+03, 1.34500e+03, 1.31600e+03, 1.23800e+03, 1.19000e+03,\n",
       "        1.08300e+03, 1.11400e+03, 1.03800e+03, 9.86000e+02, 8.86000e+02,\n",
       "        8.58000e+02, 8.56000e+02, 8.52000e+02, 8.32000e+02, 7.25000e+02,\n",
       "        6.68000e+02, 6.48000e+02, 6.44000e+02, 6.00000e+02, 5.83000e+02,\n",
       "        5.26000e+02, 5.02000e+02, 4.83000e+02, 4.69000e+02, 4.77000e+02,\n",
       "        4.01000e+02, 4.40000e+02, 3.67000e+02, 3.11000e+02, 3.15000e+02,\n",
       "        3.14000e+02, 3.09000e+02, 2.90000e+02, 2.40000e+02, 2.51000e+02,\n",
       "        2.24000e+02, 2.01000e+02, 1.84000e+02, 1.83000e+02, 1.57000e+02,\n",
       "        1.70000e+02, 1.29000e+02, 1.25000e+02, 1.33000e+02, 1.13000e+02,\n",
       "        1.27000e+02, 1.07000e+02, 8.40000e+01, 6.90000e+01, 8.20000e+01,\n",
       "        6.90000e+01, 7.00000e+01, 6.50000e+01, 4.70000e+01, 4.30000e+01]),\n",
       " array([0.  , 0.01, 0.02, 0.03, 0.04, 0.05, 0.06, 0.07, 0.08, 0.09, 0.1 ,\n",
       "        0.11, 0.12, 0.13, 0.14, 0.15, 0.16, 0.17, 0.18, 0.19, 0.2 , 0.21,\n",
       "        0.22, 0.23, 0.24, 0.25, 0.26, 0.27, 0.28, 0.29, 0.3 , 0.31, 0.32,\n",
       "        0.33, 0.34, 0.35, 0.36, 0.37, 0.38, 0.39, 0.4 , 0.41, 0.42, 0.43,\n",
       "        0.44, 0.45, 0.46, 0.47, 0.48, 0.49, 0.5 , 0.51, 0.52, 0.53, 0.54,\n",
       "        0.55, 0.56, 0.57, 0.58, 0.59, 0.6 , 0.61, 0.62, 0.63, 0.64, 0.65,\n",
       "        0.66, 0.67, 0.68, 0.69, 0.7 , 0.71, 0.72, 0.73, 0.74, 0.75, 0.76,\n",
       "        0.77, 0.78, 0.79, 0.8 , 0.81, 0.82, 0.83, 0.84, 0.85, 0.86, 0.87,\n",
       "        0.88, 0.89, 0.9 , 0.91, 0.92, 0.93, 0.94, 0.95, 0.96, 0.97, 0.98,\n",
       "        0.99, 1.  ], dtype=float32),\n",
       " <BarContainer object of 100 artists>)"
      ]
     },
     "execution_count": 117,
     "metadata": {},
     "output_type": "execute_result"
    },
    {
     "data": {
      "image/png": "[encoded data removed]",
      "text/plain": [
       "<Figure size 432x288 with 1 Axes>"
      ]
     },
     "metadata": {
      "needs_background": "light"
     },
     "output_type": "display_data"
    }
   ],
   "source": [
    "plt.hist(first_vtx_stuff[interesting_variable],bins=100,range=(0,1))"
   ]
  },
  {
   "cell_type": "code",
   "execution_count": 118,
   "metadata": {
    "scrolled": true
   },
   "outputs": [
    {
     "data": {
      "text/plain": [
       "(array([ 7.,  3.,  9., 10., 11.,  4.,  8.,  5.,  9.,  3., 10.,  8., 11.,\n",
       "         6.,  2.,  6.,  3.,  7.,  8.,  9.,  9.,  4., 11.,  6.,  1., 10.,\n",
       "         8.,  5.,  8.,  3.,  3.,  4.,  2.,  3.,  7.,  2., 13.,  4.,  5.,\n",
       "         4.,  2.,  7.,  3.,  8.,  6.,  1.,  3.,  1.,  2.,  5.,  8.,  5.,\n",
       "         3.,  3.,  1.,  3.,  3.,  5.,  6.,  2.,  1.,  8.,  5.,  3.,  4.,\n",
       "         6.,  3.,  2.,  3.,  6.,  2.,  2.,  4.,  1.,  2.,  1.,  4.,  4.,\n",
       "         4.,  2.,  5.,  2.,  0.,  5.,  3.,  3.,  3.,  3.,  1.,  2.,  2.,\n",
       "         1.,  5.,  1.,  4.,  5.,  1.,  1.,  2.,  3.]),\n",
       " array([0.95 , 0.951, 0.952, 0.953, 0.954, 0.955, 0.956, 0.957, 0.958,\n",
       "        0.959, 0.96 , 0.961, 0.962, 0.963, 0.964, 0.965, 0.966, 0.967,\n",
       "        0.968, 0.969, 0.97 , 0.971, 0.972, 0.973, 0.974, 0.975, 0.976,\n",
       "        0.977, 0.978, 0.979, 0.98 , 0.981, 0.982, 0.983, 0.984, 0.985,\n",
       "        0.986, 0.987, 0.988, 0.989, 0.99 , 0.991, 0.992, 0.993, 0.994,\n",
       "        0.995, 0.996, 0.997, 0.998, 0.999, 1.   , 1.001, 1.002, 1.003,\n",
       "        1.004, 1.005, 1.006, 1.007, 1.008, 1.009, 1.01 , 1.011, 1.012,\n",
       "        1.013, 1.014, 1.015, 1.016, 1.017, 1.018, 1.019, 1.02 , 1.021,\n",
       "        1.022, 1.023, 1.024, 1.025, 1.026, 1.027, 1.028, 1.029, 1.03 ,\n",
       "        1.031, 1.032, 1.033, 1.034, 1.035, 1.036, 1.037, 1.038, 1.039,\n",
       "        1.04 , 1.041, 1.042, 1.043, 1.044, 1.045, 1.046, 1.047, 1.048,\n",
       "        1.049, 1.05 ], dtype=float32),\n",
       " <BarContainer object of 100 artists>)"
      ]
     },
     "execution_count": 118,
     "metadata": {},
     "output_type": "execute_result"
    },
    {
     "data": {
      "image/png": "[encoded data removed]",
      "text/plain": [
       "<Figure size 432x288 with 1 Axes>"
      ]
     },
     "metadata": {
      "needs_background": "light"
     },
     "output_type": "display_data"
    }
   ],
   "source": [
    "plt.hist(first_vtx_stuff[interesting_variable],bins=100,range=(0.95,1.05))"
   ]
  },
  {
   "cell_type": "code",
   "execution_count": 119,
   "metadata": {
    "scrolled": true
   },
   "outputs": [
    {
     "data": {
      "text/plain": [
       "(array([2.32236e+05, 3.23690e+04, 2.56510e+04, 2.08910e+04, 1.71540e+04,\n",
       "        1.42320e+04, 1.18820e+04, 9.66100e+03, 7.90700e+03, 6.51300e+03,\n",
       "        5.10700e+03, 4.12300e+03, 3.14300e+03, 2.45700e+03, 1.83400e+03,\n",
       "        1.40400e+03, 9.49000e+02, 6.70000e+02, 4.69000e+02, 2.89000e+02,\n",
       "        1.58000e+02, 1.14000e+02, 7.50000e+01, 7.30000e+01, 6.40000e+01,\n",
       "        5.20000e+01, 4.30000e+01, 4.10000e+01, 2.90000e+01, 3.70000e+01,\n",
       "        2.50000e+01, 1.80000e+01, 1.90000e+01, 1.60000e+01, 1.80000e+01,\n",
       "        1.60000e+01, 1.10000e+01, 1.80000e+01, 1.10000e+01, 1.10000e+01,\n",
       "        6.00000e+00, 1.30000e+01, 1.10000e+01, 8.00000e+00, 4.00000e+00,\n",
       "        6.00000e+00, 7.00000e+00, 9.00000e+00, 8.00000e+00, 5.00000e+00,\n",
       "        4.00000e+00, 6.00000e+00, 5.00000e+00, 4.00000e+00, 5.00000e+00,\n",
       "        3.00000e+00, 4.00000e+00, 2.00000e+00, 2.00000e+00, 9.00000e+00,\n",
       "        1.00000e+00, 3.00000e+00, 3.00000e+00, 1.00000e+00, 3.00000e+00,\n",
       "        1.00000e+00, 3.00000e+00, 2.00000e+00, 5.00000e+00, 2.00000e+00,\n",
       "        3.00000e+00, 1.00000e+00, 3.00000e+00, 1.00000e+00, 0.00000e+00,\n",
       "        1.00000e+00, 5.00000e+00, 2.00000e+00, 1.00000e+00, 0.00000e+00,\n",
       "        1.00000e+00, 2.00000e+00, 1.00000e+00, 2.00000e+00, 3.00000e+00,\n",
       "        3.00000e+00, 0.00000e+00, 2.00000e+00, 1.00000e+00, 1.00000e+00,\n",
       "        0.00000e+00, 0.00000e+00, 0.00000e+00, 0.00000e+00, 0.00000e+00,\n",
       "        0.00000e+00, 0.00000e+00, 0.00000e+00, 0.00000e+00, 0.00000e+00]),\n",
       " array([0.  , 0.05, 0.1 , 0.15, 0.2 , 0.25, 0.3 , 0.35, 0.4 , 0.45, 0.5 ,\n",
       "        0.55, 0.6 , 0.65, 0.7 , 0.75, 0.8 , 0.85, 0.9 , 0.95, 1.  , 1.05,\n",
       "        1.1 , 1.15, 1.2 , 1.25, 1.3 , 1.35, 1.4 , 1.45, 1.5 , 1.55, 1.6 ,\n",
       "        1.65, 1.7 , 1.75, 1.8 , 1.85, 1.9 , 1.95, 2.  , 2.05, 2.1 , 2.15,\n",
       "        2.2 , 2.25, 2.3 , 2.35, 2.4 , 2.45, 2.5 , 2.55, 2.6 , 2.65, 2.7 ,\n",
       "        2.75, 2.8 , 2.85, 2.9 , 2.95, 3.  , 3.05, 3.1 , 3.15, 3.2 , 3.25,\n",
       "        3.3 , 3.35, 3.4 , 3.45, 3.5 , 3.55, 3.6 , 3.65, 3.7 , 3.75, 3.8 ,\n",
       "        3.85, 3.9 , 3.95, 4.  , 4.05, 4.1 , 4.15, 4.2 , 4.25, 4.3 , 4.35,\n",
       "        4.4 , 4.45, 4.5 , 4.55, 4.6 , 4.65, 4.7 , 4.75, 4.8 , 4.85, 4.9 ,\n",
       "        4.95, 5.  ], dtype=float32),\n",
       " <BarContainer object of 100 artists>)"
      ]
     },
     "execution_count": 119,
     "metadata": {},
     "output_type": "execute_result"
    },
    {
     "data": {
      "image/png": "[encoded data removed]",
      "text/plain": [
       "<Figure size 432x288 with 1 Axes>"
      ]
     },
     "metadata": {
      "needs_background": "light"
     },
     "output_type": "display_data"
    }
   ],
   "source": [
    "plt.hist(first_vtx_stuff[interesting_variable],bins=100,range=(0,5))"
   ]
  },
  {
   "cell_type": "code",
   "execution_count": 120,
   "metadata": {
    "scrolled": true
   },
   "outputs": [
    {
     "data": {
      "text/plain": [
       "(array([246., 146., 108.,  80.,  63.,  56.,  32.,  35.,  30.,  25.,  20.,\n",
       "         20.,  13.,  12.,  12.,  17.,   8.,   7.,  10.,   7.,   6.,  10.,\n",
       "          3.,   5.,   4.,   4.,   5.,   5.,   4.,   3.,   1.,   6.,   2.,\n",
       "          1.,   3.,   4.,   4.,   2.,   2.,   0.,   0.,   0.,   0.,   0.,\n",
       "          0.,   3.,   2.,   1.,   2.,   2.,   3.,   1.,   1.,   0.,   1.,\n",
       "          1.,   2.,   1.,   0.,   1.,   0.,   0.,   0.,   1.,   0.,   0.,\n",
       "          1.,   0.,   0.,   0.,   0.,   0.,   0.,   0.,   0.,   0.,   1.,\n",
       "          1.,   0.,   0.,   0.,   0.,   0.,   0.,   0.,   0.,   0.,   0.,\n",
       "          0.,   0.,   0.,   0.,   0.,   0.,   0.,   0.,   0.,   0.,   0.,\n",
       "          0.]),\n",
       " array([ 1.00001  ,  1.0900099,  1.1800098,  1.2700098,  1.3600096,\n",
       "         1.4500095,  1.5400094,  1.6300093,  1.7200092,  1.8100091,\n",
       "         1.900009 ,  1.990009 ,  2.0800087,  2.1700087,  2.2600086,\n",
       "         2.3500085,  2.4400084,  2.5300083,  2.6200082,  2.7100081,\n",
       "         2.800008 ,  2.890008 ,  2.980008 ,  3.0700078,  3.1600077,\n",
       "         3.2500074,  3.3400073,  3.4300072,  3.5200071,  3.610007 ,\n",
       "         3.700007 ,  3.7900069,  3.8800068,  3.9700067,  4.0600066,\n",
       "         4.1500063,  4.2400064,  4.330006 ,  4.4200063,  4.510006 ,\n",
       "         4.600006 ,  4.690006 ,  4.780006 ,  4.8700056,  4.9600058,\n",
       "         5.0500054,  5.1400056,  5.2300053,  5.3200054,  5.410005 ,\n",
       "         5.500005 ,  5.590005 ,  5.6800046,  5.7700047,  5.8600044,\n",
       "         5.9500046,  6.0400043,  6.1300044,  6.220004 ,  6.310004 ,\n",
       "         6.400004 ,  6.490004 ,  6.5800037,  6.670004 ,  6.7600036,\n",
       "         6.8500037,  6.9400034,  7.030003 ,  7.120003 ,  7.210003 ,\n",
       "         7.300003 ,  7.3900027,  7.480003 ,  7.5700026,  7.6600027,\n",
       "         7.7500024,  7.8400025,  7.930002 ,  8.020002 ,  8.1100025,\n",
       "         8.200002 ,  8.290002 ,  8.380002 ,  8.470002 ,  8.560001 ,\n",
       "         8.650002 ,  8.740002 ,  8.830001 ,  8.920001 ,  9.010001 ,\n",
       "         9.100001 ,  9.190001 ,  9.280001 ,  9.370001 ,  9.460001 ,\n",
       "         9.55     ,  9.64     ,  9.7300005,  9.820001 ,  9.91     ,\n",
       "        10.       ], dtype=float32),\n",
       " <BarContainer object of 100 artists>)"
      ]
     },
     "execution_count": 120,
     "metadata": {},
     "output_type": "execute_result"
    },
    {
     "data": {
      "image/png": "[encoded data removed]",
      "text/plain": [
       "<Figure size 432x288 with 1 Axes>"
      ]
     },
     "metadata": {
      "needs_background": "light"
     },
     "output_type": "display_data"
    }
   ],
   "source": [
    "plt.hist(first_vtx_stuff[interesting_variable],bins=100,range=(1.00001,10))"
   ]
  },
  {
   "cell_type": "code",
   "execution_count": 121,
   "metadata": {
    "scrolled": true
   },
   "outputs": [
    {
     "data": {
      "text/plain": [
       "(array([29., 14.,  6.,  6.,  2.,  5.,  2.,  3.,  3.,  2.,  2.,  4.,  0.,\n",
       "         0.,  1.,  2.,  0.,  1.,  0.,  0.,  1.,  0.,  1.,  0.,  0.,  0.,\n",
       "         0.,  0.,  1.,  0.,  0.,  0.,  0.,  0.,  0.,  0.,  0.,  0.,  0.,\n",
       "         0.,  0.,  0.,  0.,  0.,  0.,  0.,  1.,  0.,  0.,  0.,  0.,  0.,\n",
       "         0.,  0.,  0.,  0.,  0.,  0.,  0.,  0.,  0.,  0.,  0.,  0.,  0.,\n",
       "         0.,  0.,  0.,  0.,  0.,  0.,  0.,  0.,  0.,  0.,  0.,  0.,  0.,\n",
       "         0.,  0.,  0.,  0.,  0.,  0.,  0.,  0.,  0.,  0.,  0.,  0.,  0.,\n",
       "         0.,  0.,  0.,  0.,  0.,  0.,  0.,  0.,  0.]),\n",
       " array([ 1.00001  ,  1.0900099,  1.1800098,  1.2700098,  1.3600096,\n",
       "         1.4500095,  1.5400094,  1.6300093,  1.7200092,  1.8100091,\n",
       "         1.900009 ,  1.990009 ,  2.0800087,  2.1700087,  2.2600086,\n",
       "         2.3500085,  2.4400084,  2.5300083,  2.6200082,  2.7100081,\n",
       "         2.800008 ,  2.890008 ,  2.980008 ,  3.0700078,  3.1600077,\n",
       "         3.2500074,  3.3400073,  3.4300072,  3.5200071,  3.610007 ,\n",
       "         3.700007 ,  3.7900069,  3.8800068,  3.9700067,  4.0600066,\n",
       "         4.1500063,  4.2400064,  4.330006 ,  4.4200063,  4.510006 ,\n",
       "         4.600006 ,  4.690006 ,  4.780006 ,  4.8700056,  4.9600058,\n",
       "         5.0500054,  5.1400056,  5.2300053,  5.3200054,  5.410005 ,\n",
       "         5.500005 ,  5.590005 ,  5.6800046,  5.7700047,  5.8600044,\n",
       "         5.9500046,  6.0400043,  6.1300044,  6.220004 ,  6.310004 ,\n",
       "         6.400004 ,  6.490004 ,  6.5800037,  6.670004 ,  6.7600036,\n",
       "         6.8500037,  6.9400034,  7.030003 ,  7.120003 ,  7.210003 ,\n",
       "         7.300003 ,  7.3900027,  7.480003 ,  7.5700026,  7.6600027,\n",
       "         7.7500024,  7.8400025,  7.930002 ,  8.020002 ,  8.1100025,\n",
       "         8.200002 ,  8.290002 ,  8.380002 ,  8.470002 ,  8.560001 ,\n",
       "         8.650002 ,  8.740002 ,  8.830001 ,  8.920001 ,  9.010001 ,\n",
       "         9.100001 ,  9.190001 ,  9.280001 ,  9.370001 ,  9.460001 ,\n",
       "         9.55     ,  9.64     ,  9.7300005,  9.820001 ,  9.91     ,\n",
       "        10.       ], dtype=float32),\n",
       " <BarContainer object of 100 artists>)"
      ]
     },
     "execution_count": 121,
     "metadata": {},
     "output_type": "execute_result"
    },
    {
     "data": {
      "image/png": "[encoded data removed]",
      "text/plain": [
       "<Figure size 432x288 with 1 Axes>"
      ]
     },
     "metadata": {
      "needs_background": "light"
     },
     "output_type": "display_data"
    }
   ],
   "source": [
    "plt.hist(first_vtx_stuff[interesting_variable][hflav == 4],bins=100,range=(1.00001,10))"
   ]
  },
  {
   "cell_type": "code",
   "execution_count": 122,
   "metadata": {
    "scrolled": true
   },
   "outputs": [
    {
     "data": {
      "text/plain": [
       "(array([841., 122.,  42.,  16.,  16.,   6.,   2.,   1.,   0.,   0.,   2.,\n",
       "          1.,   0.,   1.,   0.,   0.,   0.,   0.,   0.,   1.,   1.,   0.,\n",
       "          0.,   0.,   0.,   0.,   0.,   0.,   0.,   0.,   0.,   0.,   0.,\n",
       "          0.,   0.,   0.,   0.,   0.,   0.,   0.,   0.,   0.,   0.,   0.,\n",
       "          0.,   0.,   0.,   0.,   0.,   0.,   0.,   0.,   0.,   0.,   0.,\n",
       "          0.,   0.,   0.,   0.,   0.,   0.,   0.,   0.,   0.,   0.,   0.,\n",
       "          0.,   0.,   0.,   0.,   0.,   0.,   0.,   0.,   0.,   0.,   0.,\n",
       "          0.,   0.,   0.,   0.,   0.,   0.,   0.,   0.,   0.,   0.,   0.,\n",
       "          0.,   0.,   0.,   0.,   0.,   0.,   0.,   0.,   0.,   0.,   0.,\n",
       "          0.]),\n",
       " array([  1.00001  ,   1.9900099,   2.9800098,   3.9700098,   4.9600096,\n",
       "          5.9500093,   6.9400096,   7.9300094,   8.92001  ,   9.910009 ,\n",
       "         10.900009 ,  11.890009 ,  12.880009 ,  13.870008 ,  14.860008 ,\n",
       "         15.850009 ,  16.840008 ,  17.830008 ,  18.820007 ,  19.810009 ,\n",
       "         20.800009 ,  21.790009 ,  22.780008 ,  23.770008 ,  24.760008 ,\n",
       "         25.750008 ,  26.740007 ,  27.730007 ,  28.720007 ,  29.710007 ,\n",
       "         30.700006 ,  31.690006 ,  32.680008 ,  33.670006 ,  34.660007 ,\n",
       "         35.650005 ,  36.640007 ,  37.630005 ,  38.620007 ,  39.610004 ,\n",
       "         40.600006 ,  41.590008 ,  42.580006 ,  43.570007 ,  44.560005 ,\n",
       "         45.550007 ,  46.540005 ,  47.530006 ,  48.520004 ,  49.510006 ,\n",
       "         50.500004 ,  51.490005 ,  52.480003 ,  53.470005 ,  54.460003 ,\n",
       "         55.450005 ,  56.440006 ,  57.430004 ,  58.420006 ,  59.410004 ,\n",
       "         60.400005 ,  61.390003 ,  62.380005 ,  63.370003 ,  64.36     ,\n",
       "         65.350006 ,  66.340004 ,  67.33     ,  68.32     ,  69.310005 ,\n",
       "         70.3      ,  71.29     ,  72.28001  ,  73.270004 ,  74.26     ,\n",
       "         75.25     ,  76.240005 ,  77.23     ,  78.22     ,  79.21     ,\n",
       "         80.200005 ,  81.19     ,  82.18     ,  83.17     ,  84.16     ,\n",
       "         85.15     ,  86.14     ,  87.130005 ,  88.12     ,  89.11     ,\n",
       "         90.1      ,  91.090004 ,  92.08     ,  93.07     ,  94.06     ,\n",
       "         95.05     ,  96.04     ,  97.03     ,  98.02     ,  99.01     ,\n",
       "        100.       ], dtype=float32),\n",
       " <BarContainer object of 100 artists>)"
      ]
     },
     "execution_count": 122,
     "metadata": {},
     "output_type": "execute_result"
    },
    {
     "data": {
      "image/png": "[encoded data removed]",
      "text/plain": [
       "<Figure size 432x288 with 1 Axes>"
      ]
     },
     "metadata": {
      "needs_background": "light"
     },
     "output_type": "display_data"
    }
   ],
   "source": [
    "plt.hist(first_vtx_stuff[interesting_variable],bins=100,range=(1.00001,100))"
   ]
  },
  {
   "cell_type": "code",
   "execution_count": 123,
   "metadata": {
    "scrolled": true
   },
   "outputs": [
    {
     "data": {
      "text/plain": [
       "(array([ 8474., 11127.,  9930.,  8651.,  7912.,  7323.,  6677.,  6539.,\n",
       "         6076.,  5754.,  5624.,  5383.,  5090.,  4902.,  4653.,  4607.,\n",
       "         4348.,  4070.,  4131.,  3734.,  3634.,  3432.,  3520.,  3424.,\n",
       "         3145.,  3086.,  3048.,  2815.,  2717.,  2565.,  2563.,  2436.,\n",
       "         2401.,  2349.,  2133.,  2081.,  2073.,  1870.,  1803.,  1834.,\n",
       "         1751.,  1661.,  1556.,  1496.,  1443.,  1424.,  1345.,  1316.,\n",
       "         1238.,  1190.,  1083.,  1114.,  1038.,   986.,   886.,   858.,\n",
       "          856.,   852.,   832.,   725.,   668.,   648.,   644.,   600.,\n",
       "          583.,   526.,   502.,   483.,   469.,   477.,   401.,   440.,\n",
       "          367.,   311.,   315.,   314.,   309.,   290.,   240.,   251.,\n",
       "          224.,   201.,   184.,   183.,   157.,   170.,   129.,   125.,\n",
       "          133.,   113.,   127.,   107.,    84.,    69.,    82.,    69.,\n",
       "           70.,    65.,    47.,    37.]),\n",
       " array([1.0000000e-06, 1.0000989e-02, 2.0000977e-02, 3.0000968e-02,\n",
       "        4.0000957e-02, 5.0000943e-02, 6.0000934e-02, 7.0000924e-02,\n",
       "        8.0000915e-02, 9.0000898e-02, 1.0000089e-01, 1.1000088e-01,\n",
       "        1.2000087e-01, 1.3000086e-01, 1.4000085e-01, 1.5000084e-01,\n",
       "        1.6000083e-01, 1.7000081e-01, 1.8000080e-01, 1.9000079e-01,\n",
       "        2.0000078e-01, 2.1000077e-01, 2.2000076e-01, 2.3000075e-01,\n",
       "        2.4000074e-01, 2.5000072e-01, 2.6000071e-01, 2.7000070e-01,\n",
       "        2.8000069e-01, 2.9000068e-01, 3.0000067e-01, 3.1000066e-01,\n",
       "        3.2000065e-01, 3.3000064e-01, 3.4000063e-01, 3.5000062e-01,\n",
       "        3.6000061e-01, 3.7000060e-01, 3.8000059e-01, 3.9000058e-01,\n",
       "        4.0000057e-01, 4.1000056e-01, 4.2000052e-01, 4.3000051e-01,\n",
       "        4.4000050e-01, 4.5000049e-01, 4.6000049e-01, 4.7000048e-01,\n",
       "        4.8000047e-01, 4.9000046e-01, 5.0000048e-01, 5.1000047e-01,\n",
       "        5.2000046e-01, 5.3000039e-01, 5.4000038e-01, 5.5000037e-01,\n",
       "        5.6000036e-01, 5.7000035e-01, 5.8000034e-01, 5.9000033e-01,\n",
       "        6.0000032e-01, 6.1000031e-01, 6.2000030e-01, 6.3000029e-01,\n",
       "        6.4000028e-01, 6.5000027e-01, 6.6000026e-01, 6.7000026e-01,\n",
       "        6.8000025e-01, 6.9000024e-01, 7.0000023e-01, 7.1000022e-01,\n",
       "        7.2000021e-01, 7.3000020e-01, 7.4000019e-01, 7.5000018e-01,\n",
       "        7.6000017e-01, 7.7000016e-01, 7.8000015e-01, 7.9000014e-01,\n",
       "        8.0000013e-01, 8.1000012e-01, 8.2000011e-01, 8.3000010e-01,\n",
       "        8.4000009e-01, 8.5000008e-01, 8.6000007e-01, 8.7000006e-01,\n",
       "        8.8000005e-01, 8.9000005e-01, 9.0000004e-01, 9.1000003e-01,\n",
       "        9.2000002e-01, 9.2999995e-01, 9.3999994e-01, 9.4999993e-01,\n",
       "        9.5999992e-01, 9.6999991e-01, 9.7999990e-01, 9.8999989e-01,\n",
       "        9.9999988e-01], dtype=float32),\n",
       " <BarContainer object of 100 artists>)"
      ]
     },
     "execution_count": 123,
     "metadata": {},
     "output_type": "execute_result"
    },
    {
     "data": {
      "image/png": "[encoded data removed]",
      "text/plain": [
       "<Figure size 432x288 with 1 Axes>"
      ]
     },
     "metadata": {
      "needs_background": "light"
     },
     "output_type": "display_data"
    }
   ],
   "source": [
    "plt.hist(first_vtx_stuff[interesting_variable],bins=100,range=(0.000001,0.9999999))"
   ]
  },
  {
   "cell_type": "code",
   "execution_count": 124,
   "metadata": {
    "scrolled": true
   },
   "outputs": [
    {
     "data": {
      "text/plain": [
       "(array([   3.,  124.,  479.,  829., 1048., 1105., 1224., 1180., 1232.,\n",
       "        1250., 1151., 1160., 1150., 1174., 1140., 1125., 1068., 1067.,\n",
       "        1058., 1034., 1101., 1050., 1014., 1024., 1020.,  997.,  985.,\n",
       "         908.,  931.,  900.,  868.,  900.,  916.,  879.,  855.,  854.,\n",
       "         864.,  837.,  836.,  842.,  829.,  809.,  819.,  793.,  817.,\n",
       "         736.,  767.,  774.,  787.,  781.,  812.,  716.,  733.,  722.,\n",
       "         754.,  736.,  733.,  672.,  743.,  702.,  721.,  639.,  681.,\n",
       "         677.,  640.,  643.,  670.,  690.,  677.,  639.,  678.,  649.,\n",
       "         642.,  692.,  647.,  690.,  630.,  596.,  665.,  650.,  568.,\n",
       "         575.,  593.,  601.,  662.,  613.,  631.,  617.,  607.,  608.,\n",
       "         627.,  576.,  616.,  576.,  535.,  577.,  597.,  549.,  557.,\n",
       "         545.]),\n",
       " array([1.000000e-06, 1.000990e-03, 2.000980e-03, 3.000970e-03,\n",
       "        4.000960e-03, 5.000950e-03, 6.000940e-03, 7.000930e-03,\n",
       "        8.000920e-03, 9.000910e-03, 1.000090e-02, 1.100089e-02,\n",
       "        1.200088e-02, 1.300087e-02, 1.400086e-02, 1.500085e-02,\n",
       "        1.600084e-02, 1.700083e-02, 1.800082e-02, 1.900081e-02,\n",
       "        2.000080e-02, 2.100079e-02, 2.200078e-02, 2.300077e-02,\n",
       "        2.400076e-02, 2.500075e-02, 2.600074e-02, 2.700073e-02,\n",
       "        2.800072e-02, 2.900071e-02, 3.000070e-02, 3.100069e-02,\n",
       "        3.200068e-02, 3.300067e-02, 3.400066e-02, 3.500065e-02,\n",
       "        3.600064e-02, 3.700063e-02, 3.800062e-02, 3.900061e-02,\n",
       "        4.000060e-02, 4.100059e-02, 4.200058e-02, 4.300057e-02,\n",
       "        4.400056e-02, 4.500055e-02, 4.600054e-02, 4.700053e-02,\n",
       "        4.800052e-02, 4.900051e-02, 5.000050e-02, 5.100049e-02,\n",
       "        5.200048e-02, 5.300047e-02, 5.400046e-02, 5.500045e-02,\n",
       "        5.600044e-02, 5.700043e-02, 5.800042e-02, 5.900041e-02,\n",
       "        6.000040e-02, 6.100039e-02, 6.200038e-02, 6.300037e-02,\n",
       "        6.400036e-02, 6.500035e-02, 6.600034e-02, 6.700033e-02,\n",
       "        6.800032e-02, 6.900031e-02, 7.000030e-02, 7.100029e-02,\n",
       "        7.200028e-02, 7.300027e-02, 7.400026e-02, 7.500025e-02,\n",
       "        7.600024e-02, 7.700023e-02, 7.800022e-02, 7.900021e-02,\n",
       "        8.000020e-02, 8.100019e-02, 8.200018e-02, 8.300017e-02,\n",
       "        8.400016e-02, 8.500015e-02, 8.600014e-02, 8.700013e-02,\n",
       "        8.800012e-02, 8.900011e-02, 9.000010e-02, 9.100009e-02,\n",
       "        9.200008e-02, 9.300007e-02, 9.400006e-02, 9.500005e-02,\n",
       "        9.600004e-02, 9.700003e-02, 9.800002e-02, 9.900001e-02,\n",
       "        1.000000e-01], dtype=float32),\n",
       " <BarContainer object of 100 artists>)"
      ]
     },
     "execution_count": 124,
     "metadata": {},
     "output_type": "execute_result"
    },
    {
     "data": {
      "image/png": "[encoded data removed]",
      "text/plain": [
       "<Figure size 432x288 with 1 Axes>"
      ]
     },
     "metadata": {
      "needs_background": "light"
     },
     "output_type": "display_data"
    }
   ],
   "source": [
    "plt.hist(first_vtx_stuff[interesting_variable],bins=100,range=(0.000001,0.1))"
   ]
  },
  {
   "cell_type": "code",
   "execution_count": 125,
   "metadata": {
    "scrolled": true
   },
   "outputs": [
    {
     "data": {
      "text/plain": [
       "(array([ 0.,  5., 11., 25., 35., 36., 62., 34., 35., 52., 50., 41., 44.,\n",
       "        48., 51., 57., 67., 49., 55., 63., 61., 70., 62., 59., 59., 53.,\n",
       "        59., 52., 62., 61., 59., 63., 64., 56., 53., 64., 65., 66., 53.,\n",
       "        69., 53., 72., 54., 84., 61., 59., 62., 80., 84., 74., 76., 57.,\n",
       "        58., 61., 74., 55., 74., 55., 78., 68., 59., 63., 69., 68., 57.,\n",
       "        53., 52., 71., 64., 58., 74., 55., 65., 72., 78., 71., 66., 55.,\n",
       "        60., 74., 63., 66., 70., 55., 76., 63., 87., 74., 70., 62., 72.,\n",
       "        66., 73., 64., 61., 82., 82., 66., 72., 75.]),\n",
       " array([1.000000e-06, 1.000990e-03, 2.000980e-03, 3.000970e-03,\n",
       "        4.000960e-03, 5.000950e-03, 6.000940e-03, 7.000930e-03,\n",
       "        8.000920e-03, 9.000910e-03, 1.000090e-02, 1.100089e-02,\n",
       "        1.200088e-02, 1.300087e-02, 1.400086e-02, 1.500085e-02,\n",
       "        1.600084e-02, 1.700083e-02, 1.800082e-02, 1.900081e-02,\n",
       "        2.000080e-02, 2.100079e-02, 2.200078e-02, 2.300077e-02,\n",
       "        2.400076e-02, 2.500075e-02, 2.600074e-02, 2.700073e-02,\n",
       "        2.800072e-02, 2.900071e-02, 3.000070e-02, 3.100069e-02,\n",
       "        3.200068e-02, 3.300067e-02, 3.400066e-02, 3.500065e-02,\n",
       "        3.600064e-02, 3.700063e-02, 3.800062e-02, 3.900061e-02,\n",
       "        4.000060e-02, 4.100059e-02, 4.200058e-02, 4.300057e-02,\n",
       "        4.400056e-02, 4.500055e-02, 4.600054e-02, 4.700053e-02,\n",
       "        4.800052e-02, 4.900051e-02, 5.000050e-02, 5.100049e-02,\n",
       "        5.200048e-02, 5.300047e-02, 5.400046e-02, 5.500045e-02,\n",
       "        5.600044e-02, 5.700043e-02, 5.800042e-02, 5.900041e-02,\n",
       "        6.000040e-02, 6.100039e-02, 6.200038e-02, 6.300037e-02,\n",
       "        6.400036e-02, 6.500035e-02, 6.600034e-02, 6.700033e-02,\n",
       "        6.800032e-02, 6.900031e-02, 7.000030e-02, 7.100029e-02,\n",
       "        7.200028e-02, 7.300027e-02, 7.400026e-02, 7.500025e-02,\n",
       "        7.600024e-02, 7.700023e-02, 7.800022e-02, 7.900021e-02,\n",
       "        8.000020e-02, 8.100019e-02, 8.200018e-02, 8.300017e-02,\n",
       "        8.400016e-02, 8.500015e-02, 8.600014e-02, 8.700013e-02,\n",
       "        8.800012e-02, 8.900011e-02, 9.000010e-02, 9.100009e-02,\n",
       "        9.200008e-02, 9.300007e-02, 9.400006e-02, 9.500005e-02,\n",
       "        9.600004e-02, 9.700003e-02, 9.800002e-02, 9.900001e-02,\n",
       "        1.000000e-01], dtype=float32),\n",
       " <BarContainer object of 100 artists>)"
      ]
     },
     "execution_count": 125,
     "metadata": {},
     "output_type": "execute_result"
    },
    {
     "data": {
      "image/png": "[encoded data removed]",
      "text/plain": [
       "<Figure size 432x288 with 1 Axes>"
      ]
     },
     "metadata": {
      "needs_background": "light"
     },
     "output_type": "display_data"
    }
   ],
   "source": [
    "plt.hist(first_vtx_stuff[interesting_variable][hflav == 5],bins=100,range=(0.000001,0.1))"
   ]
  },
  {
   "cell_type": "code",
   "execution_count": 126,
   "metadata": {},
   "outputs": [],
   "source": [
    "hFlav = ak.to_numpy(ak.flatten(hflav, axis=0))"
   ]
  },
  {
   "cell_type": "code",
   "execution_count": 127,
   "metadata": {},
   "outputs": [
    {
     "data": {
      "text/plain": [
       "array([5, 4, 0, ..., 0, 0, 0], dtype=int32)"
      ]
     },
     "execution_count": 127,
     "metadata": {},
     "output_type": "execute_result"
    }
   ],
   "source": [
    "hFlav"
   ]
  },
  {
   "cell_type": "code",
   "execution_count": 128,
   "metadata": {
    "scrolled": true
   },
   "outputs": [
    {
     "data": {
      "text/plain": [
       "(array([ 8474., 11127.,  9930.,  8651.,  7912.,  7323.,  6677.,  6539.,\n",
       "         6076.,  5754.,  5624.,  5383.,  5090.,  4902.,  4653.,  4607.,\n",
       "         4348.,  4070.,  4131.,  3734.,  3634.,  3432.,  3520.,  3424.,\n",
       "         3145.,  3086.,  3048.,  2815.,  2717.,  2565.,  2563.,  2436.,\n",
       "         2401.,  2349.,  2133.,  2081.,  2073.,  1870.,  1803.,  1834.,\n",
       "         1751.,  1661.,  1556.,  1496.,  1443.,  1424.,  1345.,  1316.,\n",
       "         1238.,  1190.,  1083.,  1114.,  1038.,   986.,   886.,   858.,\n",
       "          856.,   852.,   832.,   725.,   668.,   648.,   644.,   600.,\n",
       "          583.,   526.,   502.,   483.,   469.,   477.,   401.,   440.,\n",
       "          367.,   311.,   315.,   314.,   309.,   290.,   240.,   251.,\n",
       "          224.,   201.,   184.,   183.,   157.,   170.,   129.,   125.,\n",
       "          133.,   113.,   127.,   107.,    84.,    69.,    82.,    69.,\n",
       "           70.,    65.,    47.,    37.]),\n",
       " array([1.0000000e-06, 1.0000989e-02, 2.0000977e-02, 3.0000968e-02,\n",
       "        4.0000957e-02, 5.0000943e-02, 6.0000934e-02, 7.0000924e-02,\n",
       "        8.0000915e-02, 9.0000898e-02, 1.0000089e-01, 1.1000088e-01,\n",
       "        1.2000087e-01, 1.3000086e-01, 1.4000085e-01, 1.5000084e-01,\n",
       "        1.6000083e-01, 1.7000081e-01, 1.8000080e-01, 1.9000079e-01,\n",
       "        2.0000078e-01, 2.1000077e-01, 2.2000076e-01, 2.3000075e-01,\n",
       "        2.4000074e-01, 2.5000072e-01, 2.6000071e-01, 2.7000070e-01,\n",
       "        2.8000069e-01, 2.9000068e-01, 3.0000067e-01, 3.1000066e-01,\n",
       "        3.2000065e-01, 3.3000064e-01, 3.4000063e-01, 3.5000062e-01,\n",
       "        3.6000061e-01, 3.7000060e-01, 3.8000059e-01, 3.9000058e-01,\n",
       "        4.0000057e-01, 4.1000056e-01, 4.2000052e-01, 4.3000051e-01,\n",
       "        4.4000050e-01, 4.5000049e-01, 4.6000049e-01, 4.7000048e-01,\n",
       "        4.8000047e-01, 4.9000046e-01, 5.0000048e-01, 5.1000047e-01,\n",
       "        5.2000046e-01, 5.3000039e-01, 5.4000038e-01, 5.5000037e-01,\n",
       "        5.6000036e-01, 5.7000035e-01, 5.8000034e-01, 5.9000033e-01,\n",
       "        6.0000032e-01, 6.1000031e-01, 6.2000030e-01, 6.3000029e-01,\n",
       "        6.4000028e-01, 6.5000027e-01, 6.6000026e-01, 6.7000026e-01,\n",
       "        6.8000025e-01, 6.9000024e-01, 7.0000023e-01, 7.1000022e-01,\n",
       "        7.2000021e-01, 7.3000020e-01, 7.4000019e-01, 7.5000018e-01,\n",
       "        7.6000017e-01, 7.7000016e-01, 7.8000015e-01, 7.9000014e-01,\n",
       "        8.0000013e-01, 8.1000012e-01, 8.2000011e-01, 8.3000010e-01,\n",
       "        8.4000009e-01, 8.5000008e-01, 8.6000007e-01, 8.7000006e-01,\n",
       "        8.8000005e-01, 8.9000005e-01, 9.0000004e-01, 9.1000003e-01,\n",
       "        9.2000002e-01, 9.2999995e-01, 9.3999994e-01, 9.4999993e-01,\n",
       "        9.5999992e-01, 9.6999991e-01, 9.7999990e-01, 9.8999989e-01,\n",
       "        9.9999988e-01], dtype=float32),\n",
       " <BarContainer object of 100 artists>)"
      ]
     },
     "execution_count": 128,
     "metadata": {},
     "output_type": "execute_result"
    },
    {
     "data": {
      "image/png": "[encoded data removed]",
      "text/plain": [
       "<Figure size 432x288 with 1 Axes>"
      ]
     },
     "metadata": {
      "needs_background": "light"
     },
     "output_type": "display_data"
    }
   ],
   "source": [
    "plt.hist(first_vtx_stuff[interesting_variable],bins=100,range=(0.000001,0.9999999))"
   ]
  },
  {
   "cell_type": "code",
   "execution_count": 129,
   "metadata": {
    "scrolled": true
   },
   "outputs": [
    {
     "data": {
      "text/plain": [
       "(array([0., 0., 0., 0., 0., 0., 0., 0., 0., 0., 0., 0., 0., 0., 0., 0., 0.,\n",
       "        0., 0., 0., 0., 0., 0., 0., 0., 0., 0., 0., 0., 0., 0., 0., 0., 0.,\n",
       "        0., 0., 0., 0., 0., 0., 0., 0., 0., 0., 0., 0., 0., 0., 0., 0., 0.,\n",
       "        0., 0., 0., 0., 0., 0., 0., 0., 0., 0., 0., 0., 0., 0., 0., 0., 0.,\n",
       "        0., 0., 0., 0., 0., 0., 0., 0., 0., 0., 0., 0., 0., 0., 0., 0., 0.,\n",
       "        0., 0., 0., 0., 0., 0., 0., 0., 0., 0., 0., 0., 0., 0., 0.]),\n",
       " array([-5.0000000e+00, -4.9500003e+00, -4.9000001e+00, -4.8500004e+00,\n",
       "        -4.8000002e+00, -4.7500005e+00, -4.7000008e+00, -4.6500006e+00,\n",
       "        -4.6000009e+00, -4.5500007e+00, -4.5000010e+00, -4.4500012e+00,\n",
       "        -4.4000010e+00, -4.3500013e+00, -4.3000016e+00, -4.2500014e+00,\n",
       "        -4.2000017e+00, -4.1500015e+00, -4.1000018e+00, -4.0500021e+00,\n",
       "        -4.0000019e+00, -3.9500022e+00, -3.9000022e+00, -3.8500023e+00,\n",
       "        -3.8000023e+00, -3.7500024e+00, -3.7000027e+00, -3.6500027e+00,\n",
       "        -3.6000028e+00, -3.5500028e+00, -3.5000031e+00, -3.4500031e+00,\n",
       "        -3.4000032e+00, -3.3500032e+00, -3.3000033e+00, -3.2500036e+00,\n",
       "        -3.2000036e+00, -3.1500037e+00, -3.1000037e+00, -3.0500040e+00,\n",
       "        -3.0000041e+00, -2.9500041e+00, -2.9000041e+00, -2.8500042e+00,\n",
       "        -2.8000045e+00, -2.7500045e+00, -2.7000046e+00, -2.6500046e+00,\n",
       "        -2.6000049e+00, -2.5500050e+00, -2.5000050e+00, -2.4500051e+00,\n",
       "        -2.4000051e+00, -2.3500054e+00, -2.3000054e+00, -2.2500055e+00,\n",
       "        -2.2000055e+00, -2.1500058e+00, -2.1000059e+00, -2.0500059e+00,\n",
       "        -2.0000060e+00, -1.9500061e+00, -1.9000062e+00, -1.8500063e+00,\n",
       "        -1.8000064e+00, -1.7500066e+00, -1.7000066e+00, -1.6500067e+00,\n",
       "        -1.6000068e+00, -1.5500069e+00, -1.5000070e+00, -1.4500071e+00,\n",
       "        -1.4000072e+00, -1.3500073e+00, -1.3000073e+00, -1.2500075e+00,\n",
       "        -1.2000076e+00, -1.1500077e+00, -1.1000078e+00, -1.0500079e+00,\n",
       "        -1.0000080e+00, -9.5000809e-01, -9.0000820e-01, -8.5000831e-01,\n",
       "        -8.0000842e-01, -7.5000852e-01, -7.0000857e-01, -6.5000868e-01,\n",
       "        -6.0000879e-01, -5.5000889e-01, -5.0000900e-01, -4.5000911e-01,\n",
       "        -4.0000921e-01, -3.5000929e-01, -3.0000940e-01, -2.5000951e-01,\n",
       "        -2.0000960e-01, -1.5000971e-01, -1.0000980e-01, -5.0009899e-02,\n",
       "        -9.9999997e-06], dtype=float32),\n",
       " <BarContainer object of 100 artists>)"
      ]
     },
     "execution_count": 129,
     "metadata": {},
     "output_type": "execute_result"
    },
    {
     "data": {
      "image/png": "[encoded data removed]",
      "text/plain": [
       "<Figure size 432x288 with 1 Axes>"
      ]
     },
     "metadata": {
      "needs_background": "light"
     },
     "output_type": "display_data"
    }
   ],
   "source": [
    "plt.hist(first_vtx_stuff[interesting_variable],bins=100,range=(-5,-0.00001))"
   ]
  },
  {
   "cell_type": "code",
   "execution_count": 130,
   "metadata": {},
   "outputs": [
    {
     "data": {
      "text/plain": [
       "12953.0"
      ]
     },
     "execution_count": 130,
     "metadata": {},
     "output_type": "execute_result"
    }
   ],
   "source": [
    "np.sum(np.array([  2.,   3.,   0.,   1.,   1.,   0.,  16.,  81., 116., 156., 201.,\n",
    "        231., 238., 269., 268., 271., 301., 341., 347., 394., 381., 375.,\n",
    "        420., 427., 427., 485., 491., 492., 422., 435., 401., 366., 342.,\n",
    "        342., 290., 279., 262., 233., 200., 197., 184., 170., 163., 129.,\n",
    "        132., 113., 105.,  84., 102.,  95.,  80.,  79., 100.,  83.,  61.,\n",
    "         74.,  69.,  72.,  52.,  63.,  50.,  52.,  45.,  46.,  34.,  34.,\n",
    "         25.,  18.,  22.,  22.,  17.,  14.,  16.,  10.,   9.,   7.,   1.,\n",
    "          3.,   5.,   2.,   1.,   2.,   0.,   0.,   2.,   2.,   0.,   0.,\n",
    "          0.,   0.,   0.,   0.,   0.,   0.,   0.,   0.,   0.,   0.,   0.,\n",
    "          0.]))"
   ]
  },
  {
   "cell_type": "code",
   "execution_count": 131,
   "metadata": {},
   "outputs": [
    {
     "data": {
      "text/plain": [
       "12956"
      ]
     },
     "execution_count": 131,
     "metadata": {},
     "output_type": "execute_result"
    }
   ],
   "source": [
    "12956"
   ]
  },
  {
   "cell_type": "code",
   "execution_count": 132,
   "metadata": {
    "scrolled": true
   },
   "outputs": [
    {
     "data": {
      "text/plain": [
       "(array([3.15461e+05, 5.26510e+04, 2.19100e+04, 7.45700e+03, 1.64500e+03,\n",
       "        3.25000e+02, 1.67000e+02, 8.90000e+01, 6.50000e+01, 4.30000e+01,\n",
       "        3.00000e+01, 2.80000e+01, 2.30000e+01, 1.40000e+01, 1.20000e+01,\n",
       "        8.00000e+00, 1.20000e+01, 8.00000e+00, 5.00000e+00, 8.00000e+00,\n",
       "        7.00000e+00, 1.00000e+00, 0.00000e+00, 2.00000e+00, 4.00000e+00,\n",
       "        5.00000e+00, 3.00000e+00, 2.00000e+00, 3.00000e+00, 1.00000e+00,\n",
       "        1.00000e+00, 1.00000e+00, 1.00000e+00, 0.00000e+00, 0.00000e+00,\n",
       "        0.00000e+00, 0.00000e+00, 2.00000e+00, 0.00000e+00, 0.00000e+00,\n",
       "        0.00000e+00, 0.00000e+00, 0.00000e+00, 0.00000e+00, 0.00000e+00,\n",
       "        0.00000e+00, 0.00000e+00, 0.00000e+00, 0.00000e+00, 0.00000e+00,\n",
       "        0.00000e+00, 0.00000e+00, 2.00000e+00, 0.00000e+00, 0.00000e+00,\n",
       "        0.00000e+00, 0.00000e+00, 0.00000e+00, 0.00000e+00, 1.00000e+00,\n",
       "        0.00000e+00, 0.00000e+00, 0.00000e+00, 0.00000e+00, 0.00000e+00,\n",
       "        0.00000e+00, 0.00000e+00, 0.00000e+00, 0.00000e+00, 0.00000e+00,\n",
       "        1.00000e+00, 0.00000e+00, 0.00000e+00, 0.00000e+00, 0.00000e+00,\n",
       "        0.00000e+00, 0.00000e+00, 0.00000e+00, 0.00000e+00, 0.00000e+00,\n",
       "        0.00000e+00, 0.00000e+00, 0.00000e+00, 0.00000e+00, 0.00000e+00,\n",
       "        0.00000e+00, 0.00000e+00, 0.00000e+00, 0.00000e+00, 0.00000e+00,\n",
       "        0.00000e+00, 0.00000e+00, 0.00000e+00, 0.00000e+00, 0.00000e+00,\n",
       "        0.00000e+00, 1.00000e+00, 0.00000e+00, 0.00000e+00, 1.00000e+00]),\n",
       " array([-7.11251232e-07,  2.11942717e-01,  4.23886150e-01,  6.35829568e-01,\n",
       "         8.47772956e-01,  1.05971646e+00,  1.27165985e+00,  1.48360324e+00,\n",
       "         1.69554663e+00,  1.90749013e+00,  2.11943364e+00,  2.33137703e+00,\n",
       "         2.54332042e+00,  2.75526381e+00,  2.96720719e+00,  3.17915058e+00,\n",
       "         3.39109397e+00,  3.60303760e+00,  3.81498098e+00,  4.02692413e+00,\n",
       "         4.23886776e+00,  4.45081139e+00,  4.66275454e+00,  4.87469816e+00,\n",
       "         5.08664131e+00,  5.29858494e+00,  5.51052809e+00,  5.72247171e+00,\n",
       "         5.93441534e+00,  6.14635849e+00,  6.35830212e+00,  6.57024527e+00,\n",
       "         6.78218889e+00,  6.99413204e+00,  7.20607567e+00,  7.41801929e+00,\n",
       "         7.62996244e+00,  7.84190607e+00,  8.05384922e+00,  8.26579285e+00,\n",
       "         8.47773647e+00,  8.68968010e+00,  8.90162277e+00,  9.11356640e+00,\n",
       "         9.32551003e+00,  9.53745365e+00,  9.74939632e+00,  9.96133995e+00,\n",
       "         1.01732836e+01,  1.03852272e+01,  1.05971708e+01,  1.08091135e+01,\n",
       "         1.10210571e+01,  1.12330008e+01,  1.14449444e+01,  1.16568880e+01,\n",
       "         1.18688307e+01,  1.20807743e+01,  1.22927179e+01,  1.25046616e+01,\n",
       "         1.27166052e+01,  1.29285479e+01,  1.31404915e+01,  1.33524351e+01,\n",
       "         1.35643787e+01,  1.37763214e+01,  1.39882650e+01,  1.42002087e+01,\n",
       "         1.44121523e+01,  1.46240959e+01,  1.48360386e+01,  1.50479822e+01,\n",
       "         1.52599258e+01,  1.54718695e+01,  1.56838131e+01,  1.58957558e+01,\n",
       "         1.61077003e+01,  1.63196430e+01,  1.65315857e+01,  1.67435303e+01,\n",
       "         1.69554729e+01,  1.71674175e+01,  1.73793602e+01,  1.75913029e+01,\n",
       "         1.78032475e+01,  1.80151901e+01,  1.82271328e+01,  1.84390774e+01,\n",
       "         1.86510201e+01,  1.88629646e+01,  1.90749073e+01,  1.92868500e+01,\n",
       "         1.94987946e+01,  1.97107372e+01,  1.99226818e+01,  2.01346245e+01,\n",
       "         2.03465672e+01,  2.05585117e+01,  2.07704544e+01,  2.09823990e+01,\n",
       "         2.11943417e+01], dtype=float32),\n",
       " <BarContainer object of 100 artists>)"
      ]
     },
     "execution_count": 132,
     "metadata": {},
     "output_type": "execute_result"
    },
    {
     "data": {
      "image/png": "[encoded data removed]",
      "text/plain": [
       "<Figure size 432x288 with 1 Axes>"
      ]
     },
     "metadata": {
      "needs_background": "light"
     },
     "output_type": "display_data"
    }
   ],
   "source": [
    "plt.hist(first_vtx_stuff[interesting_variable],bins=100)"
   ]
  },
  {
   "cell_type": "code",
   "execution_count": 133,
   "metadata": {},
   "outputs": [
    {
     "data": {
      "text/plain": [
       "400000 * {\"sv_pt\": 5 * ?float32, \"sv_deltaR\": 5 * ?float32, \"sv_mass\": 5 * ?float32, \"sv_etarel\": 5 * ?float32, \"sv_phirel\": 5 * ?float32, \"sv_ntracks\": 5 * ?float32, \"sv_chi2\": 5 * ?float32, \"sv_normchi2\": 5 * ?float32, \"sv_dxy\": 5 * ?float32, \"sv_dxysig\": 5 * ?float32, \"sv_d3d\": 5 * ?float32, \"sv_d3dsig\": 5 * ?float32, \"sv_costhetasvpv\": 5 * ?float32, \"sv_enratio\": 5 * ?float32}"
      ]
     },
     "execution_count": 133,
     "metadata": {},
     "output_type": "execute_result"
    }
   ],
   "source": [
    "df_vtx_clip.type"
   ]
  },
  {
   "cell_type": "code",
   "execution_count": 134,
   "metadata": {},
   "outputs": [
    {
     "data": {
      "text/plain": [
       "400000 * {\"sv_pt\": 5 * ?float32, \"sv_eta\": 5 * ?float32, \"sv_phi\": 5 * ?float32, \"sv_e\": 5 * ?float32}"
      ]
     },
     "execution_count": 134,
     "metadata": {},
     "output_type": "execute_result"
    }
   ],
   "source": [
    "df_vtx_pts_clip.type"
   ]
  },
  {
   "cell_type": "code",
   "execution_count": 135,
   "metadata": {},
   "outputs": [],
   "source": [
    "def quantile_min_max(feature,group='glob',candidate=None):\n",
    "    if group=='glob':\n",
    "        print(feature,group,candidate)\n",
    "        array_np = ak.to_numpy(df_glob[feature])\n",
    "        array_np = np.where(array_np == -999, 0, array_np)\n",
    "        array_np = np.where(array_np ==   -1, 0, array_np)\n",
    "        mini, maxi = np.quantile(array_np,0.01),np.quantile(array_np,0.99)\n",
    "        mini_, maxi_ = np.quantile(array_np,0.2),np.quantile(array_np,0.8)\n",
    "        return [mini, maxi], np.std(array_np[(array_np >= mini_) & (array_np <= maxi_)])\n",
    "    elif group=='cpf':\n",
    "        print(feature,group,candidate)\n",
    "        array_np = ak.to_numpy(df_cpf_clip[feature][:,candidate])\n",
    "        array_np = np.where(array_np == -999, 0, array_np)\n",
    "        array_np = np.where(array_np ==   -1, 0, array_np)\n",
    "        mini, maxi = np.quantile(array_np,0.01),np.quantile(array_np,0.99)\n",
    "        mini_, maxi_ = np.quantile(array_np,0.2),np.quantile(array_np,0.8)\n",
    "        return [mini, maxi], np.std(array_np[(array_np >= mini_) & (array_np <= maxi_)])\n",
    "    elif group=='npf':\n",
    "        print(feature,group,candidate)\n",
    "        array_np = ak.to_numpy(df_npf_clip[feature][:,candidate])\n",
    "        array_np = np.where(array_np == -999, 0, array_np)\n",
    "        array_np = np.where(array_np ==   -1, 0, array_np)\n",
    "        mini, maxi = np.quantile(array_np,0.01),np.quantile(array_np,0.99)\n",
    "        mini_, maxi_ = np.quantile(array_np,0.2),np.quantile(array_np,0.8)\n",
    "        return [mini, maxi], np.std(array_np[(array_np >= mini_) & (array_np <= maxi_)])\n",
    "    elif group=='vtx':\n",
    "        print(feature,group,candidate)\n",
    "        array_np = ak.to_numpy(df_vtx_clip[feature][:,candidate])\n",
    "        array_np = np.where(array_np == -999, 0, array_np)\n",
    "        array_np = np.where(array_np ==   -1, 0, array_np)\n",
    "        mini, maxi = np.quantile(array_np,0.01),np.quantile(array_np,0.99)\n",
    "        mini_, maxi_ = np.quantile(array_np,0.2),np.quantile(array_np,0.8)\n",
    "        return [mini, maxi], np.std(array_np[(array_np >= mini_) & (array_np <= maxi_)])\n",
    "    elif group=='cpf_pts':\n",
    "        print(feature,group,candidate)\n",
    "        array_np = ak.to_numpy(df_cpf_pts_clip[feature][:,candidate])\n",
    "        array_np = np.where(array_np == -999, 0, array_np)\n",
    "        array_np = np.where(array_np ==   -1, 0, array_np)\n",
    "        mini, maxi = np.quantile(array_np,0.01),np.quantile(array_np,0.99)\n",
    "        mini_, maxi_ = np.quantile(array_np,0.2),np.quantile(array_np,0.8)\n",
    "        return [mini, maxi], np.std(array_np[(array_np >= mini_) & (array_np <= maxi_)])\n",
    "    elif group=='npf_pts':\n",
    "        print(feature,group,candidate)\n",
    "        array_np = ak.to_numpy(df_npf_pts_clip[feature][:,candidate])\n",
    "        array_np = np.where(array_np == -999, 0, array_np)\n",
    "        array_np = np.where(array_np ==   -1, 0, array_np)\n",
    "        mini, maxi = np.quantile(array_np,0.01),np.quantile(array_np,0.99)\n",
    "        mini_, maxi_ = np.quantile(array_np,0.2),np.quantile(array_np,0.8)\n",
    "        return [mini, maxi], np.std(array_np[(array_np >= mini_) & (array_np <= maxi_)])\n",
    "    elif group=='vtx_pts':\n",
    "        print(feature,group,candidate)\n",
    "        array_np = ak.to_numpy(df_vtx_pts_clip[feature][:,candidate])\n",
    "        array_np = np.where(array_np == -999, 0, array_np)\n",
    "        array_np = np.where(array_np ==   -1, 0, array_np)\n",
    "        mini, maxi = np.quantile(array_np,0.01),np.quantile(array_np,0.99)\n",
    "        mini_, maxi_ = np.quantile(array_np,0.2),np.quantile(array_np,0.8)\n",
    "        return [mini, maxi], np.std(array_np[(array_np >= mini_) & (array_np <= maxi_)])"
   ]
  },
  {
   "cell_type": "code",
   "execution_count": 141,
   "metadata": {},
   "outputs": [
    {
     "name": "stdout",
     "output_type": "stream",
     "text": [
      "jet_pt glob None\n",
      "([16.459981155395507, 1414.295871582032], 111.07198)\n"
     ]
    }
   ],
   "source": [
    "print(quantile_min_max('jet_pt','glob'))"
   ]
  },
  {
   "cell_type": "code",
   "execution_count": 142,
   "metadata": {},
   "outputs": [
    {
     "name": "stdout",
     "output_type": "stream",
     "text": [
      "Cpfcan_BtagPf_trackEtaRel cpf 1\n",
      "([8.856159911553676e-40, 6.363592338562011], 0.49901962)\n"
     ]
    }
   ],
   "source": [
    "print(quantile_min_max('Cpfcan_BtagPf_trackEtaRel','cpf',1))"
   ]
  },
  {
   "cell_type": "code",
   "execution_count": 143,
   "metadata": {},
   "outputs": [],
   "source": [
    "global_epsilons = np.zeros(len(global_branches))"
   ]
  },
  {
   "cell_type": "code",
   "execution_count": 144,
   "metadata": {},
   "outputs": [],
   "source": [
    "global_standardized_epsilons = np.zeros(len(global_branches))"
   ]
  },
  {
   "cell_type": "code",
   "execution_count": 145,
   "metadata": {},
   "outputs": [],
   "source": [
    "global_ranges = np.zeros((len(global_branches),2))"
   ]
  },
  {
   "cell_type": "code",
   "execution_count": 146,
   "metadata": {},
   "outputs": [
    {
     "name": "stdout",
     "output_type": "stream",
     "text": [
      "jet_pt glob None\n",
      "[16.459981155395507, 1414.295871582032] 698.9179452133183 111.07198\n",
      "jet_eta glob None\n",
      "[-2.352190861701965, 2.3510114169120793] 2.3516011393070224 0.6144125\n",
      "nCpfcand glob None\n",
      "[1.0, 37.0] 18.0 3.2007327\n",
      "nNpfcand glob None\n",
      "[0.0, 21.0] 10.5 2.1740932\n",
      "nsv glob None\n",
      "[0.0, 4.0] 2.0 0.4945744\n",
      "npv glob None\n",
      "[12.0, 50.0] 19.0 4.4131637\n",
      "TagVarCSV_trackSumJetEtRatio glob None\n",
      "[0.02825362008064986, 1.0615710473060616] 0.5166587136127059 0.10230581\n",
      "TagVarCSV_trackSumJetDeltaR glob None\n",
      "[0.0007345966692082584, 0.164808406084776] 0.08203690470778388 0.010657664\n",
      "TagVarCSV_vertexCategory glob None\n",
      "[0.0, 2.0] 1.0 0.9510462\n",
      "TagVarCSV_trackSip2dValAboveCharm glob None\n",
      "[-0.011660193540155886, 0.03650391310453415] 0.024082053322345018 0.0009755603\n",
      "TagVarCSV_trackSip2dSigAboveCharm glob None\n",
      "[-2.6668770503997803, 13.920680084228517] 8.293778567314149 0.4077643\n",
      "TagVarCSV_trackSip3dValAboveCharm glob None\n",
      "[-0.02534973133355379, 0.06414226293563856] 0.04474599713459618 0.0018973991\n",
      "TagVarCSV_trackSip3dSigAboveCharm glob None\n",
      "[-5.587487487792968, 22.565506362915144] 14.076496925354057 0.65546876\n",
      "TagVarCSV_jetNSelectedTracks glob None\n",
      "[0.0, 18.0] 9.0 1.596011\n",
      "TagVarCSV_jetNTracksEtaRel glob None\n",
      "[0.0, 10.0] 5.0 1.0911189\n"
     ]
    }
   ],
   "source": [
    "for (i,key) in enumerate(global_branches):\n",
    "    range_inputs, standardized_epsilon = quantile_min_max(key,'glob')\n",
    "    scale_epsilon = (range_inputs[1] - range_inputs[0])/2\n",
    "    global_epsilons[i] = scale_epsilon\n",
    "    global_standardized_epsilons[i] = standardized_epsilon\n",
    "    global_ranges[i] = range_inputs\n",
    "    print(range_inputs, scale_epsilon, standardized_epsilon)"
   ]
  },
  {
   "cell_type": "code",
   "execution_count": 147,
   "metadata": {},
   "outputs": [
    {
     "data": {
      "text/plain": [
       "array([[ 1.64599812e+01,  1.41429587e+03],\n",
       "       [-2.35219086e+00,  2.35101142e+00],\n",
       "       [ 1.00000000e+00,  3.70000000e+01],\n",
       "       [ 0.00000000e+00,  2.10000000e+01],\n",
       "       [ 0.00000000e+00,  4.00000000e+00],\n",
       "       [ 1.20000000e+01,  5.00000000e+01],\n",
       "       [ 2.82536201e-02,  1.06157105e+00],\n",
       "       [ 7.34596669e-04,  1.64808406e-01],\n",
       "       [ 0.00000000e+00,  2.00000000e+00],\n",
       "       [-1.16601935e-02,  3.65039131e-02],\n",
       "       [-2.66687705e+00,  1.39206801e+01],\n",
       "       [-2.53497313e-02,  6.41422629e-02],\n",
       "       [-5.58748749e+00,  2.25655064e+01],\n",
       "       [ 0.00000000e+00,  1.80000000e+01],\n",
       "       [ 0.00000000e+00,  1.00000000e+01]])"
      ]
     },
     "execution_count": 147,
     "metadata": {},
     "output_type": "execute_result"
    }
   ],
   "source": [
    "global_ranges"
   ]
  },
  {
   "cell_type": "code",
   "execution_count": 148,
   "metadata": {},
   "outputs": [],
   "source": [
    "cpf_epsilons = np.zeros((len(cpf_branches),25))"
   ]
  },
  {
   "cell_type": "code",
   "execution_count": 149,
   "metadata": {},
   "outputs": [],
   "source": [
    "cpf_standardized_epsilons = np.zeros((len(cpf_branches),25))"
   ]
  },
  {
   "cell_type": "code",
   "execution_count": 150,
   "metadata": {},
   "outputs": [],
   "source": [
    "cpf_ranges = np.zeros((len(cpf_branches),25, 2))"
   ]
  },
  {
   "cell_type": "code",
   "execution_count": 151,
   "metadata": {
    "scrolled": true
   },
   "outputs": [
    {
     "name": "stdout",
     "output_type": "stream",
     "text": [
      "Cpfcan_BtagPf_trackEtaRel cpf 0\n",
      "[1.6651761496067046, 6.3433350515365605] 2.339079450964928 0.46418646\n",
      "Cpfcan_BtagPf_trackEtaRel cpf 1\n",
      "[8.856159911553676e-40, 6.363592338562011] 3.1817961692810055 0.49901962\n",
      "Cpfcan_BtagPf_trackEtaRel cpf 2\n",
      "[0.0, 6.41470353603363] 3.207351768016815 0.5224831\n",
      "Cpfcan_BtagPf_trackEtaRel cpf 3\n",
      "[0.05973452862352134, 6.453858494758608] 3.197061983067543 0.50915945\n",
      "Cpfcan_BtagPf_trackEtaRel cpf 4\n",
      "[0.01903676759451628, 6.44481631278992] 3.2128897725977015 0.51088244\n",
      "Cpfcan_BtagPf_trackEtaRel cpf 5\n",
      "[0.008341286079958083, 6.435746254920961] 3.2137024844205015 0.5117444\n",
      "Cpfcan_BtagPf_trackEtaRel cpf 6\n",
      "[0.0, 6.389243311882019] 3.1946216559410097 1.2947544\n",
      "Cpfcan_BtagPf_trackEtaRel cpf 7\n",
      "[0.0, 6.318741564750676] 3.159370782375338 1.4413009\n",
      "Cpfcan_BtagPf_trackEtaRel cpf 8\n",
      "[0.0, 6.275682821273805] 3.1378414106369026 1.4315436\n",
      "Cpfcan_BtagPf_trackEtaRel cpf 9\n",
      "[0.0, 6.179782528877258] 3.089891264438629 1.3186167\n",
      "Cpfcan_BtagPf_trackEtaRel cpf 10\n",
      "[0.0, 6.099581742286684] 3.049790871143342 1.1794086\n",
      "Cpfcan_BtagPf_trackEtaRel cpf 11\n",
      "[0.0, 5.985745735168458] 2.992872867584229 1.0206218\n",
      "Cpfcan_BtagPf_trackEtaRel cpf 12\n",
      "[0.0, 5.877293949127198] 2.938646974563599 0.8477499\n",
      "Cpfcan_BtagPf_trackEtaRel cpf 13\n",
      "[0.0, 6.138128786087037] 3.0690643930435186 1.35029\n",
      "Cpfcan_BtagPf_trackEtaRel cpf 14\n",
      "[0.0, 6.238935651779176] 3.119467825889588 1.5005387\n",
      "Cpfcan_BtagPf_trackEtaRel cpf 15\n",
      "[0.0, 6.275281705856324] 3.137640852928162 1.56185\n",
      "Cpfcan_BtagPf_trackEtaRel cpf 16\n",
      "[0.0, 6.297602105140687] 3.1488010525703434 1.5881342\n",
      "Cpfcan_BtagPf_trackEtaRel cpf 17\n",
      "[0.0, 6.313242177963259] 3.1566210889816295 1.5116285\n",
      "Cpfcan_BtagPf_trackEtaRel cpf 18\n",
      "[0.0, 5.147504048347473] 2.5737520241737366 1.38793\n",
      "Cpfcan_BtagPf_trackEtaRel cpf 19\n",
      "[0.0009270484751323239, 5.019758925437933] 2.5094159384814003 0.93336844\n",
      "Cpfcan_BtagPf_trackEtaRel cpf 20\n",
      "[0.0009540138620650396, 4.894955143928529] 2.447000565033232 0.7353627\n",
      "Cpfcan_BtagPf_trackEtaRel cpf 21\n",
      "[0.0010770642245188356, 4.7686307716369685] 2.383776853706225 0.47596768\n",
      "Cpfcan_BtagPf_trackEtaRel cpf 22\n",
      "[0.0005096152442274614, 4.639255557060242] 2.3193729709080073 0.35392392\n",
      "Cpfcan_BtagPf_trackEtaRel cpf 23\n",
      "[0.0002090559489442967, 4.502373304367071] 2.2510821242090633 0.2866307\n",
      "Cpfcan_BtagPf_trackEtaRel cpf 24\n",
      "[9.542180479911622e-05, 4.343901085853579] 2.17190283202439 0.2030062\n",
      "Cpfcan_BtagPf_trackPtRel cpf 0\n",
      "[0.045712541379034514, 2.7176373171806354] 1.3359623879008005 0.125434\n",
      "Cpfcan_BtagPf_trackPtRel cpf 1\n",
      "[9.097372562840075e-40, 3.1648924136161827] 1.5824462068080913 0.13355438\n",
      "Cpfcan_BtagPf_trackPtRel cpf 2\n",
      "[0.0, 3.4378671765327478] 1.7189335882663739 0.14039473\n",
      "Cpfcan_BtagPf_trackPtRel cpf 3\n",
      "[0.0038980443705804646, 3.6377260470390356] 1.8169140013342275 0.13869098\n",
      "Cpfcan_BtagPf_trackPtRel cpf 4\n",
      "[0.0013801327650435269, 3.68442342281342] 1.8415216450241882 0.13774706\n",
      "Cpfcan_BtagPf_trackPtRel cpf 5\n",
      "[0.0005317218182608486, 3.7996436381340106] 1.899555958157875 0.13661382\n",
      "Cpfcan_BtagPf_trackPtRel cpf 6\n",
      "[0.0, 3.7770859718322787] 1.8885429859161393 0.19388272\n",
      "Cpfcan_BtagPf_trackPtRel cpf 7\n",
      "[0.0, 3.7906767034530695] 1.8953383517265348 0.19424784\n",
      "Cpfcan_BtagPf_trackPtRel cpf 8\n",
      "[0.0, 3.707227089405068] 1.853613544702534 0.17630245\n",
      "Cpfcan_BtagPf_trackPtRel cpf 9\n",
      "[0.0, 3.6530540299415697] 1.8265270149707848 0.15511873\n",
      "Cpfcan_BtagPf_trackPtRel cpf 10\n",
      "[0.0, 3.656553094387056] 1.828276547193528 0.13260281\n",
      "Cpfcan_BtagPf_trackPtRel cpf 11\n",
      "[0.0, 3.549856142997745] 1.7749280714988724 0.108494334\n",
      "Cpfcan_BtagPf_trackPtRel cpf 12\n",
      "[0.0, 3.375688505172731] 1.6878442525863655 0.08335637\n",
      "Cpfcan_BtagPf_trackPtRel cpf 13\n",
      "[0.0, 4.0] 2.0 0.18213025\n",
      "Cpfcan_BtagPf_trackPtRel cpf 14\n",
      "[0.0, 4.0] 2.0 0.22884022\n",
      "Cpfcan_BtagPf_trackPtRel cpf 15\n",
      "[0.0, 4.0] 2.0 0.25774682\n",
      "Cpfcan_BtagPf_trackPtRel cpf 16\n",
      "[0.0, 4.0] 2.0 0.27720276\n",
      "Cpfcan_BtagPf_trackPtRel cpf 17\n",
      "[0.0, 4.0] 2.0 0.29637176\n",
      "Cpfcan_BtagPf_trackPtRel cpf 18\n",
      "[0.0, 2.7721445965766938] 1.3860722982883469 0.13270098\n",
      "Cpfcan_BtagPf_trackPtRel cpf 19\n",
      "[4.9817306280601766e-05, 2.641466963291169] 1.3207085729924442 0.048199464\n",
      "Cpfcan_BtagPf_trackPtRel cpf 20\n",
      "[8.742599948163842e-06, 2.486027812957765] 1.2430095351789086 0.02230756\n",
      "Cpfcan_BtagPf_trackPtRel cpf 21\n",
      "[5.246342297482443e-08, 2.349331066608434] 1.1746655070725056 0.005825857\n",
      "Cpfcan_BtagPf_trackPtRel cpf 22\n",
      "[4.2113286184530814e-07, 2.183992261886597] 1.0919959203768674 0.0018795256\n",
      "Cpfcan_BtagPf_trackPtRel cpf 23\n",
      "[4.678501959176629e-08, 2.0397158384323157] 1.0198578958236482 0.00082861836\n",
      "Cpfcan_BtagPf_trackPtRel cpf 24\n",
      "[3.256090046477311e-08, 1.8932347667217293] 0.9466173670804144 0.00011770968\n",
      "Cpfcan_BtagPf_trackPPar cpf 0\n",
      "[1.0163902616500853, 157.45170989990254] 78.21765981912623 2.7585988\n",
      "Cpfcan_BtagPf_trackPPar cpf 1\n",
      "[8.856159911553676e-40, 186.83550613403338] 93.41775306701669 3.670767\n",
      "Cpfcan_BtagPf_trackPPar cpf 2\n",
      "[0.0, 209.83024276733403] 104.91512138366701 4.0772495\n",
      "Cpfcan_BtagPf_trackPPar cpf 3\n",
      "[1.0100036597251891, 215.39365966796944] 107.19182800412213 4.332108\n",
      "Cpfcan_BtagPf_trackPPar cpf 4\n",
      "[0.9617389863729477, 215.13214279174812] 107.08520190268759 4.4902673\n",
      "Cpfcan_BtagPf_trackPPar cpf 5\n",
      "[0.6962564104795456, 218.14971298217907] 108.72672828584976 4.589501\n",
      "Cpfcan_BtagPf_trackPPar cpf 6\n",
      "[0.0, 207.12794555664064] 103.56397277832032 3.9612567\n",
      "Cpfcan_BtagPf_trackPPar cpf 7\n",
      "[0.0, 195.30139068603518] 97.65069534301759 3.596354\n",
      "Cpfcan_BtagPf_trackPPar cpf 8\n",
      "[0.0, 188.89047561645572] 94.44523780822786 2.9846241\n",
      "Cpfcan_BtagPf_trackPPar cpf 9\n",
      "[0.0, 175.51721694946372] 87.75860847473186 2.4554029\n",
      "Cpfcan_BtagPf_trackPPar cpf 10\n",
      "[0.0, 162.09410598754906] 81.04705299377453 1.9648116\n",
      "Cpfcan_BtagPf_trackPPar cpf 11\n",
      "[0.0, 147.06442794799815] 73.53221397399908 1.5029168\n",
      "Cpfcan_BtagPf_trackPPar cpf 12\n",
      "[0.0, 132.0518737792969] 66.02593688964845 1.0888677\n",
      "Cpfcan_BtagPf_trackPPar cpf 13\n",
      "[0.0, 181.50791122436533] 90.75395561218266 3.0508626\n",
      "Cpfcan_BtagPf_trackPPar cpf 14\n",
      "[0.0, 205.1966223144532] 102.5983111572266 4.2586274\n",
      "Cpfcan_BtagPf_trackPPar cpf 15\n",
      "[0.0, 217.39299591064494] 108.69649795532247 5.046834\n",
      "Cpfcan_BtagPf_trackPPar cpf 16\n",
      "[0.0, 226.5130244445807] 113.25651222229035 5.5524235\n",
      "Cpfcan_BtagPf_trackPPar cpf 17\n",
      "[0.0, 230.85877822875986] 115.42938911437993 6.200368\n",
      "Cpfcan_BtagPf_trackPPar cpf 18\n",
      "[0.0, 156.66309402465822] 78.33154701232911 11.545545\n",
      "Cpfcan_BtagPf_trackPPar cpf 19\n",
      "[9.219562986332269e-41, 167.65408142089868] 83.82704071044934 11.311512\n",
      "Cpfcan_BtagPf_trackPPar cpf 20\n",
      "[0.6202957451343537, 267.24637207031253] 133.3130381625891 27.322754\n",
      "Cpfcan_BtagPf_trackPPar cpf 21\n",
      "[1.8495808589458465, 5351.853320312527] 2675.0018697267906 29.30344\n",
      "Cpfcan_BtagPf_trackPPar cpf 22\n",
      "[2.033842549324036, 5244.094594726564] 2621.03037608862 28.848848\n",
      "Cpfcan_BtagPf_trackPPar cpf 23\n",
      "[2.2539666271209717, 5244.094594726564] 2620.920314049721 28.673378\n",
      "Cpfcan_BtagPf_trackPPar cpf 24\n",
      "[2.389142198562622, 5244.094594726564] 2620.8527262640005 29.513634\n",
      "Cpfcan_BtagPf_trackDeltaR cpf 0\n",
      "[0.004419334246776999, 0.39093805879354476] 0.1932593622733839 0.06305401\n",
      "Cpfcan_BtagPf_trackDeltaR cpf 1\n",
      "[9.097372562840075e-40, 0.38536966681480406] 0.19268483340740203 0.057809148\n",
      "Cpfcan_BtagPf_trackDeltaR cpf 2\n",
      "[0.0, 0.38217722356319445] 0.19108861178159722 0.05549118\n",
      "Cpfcan_BtagPf_trackDeltaR cpf 3\n",
      "[0.0006945193646242843, 0.38087907671928406] 0.1900922786773299 0.05299903\n",
      "Cpfcan_BtagPf_trackDeltaR cpf 4\n",
      "[0.00022716626815963537, 0.37999579578638076] 0.18988431475911055 0.051746987\n",
      "Cpfcan_BtagPf_trackDeltaR cpf 5\n",
      "[8.94637756573502e-05, 0.3797547027468681] 0.1898326194856054 0.049885266\n",
      "Cpfcan_BtagPf_trackDeltaR cpf 6\n",
      "[0.0, 0.37854472219943996] 0.18927236109971998 0.05309881\n",
      "Cpfcan_BtagPf_trackDeltaR cpf 7\n",
      "[0.0, 0.37741747349500654] 0.18870873674750327 0.047877565\n",
      "Cpfcan_BtagPf_trackDeltaR cpf 8\n",
      "[0.0, 0.37549678325653085] 0.18774839162826543 0.037979085\n",
      "Cpfcan_BtagPf_trackDeltaR cpf 9\n",
      "[0.0, 0.37370643705129625] 0.18685321852564812 0.030465916\n",
      "Cpfcan_BtagPf_trackDeltaR cpf 10\n",
      "[0.0, 0.3706442508101465] 0.18532212540507326 0.023525832\n",
      "Cpfcan_BtagPf_trackDeltaR cpf 11\n",
      "[0.0, 0.3664626383781434] 0.1832313191890717 0.017459903\n",
      "Cpfcan_BtagPf_trackDeltaR cpf 12\n",
      "[0.0, 0.3635561451315882] 0.1817780725657941 0.012046557\n",
      "Cpfcan_BtagPf_trackDeltaR cpf 13\n",
      "[0.0, 0.3757402125000955] 0.18787010625004774 0.03438174\n",
      "Cpfcan_BtagPf_trackDeltaR cpf 14\n",
      "[0.0, 0.3803821551799774] 0.1901910775899887 0.045317575\n",
      "Cpfcan_BtagPf_trackDeltaR cpf 15\n",
      "[0.0, 0.38270540326833724] 0.19135270163416862 0.051551953\n",
      "Cpfcan_BtagPf_trackDeltaR cpf 16\n",
      "[0.0, 0.3838342240452767] 0.19191711202263834 0.055426877\n",
      "Cpfcan_BtagPf_trackDeltaR cpf 17\n",
      "[0.0, 0.38473688334226613] 0.19236844167113307 0.060452737\n",
      "Cpfcan_BtagPf_trackDeltaR cpf 18\n",
      "[0.0, 0.32843980312347437] 0.16421990156173719 0.022788234\n",
      "Cpfcan_BtagPf_trackDeltaR cpf 19\n",
      "[1.3295020789882984e-06, 0.3205312910676004] 0.16026498078276072 0.0036063779\n",
      "Cpfcan_BtagPf_trackDeltaR cpf 20\n",
      "[2.623932623180281e-08, 0.3110458338260651] 0.15552290379336944 0.0011059322\n",
      "Cpfcan_BtagPf_trackDeltaR cpf 21\n",
      "[6.717737002226443e-09, 0.29620089918375037] 0.1481004462330067 9.048731e-05\n",
      "Cpfcan_BtagPf_trackDeltaR cpf 22\n",
      "[9.42525928415705e-10, 0.2874130654335022] 0.14370653224548813 5.4748103e-05\n",
      "Cpfcan_BtagPf_trackDeltaR cpf 23\n",
      "[3.120856656435579e-10, 0.2763827475905422] 0.13819137363922826 2.3384177e-06\n",
      "Cpfcan_BtagPf_trackDeltaR cpf 24\n",
      "[1.9326592870560005e-13, 0.2651967322826387] 0.1325983661412227 5.063825e-07\n",
      "Cpfcan_BtagPf_trackPParRatio cpf 0\n",
      "[0.9352662247419357, 0.9999966621398926] 0.03236521869897846 0.004626535\n",
      "Cpfcan_BtagPf_trackPParRatio cpf 1\n",
      "[8.856159911553676e-40, 0.9999967813491821] 0.49999839067459106 0.003546841\n",
      "Cpfcan_BtagPf_trackPParRatio cpf 2\n",
      "[0.0, 0.999997079372406] 0.499998539686203 0.0035702528\n",
      "Cpfcan_BtagPf_trackPParRatio cpf 3\n",
      "[3.1127372039918555e-06, 0.9999973773956299] 0.49999713232921295 0.003164381\n",
      "Cpfcan_BtagPf_trackPParRatio cpf 4\n",
      "[8.46612943519176e-07, 0.9999972581863403] 0.4999982057866984 0.003453152\n",
      "Cpfcan_BtagPf_trackPParRatio cpf 5\n",
      "[4.3520964254639694e-07, 0.9999971389770508] 0.4999983518837041 0.0040249866\n",
      "Cpfcan_BtagPf_trackPParRatio cpf 6\n",
      "[0.0, 0.9999967813491821] 0.49999839067459106 0.39091304\n",
      "Cpfcan_BtagPf_trackPParRatio cpf 7\n",
      "[0.0, 0.9999963045120239] 0.49999815225601196 0.46465793\n",
      "Cpfcan_BtagPf_trackPParRatio cpf 8\n",
      "[0.0, 0.9999958276748657] 0.49999791383743286 0.4864161\n",
      "Cpfcan_BtagPf_trackPParRatio cpf 9\n",
      "[0.0, 0.9999949932098389] 0.49999749660491943 0.4640951\n",
      "Cpfcan_BtagPf_trackPParRatio cpf 10\n",
      "[0.0, 0.9999939203262329] 0.49999696016311646 0.43146393\n",
      "Cpfcan_BtagPf_trackPParRatio cpf 11\n",
      "[0.0, 0.9999922519922256] 0.4999961259961128 0.39034063\n",
      "Cpfcan_BtagPf_trackPParRatio cpf 12\n",
      "[0.0, 0.9999905228614807] 0.49999526143074036 0.34172902\n",
      "Cpfcan_BtagPf_trackPParRatio cpf 13\n",
      "[0.0, 0.9999946355819702] 0.4999973177909851 0.45630318\n",
      "Cpfcan_BtagPf_trackPParRatio cpf 14\n",
      "[0.0, 0.999995768070221] 0.4999978840351105 0.48279747\n",
      "Cpfcan_BtagPf_trackPParRatio cpf 15\n",
      "[0.0, 0.9999961256980896] 0.4999980628490448 0.49213317\n",
      "Cpfcan_BtagPf_trackPParRatio cpf 16\n",
      "[0.0, 0.9999963045120239] 0.49999815225601196 0.49508494\n",
      "Cpfcan_BtagPf_trackPParRatio cpf 17\n",
      "[0.0, 0.9999963641166687] 0.49999818205833435 0.4565473\n",
      "Cpfcan_BtagPf_trackPParRatio cpf 18\n",
      "[0.0, 0.9999539852142334] 0.4999769926071167 0.39147735\n",
      "Cpfcan_BtagPf_trackPParRatio cpf 19\n",
      "[2.2276454103575816e-07, 0.9999409914016724] 0.49997038431856566 0.2207183\n",
      "Cpfcan_BtagPf_trackPParRatio cpf 20\n",
      "[0.0010749030229635537, 0.9999236464500427] 0.4994243717135396 0.10443812\n",
      "Cpfcan_BtagPf_trackPParRatio cpf 21\n",
      "[1.5720262510399156e-07, 0.9998984938859939] 0.4999491683416844 0.07365253\n",
      "Cpfcan_BtagPf_trackPParRatio cpf 22\n",
      "[0.00035921841568779204, 0.9998654735088348] 0.49975312754657353 0.027770013\n",
      "Cpfcan_BtagPf_trackPParRatio cpf 23\n",
      "[2.395239846464392e-07, 0.9998219025135041] 0.49991083149475973 0.009554775\n",
      "Cpfcan_BtagPf_trackPParRatio cpf 24\n",
      "[1.029126855200957e-06, 0.9997563374042511] 0.49987765413869795 0.006202986\n",
      "Cpfcan_BtagPf_trackSip2dVal cpf 0\n",
      "[-0.001029662323417142, 12.47465712547303] 6.237843393898223 0.8654496\n",
      "Cpfcan_BtagPf_trackSip2dVal cpf 1\n",
      "[-0.00496096322312951, 8.802185459136965] 4.403573211180047 0.12532842\n",
      "Cpfcan_BtagPf_trackSip2dVal cpf 2\n",
      "[-0.011904327161610126, 6.3162805557251005] 3.1640924414433553 0.008321272\n",
      "Cpfcan_BtagPf_trackSip2dVal cpf 3\n",
      "[-0.03364561941474676, 4.217361140251163] 2.125503379832955 0.0024065282\n",
      "Cpfcan_BtagPf_trackSip2dVal cpf 4\n",
      "[-0.07971672929823397, 2.594236631393433] 1.3369766803458336 0.0013883926\n",
      "Cpfcan_BtagPf_trackSip2dVal cpf 5\n",
      "[-0.13255827739834783, 1.395503863096239] 0.7640310702472934 0.0009634165\n",
      "Cpfcan_BtagPf_trackSip2dVal cpf 6\n",
      "[-0.15531973093748092, 0.6190090185403858] 0.3871643747389334 0.00049640395\n",
      "Cpfcan_BtagPf_trackSip2dVal cpf 7\n",
      "[-0.1586562784016132, 0.19137976542115223] 0.17501802191138272 0.00030166082\n",
      "Cpfcan_BtagPf_trackSip2dVal cpf 8\n",
      "[-0.14362404257059094, 0.059074020646512765] 0.10134903160855185 0.00018811157\n",
      "Cpfcan_BtagPf_trackSip2dVal cpf 9\n",
      "[-0.1409539896249771, 0.02060560595244182] 0.08077979778870946 0.0001319663\n",
      "Cpfcan_BtagPf_trackSip2dVal cpf 10\n",
      "[-0.1214915184676647, 0.009506884431466505] 0.0654992014495656 8.787561e-05\n",
      "Cpfcan_BtagPf_trackSip2dVal cpf 11\n",
      "[-0.10453360199928277, 0.006132845939137073] 0.05533322396920992 4.4550143e-05\n",
      "Cpfcan_BtagPf_trackSip2dVal cpf 12\n",
      "[-0.08984280340373509, 0.004189479341730498] 0.04701614137273279 9.558261e-06\n",
      "Cpfcan_BtagPf_trackSip2dVal cpf 13\n",
      "[-0.07500012770295142, 0.0030786380637437332] 0.03903938288334757 5.201269e-13\n",
      "Cpfcan_BtagPf_trackSip2dVal cpf 14\n",
      "[-0.06427810996770858, 0.004199242875911318] 0.03423867642180995 5.3012694e-13\n",
      "Cpfcan_BtagPf_trackSip2dVal cpf 15\n",
      "[-0.05656508043408394, 0.001787107678828761] 0.02917609405645635 4.695253e-13\n",
      "Cpfcan_BtagPf_trackSip2dVal cpf 16\n",
      "[-0.04835991039872169, 0.002441418445669126] 0.025400664422195407 5.0764227e-13\n",
      "Cpfcan_BtagPf_trackSip2dVal cpf 17\n",
      "[-0.0419921875, 0.0027604549331590603] 0.02237632121657953 5.251212e-13\n",
      "Cpfcan_BtagPf_trackSip2dVal cpf 18\n",
      "[-0.03603515405207872, 0.0029760741256177423] 0.019505614088848232 5.3199817e-13\n",
      "Cpfcan_BtagPf_trackSip2dVal cpf 19\n",
      "[-0.02978515626862645, 0.0030029283510521055] 0.016394042309839277 5.1604565e-13\n",
      "Cpfcan_BtagPf_trackSip2dVal cpf 20\n",
      "[-0.02414062248542905, 0.00020294060814194384] 0.012171781546785498 5.237274e-13\n",
      "Cpfcan_BtagPf_trackSip2dVal cpf 21\n",
      "[-0.024552864264696828, 0.0006323244306258857] 0.012592594347661357 5.314791e-13\n",
      "Cpfcan_BtagPf_trackSip2dVal cpf 22\n",
      "[-0.017964718602597712, 0.0007159415469504892] 0.009340330074774101 5.262242e-13\n",
      "Cpfcan_BtagPf_trackSip2dVal cpf 23\n",
      "[-0.014756271056830883, 0.0006836009846301806] 0.007719936020730532 5.1879334e-13\n",
      "Cpfcan_BtagPf_trackSip2dVal cpf 24\n",
      "[-0.012695410149171946, 0.0006640635576331987] 0.006679736853402573 5.1071484e-13\n",
      "Cpfcan_BtagPf_trackSip2dSig cpf 0\n",
      "[-0.2727980977296829, 232.18663650512698] 116.22971730142834 15.245599\n",
      "Cpfcan_BtagPf_trackSip2dSig cpf 1\n",
      "[-0.6498379826545715, 91.79869667053227] 46.22426732659342 5.8707848\n",
      "Cpfcan_BtagPf_trackSip2dSig cpf 2\n",
      "[-0.8112680435180665, 59.25305591583255] 30.03216197967531 1.589599\n",
      "Cpfcan_BtagPf_trackSip2dSig cpf 3\n",
      "[-0.8776273930072784, 41.74662796020511] 21.312127676606195 0.6721415\n",
      "Cpfcan_BtagPf_trackSip2dSig cpf 4\n",
      "[-0.9035070192813873, 30.359674758911133] 15.63159088909626 0.443169\n",
      "Cpfcan_BtagPf_trackSip2dSig cpf 5\n",
      "[-0.9132122212648391, 21.528768081665103] 11.22099015146497 0.31968418\n",
      "Cpfcan_BtagPf_trackSip2dSig cpf 6\n",
      "[-0.9185521429777146, 15.000426931381256] 7.959489537179485 0.16722877\n",
      "Cpfcan_BtagPf_trackSip2dSig cpf 7\n",
      "[-0.9148543930053711, 9.752082300186176] 5.333468346595773 0.08103158\n",
      "Cpfcan_BtagPf_trackSip2dSig cpf 8\n",
      "[-0.9120207273960114, 5.617243952751165] 3.264632340073588 0.02183395\n",
      "Cpfcan_BtagPf_trackSip2dSig cpf 9\n",
      "[-0.9083792924880981, 3.048325777053845] 1.9783525347709716 0.0\n",
      "Cpfcan_BtagPf_trackSip2dSig cpf 10\n",
      "[-0.9030832713842392, 1.9252239346504236] 1.4141536030173314 0.0\n",
      "Cpfcan_BtagPf_trackSip2dSig cpf 11\n",
      "[-0.896896201968193, 1.4669142901897438] 1.1819052460789683 0.0\n",
      "Cpfcan_BtagPf_trackSip2dSig cpf 12\n",
      "[-0.8916970127820968, 1.1601565015316015] 1.0259267571568491 0.0\n",
      "Cpfcan_BtagPf_trackSip2dSig cpf 13\n",
      "[-0.878734249472618, 0.9588149011135123] 0.9187745752930652 0.0\n",
      "Cpfcan_BtagPf_trackSip2dSig cpf 14\n",
      "[-0.8714367890357971, 0.790028217434884] 0.8307325032353405 0.0\n",
      "Cpfcan_BtagPf_trackSip2dSig cpf 15\n",
      "[-0.8622235798835755, 0.6493750524520875] 0.7557993161678315 0.0\n",
      "Cpfcan_BtagPf_trackSip2dSig cpf 16\n",
      "[-0.8457787019014359, 0.5218568640947356] 0.6838177829980858 0.0\n",
      "Cpfcan_BtagPf_trackSip2dSig cpf 17\n",
      "[-0.8364126932621002, 0.6547143644094477] 0.745563528835774 0.0\n",
      "Cpfcan_BtagPf_trackSip2dSig cpf 18\n",
      "[-0.8186703330278398, 0.7084660565853136] 0.7635681948065767 0.0\n",
      "Cpfcan_BtagPf_trackSip2dSig cpf 19\n",
      "[-0.803666192293167, 0.7303376305103302] 0.7670019114017486 0.0\n",
      "Cpfcan_BtagPf_trackSip2dSig cpf 20\n",
      "[-0.8006671714782715, 0.7380198591947563] 0.7693435153365139 0.0\n",
      "Cpfcan_BtagPf_trackSip2dSig cpf 21\n",
      "[-0.7930187284946442, 0.7381039845943452] 0.7655613565444948 0.0\n",
      "Cpfcan_BtagPf_trackSip2dSig cpf 22\n",
      "[-0.7375530916452407, 0.34485206723213196] 0.5412025794386863 0.0\n",
      "Cpfcan_BtagPf_trackSip2dSig cpf 23\n",
      "[-0.69821364402771, 0.3528004172444346] 0.5255070306360723 0.0\n",
      "Cpfcan_BtagPf_trackSip2dSig cpf 24\n",
      "[-0.6573348027467728, 0.34990679740905767] 0.5036208000779152 0.0\n",
      "Cpfcan_BtagPf_trackSip3dVal cpf 0\n",
      "[-0.2174364194273948, 18.567051982879654] 9.392244201153524 1.201514\n",
      "Cpfcan_BtagPf_trackSip3dVal cpf 1\n",
      "[-0.16711412698030467, 14.027400112152115] 7.09725711956621 0.20961648\n",
      "Cpfcan_BtagPf_trackSip3dVal cpf 2\n",
      "[-0.11946069993078708, 11.280698204040537] 5.700079451985662 0.012378372\n",
      "Cpfcan_BtagPf_trackSip3dVal cpf 3\n",
      "[-0.11307766452431678, 8.977503137588515] 4.545290401056416 0.0040399055\n",
      "Cpfcan_BtagPf_trackSip3dVal cpf 4\n",
      "[-0.11092015825212001, 7.09866410732271] 3.604792132787415 0.0026510593\n",
      "Cpfcan_BtagPf_trackSip3dVal cpf 5\n",
      "[-0.10878581948578357, 5.575996599197392] 2.8423912093415877 0.002036136\n",
      "Cpfcan_BtagPf_trackSip3dVal cpf 6\n",
      "[-0.09667170539498328, 4.311037187576309] 2.203854446485646 0.0012011084\n",
      "Cpfcan_BtagPf_trackSip3dVal cpf 7\n",
      "[-0.0837205559015274, 3.3781397676467915] 1.7309301617741595 0.000790159\n",
      "Cpfcan_BtagPf_trackSip3dVal cpf 8\n",
      "[-0.06415614373981952, 2.665101182460796] 1.364628663100308 0.00046091733\n",
      "Cpfcan_BtagPf_trackSip3dVal cpf 9\n",
      "[-0.05760698635131121, 2.250110054016117] 1.1538585201837142 0.00020862985\n",
      "Cpfcan_BtagPf_trackSip3dVal cpf 10\n",
      "[-0.04622955493628979, 1.5234438478946832] 0.7848367014154866 6.455608e-05\n",
      "Cpfcan_BtagPf_trackSip3dVal cpf 11\n",
      "[-0.03965417709201574, 1.1596779263019688] 0.5996660516969923 0.0\n",
      "Cpfcan_BtagPf_trackSip3dVal cpf 12\n",
      "[-0.035072927102446555, 0.825805777907374] 0.4304393525049103 0.0\n",
      "Cpfcan_BtagPf_trackSip3dVal cpf 13\n",
      "[-0.03033525124192238, 0.386180813014508] 0.2082580321282152 0.0\n",
      "Cpfcan_BtagPf_trackSip3dVal cpf 14\n",
      "[-0.02591555660590529, 0.2187320692837242] 0.12232381294481476 0.0\n",
      "Cpfcan_BtagPf_trackSip3dVal cpf 15\n",
      "[-0.02342162324115634, 0.11234928905964994] 0.06788545615040315 0.0\n",
      "Cpfcan_BtagPf_trackSip3dVal cpf 16\n",
      "[-0.021300340332090856, 0.06288019679486795] 0.0420902685634794 0.0\n",
      "Cpfcan_BtagPf_trackSip3dVal cpf 17\n",
      "[-0.018384582661092278, 0.033862241990864766] 0.02612341232597852 0.0\n",
      "Cpfcan_BtagPf_trackSip3dVal cpf 18\n",
      "[-0.01663477808237076, 0.024708681479096502] 0.02067172978073363 0.0\n",
      "Cpfcan_BtagPf_trackSip3dVal cpf 19\n",
      "[-0.015386636815965174, 0.820792711377163] 0.4180896740965641 0.0\n",
      "Cpfcan_BtagPf_trackSip3dVal cpf 20\n",
      "[-0.013780239801853887, 0.01261387378908695] 0.013197056795470417 0.0\n",
      "Cpfcan_BtagPf_trackSip3dVal cpf 21\n",
      "[-0.013951406013220547, 0.34627336263656616] 0.18011238432489335 0.0\n",
      "Cpfcan_BtagPf_trackSip3dVal cpf 22\n",
      "[-0.01144277637824416, 1.4963227880001106] 0.7538827821891774 0.0\n",
      "Cpfcan_BtagPf_trackSip3dVal cpf 23\n",
      "[-0.010248280046507716, 2.4072755074501044] 1.208761893748306 0.0\n",
      "Cpfcan_BtagPf_trackSip3dVal cpf 24\n",
      "[-0.009367155293002723, 2.9735265207290675] 1.491446838011035 0.0\n",
      "Cpfcan_BtagPf_trackSip3dSig cpf 0\n",
      "[-0.6637246632575988, 470.1235302734376] 235.3936274683476 14.866173\n",
      "Cpfcan_BtagPf_trackSip3dSig cpf 1\n",
      "[-0.8670225328207016, 241.7520248413086] 121.30952368706465 5.7933564\n",
      "Cpfcan_BtagPf_trackSip3dSig cpf 2\n",
      "[-0.9143392354249955, 173.4199882507325] 87.16716374307875 1.8825496\n",
      "Cpfcan_BtagPf_trackSip3dSig cpf 3\n",
      "[-0.9336964803934098, 147.13374359130864] 74.03372003585103 0.95169395\n",
      "Cpfcan_BtagPf_trackSip3dSig cpf 4\n",
      "[-0.9377672040462494, 128.94005157470932] 64.93890938937778 0.6652103\n",
      "Cpfcan_BtagPf_trackSip3dSig cpf 5\n",
      "[-0.9405574363470078, 106.74992675781255] 53.845242097079776 0.52646303\n",
      "Cpfcan_BtagPf_trackSip3dSig cpf 6\n",
      "[-0.9382030856609345, 82.86897476196374] 41.903588923812336 0.3444085\n",
      "Cpfcan_BtagPf_trackSip3dSig cpf 7\n",
      "[-0.9340330541133881, 63.190284004211584] 32.06215852916249 0.23029351\n",
      "Cpfcan_BtagPf_trackSip3dSig cpf 8\n",
      "[-0.9292755538225174, 48.904600372314825] 24.916937963068673 0.13090731\n",
      "Cpfcan_BtagPf_trackSip3dSig cpf 9\n",
      "[-0.9236533123254776, 40.0284524536134] 20.476052882969437 0.040716104\n",
      "Cpfcan_BtagPf_trackSip3dSig cpf 10\n",
      "[-0.9137429440021515, 30.52520765304567] 15.71947529852391 0.0\n",
      "Cpfcan_BtagPf_trackSip3dSig cpf 11\n",
      "[-0.9051303201913834, 22.932966156005868] 11.919048238098625 0.0\n",
      "Cpfcan_BtagPf_trackSip3dSig cpf 12\n",
      "[-0.894524691104889, 18.443624362945563] 9.669074527025225 0.0\n",
      "Cpfcan_BtagPf_trackSip3dSig cpf 13\n",
      "[-0.8836509186029434, 40.89953289031984] 20.891591904461393 0.014349399\n",
      "Cpfcan_BtagPf_trackSip3dSig cpf 14\n",
      "[-0.8642283755540848, 56.97498863220216] 28.919608503878123 0.10103324\n",
      "Cpfcan_BtagPf_trackSip3dSig cpf 15\n",
      "[-0.8542046409845352, 66.29742912292498] 33.57581688195476 0.16334756\n",
      "Cpfcan_BtagPf_trackSip3dSig cpf 16\n",
      "[-0.8315415972471237, 74.66138107299834] 37.74646133512273 0.20039351\n",
      "Cpfcan_BtagPf_trackSip3dSig cpf 17\n",
      "[-0.8121702432632446, 81.24071418762225] 41.02644221544274 0.23076968\n",
      "Cpfcan_BtagPf_trackSip3dSig cpf 18\n",
      "[-0.7904596471786499, 87.26928100585988] 44.029870326519266 0.24978258\n",
      "Cpfcan_BtagPf_trackSip3dSig cpf 19\n",
      "[-0.7558044123649597, 91.01203498840357] 45.88391970038427 0.27268183\n",
      "Cpfcan_BtagPf_trackSip3dSig cpf 20\n",
      "[-0.75099693775177, 95.35531394958534] 48.05315544366855 0.29970145\n",
      "Cpfcan_BtagPf_trackSip3dSig cpf 21\n",
      "[-0.7333907389640808, 100.42019577026393] 50.576793254614 0.3249641\n",
      "Cpfcan_BtagPf_trackSip3dSig cpf 22\n",
      "[-0.6377051532268524, 109.55916091918994] 55.09843303620839 0.34138864\n",
      "Cpfcan_BtagPf_trackSip3dSig cpf 23\n",
      "[-0.5570760279893875, 111.57426628112873] 56.065671154559055 0.35308138\n",
      "Cpfcan_BtagPf_trackSip3dSig cpf 24\n",
      "[-0.43441094517707823, 115.15506080627463] 57.794735875725856 0.36185825\n",
      "Cpfcan_BtagPf_trackJetDistVal cpf 0\n",
      "[-12.257561902999877, -0.0001183879638119829] 6.128721757518032 0.36744797\n",
      "Cpfcan_BtagPf_trackJetDistVal cpf 1\n",
      "[-7.633624863624573, 0.0] 3.8168124318122865 0.07788944\n",
      "Cpfcan_BtagPf_trackJetDistVal cpf 2\n",
      "[-5.957150430679321, 1.7181560233253843e-39] 2.9785752153396605 0.008307875\n",
      "Cpfcan_BtagPf_trackJetDistVal cpf 3\n",
      "[-5.0402579545974735, 2.8486156807048247e-05] 2.52014322037714 0.0030662785\n",
      "Cpfcan_BtagPf_trackJetDistVal cpf 4\n",
      "[-4.516295027732849, 9.417962592124241e-06] 2.2581522228477207 0.0020264124\n",
      "Cpfcan_BtagPf_trackJetDistVal cpf 5\n",
      "[-4.085416698455811, 9.20792015676859e-06] 2.042712953187984 0.001586958\n",
      "Cpfcan_BtagPf_trackJetDistVal cpf 6\n",
      "[-3.632019925117493, 4.235183220748295e-39] 1.8160099625587465 0.001324738\n",
      "Cpfcan_BtagPf_trackJetDistVal cpf 7\n",
      "[-3.2957188653945924, 4.8730408292436944e-39] 1.6478594326972962 0.0011029793\n",
      "Cpfcan_BtagPf_trackJetDistVal cpf 8\n",
      "[-2.9811831474304196, 5.5928657659035555e-39] 1.4905915737152098 0.0008909859\n",
      "Cpfcan_BtagPf_trackJetDistVal cpf 9\n",
      "[-2.6756584811210633, 2.697696426259511e-40] 1.3378292405605317 0.0007149191\n",
      "Cpfcan_BtagPf_trackJetDistVal cpf 10\n",
      "[-2.2928848218917848, 2.7079114716748994e-40] 1.1464424109458924 0.00055190414\n",
      "Cpfcan_BtagPf_trackJetDistVal cpf 11\n",
      "[-2.015682859420776, 2.715786769044405e-40] 1.007841429710388 0.00040736105\n",
      "Cpfcan_BtagPf_trackJetDistVal cpf 12\n",
      "[-1.7747795212268827, 2.721349783817928e-40] 0.8873897606134413 0.0002829409\n",
      "Cpfcan_BtagPf_trackJetDistVal cpf 13\n",
      "[-1.4668888199329373, 7.066268443622906e-07] 0.7334447632798908 0.00016709046\n",
      "Cpfcan_BtagPf_trackJetDistVal cpf 14\n",
      "[-1.2690074026584623, 6.259672989017426e-07] 0.6345040143128806 0.000104056504\n",
      "Cpfcan_BtagPf_trackJetDistVal cpf 15\n",
      "[-1.096443259716034, 5.875554728618236e-07] 0.5482219236357535 5.2460957e-05\n",
      "Cpfcan_BtagPf_trackJetDistVal cpf 16\n",
      "[-0.8834083509445191, 5.875554728618236e-07] 0.44170446924999596 7.1128366e-06\n",
      "Cpfcan_BtagPf_trackJetDistVal cpf 17\n",
      "[-0.690091452002525, 5.875554728618236e-07] 0.3450460197789989 6.072026e-09\n",
      "Cpfcan_BtagPf_trackJetDistVal cpf 18\n",
      "[-0.5508984333276749, 5.875554728618236e-07] 0.27544951044157384 5.860392e-09\n",
      "Cpfcan_BtagPf_trackJetDistVal cpf 19\n",
      "[-0.38093920499086364, 5.112572824828028e-07] 0.19046985812407308 4.990415e-09\n",
      "Cpfcan_BtagPf_trackJetDistVal cpf 20\n",
      "[-0.407245371043682, 4.4211534458327196e-07] 0.2036229065795133 4.2492427e-09\n",
      "Cpfcan_BtagPf_trackJetDistVal cpf 21\n",
      "[-0.3292089942097664, 3.7828614722457134e-07] 0.16460468624795682 4.577144e-09\n",
      "Cpfcan_BtagPf_trackJetDistVal cpf 22\n",
      "[-0.10668110966682431, 3.1604758049752845e-07] 0.053340712857202405 4.2675716e-09\n",
      "Cpfcan_BtagPf_trackJetDistVal cpf 23\n",
      "[-0.06520432904362676, 3.1604758049752845e-07] 0.03260232254560363 6.217249e-15\n",
      "Cpfcan_BtagPf_trackJetDistVal cpf 24\n",
      "[-0.041430421993136395, 3.1604758049752845e-07] 0.020715369020358445 7.1054274e-15\n",
      "Cpfcan_ptrel cpf 0\n",
      "[-0.9987346529960632, -0.07824894964694941] 0.4602428516745569 0.026405474\n",
      "Cpfcan_ptrel cpf 1\n",
      "[-0.9986925727128982, 0.0] 0.4993462863564491 0.033497836\n",
      "Cpfcan_ptrel cpf 2\n",
      "[-0.9986317777633668, 1.7181560233253843e-39] 0.4993158888816834 0.03648135\n",
      "Cpfcan_ptrel cpf 3\n",
      "[-0.9985701447725296, 0.0015702832513488846] 0.5000702140119392 0.031767238\n",
      "Cpfcan_ptrel cpf 4\n",
      "[-0.9985242491960525, 0.0016100857267156263] 0.5000671674613841 0.03048428\n",
      "Cpfcan_ptrel cpf 5\n",
      "[-0.9984900385141373, 0.002152797461021694] 0.5003214179875795 0.029858865\n",
      "Cpfcan_ptrel cpf 6\n",
      "[-0.9984496235847473, 4.235183220748295e-39] 0.49922481179237366 0.4030793\n",
      "Cpfcan_ptrel cpf 7\n",
      "[-0.9984409815073013, 4.8730408292436944e-39] 0.49922049075365066 0.4397248\n",
      "Cpfcan_ptrel cpf 8\n",
      "[-0.998413507938385, 5.5928657659035555e-39] 0.4992067539691925 0.4645812\n",
      "Cpfcan_ptrel cpf 9\n",
      "[-0.9983814364671707, 2.697696426259511e-40] 0.49919071823358535 0.4630487\n",
      "Cpfcan_ptrel cpf 10\n",
      "[-0.9983638590574265, 2.7079114716748994e-40] 0.49918192952871326 0.4424206\n",
      "Cpfcan_ptrel cpf 11\n",
      "[-0.9983276206254958, 2.715786769044405e-40] 0.4991638103127479 0.40752503\n",
      "Cpfcan_ptrel cpf 12\n",
      "[-0.998284643292427, 2.721349783817928e-40] 0.4991423216462135 0.36087495\n",
      "Cpfcan_ptrel cpf 13\n",
      "[-0.9982516777515411, 0.6248296028375627] 0.811540640294552 0.29112288\n",
      "Cpfcan_ptrel cpf 14\n",
      "[-0.9981811654567718, 0.621998975276947] 0.8100900703668594 0.25598013\n",
      "Cpfcan_ptrel cpf 15\n",
      "[-0.9981393224000931, 0.6203929454088212] 0.8092661339044571 0.20519169\n",
      "Cpfcan_ptrel cpf 16\n",
      "[-0.9981094008684158, 0.6203929454088212] 0.8092511731386185 0.097348616\n",
      "Cpfcan_ptrel cpf 17\n",
      "[-0.9980214846134186, 0.6203929454088212] 0.8092072150111198 0.01433724\n",
      "Cpfcan_ptrel cpf 18\n",
      "[-0.9979862570762634, 0.6203929454088212] 0.8091896012425424 0.013844393\n",
      "Cpfcan_ptrel cpf 19\n",
      "[-0.9978640109300614, 0.6173441749811174] 0.8076040929555894 0.011797298\n",
      "Cpfcan_ptrel cpf 20\n",
      "[-0.9979134804010391, 0.6131494808197021] 0.8055314806103706 0.01004577\n",
      "Cpfcan_ptrel cpf 21\n",
      "[-0.9978590613603592, 0.6091213339567184] 0.8034901976585388 0.010814188\n",
      "Cpfcan_ptrel cpf 22\n",
      "[-0.9975996631383895, 0.6048287373781204] 0.801214200258255 0.010078445\n",
      "Cpfcan_ptrel cpf 23\n",
      "[-0.9974201351404189, 0.6048287373781204] 0.8011244362592697 5.5879354e-09\n",
      "Cpfcan_ptrel cpf 24\n",
      "[-0.9972582507133484, 0.6048287373781204] 0.8010434940457344 7.450581e-09\n",
      "Cpfcan_drminsv cpf 0\n",
      "[-0.3933659228682518, 0.0] 0.1966829614341259 0.098296225\n",
      "Cpfcan_drminsv cpf 1\n",
      "[-0.39533481270074844, 0.0] 0.19766740635037422 0.11313897\n",
      "Cpfcan_drminsv cpf 2\n",
      "[-0.3960007271170616, 1.7181560233253843e-39] 0.1980003635585308 0.118134476\n",
      "Cpfcan_drminsv cpf 3\n",
      "[-0.3962551385164261, 0.0] 0.19812756925821304 0.12001393\n",
      "Cpfcan_drminsv cpf 4\n",
      "[-0.39618384003639223, 0.0] 0.19809192001819612 0.119553156\n",
      "Cpfcan_drminsv cpf 5\n",
      "[-0.3961393052339554, 0.0] 0.1980696526169777 0.11748444\n",
      "Cpfcan_drminsv cpf 6\n",
      "[-0.3959320792555809, 4.235183220748295e-39] 0.19796603962779044 0.10938142\n",
      "Cpfcan_drminsv cpf 7\n",
      "[-0.39573077589273453, 4.8730408292436944e-39] 0.19786538794636727 0.10239565\n",
      "Cpfcan_drminsv cpf 8\n",
      "[-0.3954919335246086, 5.5928657659035555e-39] 0.1977459667623043 0.09170657\n",
      "Cpfcan_drminsv cpf 9\n",
      "[-0.39522758573293687, 2.697696426259511e-40] 0.19761379286646844 0.07884396\n",
      "Cpfcan_drminsv cpf 10\n",
      "[-0.3949916383624077, 2.7079114716748994e-40] 0.19749581918120385 0.06367097\n",
      "Cpfcan_drminsv cpf 11\n",
      "[-0.39447730779647827, 2.715786769044405e-40] 0.19723865389823914 0.04716196\n",
      "Cpfcan_drminsv cpf 12\n",
      "[-0.39410006225109095, 2.721349783817928e-40] 0.19705003112554548 0.029524006\n",
      "Cpfcan_drminsv cpf 13\n",
      "[-0.39336136251688003, 0.007481022039428402] 0.20042119227815422 0.011993009\n",
      "Cpfcan_drminsv cpf 14\n",
      "[-0.3929678502678871, 0.0051526341913268065] 0.19906024222960697 0.00086306233\n",
      "Cpfcan_drminsv cpf 15\n",
      "[-0.3922579911351204, 0.003984217783436256] 0.19812110445927833 2.72704e-05\n",
      "Cpfcan_drminsv cpf 16\n",
      "[-0.3915963840484619, 0.003984217783436256] 0.1977903009159491 2.712829e-05\n",
      "Cpfcan_drminsv cpf 17\n",
      "[-0.39077699452638626, 0.003984217783436256] 0.19738060615491126 2.6800595e-05\n",
      "Cpfcan_drminsv cpf 18\n",
      "[-0.38964024513959883, 0.003984217783436256] 0.19681223146151755 2.6340484e-05\n",
      "Cpfcan_drminsv cpf 19\n",
      "[-0.3885957309603691, 0.0017564631428104481] 0.19517609705158978 2.5743857e-05\n",
      "Cpfcan_drminsv cpf 20\n",
      "[-0.38821884244680405, 5.455080099636689e-05] 0.1941366966239002 2.2565802e-05\n",
      "Cpfcan_drminsv cpf 21\n",
      "[-0.38822175890207294, 5.455080099636689e-05] 0.19413815485153466 2.1158725e-05\n",
      "Cpfcan_drminsv cpf 22\n",
      "[-0.3838692057132721, 5.455080099636689e-05] 0.19196187825713423 1.8272147e-05\n",
      "Cpfcan_drminsv cpf 23\n",
      "[-0.38146905332803727, 5.455080099636689e-05] 0.19076180206451682 1.4551915e-11\n",
      "Cpfcan_drminsv cpf 24\n",
      "[-0.37911022871732714, 5.455080099636689e-05] 0.18958238975916175 1.4551915e-11\n",
      "Cpfcan_VTX_ass cpf 0\n",
      "[1.0, 7.0] 3.0 2.532717\n",
      "Cpfcan_VTX_ass cpf 1\n",
      "[0.0, 7.0] 3.5 2.5053015\n",
      "Cpfcan_VTX_ass cpf 2\n",
      "[0.0, 7.0] 3.5 2.2363584\n",
      "Cpfcan_VTX_ass cpf 3\n",
      "[1.0, 7.0] 3.0 0.77202743\n",
      "Cpfcan_VTX_ass cpf 4\n",
      "[1.0, 7.0] 3.0 0.7324971\n",
      "Cpfcan_VTX_ass cpf 5\n",
      "[1.0, 7.0] 3.0 0.7037971\n",
      "Cpfcan_VTX_ass cpf 6\n",
      "[0.0, 7.0] 3.5 2.6821184\n",
      "Cpfcan_VTX_ass cpf 7\n",
      "[0.0, 7.0] 3.5 3.2973835\n",
      "Cpfcan_VTX_ass cpf 8\n",
      "[0.0, 7.0] 3.5 3.33034\n",
      "Cpfcan_VTX_ass cpf 9\n",
      "[0.0, 7.0] 3.5 3.303886\n",
      "Cpfcan_VTX_ass cpf 10\n",
      "[0.0, 7.0] 3.5 3.2385035\n",
      "Cpfcan_VTX_ass cpf 11\n",
      "[0.0, 7.0] 3.5 3.1474998\n",
      "Cpfcan_VTX_ass cpf 12\n",
      "[0.0, 7.0] 3.5 3.035577\n",
      "Cpfcan_VTX_ass cpf 13\n",
      "[0.0, 7.0] 3.5 3.1869817\n",
      "Cpfcan_VTX_ass cpf 14\n",
      "[0.0, 7.0] 3.5 3.261996\n",
      "Cpfcan_VTX_ass cpf 15\n",
      "[0.0, 7.0] 3.5 3.3019571\n",
      "Cpfcan_VTX_ass cpf 16\n",
      "[0.0, 7.0] 3.5 3.31941\n",
      "Cpfcan_VTX_ass cpf 17\n",
      "[0.0, 7.0] 3.5 3.3234057\n",
      "Cpfcan_VTX_ass cpf 18\n",
      "[0.0, 7.0] 3.5 3.3172462\n",
      "Cpfcan_VTX_ass cpf 19\n",
      "[0.0, 7.0] 3.5 3.053985\n",
      "Cpfcan_VTX_ass cpf 20\n",
      "[9.219562986332269e-41, 7.0] 3.5 2.479147\n",
      "Cpfcan_VTX_ass cpf 21\n",
      "[9.219562986332269e-41, 7.0] 3.5 1.5056909\n",
      "Cpfcan_VTX_ass cpf 22\n",
      "[1.0, 7.0] 3.0 0.0\n",
      "Cpfcan_VTX_ass cpf 23\n",
      "[4.0, 7.0] 1.5 0.0\n",
      "Cpfcan_VTX_ass cpf 24\n",
      "[5.0, 7.0] 1.0 0.0\n",
      "Cpfcan_puppiw cpf 0\n",
      "[0.6274510025978088, 1.0] 0.18627449870109558 0.001911526\n",
      "Cpfcan_puppiw cpf 1\n",
      "[9.097372562840075e-40, 1.0] 0.5 0.0016725919\n",
      "Cpfcan_puppiw cpf 2\n",
      "[0.0, 1.0] 0.5 0.0014389742\n",
      "Cpfcan_puppiw cpf 3\n",
      "[0.8156862854957581, 1.0] 0.09215685725212097 0.0\n",
      "Cpfcan_puppiw cpf 4\n",
      "[0.8470588326454163, 1.0] 0.07647058367729187 0.0\n",
      "Cpfcan_puppiw cpf 5\n",
      "[0.8784313797950745, 1.0] 0.06078431010246277 0.0\n",
      "Cpfcan_puppiw cpf 6\n",
      "[0.0, 1.0] 0.5 0.35163397\n",
      "Cpfcan_puppiw cpf 7\n",
      "[0.0, 1.0] 0.5 0.43000364\n",
      "Cpfcan_puppiw cpf 8\n",
      "[0.0, 1.0] 0.5 0.49792063\n",
      "Cpfcan_puppiw cpf 9\n",
      "[0.0, 1.0] 0.5 0.49766436\n",
      "Cpfcan_puppiw cpf 10\n",
      "[0.0, 1.0] 0.5 0.4903702\n",
      "Cpfcan_puppiw cpf 11\n",
      "[0.0, 1.0] 0.5 0.47833174\n",
      "Cpfcan_puppiw cpf 12\n",
      "[0.0, 1.0] 0.5 0.46323282\n",
      "Cpfcan_puppiw cpf 13\n",
      "[0.0, 1.0] 0.5 0.48433378\n",
      "Cpfcan_puppiw cpf 14\n",
      "[0.0, 1.0] 0.5 0.4942258\n",
      "Cpfcan_puppiw cpf 15\n",
      "[0.0, 1.0] 0.5 0.4985456\n",
      "Cpfcan_puppiw cpf 16\n",
      "[0.0, 1.0] 0.5 0.49958983\n",
      "Cpfcan_puppiw cpf 17\n",
      "[0.0, 1.0] 0.5 0.4985076\n",
      "Cpfcan_puppiw cpf 18\n",
      "[0.0, 1.0] 0.5 0.49598587\n",
      "Cpfcan_puppiw cpf 19\n",
      "[0.0, 1.0] 0.5 0.43218538\n",
      "Cpfcan_puppiw cpf 20\n",
      "[9.219562986332269e-41, 1.0] 0.5 0.31471255\n",
      "Cpfcan_puppiw cpf 21\n",
      "[2.350988701644575e-38, 1.0] 0.5 0.000894408\n",
      "Cpfcan_puppiw cpf 22\n",
      "[0.9960784316062927, 1.0] 0.0019607841968536377 0.0\n",
      "Cpfcan_puppiw cpf 23\n",
      "[1.0, 1.0] 0.0 0.0\n",
      "Cpfcan_puppiw cpf 24\n",
      "[1.0, 1.0] 0.0 0.0\n",
      "Cpfcan_chi2 cpf 0\n",
      "[0.0, 12.0] 6.0 0.49158832\n",
      "Cpfcan_chi2 cpf 1\n",
      "[0.0, 13.0] 6.5 0.49035215\n",
      "Cpfcan_chi2 cpf 2\n",
      "[0.0, 11.0] 5.5 0.48776639\n",
      "Cpfcan_chi2 cpf 3\n",
      "[0.0, 8.0] 4.0 0.49180448\n",
      "Cpfcan_chi2 cpf 4\n",
      "[0.0, 6.0] 3.0 0.49232316\n",
      "Cpfcan_chi2 cpf 5\n",
      "[0.0, 5.0] 2.5 0.49310356\n",
      "Cpfcan_chi2 cpf 6\n",
      "[0.0, 4.0] 2.0 0.44729668\n",
      "Cpfcan_chi2 cpf 7\n",
      "[0.0, 3.0] 1.5 0.42993528\n",
      "Cpfcan_chi2 cpf 8\n",
      "[0.0, 3.0] 1.5 0.4109448\n",
      "Cpfcan_chi2 cpf 9\n",
      "[0.0, 3.0] 1.5 0.3910317\n",
      "Cpfcan_chi2 cpf 10\n",
      "[0.0, 2.0] 1.0 0.0\n",
      "Cpfcan_chi2 cpf 11\n",
      "[0.0, 2.0] 1.0 0.0\n",
      "Cpfcan_chi2 cpf 12\n",
      "[0.0, 2.0] 1.0 0.0\n",
      "Cpfcan_chi2 cpf 13\n",
      "[0.0, 3.0] 1.5 0.4085579\n",
      "Cpfcan_chi2 cpf 14\n",
      "[0.0, 2.0] 1.0 0.4240925\n",
      "Cpfcan_chi2 cpf 15\n",
      "[0.0, 2.0] 1.0 0.43376887\n",
      "Cpfcan_chi2 cpf 16\n",
      "[0.0, 2.0] 1.0 0.44138697\n",
      "Cpfcan_chi2 cpf 17\n",
      "[0.0, 2.0] 1.0 0.44834056\n",
      "Cpfcan_chi2 cpf 18\n",
      "[0.0, 2.0] 1.0 0.45417598\n",
      "Cpfcan_chi2 cpf 19\n",
      "[0.0, 2.0] 1.0 0.46229538\n",
      "Cpfcan_chi2 cpf 20\n",
      "[0.0, 2.0] 1.0 0.47025618\n",
      "Cpfcan_chi2 cpf 21\n",
      "[0.0, 2.0] 1.0 0.47411624\n",
      "Cpfcan_chi2 cpf 22\n",
      "[0.0, 1.0] 0.5 0.47890463\n",
      "Cpfcan_chi2 cpf 23\n",
      "[0.0, 1.0] 0.5 0.48223138\n",
      "Cpfcan_chi2 cpf 24\n",
      "[0.0, 1.0] 0.5 0.48466244\n",
      "Cpfcan_quality cpf 0\n",
      "[5.0, 5.0] 0.0 0.0\n",
      "Cpfcan_quality cpf 1\n",
      "[9.097372562840075e-40, 5.0] 2.5 0.0\n",
      "Cpfcan_quality cpf 2\n",
      "[0.0, 5.0] 2.5 0.0\n",
      "Cpfcan_quality cpf 3\n",
      "[5.0, 5.0] 0.0 0.0\n",
      "Cpfcan_quality cpf 4\n",
      "[5.0, 5.0] 0.0 0.0\n",
      "Cpfcan_quality cpf 5\n",
      "[5.0, 5.0] 0.0 0.0\n",
      "Cpfcan_quality cpf 6\n",
      "[0.0, 5.0] 2.5 1.7620584\n",
      "Cpfcan_quality cpf 7\n",
      "[0.0, 5.0] 2.5 2.155665\n",
      "Cpfcan_quality cpf 8\n",
      "[0.0, 5.0] 2.5 2.4954169\n",
      "Cpfcan_quality cpf 9\n",
      "[0.0, 5.0] 2.5 2.4929748\n",
      "Cpfcan_quality cpf 10\n",
      "[0.0, 5.0] 2.5 2.4555147\n",
      "Cpfcan_quality cpf 11\n",
      "[0.0, 5.0] 2.5 2.394374\n",
      "Cpfcan_quality cpf 12\n",
      "[0.0, 5.0] 2.5 2.3181026\n",
      "Cpfcan_quality cpf 13\n",
      "[0.0, 5.0] 2.5 2.4234416\n",
      "Cpfcan_quality cpf 14\n",
      "[0.0, 5.0] 2.5 2.472922\n",
      "Cpfcan_quality cpf 15\n",
      "[0.0, 5.0] 2.5 2.4944527\n",
      "Cpfcan_quality cpf 16\n",
      "[0.0, 5.0] 2.5 2.4996328\n",
      "Cpfcan_quality cpf 17\n",
      "[0.0, 5.0] 2.5 2.49417\n",
      "Cpfcan_quality cpf 18\n",
      "[0.0, 5.0] 2.5 2.4815407\n",
      "Cpfcan_quality cpf 19\n",
      "[0.0, 5.0] 2.5 2.1632278\n",
      "Cpfcan_quality cpf 20\n",
      "[9.219562986332269e-41, 5.0] 2.5 1.5762649\n",
      "Cpfcan_quality cpf 21\n",
      "[2.350988701644575e-38, 5.0] 2.5 0.0\n",
      "Cpfcan_quality cpf 22\n",
      "[5.0, 5.0] 0.0 0.0\n",
      "Cpfcan_quality cpf 23\n",
      "[5.0, 5.0] 0.0 0.0\n",
      "Cpfcan_quality cpf 24\n",
      "[5.0, 5.0] 0.0 0.0\n"
     ]
    }
   ],
   "source": [
    "for (i,key) in enumerate(cpf_branches):\n",
    "    for cand in range(25):\n",
    "        range_inputs, standardized_epsilon = quantile_min_max(key,'cpf',cand)\n",
    "        scale_epsilon = (range_inputs[1] - range_inputs[0])/2\n",
    "        cpf_epsilons[i,cand] = scale_epsilon\n",
    "        cpf_standardized_epsilons[i,cand] = standardized_epsilon\n",
    "        cpf_ranges[i,cand] = range_inputs\n",
    "        print(range_inputs, scale_epsilon, standardized_epsilon)"
   ]
  },
  {
   "cell_type": "code",
   "execution_count": 152,
   "metadata": {},
   "outputs": [],
   "source": [
    "npf_epsilons = np.zeros((len(npf_branches),25))"
   ]
  },
  {
   "cell_type": "code",
   "execution_count": 153,
   "metadata": {},
   "outputs": [],
   "source": [
    "npf_standardized_epsilons = np.zeros((len(npf_branches),25))"
   ]
  },
  {
   "cell_type": "code",
   "execution_count": 154,
   "metadata": {},
   "outputs": [],
   "source": [
    "npf_ranges = np.zeros((len(npf_branches),25, 2))"
   ]
  },
  {
   "cell_type": "code",
   "execution_count": 155,
   "metadata": {
    "scrolled": true
   },
   "outputs": [
    {
     "name": "stdout",
     "output_type": "stream",
     "text": [
      "Npfcan_ptrel npf 0\n",
      "[-0.9968633687496186, 7.464285880050677e-40] 0.4984316843748093 0.07358483\n",
      "Npfcan_ptrel npf 1\n",
      "[-0.997913658618927, 0.008142720190808177] 0.5030281894048676 0.0339262\n",
      "Npfcan_ptrel npf 2\n",
      "[-0.9984375846385956, 0.0025565026071853957] 0.5004970436228905 0.022131281\n",
      "Npfcan_ptrel npf 3\n",
      "[-0.9985952377319336, 2.4447950680407006e-39] 0.4992976188659668 0.42498827\n",
      "Npfcan_ptrel npf 4\n",
      "[-0.9986761224269868, 2.9553105193696606e-39] 0.4993380612134934 0.47400758\n",
      "Npfcan_ptrel npf 5\n",
      "[-0.9987334609031677, 2.6967991748528036e-40] 0.49936673045158386 0.480441\n",
      "Npfcan_ptrel npf 6\n",
      "[-0.9987463372945785, 2.7103357180181813e-40] 0.49937316864728926 0.44453526\n",
      "Npfcan_ptrel npf 7\n",
      "[-0.9987475889921189, 2.7207191995089816e-40] 0.49937379449605945 0.37424433\n",
      "Npfcan_ptrel npf 8\n",
      "[-0.9987351304292679, 0.6544852882623673] 0.8266102093458176 0.27936345\n",
      "Npfcan_ptrel npf 9\n",
      "[-0.9986952543258667, 0.6537269240617752] 0.826211089193821 0.19356798\n",
      "Npfcan_ptrel npf 10\n",
      "[-0.9986532968282699, 0.6533978629112244] 0.8260255798697471 0.015313745\n",
      "Npfcan_ptrel npf 11\n",
      "[-0.998578251004219, 0.6523950761556625] 0.8254866635799407 0.014636193\n",
      "Npfcan_ptrel npf 12\n",
      "[-0.9985572147369385, 0.651382726430893] 0.8249699705839157 0.012287513\n",
      "Npfcan_ptrel npf 13\n",
      "[-0.9984103441238403, 0.6506841802597045] 0.8245472621917724 0.0092504155\n",
      "Npfcan_ptrel npf 14\n",
      "[-0.9982540649175644, 0.6506841802597045] 0.8244691225886345 7.450581e-09\n",
      "Npfcan_ptrel npf 15\n",
      "[-0.9980648165941238, 0.6501611316204071] 0.8241129741072655 1.3038517e-08\n",
      "Npfcan_ptrel npf 16\n",
      "[-0.9977561235427856, 0.6501611316204071] 0.8239586275815964 1.4901161e-08\n",
      "Npfcan_ptrel npf 17\n",
      "[-0.9973033106327056, 0.6501611316204071] 0.8237322211265563 1.3038515e-08\n",
      "Npfcan_ptrel npf 18\n",
      "[-0.9964762163162232, 0.6501611316204071] 0.8233186739683152 1.4901161e-08\n",
      "Npfcan_ptrel npf 19\n",
      "[-0.9945532822608948, 0.6501611316204071] 0.822357206940651 1.4901161e-08\n",
      "Npfcan_ptrel npf 20\n",
      "[-0.9782722991704941, 0.6501611316204071] 0.8142167153954506 1.6763806e-08\n",
      "Npfcan_ptrel npf 21\n",
      "[0.031235042959451675, 0.6501611316204071] 0.3094630443304777 1.4901161e-08\n",
      "Npfcan_ptrel npf 22\n",
      "[0.031235042959451675, 0.6501611316204071] 0.3094630443304777 1.4901161e-08\n",
      "Npfcan_ptrel npf 23\n",
      "[0.031235042959451675, 0.6501611316204071] 0.3094630443304777 1.3038517e-08\n",
      "Npfcan_ptrel npf 24\n",
      "[0.031235042959451675, 0.6501611316204071] 0.3094630443304777 1.6763806e-08\n",
      "Npfcan_etarel npf 0\n",
      "[-0.49974158465862273, 7.464285880050677e-40] 0.24987079232931136 0.027319815\n",
      "Npfcan_etarel npf 1\n",
      "[-0.49938467353582383, 0.0009290268493350596] 0.25015685019257944 0.034401096\n",
      "Npfcan_etarel npf 2\n",
      "[-0.4988484391570091, 0.002409483895171435] 0.25062896152609027 0.04287033\n",
      "Npfcan_etarel npf 3\n",
      "[-0.4984194099903107, 2.4447950680407006e-39] 0.24920970499515535 0.1756108\n",
      "Npfcan_etarel npf 4\n",
      "[-0.497828842997551, 2.9553105193696606e-39] 0.2489144214987755 0.18042777\n",
      "Npfcan_etarel npf 5\n",
      "[-0.4970668378472328, 2.6967991748528036e-40] 0.2485334189236164 0.16858362\n",
      "Npfcan_etarel npf 6\n",
      "[-0.4960593008995056, 2.7103357180181813e-40] 0.2480296504497528 0.1420735\n",
      "Npfcan_etarel npf 7\n",
      "[-0.4947935748100281, 2.7207191995089816e-40] 0.24739678740501406 0.10570901\n",
      "Npfcan_etarel npf 8\n",
      "[-0.4930647701025009, 0.07464736416935921] 0.28385606713593003 0.066347726\n",
      "Npfcan_etarel npf 9\n",
      "[-0.4906317928433418, 0.07266749165952212] 0.28164964225143196 0.03545248\n",
      "Npfcan_etarel npf 10\n",
      "[-0.4876067876815796, 0.0718415439873935] 0.27972416583448656 0.0011512233\n",
      "Npfcan_etarel npf 11\n",
      "[-0.4835773825645447, 0.06890200532972814] 0.27623969394713643 0.00110122\n",
      "Npfcan_etarel npf 12\n",
      "[-0.480141698718071, 0.06640646614134321] 0.2732740824297071 0.000923811\n",
      "Npfcan_etarel npf 13\n",
      "[-0.46966925024986267, 0.06458370082080367] 0.2671264755353332 0.0006943252\n",
      "Npfcan_etarel npf 14\n",
      "[-0.45747176170349124, 0.06458370082080367] 0.26102773126214746 6.9849193e-10\n",
      "Npfcan_etarel npf 15\n",
      "[-0.44119916081428523, 0.06458370082080367] 0.25289143081754445 6.9849193e-10\n",
      "Npfcan_etarel npf 16\n",
      "[-0.4189834308624268, 0.002346747787669301] 0.21066508932504804 6.9849193e-10\n",
      "Npfcan_etarel npf 17\n",
      "[-0.38051043629646303, 0.002346747787669301] 0.19142859204206616 6.9849193e-10\n",
      "Npfcan_etarel npf 18\n",
      "[-0.3391426932811737, 0.002346747787669301] 0.1707447205344215 6.9849193e-10\n",
      "Npfcan_etarel npf 19\n",
      "[-0.26671122908592226, 0.002346747787669301] 0.13452898843679578 6.9849193e-10\n",
      "Npfcan_etarel npf 20\n",
      "[-0.141350969672203, 0.002346747787669301] 0.07184885872993615 6.9849193e-10\n",
      "Npfcan_etarel npf 21\n",
      "[0.002346747787669301, 0.002346747787669301] 0.0 6.9849193e-10\n",
      "Npfcan_etarel npf 22\n",
      "[0.002346747787669301, 0.002346747787669301] 0.0 6.9849193e-10\n",
      "Npfcan_etarel npf 23\n",
      "[0.002346747787669301, 0.002346747787669301] 0.0 6.9849193e-10\n",
      "Npfcan_etarel npf 24\n",
      "[0.002346747787669301, 0.002346747787669301] 0.0 6.9849193e-10\n",
      "Npfcan_phirel npf 0\n",
      "[-0.49971634179353713, 7.464285880050677e-40] 0.24985817089676857 0.029220998\n",
      "Npfcan_phirel npf 1\n",
      "[-0.4992387595772743, 0.0010897693748120243] 0.2501642644760432 0.03596241\n",
      "Npfcan_phirel npf 2\n",
      "[-0.4983555448055267, 0.002598616583272851] 0.2504770806943998 0.0431783\n",
      "Npfcan_phirel npf 3\n",
      "[-0.4975840756297112, 2.4447950680407006e-39] 0.2487920378148556 0.169014\n",
      "Npfcan_phirel npf 4\n",
      "[-0.4964806422591209, 2.9553105193696606e-39] 0.24824032112956046 0.17211916\n",
      "Npfcan_phirel npf 5\n",
      "[-0.4952025279402733, 2.6967991748528036e-40] 0.24760126397013665 0.16000056\n",
      "Npfcan_phirel npf 6\n",
      "[-0.49335482716560364, 2.7103357180181813e-40] 0.24667741358280182 0.13451381\n",
      "Npfcan_phirel npf 7\n",
      "[-0.4910696533322334, 2.7207191995089816e-40] 0.2455348266661167 0.09978751\n",
      "Npfcan_phirel npf 8\n",
      "[-0.48802352011203765, 0.06510044559836393] 0.2765619828552008 0.06308573\n",
      "Npfcan_phirel npf 9\n",
      "[-0.48370233744382857, 0.06330680340528488] 0.2735045704245567 0.03358454\n",
      "Npfcan_phirel npf 10\n",
      "[-0.4787972205877304, 0.06267548993229875] 0.27073635526001455 0.0010318978\n",
      "Npfcan_phirel npf 11\n",
      "[-0.4717478007078171, 0.0605594086274505] 0.26615360466763377 0.0009872268\n",
      "Npfcan_phirel npf 12\n",
      "[-0.4652530321478844, 0.05854032084345819] 0.2618966764956713 0.0008281798\n",
      "Npfcan_phirel npf 13\n",
      "[-0.4489672747254372, 0.057027337066829324] 0.25299730589613323 0.0006231349\n",
      "Npfcan_phirel npf 14\n",
      "[-0.43224397391080854, 0.057027337066829324] 0.24463565548881894 9.313226e-10\n",
      "Npfcan_phirel npf 15\n",
      "[-0.40838349401950835, 0.056057560145854946] 0.23222052708268165 1.1641532e-09\n",
      "Npfcan_phirel npf 16\n",
      "[-0.37815947353839874, 0.056057560145854946] 0.21710851684212684 1.1641532e-09\n",
      "Npfcan_phirel npf 17\n",
      "[-0.3436253303289414, 0.056057560145854946] 0.19984144523739816 1.3969839e-09\n",
      "Npfcan_phirel npf 18\n",
      "[-0.29622914165258407, 0.056057560145854946] 0.1761433508992195 1.1641532e-09\n",
      "Npfcan_phirel npf 19\n",
      "[-0.23324882239103317, 0.056057560145854946] 0.14465319126844406 1.1641532e-09\n",
      "Npfcan_phirel npf 20\n",
      "[-0.13350441336631771, 0.056057560145854946] 0.09478098675608633 1.1641532e-09\n",
      "Npfcan_phirel npf 21\n",
      "[0.002103550359606743, 0.056057560145854946] 0.0269770048931241 1.1641532e-09\n",
      "Npfcan_phirel npf 22\n",
      "[0.002103550359606743, 0.056057560145854946] 0.0269770048931241 1.1641532e-09\n",
      "Npfcan_phirel npf 23\n",
      "[0.002103550359606743, 0.056057560145854946] 0.0269770048931241 1.1641532e-09\n",
      "Npfcan_phirel npf 24\n",
      "[0.002103550359606743, 0.056057560145854946] 0.0269770048931241 1.1641532e-09\n",
      "Npfcan_deltaR npf 0\n",
      "[-0.5982869905233383, 7.464285880050677e-40] 0.29914349526166917 0.044293147\n",
      "Npfcan_deltaR npf 1\n",
      "[-0.5953868144750595, 0.002787112258374693] 0.2990869633667171 0.050844196\n",
      "Npfcan_deltaR npf 2\n",
      "[-0.5878407162427902, 0.0055179077992216] 0.2966793120210059 0.056651272\n",
      "Npfcan_deltaR npf 3\n",
      "[-0.5817850846052169, 2.4447950680407006e-39] 0.29089254230260847 0.1852364\n",
      "Npfcan_deltaR npf 4\n",
      "[-0.5730012184381486, 2.9553105193696606e-39] 0.2865006092190743 0.18753222\n",
      "Npfcan_deltaR npf 5\n",
      "[-0.5637330144643783, 2.6967991748528036e-40] 0.28186650723218915 0.17383713\n",
      "Npfcan_deltaR npf 6\n",
      "[-0.5520116239786148, 2.7103357180181813e-40] 0.2760058119893074 0.1466228\n",
      "Npfcan_deltaR npf 7\n",
      "[-0.5406669765710831, 2.7207191995089816e-40] 0.27033348828554155 0.11083792\n",
      "Npfcan_deltaR npf 8\n",
      "[-0.5272017085552215, 0.07452874764800071] 0.3008652281016111 0.07330722\n",
      "Npfcan_deltaR npf 9\n",
      "[-0.5138763839006424, 0.07278270713984968] 0.29332954552024604 0.044617385\n",
      "Npfcan_deltaR npf 10\n",
      "[-0.498568876683712, 0.07197998151183131] 0.2852744290977717 0.0013120179\n",
      "Npfcan_deltaR npf 11\n",
      "[-0.48221135407686233, 0.06951609775424022] 0.2758637259155513 0.0012550846\n",
      "Npfcan_deltaR npf 12\n",
      "[-0.4685382863879204, 0.06731868378818036] 0.2679284850880504 0.0010528676\n",
      "Npfcan_deltaR npf 13\n",
      "[-0.44180672079324723, 0.06581653185188775] 0.2538116263225675 0.0007914484\n",
      "Npfcan_deltaR npf 14\n",
      "[-0.4205562460422516, 0.06581653185188775] 0.24318638894706968 1.3969839e-09\n",
      "Npfcan_deltaR npf 15\n",
      "[-0.3947852888703346, 0.06543993502855305] 0.23011261194944382 1.6298145e-09\n",
      "Npfcan_deltaR npf 16\n",
      "[-0.3659213700890541, 0.0026744494680315256] 0.18429790977854282 1.6298145e-09\n",
      "Npfcan_deltaR npf 17\n",
      "[-0.33619830787181854, 0.0026744494680315256] 0.16943637866992503 1.6298144e-09\n",
      "Npfcan_deltaR npf 18\n",
      "[-0.3019086155295372, 0.0026744494680315256] 0.15229153249878435 1.8626451e-09\n",
      "Npfcan_deltaR npf 19\n",
      "[-0.25914693206548695, 0.0026744494680315256] 0.13091069076675924 1.6298145e-09\n",
      "Npfcan_deltaR npf 20\n",
      "[-0.20673488795757294, 0.0026744494680315256] 0.10470466871280223 1.6298145e-09\n",
      "Npfcan_deltaR npf 21\n",
      "[0.0026744494680315256, 0.0026744494680315256] 0.0 1.6298144e-09\n",
      "Npfcan_deltaR npf 22\n",
      "[0.0026744494680315256, 0.0026744494680315256] 0.0 1.8626451e-09\n",
      "Npfcan_deltaR npf 23\n",
      "[0.0026744494680315256, 0.0026744494680315256] 0.0 1.6298146e-09\n",
      "Npfcan_deltaR npf 24\n",
      "[0.0026744494680315256, 0.0026744494680315256] 0.0 1.6298144e-09\n",
      "Npfcan_isGamma npf 0\n",
      "[0.0, 1.0] 0.5 0.44150478\n",
      "Npfcan_isGamma npf 1\n",
      "[0.0, 1.0] 0.5 0.47074157\n",
      "Npfcan_isGamma npf 2\n",
      "[0.0, 1.0] 0.5 0.46740183\n",
      "Npfcan_isGamma npf 3\n",
      "[0.0, 1.0] 0.5 0.49941707\n",
      "Npfcan_isGamma npf 4\n",
      "[0.0, 1.0] 0.5 0.4897941\n",
      "Npfcan_isGamma npf 5\n",
      "[0.0, 1.0] 0.5 0.46982932\n",
      "Npfcan_isGamma npf 6\n",
      "[0.0, 1.0] 0.5 0.44237953\n",
      "Npfcan_isGamma npf 7\n",
      "[0.0, 1.0] 0.5 0.4110549\n",
      "Npfcan_isGamma npf 8\n",
      "[0.0, 1.0] 0.5 0.43467516\n",
      "Npfcan_isGamma npf 9\n",
      "[0.0, 1.0] 0.5 0.45066026\n",
      "Npfcan_isGamma npf 10\n",
      "[0.0, 1.0] 0.5 0.4620859\n",
      "Npfcan_isGamma npf 11\n",
      "[0.0, 1.0] 0.5 0.4743808\n",
      "Npfcan_isGamma npf 12\n",
      "[0.0, 1.0] 0.5 0.48151553\n",
      "Npfcan_isGamma npf 13\n",
      "[0.0, 1.0] 0.5 0.48727155\n",
      "Npfcan_isGamma npf 14\n",
      "[0.0, 1.0] 0.5 0.490763\n",
      "Npfcan_isGamma npf 15\n",
      "[0.0, 1.0] 0.5 0.49288034\n",
      "Npfcan_isGamma npf 16\n",
      "[0.0, 1.0] 0.5 0.49421638\n",
      "Npfcan_isGamma npf 17\n",
      "[0.0, 1.0] 0.5 0.4950553\n",
      "Npfcan_isGamma npf 18\n",
      "[0.0, 1.0] 0.5 0.49563396\n",
      "Npfcan_isGamma npf 19\n",
      "[0.0, 1.0] 0.5 0.49602962\n",
      "Npfcan_isGamma npf 20\n",
      "[0.0, 1.0] 0.5 0.49628854\n",
      "Npfcan_isGamma npf 21\n",
      "[0.0, 1.0] 0.5 0.49646893\n",
      "Npfcan_isGamma npf 22\n",
      "[0.0, 1.0] 0.5 0.4965712\n",
      "Npfcan_isGamma npf 23\n",
      "[0.0, 1.0] 0.5 0.49667278\n",
      "Npfcan_isGamma npf 24\n",
      "[0.0, 1.0] 0.5 0.49672794\n",
      "Npfcan_HadFrac npf 0\n",
      "[0.0, 1.0] 0.5 0.42150113\n",
      "Npfcan_HadFrac npf 1\n",
      "[0.0, 1.0] 0.5 0.45702198\n",
      "Npfcan_HadFrac npf 2\n",
      "[0.0, 1.0] 0.5 0.45289665\n",
      "Npfcan_HadFrac npf 3\n",
      "[0.0, 1.0] 0.5 0.0\n",
      "Npfcan_HadFrac npf 4\n",
      "[0.0, 1.0] 0.5 0.0\n",
      "Npfcan_HadFrac npf 5\n",
      "[0.0, 1.0] 0.5 0.0\n",
      "Npfcan_HadFrac npf 6\n",
      "[0.0, 1.0] 0.5 0.0\n",
      "Npfcan_HadFrac npf 7\n",
      "[0.0, 1.0] 0.5 0.0\n",
      "Npfcan_HadFrac npf 8\n",
      "[0.0, 1.0] 0.5 0.0\n",
      "Npfcan_HadFrac npf 9\n",
      "[0.0, 1.0] 0.5 0.0\n",
      "Npfcan_HadFrac npf 10\n",
      "[0.0, 1.0] 0.5 0.40405896\n",
      "Npfcan_HadFrac npf 11\n",
      "[0.0, 1.0] 0.5 0.4114106\n",
      "Npfcan_HadFrac npf 12\n",
      "[0.0, 1.0] 0.5 0.41684392\n",
      "Npfcan_HadFrac npf 13\n",
      "[0.0, 1.0] 0.5 0.42303738\n",
      "Npfcan_HadFrac npf 14\n",
      "[0.0, 1.0] 0.5 0.42706442\n",
      "Npfcan_HadFrac npf 15\n",
      "[0.0, 1.0] 0.5 0.42994145\n",
      "Npfcan_HadFrac npf 16\n",
      "[0.0, 1.0] 0.5 0.43216175\n",
      "Npfcan_HadFrac npf 17\n",
      "[0.0, 1.0] 0.5 0.43391356\n",
      "Npfcan_HadFrac npf 18\n",
      "[0.0, 1.0] 0.5 0.43516573\n",
      "Npfcan_HadFrac npf 19\n",
      "[0.0, 1.0] 0.5 0.43594128\n",
      "Npfcan_HadFrac npf 20\n",
      "[0.0, 1.0] 0.5 0.43660337\n",
      "Npfcan_HadFrac npf 21\n",
      "[0.0, 1.0] 0.5 0.43704894\n",
      "Npfcan_HadFrac npf 22\n",
      "[0.0, 1.0] 0.5 0.43743178\n",
      "Npfcan_HadFrac npf 23\n",
      "[0.0, 1.0] 0.5 0.4376598\n",
      "Npfcan_HadFrac npf 24\n",
      "[0.0, 1.0] 0.5 0.43783644\n",
      "Npfcan_drminsv npf 0\n",
      "[-0.3978176435828209, 7.464285880050677e-40] 0.19890882179141045 0.15646775\n",
      "Npfcan_drminsv npf 1\n",
      "[-0.390844911634922, 0.0] 0.195422455817461 0.13411307\n",
      "Npfcan_drminsv npf 2\n",
      "[-0.37193283200263977, 0.0] 0.18596641600131988 0.114789836\n",
      "Npfcan_drminsv npf 3\n",
      "[-0.35999751478433606, 2.4447950680407006e-39] 0.17999875739216803 0.08492805\n",
      "Npfcan_drminsv npf 4\n",
      "[-0.3444010704755783, 2.9553105193696606e-39] 0.17220053523778914 0.062113896\n",
      "Npfcan_drminsv npf 5\n",
      "[-0.3310116705298424, 2.6967991748528036e-40] 0.1655058352649212 0.038875833\n",
      "Npfcan_drminsv npf 6\n",
      "[-0.31752007275819777, 2.7103357180181813e-40] 0.15876003637909888 0.017496683\n",
      "Npfcan_drminsv npf 7\n",
      "[-0.3039237904548645, 2.7207191995089816e-40] 0.15196189522743225 0.001119235\n",
      "Npfcan_drminsv npf 8\n",
      "[-0.2903465259075165, 8.710872911876777e-09] 0.1451732673091947 4.183735e-09\n",
      "Npfcan_drminsv npf 9\n",
      "[-0.27575342237949374, 8.710872911876777e-09] 0.13787671554518333 4.322128e-09\n",
      "Npfcan_drminsv npf 10\n",
      "[-0.2613423585891724, 8.710872911876777e-09] 0.13067118365002264 4.354607e-09\n",
      "Npfcan_drminsv npf 11\n",
      "[-0.24499527379870414, 8.710872911876777e-09] 0.12249764125478853 4.348584e-09\n",
      "Npfcan_drminsv npf 12\n",
      "[-0.23397743403911592, 8.710872911876777e-09] 0.11698872137499441 4.321812e-09\n",
      "Npfcan_drminsv npf 13\n",
      "[-0.21057058453559874, 8.710872911876777e-09] 0.10528529662323582 4.290615e-09\n",
      "Npfcan_drminsv npf 14\n",
      "[-0.19088741466403006, 8.710872911876777e-09] 0.09544371168745149 4.2662784e-09\n",
      "Npfcan_drminsv npf 15\n",
      "[-0.16967513456940653, 8.710872911876777e-09] 0.08483757164013972 4.2455857e-09\n",
      "Npfcan_drminsv npf 16\n",
      "[-0.14550623953342437, 8.710872911876777e-09] 0.07275312412214864 4.2278634e-09\n",
      "Npfcan_drminsv npf 17\n",
      "[-0.11587653219699859, 8.710872911876777e-09] 0.05793827045393575 4.2136774e-09\n",
      "Npfcan_drminsv npf 18\n",
      "[-0.08168004721403122, 8.710872911876777e-09] 0.04084002796245206 4.2024992e-09\n",
      "Npfcan_drminsv npf 19\n",
      "[-0.02923716127872465, 8.710872911876777e-09] 0.01461858499479878 4.1936974e-09\n",
      "Npfcan_drminsv npf 20\n",
      "[0.0, 8.710872911876777e-09] 4.3554364559383885e-09 4.1871244e-09\n",
      "Npfcan_drminsv npf 21\n",
      "[0.0, 8.710872911876777e-09] 4.3554364559383885e-09 4.1823323e-09\n",
      "Npfcan_drminsv npf 22\n",
      "[0.0, 8.710872911876777e-09] 4.3554364559383885e-09 4.178515e-09\n",
      "Npfcan_drminsv npf 23\n",
      "[0.0, 8.710872911876777e-09] 4.3554364559383885e-09 4.1758557e-09\n",
      "Npfcan_drminsv npf 24\n",
      "[0.0, 8.710872911876777e-09] 4.3554364559383885e-09 4.1739106e-09\n",
      "Npfcan_puppiw npf 0\n",
      "[0.0, 1.0] 0.5 0.0022403314\n",
      "Npfcan_puppiw npf 1\n",
      "[0.6431372761726379, 1.0] 0.17843136191368103 0.001960039\n",
      "Npfcan_puppiw npf 2\n",
      "[0.6784313917160034, 1.0] 0.1607843041419983 0.0019607525\n",
      "Npfcan_puppiw npf 3\n",
      "[0.0, 1.0] 0.5 0.3751356\n",
      "Npfcan_puppiw npf 4\n",
      "[0.0, 1.0] 0.5 0.49092624\n",
      "Npfcan_puppiw npf 5\n",
      "[0.0, 1.0] 0.5 0.46791387\n",
      "Npfcan_puppiw npf 6\n",
      "[0.0, 1.0] 0.5 0.438943\n",
      "Npfcan_puppiw npf 7\n",
      "[0.0, 1.0] 0.5 0.4048843\n",
      "Npfcan_puppiw npf 8\n",
      "[0.0, 1.0] 0.5 0.44744945\n",
      "Npfcan_puppiw npf 9\n",
      "[0.0, 1.0] 0.5 0.4672618\n",
      "Npfcan_puppiw npf 10\n",
      "[0.0, 1.0] 0.5 0.497107\n",
      "Npfcan_puppiw npf 11\n",
      "[0.0, 1.0] 0.5 0.45595738\n",
      "Npfcan_puppiw npf 12\n",
      "[9.219562986332269e-41, 1.0] 0.5 0.30476066\n",
      "Npfcan_puppiw npf 13\n",
      "[2.3694278276172396e-38, 1.0] 0.5 0.001870542\n",
      "Npfcan_puppiw npf 14\n",
      "[0.9960784316062927, 1.0] 0.0019607841968536377 0.0018328641\n",
      "Npfcan_puppiw npf 15\n",
      "[0.9960784316062927, 1.0] 0.0019607841968536377 0.0018477627\n",
      "Npfcan_puppiw npf 16\n",
      "[0.9960784316062927, 1.0] 0.0019607841968536377 0.0018582972\n",
      "Npfcan_puppiw npf 17\n",
      "[0.9960784316062927, 1.0] 0.0019607841968536377 0.0018659385\n",
      "Npfcan_puppiw npf 18\n",
      "[0.9960784316062927, 1.0] 0.0019607841968536377 0.0018712713\n",
      "Npfcan_puppiw npf 19\n",
      "[0.9960784316062927, 1.0] 0.0019607841968536377 0.0018751922\n",
      "Npfcan_puppiw npf 20\n",
      "[0.9960784316062927, 1.0] 0.0019607841968536377 0.001878006\n",
      "Npfcan_puppiw npf 21\n",
      "[0.9960784316062927, 1.0] 0.0019607841968536377 0.0018799797\n",
      "Npfcan_puppiw npf 22\n",
      "[0.9960784316062927, 1.0] 0.0019607841968536377 0.001881413\n",
      "Npfcan_puppiw npf 23\n",
      "[0.9960784316062927, 1.0] 0.0019607841968536377 0.0018825338\n",
      "Npfcan_puppiw npf 24\n",
      "[0.9960784316062927, 1.0] 0.0019607841968536377 0.0018832943\n"
     ]
    }
   ],
   "source": [
    "for (i,key) in enumerate(npf_branches):\n",
    "    for cand in range(25):\n",
    "        range_inputs, standardized_epsilon = quantile_min_max(key,'npf',cand)\n",
    "        scale_epsilon = (range_inputs[1] - range_inputs[0])/2\n",
    "        npf_epsilons[i,cand] = scale_epsilon\n",
    "        npf_standardized_epsilons[i,cand] = standardized_epsilon\n",
    "        npf_ranges[i,cand] = range_inputs\n",
    "        print(range_inputs, scale_epsilon, standardized_epsilon)"
   ]
  },
  {
   "cell_type": "code",
   "execution_count": 156,
   "metadata": {},
   "outputs": [],
   "source": [
    "vtx_epsilons = np.zeros((len(vtx_branches),5))"
   ]
  },
  {
   "cell_type": "code",
   "execution_count": 157,
   "metadata": {},
   "outputs": [],
   "source": [
    "vtx_standardized_epsilons = np.zeros((len(vtx_branches),5))"
   ]
  },
  {
   "cell_type": "code",
   "execution_count": 158,
   "metadata": {},
   "outputs": [],
   "source": [
    "vtx_ranges = np.zeros((len(vtx_branches),5, 2))"
   ]
  },
  {
   "cell_type": "code",
   "execution_count": 159,
   "metadata": {
    "scrolled": true
   },
   "outputs": [
    {
     "name": "stdout",
     "output_type": "stream",
     "text": [
      "sv_pt vtx 0\n",
      "[0.0, 285.0325842285157] 142.51629211425785 7.441725\n",
      "sv_pt vtx 1\n",
      "[0.0, 306.53417083740237] 153.26708541870119 9.256982\n",
      "sv_pt vtx 2\n",
      "[0.0, 314.7414782714844] 157.3707391357422 10.284605\n",
      "sv_pt vtx 3\n",
      "[0.0, 317.2212841796878] 158.6106420898439 10.685772\n",
      "sv_pt vtx 4\n",
      "[0.0, 317.63570098876966] 158.81785049438483 10.85317\n",
      "sv_deltaR vtx 0\n",
      "[-0.49694663971662517, 4.121541362485775e-40] 0.24847331985831259 0.19874609\n",
      "sv_deltaR vtx 1\n",
      "[-0.49415895342826843, 0.06452108159661293] 0.2793400175124407 0.10615186\n",
      "sv_deltaR vtx 2\n",
      "[-0.48711838722229006, 0.05470199991017629] 0.2709101935662332 0.0020843395\n",
      "sv_deltaR vtx 3\n",
      "[-0.4584965601563454, 0.010895682685077198] 0.23469612142071128 0.00028885732\n",
      "sv_deltaR vtx 4\n",
      "[0.0, 0.010515761300921453] 0.0052578806504607264 0.00029516398\n",
      "sv_mass vtx 0\n",
      "[0.0, 10.339711933136] 5.169855966568 0.44771332\n",
      "sv_mass vtx 1\n",
      "[0.0, 12.393943815231324] 6.196971907615662 0.51221937\n",
      "sv_mass vtx 2\n",
      "[0.0, 13.175008916854871] 6.587504458427436 0.55090326\n",
      "sv_mass vtx 3\n",
      "[0.0, 13.589503078460702] 6.794751539230351 0.5649479\n",
      "sv_mass vtx 4\n",
      "[0.0, 13.721151485443116] 6.860575742721558 0.5708702\n",
      "sv_etarel vtx 0\n",
      "[-0.49944168448448184, 4.121541362485775e-40] 0.24972084224224092 0.21565253\n",
      "sv_etarel vtx 1\n",
      "[-0.49832601130008697, 0.06125771630555392] 0.27979186380282045 0.1358056\n",
      "sv_etarel vtx 2\n",
      "[-0.49491049528121944, 0.13600268676877025] 0.31545659102499485 0.0012045151\n",
      "sv_etarel vtx 3\n",
      "[-0.4787093871831894, 0.0024202025961130857] 0.24056479488965124 0.0011345166\n",
      "sv_etarel vtx 4\n",
      "[0.0, 0.0024202025961130857] 0.0012101012980565429 0.0011468707\n",
      "sv_phirel vtx 0\n",
      "[-0.4994223135709763, 4.121541362485775e-40] 0.24971115678548814 0.2148084\n",
      "sv_phirel vtx 1\n",
      "[-0.4982531094551086, 0.06143338233232498] 0.2798432458937168 0.1274844\n",
      "sv_phirel vtx 2\n",
      "[-0.4944026240706444, 0.061341469399631025] 0.2778720467351377 0.025580145\n",
      "sv_phirel vtx 3\n",
      "[-0.47745383501052857, 0.061341469399631025] 0.2693976522050798 0.025654083\n",
      "sv_phirel vtx 4\n",
      "[0.0, 0.05981858775019647] 0.029909293875098233 0.02554573\n",
      "sv_ntracks vtx 0\n",
      "[0.0, 8.0] 4.0 1.1929868\n",
      "sv_ntracks vtx 1\n",
      "[0.0, 9.0] 4.5 1.1721193\n",
      "sv_ntracks vtx 2\n",
      "[0.0, 9.0] 4.5 1.2030907\n",
      "sv_ntracks vtx 3\n",
      "[0.0, 9.0] 4.5 1.2070369\n",
      "sv_ntracks vtx 4\n",
      "[0.0, 9.0] 4.5 1.2099794\n",
      "sv_chi2 vtx 0\n",
      "[0.0, 13.699542837142948] 6.849771418571474 0.7781944\n",
      "sv_chi2 vtx 1\n",
      "[0.0, 14.538860664367684] 7.269430332183842 0.9627945\n",
      "sv_chi2 vtx 2\n",
      "[0.0, 14.91108105659486] 7.45554052829743 1.0569931\n",
      "sv_chi2 vtx 3\n",
      "[0.0, 15.119763021469115] 7.559881510734558 1.0908166\n",
      "sv_chi2 vtx 4\n",
      "[0.0, 15.183154201507584] 7.591577100753792 1.1042043\n",
      "sv_normchi2 vtx 0\n",
      "[0.0, 6.570015044212342] 3.285007522106171 0.2912212\n",
      "sv_normchi2 vtx 1\n",
      "[0.0, 7.126118054389955] 3.5630590271949774 0.3358839\n",
      "sv_normchi2 vtx 2\n",
      "[0.0, 7.246561007499697] 3.6232805037498483 0.3596518\n",
      "sv_normchi2 vtx 3\n",
      "[0.0, 7.28451583385468] 3.64225791692734 0.36698714\n",
      "sv_normchi2 vtx 4\n",
      "[0.0, 7.295510663986217] 3.6477553319931086 0.36979073\n",
      "sv_dxy vtx 0\n",
      "[0.0, 13.990805063247736] 6.995402531623868 0.09519737\n",
      "sv_dxy vtx 1\n",
      "[0.0, 14.288956918716458] 7.144478459358229 0.10531249\n",
      "sv_dxy vtx 2\n",
      "[0.0, 14.305021591186552] 7.152510795593276 0.10960781\n",
      "sv_dxy vtx 3\n",
      "[0.0, 14.267610225677492] 7.133805112838746 0.110387705\n",
      "sv_dxy vtx 4\n",
      "[0.0, 14.272868356704738] 7.136434178352369 0.110568054\n",
      "sv_dxysig vtx 0\n",
      "[0.0, 284.9127169799826] 142.4563584899913 2.393271\n",
      "sv_dxysig vtx 1\n",
      "[0.0, 251.03064178466872] 125.51532089233436 2.5032582\n",
      "sv_dxysig vtx 2\n",
      "[0.0, 242.32712081909204] 121.16356040954602 2.5607677\n",
      "sv_dxysig vtx 3\n",
      "[0.0, 242.22862304687555] 121.11431152343778 2.5641947\n",
      "sv_dxysig vtx 4\n",
      "[0.0, 242.28799026489295] 121.14399513244648 2.563235\n",
      "sv_d3d vtx 0\n",
      "[0.0, 20.21193799972535] 10.105968999862675 0.16393094\n",
      "sv_d3d vtx 1\n",
      "[0.0, 20.751819133758566] 10.375909566879283 0.17648211\n",
      "sv_d3d vtx 2\n",
      "[0.0, 20.728412437438998] 10.364206218719499 0.18227643\n",
      "sv_d3d vtx 3\n",
      "[0.0, 20.67250806808473] 10.336254034042366 0.18290949\n",
      "sv_d3d vtx 4\n",
      "[0.0, 20.66340749740602] 10.33170374870301 0.18287124\n",
      "sv_d3dsig vtx 0\n",
      "[0.0, 285.54680480957074] 142.77340240478537 2.3922057\n",
      "sv_d3dsig vtx 1\n",
      "[0.0, 252.0392196655274] 126.0196098327637 2.5073879\n",
      "sv_d3dsig vtx 2\n",
      "[0.0, 243.99056686401374] 121.99528343200687 2.5644655\n",
      "sv_d3dsig vtx 3\n",
      "[0.0, 243.90022354125986] 121.95011177062993 2.5682616\n",
      "sv_d3dsig vtx 4\n",
      "[0.0, 243.9111068725588] 121.9555534362794 2.5673294\n",
      "sv_costhetasvpv vtx 0\n",
      "[0.0, 0.9999998807907104] 0.4999999403953552 0.48994038\n",
      "sv_costhetasvpv vtx 1\n",
      "[0.0, 0.9999998807907104] 0.4999999403953552 0.47892636\n",
      "sv_costhetasvpv vtx 2\n",
      "[0.0, 0.9999998807907104] 0.4999999403953552 0.488498\n",
      "sv_costhetasvpv vtx 3\n",
      "[0.0, 0.9999998807907104] 0.4999999403953552 0.49080718\n",
      "sv_costhetasvpv vtx 4\n",
      "[0.0, 0.9999998807907104] 0.4999999403953552 0.49152443\n",
      "sv_enratio vtx 0\n",
      "[0.0, 0.7777923464775085] 0.38889617323875425 0.06097018\n",
      "sv_enratio vtx 1\n",
      "[0.0, 0.7647822034358979] 0.38239110171794893 0.058982976\n",
      "sv_enratio vtx 2\n",
      "[0.0, 0.759600402712822] 0.379800201356411 0.05907209\n",
      "sv_enratio vtx 3\n",
      "[0.0, 0.7592956823110582] 0.3796478411555291 0.05868278\n",
      "sv_enratio vtx 4\n",
      "[0.0, 0.7593000733852391] 0.37965003669261954 0.058471117\n"
     ]
    }
   ],
   "source": [
    "for (i,key) in enumerate(vtx_branches):\n",
    "    for cand in range(5):\n",
    "        range_inputs, standardized_epsilon = quantile_min_max(key,'vtx',cand)\n",
    "        scale_epsilon = (range_inputs[1] - range_inputs[0])/2\n",
    "        vtx_epsilons[i,cand] = scale_epsilon\n",
    "        vtx_standardized_epsilons[i,cand] = standardized_epsilon\n",
    "        vtx_ranges[i,cand] = range_inputs\n",
    "        print(range_inputs, scale_epsilon, standardized_epsilon)"
   ]
  },
  {
   "cell_type": "code",
   "execution_count": 160,
   "metadata": {},
   "outputs": [],
   "source": [
    "cpf_pts_epsilons = np.zeros((len(cpf_pts_branches),25))"
   ]
  },
  {
   "cell_type": "code",
   "execution_count": 161,
   "metadata": {},
   "outputs": [],
   "source": [
    "cpf_pts_standardized_epsilons = np.zeros((len(cpf_pts_branches),25))"
   ]
  },
  {
   "cell_type": "code",
   "execution_count": 162,
   "metadata": {},
   "outputs": [],
   "source": [
    "cpf_pts_ranges = np.zeros((len(cpf_pts_branches),25, 2))"
   ]
  },
  {
   "cell_type": "code",
   "execution_count": 163,
   "metadata": {
    "scrolled": true
   },
   "outputs": [
    {
     "name": "stdout",
     "output_type": "stream",
     "text": [
      "Cpfcan_pt cpf_pts 0\n",
      "[0.9677734375, 87.87562500000058] 43.45392578125029 1.4446652\n",
      "Cpfcan_pt cpf_pts 1\n",
      "[9.097372562840075e-40, 109.8125] 54.90625 1.9807967\n",
      "Cpfcan_pt cpf_pts 2\n",
      "[0.0, 124.375] 62.1875 2.2249932\n",
      "Cpfcan_pt cpf_pts 3\n",
      "[0.9521484375, 129.625] 64.33642578125 2.307941\n",
      "Cpfcan_pt cpf_pts 4\n",
      "[0.4097786843776703, 128.125] 63.857610657811165 2.3104591\n",
      "Cpfcan_pt cpf_pts 5\n",
      "[0.19071844220161438, 128.875] 64.34214077889919 2.264874\n",
      "Cpfcan_pt cpf_pts 6\n",
      "[0.0, 123.5625] 61.78125 2.3024862\n",
      "Cpfcan_pt cpf_pts 7\n",
      "[0.0, 116.875] 58.4375 2.1381013\n",
      "Cpfcan_pt cpf_pts 8\n",
      "[0.0, 112.3125] 56.15625 1.8277055\n",
      "Cpfcan_pt cpf_pts 9\n",
      "[0.0, 106.3125] 53.15625 1.5344535\n",
      "Cpfcan_pt cpf_pts 10\n",
      "[0.0, 98.125] 49.0625 1.2525698\n",
      "Cpfcan_pt cpf_pts 11\n",
      "[0.0, 89.75] 44.875 0.9735075\n",
      "Cpfcan_pt cpf_pts 12\n",
      "[0.0, 81.62562500000058] 40.81281250000029 0.7234209\n",
      "Cpfcan_pt cpf_pts 13\n",
      "[0.0, 75.9375] 37.96875 0.50129884\n",
      "Cpfcan_pt cpf_pts 14\n",
      "[0.0, 102.5] 51.25 1.6759075\n",
      "Cpfcan_pt cpf_pts 15\n",
      "[0.0, 118.25] 59.125 2.465322\n",
      "Cpfcan_pt cpf_pts 16\n",
      "[0.0, 128.625] 64.3125 2.9875133\n",
      "Cpfcan_pt cpf_pts 17\n",
      "[0.0, 133.5] 66.75 3.353414\n",
      "Cpfcan_pt cpf_pts 18\n",
      "[0.0, 135.75] 67.875 3.7929587\n",
      "Cpfcan_pt cpf_pts 19\n",
      "[1.970056363986202e-40, 70.11334228515625] 35.056671142578125 3.9997659\n",
      "Cpfcan_pt cpf_pts 20\n",
      "[0.058384403586387634, 39.3125] 19.627057798206806 3.9315782\n",
      "Cpfcan_pt cpf_pts 21\n",
      "[0.0637507438659668, 66.43752593994142] 33.18688759803773 2.7848284\n",
      "Cpfcan_pt cpf_pts 22\n",
      "[0.04948242008686066, 31.416746139526367] 15.683631859719753 3.0336323\n",
      "Cpfcan_pt cpf_pts 23\n",
      "[0.07401789724826813, 28.78125] 14.353616051375866 2.7310257\n",
      "Cpfcan_pt cpf_pts 24\n",
      "[0.055143292993307114, 24.484531250000146] 12.21469397850342 2.5987933\n",
      "Cpfcan_eta cpf_pts 0\n",
      "[-2.3381450176239014, 2.3368632793426514] 2.3375041484832764 0.603994\n",
      "Cpfcan_eta cpf_pts 1\n",
      "[-2.346203727722168, 2.3487674427032488] 2.3474855852127083 0.5950223\n",
      "Cpfcan_eta cpf_pts 2\n",
      "[-2.3445539474487305, 2.3452863693237305] 2.3449201583862305 0.56981117\n",
      "Cpfcan_eta cpf_pts 3\n",
      "[-2.3368632793426514, 2.3374125957489014] 2.3371379375457764 0.55952865\n",
      "Cpfcan_eta cpf_pts 4\n",
      "[-2.319101572036743, 2.315073013305664] 2.3170872926712036 0.5189809\n",
      "Cpfcan_eta cpf_pts 5\n",
      "[-2.2920010089874268, 2.2888882160186768] 2.2904446125030518 0.46198604\n",
      "Cpfcan_eta cpf_pts 6\n",
      "[-2.2511672973632812, 2.2489700317382812] 2.2500686645507812 0.27093408\n",
      "Cpfcan_eta cpf_pts 7\n",
      "[-2.2097842693328857, 2.2081363201141357] 2.2089602947235107 0.18111555\n",
      "Cpfcan_eta cpf_pts 8\n",
      "[-2.164189577102661, 2.1636420917511003] 2.1639158344268807 0.10274161\n",
      "Cpfcan_eta cpf_pts 9\n",
      "[-2.1087069511413574, 2.1131033158302324] 2.1109051334857947 0.040129304\n",
      "Cpfcan_eta cpf_pts 10\n",
      "[-2.0561540126800537, 2.052493734359743] 2.0543238735198983 0.001794679\n",
      "Cpfcan_eta cpf_pts 11\n",
      "[-1.9959123563766479, 1.9902358496189134] 1.9930741029977805 0.0\n",
      "Cpfcan_eta cpf_pts 12\n",
      "[-1.931455373764038, 1.9301754665374773] 1.9308154201507577 0.0\n",
      "Cpfcan_eta cpf_pts 13\n",
      "[-1.8704794645309448, 1.8673665523529053] 1.868923008441925 0.0\n",
      "Cpfcan_eta cpf_pts 14\n",
      "[-1.808771014213562, 1.808221697807312] 1.808496356010437 0.0\n",
      "Cpfcan_eta cpf_pts 15\n",
      "[-1.7483444213867188, 1.7512741088867188] 1.7498092651367188 0.0\n",
      "Cpfcan_eta cpf_pts 16\n",
      "[-1.686819076538086, 1.694143533706665] 1.6904813051223755 0.0\n",
      "Cpfcan_eta cpf_pts 17\n",
      "[-1.6260261535644531, 1.6337186527252214] 1.6298724031448373 0.0\n",
      "Cpfcan_eta cpf_pts 18\n",
      "[-1.5699978733062743, 1.5694467258453386] 1.5697222995758064 0.0\n",
      "Cpfcan_eta cpf_pts 19\n",
      "[-1.5004119873046875, 1.7606146764755266] 1.630513331890107 0.0\n",
      "Cpfcan_eta cpf_pts 20\n",
      "[-1.474595113992691, 1.8560154867172258] 1.6653053003549583 0.0\n",
      "Cpfcan_eta cpf_pts 21\n",
      "[-1.4350413084030151, 1.9103976488113403] 1.6727194786071777 0.0092515685\n",
      "Cpfcan_eta cpf_pts 22\n",
      "[-1.202678928375244, 1.929807424545288] 1.566243176460266 0.03129659\n",
      "Cpfcan_eta cpf_pts 23\n",
      "[-1.1005011463165282, 1.9481185674667358] 1.524309856891632 0.05380214\n",
      "Cpfcan_eta cpf_pts 24\n",
      "[-0.9886202478408813, 1.958189606666565] 1.473404927253723 0.07489793\n",
      "Cpfcan_phi cpf_pts 0\n",
      "[-3.078316214084625, 3.0780277252197266] 3.0781719696521757 1.0870693\n",
      "Cpfcan_phi cpf_pts 1\n",
      "[-3.078225803375244, 3.0768554449081424] 3.077540624141693 1.0632478\n",
      "Cpfcan_phi cpf_pts 2\n",
      "[-3.0775344562530518, 3.075670783519745] 3.0766026198863985 1.0195348\n",
      "Cpfcan_phi cpf_pts 3\n",
      "[-3.0744035267829894, 3.0822248530387877] 3.0783141899108886 1.0245179\n",
      "Cpfcan_phi cpf_pts 4\n",
      "[-3.0684452414512635, 3.0782180190086366] 3.07333163022995 0.9801526\n",
      "Cpfcan_phi cpf_pts 5\n",
      "[-3.0584825015068056, 3.0666952562332153] 3.0625888788700104 0.9082265\n",
      "Cpfcan_phi cpf_pts 6\n",
      "[-3.0490131783485412, 3.0517566680908206] 3.050384923219681 0.51786685\n",
      "Cpfcan_phi cpf_pts 7\n",
      "[-3.03797678232193, 3.0362281179428106] 3.0371024501323705 0.35467297\n",
      "Cpfcan_phi cpf_pts 8\n",
      "[-3.0216692733764647, 3.0200162220001223] 3.0208427476882935 0.20641822\n",
      "Cpfcan_phi cpf_pts 9\n",
      "[-3.006044199466705, 3.0050787448883067] 3.005561472177506 0.08090913\n",
      "Cpfcan_phi cpf_pts 10\n",
      "[-2.984856915473938, 2.9863258957862864] 2.985591405630112 0.003279627\n",
      "Cpfcan_phi cpf_pts 11\n",
      "[-2.9628881359100343, 2.968548774719239] 2.9657184553146365 0.0\n",
      "Cpfcan_phi cpf_pts 12\n",
      "[-2.940715043544769, 2.9388599491119396] 2.9397874963283543 0.0\n",
      "Cpfcan_phi cpf_pts 13\n",
      "[-2.913960003852844, 2.9121039080619813] 2.913031955957413 0.0\n",
      "Cpfcan_phi cpf_pts 14\n",
      "[-2.8865167927742004, 2.882708690166476] 2.884612741470338 0.0\n",
      "Cpfcan_phi cpf_pts 15\n",
      "[-2.850768401622772, 2.846961333751678] 2.848864867687225 0.0\n",
      "Cpfcan_phi cpf_pts 16\n",
      "[-2.81717467546463, 2.807206904888154] 2.812190790176392 0.0\n",
      "Cpfcan_phi cpf_pts 17\n",
      "[-2.7744045662879944, 2.7582930803298957] 2.7663488233089453 0.0\n",
      "Cpfcan_phi cpf_pts 18\n",
      "[-2.72761949300766, 2.702132077217104] 2.714875785112382 0.0\n",
      "Cpfcan_phi cpf_pts 19\n",
      "[-2.6731339049339295, 2.898526282310487] 2.7858300936222085 0.0\n",
      "Cpfcan_phi cpf_pts 20\n",
      "[-2.6599481368064883, 2.9646446228027354] 2.8122963798046117 0.0\n",
      "Cpfcan_phi cpf_pts 21\n",
      "[-2.6425621628761293, 2.9967689728736877] 2.8196655678749085 0.02453064\n",
      "Cpfcan_phi cpf_pts 22\n",
      "[-2.460716276168823, 3.0089852643013018] 2.734850770235062 0.07816355\n",
      "Cpfcan_phi cpf_pts 23\n",
      "[-2.3465607666969297, 3.0192429161071788] 2.682901841402054 0.13233465\n",
      "Cpfcan_phi cpf_pts 24\n",
      "[-2.2239959144592287, 3.0283188462257393] 2.626157380342484 0.18573321\n",
      "Cpfcan_e cpf_pts 0\n",
      "[1.0685815584659577, 155.75328262329177] 77.34235053241291 2.7512918\n",
      "Cpfcan_e cpf_pts 1\n",
      "[9.097372562840075e-40, 186.04214950561536] 93.02107475280768 3.651889\n",
      "Cpfcan_e cpf_pts 2\n",
      "[0.0, 208.9457769775395] 104.47288848876975 4.0593452\n",
      "Cpfcan_e cpf_pts 3\n",
      "[1.0523881649971008, 216.19690811157258] 107.57225997328774 4.318146\n",
      "Cpfcan_e cpf_pts 4\n",
      "[1.0031359994411468, 215.08965499877934] 107.04325949966909 4.4719667\n",
      "Cpfcan_e cpf_pts 5\n",
      "[0.64626300573349, 216.8831999206543] 108.11846845746041 4.5634184\n",
      "Cpfcan_e cpf_pts 6\n",
      "[0.0, 206.13615829467793] 103.06807914733896 3.958535\n",
      "Cpfcan_e cpf_pts 7\n",
      "[0.0, 194.6740921020515] 97.33704605102575 3.5990734\n",
      "Cpfcan_e cpf_pts 8\n",
      "[0.0, 188.309637298584] 94.154818649292 2.99508\n",
      "Cpfcan_e cpf_pts 9\n",
      "[0.0, 174.58363128662148] 87.29181564331074 2.4679968\n",
      "Cpfcan_e cpf_pts 10\n",
      "[0.0, 161.1366984558106] 80.5683492279053 1.978392\n",
      "Cpfcan_e cpf_pts 11\n",
      "[0.0, 146.1364350891114] 73.0682175445557 1.5156475\n",
      "Cpfcan_e cpf_pts 12\n",
      "[0.0, 131.4988520812989] 65.74942604064945 1.1022772\n",
      "Cpfcan_e cpf_pts 13\n",
      "[0.0, 122.45550781250006] 61.22775390625003 0.74109614\n",
      "Cpfcan_e cpf_pts 14\n",
      "[0.0, 169.13713699340846] 84.56856849670423 2.561872\n",
      "Cpfcan_e cpf_pts 15\n",
      "[0.0, 190.42703826904312] 95.21351913452156 3.768835\n",
      "Cpfcan_e cpf_pts 16\n",
      "[0.0, 207.13023757934596] 103.56511878967298 4.564213\n",
      "Cpfcan_e cpf_pts 17\n",
      "[0.0, 213.53176681518622] 106.76588340759311 5.11121\n",
      "Cpfcan_e cpf_pts 18\n",
      "[0.0, 218.46252807617196] 109.23126403808598 5.7730327\n",
      "Cpfcan_e cpf_pts 19\n",
      "[1.9663858027887497e-40, 152.27878662109376] 76.13939331054688 9.247237\n",
      "Cpfcan_e cpf_pts 20\n",
      "[0.22282845810055735, 194.2105712890625] 96.99387141548097 11.487578\n",
      "Cpfcan_e cpf_pts 21\n",
      "[0.3190745836496355, 630.8901428222698] 315.2855341193101 15.681035\n",
      "Cpfcan_e cpf_pts 22\n",
      "[1.3608544707298278, 486.0517041015625] 242.34542481541635 12.789878\n",
      "Cpfcan_e cpf_pts 23\n",
      "[1.334823145866394, 407.5892333984375] 203.12720512628556 15.649333\n",
      "Cpfcan_e cpf_pts 24\n",
      "[1.3310208094120026, 275.52783203125] 137.098405610919 36.7209\n"
     ]
    }
   ],
   "source": [
    "for (i,key) in enumerate(cpf_pts_branches):\n",
    "    for cand in range(25):\n",
    "        range_inputs, standardized_epsilon = quantile_min_max(key,'cpf_pts',cand)\n",
    "        scale_epsilon = (range_inputs[1] - range_inputs[0])/2\n",
    "        cpf_pts_epsilons[i,cand] = scale_epsilon\n",
    "        cpf_pts_standardized_epsilons[i,cand] = standardized_epsilon\n",
    "        cpf_pts_ranges[i,cand] = range_inputs\n",
    "        print(range_inputs, scale_epsilon, standardized_epsilon)"
   ]
  },
  {
   "cell_type": "code",
   "execution_count": 164,
   "metadata": {},
   "outputs": [],
   "source": [
    "npf_pts_epsilons = np.zeros((len(npf_pts_branches),25))"
   ]
  },
  {
   "cell_type": "code",
   "execution_count": 165,
   "metadata": {},
   "outputs": [],
   "source": [
    "npf_pts_standardized_epsilons = np.zeros((len(npf_pts_branches),25))"
   ]
  },
  {
   "cell_type": "code",
   "execution_count": 166,
   "metadata": {},
   "outputs": [],
   "source": [
    "npf_pts_ranges = np.zeros((len(npf_pts_branches),25, 2))"
   ]
  },
  {
   "cell_type": "code",
   "execution_count": 167,
   "metadata": {
    "scrolled": true
   },
   "outputs": [
    {
     "name": "stdout",
     "output_type": "stream",
     "text": [
      "Npfcan_pt npf_pts 0\n",
      "[0.0, 581.0] 290.5 14.346542\n",
      "Npfcan_pt npf_pts 1\n",
      "[0.9814453125, 435.0] 217.00927734375 4.895536\n",
      "Npfcan_pt npf_pts 2\n",
      "[0.7516387701034546, 162.75125000000116] 80.99980561494885 2.2259796\n",
      "Npfcan_pt npf_pts 3\n",
      "[0.0, 84.75] 42.375 1.2458557\n",
      "Npfcan_pt npf_pts 4\n",
      "[0.0, 49.8125] 24.90625 1.0133272\n",
      "Npfcan_pt npf_pts 5\n",
      "[0.0, 32.9375] 16.46875 0.79312927\n",
      "Npfcan_pt npf_pts 6\n",
      "[0.0, 23.015781250000146] 11.507890625000073 0.6035957\n",
      "Npfcan_pt npf_pts 7\n",
      "[0.0, 18.390625] 9.1953125 0.4292611\n",
      "Npfcan_pt npf_pts 8\n",
      "[0.0, 26.734375] 13.3671875 0.759663\n",
      "Npfcan_pt npf_pts 9\n",
      "[0.0, 31.984531250000146] 15.992265625000073 0.9061684\n",
      "Npfcan_pt npf_pts 10\n",
      "[0.0, 34.75] 17.375 0.98390925\n",
      "Npfcan_pt npf_pts 11\n",
      "[0.0, 37.1875] 18.59375 1.0478921\n",
      "Npfcan_pt npf_pts 12\n",
      "[2.453547073781426e-40, 8.0390625] 4.01953125 0.6017748\n",
      "Npfcan_pt npf_pts 13\n",
      "[0.00027508570929057896, 6.88671875] 3.4432218321453547 0.4982606\n",
      "Npfcan_pt npf_pts 14\n",
      "[0.0059150224551558495, 5.65234375] 2.823214363772422 0.35565117\n",
      "Npfcan_pt npf_pts 15\n",
      "[0.0007976942579261959, 4.65234375] 2.325773027871037 0.15515603\n",
      "Npfcan_pt npf_pts 16\n",
      "[5.8088578953174874e-05, 3.689453125] 1.8446975182105234 0.11856445\n",
      "Npfcan_pt npf_pts 17\n",
      "[1.3175907042750623e-05, 2.748046875] 1.3740168495464786 0.09053377\n",
      "Npfcan_pt npf_pts 18\n",
      "[0.0004610279086045949, 2.0234375] 1.0114882360456976 0.045252673\n",
      "Npfcan_pt npf_pts 19\n",
      "[4.65701668872498e-06, 1.373046875] 0.6865211089916556 0.008317761\n",
      "Npfcan_pt npf_pts 20\n",
      "[1.1437074221021248e-07, 0.9882861328125045] 0.49414300922088117 0.0056355204\n",
      "Npfcan_pt npf_pts 21\n",
      "[6.704116231048829e-07, 0.016784746199846268] 0.008392037894111581 0.002925265\n",
      "Npfcan_pt npf_pts 22\n",
      "[5.503338229573274e-07, 0.00871579721570015] 0.004357623440938596 0.000107680244\n",
      "Npfcan_pt npf_pts 23\n",
      "[8.1426679635066e-12, 0.0005427607672754675] 0.0002713803795663998 2.3159806e-05\n",
      "Npfcan_pt npf_pts 24\n",
      "[4.720336968522254e-12, 7.904652738943696e-05] 3.9523261334549996e-05 1.07479755e-05\n",
      "Npfcan_eta npf_pts 0\n",
      "[-2.3335673809051514, 2.3306392860412615] 2.3321033334732064 0.5730824\n",
      "Npfcan_eta npf_pts 1\n",
      "[-2.2515335083007812, 2.2557470035552996] 2.2536402559280404 0.53120315\n",
      "Npfcan_eta npf_pts 2\n",
      "[-2.115483922958374, 2.1211585998535156] 2.118321261405945 0.45645785\n",
      "Npfcan_eta npf_pts 3\n",
      "[-1.9515976905822754, 1.9653327894210832] 1.9584652400016793 0.23565787\n",
      "Npfcan_eta npf_pts 4\n",
      "[-1.808038592338562, 1.8131656646728516] 1.8106021285057068 0.12652196\n",
      "Npfcan_eta npf_pts 5\n",
      "[-1.6844385862350464, 1.6895657777786255] 1.687002182006836 0.038135186\n",
      "Npfcan_eta npf_pts 6\n",
      "[-1.613759560585022, 1.615955114364624] 1.614857337474823 0.0\n",
      "Npfcan_eta npf_pts 7\n",
      "[-1.5652333498001099, 1.5630359649658203] 1.564134657382965 0.0\n",
      "Npfcan_eta npf_pts 8\n",
      "[-1.510669913291931, 1.5146946907043457] 1.5126823019981384 0.0\n",
      "Npfcan_eta npf_pts 9\n",
      "[-1.4392528533935547, 1.446212930679323] 1.4427328920364388 0.0\n",
      "Npfcan_eta npf_pts 10\n",
      "[-1.3898147773742677, 1.38999605178833] 1.3899054145812988 0.0\n",
      "Npfcan_eta npf_pts 11\n",
      "[-1.344586296081543, 1.339457392692566] 1.3420218443870544 0.0\n",
      "Npfcan_eta npf_pts 12\n",
      "[-1.3184014987945556, 1.453718662261963] 1.3860600805282592 0.0\n",
      "Npfcan_eta npf_pts 13\n",
      "[-1.2427747249603271, 1.4780724048614502] 1.3604235649108887 0.0\n",
      "Npfcan_eta npf_pts 14\n",
      "[-1.1636707782745361, 1.5363017320632935] 1.3499862551689148 0.0\n",
      "Npfcan_eta npf_pts 15\n",
      "[-1.0636920928955078, 1.5491195917129517] 1.3064058423042297 0.0\n",
      "Npfcan_eta npf_pts 16\n",
      "[-0.8998095822334289, 1.5562608242034912] 1.22803520321846 0.0\n",
      "Npfcan_eta npf_pts 17\n",
      "[-0.6192834210395813, 1.5657826662063599] 1.0925330436229705 0.0\n",
      "Npfcan_eta npf_pts 18\n",
      "[0.0, 1.5703604221343994] 0.7851802110671997 0.0\n",
      "Npfcan_eta npf_pts 19\n",
      "[0.0, 1.5743906927108782] 0.7871953463554391 0.0\n",
      "Npfcan_eta npf_pts 20\n",
      "[0.0, 1.5771355628967285] 0.7885677814483643 0.0\n",
      "Npfcan_eta npf_pts 21\n",
      "[0.0, 1.5789684486389177] 0.7894842243194589 0.0\n",
      "Npfcan_eta npf_pts 22\n",
      "[0.0, 1.580614686012268] 0.790307343006134 0.0\n",
      "Npfcan_eta npf_pts 23\n",
      "[0.0, 1.581347107887268] 0.790673553943634 0.0\n",
      "Npfcan_eta npf_pts 24\n",
      "[0.0, 1.582079529762268] 0.791039764881134 0.0\n",
      "Npfcan_phi npf_pts 0\n",
      "[-3.0752892518043518, 3.078711519241333] 3.077000385522842 1.0315113\n",
      "Npfcan_phi npf_pts 1\n",
      "[-3.0678672790527344, 3.085643768310547] 3.0767555236816406 1.0047847\n",
      "Npfcan_phi npf_pts 2\n",
      "[-3.056828525066376, 3.0731418395042422] 3.064985182285309 0.92161983\n",
      "Npfcan_phi npf_pts 3\n",
      "[-3.0421874737739563, 3.0461879134178163] 3.0441876935958865 0.47404963\n",
      "Npfcan_phi npf_pts 4\n",
      "[-3.0251006841659547, 3.0278275275230406] 3.0264641058444974 0.25928533\n",
      "Npfcan_phi npf_pts 5\n",
      "[-3.0048757028579716, 3.004293675422669] 3.0045846891403203 0.07802757\n",
      "Npfcan_phi npf_pts 6\n",
      "[-2.9713788199424744, 2.9780242800712595] 2.974701550006867 0.0\n",
      "Npfcan_phi npf_pts 7\n",
      "[-2.9317371344566343, 2.936900634765625] 2.9343188846111294 0.0\n",
      "Npfcan_phi npf_pts 8\n",
      "[-2.8848609185218814, 2.891295974254608] 2.8880784463882447 0.0\n",
      "Npfcan_phi npf_pts 9\n",
      "[-2.8206840634346007, 2.8243034410476686] 2.822493752241135 0.0\n",
      "Npfcan_phi npf_pts 10\n",
      "[-2.7429611778259275, 2.730367634296419] 2.7366644060611733 0.0\n",
      "Npfcan_phi npf_pts 11\n",
      "[-2.639927351474762, 2.622831909656525] 2.631379630565643 0.0\n",
      "Npfcan_phi npf_pts 12\n",
      "[-2.5585737681388854, 2.8333940505981445] 2.6959839093685147 0.0\n",
      "Npfcan_phi npf_pts 13\n",
      "[-2.3093496060371397, 2.852725918293] 2.58103776216507 0.0\n",
      "Npfcan_phi npf_pts 14\n",
      "[-2.0564023232460023, 2.9076161408424377] 2.48200923204422 0.0\n",
      "Npfcan_phi npf_pts 15\n",
      "[-1.7341282606124877, 2.9313432860374458] 2.3327357733249667 0.0\n",
      "Npfcan_phi npf_pts 16\n",
      "[-1.3059056782722473, 2.945992033481598] 2.1259488558769224 0.0\n",
      "Npfcan_phi npf_pts 17\n",
      "[-0.681181929707527, 2.958684287071228] 1.8199331083893775 0.0\n",
      "Npfcan_phi npf_pts 18\n",
      "[0.0, 2.965516383647919] 1.4827581918239594 0.0\n",
      "Npfcan_phi npf_pts 19\n",
      "[0.0, 2.970313229560853] 1.4851566147804265 0.0\n",
      "Npfcan_phi npf_pts 20\n",
      "[0.0, 2.97333074092865] 1.486665370464325 0.0\n",
      "Npfcan_phi npf_pts 21\n",
      "[0.0, 2.975473427772522] 1.487736713886261 0.0\n",
      "Npfcan_phi npf_pts 22\n",
      "[0.0, 2.9760764575004583] 1.4880382287502292 0.0\n",
      "Npfcan_phi npf_pts 23\n",
      "[0.0, 2.9775335955619813] 1.4887667977809906 0.0\n",
      "Npfcan_phi npf_pts 24\n",
      "[0.0, 2.9786114597320563] 1.4893057298660282 0.0\n",
      "Npfcan_e npf_pts 0\n",
      "[0.0, 968.672985839844] 484.336492919922 24.727417\n",
      "Npfcan_e npf_pts 1\n",
      "[1.1101992893218995, 776.4562512207053] 387.6730259656917 8.870137\n",
      "Npfcan_e npf_pts 2\n",
      "[1.0192758917808533, 338.8478314208988] 168.91427776455896 4.072481\n",
      "Npfcan_e npf_pts 3\n",
      "[0.0, 128.2514781188966] 64.1257390594483 1.9761058\n",
      "Npfcan_e npf_pts 4\n",
      "[0.0, 78.53178359985368] 39.26589179992684 1.5116444\n",
      "Npfcan_e npf_pts 5\n",
      "[0.0, 53.48586795806888] 26.74293397903444 1.1378708\n",
      "Npfcan_e npf_pts 6\n",
      "[0.0, 37.552510719299384] 18.776255359649692 0.84039915\n",
      "Npfcan_e npf_pts 7\n",
      "[0.0, 29.05664785385137] 14.528323926925685 0.5746895\n",
      "Npfcan_e npf_pts 8\n",
      "[0.0, 42.32819252014161] 21.164096260070806 1.0998813\n",
      "Npfcan_e npf_pts 9\n",
      "[0.0, 49.65926109313985] 24.829630546569923 1.3403219\n",
      "Npfcan_e npf_pts 10\n",
      "[0.0, 54.58137695312531] 27.290688476562654 1.4749919\n",
      "Npfcan_e npf_pts 11\n",
      "[0.0, 57.73059055328371] 28.865295276641856 1.6000793\n",
      "Npfcan_e npf_pts 12\n",
      "[2.4496230176917774e-40, 13.09558259010315] 6.547791295051575 1.0318367\n",
      "Npfcan_e npf_pts 13\n",
      "[0.001901236246339977, 11.121434078216573] 5.559766420985117 0.843109\n",
      "Npfcan_e npf_pts 14\n",
      "[0.0016260779846925288, 9.044415931701671] 4.521394926858489 0.52435464\n",
      "Npfcan_e npf_pts 15\n",
      "[0.0006543739471817389, 7.390684776306169] 3.6950152011794937 0.3931932\n",
      "Npfcan_e npf_pts 16\n",
      "[0.000944322852883488, 5.86774361133576] 2.933399644241438 0.33766317\n",
      "Npfcan_e npf_pts 17\n",
      "[0.00013363803998799997, 4.37114685058594] 2.185506606272976 0.20739582\n",
      "Npfcan_e npf_pts 18\n",
      "[0.0001461632031714544, 3.2777574038505684] 1.6388056203236985 0.09711453\n",
      "Npfcan_e npf_pts 19\n",
      "[2.983101541758515e-05, 2.2455521917343173] 1.12276118035945 0.07105476\n",
      "Npfcan_e npf_pts 20\n",
      "[1.2818581544706832e-05, 1.2677348291874027] 0.633861005302929 0.040543318\n",
      "Npfcan_e npf_pts 21\n",
      "[1.2185803564079835e-06, 0.14266126230359077] 0.07133002186161719 0.008759185\n",
      "Npfcan_e npf_pts 22\n",
      "[1.3282841848649696e-07, 0.036964834071695804] 0.01848235062163866 0.0032887852\n",
      "Npfcan_e npf_pts 23\n",
      "[1.1295433402835898e-07, 0.009550872258841991] 0.0047753796522539815 0.0019758956\n",
      "Npfcan_e npf_pts 24\n",
      "[1.5607628242264582e-07, 0.005417307838797569] 0.0027085758812575734 0.0002879191\n"
     ]
    }
   ],
   "source": [
    "for (i,key) in enumerate(npf_pts_branches):\n",
    "    for cand in range(25):\n",
    "        range_inputs, standardized_epsilon = quantile_min_max(key,'npf_pts',cand)\n",
    "        scale_epsilon = (range_inputs[1] - range_inputs[0])/2\n",
    "        npf_pts_epsilons[i,cand] = scale_epsilon\n",
    "        npf_pts_standardized_epsilons[i,cand] = standardized_epsilon\n",
    "        npf_pts_ranges[i,cand] = range_inputs\n",
    "        print(range_inputs, scale_epsilon, standardized_epsilon)"
   ]
  },
  {
   "cell_type": "code",
   "execution_count": 168,
   "metadata": {},
   "outputs": [],
   "source": [
    "vtx_pts_epsilons = np.zeros((len(vtx_pts_branches),5))"
   ]
  },
  {
   "cell_type": "code",
   "execution_count": 169,
   "metadata": {},
   "outputs": [],
   "source": [
    "vtx_pts_standardized_epsilons = np.zeros((len(vtx_pts_branches),5))"
   ]
  },
  {
   "cell_type": "code",
   "execution_count": 170,
   "metadata": {},
   "outputs": [],
   "source": [
    "vtx_pts_ranges = np.zeros((len(vtx_pts_branches),5, 2))"
   ]
  },
  {
   "cell_type": "code",
   "execution_count": 171,
   "metadata": {
    "scrolled": true
   },
   "outputs": [
    {
     "name": "stdout",
     "output_type": "stream",
     "text": [
      "sv_pt vtx_pts 0\n",
      "[0.0, 285.0325842285157] 142.51629211425785 7.441725\n",
      "sv_pt vtx_pts 1\n",
      "[0.0, 306.53417083740237] 153.26708541870119 9.256982\n",
      "sv_pt vtx_pts 2\n",
      "[0.0, 314.7414782714844] 157.3707391357422 10.284605\n",
      "sv_pt vtx_pts 3\n",
      "[0.0, 317.2212841796878] 158.6106420898439 10.685772\n",
      "sv_pt vtx_pts 4\n",
      "[0.0, 317.63570098876966] 158.81785049438483 10.85317\n",
      "sv_eta vtx_pts 0\n",
      "[-2.2492735981941223, 2.2442282247543357] 2.246750911474229 0.12503505\n",
      "sv_eta vtx_pts 1\n",
      "[-1.913852608203888, 1.902707613706589] 1.9082801109552385 7.787961e-08\n",
      "sv_eta vtx_pts 2\n",
      "[-1.2378083562850952, 1.2264379549026498] 1.2321231555938725 7.041892e-08\n",
      "sv_eta vtx_pts 3\n",
      "[-0.12345094501972188, 1.2081400561332758] 0.6657955005764988 7.31744e-08\n",
      "sv_eta vtx_pts 4\n",
      "[0.0, 1.297317855358128] 0.648658927679064 7.414066e-08\n",
      "sv_phi vtx_pts 0\n",
      "[-3.0303169202804563, 3.02578438282013] 3.028050651550293 0.21701342\n",
      "sv_phi vtx_pts 1\n",
      "[-2.80593772649765, 2.81037912607193] 2.8081584262847903 9.283734e-08\n",
      "sv_phi vtx_pts 2\n",
      "[-2.1512222480773926, 2.1664409589767506] 2.1588316035270716 8.3930914e-08\n",
      "sv_phi vtx_pts 3\n",
      "[-0.2671120849251745, 2.1575701665878295] 1.212341125756502 8.721485e-08\n",
      "sv_phi vtx_pts 4\n",
      "[0.0, 2.264907357692722] 1.132453678846361 8.81174e-08\n",
      "sv_e vtx_pts 0\n",
      "[0.0, 486.10500976562594] 243.05250488281297 13.209913\n",
      "sv_e vtx_pts 1\n",
      "[0.0, 532.7964178466798] 266.3982089233399 16.360928\n",
      "sv_e vtx_pts 2\n",
      "[0.0, 545.9352441406257] 272.96762207031287 18.075344\n",
      "sv_e vtx_pts 3\n",
      "[0.0, 550.5548150634767] 275.27740753173833 18.700222\n",
      "sv_e vtx_pts 4\n",
      "[0.0, 552.2864520263673] 276.14322601318366 18.952955\n"
     ]
    }
   ],
   "source": [
    "for (i,key) in enumerate(vtx_pts_branches):\n",
    "    for cand in range(5):\n",
    "        range_inputs, standardized_epsilon = quantile_min_max(key,'vtx_pts',cand)\n",
    "        scale_epsilon = (range_inputs[1] - range_inputs[0])/2\n",
    "        vtx_pts_epsilons[i,cand] = scale_epsilon\n",
    "        vtx_pts_standardized_epsilons[i,cand] = standardized_epsilon\n",
    "        vtx_pts_ranges[i,cand] = range_inputs\n",
    "        print(range_inputs, scale_epsilon, standardized_epsilon)"
   ]
  },
  {
   "cell_type": "code",
   "execution_count": 172,
   "metadata": {},
   "outputs": [],
   "source": [
    "np.save('/eos/user/a/anstein/public/DeepJet/Train_ParT_NEW_March23/auxiliary/global_epsilons.npy',global_epsilons)"
   ]
  },
  {
   "cell_type": "code",
   "execution_count": 173,
   "metadata": {},
   "outputs": [],
   "source": [
    "np.save('/eos/user/a/anstein/public/DeepJet/Train_ParT_NEW_March23/auxiliary/global_standardized_epsilons.npy',global_standardized_epsilons)"
   ]
  },
  {
   "cell_type": "code",
   "execution_count": 174,
   "metadata": {},
   "outputs": [],
   "source": [
    "np.save('/eos/user/a/anstein/public/DeepJet/Train_ParT_NEW_March23/auxiliary/global_ranges.npy',global_ranges)"
   ]
  },
  {
   "cell_type": "code",
   "execution_count": 175,
   "metadata": {},
   "outputs": [],
   "source": [
    "np.save('/eos/user/a/anstein/public/DeepJet/Train_ParT_NEW_March23/auxiliary/cpf_epsilons.npy',cpf_epsilons)"
   ]
  },
  {
   "cell_type": "code",
   "execution_count": 176,
   "metadata": {},
   "outputs": [],
   "source": [
    "np.save('/eos/user/a/anstein/public/DeepJet/Train_ParT_NEW_March23/auxiliary/cpf_standardized_epsilons.npy',cpf_standardized_epsilons)"
   ]
  },
  {
   "cell_type": "code",
   "execution_count": 177,
   "metadata": {},
   "outputs": [],
   "source": [
    "np.save('/eos/user/a/anstein/public/DeepJet/Train_ParT_NEW_March23/auxiliary/cpf_ranges.npy',cpf_ranges)"
   ]
  },
  {
   "cell_type": "code",
   "execution_count": 178,
   "metadata": {},
   "outputs": [],
   "source": [
    "np.save('/eos/user/a/anstein/public/DeepJet/Train_ParT_NEW_March23/auxiliary/npf_epsilons.npy',npf_epsilons)"
   ]
  },
  {
   "cell_type": "code",
   "execution_count": 179,
   "metadata": {},
   "outputs": [],
   "source": [
    "np.save('/eos/user/a/anstein/public/DeepJet/Train_ParT_NEW_March23/auxiliary/npf_standardized_epsilons.npy',npf_standardized_epsilons)"
   ]
  },
  {
   "cell_type": "code",
   "execution_count": 180,
   "metadata": {},
   "outputs": [],
   "source": [
    "np.save('/eos/user/a/anstein/public/DeepJet/Train_ParT_NEW_March23/auxiliary/npf_ranges.npy',npf_ranges)"
   ]
  },
  {
   "cell_type": "code",
   "execution_count": 181,
   "metadata": {},
   "outputs": [],
   "source": [
    "np.save('/eos/user/a/anstein/public/DeepJet/Train_ParT_NEW_March23/auxiliary/vtx_epsilons.npy',vtx_epsilons)"
   ]
  },
  {
   "cell_type": "code",
   "execution_count": 182,
   "metadata": {},
   "outputs": [],
   "source": [
    "np.save('/eos/user/a/anstein/public/DeepJet/Train_ParT_NEW_March23/auxiliary/vtx_standardized_epsilons.npy',vtx_standardized_epsilons)"
   ]
  },
  {
   "cell_type": "code",
   "execution_count": 183,
   "metadata": {},
   "outputs": [],
   "source": [
    "np.save('/eos/user/a/anstein/public/DeepJet/Train_ParT_NEW_March23/auxiliary/vtx_ranges.npy',vtx_ranges)"
   ]
  },
  {
   "cell_type": "code",
   "execution_count": 184,
   "metadata": {},
   "outputs": [],
   "source": [
    "np.save('/eos/user/a/anstein/public/DeepJet/Train_ParT_NEW_March23/auxiliary/cpf_pts_epsilons.npy',cpf_pts_epsilons)"
   ]
  },
  {
   "cell_type": "code",
   "execution_count": 185,
   "metadata": {},
   "outputs": [],
   "source": [
    "np.save('/eos/user/a/anstein/public/DeepJet/Train_ParT_NEW_March23/auxiliary/cpf_pts_standardized_epsilons.npy',cpf_pts_standardized_epsilons)"
   ]
  },
  {
   "cell_type": "code",
   "execution_count": 186,
   "metadata": {},
   "outputs": [],
   "source": [
    "np.save('/eos/user/a/anstein/public/DeepJet/Train_ParT_NEW_March23/auxiliary/cpf_pts_ranges.npy',cpf_pts_ranges)"
   ]
  },
  {
   "cell_type": "code",
   "execution_count": 187,
   "metadata": {},
   "outputs": [],
   "source": [
    "np.save('/eos/user/a/anstein/public/DeepJet/Train_ParT_NEW_March23/auxiliary/npf_pts_epsilons.npy',npf_pts_epsilons)"
   ]
  },
  {
   "cell_type": "code",
   "execution_count": 188,
   "metadata": {},
   "outputs": [],
   "source": [
    "np.save('/eos/user/a/anstein/public/DeepJet/Train_ParT_NEW_March23/auxiliary/npf_pts_standardized_epsilons.npy',npf_pts_standardized_epsilons)"
   ]
  },
  {
   "cell_type": "code",
   "execution_count": 189,
   "metadata": {},
   "outputs": [],
   "source": [
    "np.save('/eos/user/a/anstein/public/DeepJet/Train_ParT_NEW_March23/auxiliary/npf_pts_ranges.npy',npf_pts_ranges)"
   ]
  },
  {
   "cell_type": "code",
   "execution_count": 190,
   "metadata": {},
   "outputs": [],
   "source": [
    "np.save('/eos/user/a/anstein/public/DeepJet/Train_ParT_NEW_March23/auxiliary/vtx_pts_epsilons.npy',vtx_pts_epsilons)"
   ]
  },
  {
   "cell_type": "code",
   "execution_count": 191,
   "metadata": {},
   "outputs": [],
   "source": [
    "np.save('/eos/user/a/anstein/public/DeepJet/Train_ParT_NEW_March23/auxiliary/vtx_pts_standardized_epsilons.npy',vtx_pts_standardized_epsilons)"
   ]
  },
  {
   "cell_type": "code",
   "execution_count": 192,
   "metadata": {},
   "outputs": [],
   "source": [
    "np.save('/eos/user/a/anstein/public/DeepJet/Train_ParT_NEW_March23/auxiliary/vtx_pts_ranges.npy',vtx_pts_ranges)"
   ]
  },
  {
   "cell_type": "code",
   "execution_count": null,
   "metadata": {},
   "outputs": [],
   "source": []
  },
  {
   "cell_type": "code",
   "execution_count": null,
   "metadata": {},
   "outputs": [],
   "source": []
  }
 ],
 "metadata": {
  "kernelspec": {
   "display_name": "Python 3",
   "language": "python",
   "name": "python3"
  },
  "language_info": {
   "codemirror_mode": {
    "name": "ipython",
    "version": 3
   },
   "file_extension": ".py",
   "mimetype": "text/x-python",
   "name": "python",
   "nbconvert_exporter": "python",
   "pygments_lexer": "ipython3",
   "version": "3.8.6"
  }
 },
 "nbformat": 4,
 "nbformat_minor": 5
}
