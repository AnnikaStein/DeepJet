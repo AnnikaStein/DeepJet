{
 "cells": [
  {
   "cell_type": "markdown",
   "metadata": {},
   "source": [
    "# Find a suiting epsilon\n",
    "\n",
    "The goal of this notebook is to derive a suitable magnitude of the attack for each feature."
   ]
  },
  {
   "cell_type": "code",
   "execution_count": 1,
   "metadata": {},
   "outputs": [],
   "source": [
    "#import uproot\n",
    "import uproot4 as uproot\n",
    "import numpy as np\n",
    "import pandas as pd\n",
    "\n",
    "import matplotlib.pyplot as plt\n",
    "#import seaborn as sns\n",
    "import mplhep as hep"
   ]
  },
  {
   "cell_type": "code",
   "execution_count": 2,
   "metadata": {},
   "outputs": [],
   "source": [
    "import awkward1 as ak"
   ]
  },
  {
   "cell_type": "code",
   "execution_count": 3,
   "metadata": {},
   "outputs": [
    {
     "data": {
      "text/plain": [
       "'0.1.2'"
      ]
     },
     "execution_count": 3,
     "metadata": {},
     "output_type": "execute_result"
    }
   ],
   "source": [
    "uproot.__version__"
   ]
  },
  {
   "cell_type": "markdown",
   "metadata": {},
   "source": [
    "## Checking files content"
   ]
  },
  {
   "cell_type": "markdown",
   "metadata": {},
   "source": [
    "Focusing on pred_ntuple_merged_342"
   ]
  },
  {
   "cell_type": "code",
   "execution_count": 4,
   "metadata": {},
   "outputs": [],
   "source": [
    "inputs_root = \"/eos/cms/store/group/phys_btag/ParticleTransformer/merged/ntuple_merged_342.root:deepntuplizer/tree\""
   ]
  },
  {
   "cell_type": "code",
   "execution_count": 5,
   "metadata": {},
   "outputs": [],
   "source": [
    "file_ = uproot.open(inputs_root)\n",
    "columns_ = file_.keys()"
   ]
  },
  {
   "cell_type": "code",
   "execution_count": 6,
   "metadata": {
    "scrolled": true
   },
   "outputs": [
    {
     "data": {
      "text/plain": [
       "['n_sv',\n",
       " 'nsv',\n",
       " 'sv_pt',\n",
       " 'sv_eta',\n",
       " 'sv_phi',\n",
       " 'sv_e',\n",
       " 'sv_etarel',\n",
       " 'sv_phirel',\n",
       " 'sv_deltaR',\n",
       " 'sv_mass',\n",
       " 'sv_ntracks',\n",
       " 'sv_chi2',\n",
       " 'sv_ndf',\n",
       " 'sv_normchi2',\n",
       " 'sv_dxy',\n",
       " 'sv_dxyerr',\n",
       " 'sv_dxysig',\n",
       " 'sv_d3d',\n",
       " 'sv_d3derr',\n",
       " 'sv_d3dsig',\n",
       " 'sv_costhetasvpv',\n",
       " 'sv_enratio',\n",
       " 'n_gtracks',\n",
       " 'nGtracks',\n",
       " 'gtrack_pt',\n",
       " 'gtrack_eta',\n",
       " 'gtrack_phi',\n",
       " 'gtrack_mass',\n",
       " 'gtrack_dz',\n",
       " 'gtrack_dxy',\n",
       " 'gtrack_3D_ip',\n",
       " 'gtrack_3D_sip',\n",
       " 'gtrack_2D_ip',\n",
       " 'gtrack_2D_sip',\n",
       " 'gtrack_dR',\n",
       " 'gtrack_dist_neigh',\n",
       " 'gtrack_3D_TrackProbability',\n",
       " 'gtrack_2D_TrackProbability',\n",
       " 'gtrack_chi2reduced',\n",
       " 'gtrack_nPixelHits',\n",
       " 'gtrack_nHits',\n",
       " 'gtrack_jetAxisDistance',\n",
       " 'gtrack_jetAxisDlength',\n",
       " 'gtrack_PCAtrackFromPV',\n",
       " 'gtrack_dotProdTrack',\n",
       " 'gtrack_dotProdTrack2D',\n",
       " 'npv',\n",
       " 'rho',\n",
       " 'ntrueInt',\n",
       " 'event_no',\n",
       " 'jet_no',\n",
       " 'gen_pt',\n",
       " 'Delta_gen_pt',\n",
       " 'isB',\n",
       " 'isGBB',\n",
       " 'isBB',\n",
       " 'isLeptonicB',\n",
       " 'isLeptonicB_C',\n",
       " 'isC',\n",
       " 'isGCC',\n",
       " 'isCC',\n",
       " 'isUD',\n",
       " 'isS',\n",
       " 'isG',\n",
       " 'isPU',\n",
       " 'isUndefined',\n",
       " 'genDecay',\n",
       " 'jet_hflav',\n",
       " 'jet_pflav',\n",
       " 'jet_phflav',\n",
       " 'jet_pt',\n",
       " 'jet_corr_pt',\n",
       " 'jet_eta',\n",
       " 'jet_phi',\n",
       " 'jet_mass',\n",
       " 'jet_energy',\n",
       " 'jet_looseId',\n",
       " 'jet_jetId',\n",
       " 'jet_puId',\n",
       " 'jet_qgl',\n",
       " 'QG_ptD',\n",
       " 'QG_axis2',\n",
       " 'QG_mult',\n",
       " 'gen_pt_Recluster',\n",
       " 'gen_pt_WithNu',\n",
       " 'Delta_gen_pt_Recluster',\n",
       " 'Delta_gen_pt_WithNu',\n",
       " 'pfCombinedInclusiveSecondaryVertexV2BJetTags',\n",
       " 'pfCombinedMVAV2BJetTags',\n",
       " 'pfDeepCSVJetTags_probb',\n",
       " 'pfDeepCSVJetTags_probbb',\n",
       " 'pfDeepCSVJetTags_probc',\n",
       " 'pfDeepCSVJetTags_probudsg',\n",
       " 'pfDeepFlavourJetTags_probb',\n",
       " 'pfDeepFlavourJetTags_probbb',\n",
       " 'pfDeepFlavourJetTags_probc',\n",
       " 'pfDeepFlavourJetTags_probg',\n",
       " 'pfDeepFlavourJetTags_problepb',\n",
       " 'pfDeepFlavourJetTags_probuds',\n",
       " 'pfJetBProbabilityBJetTags',\n",
       " 'pfJetProbabilityBJetTags',\n",
       " 'pfParticleNetAK4JetTags_probb',\n",
       " 'pfParticleNetAK4JetTags_probbb',\n",
       " 'pfParticleNetAK4JetTags_probc',\n",
       " 'pfParticleNetAK4JetTags_probcc',\n",
       " 'pfParticleNetAK4JetTags_probg',\n",
       " 'pfParticleNetAK4JetTags_probuds',\n",
       " 'softPFElectronBJetTags',\n",
       " 'softPFMuonBJetTags',\n",
       " 'n_Cpfcand',\n",
       " 'nCpfcand',\n",
       " 'Cpfcan_pt',\n",
       " 'Cpfcan_eta',\n",
       " 'Cpfcan_phi',\n",
       " 'Cpfcan_ptrel',\n",
       " 'Cpfcan_e',\n",
       " 'Cpfcan_erel',\n",
       " 'Cpfcan_phirel',\n",
       " 'Cpfcan_etarel',\n",
       " 'Cpfcan_deltaR',\n",
       " 'Cpfcan_puppiw',\n",
       " 'Cpfcan_dxy',\n",
       " 'Cpfcan_dxyerrinv',\n",
       " 'Cpfcan_dxysig',\n",
       " 'Cpfcan_dz',\n",
       " 'Cpfcan_VTX_ass',\n",
       " 'Cpfcan_fromPV',\n",
       " 'Cpfcan_drminsv',\n",
       " 'Cpfcan_distminsv',\n",
       " 'Cpfcan_dxminsv',\n",
       " 'Cpfcan_dyminsv',\n",
       " 'Cpfcan_dzminsv',\n",
       " 'Cpfcan_dxpv',\n",
       " 'Cpfcan_dypv',\n",
       " 'Cpfcan_dzpv',\n",
       " 'Cpfcan_vertex_rho',\n",
       " 'Cpfcan_vertex_phirel',\n",
       " 'Cpfcan_vertex_etarel',\n",
       " 'Cpfcan_BtagPf_trackMomentum',\n",
       " 'Cpfcan_BtagPf_trackEta',\n",
       " 'Cpfcan_BtagPf_trackEtaRel',\n",
       " 'Cpfcan_BtagPf_trackPtRel',\n",
       " 'Cpfcan_BtagPf_trackPPar',\n",
       " 'Cpfcan_BtagPf_trackDeltaR',\n",
       " 'Cpfcan_BtagPf_trackPtRatio',\n",
       " 'Cpfcan_BtagPf_trackPParRatio',\n",
       " 'Cpfcan_BtagPf_trackSip3dVal',\n",
       " 'Cpfcan_BtagPf_trackSip3dSig',\n",
       " 'Cpfcan_BtagPf_trackSip2dVal',\n",
       " 'Cpfcan_BtagPf_trackSip2dSig',\n",
       " 'Cpfcan_BtagPf_trackDecayLen',\n",
       " 'Cpfcan_BtagPf_trackJetDistVal',\n",
       " 'Cpfcan_BtagPf_trackJetDistSig',\n",
       " 'Cpfcan_isMu',\n",
       " 'Cpfcan_isEl',\n",
       " 'Cpfcan_charge',\n",
       " 'Cpfcan_lostInnerHits',\n",
       " 'Cpfcan_numberOfPixelHits',\n",
       " 'Cpfcan_chi2',\n",
       " 'Cpfcan_quality',\n",
       " 'Cpfcan_nhitpixelBarrelLayer1',\n",
       " 'Cpfcan_nhitpixelBarrelLayer2',\n",
       " 'Cpfcan_nhitpixelBarrelLayer3',\n",
       " 'Cpfcan_nhitpixelBarrelLayer4',\n",
       " 'Cpfcan_nhitpixelEndcapLayer1',\n",
       " 'Cpfcan_nhitpixelEndcapLayer2',\n",
       " 'Cpfcan_nhitstripTIBLayer1',\n",
       " 'Cpfcan_nhitstripTIBLayer2',\n",
       " 'Cpfcan_nhitstripTIBLayer3',\n",
       " 'Cpfcan_nhitstripTIBLayer4',\n",
       " 'Cpfcan_nhitstripTIDLayer1',\n",
       " 'Cpfcan_nhitstripTIDLayer2',\n",
       " 'Cpfcan_nhitstripTIDLayer3',\n",
       " 'Cpfcan_nhitstripTOBLayer1',\n",
       " 'Cpfcan_nhitstripTOBLayer2',\n",
       " 'Cpfcan_nhitstripTOBLayer3',\n",
       " 'Cpfcan_nhitstripTOBLayer4',\n",
       " 'Cpfcan_nhitstripTOBLayer5',\n",
       " 'Cpfcan_nhitstripTOBLayer6',\n",
       " 'Cpfcan_nhitstripTECLayer1',\n",
       " 'Cpfcan_nhitstripTECLayer2',\n",
       " 'Cpfcan_nhitstripTECLayer3',\n",
       " 'Cpfcan_nhitstripTECLayer4',\n",
       " 'Cpfcan_nhitstripTECLayer5',\n",
       " 'Cpfcan_nhitstripTECLayer6',\n",
       " 'Cpfcan_nhitstripTECLayer7',\n",
       " 'Cpfcan_nhitstripTECLayer8',\n",
       " 'Cpfcan_nhitstripTECLayer9',\n",
       " 'Cpfcan_numberOfValidHits',\n",
       " 'Cpfcan_numberOfValidTrackerHits',\n",
       " 'Cpfcan_numberOfValidPixelHits',\n",
       " 'Cpfcan_numberOfValidPixelBarrelHits',\n",
       " 'Cpfcan_numberOfValidPixelEndcapHits',\n",
       " 'Cpfcan_numberOfValidStripHits',\n",
       " 'Cpfcan_numberOfValidStripTIBHits',\n",
       " 'Cpfcan_numberOfValidStripTIDHits',\n",
       " 'Cpfcan_numberOfValidStripTOBHits',\n",
       " 'Cpfcan_numberOfValidStripTECHits',\n",
       " 'Cpfcan_trackerLayersWithMeasurementOld',\n",
       " 'Cpfcan_trackerLayersWithMeasurement',\n",
       " 'Cpfcan_pixelLayersWithMeasurementOld',\n",
       " 'Cpfcan_pixelLayersWithMeasurement',\n",
       " 'Cpfcan_stripLayersWithMeasurement',\n",
       " 'Cpfcan_pixelBarrelLayersWithMeasurement',\n",
       " 'Cpfcan_pixelEndcapLayersWithMeasurement',\n",
       " 'Cpfcan_stripTIBLayersWithMeasurement',\n",
       " 'Cpfcan_stripTIDLayersWithMeasurement',\n",
       " 'Cpfcan_stripTOBLayersWithMeasurement',\n",
       " 'Cpfcan_stripTECLayersWithMeasurement',\n",
       " 'Cpfcan_trackerLayersNull',\n",
       " 'Cpfcan_pixelLayersNull',\n",
       " 'Cpfcan_stripLayersNull',\n",
       " 'Cpfcan_pixelBarrelLayersNull',\n",
       " 'Cpfcan_pixelEndcapLayersNull',\n",
       " 'Cpfcan_stripTIBLayersNull',\n",
       " 'Cpfcan_stripTIDLayersNull',\n",
       " 'Cpfcan_stripTOBLayersNull',\n",
       " 'Cpfcan_stripTECLayersNull',\n",
       " 'n_Npfcand',\n",
       " 'nNpfcand',\n",
       " 'Npfcan_pt',\n",
       " 'Npfcan_eta',\n",
       " 'Npfcan_phi',\n",
       " 'Npfcan_ptrel',\n",
       " 'Npfcan_e',\n",
       " 'Npfcan_erel',\n",
       " 'Npfcan_puppiw',\n",
       " 'Npfcan_phirel',\n",
       " 'Npfcan_etarel',\n",
       " 'Npfcan_deltaR',\n",
       " 'Npfcan_isGamma',\n",
       " 'Npfcan_HadFrac',\n",
       " 'Npfcan_drminsv',\n",
       " 'trackJetPt',\n",
       " 'jetNTracks',\n",
       " 'TagVarCSV_jetNSecondaryVertices',\n",
       " 'TagVarCSV_trackSumJetEtRatio',\n",
       " 'TagVarCSV_trackSumJetDeltaR',\n",
       " 'TagVarCSV_vertexCategory',\n",
       " 'TagVarCSV_trackSip2dValAboveCharm',\n",
       " 'TagVarCSV_trackSip2dSigAboveCharm',\n",
       " 'TagVarCSV_trackSip3dValAboveCharm',\n",
       " 'TagVarCSV_trackSip3dSigAboveCharm',\n",
       " 'n_TagVarCSV_jetNSelectedTracks',\n",
       " 'TagVarCSV_jetNSelectedTracks',\n",
       " 'TagVarCSVTrk_trackPtRel',\n",
       " 'TagVarCSVTrk_trackDeltaR',\n",
       " 'TagVarCSVTrk_trackPtRatio',\n",
       " 'TagVarCSVTrk_trackSip3dSig',\n",
       " 'TagVarCSVTrk_trackSip2dSig',\n",
       " 'TagVarCSVTrk_trackDecayLenVal',\n",
       " 'TagVarCSVTrk_trackJetDistVal',\n",
       " 'n_TagVarCSV_jetNTracksEtaRel',\n",
       " 'TagVarCSV_jetNTracksEtaRel',\n",
       " 'TagVarCSV_trackEtaRel',\n",
       " 'trackPParRatio',\n",
       " 'trackSip2dVal',\n",
       " 'trackSip3dVal',\n",
       " 'trackMomentum',\n",
       " 'trackEta',\n",
       " 'trackPPar',\n",
       " 'n_StoredVertices',\n",
       " 'NStoredVertices',\n",
       " 'TagVarCSV_vertexMass',\n",
       " 'TagVarCSV_vertexNTracks',\n",
       " 'TagVarCSV_vertexEnergyRatio',\n",
       " 'TagVarCSV_vertexJetDeltaR',\n",
       " 'TagVarCSV_flightDistance2dVal',\n",
       " 'TagVarCSV_flightDistance2dSig',\n",
       " 'TagVarCSV_flightDistance3dVal',\n",
       " 'TagVarCSV_flightDistance3dSig']"
      ]
     },
     "execution_count": 6,
     "metadata": {},
     "output_type": "execute_result"
    }
   ],
   "source": [
    "columns_"
   ]
  },
  {
   "cell_type": "code",
   "execution_count": 7,
   "metadata": {},
   "outputs": [],
   "source": [
    "global_branches = ['jet_pt',\n",
    "                   'jet_eta',\n",
    "                   'nCpfcand',\n",
    "                   'nNpfcand',\n",
    "                   'nsv',\n",
    "                   'npv',\n",
    "                   'TagVarCSV_trackSumJetEtRatio',\n",
    "                   'TagVarCSV_trackSumJetDeltaR',\n",
    "                   'TagVarCSV_vertexCategory',\n",
    "                   'TagVarCSV_trackSip2dValAboveCharm',\n",
    "                   'TagVarCSV_trackSip2dSigAboveCharm',\n",
    "                   'TagVarCSV_trackSip3dValAboveCharm',\n",
    "                   'TagVarCSV_trackSip3dSigAboveCharm',\n",
    "                   'TagVarCSV_jetNSelectedTracks',\n",
    "                   'TagVarCSV_jetNTracksEtaRel']\n",
    "cpf_branches = ['Cpfcan_BtagPf_trackEtaRel',\n",
    "                'Cpfcan_BtagPf_trackPtRel',\n",
    "                'Cpfcan_BtagPf_trackPPar',\n",
    "                'Cpfcan_BtagPf_trackDeltaR',\n",
    "                'Cpfcan_BtagPf_trackPParRatio',\n",
    "                'Cpfcan_BtagPf_trackSip2dVal',\n",
    "                'Cpfcan_BtagPf_trackSip2dSig',\n",
    "                'Cpfcan_BtagPf_trackSip3dVal',\n",
    "                'Cpfcan_BtagPf_trackSip3dSig',\n",
    "                'Cpfcan_BtagPf_trackJetDistVal',\n",
    "                'Cpfcan_ptrel',\n",
    "                'Cpfcan_drminsv',\n",
    "                'Cpfcan_distminsv',\n",
    "                'Cpfcan_VTX_ass',\n",
    "                'Cpfcan_puppiw',\n",
    "                'Cpfcan_chi2',\n",
    "                'Cpfcan_quality']\n",
    "npf_branches = ['Npfcan_ptrel',\n",
    "                'Npfcan_etarel',\n",
    "                'Npfcan_phirel', \n",
    "                'Npfcan_deltaR',\n",
    "                'Npfcan_isGamma',\n",
    "                'Npfcan_HadFrac',\n",
    "                'Npfcan_drminsv',\n",
    "                'Npfcan_puppiw']\n",
    "vtx_branches = ['sv_pt',\n",
    "                'sv_deltaR',\n",
    "                'sv_mass',\n",
    "                'sv_etarel',\n",
    "                'sv_phirel',\n",
    "                'sv_ntracks',\n",
    "                'sv_chi2',\n",
    "                'sv_normchi2',\n",
    "                'sv_dxy',\n",
    "                'sv_dxysig',\n",
    "                'sv_d3d',\n",
    "                'sv_d3dsig',\n",
    "                'sv_costhetasvpv',\n",
    "                'sv_enratio']\n",
    "cpf_pts_branches = ['Cpfcan_pt',\n",
    "                    'Cpfcan_eta',\n",
    "                    'Cpfcan_phi',\n",
    "                    'Cpfcan_e']\n",
    "npf_pts_branches = ['Npfcan_pt',\n",
    "                    'Npfcan_eta',\n",
    "                    'Npfcan_phi',\n",
    "                    'Npfcan_e']\n",
    "vtx_pts_branches = ['sv_pt',\n",
    "                    'sv_eta',\n",
    "                    'sv_phi',\n",
    "                    'sv_e']"
   ]
  },
  {
   "cell_type": "code",
   "execution_count": 8,
   "metadata": {},
   "outputs": [],
   "source": [
    "df_glob = file_.arrays(global_branches, library=\"ak\")"
   ]
  },
  {
   "cell_type": "code",
   "execution_count": 9,
   "metadata": {},
   "outputs": [],
   "source": [
    "df_cpf = file_.arrays(cpf_branches, library=\"ak\")"
   ]
  },
  {
   "cell_type": "code",
   "execution_count": 10,
   "metadata": {},
   "outputs": [],
   "source": [
    "df_npf = file_.arrays(npf_branches, library=\"ak\")"
   ]
  },
  {
   "cell_type": "code",
   "execution_count": 11,
   "metadata": {},
   "outputs": [],
   "source": [
    "df_vtx = file_.arrays(vtx_branches, library=\"ak\")"
   ]
  },
  {
   "cell_type": "code",
   "execution_count": 12,
   "metadata": {},
   "outputs": [],
   "source": [
    "df_cpf_pts = file_.arrays(cpf_pts_branches, library=\"ak\")"
   ]
  },
  {
   "cell_type": "code",
   "execution_count": 13,
   "metadata": {},
   "outputs": [],
   "source": [
    "df_npf_pts = file_.arrays(npf_pts_branches, library=\"ak\")"
   ]
  },
  {
   "cell_type": "code",
   "execution_count": 14,
   "metadata": {},
   "outputs": [],
   "source": [
    "df_vtx_pts = file_.arrays(vtx_pts_branches, library=\"ak\")"
   ]
  },
  {
   "cell_type": "code",
   "execution_count": 385,
   "metadata": {},
   "outputs": [],
   "source": [
    "hflav = file_.arrays('jet_hflav', library=\"ak\")['jet_hflav']"
   ]
  },
  {
   "cell_type": "code",
   "execution_count": 386,
   "metadata": {},
   "outputs": [
    {
     "data": {
      "text/plain": [
       "<Array [0, 0, 0, 0, 0, 0, ... 0, 0, 0, 0, 0, 4] type='400000 * int32'>"
      ]
     },
     "execution_count": 386,
     "metadata": {},
     "output_type": "execute_result"
    }
   ],
   "source": [
    "hflav"
   ]
  },
  {
   "cell_type": "code",
   "execution_count": 15,
   "metadata": {},
   "outputs": [
    {
     "data": {
      "text/plain": [
       "<Array [{jet_pt: 24.3, ... ] type='400000 * {\"jet_pt\": float32, \"jet_eta\": float...'>"
      ]
     },
     "execution_count": 15,
     "metadata": {},
     "output_type": "execute_result"
    }
   ],
   "source": [
    "df_glob"
   ]
  },
  {
   "cell_type": "code",
   "execution_count": 194,
   "metadata": {},
   "outputs": [
    {
     "data": {
      "text/plain": [
       "12956"
      ]
     },
     "execution_count": 194,
     "metadata": {},
     "output_type": "execute_result"
    }
   ],
   "source": [
    "ak.sum(df_glob.nNpfcand == 0)"
   ]
  },
  {
   "cell_type": "code",
   "execution_count": 195,
   "metadata": {},
   "outputs": [
    {
     "data": {
      "text/plain": [
       "<Array [2, 4, 2, 3, 3] type='5 * float32'>"
      ]
     },
     "execution_count": 195,
     "metadata": {},
     "output_type": "execute_result"
    }
   ],
   "source": [
    "df_glob.nNpfcand[:5]"
   ]
  },
  {
   "cell_type": "code",
   "execution_count": 309,
   "metadata": {},
   "outputs": [
    {
     "data": {
      "text/plain": [
       "<Array [0, 0, 1, 0, 2] type='5 * float32'>"
      ]
     },
     "execution_count": 309,
     "metadata": {},
     "output_type": "execute_result"
    }
   ],
   "source": [
    "df_glob.nsv[:5]"
   ]
  },
  {
   "cell_type": "code",
   "execution_count": 16,
   "metadata": {},
   "outputs": [
    {
     "data": {
      "text/plain": [
       "<Array [{Cpfcan_BtagPf_trackEtaRel: [, ... ] type='400000 * {\"Cpfcan_BtagPf_trac...'>"
      ]
     },
     "execution_count": 16,
     "metadata": {},
     "output_type": "execute_result"
    }
   ],
   "source": [
    "df_cpf"
   ]
  },
  {
   "cell_type": "code",
   "execution_count": 17,
   "metadata": {},
   "outputs": [
    {
     "data": {
      "text/plain": [
       "<Array [{Npfcan_ptrel: [-0.918, ... 0.969]}] type='400000 * {\"Npfcan_ptrel\": var...'>"
      ]
     },
     "execution_count": 17,
     "metadata": {},
     "output_type": "execute_result"
    }
   ],
   "source": [
    "df_npf"
   ]
  },
  {
   "cell_type": "code",
   "execution_count": 200,
   "metadata": {},
   "outputs": [
    {
     "data": {
      "text/plain": [
       "400000"
      ]
     },
     "execution_count": 200,
     "metadata": {},
     "output_type": "execute_result"
    }
   ],
   "source": [
    "ak.sum(ak.num(df_npf.Npfcan_ptrel[:]) == df_glob.nNpfcand[:])"
   ]
  },
  {
   "cell_type": "code",
   "execution_count": 18,
   "metadata": {},
   "outputs": [
    {
     "data": {
      "text/plain": [
       "<Array [{sv_pt: [], ... sv_enratio: []}] type='400000 * {\"sv_pt\": var * float32,...'>"
      ]
     },
     "execution_count": 18,
     "metadata": {},
     "output_type": "execute_result"
    }
   ],
   "source": [
    "df_vtx"
   ]
  },
  {
   "cell_type": "code",
   "execution_count": 19,
   "metadata": {},
   "outputs": [
    {
     "data": {
      "text/plain": [
       "<Array [{Cpfcan_pt: [1.39, 12.7, ... 3.57]}] type='400000 * {\"Cpfcan_pt\": var * ...'>"
      ]
     },
     "execution_count": 19,
     "metadata": {},
     "output_type": "execute_result"
    }
   ],
   "source": [
    "df_cpf_pts"
   ]
  },
  {
   "cell_type": "code",
   "execution_count": 20,
   "metadata": {},
   "outputs": [
    {
     "data": {
      "text/plain": [
       "<Array [{Npfcan_pt: [1.99, 1.17, ... 2.83]}] type='400000 * {\"Npfcan_pt\": var * ...'>"
      ]
     },
     "execution_count": 20,
     "metadata": {},
     "output_type": "execute_result"
    }
   ],
   "source": [
    "df_npf_pts"
   ]
  },
  {
   "cell_type": "code",
   "execution_count": 21,
   "metadata": {},
   "outputs": [
    {
     "data": {
      "text/plain": [
       "<Array [{sv_pt: [], sv_eta: [, ... sv_e: []}] type='400000 * {\"sv_pt\": var * flo...'>"
      ]
     },
     "execution_count": 21,
     "metadata": {},
     "output_type": "execute_result"
    }
   ],
   "source": [
    "df_vtx_pts"
   ]
  },
  {
   "cell_type": "code",
   "execution_count": 22,
   "metadata": {},
   "outputs": [],
   "source": [
    "df_cpf_clip = ak.pad_none(df_cpf,25,clip=True)"
   ]
  },
  {
   "cell_type": "code",
   "execution_count": 23,
   "metadata": {},
   "outputs": [],
   "source": [
    "df_npf_clip = ak.pad_none(df_npf,25,clip=True)"
   ]
  },
  {
   "cell_type": "code",
   "execution_count": 24,
   "metadata": {},
   "outputs": [],
   "source": [
    "df_vtx_clip = ak.pad_none(df_vtx,5,clip=True)"
   ]
  },
  {
   "cell_type": "code",
   "execution_count": 25,
   "metadata": {},
   "outputs": [],
   "source": [
    "df_cpf_pts_clip = ak.pad_none(df_cpf_pts,25,clip=True)"
   ]
  },
  {
   "cell_type": "code",
   "execution_count": 26,
   "metadata": {},
   "outputs": [],
   "source": [
    "df_npf_pts_clip = ak.pad_none(df_npf_pts,25,clip=True)"
   ]
  },
  {
   "cell_type": "code",
   "execution_count": 27,
   "metadata": {},
   "outputs": [],
   "source": [
    "df_vtx_pts_clip = ak.pad_none(df_vtx_pts,5,clip=True)"
   ]
  },
  {
   "cell_type": "code",
   "execution_count": 770,
   "metadata": {},
   "outputs": [],
   "source": [
    "glob_np = ak.to_numpy(df_glob)"
   ]
  },
  {
   "cell_type": "code",
   "execution_count": 849,
   "metadata": {},
   "outputs": [],
   "source": [
    "interesting_variable = [#'jet_pt'\n",
    "                   #'jet_eta'\n",
    "                   #'nCpfcand',\n",
    "                   #'nNpfcand',\n",
    "                   #'nsv',\n",
    "                   #'npv',\n",
    "                   #'TagVarCSV_trackSumJetEtRatio',\n",
    "                   #'TagVarCSV_trackSumJetDeltaR',\n",
    "                   #'TagVarCSV_vertexCategory',\n",
    "                   #'TagVarCSV_trackSip2dValAboveCharm',\n",
    "                   #'TagVarCSV_trackSip2dSigAboveCharm',\n",
    "                   #'TagVarCSV_trackSip3dValAboveCharm',\n",
    "                   #'TagVarCSV_trackSip3dSigAboveCharm',\n",
    "                   #'TagVarCSV_jetNSelectedTracks',\n",
    "                   'TagVarCSV_jetNTracksEtaRel'\n",
    "                        ][0]"
   ]
  },
  {
   "cell_type": "code",
   "execution_count": 850,
   "metadata": {
    "scrolled": true
   },
   "outputs": [
    {
     "data": {
      "text/plain": [
       "(array([0., 0., 0., 0., 0., 0., 0., 0., 0., 0., 0., 0., 0., 0., 0., 0., 0.,\n",
       "        0., 0., 0., 0., 0., 0., 0., 0., 0., 0., 0., 0., 0., 0., 0., 0., 0.,\n",
       "        0., 0., 0., 0., 0., 0., 0., 0., 0., 0., 0., 0., 0., 0., 0., 0., 0.,\n",
       "        0., 0., 0., 0., 0., 0., 0., 0., 0., 0., 0., 0., 0., 0., 0., 0., 0.,\n",
       "        0., 0., 0., 0., 0., 0., 0., 0., 0., 0., 0., 0., 0., 0., 0., 0., 0.,\n",
       "        0., 0., 0., 0., 0., 0., 0., 0., 0., 0., 0., 0., 0., 0., 0.]),\n",
       " array([-1000.   ,  -999.985,  -999.97 ,  -999.955,  -999.94 ,  -999.925,\n",
       "         -999.91 ,  -999.895,  -999.88 ,  -999.865,  -999.85 ,  -999.835,\n",
       "         -999.82 ,  -999.805,  -999.79 ,  -999.775,  -999.76 ,  -999.745,\n",
       "         -999.73 ,  -999.715,  -999.7  ,  -999.685,  -999.67 ,  -999.655,\n",
       "         -999.64 ,  -999.625,  -999.61 ,  -999.595,  -999.58 ,  -999.565,\n",
       "         -999.55 ,  -999.535,  -999.52 ,  -999.505,  -999.49 ,  -999.475,\n",
       "         -999.46 ,  -999.445,  -999.43 ,  -999.415,  -999.4  ,  -999.385,\n",
       "         -999.37 ,  -999.355,  -999.34 ,  -999.325,  -999.31 ,  -999.295,\n",
       "         -999.28 ,  -999.265,  -999.25 ,  -999.235,  -999.22 ,  -999.205,\n",
       "         -999.19 ,  -999.175,  -999.16 ,  -999.145,  -999.13 ,  -999.115,\n",
       "         -999.1  ,  -999.085,  -999.07 ,  -999.055,  -999.04 ,  -999.025,\n",
       "         -999.01 ,  -998.995,  -998.98 ,  -998.965,  -998.95 ,  -998.935,\n",
       "         -998.92 ,  -998.905,  -998.89 ,  -998.875,  -998.86 ,  -998.845,\n",
       "         -998.83 ,  -998.815,  -998.8  ,  -998.785,  -998.77 ,  -998.755,\n",
       "         -998.74 ,  -998.725,  -998.71 ,  -998.695,  -998.68 ,  -998.665,\n",
       "         -998.65 ,  -998.635,  -998.62 ,  -998.605,  -998.59 ,  -998.575,\n",
       "         -998.56 ,  -998.545,  -998.53 ,  -998.515,  -998.5  ],\n",
       "       dtype=float32),\n",
       " <BarContainer object of 100 artists>)"
      ]
     },
     "execution_count": 850,
     "metadata": {},
     "output_type": "execute_result"
    },
    {
     "data": {
      "image/png": "[encoded data removed]",
      "text/plain": [
       "<Figure size 432x288 with 1 Axes>"
      ]
     },
     "metadata": {
      "needs_background": "light"
     },
     "output_type": "display_data"
    }
   ],
   "source": [
    "plt.hist(glob_np[interesting_variable], bins=100, range=(-1000,-998.5))"
   ]
  },
  {
   "cell_type": "code",
   "execution_count": 851,
   "metadata": {
    "scrolled": true
   },
   "outputs": [
    {
     "data": {
      "text/plain": [
       "(array([     0.,      0.,      0.,      0.,      0.,      0.,      0.,\n",
       "             0.,      0.,      0.,      0.,      0.,      0.,      0.,\n",
       "             0.,      0.,      0.,      0.,      0.,      0.,      0.,\n",
       "             0.,      0.,      0.,      0.,      0.,      0.,      0.,\n",
       "             0.,      0.,      0.,      0.,      0.,      0.,      0.,\n",
       "             0.,      0.,      0.,      0.,      0.,      0.,      0.,\n",
       "             0.,      0.,      0.,      0.,      0.,      0.,      0.,\n",
       "             0., 262942.,      0.,      0.,      0.,      0.,      0.,\n",
       "             0.,      0.,      0.,      0.,      0.,      0.,      0.,\n",
       "             0.,      0.,      0.,      0.,      0.,      0.,      0.,\n",
       "             0.,      0.,      0.,      0.,      0.,      0.,      0.,\n",
       "             0.,      0.,      0.,      0.,      0.,      0.,      0.,\n",
       "             0.,      0.,      0.,      0.,      0.,      0.,      0.,\n",
       "             0.,      0.,      0.,      0.,      0.,      0.,      0.,\n",
       "             0.,      0.]),\n",
       " array([-1.  , -0.98, -0.96, -0.94, -0.92, -0.9 , -0.88, -0.86, -0.84,\n",
       "        -0.82, -0.8 , -0.78, -0.76, -0.74, -0.72, -0.7 , -0.68, -0.66,\n",
       "        -0.64, -0.62, -0.6 , -0.58, -0.56, -0.54, -0.52, -0.5 , -0.48,\n",
       "        -0.46, -0.44, -0.42, -0.4 , -0.38, -0.36, -0.34, -0.32, -0.3 ,\n",
       "        -0.28, -0.26, -0.24, -0.22, -0.2 , -0.18, -0.16, -0.14, -0.12,\n",
       "        -0.1 , -0.08, -0.06, -0.04, -0.02,  0.  ,  0.02,  0.04,  0.06,\n",
       "         0.08,  0.1 ,  0.12,  0.14,  0.16,  0.18,  0.2 ,  0.22,  0.24,\n",
       "         0.26,  0.28,  0.3 ,  0.32,  0.34,  0.36,  0.38,  0.4 ,  0.42,\n",
       "         0.44,  0.46,  0.48,  0.5 ,  0.52,  0.54,  0.56,  0.58,  0.6 ,\n",
       "         0.62,  0.64,  0.66,  0.68,  0.7 ,  0.72,  0.74,  0.76,  0.78,\n",
       "         0.8 ,  0.82,  0.84,  0.86,  0.88,  0.9 ,  0.92,  0.94,  0.96,\n",
       "         0.98,  1.  ], dtype=float32),\n",
       " <BarContainer object of 100 artists>)"
      ]
     },
     "execution_count": 851,
     "metadata": {},
     "output_type": "execute_result"
    },
    {
     "data": {
      "image/png": "[encoded data removed]",
      "text/plain": [
       "<Figure size 432x288 with 1 Axes>"
      ]
     },
     "metadata": {
      "needs_background": "light"
     },
     "output_type": "display_data"
    }
   ],
   "source": [
    "plt.hist(glob_np[interesting_variable], bins=100, range=(-1,1))"
   ]
  },
  {
   "cell_type": "code",
   "execution_count": 852,
   "metadata": {
    "scrolled": true
   },
   "outputs": [
    {
     "data": {
      "text/plain": [
       "(array([     0.,      0.,      0.,      0.,      0.,      0.,      0.,\n",
       "             0.,      0.,      0.,      0.,      0.,      0.,      0.,\n",
       "             0.,      0.,      0.,      0.,      0.,      0.,      0.,\n",
       "             0.,      0.,      0.,      0.,      0.,      0.,      0.,\n",
       "             0.,      0.,      0.,      0.,      0.,      0.,      0.,\n",
       "             0.,      0.,      0.,      0.,      0.,      0.,      0.,\n",
       "             0.,      0.,      0.,      0.,      0.,      0.,      0.,\n",
       "             0., 262942.,      0.,      0.,      0.,      0.,      0.,\n",
       "             0.,      0.,      0.,      0.,      0.,      0.,      0.,\n",
       "             0.,      0.,      0.,      0.,      0.,      0.,      0.,\n",
       "             0.,      0.,      0.,      0.,      0.,      0.,      0.,\n",
       "             0.,      0.,      0.,      0.,      0.,      0.,      0.,\n",
       "             0.,      0.,      0.,      0.,      0.,      0.,      0.,\n",
       "             0.,      0.,      0.,      0.,      0.,      0.,      0.,\n",
       "             0.,      0.]),\n",
       " array([-1.0e-03, -9.8e-04, -9.6e-04, -9.4e-04, -9.2e-04, -9.0e-04,\n",
       "        -8.8e-04, -8.6e-04, -8.4e-04, -8.2e-04, -8.0e-04, -7.8e-04,\n",
       "        -7.6e-04, -7.4e-04, -7.2e-04, -7.0e-04, -6.8e-04, -6.6e-04,\n",
       "        -6.4e-04, -6.2e-04, -6.0e-04, -5.8e-04, -5.6e-04, -5.4e-04,\n",
       "        -5.2e-04, -5.0e-04, -4.8e-04, -4.6e-04, -4.4e-04, -4.2e-04,\n",
       "        -4.0e-04, -3.8e-04, -3.6e-04, -3.4e-04, -3.2e-04, -3.0e-04,\n",
       "        -2.8e-04, -2.6e-04, -2.4e-04, -2.2e-04, -2.0e-04, -1.8e-04,\n",
       "        -1.6e-04, -1.4e-04, -1.2e-04, -1.0e-04, -8.0e-05, -6.0e-05,\n",
       "        -4.0e-05, -2.0e-05,  0.0e+00,  2.0e-05,  4.0e-05,  6.0e-05,\n",
       "         8.0e-05,  1.0e-04,  1.2e-04,  1.4e-04,  1.6e-04,  1.8e-04,\n",
       "         2.0e-04,  2.2e-04,  2.4e-04,  2.6e-04,  2.8e-04,  3.0e-04,\n",
       "         3.2e-04,  3.4e-04,  3.6e-04,  3.8e-04,  4.0e-04,  4.2e-04,\n",
       "         4.4e-04,  4.6e-04,  4.8e-04,  5.0e-04,  5.2e-04,  5.4e-04,\n",
       "         5.6e-04,  5.8e-04,  6.0e-04,  6.2e-04,  6.4e-04,  6.6e-04,\n",
       "         6.8e-04,  7.0e-04,  7.2e-04,  7.4e-04,  7.6e-04,  7.8e-04,\n",
       "         8.0e-04,  8.2e-04,  8.4e-04,  8.6e-04,  8.8e-04,  9.0e-04,\n",
       "         9.2e-04,  9.4e-04,  9.6e-04,  9.8e-04,  1.0e-03], dtype=float32),\n",
       " <BarContainer object of 100 artists>)"
      ]
     },
     "execution_count": 852,
     "metadata": {},
     "output_type": "execute_result"
    },
    {
     "data": {
      "image/png": "[encoded data removed]",
      "text/plain": [
       "<Figure size 432x288 with 1 Axes>"
      ]
     },
     "metadata": {
      "needs_background": "light"
     },
     "output_type": "display_data"
    }
   ],
   "source": [
    "plt.hist(glob_np[interesting_variable], bins=100, range=(-0.001,0.001))"
   ]
  },
  {
   "cell_type": "code",
   "execution_count": 853,
   "metadata": {
    "scrolled": true
   },
   "outputs": [
    {
     "data": {
      "text/plain": [
       "(array([0., 0., 0., 0., 0., 0., 0., 0., 0., 0., 0., 0., 0., 0., 0., 0., 0.,\n",
       "        0., 0., 0., 0., 0., 0., 0., 0., 0., 0., 0., 0., 0., 0., 0., 0., 0.,\n",
       "        0., 0., 0., 0., 0., 0., 0., 0., 0., 0., 0., 0., 0., 0., 0., 0., 0.,\n",
       "        0., 0., 0., 0., 0., 0., 0., 0., 0., 0., 0., 0., 0., 0., 0., 0., 0.,\n",
       "        0., 0., 0., 0., 0., 0., 0., 0., 0., 0., 0., 0., 0., 0., 0., 0., 0.,\n",
       "        0., 0., 0., 0., 0., 0., 0., 0., 0., 0., 0., 0., 0., 0., 0.]),\n",
       " array([-1.0001e+01, -9.9010e+00, -9.8010e+00, -9.7010e+00, -9.6010e+00,\n",
       "        -9.5010e+00, -9.4010e+00, -9.3010e+00, -9.2010e+00, -9.1010e+00,\n",
       "        -9.0010e+00, -8.9010e+00, -8.8010e+00, -8.7010e+00, -8.6010e+00,\n",
       "        -8.5010e+00, -8.4010e+00, -8.3010e+00, -8.2010e+00, -8.1010e+00,\n",
       "        -8.0010e+00, -7.9010e+00, -7.8010e+00, -7.7010e+00, -7.6010e+00,\n",
       "        -7.5010e+00, -7.4010e+00, -7.3010e+00, -7.2010e+00, -7.1010e+00,\n",
       "        -7.0010e+00, -6.9010e+00, -6.8010e+00, -6.7010e+00, -6.6010e+00,\n",
       "        -6.5010e+00, -6.4010e+00, -6.3010e+00, -6.2010e+00, -6.1010e+00,\n",
       "        -6.0010e+00, -5.9010e+00, -5.8010e+00, -5.7010e+00, -5.6010e+00,\n",
       "        -5.5010e+00, -5.4010e+00, -5.3010e+00, -5.2010e+00, -5.1010e+00,\n",
       "        -5.0010e+00, -4.9010e+00, -4.8010e+00, -4.7010e+00, -4.6010e+00,\n",
       "        -4.5010e+00, -4.4010e+00, -4.3010e+00, -4.2010e+00, -4.1010e+00,\n",
       "        -4.0010e+00, -3.9010e+00, -3.8010e+00, -3.7010e+00, -3.6010e+00,\n",
       "        -3.5010e+00, -3.4010e+00, -3.3010e+00, -3.2010e+00, -3.1010e+00,\n",
       "        -3.0010e+00, -2.9010e+00, -2.8010e+00, -2.7010e+00, -2.6010e+00,\n",
       "        -2.5010e+00, -2.4010e+00, -2.3010e+00, -2.2010e+00, -2.1010e+00,\n",
       "        -2.0010e+00, -1.9010e+00, -1.8010e+00, -1.7010e+00, -1.6010e+00,\n",
       "        -1.5010e+00, -1.4010e+00, -1.3010e+00, -1.2010e+00, -1.1010e+00,\n",
       "        -1.0010e+00, -9.0100e-01, -8.0100e-01, -7.0100e-01, -6.0100e-01,\n",
       "        -5.0100e-01, -4.0100e-01, -3.0100e-01, -2.0100e-01, -1.0100e-01,\n",
       "        -1.0000e-03], dtype=float32),\n",
       " <BarContainer object of 100 artists>)"
      ]
     },
     "execution_count": 853,
     "metadata": {},
     "output_type": "execute_result"
    },
    {
     "data": {
      "image/png": "[encoded data removed]",
      "text/plain": [
       "<Figure size 432x288 with 1 Axes>"
      ]
     },
     "metadata": {
      "needs_background": "light"
     },
     "output_type": "display_data"
    }
   ],
   "source": [
    "plt.hist(glob_np[interesting_variable], bins=100, range=(-10.001,-0.001))"
   ]
  },
  {
   "cell_type": "code",
   "execution_count": 854,
   "metadata": {
    "scrolled": true
   },
   "outputs": [
    {
     "data": {
      "text/plain": [
       "(array([0., 0., 0., 0., 0., 0., 0., 0., 0., 0., 0., 0., 0., 0., 0., 0., 0.,\n",
       "        0., 0., 0., 0., 0., 0., 0., 0., 0., 0., 0., 0., 0., 0., 0., 0., 0.,\n",
       "        0., 0., 0., 0., 0., 0., 0., 0., 0., 0., 0., 0., 0., 0., 0., 0., 0.,\n",
       "        0., 0., 0., 0., 0., 0., 0., 0., 0., 0., 0., 0., 0., 0., 0., 0., 0.,\n",
       "        0., 0., 0., 0., 0., 0., 0., 0., 0., 0., 0., 0., 0., 0., 0., 0., 0.,\n",
       "        0., 0., 0., 0., 0., 0., 0., 0., 0., 0., 0., 0., 0., 0., 0.]),\n",
       " array([0.001  , 0.00599, 0.01098, 0.01597, 0.02096, 0.02595, 0.03094,\n",
       "        0.03593, 0.04092, 0.04591, 0.0509 , 0.05589, 0.06088, 0.06587,\n",
       "        0.07086, 0.07585, 0.08084, 0.08583, 0.09082, 0.09581, 0.1008 ,\n",
       "        0.10579, 0.11078, 0.11577, 0.12076, 0.12575, 0.13074, 0.13573,\n",
       "        0.14072, 0.14571, 0.1507 , 0.15569, 0.16068, 0.16567, 0.17066,\n",
       "        0.17565, 0.18064, 0.18563, 0.19062, 0.19561, 0.2006 , 0.20559,\n",
       "        0.21058, 0.21557, 0.22056, 0.22555, 0.23054, 0.23553, 0.24052,\n",
       "        0.24551, 0.2505 , 0.25549, 0.26048, 0.26547, 0.27046, 0.27545,\n",
       "        0.28044, 0.28543, 0.29042, 0.29541, 0.3004 , 0.30539, 0.31038,\n",
       "        0.31537, 0.32036, 0.32535, 0.33034, 0.33533, 0.34032, 0.34531,\n",
       "        0.3503 , 0.35529, 0.36028, 0.36527, 0.37026, 0.37525, 0.38024,\n",
       "        0.38523, 0.39022, 0.39521, 0.4002 , 0.40519, 0.41018, 0.41517,\n",
       "        0.42016, 0.42515, 0.43014, 0.43513, 0.44012, 0.44511, 0.4501 ,\n",
       "        0.45509, 0.46008, 0.46507, 0.47006, 0.47505, 0.48004, 0.48503,\n",
       "        0.49002, 0.49501, 0.5    ], dtype=float32),\n",
       " <BarContainer object of 100 artists>)"
      ]
     },
     "execution_count": 854,
     "metadata": {},
     "output_type": "execute_result"
    },
    {
     "data": {
      "image/png": "[encoded data removed]",
      "text/plain": [
       "<Figure size 432x288 with 1 Axes>"
      ]
     },
     "metadata": {
      "needs_background": "light"
     },
     "output_type": "display_data"
    }
   ],
   "source": [
    "plt.hist(glob_np[interesting_variable], bins=100, range=(0.001,0.5))"
   ]
  },
  {
   "cell_type": "code",
   "execution_count": 855,
   "metadata": {
    "scrolled": true
   },
   "outputs": [
    {
     "data": {
      "text/plain": [
       "(array([2.62942e+05, 0.00000e+00, 0.00000e+00, 0.00000e+00, 0.00000e+00,\n",
       "        0.00000e+00, 5.05730e+04, 0.00000e+00, 0.00000e+00, 0.00000e+00,\n",
       "        2.99210e+04, 0.00000e+00, 0.00000e+00, 2.07230e+04, 0.00000e+00,\n",
       "        0.00000e+00, 0.00000e+00, 1.32890e+04, 0.00000e+00, 0.00000e+00,\n",
       "        8.59000e+03, 0.00000e+00, 0.00000e+00, 0.00000e+00, 5.36800e+03,\n",
       "        0.00000e+00, 0.00000e+00, 3.32300e+03, 0.00000e+00, 0.00000e+00,\n",
       "        0.00000e+00, 2.01400e+03, 0.00000e+00, 0.00000e+00, 1.24800e+03,\n",
       "        0.00000e+00, 0.00000e+00, 7.06000e+02, 0.00000e+00, 0.00000e+00,\n",
       "        0.00000e+00, 4.49000e+02, 0.00000e+00, 0.00000e+00, 3.22000e+02,\n",
       "        0.00000e+00, 0.00000e+00, 0.00000e+00, 1.96000e+02, 0.00000e+00,\n",
       "        0.00000e+00, 1.06000e+02, 0.00000e+00, 0.00000e+00, 0.00000e+00,\n",
       "        6.80000e+01, 0.00000e+00, 0.00000e+00, 6.30000e+01, 0.00000e+00,\n",
       "        0.00000e+00, 0.00000e+00, 3.70000e+01, 0.00000e+00, 0.00000e+00,\n",
       "        1.60000e+01, 0.00000e+00, 0.00000e+00, 1.50000e+01, 0.00000e+00,\n",
       "        0.00000e+00, 0.00000e+00, 9.00000e+00, 0.00000e+00, 0.00000e+00,\n",
       "        6.00000e+00, 0.00000e+00, 0.00000e+00, 0.00000e+00, 8.00000e+00,\n",
       "        0.00000e+00, 0.00000e+00, 3.00000e+00, 0.00000e+00, 0.00000e+00,\n",
       "        0.00000e+00, 2.00000e+00, 0.00000e+00, 0.00000e+00, 0.00000e+00,\n",
       "        0.00000e+00, 0.00000e+00, 0.00000e+00, 1.00000e+00, 0.00000e+00,\n",
       "        0.00000e+00, 1.00000e+00, 0.00000e+00, 0.00000e+00, 1.00000e+00]),\n",
       " array([ 0.  ,  0.29,  0.58,  0.87,  1.16,  1.45,  1.74,  2.03,  2.32,\n",
       "         2.61,  2.9 ,  3.19,  3.48,  3.77,  4.06,  4.35,  4.64,  4.93,\n",
       "         5.22,  5.51,  5.8 ,  6.09,  6.38,  6.67,  6.96,  7.25,  7.54,\n",
       "         7.83,  8.12,  8.41,  8.7 ,  8.99,  9.28,  9.57,  9.86, 10.15,\n",
       "        10.44, 10.73, 11.02, 11.31, 11.6 , 11.89, 12.18, 12.47, 12.76,\n",
       "        13.05, 13.34, 13.63, 13.92, 14.21, 14.5 , 14.79, 15.08, 15.37,\n",
       "        15.66, 15.95, 16.24, 16.53, 16.82, 17.11, 17.4 , 17.69, 17.98,\n",
       "        18.27, 18.56, 18.85, 19.14, 19.43, 19.72, 20.01, 20.3 , 20.59,\n",
       "        20.88, 21.17, 21.46, 21.75, 22.04, 22.33, 22.62, 22.91, 23.2 ,\n",
       "        23.49, 23.78, 24.07, 24.36, 24.65, 24.94, 25.23, 25.52, 25.81,\n",
       "        26.1 , 26.39, 26.68, 26.97, 27.26, 27.55, 27.84, 28.13, 28.42,\n",
       "        28.71, 29.  ], dtype=float32),\n",
       " <BarContainer object of 100 artists>)"
      ]
     },
     "execution_count": 855,
     "metadata": {},
     "output_type": "execute_result"
    },
    {
     "data": {
      "image/png": "[encoded data removed]",
      "text/plain": [
       "<Figure size 432x288 with 1 Axes>"
      ]
     },
     "metadata": {
      "needs_background": "light"
     },
     "output_type": "display_data"
    }
   ],
   "source": [
    "plt.hist(glob_np[interesting_variable], bins=100)"
   ]
  },
  {
   "cell_type": "code",
   "execution_count": 841,
   "metadata": {},
   "outputs": [],
   "source": [
    "first_cpf_stuff = ak.to_numpy(df_cpf_clip[:,0])"
   ]
  },
  {
   "cell_type": "code",
   "execution_count": 37,
   "metadata": {},
   "outputs": [
    {
     "data": {
      "text/plain": [
       "array([(3.9922452, 0.15719667, 5.69242  , 0.11835653, 0.99961895, 0.06554688, 8.66898   , -0.08118549, -1.       , -0.08117825, -0.94277656,  0.        , -0.06390209, 1., 1., 1., 5.),\n",
       "       (3.6416776, 0.1746006 , 4.261532 , 0.0572213 , 0.9991617 , 0.00546387, 1.6850264 ,  0.00576854,  1.6992868, -0.00497175, -0.9101652 ,  0.        , -0.06240688, 7., 1., 0., 5.),\n",
       "       (3.94369  , 0.07909249, 4.1380453, 0.04106777, 0.9998174 , 0.00271729, 0.29778674,  0.01220525,  1.3711841, -0.01216949, -0.92804575, -0.06095362,  0.00505973, 7., 1., 0., 5.),\n",
       "       ...,\n",
       "       (3.184486 , 0.20769876, 3.017041 , 0.15494269, 0.99763876, 0.00351074, 0.41515988,  0.00842686,  1.0017215, -0.00839632, -0.9424196 ,  0.        , -0.08346832, 7., 1., 0., 5.),\n",
       "       (2.6816764, 1.1022617 , 8.078046 , 0.2175034 , 0.9908185 , 0.00584961, 2.0261605 ,  0.00617605,  2.099026 , -0.00109233, -0.96379673,  0.        ,  0.        , 7., 1., 0., 5.),\n",
       "       (2.8471365, 0.27434248, 2.6440926, 0.2633677 , 0.9946603 , 0.0065918 , 0.95242286,  0.00682706,  0.9851005, -0.00374601, -0.93530834,  0.        , -0.04795503, 7., 1., 0., 5.)],\n",
       "      dtype=[('Cpfcan_BtagPf_trackEtaRel', '<f4'), ('Cpfcan_BtagPf_trackPtRel', '<f4'), ('Cpfcan_BtagPf_trackPPar', '<f4'), ('Cpfcan_BtagPf_trackDeltaR', '<f4'), ('Cpfcan_BtagPf_trackPParRatio', '<f4'), ('Cpfcan_BtagPf_trackSip2dVal', '<f4'), ('Cpfcan_BtagPf_trackSip2dSig', '<f4'), ('Cpfcan_BtagPf_trackSip3dVal', '<f4'), ('Cpfcan_BtagPf_trackSip3dSig', '<f4'), ('Cpfcan_BtagPf_trackJetDistVal', '<f4'), ('Cpfcan_ptrel', '<f4'), ('Cpfcan_drminsv', '<f4'), ('Cpfcan_distminsv', '<f4'), ('Cpfcan_VTX_ass', '<f4'), ('Cpfcan_puppiw', '<f4'), ('Cpfcan_chi2', '<f4'), ('Cpfcan_quality', '<f4')])"
      ]
     },
     "execution_count": 37,
     "metadata": {},
     "output_type": "execute_result"
    }
   ],
   "source": [
    "first_cpf_stuff"
   ]
  },
  {
   "cell_type": "code",
   "execution_count": 856,
   "metadata": {
    "scrolled": true
   },
   "outputs": [
    {
     "data": {
      "text/plain": [
       "(array([0., 0., 0., 0., 0., 0., 0., 0., 0., 0., 0., 0., 0., 0., 0., 0., 0.,\n",
       "        0., 0., 0., 0., 0., 0., 0., 0., 0., 0., 0., 0., 0., 0., 0., 0., 0.,\n",
       "        0., 0., 0., 0., 0., 0., 0., 0., 0., 0., 0., 0., 0., 0., 0., 0., 0.,\n",
       "        0., 0., 0., 0., 0., 0., 0., 0., 0., 0., 0., 0., 0., 0., 0., 0., 0.,\n",
       "        0., 0., 0., 0., 0., 0., 0., 0., 0., 0., 0., 0., 0., 0., 0., 0., 0.,\n",
       "        0., 0., 0., 0., 0., 0., 0., 0., 0., 0., 0., 0., 0., 0., 0.]),\n",
       " array([-1000.  ,  -999.98,  -999.96,  -999.94,  -999.92,  -999.9 ,\n",
       "         -999.88,  -999.86,  -999.84,  -999.82,  -999.8 ,  -999.78,\n",
       "         -999.76,  -999.74,  -999.72,  -999.7 ,  -999.68,  -999.66,\n",
       "         -999.64,  -999.62,  -999.6 ,  -999.58,  -999.56,  -999.54,\n",
       "         -999.52,  -999.5 ,  -999.48,  -999.46,  -999.44,  -999.42,\n",
       "         -999.4 ,  -999.38,  -999.36,  -999.34,  -999.32,  -999.3 ,\n",
       "         -999.28,  -999.26,  -999.24,  -999.22,  -999.2 ,  -999.18,\n",
       "         -999.16,  -999.14,  -999.12,  -999.1 ,  -999.08,  -999.06,\n",
       "         -999.04,  -999.02,  -999.  ,  -998.98,  -998.96,  -998.94,\n",
       "         -998.92,  -998.9 ,  -998.88,  -998.86,  -998.84,  -998.82,\n",
       "         -998.8 ,  -998.78,  -998.76,  -998.74,  -998.72,  -998.7 ,\n",
       "         -998.68,  -998.66,  -998.64,  -998.62,  -998.6 ,  -998.58,\n",
       "         -998.56,  -998.54,  -998.52,  -998.5 ,  -998.48,  -998.46,\n",
       "         -998.44,  -998.42,  -998.4 ,  -998.38,  -998.36,  -998.34,\n",
       "         -998.32,  -998.3 ,  -998.28,  -998.26,  -998.24,  -998.22,\n",
       "         -998.2 ,  -998.18,  -998.16,  -998.14,  -998.12,  -998.1 ,\n",
       "         -998.08,  -998.06,  -998.04,  -998.02,  -998.  ], dtype=float32),\n",
       " <BarContainer object of 100 artists>)"
      ]
     },
     "execution_count": 856,
     "metadata": {},
     "output_type": "execute_result"
    },
    {
     "data": {
      "image/png": "[encoded data removed]",
      "text/plain": [
       "<Figure size 432x288 with 1 Axes>"
      ]
     },
     "metadata": {
      "needs_background": "light"
     },
     "output_type": "display_data"
    }
   ],
   "source": [
    "interesting_variable = 'Cpfcan_ptrel'\n",
    "#plt.hist(first_cpf_stuff[interesting_variable],bins=100)\n",
    "plt.hist(first_cpf_stuff[interesting_variable],bins=100,range=(-1000,-998))"
   ]
  },
  {
   "cell_type": "code",
   "execution_count": 857,
   "metadata": {
    "scrolled": true
   },
   "outputs": [
    {
     "data": {
      "text/plain": [
       "(array([    0., 76840., 45746., 36520., 30262., 27297., 24704., 20497.,\n",
       "        16810., 13617., 11409.,  9710.,  8268.,  7116.,  6323.,  5493.,\n",
       "         4891.,  4381.,  3796.,  3494.,  2996.,  2737.,  2505.,  2383.,\n",
       "         2081.,  1859.,  1835.,  1570.,  1394.,  1409.,  1160.,  1095.,\n",
       "          942.,   975.,   875.,   831.,   724.,   634.,   606.,   569.,\n",
       "          492.,   488.,   447.,   434.,   430.,   343.,   352.,   333.,\n",
       "          293.,   283.,   284.,   260.,   244.,   205.,   216.,   198.,\n",
       "          182.,   180.,   168.,   163.,   131.,   141.,   130.,   126.,\n",
       "          117.,   118.,   115.,    98.,   115.,    98.,    88.,   104.,\n",
       "           81.,    88.,    78.,    88.,    88.,    95.,    82.,    86.,\n",
       "           98.,    98.,   110.,   133.,   131.,   125.,   125.,   135.,\n",
       "          142.,   166.,   181.,   164.,   190.,   196.,   213.,   204.,\n",
       "          187.,   152.,   118.,  1364.]),\n",
       " array([-1.01  , -0.9999, -0.9898, -0.9797, -0.9696, -0.9595, -0.9494,\n",
       "        -0.9393, -0.9292, -0.9191, -0.909 , -0.8989, -0.8888, -0.8787,\n",
       "        -0.8686, -0.8585, -0.8484, -0.8383, -0.8282, -0.8181, -0.808 ,\n",
       "        -0.7979, -0.7878, -0.7777, -0.7676, -0.7575, -0.7474, -0.7373,\n",
       "        -0.7272, -0.7171, -0.707 , -0.6969, -0.6868, -0.6767, -0.6666,\n",
       "        -0.6565, -0.6464, -0.6363, -0.6262, -0.6161, -0.606 , -0.5959,\n",
       "        -0.5858, -0.5757, -0.5656, -0.5555, -0.5454, -0.5353, -0.5252,\n",
       "        -0.5151, -0.505 , -0.4949, -0.4848, -0.4747, -0.4646, -0.4545,\n",
       "        -0.4444, -0.4343, -0.4242, -0.4141, -0.404 , -0.3939, -0.3838,\n",
       "        -0.3737, -0.3636, -0.3535, -0.3434, -0.3333, -0.3232, -0.3131,\n",
       "        -0.303 , -0.2929, -0.2828, -0.2727, -0.2626, -0.2525, -0.2424,\n",
       "        -0.2323, -0.2222, -0.2121, -0.202 , -0.1919, -0.1818, -0.1717,\n",
       "        -0.1616, -0.1515, -0.1414, -0.1313, -0.1212, -0.1111, -0.101 ,\n",
       "        -0.0909, -0.0808, -0.0707, -0.0606, -0.0505, -0.0404, -0.0303,\n",
       "        -0.0202, -0.0101,  0.    ], dtype=float32),\n",
       " <BarContainer object of 100 artists>)"
      ]
     },
     "execution_count": 857,
     "metadata": {},
     "output_type": "execute_result"
    },
    {
     "data": {
      "image/png": "[encoded data removed]",
      "text/plain": [
       "<Figure size 432x288 with 1 Axes>"
      ]
     },
     "metadata": {
      "needs_background": "light"
     },
     "output_type": "display_data"
    }
   ],
   "source": [
    "plt.hist(first_cpf_stuff[interesting_variable],bins=100,range=(-1.01,0))"
   ]
  },
  {
   "cell_type": "code",
   "execution_count": 858,
   "metadata": {
    "scrolled": true
   },
   "outputs": [
    {
     "data": {
      "text/plain": [
       "(array([  52.,   49.,   54.,   59.,   60.,   53.,   42.,   55.,   43.,\n",
       "          50.,   47.,   40.,   46.,   52.,   41.,   45.,   43.,   39.,\n",
       "          46.,   48.,   45.,   45.,   33.,   42.,   29.,   32.,   45.,\n",
       "          38.,   44.,   33.,   31.,   37.,   37.,   29.,   27.,   41.,\n",
       "          24.,   41.,   37.,   30.,   28.,   41.,   29.,   48.,   34.,\n",
       "          26.,   38.,   34.,   38.,   41.,   39.,   30.,   36.,   40.,\n",
       "          43.,   45.,   43.,   60.,   51.,   47.,   56.,   43.,   50.,\n",
       "          52.,   51.,   42.,   51.,   49.,   58.,   57.,   53.,   61.,\n",
       "          53.,   65.,   78.,   73.,   69.,   62.,   71.,   61.,   82.,\n",
       "          73.,   80.,   80.,   81.,   77.,   84.,   91.,   79.,   77.,\n",
       "          72.,   75.,   72.,   56.,   61.,   60.,   38.,   30.,   23.,\n",
       "        1325.]),\n",
       " array([-0.4  , -0.396, -0.392, -0.388, -0.384, -0.38 , -0.376, -0.372,\n",
       "        -0.368, -0.364, -0.36 , -0.356, -0.352, -0.348, -0.344, -0.34 ,\n",
       "        -0.336, -0.332, -0.328, -0.324, -0.32 , -0.316, -0.312, -0.308,\n",
       "        -0.304, -0.3  , -0.296, -0.292, -0.288, -0.284, -0.28 , -0.276,\n",
       "        -0.272, -0.268, -0.264, -0.26 , -0.256, -0.252, -0.248, -0.244,\n",
       "        -0.24 , -0.236, -0.232, -0.228, -0.224, -0.22 , -0.216, -0.212,\n",
       "        -0.208, -0.204, -0.2  , -0.196, -0.192, -0.188, -0.184, -0.18 ,\n",
       "        -0.176, -0.172, -0.168, -0.164, -0.16 , -0.156, -0.152, -0.148,\n",
       "        -0.144, -0.14 , -0.136, -0.132, -0.128, -0.124, -0.12 , -0.116,\n",
       "        -0.112, -0.108, -0.104, -0.1  , -0.096, -0.092, -0.088, -0.084,\n",
       "        -0.08 , -0.076, -0.072, -0.068, -0.064, -0.06 , -0.056, -0.052,\n",
       "        -0.048, -0.044, -0.04 , -0.036, -0.032, -0.028, -0.024, -0.02 ,\n",
       "        -0.016, -0.012, -0.008, -0.004,  0.   ], dtype=float32),\n",
       " <BarContainer object of 100 artists>)"
      ]
     },
     "execution_count": 858,
     "metadata": {},
     "output_type": "execute_result"
    },
    {
     "data": {
      "image/png": "[encoded data removed]",
      "text/plain": [
       "<Figure size 432x288 with 1 Axes>"
      ]
     },
     "metadata": {
      "needs_background": "light"
     },
     "output_type": "display_data"
    }
   ],
   "source": [
    "plt.hist(first_cpf_stuff[interesting_variable],bins=100,range=(-0.40,0))"
   ]
  },
  {
   "cell_type": "code",
   "execution_count": 859,
   "metadata": {
    "scrolled": true
   },
   "outputs": [
    {
     "data": {
      "text/plain": [
       "(array([   0.,    0.,    0.,    0.,    0.,    0.,    0.,    0.,    0.,\n",
       "           0.,    0.,    0.,    0.,    0.,    0.,    0.,    0.,    0.,\n",
       "           0.,    0.,    0.,    0.,    0.,    0.,    0.,    0.,    0.,\n",
       "           0.,    0.,    0.,    0.,    0.,    0.,    0.,    0.,    0.,\n",
       "           0.,    0.,    0.,    0.,    0.,    0.,    0.,    0.,    0.,\n",
       "           0.,    0.,    0.,    0.,    0.,    0.,    0.,   71.,  678.,\n",
       "        1151., 1723., 2025., 2261., 2453., 2487., 2389., 2451., 2409.,\n",
       "        2356., 2218., 2169., 2187., 2016., 1976., 1922., 1912., 1795.,\n",
       "        1670., 1714., 1632., 1619., 1539., 1493., 1517., 1496., 1372.,\n",
       "        1385., 1365., 1322., 1337., 1261., 1265., 1227., 1256., 1216.,\n",
       "        1225., 1196., 1191., 1155., 1213., 1125., 1102., 1109., 1038.,\n",
       "        1109.]),\n",
       " array([-1.01  , -1.0098, -1.0096, -1.0094, -1.0092, -1.009 , -1.0088,\n",
       "        -1.0086, -1.0084, -1.0082, -1.008 , -1.0078, -1.0076, -1.0074,\n",
       "        -1.0072, -1.007 , -1.0068, -1.0066, -1.0064, -1.0062, -1.006 ,\n",
       "        -1.0058, -1.0056, -1.0054, -1.0052, -1.005 , -1.0048, -1.0046,\n",
       "        -1.0044, -1.0042, -1.004 , -1.0038, -1.0036, -1.0034, -1.0032,\n",
       "        -1.003 , -1.0028, -1.0026, -1.0024, -1.0022, -1.002 , -1.0018,\n",
       "        -1.0016, -1.0014, -1.0012, -1.001 , -1.0008, -1.0006, -1.0004,\n",
       "        -1.0002, -1.    , -0.9998, -0.9996, -0.9994, -0.9992, -0.999 ,\n",
       "        -0.9988, -0.9986, -0.9984, -0.9982, -0.998 , -0.9978, -0.9976,\n",
       "        -0.9974, -0.9972, -0.997 , -0.9968, -0.9966, -0.9964, -0.9962,\n",
       "        -0.996 , -0.9958, -0.9956, -0.9954, -0.9952, -0.995 , -0.9948,\n",
       "        -0.9946, -0.9944, -0.9942, -0.994 , -0.9938, -0.9936, -0.9934,\n",
       "        -0.9932, -0.993 , -0.9928, -0.9926, -0.9924, -0.9922, -0.992 ,\n",
       "        -0.9918, -0.9916, -0.9914, -0.9912, -0.991 , -0.9908, -0.9906,\n",
       "        -0.9904, -0.9902, -0.99  ], dtype=float32),\n",
       " <BarContainer object of 100 artists>)"
      ]
     },
     "execution_count": 859,
     "metadata": {},
     "output_type": "execute_result"
    },
    {
     "data": {
      "image/png": "[encoded data removed]",
      "text/plain": [
       "<Figure size 432x288 with 1 Axes>"
      ]
     },
     "metadata": {
      "needs_background": "light"
     },
     "output_type": "display_data"
    }
   ],
   "source": [
    "plt.hist(first_cpf_stuff[interesting_variable],bins=100,range=(-1.01,-0.99))"
   ]
  },
  {
   "cell_type": "code",
   "execution_count": 860,
   "metadata": {
    "scrolled": true
   },
   "outputs": [
    {
     "data": {
      "text/plain": [
       "(array([2.000e+00, 3.000e+00, 2.000e+00, 2.000e+00, 2.000e+00, 1.000e+00,\n",
       "        1.000e+00, 0.000e+00, 1.000e+00, 2.000e+00, 2.000e+00, 0.000e+00,\n",
       "        0.000e+00, 0.000e+00, 1.000e+00, 1.000e+00, 1.000e+00, 3.000e+00,\n",
       "        0.000e+00, 1.000e+00, 1.000e+00, 3.000e+00, 2.000e+00, 1.000e+00,\n",
       "        2.000e+00, 1.000e+00, 2.000e+00, 1.000e+00, 0.000e+00, 1.000e+00,\n",
       "        0.000e+00, 0.000e+00, 1.000e+00, 0.000e+00, 0.000e+00, 1.000e+00,\n",
       "        0.000e+00, 1.000e+00, 1.000e+00, 1.000e+00, 0.000e+00, 1.000e+00,\n",
       "        0.000e+00, 2.000e+00, 0.000e+00, 0.000e+00, 0.000e+00, 0.000e+00,\n",
       "        1.000e+00, 5.000e+00, 2.663e+03, 0.000e+00, 0.000e+00, 0.000e+00,\n",
       "        0.000e+00, 0.000e+00, 0.000e+00, 0.000e+00, 0.000e+00, 0.000e+00,\n",
       "        0.000e+00, 0.000e+00, 0.000e+00, 0.000e+00, 0.000e+00, 0.000e+00,\n",
       "        0.000e+00, 0.000e+00, 0.000e+00, 0.000e+00, 0.000e+00, 0.000e+00,\n",
       "        0.000e+00, 0.000e+00, 0.000e+00, 0.000e+00, 0.000e+00, 0.000e+00,\n",
       "        0.000e+00, 0.000e+00, 0.000e+00, 0.000e+00, 0.000e+00, 0.000e+00,\n",
       "        0.000e+00, 0.000e+00, 0.000e+00, 0.000e+00, 0.000e+00, 0.000e+00,\n",
       "        0.000e+00, 0.000e+00, 0.000e+00, 0.000e+00, 0.000e+00, 0.000e+00,\n",
       "        0.000e+00, 0.000e+00, 0.000e+00, 0.000e+00]),\n",
       " array([-0.01  , -0.0098, -0.0096, -0.0094, -0.0092, -0.009 , -0.0088,\n",
       "        -0.0086, -0.0084, -0.0082, -0.008 , -0.0078, -0.0076, -0.0074,\n",
       "        -0.0072, -0.007 , -0.0068, -0.0066, -0.0064, -0.0062, -0.006 ,\n",
       "        -0.0058, -0.0056, -0.0054, -0.0052, -0.005 , -0.0048, -0.0046,\n",
       "        -0.0044, -0.0042, -0.004 , -0.0038, -0.0036, -0.0034, -0.0032,\n",
       "        -0.003 , -0.0028, -0.0026, -0.0024, -0.0022, -0.002 , -0.0018,\n",
       "        -0.0016, -0.0014, -0.0012, -0.001 , -0.0008, -0.0006, -0.0004,\n",
       "        -0.0002,  0.    ,  0.0002,  0.0004,  0.0006,  0.0008,  0.001 ,\n",
       "         0.0012,  0.0014,  0.0016,  0.0018,  0.002 ,  0.0022,  0.0024,\n",
       "         0.0026,  0.0028,  0.003 ,  0.0032,  0.0034,  0.0036,  0.0038,\n",
       "         0.004 ,  0.0042,  0.0044,  0.0046,  0.0048,  0.005 ,  0.0052,\n",
       "         0.0054,  0.0056,  0.0058,  0.006 ,  0.0062,  0.0064,  0.0066,\n",
       "         0.0068,  0.007 ,  0.0072,  0.0074,  0.0076,  0.0078,  0.008 ,\n",
       "         0.0082,  0.0084,  0.0086,  0.0088,  0.009 ,  0.0092,  0.0094,\n",
       "         0.0096,  0.0098,  0.01  ], dtype=float32),\n",
       " <BarContainer object of 100 artists>)"
      ]
     },
     "execution_count": 860,
     "metadata": {},
     "output_type": "execute_result"
    },
    {
     "data": {
      "image/png": "[encoded data removed]",
      "text/plain": [
       "<Figure size 432x288 with 1 Axes>"
      ]
     },
     "metadata": {
      "needs_background": "light"
     },
     "output_type": "display_data"
    }
   ],
   "source": [
    "plt.hist(first_cpf_stuff[interesting_variable],bins=100,range=(-0.01,0.01))"
   ]
  },
  {
   "cell_type": "code",
   "execution_count": 861,
   "metadata": {
    "scrolled": true
   },
   "outputs": [
    {
     "data": {
      "text/plain": [
       "(array([2663.,    0.,    0.,    0.,    0.,    0.,    0.,    0.,    0.,\n",
       "           0.,    0.,    0.,    0.,    0.,    0.,    0.,    0.,    0.,\n",
       "           0.,    0.,    0.,    0.,    0.,    0.,    0.,    0.,    0.,\n",
       "           0.,    0.,    0.,    0.,    0.,    0.,    0.,    0.,    0.,\n",
       "           0.,    0.,    0.,    0.,    0.,    0.,    0.,    0.,    0.,\n",
       "           0.,    0.,    0.,    0.,    0.,    0.,    0.,    0.,    0.,\n",
       "           0.,    0.,    0.,    0.,    0.,    0.,    0.,    0.,    0.,\n",
       "           0.,    0.,    0.,    0.,    0.,    0.,    0.,    0.,    0.,\n",
       "           0.,    0.,    0.,    0.,    0.,    0.,    0.,    0.,    0.,\n",
       "           0.,    0.,    0.,    0.,    0.,    0.,    0.,    0.,    0.,\n",
       "           0.,    0.,    0.,    0.,    0.,    0.,    0.,    0.,    0.,\n",
       "           0.]),\n",
       " array([0.  , 0.01, 0.02, 0.03, 0.04, 0.05, 0.06, 0.07, 0.08, 0.09, 0.1 ,\n",
       "        0.11, 0.12, 0.13, 0.14, 0.15, 0.16, 0.17, 0.18, 0.19, 0.2 , 0.21,\n",
       "        0.22, 0.23, 0.24, 0.25, 0.26, 0.27, 0.28, 0.29, 0.3 , 0.31, 0.32,\n",
       "        0.33, 0.34, 0.35, 0.36, 0.37, 0.38, 0.39, 0.4 , 0.41, 0.42, 0.43,\n",
       "        0.44, 0.45, 0.46, 0.47, 0.48, 0.49, 0.5 , 0.51, 0.52, 0.53, 0.54,\n",
       "        0.55, 0.56, 0.57, 0.58, 0.59, 0.6 , 0.61, 0.62, 0.63, 0.64, 0.65,\n",
       "        0.66, 0.67, 0.68, 0.69, 0.7 , 0.71, 0.72, 0.73, 0.74, 0.75, 0.76,\n",
       "        0.77, 0.78, 0.79, 0.8 , 0.81, 0.82, 0.83, 0.84, 0.85, 0.86, 0.87,\n",
       "        0.88, 0.89, 0.9 , 0.91, 0.92, 0.93, 0.94, 0.95, 0.96, 0.97, 0.98,\n",
       "        0.99, 1.  ], dtype=float32),\n",
       " <BarContainer object of 100 artists>)"
      ]
     },
     "execution_count": 861,
     "metadata": {},
     "output_type": "execute_result"
    },
    {
     "data": {
      "image/png": "[encoded data removed]",
      "text/plain": [
       "<Figure size 432x288 with 1 Axes>"
      ]
     },
     "metadata": {
      "needs_background": "light"
     },
     "output_type": "display_data"
    }
   ],
   "source": [
    "plt.hist(first_cpf_stuff[interesting_variable],bins=100,range=(0,1))"
   ]
  },
  {
   "cell_type": "code",
   "execution_count": 862,
   "metadata": {
    "scrolled": true
   },
   "outputs": [
    {
     "data": {
      "text/plain": [
       "(array([0., 0., 0., 0., 0., 0., 0., 0., 0., 0., 0., 0., 0., 0., 0., 0., 0.,\n",
       "        0., 0., 0., 0., 0., 0., 0., 0., 0., 0., 0., 0., 0., 0., 0., 0., 0.,\n",
       "        0., 0., 0., 0., 0., 0., 0., 0., 0., 0., 0., 0., 0., 0., 0., 0., 0.,\n",
       "        0., 0., 0., 0., 0., 0., 0., 0., 0., 0., 0., 0., 0., 0., 0., 0., 0.,\n",
       "        0., 0., 0., 0., 0., 0., 0., 0., 0., 0., 0., 0., 0., 0., 0., 0., 0.,\n",
       "        0., 0., 0., 0., 0., 0., 0., 0., 0., 0., 0., 0., 0., 0., 0.]),\n",
       " array([0.95 , 0.951, 0.952, 0.953, 0.954, 0.955, 0.956, 0.957, 0.958,\n",
       "        0.959, 0.96 , 0.961, 0.962, 0.963, 0.964, 0.965, 0.966, 0.967,\n",
       "        0.968, 0.969, 0.97 , 0.971, 0.972, 0.973, 0.974, 0.975, 0.976,\n",
       "        0.977, 0.978, 0.979, 0.98 , 0.981, 0.982, 0.983, 0.984, 0.985,\n",
       "        0.986, 0.987, 0.988, 0.989, 0.99 , 0.991, 0.992, 0.993, 0.994,\n",
       "        0.995, 0.996, 0.997, 0.998, 0.999, 1.   , 1.001, 1.002, 1.003,\n",
       "        1.004, 1.005, 1.006, 1.007, 1.008, 1.009, 1.01 , 1.011, 1.012,\n",
       "        1.013, 1.014, 1.015, 1.016, 1.017, 1.018, 1.019, 1.02 , 1.021,\n",
       "        1.022, 1.023, 1.024, 1.025, 1.026, 1.027, 1.028, 1.029, 1.03 ,\n",
       "        1.031, 1.032, 1.033, 1.034, 1.035, 1.036, 1.037, 1.038, 1.039,\n",
       "        1.04 , 1.041, 1.042, 1.043, 1.044, 1.045, 1.046, 1.047, 1.048,\n",
       "        1.049, 1.05 ], dtype=float32),\n",
       " <BarContainer object of 100 artists>)"
      ]
     },
     "execution_count": 862,
     "metadata": {},
     "output_type": "execute_result"
    },
    {
     "data": {
      "image/png": "[encoded data removed]",
      "text/plain": [
       "<Figure size 432x288 with 1 Axes>"
      ]
     },
     "metadata": {
      "needs_background": "light"
     },
     "output_type": "display_data"
    }
   ],
   "source": [
    "plt.hist(first_cpf_stuff[interesting_variable],bins=100,range=(0.95,1.05))"
   ]
  },
  {
   "cell_type": "code",
   "execution_count": 863,
   "metadata": {
    "scrolled": true
   },
   "outputs": [
    {
     "data": {
      "text/plain": [
       "(array([2663.,    0.,    0.,    0.,    0.,    0.,    0.,    0.,    0.,\n",
       "           0.,    0.,    0.,    0.,    0.,    0.,    0.,    0.,    0.,\n",
       "           0.,    0.,    0.,    0.,    0.,    0.,    0.,    0.,    0.,\n",
       "           0.,    0.,    0.,    0.,    0.,    0.,    0.,    0.,    0.,\n",
       "           0.,    0.,    0.,    0.,    0.,    0.,    0.,    0.,    0.,\n",
       "           0.,    0.,    0.,    0.,    0.,    0.,    0.,    0.,    0.,\n",
       "           0.,    0.,    0.,    0.,    0.,    0.,    0.,    0.,    0.,\n",
       "           0.,    0.,    0.,    0.,    0.,    0.,    0.,    0.,    0.,\n",
       "           0.,    0.,    0.,    0.,    0.,    0.,    0.,    0.,    0.,\n",
       "           0.,    0.,    0.,    0.,    0.,    0.,    0.,    0.,    0.,\n",
       "           0.,    0.,    0.,    0.,    0.,    0.,    0.,    0.,    0.,\n",
       "           0.]),\n",
       " array([0.  , 0.05, 0.1 , 0.15, 0.2 , 0.25, 0.3 , 0.35, 0.4 , 0.45, 0.5 ,\n",
       "        0.55, 0.6 , 0.65, 0.7 , 0.75, 0.8 , 0.85, 0.9 , 0.95, 1.  , 1.05,\n",
       "        1.1 , 1.15, 1.2 , 1.25, 1.3 , 1.35, 1.4 , 1.45, 1.5 , 1.55, 1.6 ,\n",
       "        1.65, 1.7 , 1.75, 1.8 , 1.85, 1.9 , 1.95, 2.  , 2.05, 2.1 , 2.15,\n",
       "        2.2 , 2.25, 2.3 , 2.35, 2.4 , 2.45, 2.5 , 2.55, 2.6 , 2.65, 2.7 ,\n",
       "        2.75, 2.8 , 2.85, 2.9 , 2.95, 3.  , 3.05, 3.1 , 3.15, 3.2 , 3.25,\n",
       "        3.3 , 3.35, 3.4 , 3.45, 3.5 , 3.55, 3.6 , 3.65, 3.7 , 3.75, 3.8 ,\n",
       "        3.85, 3.9 , 3.95, 4.  , 4.05, 4.1 , 4.15, 4.2 , 4.25, 4.3 , 4.35,\n",
       "        4.4 , 4.45, 4.5 , 4.55, 4.6 , 4.65, 4.7 , 4.75, 4.8 , 4.85, 4.9 ,\n",
       "        4.95, 5.  ], dtype=float32),\n",
       " <BarContainer object of 100 artists>)"
      ]
     },
     "execution_count": 863,
     "metadata": {},
     "output_type": "execute_result"
    },
    {
     "data": {
      "image/png": "[encoded data removed]",
      "text/plain": [
       "<Figure size 432x288 with 1 Axes>"
      ]
     },
     "metadata": {
      "needs_background": "light"
     },
     "output_type": "display_data"
    }
   ],
   "source": [
    "plt.hist(first_cpf_stuff[interesting_variable],bins=100,range=(0,5))"
   ]
  },
  {
   "cell_type": "code",
   "execution_count": 864,
   "metadata": {
    "scrolled": true
   },
   "outputs": [
    {
     "data": {
      "text/plain": [
       "(array([7.8461e+04, 4.4876e+04, 3.6061e+04, 2.9939e+04, 2.7004e+04,\n",
       "        2.4513e+04, 2.0388e+04, 1.6821e+04, 1.3546e+04, 1.1446e+04,\n",
       "        9.6750e+03, 8.2570e+03, 7.1500e+03, 6.3230e+03, 5.5500e+03,\n",
       "        4.9000e+03, 4.4130e+03, 3.8660e+03, 3.4590e+03, 3.0160e+03,\n",
       "        2.7920e+03, 2.4810e+03, 2.4350e+03, 2.1080e+03, 1.8700e+03,\n",
       "        1.8010e+03, 1.6130e+03, 1.4570e+03, 1.3570e+03, 1.2280e+03,\n",
       "        1.0910e+03, 1.0030e+03, 8.9900e+02, 9.0600e+02, 8.4700e+02,\n",
       "        7.6500e+02, 6.4800e+02, 5.9700e+02, 5.9400e+02, 5.2300e+02,\n",
       "        4.8700e+02, 4.3700e+02, 4.4500e+02, 4.3000e+02, 3.6900e+02,\n",
       "        3.4800e+02, 3.3900e+02, 3.1400e+02, 2.5700e+02, 2.8700e+02,\n",
       "        2.7400e+02, 2.4600e+02, 2.2100e+02, 2.2000e+02, 2.0400e+02,\n",
       "        1.8000e+02, 1.9300e+02, 1.7200e+02, 1.4900e+02, 1.5300e+02,\n",
       "        1.2400e+02, 1.5000e+02, 1.2200e+02, 1.2100e+02, 1.1600e+02,\n",
       "        1.1100e+02, 1.0200e+02, 1.1700e+02, 1.0900e+02, 8.4000e+01,\n",
       "        9.7000e+01, 9.5000e+01, 9.0000e+01, 7.2000e+01, 8.4000e+01,\n",
       "        8.8000e+01, 8.6000e+01, 9.5000e+01, 8.1000e+01, 9.5000e+01,\n",
       "        8.7000e+01, 1.0100e+02, 1.1300e+02, 1.3300e+02, 1.2800e+02,\n",
       "        1.2500e+02, 1.2200e+02, 1.3400e+02, 1.4000e+02, 1.7100e+02,\n",
       "        1.7500e+02, 1.6100e+02, 1.9300e+02, 2.0300e+02, 2.0400e+02,\n",
       "        2.0400e+02, 1.8200e+02, 1.5300e+02, 1.1300e+02, 2.7150e+03]),\n",
       " array([-9.99492109e-01, -9.89497185e-01, -9.79502261e-01, -9.69507337e-01,\n",
       "        -9.59512413e-01, -9.49517488e-01, -9.39522564e-01, -9.29527640e-01,\n",
       "        -9.19532716e-01, -9.09537792e-01, -8.99542928e-01, -8.89548004e-01,\n",
       "        -8.79553080e-01, -8.69558156e-01, -8.59563231e-01, -8.49568307e-01,\n",
       "        -8.39573383e-01, -8.29578459e-01, -8.19583535e-01, -8.09588611e-01,\n",
       "        -7.99593687e-01, -7.89598763e-01, -7.79603839e-01, -7.69608915e-01,\n",
       "        -7.59613991e-01, -7.49619067e-01, -7.39624143e-01, -7.29629219e-01,\n",
       "        -7.19634295e-01, -7.09639370e-01, -6.99644446e-01, -6.89649582e-01,\n",
       "        -6.79654658e-01, -6.69659734e-01, -6.59664810e-01, -6.49669886e-01,\n",
       "        -6.39674962e-01, -6.29680037e-01, -6.19685113e-01, -6.09690189e-01,\n",
       "        -5.99695265e-01, -5.89700341e-01, -5.79705417e-01, -5.69710493e-01,\n",
       "        -5.59715569e-01, -5.49720645e-01, -5.39725721e-01, -5.29730797e-01,\n",
       "        -5.19735873e-01, -5.09740949e-01, -4.99746054e-01, -4.89751130e-01,\n",
       "        -4.79756206e-01, -4.69761282e-01, -4.59766358e-01, -4.49771464e-01,\n",
       "        -4.39776540e-01, -4.29781616e-01, -4.19786692e-01, -4.09791768e-01,\n",
       "        -3.99796844e-01, -3.89801919e-01, -3.79806995e-01, -3.69812071e-01,\n",
       "        -3.59817147e-01, -3.49822223e-01, -3.39827329e-01, -3.29832405e-01,\n",
       "        -3.19837481e-01, -3.09842557e-01, -2.99847633e-01, -2.89852709e-01,\n",
       "        -2.79857785e-01, -2.69862860e-01, -2.59867936e-01, -2.49873027e-01,\n",
       "        -2.39878103e-01, -2.29883179e-01, -2.19888270e-01, -2.09893346e-01,\n",
       "        -1.99898422e-01, -1.89903498e-01, -1.79908574e-01, -1.69913664e-01,\n",
       "        -1.59918740e-01, -1.49923816e-01, -1.39928892e-01, -1.29933968e-01,\n",
       "        -1.19939052e-01, -1.09944135e-01, -9.99492109e-02, -8.99542868e-02,\n",
       "        -7.99593702e-02, -6.99644461e-02, -5.99695258e-02, -4.99746054e-02,\n",
       "        -3.99796851e-02, -2.99847629e-02, -1.99898425e-02, -9.99492127e-03,\n",
       "         2.66885140e-39], dtype=float32),\n",
       " <BarContainer object of 100 artists>)"
      ]
     },
     "execution_count": 864,
     "metadata": {},
     "output_type": "execute_result"
    },
    {
     "data": {
      "image/png": "[encoded data removed]",
      "text/plain": [
       "<Figure size 432x288 with 1 Axes>"
      ]
     },
     "metadata": {
      "needs_background": "light"
     },
     "output_type": "display_data"
    }
   ],
   "source": [
    "plt.hist(first_cpf_stuff[interesting_variable],bins=100)"
   ]
  },
  {
   "cell_type": "code",
   "execution_count": 865,
   "metadata": {},
   "outputs": [],
   "source": [
    "first_cpf_pts_stuff = ak.to_numpy(df_cpf_pts_clip[:,0])"
   ]
  },
  {
   "cell_type": "code",
   "execution_count": 866,
   "metadata": {},
   "outputs": [
    {
     "data": {
      "text/plain": [
       "array([(1.3896484,  2.0883815,  0.8814652 , 5.6962996),\n",
       "       (3.0117188,  0.8833277, -3.0601487 , 4.2673883),\n",
       "       (1.9306641, -1.3962218,  2.7882638 , 4.1411524), ...,\n",
       "       (1.3056641, -1.4828334, -1.0367578 , 3.0273986),\n",
       "       (5.1171875,  1.0415357,  1.0335258 , 8.154096 ),\n",
       "       (1.0712891, -1.5586413, -0.21777096, 2.661946 )],\n",
       "      dtype=[('Cpfcan_pt', '<f4'), ('Cpfcan_eta', '<f4'), ('Cpfcan_phi', '<f4'), ('Cpfcan_e', '<f4')])"
      ]
     },
     "execution_count": 866,
     "metadata": {},
     "output_type": "execute_result"
    }
   ],
   "source": [
    "first_cpf_pts_stuff"
   ]
  },
  {
   "cell_type": "code",
   "execution_count": 670,
   "metadata": {
    "scrolled": true
   },
   "outputs": [
    {
     "data": {
      "text/plain": [
       "(array([0., 0., 0., 0., 0., 0., 0., 0., 0., 0., 0., 0., 0., 0., 0., 0., 0.,\n",
       "        0., 0., 0., 0., 0., 0., 0., 0., 0., 0., 0., 0., 0., 0., 0., 0., 0.,\n",
       "        0., 0., 0., 0., 0., 0., 0., 0., 0., 0., 0., 0., 0., 0., 0., 0., 0.,\n",
       "        0., 0., 0., 0., 0., 0., 0., 0., 0., 0., 0., 0., 0., 0., 0., 0., 0.,\n",
       "        0., 0., 0., 0., 0., 0., 0., 0., 0., 0., 0., 0., 0., 0., 0., 0., 0.,\n",
       "        0., 0., 0., 0., 0., 0., 0., 0., 0., 0., 0., 0., 0., 0., 0.]),\n",
       " array([-1000.   ,  -999.985,  -999.97 ,  -999.955,  -999.94 ,  -999.925,\n",
       "         -999.91 ,  -999.895,  -999.88 ,  -999.865,  -999.85 ,  -999.835,\n",
       "         -999.82 ,  -999.805,  -999.79 ,  -999.775,  -999.76 ,  -999.745,\n",
       "         -999.73 ,  -999.715,  -999.7  ,  -999.685,  -999.67 ,  -999.655,\n",
       "         -999.64 ,  -999.625,  -999.61 ,  -999.595,  -999.58 ,  -999.565,\n",
       "         -999.55 ,  -999.535,  -999.52 ,  -999.505,  -999.49 ,  -999.475,\n",
       "         -999.46 ,  -999.445,  -999.43 ,  -999.415,  -999.4  ,  -999.385,\n",
       "         -999.37 ,  -999.355,  -999.34 ,  -999.325,  -999.31 ,  -999.295,\n",
       "         -999.28 ,  -999.265,  -999.25 ,  -999.235,  -999.22 ,  -999.205,\n",
       "         -999.19 ,  -999.175,  -999.16 ,  -999.145,  -999.13 ,  -999.115,\n",
       "         -999.1  ,  -999.085,  -999.07 ,  -999.055,  -999.04 ,  -999.025,\n",
       "         -999.01 ,  -998.995,  -998.98 ,  -998.965,  -998.95 ,  -998.935,\n",
       "         -998.92 ,  -998.905,  -998.89 ,  -998.875,  -998.86 ,  -998.845,\n",
       "         -998.83 ,  -998.815,  -998.8  ,  -998.785,  -998.77 ,  -998.755,\n",
       "         -998.74 ,  -998.725,  -998.71 ,  -998.695,  -998.68 ,  -998.665,\n",
       "         -998.65 ,  -998.635,  -998.62 ,  -998.605,  -998.59 ,  -998.575,\n",
       "         -998.56 ,  -998.545,  -998.53 ,  -998.515,  -998.5  ],\n",
       "       dtype=float32),\n",
       " <BarContainer object of 100 artists>)"
      ]
     },
     "execution_count": 670,
     "metadata": {},
     "output_type": "execute_result"
    },
    {
     "data": {
      "image/png": "[encoded data removed]",
      "text/plain": [
       "<Figure size 432x288 with 1 Axes>"
      ]
     },
     "metadata": {
      "needs_background": "light"
     },
     "output_type": "display_data"
    }
   ],
   "source": [
    "interesting_variable = 'Cpfcan_e'\n",
    "#plt.hist(first_cpf_stuff[interesting_variable],bins=100)\n",
    "plt.hist(first_cpf_pts_stuff[interesting_variable],bins=100,range=(-1000,-998.5))"
   ]
  },
  {
   "cell_type": "code",
   "execution_count": 671,
   "metadata": {
    "scrolled": true
   },
   "outputs": [
    {
     "data": {
      "text/plain": [
       "(array([   0.,    0.,    0.,    0.,    0.,    0.,    0.,    0.,    0.,\n",
       "           0.,    0.,    0.,    0.,    0.,    0.,    0.,    0.,    0.,\n",
       "           0.,    0.,    0.,    0.,    0.,    0.,    0.,    0.,    0.,\n",
       "           0.,    0.,    0.,    0.,    0.,    0.,    0.,    0.,    0.,\n",
       "           0.,    0.,    0.,    0.,    0.,    0.,    0.,    0.,    0.,\n",
       "           0.,    0.,    0.,    0.,    0.,    0.,    0.,    0.,    0.,\n",
       "           0.,    0.,    0.,    0.,    0.,    0.,    0.,    0.,    0.,\n",
       "           0.,    0.,    0.,    0.,    0.,    0.,    0.,    0.,    0.,\n",
       "           0.,    0.,    0.,    0.,    0.,    0.,    0.,    0.,    0.,\n",
       "           0.,    0.,    0.,    0.,    0.,    0.,    0.,    0.,    0.,\n",
       "           0.,    0.,    0.,    0.,    0.,    0.,    0.,    0.,    0.,\n",
       "        1303.]),\n",
       " array([-1.01  , -0.9999, -0.9898, -0.9797, -0.9696, -0.9595, -0.9494,\n",
       "        -0.9393, -0.9292, -0.9191, -0.909 , -0.8989, -0.8888, -0.8787,\n",
       "        -0.8686, -0.8585, -0.8484, -0.8383, -0.8282, -0.8181, -0.808 ,\n",
       "        -0.7979, -0.7878, -0.7777, -0.7676, -0.7575, -0.7474, -0.7373,\n",
       "        -0.7272, -0.7171, -0.707 , -0.6969, -0.6868, -0.6767, -0.6666,\n",
       "        -0.6565, -0.6464, -0.6363, -0.6262, -0.6161, -0.606 , -0.5959,\n",
       "        -0.5858, -0.5757, -0.5656, -0.5555, -0.5454, -0.5353, -0.5252,\n",
       "        -0.5151, -0.505 , -0.4949, -0.4848, -0.4747, -0.4646, -0.4545,\n",
       "        -0.4444, -0.4343, -0.4242, -0.4141, -0.404 , -0.3939, -0.3838,\n",
       "        -0.3737, -0.3636, -0.3535, -0.3434, -0.3333, -0.3232, -0.3131,\n",
       "        -0.303 , -0.2929, -0.2828, -0.2727, -0.2626, -0.2525, -0.2424,\n",
       "        -0.2323, -0.2222, -0.2121, -0.202 , -0.1919, -0.1818, -0.1717,\n",
       "        -0.1616, -0.1515, -0.1414, -0.1313, -0.1212, -0.1111, -0.101 ,\n",
       "        -0.0909, -0.0808, -0.0707, -0.0606, -0.0505, -0.0404, -0.0303,\n",
       "        -0.0202, -0.0101,  0.    ], dtype=float32),\n",
       " <BarContainer object of 100 artists>)"
      ]
     },
     "execution_count": 671,
     "metadata": {},
     "output_type": "execute_result"
    },
    {
     "data": {
      "image/png": "[encoded data removed]",
      "text/plain": [
       "<Figure size 432x288 with 1 Axes>"
      ]
     },
     "metadata": {
      "needs_background": "light"
     },
     "output_type": "display_data"
    }
   ],
   "source": [
    "plt.hist(first_cpf_pts_stuff[interesting_variable],bins=100,range=(-1.01,0))"
   ]
  },
  {
   "cell_type": "code",
   "execution_count": 672,
   "metadata": {
    "scrolled": true
   },
   "outputs": [
    {
     "data": {
      "text/plain": [
       "(array([   0.,    0.,    0.,    0.,    0.,    0.,    0.,    0.,    0.,\n",
       "           0.,    0.,    0.,    0.,    0.,    0.,    0.,    0.,    0.,\n",
       "           0.,    0.,    0.,    0.,    0.,    0.,    0.,    0.,    0.,\n",
       "           0.,    0.,    0.,    0.,    0.,    0.,    0.,    0.,    0.,\n",
       "           0.,    0.,    0.,    0.,    0.,    0.,    0.,    0.,    0.,\n",
       "           0.,    0.,    0.,    0.,    0.,    0.,    0.,    0.,    0.,\n",
       "           0.,    0.,    0.,    0.,    0.,    0.,    0.,    0.,    0.,\n",
       "           0.,    0.,    0.,    0.,    0.,    0.,    0.,    0.,    0.,\n",
       "           0.,    0.,    0.,    0.,    0.,    0.,    0.,    0.,    0.,\n",
       "           0.,    0.,    0.,    0.,    0.,    0.,    0.,    0.,    0.,\n",
       "           0.,    0.,    0.,    0.,    0.,    0.,    0.,    0.,    0.,\n",
       "        1303.]),\n",
       " array([-0.4  , -0.396, -0.392, -0.388, -0.384, -0.38 , -0.376, -0.372,\n",
       "        -0.368, -0.364, -0.36 , -0.356, -0.352, -0.348, -0.344, -0.34 ,\n",
       "        -0.336, -0.332, -0.328, -0.324, -0.32 , -0.316, -0.312, -0.308,\n",
       "        -0.304, -0.3  , -0.296, -0.292, -0.288, -0.284, -0.28 , -0.276,\n",
       "        -0.272, -0.268, -0.264, -0.26 , -0.256, -0.252, -0.248, -0.244,\n",
       "        -0.24 , -0.236, -0.232, -0.228, -0.224, -0.22 , -0.216, -0.212,\n",
       "        -0.208, -0.204, -0.2  , -0.196, -0.192, -0.188, -0.184, -0.18 ,\n",
       "        -0.176, -0.172, -0.168, -0.164, -0.16 , -0.156, -0.152, -0.148,\n",
       "        -0.144, -0.14 , -0.136, -0.132, -0.128, -0.124, -0.12 , -0.116,\n",
       "        -0.112, -0.108, -0.104, -0.1  , -0.096, -0.092, -0.088, -0.084,\n",
       "        -0.08 , -0.076, -0.072, -0.068, -0.064, -0.06 , -0.056, -0.052,\n",
       "        -0.048, -0.044, -0.04 , -0.036, -0.032, -0.028, -0.024, -0.02 ,\n",
       "        -0.016, -0.012, -0.008, -0.004,  0.   ], dtype=float32),\n",
       " <BarContainer object of 100 artists>)"
      ]
     },
     "execution_count": 672,
     "metadata": {},
     "output_type": "execute_result"
    },
    {
     "data": {
      "image/png": "[encoded data removed]",
      "text/plain": [
       "<Figure size 432x288 with 1 Axes>"
      ]
     },
     "metadata": {
      "needs_background": "light"
     },
     "output_type": "display_data"
    }
   ],
   "source": [
    "plt.hist(first_cpf_pts_stuff[interesting_variable],bins=100,range=(-0.40,0))"
   ]
  },
  {
   "cell_type": "code",
   "execution_count": 673,
   "metadata": {
    "scrolled": true
   },
   "outputs": [
    {
     "data": {
      "text/plain": [
       "(array([0., 0., 0., 0., 0., 0., 0., 0., 0., 0., 0., 0., 0., 0., 0., 0., 0.,\n",
       "        0., 0., 0., 0., 0., 0., 0., 0., 0., 0., 0., 0., 0., 0., 0., 0., 0.,\n",
       "        0., 0., 0., 0., 0., 0., 0., 0., 0., 0., 0., 0., 0., 0., 0., 0., 0.,\n",
       "        0., 0., 0., 0., 0., 0., 0., 0., 0., 0., 0., 0., 0., 0., 0., 0., 0.,\n",
       "        0., 0., 0., 0., 0., 0., 0., 0., 0., 0., 0., 0., 0., 0., 0., 0., 0.,\n",
       "        0., 0., 0., 0., 0., 0., 0., 0., 0., 0., 0., 0., 0., 0., 0.]),\n",
       " array([-1.01  , -1.0098, -1.0096, -1.0094, -1.0092, -1.009 , -1.0088,\n",
       "        -1.0086, -1.0084, -1.0082, -1.008 , -1.0078, -1.0076, -1.0074,\n",
       "        -1.0072, -1.007 , -1.0068, -1.0066, -1.0064, -1.0062, -1.006 ,\n",
       "        -1.0058, -1.0056, -1.0054, -1.0052, -1.005 , -1.0048, -1.0046,\n",
       "        -1.0044, -1.0042, -1.004 , -1.0038, -1.0036, -1.0034, -1.0032,\n",
       "        -1.003 , -1.0028, -1.0026, -1.0024, -1.0022, -1.002 , -1.0018,\n",
       "        -1.0016, -1.0014, -1.0012, -1.001 , -1.0008, -1.0006, -1.0004,\n",
       "        -1.0002, -1.    , -0.9998, -0.9996, -0.9994, -0.9992, -0.999 ,\n",
       "        -0.9988, -0.9986, -0.9984, -0.9982, -0.998 , -0.9978, -0.9976,\n",
       "        -0.9974, -0.9972, -0.997 , -0.9968, -0.9966, -0.9964, -0.9962,\n",
       "        -0.996 , -0.9958, -0.9956, -0.9954, -0.9952, -0.995 , -0.9948,\n",
       "        -0.9946, -0.9944, -0.9942, -0.994 , -0.9938, -0.9936, -0.9934,\n",
       "        -0.9932, -0.993 , -0.9928, -0.9926, -0.9924, -0.9922, -0.992 ,\n",
       "        -0.9918, -0.9916, -0.9914, -0.9912, -0.991 , -0.9908, -0.9906,\n",
       "        -0.9904, -0.9902, -0.99  ], dtype=float32),\n",
       " <BarContainer object of 100 artists>)"
      ]
     },
     "execution_count": 673,
     "metadata": {},
     "output_type": "execute_result"
    },
    {
     "data": {
      "image/png": "[encoded data removed]",
      "text/plain": [
       "<Figure size 432x288 with 1 Axes>"
      ]
     },
     "metadata": {
      "needs_background": "light"
     },
     "output_type": "display_data"
    }
   ],
   "source": [
    "plt.hist(first_cpf_pts_stuff[interesting_variable],bins=100,range=(-1.01,-0.99))"
   ]
  },
  {
   "cell_type": "code",
   "execution_count": 674,
   "metadata": {
    "scrolled": true
   },
   "outputs": [
    {
     "data": {
      "text/plain": [
       "(array([   0.,    0.,    0.,    0.,    0.,    0.,    0.,    0.,    0.,\n",
       "           0.,    0.,    0.,    0.,    0.,    0.,    0.,    0.,    0.,\n",
       "           0.,    0.,    0.,    0.,    0.,    0.,    0.,    0.,    0.,\n",
       "           0.,    0.,    0.,    0.,    0.,    0.,    0.,    0.,    0.,\n",
       "           0.,    0.,    0.,    0.,    0.,    0.,    0.,    0.,    0.,\n",
       "           0.,    0.,    0.,    0.,    0., 2655.,    0.,    0.,    0.,\n",
       "           0.,    0.,    0.,    0.,    0.,    0.,    0.,    0.,    0.,\n",
       "           0.,    0.,    0.,    0.,    0.,    0.,    0.,    0.,    0.,\n",
       "           0.,    0.,    0.,    0.,    0.,    0.,    0.,    0.,    0.,\n",
       "           0.,    0.,    0.,    0.,    0.,    0.,    0.,    0.,    0.,\n",
       "           0.,    0.,    0.,    0.,    0.,    0.,    0.,    0.,    0.,\n",
       "           0.]),\n",
       " array([-0.01  , -0.0098, -0.0096, -0.0094, -0.0092, -0.009 , -0.0088,\n",
       "        -0.0086, -0.0084, -0.0082, -0.008 , -0.0078, -0.0076, -0.0074,\n",
       "        -0.0072, -0.007 , -0.0068, -0.0066, -0.0064, -0.0062, -0.006 ,\n",
       "        -0.0058, -0.0056, -0.0054, -0.0052, -0.005 , -0.0048, -0.0046,\n",
       "        -0.0044, -0.0042, -0.004 , -0.0038, -0.0036, -0.0034, -0.0032,\n",
       "        -0.003 , -0.0028, -0.0026, -0.0024, -0.0022, -0.002 , -0.0018,\n",
       "        -0.0016, -0.0014, -0.0012, -0.001 , -0.0008, -0.0006, -0.0004,\n",
       "        -0.0002,  0.    ,  0.0002,  0.0004,  0.0006,  0.0008,  0.001 ,\n",
       "         0.0012,  0.0014,  0.0016,  0.0018,  0.002 ,  0.0022,  0.0024,\n",
       "         0.0026,  0.0028,  0.003 ,  0.0032,  0.0034,  0.0036,  0.0038,\n",
       "         0.004 ,  0.0042,  0.0044,  0.0046,  0.0048,  0.005 ,  0.0052,\n",
       "         0.0054,  0.0056,  0.0058,  0.006 ,  0.0062,  0.0064,  0.0066,\n",
       "         0.0068,  0.007 ,  0.0072,  0.0074,  0.0076,  0.0078,  0.008 ,\n",
       "         0.0082,  0.0084,  0.0086,  0.0088,  0.009 ,  0.0092,  0.0094,\n",
       "         0.0096,  0.0098,  0.01  ], dtype=float32),\n",
       " <BarContainer object of 100 artists>)"
      ]
     },
     "execution_count": 674,
     "metadata": {},
     "output_type": "execute_result"
    },
    {
     "data": {
      "image/png": "[encoded data removed]",
      "text/plain": [
       "<Figure size 432x288 with 1 Axes>"
      ]
     },
     "metadata": {
      "needs_background": "light"
     },
     "output_type": "display_data"
    }
   ],
   "source": [
    "plt.hist(first_cpf_pts_stuff[interesting_variable],bins=100,range=(-0.01,0.01))"
   ]
  },
  {
   "cell_type": "code",
   "execution_count": 675,
   "metadata": {
    "scrolled": true
   },
   "outputs": [
    {
     "data": {
      "text/plain": [
       "(array([2.655e+03, 0.000e+00, 0.000e+00, 0.000e+00, 0.000e+00, 0.000e+00,\n",
       "        0.000e+00, 0.000e+00, 0.000e+00, 0.000e+00, 0.000e+00, 0.000e+00,\n",
       "        0.000e+00, 0.000e+00, 0.000e+00, 0.000e+00, 0.000e+00, 0.000e+00,\n",
       "        0.000e+00, 0.000e+00, 0.000e+00, 0.000e+00, 0.000e+00, 0.000e+00,\n",
       "        0.000e+00, 0.000e+00, 0.000e+00, 0.000e+00, 0.000e+00, 0.000e+00,\n",
       "        0.000e+00, 0.000e+00, 0.000e+00, 0.000e+00, 0.000e+00, 0.000e+00,\n",
       "        0.000e+00, 0.000e+00, 0.000e+00, 0.000e+00, 0.000e+00, 0.000e+00,\n",
       "        0.000e+00, 0.000e+00, 0.000e+00, 0.000e+00, 0.000e+00, 0.000e+00,\n",
       "        0.000e+00, 0.000e+00, 0.000e+00, 0.000e+00, 0.000e+00, 0.000e+00,\n",
       "        0.000e+00, 0.000e+00, 0.000e+00, 0.000e+00, 0.000e+00, 0.000e+00,\n",
       "        0.000e+00, 0.000e+00, 0.000e+00, 0.000e+00, 0.000e+00, 0.000e+00,\n",
       "        0.000e+00, 0.000e+00, 0.000e+00, 0.000e+00, 0.000e+00, 0.000e+00,\n",
       "        0.000e+00, 0.000e+00, 0.000e+00, 0.000e+00, 0.000e+00, 0.000e+00,\n",
       "        0.000e+00, 0.000e+00, 0.000e+00, 0.000e+00, 0.000e+00, 0.000e+00,\n",
       "        0.000e+00, 0.000e+00, 0.000e+00, 0.000e+00, 0.000e+00, 0.000e+00,\n",
       "        0.000e+00, 0.000e+00, 0.000e+00, 0.000e+00, 0.000e+00, 1.000e+00,\n",
       "        1.040e+02, 2.010e+02, 2.660e+02, 2.920e+02]),\n",
       " array([0.  , 0.01, 0.02, 0.03, 0.04, 0.05, 0.06, 0.07, 0.08, 0.09, 0.1 ,\n",
       "        0.11, 0.12, 0.13, 0.14, 0.15, 0.16, 0.17, 0.18, 0.19, 0.2 , 0.21,\n",
       "        0.22, 0.23, 0.24, 0.25, 0.26, 0.27, 0.28, 0.29, 0.3 , 0.31, 0.32,\n",
       "        0.33, 0.34, 0.35, 0.36, 0.37, 0.38, 0.39, 0.4 , 0.41, 0.42, 0.43,\n",
       "        0.44, 0.45, 0.46, 0.47, 0.48, 0.49, 0.5 , 0.51, 0.52, 0.53, 0.54,\n",
       "        0.55, 0.56, 0.57, 0.58, 0.59, 0.6 , 0.61, 0.62, 0.63, 0.64, 0.65,\n",
       "        0.66, 0.67, 0.68, 0.69, 0.7 , 0.71, 0.72, 0.73, 0.74, 0.75, 0.76,\n",
       "        0.77, 0.78, 0.79, 0.8 , 0.81, 0.82, 0.83, 0.84, 0.85, 0.86, 0.87,\n",
       "        0.88, 0.89, 0.9 , 0.91, 0.92, 0.93, 0.94, 0.95, 0.96, 0.97, 0.98,\n",
       "        0.99, 1.  ], dtype=float32),\n",
       " <BarContainer object of 100 artists>)"
      ]
     },
     "execution_count": 675,
     "metadata": {},
     "output_type": "execute_result"
    },
    {
     "data": {
      "image/png": "[encoded data removed]",
      "text/plain": [
       "<Figure size 432x288 with 1 Axes>"
      ]
     },
     "metadata": {
      "needs_background": "light"
     },
     "output_type": "display_data"
    }
   ],
   "source": [
    "plt.hist(first_cpf_pts_stuff[interesting_variable],bins=100,range=(0,1))"
   ]
  },
  {
   "cell_type": "code",
   "execution_count": 676,
   "metadata": {
    "scrolled": true
   },
   "outputs": [
    {
     "data": {
      "text/plain": [
       "(array([ 0.,  0.,  1.,  0.,  0.,  0.,  0.,  0.,  0.,  0.,  2.,  5.,  7.,\n",
       "         9., 13., 11., 14., 12., 15., 16., 17., 20., 13., 19., 19., 23.,\n",
       "        25., 22., 21., 22., 26., 27., 15., 28., 26., 28., 20., 43., 21.,\n",
       "        32., 17., 28., 19., 30., 27., 28., 32., 36., 36., 39., 30., 32.,\n",
       "        40., 33., 35., 24., 25., 43., 39., 36., 43., 33., 36., 42., 49.,\n",
       "        41., 43., 35., 40., 29., 38., 49., 37., 32., 49., 47., 38., 43.,\n",
       "        55., 48., 39., 52., 44., 51., 40., 53., 50., 41., 47., 47., 41.,\n",
       "        42., 56., 43., 43., 42., 32., 43., 49., 50.]),\n",
       " array([0.95 , 0.951, 0.952, 0.953, 0.954, 0.955, 0.956, 0.957, 0.958,\n",
       "        0.959, 0.96 , 0.961, 0.962, 0.963, 0.964, 0.965, 0.966, 0.967,\n",
       "        0.968, 0.969, 0.97 , 0.971, 0.972, 0.973, 0.974, 0.975, 0.976,\n",
       "        0.977, 0.978, 0.979, 0.98 , 0.981, 0.982, 0.983, 0.984, 0.985,\n",
       "        0.986, 0.987, 0.988, 0.989, 0.99 , 0.991, 0.992, 0.993, 0.994,\n",
       "        0.995, 0.996, 0.997, 0.998, 0.999, 1.   , 1.001, 1.002, 1.003,\n",
       "        1.004, 1.005, 1.006, 1.007, 1.008, 1.009, 1.01 , 1.011, 1.012,\n",
       "        1.013, 1.014, 1.015, 1.016, 1.017, 1.018, 1.019, 1.02 , 1.021,\n",
       "        1.022, 1.023, 1.024, 1.025, 1.026, 1.027, 1.028, 1.029, 1.03 ,\n",
       "        1.031, 1.032, 1.033, 1.034, 1.035, 1.036, 1.037, 1.038, 1.039,\n",
       "        1.04 , 1.041, 1.042, 1.043, 1.044, 1.045, 1.046, 1.047, 1.048,\n",
       "        1.049, 1.05 ], dtype=float32),\n",
       " <BarContainer object of 100 artists>)"
      ]
     },
     "execution_count": 676,
     "metadata": {},
     "output_type": "execute_result"
    },
    {
     "data": {
      "image/png": "[encoded data removed]",
      "text/plain": [
       "<Figure size 432x288 with 1 Axes>"
      ]
     },
     "metadata": {
      "needs_background": "light"
     },
     "output_type": "display_data"
    }
   ],
   "source": [
    "plt.hist(first_cpf_pts_stuff[interesting_variable],bins=100,range=(0.95,1.05))"
   ]
  },
  {
   "cell_type": "code",
   "execution_count": 677,
   "metadata": {
    "scrolled": true
   },
   "outputs": [
    {
     "data": {
      "text/plain": [
       "(array([2655.,    0.,    0.,    0.,    0.,    0.,    0.,    0.,    0.,\n",
       "           0.,    0.,    0.,    0.,    0.,    0.,    0.,    0.,    0.,\n",
       "           0.,  864., 2069., 2595., 3035., 3231., 3517., 3592., 3636.,\n",
       "        3723., 3819., 3864., 3781., 3753., 3747., 3663., 3726., 3688.,\n",
       "        3643., 3468., 3570., 3424., 3469., 3448., 3388., 3275., 3160.,\n",
       "        3155., 3168., 3139., 3014., 3104., 3019., 2965., 3033., 2971.,\n",
       "        2819., 2827., 2804., 2772., 2753., 2653., 2657., 2619., 2649.,\n",
       "        2636., 2574., 2464., 2457., 2332., 2360., 2369., 2313., 2227.,\n",
       "        2254., 2188., 2129., 2129., 2066., 1983., 2002., 2022., 2040.,\n",
       "        2007., 1944., 1878., 1900., 1890., 1841., 1772., 1773., 1766.,\n",
       "        1696., 1719., 1655., 1661., 1672., 1658., 1562., 1603., 1572.,\n",
       "        1475.]),\n",
       " array([0.  , 0.05, 0.1 , 0.15, 0.2 , 0.25, 0.3 , 0.35, 0.4 , 0.45, 0.5 ,\n",
       "        0.55, 0.6 , 0.65, 0.7 , 0.75, 0.8 , 0.85, 0.9 , 0.95, 1.  , 1.05,\n",
       "        1.1 , 1.15, 1.2 , 1.25, 1.3 , 1.35, 1.4 , 1.45, 1.5 , 1.55, 1.6 ,\n",
       "        1.65, 1.7 , 1.75, 1.8 , 1.85, 1.9 , 1.95, 2.  , 2.05, 2.1 , 2.15,\n",
       "        2.2 , 2.25, 2.3 , 2.35, 2.4 , 2.45, 2.5 , 2.55, 2.6 , 2.65, 2.7 ,\n",
       "        2.75, 2.8 , 2.85, 2.9 , 2.95, 3.  , 3.05, 3.1 , 3.15, 3.2 , 3.25,\n",
       "        3.3 , 3.35, 3.4 , 3.45, 3.5 , 3.55, 3.6 , 3.65, 3.7 , 3.75, 3.8 ,\n",
       "        3.85, 3.9 , 3.95, 4.  , 4.05, 4.1 , 4.15, 4.2 , 4.25, 4.3 , 4.35,\n",
       "        4.4 , 4.45, 4.5 , 4.55, 4.6 , 4.65, 4.7 , 4.75, 4.8 , 4.85, 4.9 ,\n",
       "        4.95, 5.  ], dtype=float32),\n",
       " <BarContainer object of 100 artists>)"
      ]
     },
     "execution_count": 677,
     "metadata": {},
     "output_type": "execute_result"
    },
    {
     "data": {
      "image/png": "[encoded data removed]",
      "text/plain": [
       "<Figure size 432x288 with 1 Axes>"
      ]
     },
     "metadata": {
      "needs_background": "light"
     },
     "output_type": "display_data"
    }
   ],
   "source": [
    "plt.hist(first_cpf_pts_stuff[interesting_variable],bins=100,range=(0,5))"
   ]
  },
  {
   "cell_type": "code",
   "execution_count": 678,
   "metadata": {
    "scrolled": true
   },
   "outputs": [
    {
     "data": {
      "text/plain": [
       "(array([0.000e+00, 0.000e+00, 0.000e+00, 0.000e+00, 0.000e+00, 0.000e+00,\n",
       "        0.000e+00, 0.000e+00, 0.000e+00, 0.000e+00, 0.000e+00, 0.000e+00,\n",
       "        0.000e+00, 0.000e+00, 0.000e+00, 0.000e+00, 0.000e+00, 0.000e+00,\n",
       "        0.000e+00, 0.000e+00, 0.000e+00, 0.000e+00, 0.000e+00, 0.000e+00,\n",
       "        0.000e+00, 0.000e+00, 0.000e+00, 0.000e+00, 0.000e+00, 0.000e+00,\n",
       "        0.000e+00, 0.000e+00, 0.000e+00, 0.000e+00, 0.000e+00, 0.000e+00,\n",
       "        0.000e+00, 0.000e+00, 0.000e+00, 0.000e+00, 0.000e+00, 0.000e+00,\n",
       "        0.000e+00, 0.000e+00, 0.000e+00, 0.000e+00, 0.000e+00, 0.000e+00,\n",
       "        0.000e+00, 0.000e+00, 2.655e+03, 0.000e+00, 0.000e+00, 0.000e+00,\n",
       "        0.000e+00, 0.000e+00, 0.000e+00, 1.000e+00, 4.452e+03, 7.341e+03,\n",
       "        8.546e+03, 9.008e+03, 9.122e+03, 8.912e+03, 8.921e+03, 8.491e+03,\n",
       "        8.421e+03, 8.165e+03, 7.667e+03, 7.563e+03, 7.313e+03, 7.241e+03,\n",
       "        6.920e+03, 6.780e+03, 6.480e+03, 6.341e+03, 6.252e+03, 5.963e+03,\n",
       "        5.648e+03, 5.453e+03, 5.287e+03, 5.075e+03, 4.805e+03, 4.834e+03,\n",
       "        4.641e+03, 4.543e+03, 4.264e+03, 4.163e+03, 4.033e+03, 4.000e+03,\n",
       "        3.794e+03, 3.672e+03, 3.629e+03, 3.441e+03, 3.316e+03, 3.322e+03,\n",
       "        3.331e+03, 3.153e+03, 3.014e+03, 3.039e+03]),\n",
       " array([-6.  , -5.88, -5.76, -5.64, -5.52, -5.4 , -5.28, -5.16, -5.04,\n",
       "        -4.92, -4.8 , -4.68, -4.56, -4.44, -4.32, -4.2 , -4.08, -3.96,\n",
       "        -3.84, -3.72, -3.6 , -3.48, -3.36, -3.24, -3.12, -3.  , -2.88,\n",
       "        -2.76, -2.64, -2.52, -2.4 , -2.28, -2.16, -2.04, -1.92, -1.8 ,\n",
       "        -1.68, -1.56, -1.44, -1.32, -1.2 , -1.08, -0.96, -0.84, -0.72,\n",
       "        -0.6 , -0.48, -0.36, -0.24, -0.12,  0.  ,  0.12,  0.24,  0.36,\n",
       "         0.48,  0.6 ,  0.72,  0.84,  0.96,  1.08,  1.2 ,  1.32,  1.44,\n",
       "         1.56,  1.68,  1.8 ,  1.92,  2.04,  2.16,  2.28,  2.4 ,  2.52,\n",
       "         2.64,  2.76,  2.88,  3.  ,  3.12,  3.24,  3.36,  3.48,  3.6 ,\n",
       "         3.72,  3.84,  3.96,  4.08,  4.2 ,  4.32,  4.44,  4.56,  4.68,\n",
       "         4.8 ,  4.92,  5.04,  5.16,  5.28,  5.4 ,  5.52,  5.64,  5.76,\n",
       "         5.88,  6.  ], dtype=float32),\n",
       " <BarContainer object of 100 artists>)"
      ]
     },
     "execution_count": 678,
     "metadata": {},
     "output_type": "execute_result"
    },
    {
     "data": {
      "image/png": "[encoded data removed]",
      "text/plain": [
       "<Figure size 432x288 with 1 Axes>"
      ]
     },
     "metadata": {
      "needs_background": "light"
     },
     "output_type": "display_data"
    }
   ],
   "source": [
    "plt.hist(first_cpf_pts_stuff[interesting_variable],bins=100,range=(-6,6))"
   ]
  },
  {
   "cell_type": "code",
   "execution_count": 679,
   "metadata": {
    "scrolled": true
   },
   "outputs": [
    {
     "data": {
      "text/plain": [
       "(array([3.76744e+05, 1.37150e+04, 4.00200e+03, 1.86000e+03, 1.03700e+03,\n",
       "        6.70000e+02, 4.58000e+02, 3.06000e+02, 2.41000e+02, 1.60000e+02,\n",
       "        1.35000e+02, 9.70000e+01, 7.30000e+01, 7.00000e+01, 6.10000e+01,\n",
       "        5.00000e+01, 4.00000e+01, 3.50000e+01, 3.70000e+01, 2.50000e+01,\n",
       "        1.70000e+01, 2.20000e+01, 1.50000e+01, 1.10000e+01, 9.00000e+00,\n",
       "        1.20000e+01, 7.00000e+00, 1.20000e+01, 7.00000e+00, 8.00000e+00,\n",
       "        7.00000e+00, 9.00000e+00, 2.00000e+00, 3.00000e+00, 1.00000e+00,\n",
       "        3.00000e+00, 2.00000e+00, 1.00000e+00, 5.00000e+00, 2.00000e+00,\n",
       "        3.00000e+00, 0.00000e+00, 0.00000e+00, 3.00000e+00, 1.00000e+00,\n",
       "        3.00000e+00, 2.00000e+00, 1.00000e+00, 1.00000e+00, 3.00000e+00,\n",
       "        1.00000e+00, 2.00000e+00, 2.00000e+00, 0.00000e+00, 0.00000e+00,\n",
       "        0.00000e+00, 1.00000e+00, 0.00000e+00, 0.00000e+00, 0.00000e+00,\n",
       "        0.00000e+00, 1.00000e+00, 0.00000e+00, 0.00000e+00, 0.00000e+00,\n",
       "        1.00000e+00, 1.00000e+00, 0.00000e+00, 0.00000e+00, 0.00000e+00,\n",
       "        0.00000e+00, 0.00000e+00, 0.00000e+00, 1.00000e+00, 0.00000e+00,\n",
       "        0.00000e+00, 0.00000e+00, 0.00000e+00, 0.00000e+00, 0.00000e+00,\n",
       "        0.00000e+00, 0.00000e+00, 1.00000e+00, 0.00000e+00, 0.00000e+00,\n",
       "        0.00000e+00, 0.00000e+00, 0.00000e+00, 0.00000e+00, 0.00000e+00,\n",
       "        0.00000e+00, 0.00000e+00, 0.00000e+00, 0.00000e+00, 0.00000e+00,\n",
       "        0.00000e+00, 0.00000e+00, 0.00000e+00, 0.00000e+00, 1.00000e+00]),\n",
       " array([   0.      ,   33.187748,   66.375496,   99.56324 ,  132.75099 ,\n",
       "         165.93874 ,  199.12648 ,  232.31422 ,  265.50198 ,  298.68973 ,\n",
       "         331.87747 ,  365.06522 ,  398.25296 ,  431.4407  ,  464.62845 ,\n",
       "         497.8162  ,  531.00397 ,  564.1917  ,  597.37946 ,  630.5672  ,\n",
       "         663.75494 ,  696.9427  ,  730.13043 ,  763.3182  ,  796.5059  ,\n",
       "         829.69366 ,  862.8814  ,  896.06915 ,  929.2569  ,  962.44464 ,\n",
       "         995.6324  , 1028.8202  , 1062.0079  , 1095.1957  , 1128.3834  ,\n",
       "        1161.5712  , 1194.7589  , 1227.9467  , 1261.1344  , 1294.3221  ,\n",
       "        1327.5099  , 1360.6976  , 1393.8854  , 1427.0731  , 1460.2609  ,\n",
       "        1493.4486  , 1526.6364  , 1559.8241  , 1593.0118  , 1626.1996  ,\n",
       "        1659.3873  , 1692.5751  , 1725.7628  , 1758.9506  , 1792.1383  ,\n",
       "        1825.326   , 1858.5138  , 1891.7015  , 1924.8893  , 1958.077   ,\n",
       "        1991.2648  , 2024.4525  , 2057.6404  , 2090.8281  , 2124.0159  ,\n",
       "        2157.2036  , 2190.3914  , 2223.579   , 2256.7668  , 2289.9546  ,\n",
       "        2323.1423  , 2356.33    , 2389.5178  , 2422.7056  , 2455.8933  ,\n",
       "        2489.081   , 2522.2688  , 2555.4565  , 2588.6443  , 2621.832   ,\n",
       "        2655.0198  , 2688.2075  , 2721.3953  , 2754.583   , 2787.7708  ,\n",
       "        2820.9585  , 2854.1462  , 2887.334   , 2920.5217  , 2953.7095  ,\n",
       "        2986.8972  , 3020.085   , 3053.2727  , 3086.4604  , 3119.6482  ,\n",
       "        3152.836   , 3186.0237  , 3219.2114  , 3252.3992  , 3285.587   ,\n",
       "        3318.7747  ], dtype=float32),\n",
       " <BarContainer object of 100 artists>)"
      ]
     },
     "execution_count": 679,
     "metadata": {},
     "output_type": "execute_result"
    },
    {
     "data": {
      "image/png": "[encoded data removed]",
      "text/plain": [
       "<Figure size 432x288 with 1 Axes>"
      ]
     },
     "metadata": {
      "needs_background": "light"
     },
     "output_type": "display_data"
    }
   ],
   "source": [
    "plt.hist(first_cpf_pts_stuff[interesting_variable],bins=100)"
   ]
  },
  {
   "cell_type": "code",
   "execution_count": 681,
   "metadata": {},
   "outputs": [],
   "source": [
    "first_npf_pts_stuff = ak.to_numpy(df_npf_pts_clip[:,0])"
   ]
  },
  {
   "cell_type": "code",
   "execution_count": 682,
   "metadata": {},
   "outputs": [
    {
     "data": {
      "text/plain": [
       "array([( 1.9892578,  1.9946288,  0.70148134,   7.445333 ),\n",
       "       ( 8.25     ,  0.9042024, -2.837976  ,  11.858656 ),\n",
       "       ( 5.5976562, -1.3022858,  2.7187338 ,  11.05426  ), ...,\n",
       "       ( 4.6054688, -1.2916654, -1.1046214 ,   9.012107 ),\n",
       "       (77.125    ,  1.0591143,  0.7885982 , 124.579185 ),\n",
       "       ( 1.0810547, -1.6154058,  0.25079796,   2.8262763)],\n",
       "      dtype=[('Npfcan_pt', '<f4'), ('Npfcan_eta', '<f4'), ('Npfcan_phi', '<f4'), ('Npfcan_e', '<f4')])"
      ]
     },
     "execution_count": 682,
     "metadata": {},
     "output_type": "execute_result"
    }
   ],
   "source": [
    "first_npf_pts_stuff"
   ]
  },
  {
   "cell_type": "code",
   "execution_count": 715,
   "metadata": {
    "scrolled": true
   },
   "outputs": [
    {
     "data": {
      "text/plain": [
       "(array([0., 0., 0., 0., 0., 0., 0., 0., 0., 0., 0., 0., 0., 0., 0., 0., 0.,\n",
       "        0., 0., 0., 0., 0., 0., 0., 0., 0., 0., 0., 0., 0., 0., 0., 0., 0.,\n",
       "        0., 0., 0., 0., 0., 0., 0., 0., 0., 0., 0., 0., 0., 0., 0., 0., 0.,\n",
       "        0., 0., 0., 0., 0., 0., 0., 0., 0., 0., 0., 0., 0., 0., 0., 0., 0.,\n",
       "        0., 0., 0., 0., 0., 0., 0., 0., 0., 0., 0., 0., 0., 0., 0., 0., 0.,\n",
       "        0., 0., 0., 0., 0., 0., 0., 0., 0., 0., 0., 0., 0., 0., 0.]),\n",
       " array([-1000.   ,  -999.985,  -999.97 ,  -999.955,  -999.94 ,  -999.925,\n",
       "         -999.91 ,  -999.895,  -999.88 ,  -999.865,  -999.85 ,  -999.835,\n",
       "         -999.82 ,  -999.805,  -999.79 ,  -999.775,  -999.76 ,  -999.745,\n",
       "         -999.73 ,  -999.715,  -999.7  ,  -999.685,  -999.67 ,  -999.655,\n",
       "         -999.64 ,  -999.625,  -999.61 ,  -999.595,  -999.58 ,  -999.565,\n",
       "         -999.55 ,  -999.535,  -999.52 ,  -999.505,  -999.49 ,  -999.475,\n",
       "         -999.46 ,  -999.445,  -999.43 ,  -999.415,  -999.4  ,  -999.385,\n",
       "         -999.37 ,  -999.355,  -999.34 ,  -999.325,  -999.31 ,  -999.295,\n",
       "         -999.28 ,  -999.265,  -999.25 ,  -999.235,  -999.22 ,  -999.205,\n",
       "         -999.19 ,  -999.175,  -999.16 ,  -999.145,  -999.13 ,  -999.115,\n",
       "         -999.1  ,  -999.085,  -999.07 ,  -999.055,  -999.04 ,  -999.025,\n",
       "         -999.01 ,  -998.995,  -998.98 ,  -998.965,  -998.95 ,  -998.935,\n",
       "         -998.92 ,  -998.905,  -998.89 ,  -998.875,  -998.86 ,  -998.845,\n",
       "         -998.83 ,  -998.815,  -998.8  ,  -998.785,  -998.77 ,  -998.755,\n",
       "         -998.74 ,  -998.725,  -998.71 ,  -998.695,  -998.68 ,  -998.665,\n",
       "         -998.65 ,  -998.635,  -998.62 ,  -998.605,  -998.59 ,  -998.575,\n",
       "         -998.56 ,  -998.545,  -998.53 ,  -998.515,  -998.5  ],\n",
       "       dtype=float32),\n",
       " <BarContainer object of 100 artists>)"
      ]
     },
     "execution_count": 715,
     "metadata": {},
     "output_type": "execute_result"
    },
    {
     "data": {
      "image/png": "[encoded data removed]",
      "text/plain": [
       "<Figure size 432x288 with 1 Axes>"
      ]
     },
     "metadata": {
      "needs_background": "light"
     },
     "output_type": "display_data"
    }
   ],
   "source": [
    "interesting_variable = 'Npfcan_e'\n",
    "#plt.hist(first_cpf_stuff[interesting_variable],bins=100)\n",
    "plt.hist(first_npf_pts_stuff[interesting_variable],bins=100,range=(-1000,-998.5))"
   ]
  },
  {
   "cell_type": "code",
   "execution_count": 716,
   "metadata": {
    "scrolled": true
   },
   "outputs": [
    {
     "data": {
      "text/plain": [
       "(array([   0.,    0.,    0.,    0.,    0.,    0.,    0.,    0.,    0.,\n",
       "           0.,    0.,    0.,    0.,    0.,    0.,    0.,    0.,    0.,\n",
       "           0.,    0.,    0.,    0.,    0.,    0.,    0.,    0.,    0.,\n",
       "           0.,    0.,    0.,    0.,    0.,    0.,    0.,    0.,    0.,\n",
       "           0.,    0.,    0.,    0.,    0.,    0.,    0.,    0.,    0.,\n",
       "           0.,    0.,    0.,    0.,    0.,    0.,    0.,    0.,    0.,\n",
       "           0.,    0.,    0.,    0.,    0.,    0.,    0.,    0.,    0.,\n",
       "           0.,    0.,    0.,    0.,    0.,    0.,    0.,    0.,    0.,\n",
       "           0.,    0.,    0.,    0.,    0.,    0.,    0.,    0.,    0.,\n",
       "           0.,    0.,    0.,    0.,    0.,    0.,    0.,    0.,    0.,\n",
       "           0.,    0.,    0.,    0.,    0.,    0.,    0.,    0.,    0.,\n",
       "        6483.]),\n",
       " array([-1.01  , -0.9999, -0.9898, -0.9797, -0.9696, -0.9595, -0.9494,\n",
       "        -0.9393, -0.9292, -0.9191, -0.909 , -0.8989, -0.8888, -0.8787,\n",
       "        -0.8686, -0.8585, -0.8484, -0.8383, -0.8282, -0.8181, -0.808 ,\n",
       "        -0.7979, -0.7878, -0.7777, -0.7676, -0.7575, -0.7474, -0.7373,\n",
       "        -0.7272, -0.7171, -0.707 , -0.6969, -0.6868, -0.6767, -0.6666,\n",
       "        -0.6565, -0.6464, -0.6363, -0.6262, -0.6161, -0.606 , -0.5959,\n",
       "        -0.5858, -0.5757, -0.5656, -0.5555, -0.5454, -0.5353, -0.5252,\n",
       "        -0.5151, -0.505 , -0.4949, -0.4848, -0.4747, -0.4646, -0.4545,\n",
       "        -0.4444, -0.4343, -0.4242, -0.4141, -0.404 , -0.3939, -0.3838,\n",
       "        -0.3737, -0.3636, -0.3535, -0.3434, -0.3333, -0.3232, -0.3131,\n",
       "        -0.303 , -0.2929, -0.2828, -0.2727, -0.2626, -0.2525, -0.2424,\n",
       "        -0.2323, -0.2222, -0.2121, -0.202 , -0.1919, -0.1818, -0.1717,\n",
       "        -0.1616, -0.1515, -0.1414, -0.1313, -0.1212, -0.1111, -0.101 ,\n",
       "        -0.0909, -0.0808, -0.0707, -0.0606, -0.0505, -0.0404, -0.0303,\n",
       "        -0.0202, -0.0101,  0.    ], dtype=float32),\n",
       " <BarContainer object of 100 artists>)"
      ]
     },
     "execution_count": 716,
     "metadata": {},
     "output_type": "execute_result"
    },
    {
     "data": {
      "image/png": "[encoded data removed]",
      "text/plain": [
       "<Figure size 432x288 with 1 Axes>"
      ]
     },
     "metadata": {
      "needs_background": "light"
     },
     "output_type": "display_data"
    }
   ],
   "source": [
    "plt.hist(first_npf_pts_stuff[interesting_variable],bins=100,range=(-1.01,0))"
   ]
  },
  {
   "cell_type": "code",
   "execution_count": 717,
   "metadata": {
    "scrolled": true
   },
   "outputs": [
    {
     "data": {
      "text/plain": [
       "(array([   0.,    0.,    0.,    0.,    0.,    0.,    0.,    0.,    0.,\n",
       "           0.,    0.,    0.,    0.,    0.,    0.,    0.,    0.,    0.,\n",
       "           0.,    0.,    0.,    0.,    0.,    0.,    0.,    0.,    0.,\n",
       "           0.,    0.,    0.,    0.,    0.,    0.,    0.,    0.,    0.,\n",
       "           0.,    0.,    0.,    0.,    0.,    0.,    0.,    0.,    0.,\n",
       "           0.,    0.,    0.,    0.,    0.,    0.,    0.,    0.,    0.,\n",
       "           0.,    0.,    0.,    0.,    0.,    0.,    0.,    0.,    0.,\n",
       "           0.,    0.,    0.,    0.,    0.,    0.,    0.,    0.,    0.,\n",
       "           0.,    0.,    0.,    0.,    0.,    0.,    0.,    0.,    0.,\n",
       "           0.,    0.,    0.,    0.,    0.,    0.,    0.,    0.,    0.,\n",
       "           0.,    0.,    0.,    0.,    0.,    0.,    0.,    0.,    0.,\n",
       "        6483.]),\n",
       " array([-0.4  , -0.396, -0.392, -0.388, -0.384, -0.38 , -0.376, -0.372,\n",
       "        -0.368, -0.364, -0.36 , -0.356, -0.352, -0.348, -0.344, -0.34 ,\n",
       "        -0.336, -0.332, -0.328, -0.324, -0.32 , -0.316, -0.312, -0.308,\n",
       "        -0.304, -0.3  , -0.296, -0.292, -0.288, -0.284, -0.28 , -0.276,\n",
       "        -0.272, -0.268, -0.264, -0.26 , -0.256, -0.252, -0.248, -0.244,\n",
       "        -0.24 , -0.236, -0.232, -0.228, -0.224, -0.22 , -0.216, -0.212,\n",
       "        -0.208, -0.204, -0.2  , -0.196, -0.192, -0.188, -0.184, -0.18 ,\n",
       "        -0.176, -0.172, -0.168, -0.164, -0.16 , -0.156, -0.152, -0.148,\n",
       "        -0.144, -0.14 , -0.136, -0.132, -0.128, -0.124, -0.12 , -0.116,\n",
       "        -0.112, -0.108, -0.104, -0.1  , -0.096, -0.092, -0.088, -0.084,\n",
       "        -0.08 , -0.076, -0.072, -0.068, -0.064, -0.06 , -0.056, -0.052,\n",
       "        -0.048, -0.044, -0.04 , -0.036, -0.032, -0.028, -0.024, -0.02 ,\n",
       "        -0.016, -0.012, -0.008, -0.004,  0.   ], dtype=float32),\n",
       " <BarContainer object of 100 artists>)"
      ]
     },
     "execution_count": 717,
     "metadata": {},
     "output_type": "execute_result"
    },
    {
     "data": {
      "image/png": "[encoded data removed]",
      "text/plain": [
       "<Figure size 432x288 with 1 Axes>"
      ]
     },
     "metadata": {
      "needs_background": "light"
     },
     "output_type": "display_data"
    }
   ],
   "source": [
    "plt.hist(first_npf_pts_stuff[interesting_variable],bins=100,range=(-0.40,0))"
   ]
  },
  {
   "cell_type": "code",
   "execution_count": 718,
   "metadata": {
    "scrolled": true
   },
   "outputs": [
    {
     "data": {
      "text/plain": [
       "(array([0., 0., 0., 0., 0., 0., 0., 0., 0., 0., 0., 0., 0., 0., 0., 0., 0.,\n",
       "        0., 0., 0., 0., 0., 0., 0., 0., 0., 0., 0., 0., 0., 0., 0., 0., 0.,\n",
       "        0., 0., 0., 0., 0., 0., 0., 0., 0., 0., 0., 0., 0., 0., 0., 0., 0.,\n",
       "        0., 0., 0., 0., 0., 0., 0., 0., 0., 0., 0., 0., 0., 0., 0., 0., 0.,\n",
       "        0., 0., 0., 0., 0., 0., 0., 0., 0., 0., 0., 0., 0., 0., 0., 0., 0.,\n",
       "        0., 0., 0., 0., 0., 0., 0., 0., 0., 0., 0., 0., 0., 0., 0.]),\n",
       " array([-1.01  , -1.0098, -1.0096, -1.0094, -1.0092, -1.009 , -1.0088,\n",
       "        -1.0086, -1.0084, -1.0082, -1.008 , -1.0078, -1.0076, -1.0074,\n",
       "        -1.0072, -1.007 , -1.0068, -1.0066, -1.0064, -1.0062, -1.006 ,\n",
       "        -1.0058, -1.0056, -1.0054, -1.0052, -1.005 , -1.0048, -1.0046,\n",
       "        -1.0044, -1.0042, -1.004 , -1.0038, -1.0036, -1.0034, -1.0032,\n",
       "        -1.003 , -1.0028, -1.0026, -1.0024, -1.0022, -1.002 , -1.0018,\n",
       "        -1.0016, -1.0014, -1.0012, -1.001 , -1.0008, -1.0006, -1.0004,\n",
       "        -1.0002, -1.    , -0.9998, -0.9996, -0.9994, -0.9992, -0.999 ,\n",
       "        -0.9988, -0.9986, -0.9984, -0.9982, -0.998 , -0.9978, -0.9976,\n",
       "        -0.9974, -0.9972, -0.997 , -0.9968, -0.9966, -0.9964, -0.9962,\n",
       "        -0.996 , -0.9958, -0.9956, -0.9954, -0.9952, -0.995 , -0.9948,\n",
       "        -0.9946, -0.9944, -0.9942, -0.994 , -0.9938, -0.9936, -0.9934,\n",
       "        -0.9932, -0.993 , -0.9928, -0.9926, -0.9924, -0.9922, -0.992 ,\n",
       "        -0.9918, -0.9916, -0.9914, -0.9912, -0.991 , -0.9908, -0.9906,\n",
       "        -0.9904, -0.9902, -0.99  ], dtype=float32),\n",
       " <BarContainer object of 100 artists>)"
      ]
     },
     "execution_count": 718,
     "metadata": {},
     "output_type": "execute_result"
    },
    {
     "data": {
      "image/png": "[encoded data removed]",
      "text/plain": [
       "<Figure size 432x288 with 1 Axes>"
      ]
     },
     "metadata": {
      "needs_background": "light"
     },
     "output_type": "display_data"
    }
   ],
   "source": [
    "plt.hist(first_npf_pts_stuff[interesting_variable],bins=100,range=(-1.01,-0.99))"
   ]
  },
  {
   "cell_type": "code",
   "execution_count": 719,
   "metadata": {
    "scrolled": true
   },
   "outputs": [
    {
     "data": {
      "text/plain": [
       "(array([    0.,     0.,     0.,     0.,     0.,     0.,     0.,     0.,\n",
       "            0.,     0.,     0.,     0.,     0.,     0.,     0.,     0.,\n",
       "            0.,     0.,     0.,     0.,     0.,     0.,     0.,     0.,\n",
       "            0.,     0.,     0.,     0.,     0.,     0.,     0.,     0.,\n",
       "            0.,     0.,     0.,     0.,     0.,     0.,     0.,     0.,\n",
       "            0.,     0.,     0.,     0.,     0.,     0.,     0.,     0.,\n",
       "            0.,     0., 12956.,     0.,     0.,     0.,     0.,     0.,\n",
       "            0.,     0.,     0.,     0.,     0.,     0.,     0.,     0.,\n",
       "            0.,     0.,     0.,     0.,     0.,     0.,     0.,     0.,\n",
       "            0.,     0.,     0.,     0.,     0.,     0.,     0.,     0.,\n",
       "            0.,     0.,     0.,     0.,     0.,     0.,     0.,     0.,\n",
       "            0.,     0.,     0.,     0.,     0.,     0.,     0.,     0.,\n",
       "            0.,     0.,     0.,     0.]),\n",
       " array([-0.01  , -0.0098, -0.0096, -0.0094, -0.0092, -0.009 , -0.0088,\n",
       "        -0.0086, -0.0084, -0.0082, -0.008 , -0.0078, -0.0076, -0.0074,\n",
       "        -0.0072, -0.007 , -0.0068, -0.0066, -0.0064, -0.0062, -0.006 ,\n",
       "        -0.0058, -0.0056, -0.0054, -0.0052, -0.005 , -0.0048, -0.0046,\n",
       "        -0.0044, -0.0042, -0.004 , -0.0038, -0.0036, -0.0034, -0.0032,\n",
       "        -0.003 , -0.0028, -0.0026, -0.0024, -0.0022, -0.002 , -0.0018,\n",
       "        -0.0016, -0.0014, -0.0012, -0.001 , -0.0008, -0.0006, -0.0004,\n",
       "        -0.0002,  0.    ,  0.0002,  0.0004,  0.0006,  0.0008,  0.001 ,\n",
       "         0.0012,  0.0014,  0.0016,  0.0018,  0.002 ,  0.0022,  0.0024,\n",
       "         0.0026,  0.0028,  0.003 ,  0.0032,  0.0034,  0.0036,  0.0038,\n",
       "         0.004 ,  0.0042,  0.0044,  0.0046,  0.0048,  0.005 ,  0.0052,\n",
       "         0.0054,  0.0056,  0.0058,  0.006 ,  0.0062,  0.0064,  0.0066,\n",
       "         0.0068,  0.007 ,  0.0072,  0.0074,  0.0076,  0.0078,  0.008 ,\n",
       "         0.0082,  0.0084,  0.0086,  0.0088,  0.009 ,  0.0092,  0.0094,\n",
       "         0.0096,  0.0098,  0.01  ], dtype=float32),\n",
       " <BarContainer object of 100 artists>)"
      ]
     },
     "execution_count": 719,
     "metadata": {},
     "output_type": "execute_result"
    },
    {
     "data": {
      "image/png": "[encoded data removed]",
      "text/plain": [
       "<Figure size 432x288 with 1 Axes>"
      ]
     },
     "metadata": {
      "needs_background": "light"
     },
     "output_type": "display_data"
    }
   ],
   "source": [
    "plt.hist(first_npf_pts_stuff[interesting_variable],bins=100,range=(-0.01,0.01))"
   ]
  },
  {
   "cell_type": "code",
   "execution_count": 720,
   "metadata": {
    "scrolled": true
   },
   "outputs": [
    {
     "data": {
      "text/plain": [
       "(array([12956.,     0.,     0.,     0.,     0.,     0.,     0.,     0.,\n",
       "            0.,     0.,     0.,     0.,     0.,     0.,     0.,     0.,\n",
       "            0.,     0.,     0.,     0.,     0.,     0.,     0.,     0.,\n",
       "            0.,     0.,     0.,     0.,     0.,     0.,     0.,     0.,\n",
       "            0.,     0.,     0.,     0.,     0.,     0.,     0.,     0.,\n",
       "            0.,     0.,     0.,     0.,     0.,     0.,     0.,     0.,\n",
       "            0.,     0.,     0.,     0.,     0.,     0.,     0.,     0.,\n",
       "            0.,     0.,     0.,     0.,     0.,     0.,     0.,     0.,\n",
       "            0.,     0.,     0.,     0.,     0.,     0.,     0.,     0.,\n",
       "            0.,     0.,     0.,     0.,     0.,     0.,     0.,     0.,\n",
       "            0.,     0.,     0.,     0.,     0.,     0.,     0.,     0.,\n",
       "            0.,     0.,     0.,     0.,     0.,     0.,     0.,    30.,\n",
       "           63.,    81.,    86.,    83.]),\n",
       " array([0.  , 0.01, 0.02, 0.03, 0.04, 0.05, 0.06, 0.07, 0.08, 0.09, 0.1 ,\n",
       "        0.11, 0.12, 0.13, 0.14, 0.15, 0.16, 0.17, 0.18, 0.19, 0.2 , 0.21,\n",
       "        0.22, 0.23, 0.24, 0.25, 0.26, 0.27, 0.28, 0.29, 0.3 , 0.31, 0.32,\n",
       "        0.33, 0.34, 0.35, 0.36, 0.37, 0.38, 0.39, 0.4 , 0.41, 0.42, 0.43,\n",
       "        0.44, 0.45, 0.46, 0.47, 0.48, 0.49, 0.5 , 0.51, 0.52, 0.53, 0.54,\n",
       "        0.55, 0.56, 0.57, 0.58, 0.59, 0.6 , 0.61, 0.62, 0.63, 0.64, 0.65,\n",
       "        0.66, 0.67, 0.68, 0.69, 0.7 , 0.71, 0.72, 0.73, 0.74, 0.75, 0.76,\n",
       "        0.77, 0.78, 0.79, 0.8 , 0.81, 0.82, 0.83, 0.84, 0.85, 0.86, 0.87,\n",
       "        0.88, 0.89, 0.9 , 0.91, 0.92, 0.93, 0.94, 0.95, 0.96, 0.97, 0.98,\n",
       "        0.99, 1.  ], dtype=float32),\n",
       " <BarContainer object of 100 artists>)"
      ]
     },
     "execution_count": 720,
     "metadata": {},
     "output_type": "execute_result"
    },
    {
     "data": {
      "image/png": "[encoded data removed]",
      "text/plain": [
       "<Figure size 432x288 with 1 Axes>"
      ]
     },
     "metadata": {
      "needs_background": "light"
     },
     "output_type": "display_data"
    }
   ],
   "source": [
    "plt.hist(first_npf_pts_stuff[interesting_variable],bins=100,range=(0,1))"
   ]
  },
  {
   "cell_type": "code",
   "execution_count": 721,
   "metadata": {
    "scrolled": true
   },
   "outputs": [
    {
     "data": {
      "text/plain": [
       "(array([ 2.,  1.,  0.,  1.,  2.,  6.,  3.,  5.,  5.,  5.,  5.,  5.,  6.,\n",
       "         8.,  5.,  5.,  8.,  8.,  7.,  6.,  7., 12.,  6.,  8.,  9., 11.,\n",
       "         7.,  7.,  6.,  8.,  5., 10.,  8., 11.,  6., 11.,  7.,  7.,  8.,\n",
       "        13.,  4., 10.,  9.,  4.,  7., 13.,  9., 11., 10.,  6., 12., 23.,\n",
       "        14., 14., 21., 15., 12., 21., 13., 14., 12., 21., 26., 11., 15.,\n",
       "        20., 18., 15., 17., 15., 16., 16., 17., 20., 22., 18., 15., 18.,\n",
       "        23., 15., 12., 24., 27., 19., 29., 23., 27., 18., 16., 25., 14.,\n",
       "        18., 22., 18., 15., 14., 25., 19., 18., 17.]),\n",
       " array([0.95 , 0.951, 0.952, 0.953, 0.954, 0.955, 0.956, 0.957, 0.958,\n",
       "        0.959, 0.96 , 0.961, 0.962, 0.963, 0.964, 0.965, 0.966, 0.967,\n",
       "        0.968, 0.969, 0.97 , 0.971, 0.972, 0.973, 0.974, 0.975, 0.976,\n",
       "        0.977, 0.978, 0.979, 0.98 , 0.981, 0.982, 0.983, 0.984, 0.985,\n",
       "        0.986, 0.987, 0.988, 0.989, 0.99 , 0.991, 0.992, 0.993, 0.994,\n",
       "        0.995, 0.996, 0.997, 0.998, 0.999, 1.   , 1.001, 1.002, 1.003,\n",
       "        1.004, 1.005, 1.006, 1.007, 1.008, 1.009, 1.01 , 1.011, 1.012,\n",
       "        1.013, 1.014, 1.015, 1.016, 1.017, 1.018, 1.019, 1.02 , 1.021,\n",
       "        1.022, 1.023, 1.024, 1.025, 1.026, 1.027, 1.028, 1.029, 1.03 ,\n",
       "        1.031, 1.032, 1.033, 1.034, 1.035, 1.036, 1.037, 1.038, 1.039,\n",
       "        1.04 , 1.041, 1.042, 1.043, 1.044, 1.045, 1.046, 1.047, 1.048,\n",
       "        1.049, 1.05 ], dtype=float32),\n",
       " <BarContainer object of 100 artists>)"
      ]
     },
     "execution_count": 721,
     "metadata": {},
     "output_type": "execute_result"
    },
    {
     "data": {
      "image/png": "[encoded data removed]",
      "text/plain": [
       "<Figure size 432x288 with 1 Axes>"
      ]
     },
     "metadata": {
      "needs_background": "light"
     },
     "output_type": "display_data"
    }
   ],
   "source": [
    "plt.hist(first_npf_pts_stuff[interesting_variable],bins=100,range=(0.95,1.05))"
   ]
  },
  {
   "cell_type": "code",
   "execution_count": 722,
   "metadata": {
    "scrolled": true
   },
   "outputs": [
    {
     "data": {
      "text/plain": [
       "(array([12956.,     0.,     0.,     0.,     0.,     0.,     0.,     0.,\n",
       "            0.,     0.,     0.,     0.,     0.,     0.,     0.,     0.,\n",
       "            0.,     0.,     0.,   343.,   909.,  1160.,  1279.,  1365.,\n",
       "         1512.,  1557.,  1567.,  1592.,  1690.,  1655.,  1661.,  1709.,\n",
       "         1704.,  1692.,  1716.,  1658.,  1722.,  1807.,  1726.,  1826.,\n",
       "         1751.,  1794.,  1654.,  1746.,  1425.,  1298.,  1260.,  1235.,\n",
       "         1412.,  2617.,  1971.,  1755.,  1777.,  1726.,  1642.,  1594.,\n",
       "         1599.,  1624.,  1471.,  1554.,  1392.,  1364.,  1374.,  1363.,\n",
       "         1404.,  1302.,  1318.,  1347.,  1325.,  1310.,  1286.,  1269.,\n",
       "         1244.,  1224.,  1274.,  1301.,  1224.,  1187.,  1177.,  1199.,\n",
       "         1215.,  1179.,  1128.,  1113.,  1153.,  1091.,  1063.,  1102.,\n",
       "         1079.,  1054.,  1090.,  1090.,  1072.,  1007.,  1003.,  1092.,\n",
       "         1052.,   997.,  1045.,   980.]),\n",
       " array([0.  , 0.05, 0.1 , 0.15, 0.2 , 0.25, 0.3 , 0.35, 0.4 , 0.45, 0.5 ,\n",
       "        0.55, 0.6 , 0.65, 0.7 , 0.75, 0.8 , 0.85, 0.9 , 0.95, 1.  , 1.05,\n",
       "        1.1 , 1.15, 1.2 , 1.25, 1.3 , 1.35, 1.4 , 1.45, 1.5 , 1.55, 1.6 ,\n",
       "        1.65, 1.7 , 1.75, 1.8 , 1.85, 1.9 , 1.95, 2.  , 2.05, 2.1 , 2.15,\n",
       "        2.2 , 2.25, 2.3 , 2.35, 2.4 , 2.45, 2.5 , 2.55, 2.6 , 2.65, 2.7 ,\n",
       "        2.75, 2.8 , 2.85, 2.9 , 2.95, 3.  , 3.05, 3.1 , 3.15, 3.2 , 3.25,\n",
       "        3.3 , 3.35, 3.4 , 3.45, 3.5 , 3.55, 3.6 , 3.65, 3.7 , 3.75, 3.8 ,\n",
       "        3.85, 3.9 , 3.95, 4.  , 4.05, 4.1 , 4.15, 4.2 , 4.25, 4.3 , 4.35,\n",
       "        4.4 , 4.45, 4.5 , 4.55, 4.6 , 4.65, 4.7 , 4.75, 4.8 , 4.85, 4.9 ,\n",
       "        4.95, 5.  ], dtype=float32),\n",
       " <BarContainer object of 100 artists>)"
      ]
     },
     "execution_count": 722,
     "metadata": {},
     "output_type": "execute_result"
    },
    {
     "data": {
      "image/png": "[encoded data removed]",
      "text/plain": [
       "<Figure size 432x288 with 1 Axes>"
      ]
     },
     "metadata": {
      "needs_background": "light"
     },
     "output_type": "display_data"
    }
   ],
   "source": [
    "plt.hist(first_npf_pts_stuff[interesting_variable],bins=100,range=(0,5))"
   ]
  },
  {
   "cell_type": "code",
   "execution_count": 723,
   "metadata": {
    "scrolled": true
   },
   "outputs": [
    {
     "data": {
      "text/plain": [
       "(array([    0.,     0.,     0.,     0.,     0.,     0.,     0.,     0.,\n",
       "            0.,     0.,     0.,     0.,     0.,     0.,     0.,     0.,\n",
       "            0.,     0.,     0.,     0.,     0.,     0.,     0.,     0.,\n",
       "            0.,     0.,     0.,     0.,     0.,     0.,     0.,     0.,\n",
       "            0.,     0.,     0.,     0.,     0.,     0.,     0.,     0.,\n",
       "            0.,     0.,     0.,     0.,     0.,     0.,     0.,     0.,\n",
       "            0.,     0., 12956.,     0.,     0.,     0.,     0.,     0.,\n",
       "            0.,    30.,  1901.,  3125.,  3690.,  3888.,  4013.,  4090.,\n",
       "         4032.,  4228.,  4251.,  4162.,  3537.,  3066.,  4832.,  4344.,\n",
       "         4063.,  3810.,  3693.,  3323.,  3277.,  3161.,  3219.,  3074.,\n",
       "         2999.,  3058.,  2816.,  2879.,  2713.,  2663.,  2612.,  2594.,\n",
       "         2502.,  2525.,  2463.,  2372.,  2363.,  2250.,  2217.,  2255.,\n",
       "         2200.,  2090.,  2078.,  2033.]),\n",
       " array([-6.  , -5.88, -5.76, -5.64, -5.52, -5.4 , -5.28, -5.16, -5.04,\n",
       "        -4.92, -4.8 , -4.68, -4.56, -4.44, -4.32, -4.2 , -4.08, -3.96,\n",
       "        -3.84, -3.72, -3.6 , -3.48, -3.36, -3.24, -3.12, -3.  , -2.88,\n",
       "        -2.76, -2.64, -2.52, -2.4 , -2.28, -2.16, -2.04, -1.92, -1.8 ,\n",
       "        -1.68, -1.56, -1.44, -1.32, -1.2 , -1.08, -0.96, -0.84, -0.72,\n",
       "        -0.6 , -0.48, -0.36, -0.24, -0.12,  0.  ,  0.12,  0.24,  0.36,\n",
       "         0.48,  0.6 ,  0.72,  0.84,  0.96,  1.08,  1.2 ,  1.32,  1.44,\n",
       "         1.56,  1.68,  1.8 ,  1.92,  2.04,  2.16,  2.28,  2.4 ,  2.52,\n",
       "         2.64,  2.76,  2.88,  3.  ,  3.12,  3.24,  3.36,  3.48,  3.6 ,\n",
       "         3.72,  3.84,  3.96,  4.08,  4.2 ,  4.32,  4.44,  4.56,  4.68,\n",
       "         4.8 ,  4.92,  5.04,  5.16,  5.28,  5.4 ,  5.52,  5.64,  5.76,\n",
       "         5.88,  6.  ], dtype=float32),\n",
       " <BarContainer object of 100 artists>)"
      ]
     },
     "execution_count": 723,
     "metadata": {},
     "output_type": "execute_result"
    },
    {
     "data": {
      "image/png": "[encoded data removed]",
      "text/plain": [
       "<Figure size 432x288 with 1 Axes>"
      ]
     },
     "metadata": {
      "needs_background": "light"
     },
     "output_type": "display_data"
    }
   ],
   "source": [
    "plt.hist(first_npf_pts_stuff[interesting_variable],bins=100,range=(-6,6))"
   ]
  },
  {
   "cell_type": "code",
   "execution_count": 724,
   "metadata": {
    "scrolled": true
   },
   "outputs": [
    {
     "data": {
      "text/plain": [
       "(array([2.87084e+05, 3.07960e+04, 1.46980e+04, 9.72300e+03, 7.56100e+03,\n",
       "        6.01100e+03, 5.24400e+03, 4.28300e+03, 3.77400e+03, 3.20000e+03,\n",
       "        2.91700e+03, 2.64000e+03, 2.24000e+03, 2.15700e+03, 1.86500e+03,\n",
       "        1.58900e+03, 1.44700e+03, 1.35400e+03, 1.15400e+03, 1.05300e+03,\n",
       "        9.00000e+02, 8.82000e+02, 7.91000e+02, 6.72000e+02, 6.30000e+02,\n",
       "        5.04000e+02, 4.94000e+02, 4.40000e+02, 3.88000e+02, 3.73000e+02,\n",
       "        3.26000e+02, 3.09000e+02, 2.55000e+02, 2.01000e+02, 1.81000e+02,\n",
       "        1.90000e+02, 1.78000e+02, 1.63000e+02, 1.46000e+02, 1.16000e+02,\n",
       "        1.11000e+02, 1.02000e+02, 7.50000e+01, 7.10000e+01, 7.20000e+01,\n",
       "        7.10000e+01, 6.20000e+01, 4.90000e+01, 4.00000e+01, 3.90000e+01,\n",
       "        3.00000e+01, 3.50000e+01, 3.20000e+01, 2.40000e+01, 3.10000e+01,\n",
       "        2.20000e+01, 1.90000e+01, 2.10000e+01, 2.00000e+01, 1.80000e+01,\n",
       "        1.40000e+01, 1.20000e+01, 1.30000e+01, 8.00000e+00, 1.20000e+01,\n",
       "        9.00000e+00, 3.00000e+00, 5.00000e+00, 4.00000e+00, 4.00000e+00,\n",
       "        5.00000e+00, 1.00000e+00, 3.00000e+00, 2.00000e+00, 4.00000e+00,\n",
       "        1.00000e+00, 1.00000e+00, 5.00000e+00, 7.00000e+00, 0.00000e+00,\n",
       "        0.00000e+00, 0.00000e+00, 0.00000e+00, 1.00000e+00, 1.00000e+00,\n",
       "        1.00000e+00, 1.00000e+00, 0.00000e+00, 1.00000e+00, 1.00000e+00,\n",
       "        2.00000e+00, 0.00000e+00, 1.00000e+00, 1.00000e+00, 0.00000e+00,\n",
       "        0.00000e+00, 0.00000e+00, 2.00000e+00, 1.00000e+00, 1.00000e+00]),\n",
       " array([   0.      ,   33.741577,   67.483154,  101.22473 ,  134.96631 ,\n",
       "         168.70789 ,  202.44946 ,  236.19104 ,  269.93262 ,  303.6742  ,\n",
       "         337.41577 ,  371.15735 ,  404.89893 ,  438.6405  ,  472.38208 ,\n",
       "         506.12366 ,  539.86523 ,  573.6068  ,  607.3484  ,  641.08997 ,\n",
       "         674.83154 ,  708.5731  ,  742.3147  ,  776.0563  ,  809.79785 ,\n",
       "         843.5394  ,  877.281   ,  911.0226  ,  944.76416 ,  978.50574 ,\n",
       "        1012.2473  , 1045.9889  , 1079.7305  , 1113.472   , 1147.2136  ,\n",
       "        1180.9552  , 1214.6968  , 1248.4384  , 1282.1799  , 1315.9215  ,\n",
       "        1349.6631  , 1383.4047  , 1417.1462  , 1450.8878  , 1484.6294  ,\n",
       "        1518.371   , 1552.1125  , 1585.8541  , 1619.5957  , 1653.3373  ,\n",
       "        1687.0789  , 1720.8204  , 1754.562   , 1788.3036  , 1822.0452  ,\n",
       "        1855.7867  , 1889.5283  , 1923.2699  , 1957.0115  , 1990.753   ,\n",
       "        2024.4946  , 2058.2363  , 2091.9778  , 2125.7192  , 2159.461   ,\n",
       "        2193.2026  , 2226.944   , 2260.6855  , 2294.4272  , 2328.169   ,\n",
       "        2361.9104  , 2395.6519  , 2429.3936  , 2463.1353  , 2496.8767  ,\n",
       "        2530.6182  , 2564.3599  , 2598.1016  , 2631.843   , 2665.5845  ,\n",
       "        2699.3262  , 2733.0679  , 2766.8093  , 2800.5508  , 2834.2925  ,\n",
       "        2868.0342  , 2901.7756  , 2935.517   , 2969.2588  , 3003.0005  ,\n",
       "        3036.742   , 3070.4834  , 3104.225   , 3137.9668  , 3171.7083  ,\n",
       "        3205.4497  , 3239.1914  , 3272.933   , 3306.6746  , 3340.416   ,\n",
       "        3374.1577  ], dtype=float32),\n",
       " <BarContainer object of 100 artists>)"
      ]
     },
     "execution_count": 724,
     "metadata": {},
     "output_type": "execute_result"
    },
    {
     "data": {
      "image/png": "[encoded data removed]",
      "text/plain": [
       "<Figure size 432x288 with 1 Axes>"
      ]
     },
     "metadata": {
      "needs_background": "light"
     },
     "output_type": "display_data"
    }
   ],
   "source": [
    "plt.hist(first_npf_pts_stuff[interesting_variable],bins=100)"
   ]
  },
  {
   "cell_type": "code",
   "execution_count": 726,
   "metadata": {},
   "outputs": [],
   "source": [
    "first_vtx_pts_stuff = ak.to_numpy(df_vtx_pts_clip[:,0])"
   ]
  },
  {
   "cell_type": "code",
   "execution_count": 727,
   "metadata": {},
   "outputs": [
    {
     "data": {
      "text/plain": [
       "array([(3.7754974e+24,  3.7754974e+24, 3.7754974e+24, 1.3022263e+23),\n",
       "       (4.5640291e-41,  4.5640291e-41, 4.5640291e-41, 3.0740284e-41),\n",
       "       (1.5937823e+01, -1.0883456e+00, 2.9302664e+00, 2.6627243e+01), ...,\n",
       "       (0.0000000e+00, -3.7042856e-01, 0.0000000e+00, 0.0000000e+00),\n",
       "       (2.8025829e-40,  4.4841789e-39, 2.8026109e-40, 2.5223470e-39),\n",
       "       (0.0000000e+00,  0.0000000e+00, 0.0000000e+00, 0.0000000e+00)],\n",
       "      dtype=[('sv_pt', '<f4'), ('sv_eta', '<f4'), ('sv_phi', '<f4'), ('sv_e', '<f4')])"
      ]
     },
     "execution_count": 727,
     "metadata": {},
     "output_type": "execute_result"
    }
   ],
   "source": [
    "first_vtx_pts_stuff"
   ]
  },
  {
   "cell_type": "code",
   "execution_count": 758,
   "metadata": {
    "scrolled": true
   },
   "outputs": [
    {
     "data": {
      "text/plain": [
       "(array([0., 0., 0., 0., 0., 0., 0., 0., 0., 0., 0., 0., 0., 0., 0., 0., 0.,\n",
       "        0., 0., 0., 0., 0., 0., 0., 0., 0., 0., 0., 0., 0., 0., 0., 0., 0.,\n",
       "        0., 0., 0., 0., 0., 0., 0., 0., 0., 0., 0., 0., 0., 0., 0., 0., 0.,\n",
       "        0., 0., 0., 0., 0., 0., 0., 0., 0., 0., 0., 0., 0., 0., 0., 0., 0.,\n",
       "        0., 0., 0., 0., 0., 0., 0., 0., 0., 0., 0., 0., 0., 0., 0., 0., 0.,\n",
       "        0., 0., 0., 0., 0., 0., 0., 0., 0., 0., 0., 0., 0., 0., 0.]),\n",
       " array([-1000.   ,  -999.985,  -999.97 ,  -999.955,  -999.94 ,  -999.925,\n",
       "         -999.91 ,  -999.895,  -999.88 ,  -999.865,  -999.85 ,  -999.835,\n",
       "         -999.82 ,  -999.805,  -999.79 ,  -999.775,  -999.76 ,  -999.745,\n",
       "         -999.73 ,  -999.715,  -999.7  ,  -999.685,  -999.67 ,  -999.655,\n",
       "         -999.64 ,  -999.625,  -999.61 ,  -999.595,  -999.58 ,  -999.565,\n",
       "         -999.55 ,  -999.535,  -999.52 ,  -999.505,  -999.49 ,  -999.475,\n",
       "         -999.46 ,  -999.445,  -999.43 ,  -999.415,  -999.4  ,  -999.385,\n",
       "         -999.37 ,  -999.355,  -999.34 ,  -999.325,  -999.31 ,  -999.295,\n",
       "         -999.28 ,  -999.265,  -999.25 ,  -999.235,  -999.22 ,  -999.205,\n",
       "         -999.19 ,  -999.175,  -999.16 ,  -999.145,  -999.13 ,  -999.115,\n",
       "         -999.1  ,  -999.085,  -999.07 ,  -999.055,  -999.04 ,  -999.025,\n",
       "         -999.01 ,  -998.995,  -998.98 ,  -998.965,  -998.95 ,  -998.935,\n",
       "         -998.92 ,  -998.905,  -998.89 ,  -998.875,  -998.86 ,  -998.845,\n",
       "         -998.83 ,  -998.815,  -998.8  ,  -998.785,  -998.77 ,  -998.755,\n",
       "         -998.74 ,  -998.725,  -998.71 ,  -998.695,  -998.68 ,  -998.665,\n",
       "         -998.65 ,  -998.635,  -998.62 ,  -998.605,  -998.59 ,  -998.575,\n",
       "         -998.56 ,  -998.545,  -998.53 ,  -998.515,  -998.5  ],\n",
       "       dtype=float32),\n",
       " <BarContainer object of 100 artists>)"
      ]
     },
     "execution_count": 758,
     "metadata": {},
     "output_type": "execute_result"
    },
    {
     "data": {
      "image/png": "[encoded data removed]",
      "text/plain": [
       "<Figure size 432x288 with 1 Axes>"
      ]
     },
     "metadata": {
      "needs_background": "light"
     },
     "output_type": "display_data"
    }
   ],
   "source": [
    "interesting_variable = 'sv_e'\n",
    "#plt.hist(first_cpf_stuff[interesting_variable],bins=100)\n",
    "plt.hist(first_vtx_pts_stuff[interesting_variable],bins=100,range=(-1000,-998.5))"
   ]
  },
  {
   "cell_type": "code",
   "execution_count": 759,
   "metadata": {
    "scrolled": true
   },
   "outputs": [
    {
     "data": {
      "text/plain": [
       "(array([     0.,      0.,      0.,      0.,      0.,      0.,      0.,\n",
       "             0.,      0.,      0.,      0.,      0.,      0.,      0.,\n",
       "             0.,      0.,      0.,      0.,      0.,      0.,      0.,\n",
       "             0.,      0.,      0.,      0.,      0.,      0.,      0.,\n",
       "             0.,      0.,      0.,      0.,      0.,      0.,      0.,\n",
       "             0.,      0.,      0.,      0.,      0.,      0.,      0.,\n",
       "             0.,      0.,      0.,      0.,      0.,      0.,      0.,\n",
       "             0.,      0.,      0.,      0.,      0.,      0.,      0.,\n",
       "             0.,      0.,      0.,      0.,      0.,      0.,      0.,\n",
       "             0.,      0.,      0.,      0.,      0.,      0.,      0.,\n",
       "             0.,      0.,      0.,      0.,      0.,      0.,      0.,\n",
       "             0.,      0.,      0.,      0.,      0.,      0.,      0.,\n",
       "             0.,      0.,      0.,      0.,      0.,      0.,      0.,\n",
       "             0.,      0.,      0.,      0.,      0.,      0.,      0.,\n",
       "             0., 109359.]),\n",
       " array([-1.01  , -0.9999, -0.9898, -0.9797, -0.9696, -0.9595, -0.9494,\n",
       "        -0.9393, -0.9292, -0.9191, -0.909 , -0.8989, -0.8888, -0.8787,\n",
       "        -0.8686, -0.8585, -0.8484, -0.8383, -0.8282, -0.8181, -0.808 ,\n",
       "        -0.7979, -0.7878, -0.7777, -0.7676, -0.7575, -0.7474, -0.7373,\n",
       "        -0.7272, -0.7171, -0.707 , -0.6969, -0.6868, -0.6767, -0.6666,\n",
       "        -0.6565, -0.6464, -0.6363, -0.6262, -0.6161, -0.606 , -0.5959,\n",
       "        -0.5858, -0.5757, -0.5656, -0.5555, -0.5454, -0.5353, -0.5252,\n",
       "        -0.5151, -0.505 , -0.4949, -0.4848, -0.4747, -0.4646, -0.4545,\n",
       "        -0.4444, -0.4343, -0.4242, -0.4141, -0.404 , -0.3939, -0.3838,\n",
       "        -0.3737, -0.3636, -0.3535, -0.3434, -0.3333, -0.3232, -0.3131,\n",
       "        -0.303 , -0.2929, -0.2828, -0.2727, -0.2626, -0.2525, -0.2424,\n",
       "        -0.2323, -0.2222, -0.2121, -0.202 , -0.1919, -0.1818, -0.1717,\n",
       "        -0.1616, -0.1515, -0.1414, -0.1313, -0.1212, -0.1111, -0.101 ,\n",
       "        -0.0909, -0.0808, -0.0707, -0.0606, -0.0505, -0.0404, -0.0303,\n",
       "        -0.0202, -0.0101,  0.    ], dtype=float32),\n",
       " <BarContainer object of 100 artists>)"
      ]
     },
     "execution_count": 759,
     "metadata": {},
     "output_type": "execute_result"
    },
    {
     "data": {
      "image/png": "[encoded data removed]",
      "text/plain": [
       "<Figure size 432x288 with 1 Axes>"
      ]
     },
     "metadata": {
      "needs_background": "light"
     },
     "output_type": "display_data"
    }
   ],
   "source": [
    "plt.hist(first_vtx_pts_stuff[interesting_variable],bins=100,range=(-1.01,0))"
   ]
  },
  {
   "cell_type": "code",
   "execution_count": 760,
   "metadata": {
    "scrolled": true
   },
   "outputs": [
    {
     "data": {
      "text/plain": [
       "(array([     0.,      0.,      0.,      0.,      0.,      0.,      0.,\n",
       "             0.,      0.,      0.,      0.,      0.,      0.,      0.,\n",
       "             0.,      0.,      0.,      0.,      0.,      0.,      0.,\n",
       "             0.,      0.,      0.,      0.,      0.,      0.,      0.,\n",
       "             0.,      0.,      0.,      0.,      0.,      0.,      0.,\n",
       "             0.,      0.,      0.,      0.,      0.,      0.,      0.,\n",
       "             0.,      0.,      0.,      0.,      0.,      0.,      0.,\n",
       "             0.,      0.,      0.,      0.,      0.,      0.,      0.,\n",
       "             0.,      0.,      0.,      0.,      0.,      0.,      0.,\n",
       "             0.,      0.,      0.,      0.,      0.,      0.,      0.,\n",
       "             0.,      0.,      0.,      0.,      0.,      0.,      0.,\n",
       "             0.,      0.,      0.,      0.,      0.,      0.,      0.,\n",
       "             0.,      0.,      0.,      0.,      0.,      0.,      0.,\n",
       "             0.,      0.,      0.,      0.,      0.,      0.,      0.,\n",
       "             0., 109359.]),\n",
       " array([-0.4  , -0.396, -0.392, -0.388, -0.384, -0.38 , -0.376, -0.372,\n",
       "        -0.368, -0.364, -0.36 , -0.356, -0.352, -0.348, -0.344, -0.34 ,\n",
       "        -0.336, -0.332, -0.328, -0.324, -0.32 , -0.316, -0.312, -0.308,\n",
       "        -0.304, -0.3  , -0.296, -0.292, -0.288, -0.284, -0.28 , -0.276,\n",
       "        -0.272, -0.268, -0.264, -0.26 , -0.256, -0.252, -0.248, -0.244,\n",
       "        -0.24 , -0.236, -0.232, -0.228, -0.224, -0.22 , -0.216, -0.212,\n",
       "        -0.208, -0.204, -0.2  , -0.196, -0.192, -0.188, -0.184, -0.18 ,\n",
       "        -0.176, -0.172, -0.168, -0.164, -0.16 , -0.156, -0.152, -0.148,\n",
       "        -0.144, -0.14 , -0.136, -0.132, -0.128, -0.124, -0.12 , -0.116,\n",
       "        -0.112, -0.108, -0.104, -0.1  , -0.096, -0.092, -0.088, -0.084,\n",
       "        -0.08 , -0.076, -0.072, -0.068, -0.064, -0.06 , -0.056, -0.052,\n",
       "        -0.048, -0.044, -0.04 , -0.036, -0.032, -0.028, -0.024, -0.02 ,\n",
       "        -0.016, -0.012, -0.008, -0.004,  0.   ], dtype=float32),\n",
       " <BarContainer object of 100 artists>)"
      ]
     },
     "execution_count": 760,
     "metadata": {},
     "output_type": "execute_result"
    },
    {
     "data": {
      "image/png": "[encoded data removed]",
      "text/plain": [
       "<Figure size 432x288 with 1 Axes>"
      ]
     },
     "metadata": {
      "needs_background": "light"
     },
     "output_type": "display_data"
    }
   ],
   "source": [
    "plt.hist(first_vtx_pts_stuff[interesting_variable],bins=100,range=(-0.40,0))"
   ]
  },
  {
   "cell_type": "code",
   "execution_count": 761,
   "metadata": {
    "scrolled": true
   },
   "outputs": [
    {
     "data": {
      "text/plain": [
       "(array([0., 0., 0., 0., 0., 0., 0., 0., 0., 0., 0., 0., 0., 0., 0., 0., 0.,\n",
       "        0., 0., 0., 0., 0., 0., 0., 0., 0., 0., 0., 0., 0., 0., 0., 0., 0.,\n",
       "        0., 0., 0., 0., 0., 0., 0., 0., 0., 0., 0., 0., 0., 0., 0., 0., 0.,\n",
       "        0., 0., 0., 0., 0., 0., 0., 0., 0., 0., 0., 0., 0., 0., 0., 0., 0.,\n",
       "        0., 0., 0., 0., 0., 0., 0., 0., 0., 0., 0., 0., 0., 0., 0., 0., 0.,\n",
       "        0., 0., 0., 0., 0., 0., 0., 0., 0., 0., 0., 0., 0., 0., 0.]),\n",
       " array([-1.01  , -1.0098, -1.0096, -1.0094, -1.0092, -1.009 , -1.0088,\n",
       "        -1.0086, -1.0084, -1.0082, -1.008 , -1.0078, -1.0076, -1.0074,\n",
       "        -1.0072, -1.007 , -1.0068, -1.0066, -1.0064, -1.0062, -1.006 ,\n",
       "        -1.0058, -1.0056, -1.0054, -1.0052, -1.005 , -1.0048, -1.0046,\n",
       "        -1.0044, -1.0042, -1.004 , -1.0038, -1.0036, -1.0034, -1.0032,\n",
       "        -1.003 , -1.0028, -1.0026, -1.0024, -1.0022, -1.002 , -1.0018,\n",
       "        -1.0016, -1.0014, -1.0012, -1.001 , -1.0008, -1.0006, -1.0004,\n",
       "        -1.0002, -1.    , -0.9998, -0.9996, -0.9994, -0.9992, -0.999 ,\n",
       "        -0.9988, -0.9986, -0.9984, -0.9982, -0.998 , -0.9978, -0.9976,\n",
       "        -0.9974, -0.9972, -0.997 , -0.9968, -0.9966, -0.9964, -0.9962,\n",
       "        -0.996 , -0.9958, -0.9956, -0.9954, -0.9952, -0.995 , -0.9948,\n",
       "        -0.9946, -0.9944, -0.9942, -0.994 , -0.9938, -0.9936, -0.9934,\n",
       "        -0.9932, -0.993 , -0.9928, -0.9926, -0.9924, -0.9922, -0.992 ,\n",
       "        -0.9918, -0.9916, -0.9914, -0.9912, -0.991 , -0.9908, -0.9906,\n",
       "        -0.9904, -0.9902, -0.99  ], dtype=float32),\n",
       " <BarContainer object of 100 artists>)"
      ]
     },
     "execution_count": 761,
     "metadata": {},
     "output_type": "execute_result"
    },
    {
     "data": {
      "image/png": "[encoded data removed]",
      "text/plain": [
       "<Figure size 432x288 with 1 Axes>"
      ]
     },
     "metadata": {
      "needs_background": "light"
     },
     "output_type": "display_data"
    }
   ],
   "source": [
    "plt.hist(first_vtx_pts_stuff[interesting_variable],bins=100,range=(-1.01,-0.99))"
   ]
  },
  {
   "cell_type": "code",
   "execution_count": 762,
   "metadata": {
    "scrolled": true
   },
   "outputs": [
    {
     "data": {
      "text/plain": [
       "(array([     0.,      0.,      0.,      0.,      0.,      0.,      0.,\n",
       "             0.,      0.,      0.,      0.,      0.,      0.,      0.,\n",
       "             0.,      0.,      0.,      0.,      0.,      0.,      0.,\n",
       "             0.,      0.,      0.,      0.,      0.,      0.,      0.,\n",
       "             0.,      0.,      0.,      0.,      0.,      0.,      0.,\n",
       "             0.,      0.,      0.,      0.,      0.,      0.,      0.,\n",
       "             0.,      0.,      0.,      0.,      0.,      0.,      0.,\n",
       "             0., 218618.,      0.,      0.,      0.,      0.,      0.,\n",
       "             0.,      0.,      0.,      0.,      0.,      0.,      0.,\n",
       "             0.,      0.,      0.,      0.,      0.,      0.,      0.,\n",
       "             0.,      0.,      0.,      0.,      0.,      0.,      0.,\n",
       "             0.,      0.,      0.,      0.,      0.,      0.,      0.,\n",
       "             0.,      0.,      0.,      0.,      0.,      0.,      0.,\n",
       "             0.,      0.,      0.,      0.,      0.,      0.,      0.,\n",
       "             0.,      0.]),\n",
       " array([-0.01  , -0.0098, -0.0096, -0.0094, -0.0092, -0.009 , -0.0088,\n",
       "        -0.0086, -0.0084, -0.0082, -0.008 , -0.0078, -0.0076, -0.0074,\n",
       "        -0.0072, -0.007 , -0.0068, -0.0066, -0.0064, -0.0062, -0.006 ,\n",
       "        -0.0058, -0.0056, -0.0054, -0.0052, -0.005 , -0.0048, -0.0046,\n",
       "        -0.0044, -0.0042, -0.004 , -0.0038, -0.0036, -0.0034, -0.0032,\n",
       "        -0.003 , -0.0028, -0.0026, -0.0024, -0.0022, -0.002 , -0.0018,\n",
       "        -0.0016, -0.0014, -0.0012, -0.001 , -0.0008, -0.0006, -0.0004,\n",
       "        -0.0002,  0.    ,  0.0002,  0.0004,  0.0006,  0.0008,  0.001 ,\n",
       "         0.0012,  0.0014,  0.0016,  0.0018,  0.002 ,  0.0022,  0.0024,\n",
       "         0.0026,  0.0028,  0.003 ,  0.0032,  0.0034,  0.0036,  0.0038,\n",
       "         0.004 ,  0.0042,  0.0044,  0.0046,  0.0048,  0.005 ,  0.0052,\n",
       "         0.0054,  0.0056,  0.0058,  0.006 ,  0.0062,  0.0064,  0.0066,\n",
       "         0.0068,  0.007 ,  0.0072,  0.0074,  0.0076,  0.0078,  0.008 ,\n",
       "         0.0082,  0.0084,  0.0086,  0.0088,  0.009 ,  0.0092,  0.0094,\n",
       "         0.0096,  0.0098,  0.01  ], dtype=float32),\n",
       " <BarContainer object of 100 artists>)"
      ]
     },
     "execution_count": 762,
     "metadata": {},
     "output_type": "execute_result"
    },
    {
     "data": {
      "image/png": "[encoded data removed]",
      "text/plain": [
       "<Figure size 432x288 with 1 Axes>"
      ]
     },
     "metadata": {
      "needs_background": "light"
     },
     "output_type": "display_data"
    }
   ],
   "source": [
    "plt.hist(first_vtx_pts_stuff[interesting_variable],bins=100,range=(-0.01,0.01))"
   ]
  },
  {
   "cell_type": "code",
   "execution_count": 763,
   "metadata": {
    "scrolled": true
   },
   "outputs": [
    {
     "data": {
      "text/plain": [
       "(array([218618.,      0.,      0.,      0.,      0.,      0.,      0.,\n",
       "             0.,      0.,      0.,      0.,      0.,      0.,      0.,\n",
       "             0.,      0.,      0.,      0.,      0.,      0.,      0.,\n",
       "             0.,      0.,      0.,      0.,      0.,      0.,      0.,\n",
       "             0.,      0.,      0.,      0.,      0.,      0.,      0.,\n",
       "             0.,      0.,      0.,      0.,      0.,      0.,      0.,\n",
       "             0.,      0.,      0.,      0.,      0.,      0.,      0.,\n",
       "             0.,      0.,      0.,      0.,      0.,      0.,      0.,\n",
       "             0.,      0.,      0.,      0.,      0.,      0.,      0.,\n",
       "             0.,      0.,      0.,      0.,      0.,      0.,      0.,\n",
       "             0.,      0.,      0.,      0.,      0.,      0.,      0.,\n",
       "             0.,      0.,      0.,      0.,      0.,      0.,      0.,\n",
       "             0.,      0.,      0.,      0.,      0.,      0.,      0.,\n",
       "             0.,      0.,      0.,      0.,      0.,      0.,      0.,\n",
       "             0.,      0.]),\n",
       " array([0.  , 0.01, 0.02, 0.03, 0.04, 0.05, 0.06, 0.07, 0.08, 0.09, 0.1 ,\n",
       "        0.11, 0.12, 0.13, 0.14, 0.15, 0.16, 0.17, 0.18, 0.19, 0.2 , 0.21,\n",
       "        0.22, 0.23, 0.24, 0.25, 0.26, 0.27, 0.28, 0.29, 0.3 , 0.31, 0.32,\n",
       "        0.33, 0.34, 0.35, 0.36, 0.37, 0.38, 0.39, 0.4 , 0.41, 0.42, 0.43,\n",
       "        0.44, 0.45, 0.46, 0.47, 0.48, 0.49, 0.5 , 0.51, 0.52, 0.53, 0.54,\n",
       "        0.55, 0.56, 0.57, 0.58, 0.59, 0.6 , 0.61, 0.62, 0.63, 0.64, 0.65,\n",
       "        0.66, 0.67, 0.68, 0.69, 0.7 , 0.71, 0.72, 0.73, 0.74, 0.75, 0.76,\n",
       "        0.77, 0.78, 0.79, 0.8 , 0.81, 0.82, 0.83, 0.84, 0.85, 0.86, 0.87,\n",
       "        0.88, 0.89, 0.9 , 0.91, 0.92, 0.93, 0.94, 0.95, 0.96, 0.97, 0.98,\n",
       "        0.99, 1.  ], dtype=float32),\n",
       " <BarContainer object of 100 artists>)"
      ]
     },
     "execution_count": 763,
     "metadata": {},
     "output_type": "execute_result"
    },
    {
     "data": {
      "image/png": "[encoded data removed]",
      "text/plain": [
       "<Figure size 432x288 with 1 Axes>"
      ]
     },
     "metadata": {
      "needs_background": "light"
     },
     "output_type": "display_data"
    }
   ],
   "source": [
    "plt.hist(first_vtx_pts_stuff[interesting_variable],bins=100,range=(0,1))"
   ]
  },
  {
   "cell_type": "code",
   "execution_count": 764,
   "metadata": {
    "scrolled": true
   },
   "outputs": [
    {
     "data": {
      "text/plain": [
       "(array([0., 0., 0., 0., 0., 0., 0., 0., 0., 0., 0., 0., 0., 0., 0., 0., 0.,\n",
       "        0., 0., 0., 0., 0., 0., 0., 0., 0., 0., 0., 0., 0., 0., 0., 0., 0.,\n",
       "        0., 0., 0., 0., 0., 0., 0., 0., 0., 0., 0., 0., 0., 0., 0., 0., 0.,\n",
       "        0., 0., 0., 0., 0., 0., 0., 0., 0., 0., 0., 0., 0., 0., 0., 0., 0.,\n",
       "        0., 0., 0., 0., 0., 0., 0., 0., 0., 0., 0., 0., 0., 0., 0., 0., 0.,\n",
       "        0., 0., 0., 0., 0., 0., 0., 0., 0., 0., 0., 0., 0., 0., 0.]),\n",
       " array([0.95 , 0.951, 0.952, 0.953, 0.954, 0.955, 0.956, 0.957, 0.958,\n",
       "        0.959, 0.96 , 0.961, 0.962, 0.963, 0.964, 0.965, 0.966, 0.967,\n",
       "        0.968, 0.969, 0.97 , 0.971, 0.972, 0.973, 0.974, 0.975, 0.976,\n",
       "        0.977, 0.978, 0.979, 0.98 , 0.981, 0.982, 0.983, 0.984, 0.985,\n",
       "        0.986, 0.987, 0.988, 0.989, 0.99 , 0.991, 0.992, 0.993, 0.994,\n",
       "        0.995, 0.996, 0.997, 0.998, 0.999, 1.   , 1.001, 1.002, 1.003,\n",
       "        1.004, 1.005, 1.006, 1.007, 1.008, 1.009, 1.01 , 1.011, 1.012,\n",
       "        1.013, 1.014, 1.015, 1.016, 1.017, 1.018, 1.019, 1.02 , 1.021,\n",
       "        1.022, 1.023, 1.024, 1.025, 1.026, 1.027, 1.028, 1.029, 1.03 ,\n",
       "        1.031, 1.032, 1.033, 1.034, 1.035, 1.036, 1.037, 1.038, 1.039,\n",
       "        1.04 , 1.041, 1.042, 1.043, 1.044, 1.045, 1.046, 1.047, 1.048,\n",
       "        1.049, 1.05 ], dtype=float32),\n",
       " <BarContainer object of 100 artists>)"
      ]
     },
     "execution_count": 764,
     "metadata": {},
     "output_type": "execute_result"
    },
    {
     "data": {
      "image/png": "[encoded data removed]",
      "text/plain": [
       "<Figure size 432x288 with 1 Axes>"
      ]
     },
     "metadata": {
      "needs_background": "light"
     },
     "output_type": "display_data"
    }
   ],
   "source": [
    "plt.hist(first_vtx_pts_stuff[interesting_variable],bins=100,range=(0.95,1.05))"
   ]
  },
  {
   "cell_type": "code",
   "execution_count": 765,
   "metadata": {
    "scrolled": true
   },
   "outputs": [
    {
     "data": {
      "text/plain": [
       "(array([2.18618e+05, 0.00000e+00, 0.00000e+00, 0.00000e+00, 0.00000e+00,\n",
       "        0.00000e+00, 0.00000e+00, 0.00000e+00, 0.00000e+00, 0.00000e+00,\n",
       "        0.00000e+00, 0.00000e+00, 0.00000e+00, 0.00000e+00, 0.00000e+00,\n",
       "        0.00000e+00, 0.00000e+00, 0.00000e+00, 0.00000e+00, 0.00000e+00,\n",
       "        0.00000e+00, 0.00000e+00, 1.00000e+00, 1.00000e+00, 0.00000e+00,\n",
       "        1.00000e+00, 1.00000e+00, 4.00000e+00, 3.00000e+00, 3.00000e+00,\n",
       "        8.00000e+00, 2.00000e+00, 6.00000e+00, 1.40000e+01, 2.00000e+01,\n",
       "        2.30000e+01, 2.50000e+01, 2.90000e+01, 3.40000e+01, 3.80000e+01,\n",
       "        5.30000e+01, 6.10000e+01, 7.10000e+01, 8.20000e+01, 8.20000e+01,\n",
       "        9.70000e+01, 1.07000e+02, 1.13000e+02, 1.08000e+02, 1.10000e+02,\n",
       "        1.11000e+02, 1.35000e+02, 1.28000e+02, 1.46000e+02, 1.25000e+02,\n",
       "        1.44000e+02, 1.25000e+02, 1.40000e+02, 1.39000e+02, 1.47000e+02,\n",
       "        1.49000e+02, 1.64000e+02, 1.45000e+02, 1.90000e+02, 1.68000e+02,\n",
       "        1.71000e+02, 1.77000e+02, 2.04000e+02, 1.74000e+02, 1.87000e+02,\n",
       "        1.89000e+02, 1.61000e+02, 1.82000e+02, 2.04000e+02, 2.03000e+02,\n",
       "        2.06000e+02, 1.86000e+02, 2.21000e+02, 2.05000e+02, 2.08000e+02,\n",
       "        2.14000e+02, 2.50000e+02, 1.97000e+02, 1.76000e+02, 1.96000e+02,\n",
       "        2.01000e+02, 2.04000e+02, 2.21000e+02, 2.35000e+02, 2.12000e+02,\n",
       "        2.05000e+02, 2.60000e+02, 2.18000e+02, 2.15000e+02, 2.19000e+02,\n",
       "        2.12000e+02, 2.15000e+02, 2.17000e+02, 2.28000e+02, 2.04000e+02]),\n",
       " array([0.  , 0.05, 0.1 , 0.15, 0.2 , 0.25, 0.3 , 0.35, 0.4 , 0.45, 0.5 ,\n",
       "        0.55, 0.6 , 0.65, 0.7 , 0.75, 0.8 , 0.85, 0.9 , 0.95, 1.  , 1.05,\n",
       "        1.1 , 1.15, 1.2 , 1.25, 1.3 , 1.35, 1.4 , 1.45, 1.5 , 1.55, 1.6 ,\n",
       "        1.65, 1.7 , 1.75, 1.8 , 1.85, 1.9 , 1.95, 2.  , 2.05, 2.1 , 2.15,\n",
       "        2.2 , 2.25, 2.3 , 2.35, 2.4 , 2.45, 2.5 , 2.55, 2.6 , 2.65, 2.7 ,\n",
       "        2.75, 2.8 , 2.85, 2.9 , 2.95, 3.  , 3.05, 3.1 , 3.15, 3.2 , 3.25,\n",
       "        3.3 , 3.35, 3.4 , 3.45, 3.5 , 3.55, 3.6 , 3.65, 3.7 , 3.75, 3.8 ,\n",
       "        3.85, 3.9 , 3.95, 4.  , 4.05, 4.1 , 4.15, 4.2 , 4.25, 4.3 , 4.35,\n",
       "        4.4 , 4.45, 4.5 , 4.55, 4.6 , 4.65, 4.7 , 4.75, 4.8 , 4.85, 4.9 ,\n",
       "        4.95, 5.  ], dtype=float32),\n",
       " <BarContainer object of 100 artists>)"
      ]
     },
     "execution_count": 765,
     "metadata": {},
     "output_type": "execute_result"
    },
    {
     "data": {
      "image/png": "[encoded data removed]",
      "text/plain": [
       "<Figure size 432x288 with 1 Axes>"
      ]
     },
     "metadata": {
      "needs_background": "light"
     },
     "output_type": "display_data"
    }
   ],
   "source": [
    "plt.hist(first_vtx_pts_stuff[interesting_variable],bins=100,range=(0,5))"
   ]
  },
  {
   "cell_type": "code",
   "execution_count": 768,
   "metadata": {
    "scrolled": true
   },
   "outputs": [
    {
     "data": {
      "text/plain": [
       "(array([  14.,  183.,  838., 1278., 1666., 1904., 2038., 2175., 2076.,\n",
       "        2099., 2080., 2215., 2199., 2138., 2086., 2101., 2030., 2002.,\n",
       "        2022., 1945., 1890., 1869., 1900., 1796., 1843., 1776., 1728.,\n",
       "        1680., 1696., 1593., 1596., 1561., 1566., 1565., 1522., 1450.,\n",
       "        1401., 1383., 1383., 1308., 1265., 1257., 1278., 1291., 1256.,\n",
       "        1173., 1180., 1201., 1090., 1111., 1087., 1132., 1072.,  993.,\n",
       "        1014., 1001.,  947.,  945.,  985.,  935.,  924.,  990.,  908.,\n",
       "         853.,  832.,  878.,  808.,  762.,  849.,  744.,  752.,  790.,\n",
       "         732.,  720.,  701.,  737.,  707.,  705.,  688.,  631.,  671.,\n",
       "         620.,  630.,  636.,  624.,  620.,  622.,  558.,  582.,  582.,\n",
       "         568.,  561.,  544.,  516.,  545.,  516.,  532.,  514.,  506.,\n",
       "         512.]),\n",
       " array([ 1.  ,  1.49,  1.98,  2.47,  2.96,  3.45,  3.94,  4.43,  4.92,\n",
       "         5.41,  5.9 ,  6.39,  6.88,  7.37,  7.86,  8.35,  8.84,  9.33,\n",
       "         9.82, 10.31, 10.8 , 11.29, 11.78, 12.27, 12.76, 13.25, 13.74,\n",
       "        14.23, 14.72, 15.21, 15.7 , 16.19, 16.68, 17.17, 17.66, 18.15,\n",
       "        18.64, 19.13, 19.62, 20.11, 20.6 , 21.09, 21.58, 22.07, 22.56,\n",
       "        23.05, 23.54, 24.03, 24.52, 25.01, 25.5 , 25.99, 26.48, 26.97,\n",
       "        27.46, 27.95, 28.44, 28.93, 29.42, 29.91, 30.4 , 30.89, 31.38,\n",
       "        31.87, 32.36, 32.85, 33.34, 33.83, 34.32, 34.81, 35.3 , 35.79,\n",
       "        36.28, 36.77, 37.26, 37.75, 38.24, 38.73, 39.22, 39.71, 40.2 ,\n",
       "        40.69, 41.18, 41.67, 42.16, 42.65, 43.14, 43.63, 44.12, 44.61,\n",
       "        45.1 , 45.59, 46.08, 46.57, 47.06, 47.55, 48.04, 48.53, 49.02,\n",
       "        49.51, 50.  ], dtype=float32),\n",
       " <BarContainer object of 100 artists>)"
      ]
     },
     "execution_count": 768,
     "metadata": {},
     "output_type": "execute_result"
    },
    {
     "data": {
      "image/png": "[encoded data removed]",
      "text/plain": [
       "<Figure size 432x288 with 1 Axes>"
      ]
     },
     "metadata": {
      "needs_background": "light"
     },
     "output_type": "display_data"
    }
   ],
   "source": [
    "plt.hist(first_vtx_pts_stuff[interesting_variable],bins=100,range=(1,50))"
   ]
  },
  {
   "cell_type": "code",
   "execution_count": 766,
   "metadata": {
    "scrolled": true
   },
   "outputs": [
    {
     "data": {
      "text/plain": [
       "(array([0.00000e+00, 0.00000e+00, 0.00000e+00, 0.00000e+00, 0.00000e+00,\n",
       "        0.00000e+00, 0.00000e+00, 0.00000e+00, 0.00000e+00, 0.00000e+00,\n",
       "        0.00000e+00, 0.00000e+00, 0.00000e+00, 0.00000e+00, 0.00000e+00,\n",
       "        0.00000e+00, 0.00000e+00, 0.00000e+00, 0.00000e+00, 0.00000e+00,\n",
       "        0.00000e+00, 0.00000e+00, 0.00000e+00, 0.00000e+00, 0.00000e+00,\n",
       "        0.00000e+00, 0.00000e+00, 0.00000e+00, 0.00000e+00, 0.00000e+00,\n",
       "        0.00000e+00, 0.00000e+00, 0.00000e+00, 0.00000e+00, 0.00000e+00,\n",
       "        0.00000e+00, 0.00000e+00, 0.00000e+00, 0.00000e+00, 0.00000e+00,\n",
       "        0.00000e+00, 0.00000e+00, 0.00000e+00, 0.00000e+00, 0.00000e+00,\n",
       "        0.00000e+00, 0.00000e+00, 0.00000e+00, 0.00000e+00, 0.00000e+00,\n",
       "        2.18618e+05, 0.00000e+00, 0.00000e+00, 0.00000e+00, 0.00000e+00,\n",
       "        0.00000e+00, 0.00000e+00, 0.00000e+00, 0.00000e+00, 2.00000e+00,\n",
       "        1.00000e+00, 7.00000e+00, 1.20000e+01, 1.90000e+01, 4.60000e+01,\n",
       "        6.30000e+01, 1.07000e+02, 1.51000e+02, 2.08000e+02, 2.63000e+02,\n",
       "        2.75000e+02, 2.90000e+02, 3.21000e+02, 3.30000e+02, 3.42000e+02,\n",
       "        3.71000e+02, 4.11000e+02, 4.20000e+02, 4.55000e+02, 4.22000e+02,\n",
       "        4.67000e+02, 4.76000e+02, 4.97000e+02, 5.30000e+02, 4.82000e+02,\n",
       "        4.70000e+02, 5.35000e+02, 5.17000e+02, 5.50000e+02, 5.26000e+02,\n",
       "        5.30000e+02, 5.15000e+02, 5.18000e+02, 4.80000e+02, 5.26000e+02,\n",
       "        5.22000e+02, 5.06000e+02, 5.16000e+02, 5.08000e+02, 5.25000e+02]),\n",
       " array([-6.  , -5.88, -5.76, -5.64, -5.52, -5.4 , -5.28, -5.16, -5.04,\n",
       "        -4.92, -4.8 , -4.68, -4.56, -4.44, -4.32, -4.2 , -4.08, -3.96,\n",
       "        -3.84, -3.72, -3.6 , -3.48, -3.36, -3.24, -3.12, -3.  , -2.88,\n",
       "        -2.76, -2.64, -2.52, -2.4 , -2.28, -2.16, -2.04, -1.92, -1.8 ,\n",
       "        -1.68, -1.56, -1.44, -1.32, -1.2 , -1.08, -0.96, -0.84, -0.72,\n",
       "        -0.6 , -0.48, -0.36, -0.24, -0.12,  0.  ,  0.12,  0.24,  0.36,\n",
       "         0.48,  0.6 ,  0.72,  0.84,  0.96,  1.08,  1.2 ,  1.32,  1.44,\n",
       "         1.56,  1.68,  1.8 ,  1.92,  2.04,  2.16,  2.28,  2.4 ,  2.52,\n",
       "         2.64,  2.76,  2.88,  3.  ,  3.12,  3.24,  3.36,  3.48,  3.6 ,\n",
       "         3.72,  3.84,  3.96,  4.08,  4.2 ,  4.32,  4.44,  4.56,  4.68,\n",
       "         4.8 ,  4.92,  5.04,  5.16,  5.28,  5.4 ,  5.52,  5.64,  5.76,\n",
       "         5.88,  6.  ], dtype=float32),\n",
       " <BarContainer object of 100 artists>)"
      ]
     },
     "execution_count": 766,
     "metadata": {},
     "output_type": "execute_result"
    },
    {
     "data": {
      "image/png": "[encoded data removed]",
      "text/plain": [
       "<Figure size 432x288 with 1 Axes>"
      ]
     },
     "metadata": {
      "needs_background": "light"
     },
     "output_type": "display_data"
    }
   ],
   "source": [
    "plt.hist(first_vtx_pts_stuff[interesting_variable],bins=100,range=(-6,6))"
   ]
  },
  {
   "cell_type": "code",
   "execution_count": 767,
   "metadata": {
    "scrolled": true
   },
   "outputs": [
    {
     "data": {
      "text/plain": [
       "(array([3.99998e+05, 0.00000e+00, 0.00000e+00, 0.00000e+00, 0.00000e+00,\n",
       "        0.00000e+00, 0.00000e+00, 0.00000e+00, 0.00000e+00, 0.00000e+00,\n",
       "        0.00000e+00, 0.00000e+00, 0.00000e+00, 0.00000e+00, 0.00000e+00,\n",
       "        0.00000e+00, 0.00000e+00, 0.00000e+00, 0.00000e+00, 0.00000e+00,\n",
       "        0.00000e+00, 0.00000e+00, 0.00000e+00, 0.00000e+00, 0.00000e+00,\n",
       "        0.00000e+00, 0.00000e+00, 0.00000e+00, 0.00000e+00, 0.00000e+00,\n",
       "        0.00000e+00, 0.00000e+00, 0.00000e+00, 0.00000e+00, 0.00000e+00,\n",
       "        0.00000e+00, 0.00000e+00, 0.00000e+00, 0.00000e+00, 0.00000e+00,\n",
       "        0.00000e+00, 0.00000e+00, 0.00000e+00, 0.00000e+00, 0.00000e+00,\n",
       "        0.00000e+00, 0.00000e+00, 0.00000e+00, 0.00000e+00, 0.00000e+00,\n",
       "        0.00000e+00, 0.00000e+00, 0.00000e+00, 0.00000e+00, 0.00000e+00,\n",
       "        0.00000e+00, 0.00000e+00, 0.00000e+00, 0.00000e+00, 0.00000e+00,\n",
       "        0.00000e+00, 0.00000e+00, 0.00000e+00, 0.00000e+00, 0.00000e+00,\n",
       "        0.00000e+00, 0.00000e+00, 0.00000e+00, 0.00000e+00, 0.00000e+00,\n",
       "        0.00000e+00, 0.00000e+00, 0.00000e+00, 0.00000e+00, 0.00000e+00,\n",
       "        0.00000e+00, 0.00000e+00, 0.00000e+00, 0.00000e+00, 0.00000e+00,\n",
       "        0.00000e+00, 0.00000e+00, 0.00000e+00, 0.00000e+00, 0.00000e+00,\n",
       "        0.00000e+00, 0.00000e+00, 0.00000e+00, 0.00000e+00, 0.00000e+00,\n",
       "        0.00000e+00, 0.00000e+00, 0.00000e+00, 0.00000e+00, 0.00000e+00,\n",
       "        0.00000e+00, 0.00000e+00, 0.00000e+00, 0.00000e+00, 2.00000e+00]),\n",
       " array([0.00000000e+00, 1.30222625e+21, 2.60445249e+21, 3.90667874e+21,\n",
       "        5.20890499e+21, 6.51113152e+21, 7.81335748e+21, 9.11558401e+21,\n",
       "        1.04178100e+22, 1.17200371e+22, 1.30222630e+22, 1.43244890e+22,\n",
       "        1.56267150e+22, 1.69289421e+22, 1.82311680e+22, 1.95333951e+22,\n",
       "        2.08356199e+22, 2.21378470e+22, 2.34400741e+22, 2.47422990e+22,\n",
       "        2.60445261e+22, 2.73467509e+22, 2.86489780e+22, 2.99512051e+22,\n",
       "        3.12534299e+22, 3.25556570e+22, 3.38578841e+22, 3.51601089e+22,\n",
       "        3.64623360e+22, 3.77645631e+22, 3.90667902e+22, 4.03690151e+22,\n",
       "        4.16712399e+22, 4.29734692e+22, 4.42756941e+22, 4.55779189e+22,\n",
       "        4.68801483e+22, 4.81823731e+22, 4.94845979e+22, 5.07868228e+22,\n",
       "        5.20890521e+22, 5.33912770e+22, 5.46935018e+22, 5.59957311e+22,\n",
       "        5.72979560e+22, 5.86001808e+22, 5.99024102e+22, 6.12046350e+22,\n",
       "        6.25068598e+22, 6.38090892e+22, 6.51113140e+22, 6.64135389e+22,\n",
       "        6.77157682e+22, 6.90179931e+22, 7.03202179e+22, 7.16224472e+22,\n",
       "        7.29246721e+22, 7.42268969e+22, 7.55291263e+22, 7.68313466e+22,\n",
       "        7.81335804e+22, 7.94358053e+22, 8.07380301e+22, 8.20402550e+22,\n",
       "        8.33424798e+22, 8.46447046e+22, 8.59469385e+22, 8.72491633e+22,\n",
       "        8.85513882e+22, 8.98536130e+22, 9.11558378e+22, 9.24580627e+22,\n",
       "        9.37602965e+22, 9.50625214e+22, 9.63647462e+22, 9.76669710e+22,\n",
       "        9.89691959e+22, 1.00271421e+23, 1.01573646e+23, 1.02875879e+23,\n",
       "        1.04178104e+23, 1.05480329e+23, 1.06782554e+23, 1.08084779e+23,\n",
       "        1.09387004e+23, 1.10689237e+23, 1.11991462e+23, 1.13293687e+23,\n",
       "        1.14595912e+23, 1.15898137e+23, 1.17200362e+23, 1.18502595e+23,\n",
       "        1.19804820e+23, 1.21107045e+23, 1.22409270e+23, 1.23711495e+23,\n",
       "        1.25013720e+23, 1.26315954e+23, 1.27618178e+23, 1.28920403e+23,\n",
       "        1.30222628e+23], dtype=float32),\n",
       " <BarContainer object of 100 artists>)"
      ]
     },
     "execution_count": 767,
     "metadata": {},
     "output_type": "execute_result"
    },
    {
     "data": {
      "image/png": "[encoded data removed]",
      "text/plain": [
       "<Figure size 432x288 with 1 Axes>"
      ]
     },
     "metadata": {
      "needs_background": "light"
     },
     "output_type": "display_data"
    }
   ],
   "source": [
    "plt.hist(first_vtx_pts_stuff[interesting_variable],bins=100)"
   ]
  },
  {
   "cell_type": "code",
   "execution_count": 725,
   "metadata": {},
   "outputs": [],
   "source": [
    "first_npf_stuff = ak.to_numpy(df_npf_clip[:,0])"
   ]
  },
  {
   "cell_type": "code",
   "execution_count": 206,
   "metadata": {},
   "outputs": [
    {
     "data": {
      "text/plain": [
       "<Record ... 0.953, 0.996, 0.992, 0.996, None]} type='{\"Npfcan_ptrel\": 5 * ?float...'>"
      ]
     },
     "execution_count": 206,
     "metadata": {},
     "output_type": "execute_result"
    }
   ],
   "source": [
    "df_npf_clip[1,:5]"
   ]
  },
  {
   "cell_type": "code",
   "execution_count": 170,
   "metadata": {},
   "outputs": [
    {
     "data": {
      "text/plain": [
       "array([(-0.9180856 , -0.3130759 , -0.39300492, -0.38461998, 0., 1.,  0.        , 0.99607843),\n",
       "       (-0.7539155 , -0.4410702 , -0.32055998, -0.4111312 , 0., 1.,  0.        , 0.9529412 ),\n",
       "       (-0.7913799 , -0.4007398 , -0.38974875, -0.4516493 , 0., 1., -0.09914047, 0.9843137 ),\n",
       "       ...,\n",
       "       (-0.79689664, -0.37042856, -0.4256908 , -0.45063263, 1., 0.,  0.        , 0.9647059 ),\n",
       "       (-0.45435286, -0.4963578 , -0.4721288 , -0.57189184, 1., 0.,  0.        , 0.99607843),\n",
       "       (-0.9347186 , -0.49552798, -0.2895552 , -0.3895077 , 1., 0.,  0.        , 0.96862745)],\n",
       "      dtype=[('Npfcan_ptrel', '<f4'), ('Npfcan_etarel', '<f4'), ('Npfcan_phirel', '<f4'), ('Npfcan_deltaR', '<f4'), ('Npfcan_isGamma', '<f4'), ('Npfcan_HadFrac', '<f4'), ('Npfcan_drminsv', '<f4'), ('Npfcan_puppiw', '<f4')])"
      ]
     },
     "execution_count": 170,
     "metadata": {},
     "output_type": "execute_result"
    }
   ],
   "source": [
    "first_npf_stuff"
   ]
  },
  {
   "cell_type": "code",
   "execution_count": 291,
   "metadata": {
    "scrolled": true
   },
   "outputs": [
    {
     "data": {
      "text/plain": [
       "(array([0., 0., 0., 0., 0., 0., 0., 0., 0., 0., 0., 0., 0., 0., 0., 0., 0.,\n",
       "        0., 0., 0., 0., 0., 0., 0., 0., 0., 0., 0., 0., 0., 0., 0., 0., 0.,\n",
       "        0., 0., 0., 0., 0., 0., 0., 0., 0., 0., 0., 0., 0., 0., 0., 0., 0.,\n",
       "        0., 0., 0., 0., 0., 0., 0., 0., 0., 0., 0., 0., 0., 0., 0., 0., 0.,\n",
       "        0., 0., 0., 0., 0., 0., 0., 0., 0., 0., 0., 0., 0., 0., 0., 0., 0.,\n",
       "        0., 0., 0., 0., 0., 0., 0., 0., 0., 0., 0., 0., 0., 0., 0.]),\n",
       " array([-1000.  ,  -999.98,  -999.96,  -999.94,  -999.92,  -999.9 ,\n",
       "         -999.88,  -999.86,  -999.84,  -999.82,  -999.8 ,  -999.78,\n",
       "         -999.76,  -999.74,  -999.72,  -999.7 ,  -999.68,  -999.66,\n",
       "         -999.64,  -999.62,  -999.6 ,  -999.58,  -999.56,  -999.54,\n",
       "         -999.52,  -999.5 ,  -999.48,  -999.46,  -999.44,  -999.42,\n",
       "         -999.4 ,  -999.38,  -999.36,  -999.34,  -999.32,  -999.3 ,\n",
       "         -999.28,  -999.26,  -999.24,  -999.22,  -999.2 ,  -999.18,\n",
       "         -999.16,  -999.14,  -999.12,  -999.1 ,  -999.08,  -999.06,\n",
       "         -999.04,  -999.02,  -999.  ,  -998.98,  -998.96,  -998.94,\n",
       "         -998.92,  -998.9 ,  -998.88,  -998.86,  -998.84,  -998.82,\n",
       "         -998.8 ,  -998.78,  -998.76,  -998.74,  -998.72,  -998.7 ,\n",
       "         -998.68,  -998.66,  -998.64,  -998.62,  -998.6 ,  -998.58,\n",
       "         -998.56,  -998.54,  -998.52,  -998.5 ,  -998.48,  -998.46,\n",
       "         -998.44,  -998.42,  -998.4 ,  -998.38,  -998.36,  -998.34,\n",
       "         -998.32,  -998.3 ,  -998.28,  -998.26,  -998.24,  -998.22,\n",
       "         -998.2 ,  -998.18,  -998.16,  -998.14,  -998.12,  -998.1 ,\n",
       "         -998.08,  -998.06,  -998.04,  -998.02,  -998.  ], dtype=float32),\n",
       " <BarContainer object of 100 artists>)"
      ]
     },
     "execution_count": 291,
     "metadata": {},
     "output_type": "execute_result"
    },
    {
     "data": {
      "image/png": "[encoded data removed]",
      "text/plain": [
       "<Figure size 432x288 with 1 Axes>"
      ]
     },
     "metadata": {
      "needs_background": "light"
     },
     "output_type": "display_data"
    }
   ],
   "source": [
    "interesting_variable = 'Npfcan_drminsv'\n",
    "#plt.hist(first_cpf_stuff[interesting_variable],bins=100)\n",
    "plt.hist(first_npf_stuff[interesting_variable],bins=100,range=(-1000,-998))"
   ]
  },
  {
   "cell_type": "code",
   "execution_count": 292,
   "metadata": {
    "scrolled": true
   },
   "outputs": [
    {
     "data": {
      "text/plain": [
       "(array([     0.,      0.,      0.,      0.,      0.,      0.,      0.,\n",
       "             0.,      0.,      0.,      0.,      0.,      0.,      0.,\n",
       "             0.,      0.,      0.,      0.,      0.,      0.,      0.,\n",
       "             0.,      0.,      0.,      0.,      0.,      0.,      0.,\n",
       "             0.,      0.,      0.,      0.,      0.,      0.,      0.,\n",
       "             0.,      0.,      0.,      0.,      0.,      0.,      0.,\n",
       "             0.,      0.,      0.,      0.,      0.,      0.,      0.,\n",
       "             0.,      0.,      0.,      0.,      0.,      0.,      0.,\n",
       "             0.,      0.,      0.,      0.,  16578.,  29378.,  21119.,\n",
       "         16234.,  12706.,  10752.,   8717.,   7376.,   6287.,   5198.,\n",
       "          4648.,   4066.,   3429.,   3009.,   2787.,   2433.,   2259.,\n",
       "          2018.,   1837.,   1693.,   1606.,   1423.,   1432.,   1317.,\n",
       "          1235.,   1233.,   1147.,   1035.,   1002.,   1015.,    964.,\n",
       "           895.,    957.,    984.,    944.,    993.,    963.,   1027.,\n",
       "          1091., 209740.]),\n",
       " array([-1.01  , -0.9999, -0.9898, -0.9797, -0.9696, -0.9595, -0.9494,\n",
       "        -0.9393, -0.9292, -0.9191, -0.909 , -0.8989, -0.8888, -0.8787,\n",
       "        -0.8686, -0.8585, -0.8484, -0.8383, -0.8282, -0.8181, -0.808 ,\n",
       "        -0.7979, -0.7878, -0.7777, -0.7676, -0.7575, -0.7474, -0.7373,\n",
       "        -0.7272, -0.7171, -0.707 , -0.6969, -0.6868, -0.6767, -0.6666,\n",
       "        -0.6565, -0.6464, -0.6363, -0.6262, -0.6161, -0.606 , -0.5959,\n",
       "        -0.5858, -0.5757, -0.5656, -0.5555, -0.5454, -0.5353, -0.5252,\n",
       "        -0.5151, -0.505 , -0.4949, -0.4848, -0.4747, -0.4646, -0.4545,\n",
       "        -0.4444, -0.4343, -0.4242, -0.4141, -0.404 , -0.3939, -0.3838,\n",
       "        -0.3737, -0.3636, -0.3535, -0.3434, -0.3333, -0.3232, -0.3131,\n",
       "        -0.303 , -0.2929, -0.2828, -0.2727, -0.2626, -0.2525, -0.2424,\n",
       "        -0.2323, -0.2222, -0.2121, -0.202 , -0.1919, -0.1818, -0.1717,\n",
       "        -0.1616, -0.1515, -0.1414, -0.1313, -0.1212, -0.1111, -0.101 ,\n",
       "        -0.0909, -0.0808, -0.0707, -0.0606, -0.0505, -0.0404, -0.0303,\n",
       "        -0.0202, -0.0101,  0.    ], dtype=float32),\n",
       " <BarContainer object of 100 artists>)"
      ]
     },
     "execution_count": 292,
     "metadata": {},
     "output_type": "execute_result"
    },
    {
     "data": {
      "image/png": "[encoded data removed]",
      "text/plain": [
       "<Figure size 432x288 with 1 Axes>"
      ]
     },
     "metadata": {
      "needs_background": "light"
     },
     "output_type": "display_data"
    }
   ],
   "source": [
    "plt.hist(first_npf_stuff[interesting_variable],bins=100,range=(-1.01,0))"
   ]
  },
  {
   "cell_type": "code",
   "execution_count": 293,
   "metadata": {
    "scrolled": true
   },
   "outputs": [
    {
     "data": {
      "text/plain": [
       "(array([  9156.,  13775.,  12059.,  10464.,   9146.,   8180.,   7421.,\n",
       "          6620.,   5925.,   5493.,   4871.,   4649.,   4370.,   4046.,\n",
       "          3755.,   3337.,   3285.,   2941.,   2825.,   2661.,   2395.,\n",
       "          2386.,   2130.,   1975.,   1926.,   1807.,   1798.,   1649.,\n",
       "          1572.,   1428.,   1338.,   1307.,   1248.,   1189.,   1137.,\n",
       "          1100.,   1052.,    982.,    933.,    948.,    907.,    862.,\n",
       "           841.,    757.,    759.,    724.,    715.,    691.,    646.,\n",
       "           659.,    606.,    664.,    566.,    572.,    568.,    573.,\n",
       "           557.,    561.,    507.,    486.,    507.,    472.,    471.,\n",
       "           487.,    491.,    454.,    451.,    426.,    418.,    401.,\n",
       "           387.,    408.,    407.,    406.,    381.,    385.,    380.,\n",
       "           361.,    362.,    343.,    380.,    378.,    422.,    360.,\n",
       "           382.,    372.,    370.,    391.,    421.,    373.,    380.,\n",
       "           391.,    389.,    425.,    385.,    414.,    463.,    412.,\n",
       "           433., 209088.]),\n",
       " array([-0.4  , -0.396, -0.392, -0.388, -0.384, -0.38 , -0.376, -0.372,\n",
       "        -0.368, -0.364, -0.36 , -0.356, -0.352, -0.348, -0.344, -0.34 ,\n",
       "        -0.336, -0.332, -0.328, -0.324, -0.32 , -0.316, -0.312, -0.308,\n",
       "        -0.304, -0.3  , -0.296, -0.292, -0.288, -0.284, -0.28 , -0.276,\n",
       "        -0.272, -0.268, -0.264, -0.26 , -0.256, -0.252, -0.248, -0.244,\n",
       "        -0.24 , -0.236, -0.232, -0.228, -0.224, -0.22 , -0.216, -0.212,\n",
       "        -0.208, -0.204, -0.2  , -0.196, -0.192, -0.188, -0.184, -0.18 ,\n",
       "        -0.176, -0.172, -0.168, -0.164, -0.16 , -0.156, -0.152, -0.148,\n",
       "        -0.144, -0.14 , -0.136, -0.132, -0.128, -0.124, -0.12 , -0.116,\n",
       "        -0.112, -0.108, -0.104, -0.1  , -0.096, -0.092, -0.088, -0.084,\n",
       "        -0.08 , -0.076, -0.072, -0.068, -0.064, -0.06 , -0.056, -0.052,\n",
       "        -0.048, -0.044, -0.04 , -0.036, -0.032, -0.028, -0.024, -0.02 ,\n",
       "        -0.016, -0.012, -0.008, -0.004,  0.   ], dtype=float32),\n",
       " <BarContainer object of 100 artists>)"
      ]
     },
     "execution_count": 293,
     "metadata": {},
     "output_type": "execute_result"
    },
    {
     "data": {
      "image/png": "[encoded data removed]",
      "text/plain": [
       "<Figure size 432x288 with 1 Axes>"
      ]
     },
     "metadata": {
      "needs_background": "light"
     },
     "output_type": "display_data"
    }
   ],
   "source": [
    "plt.hist(first_npf_stuff[interesting_variable],bins=100,range=(-0.40,0))"
   ]
  },
  {
   "cell_type": "code",
   "execution_count": 294,
   "metadata": {
    "scrolled": true
   },
   "outputs": [
    {
     "data": {
      "text/plain": [
       "(array([     0.,      0.,      0.,      0.,      0.,      0.,      0.,\n",
       "             0.,      0.,      0.,      0.,      0.,      0.,      0.,\n",
       "             0.,      0.,      0.,      0.,      0.,      0.,      0.,\n",
       "             0.,      0.,      0.,      0.,      0.,      0.,      0.,\n",
       "             0.,      0.,      0.,      0.,      0.,   9156.,  20006.,\n",
       "         16292.,  13343.,  11404.,   9610.,   8428.,   7192.,   6698.,\n",
       "          5974.,   5164.,   4812.,   4239.,   3915.,   3527.,   3140.,\n",
       "          2891.,   2728.,   2526.,   2319.,   2019.,   1958.,   1786.,\n",
       "          1699.,   1590.,   1455.,   1408.,   1329.,   1281.,   1150.,\n",
       "          1090.,   1059.,    993.,    971.,    958.,    878.,    828.,\n",
       "           850.,    841.,    746.,    754.,    701.,    729.,    727.,\n",
       "           669.,    618.,    627.,    592.,    610.,    599.,    573.,\n",
       "           575.,    528.,    561.,    540.,    602.,    562.,    555.,\n",
       "           578.,    601.,    573.,    581.,    624.,    590.,    672.,\n",
       "           633., 209300.]),\n",
       " array([-0.6  , -0.594, -0.588, -0.582, -0.576, -0.57 , -0.564, -0.558,\n",
       "        -0.552, -0.546, -0.54 , -0.534, -0.528, -0.522, -0.516, -0.51 ,\n",
       "        -0.504, -0.498, -0.492, -0.486, -0.48 , -0.474, -0.468, -0.462,\n",
       "        -0.456, -0.45 , -0.444, -0.438, -0.432, -0.426, -0.42 , -0.414,\n",
       "        -0.408, -0.402, -0.396, -0.39 , -0.384, -0.378, -0.372, -0.366,\n",
       "        -0.36 , -0.354, -0.348, -0.342, -0.336, -0.33 , -0.324, -0.318,\n",
       "        -0.312, -0.306, -0.3  , -0.294, -0.288, -0.282, -0.276, -0.27 ,\n",
       "        -0.264, -0.258, -0.252, -0.246, -0.24 , -0.234, -0.228, -0.222,\n",
       "        -0.216, -0.21 , -0.204, -0.198, -0.192, -0.186, -0.18 , -0.174,\n",
       "        -0.168, -0.162, -0.156, -0.15 , -0.144, -0.138, -0.132, -0.126,\n",
       "        -0.12 , -0.114, -0.108, -0.102, -0.096, -0.09 , -0.084, -0.078,\n",
       "        -0.072, -0.066, -0.06 , -0.054, -0.048, -0.042, -0.036, -0.03 ,\n",
       "        -0.024, -0.018, -0.012, -0.006,  0.   ], dtype=float32),\n",
       " <BarContainer object of 100 artists>)"
      ]
     },
     "execution_count": 294,
     "metadata": {},
     "output_type": "execute_result"
    },
    {
     "data": {
      "image/png": "[encoded data removed]",
      "text/plain": [
       "<Figure size 432x288 with 1 Axes>"
      ]
     },
     "metadata": {
      "needs_background": "light"
     },
     "output_type": "display_data"
    }
   ],
   "source": [
    "plt.hist(first_npf_stuff[interesting_variable],bins=100,range=(-0.60,0))"
   ]
  },
  {
   "cell_type": "code",
   "execution_count": 295,
   "metadata": {
    "scrolled": true
   },
   "outputs": [
    {
     "data": {
      "text/plain": [
       "(array([0., 0., 0., 0., 0., 0., 0., 0., 0., 0., 0., 0., 0., 0., 0., 0., 0.,\n",
       "        0., 0., 0., 0., 0., 0., 0., 0., 0., 0., 0., 0., 0., 0., 0., 0., 0.,\n",
       "        0., 0., 0., 0., 0., 0., 0., 0., 0., 0., 0., 0., 0., 0., 0., 0., 0.,\n",
       "        0., 0., 0., 0., 0., 0., 0., 0., 0., 0., 0., 0., 0., 0., 0., 0., 0.,\n",
       "        0., 0., 0., 0., 0., 0., 0., 0., 0., 0., 0., 0., 0., 0., 0., 0., 0.,\n",
       "        0., 0., 0., 0., 0., 0., 0., 0., 0., 0., 0., 0., 0., 0., 0.]),\n",
       " array([-1.01  , -1.0098, -1.0096, -1.0094, -1.0092, -1.009 , -1.0088,\n",
       "        -1.0086, -1.0084, -1.0082, -1.008 , -1.0078, -1.0076, -1.0074,\n",
       "        -1.0072, -1.007 , -1.0068, -1.0066, -1.0064, -1.0062, -1.006 ,\n",
       "        -1.0058, -1.0056, -1.0054, -1.0052, -1.005 , -1.0048, -1.0046,\n",
       "        -1.0044, -1.0042, -1.004 , -1.0038, -1.0036, -1.0034, -1.0032,\n",
       "        -1.003 , -1.0028, -1.0026, -1.0024, -1.0022, -1.002 , -1.0018,\n",
       "        -1.0016, -1.0014, -1.0012, -1.001 , -1.0008, -1.0006, -1.0004,\n",
       "        -1.0002, -1.    , -0.9998, -0.9996, -0.9994, -0.9992, -0.999 ,\n",
       "        -0.9988, -0.9986, -0.9984, -0.9982, -0.998 , -0.9978, -0.9976,\n",
       "        -0.9974, -0.9972, -0.997 , -0.9968, -0.9966, -0.9964, -0.9962,\n",
       "        -0.996 , -0.9958, -0.9956, -0.9954, -0.9952, -0.995 , -0.9948,\n",
       "        -0.9946, -0.9944, -0.9942, -0.994 , -0.9938, -0.9936, -0.9934,\n",
       "        -0.9932, -0.993 , -0.9928, -0.9926, -0.9924, -0.9922, -0.992 ,\n",
       "        -0.9918, -0.9916, -0.9914, -0.9912, -0.991 , -0.9908, -0.9906,\n",
       "        -0.9904, -0.9902, -0.99  ], dtype=float32),\n",
       " <BarContainer object of 100 artists>)"
      ]
     },
     "execution_count": 295,
     "metadata": {},
     "output_type": "execute_result"
    },
    {
     "data": {
      "image/png": "[encoded data removed]",
      "text/plain": [
       "<Figure size 432x288 with 1 Axes>"
      ]
     },
     "metadata": {
      "needs_background": "light"
     },
     "output_type": "display_data"
    }
   ],
   "source": [
    "plt.hist(first_npf_stuff[interesting_variable],bins=100,range=(-1.01,-0.99))"
   ]
  },
  {
   "cell_type": "code",
   "execution_count": 296,
   "metadata": {
    "scrolled": true
   },
   "outputs": [
    {
     "data": {
      "text/plain": [
       "(array([1.70000e+01, 2.20000e+01, 2.10000e+01, 2.30000e+01, 2.40000e+01,\n",
       "        1.80000e+01, 2.30000e+01, 2.30000e+01, 1.60000e+01, 2.00000e+01,\n",
       "        2.10000e+01, 2.30000e+01, 1.40000e+01, 2.80000e+01, 2.80000e+01,\n",
       "        1.70000e+01, 1.80000e+01, 2.60000e+01, 2.50000e+01, 2.10000e+01,\n",
       "        2.30000e+01, 1.80000e+01, 1.70000e+01, 2.30000e+01, 2.50000e+01,\n",
       "        2.20000e+01, 1.30000e+01, 2.00000e+01, 2.80000e+01, 2.30000e+01,\n",
       "        2.90000e+01, 2.20000e+01, 3.20000e+01, 2.60000e+01, 2.10000e+01,\n",
       "        1.90000e+01, 2.70000e+01, 2.90000e+01, 3.50000e+01, 2.20000e+01,\n",
       "        2.70000e+01, 3.10000e+01, 3.20000e+01, 1.40000e+01, 2.50000e+01,\n",
       "        2.30000e+01, 2.40000e+01, 2.30000e+01, 2.40000e+01, 2.40000e+01,\n",
       "        2.15052e+05, 0.00000e+00, 0.00000e+00, 0.00000e+00, 0.00000e+00,\n",
       "        0.00000e+00, 0.00000e+00, 0.00000e+00, 0.00000e+00, 0.00000e+00,\n",
       "        0.00000e+00, 0.00000e+00, 0.00000e+00, 0.00000e+00, 0.00000e+00,\n",
       "        0.00000e+00, 0.00000e+00, 0.00000e+00, 0.00000e+00, 0.00000e+00,\n",
       "        0.00000e+00, 0.00000e+00, 0.00000e+00, 0.00000e+00, 0.00000e+00,\n",
       "        0.00000e+00, 0.00000e+00, 0.00000e+00, 0.00000e+00, 0.00000e+00,\n",
       "        0.00000e+00, 0.00000e+00, 0.00000e+00, 0.00000e+00, 0.00000e+00,\n",
       "        0.00000e+00, 0.00000e+00, 0.00000e+00, 0.00000e+00, 0.00000e+00,\n",
       "        0.00000e+00, 0.00000e+00, 0.00000e+00, 0.00000e+00, 0.00000e+00,\n",
       "        0.00000e+00, 0.00000e+00, 0.00000e+00, 0.00000e+00, 0.00000e+00]),\n",
       " array([-0.01  , -0.0098, -0.0096, -0.0094, -0.0092, -0.009 , -0.0088,\n",
       "        -0.0086, -0.0084, -0.0082, -0.008 , -0.0078, -0.0076, -0.0074,\n",
       "        -0.0072, -0.007 , -0.0068, -0.0066, -0.0064, -0.0062, -0.006 ,\n",
       "        -0.0058, -0.0056, -0.0054, -0.0052, -0.005 , -0.0048, -0.0046,\n",
       "        -0.0044, -0.0042, -0.004 , -0.0038, -0.0036, -0.0034, -0.0032,\n",
       "        -0.003 , -0.0028, -0.0026, -0.0024, -0.0022, -0.002 , -0.0018,\n",
       "        -0.0016, -0.0014, -0.0012, -0.001 , -0.0008, -0.0006, -0.0004,\n",
       "        -0.0002,  0.    ,  0.0002,  0.0004,  0.0006,  0.0008,  0.001 ,\n",
       "         0.0012,  0.0014,  0.0016,  0.0018,  0.002 ,  0.0022,  0.0024,\n",
       "         0.0026,  0.0028,  0.003 ,  0.0032,  0.0034,  0.0036,  0.0038,\n",
       "         0.004 ,  0.0042,  0.0044,  0.0046,  0.0048,  0.005 ,  0.0052,\n",
       "         0.0054,  0.0056,  0.0058,  0.006 ,  0.0062,  0.0064,  0.0066,\n",
       "         0.0068,  0.007 ,  0.0072,  0.0074,  0.0076,  0.0078,  0.008 ,\n",
       "         0.0082,  0.0084,  0.0086,  0.0088,  0.009 ,  0.0092,  0.0094,\n",
       "         0.0096,  0.0098,  0.01  ], dtype=float32),\n",
       " <BarContainer object of 100 artists>)"
      ]
     },
     "execution_count": 296,
     "metadata": {},
     "output_type": "execute_result"
    },
    {
     "data": {
      "image/png": "[encoded data removed]",
      "text/plain": [
       "<Figure size 432x288 with 1 Axes>"
      ]
     },
     "metadata": {
      "needs_background": "light"
     },
     "output_type": "display_data"
    }
   ],
   "source": [
    "plt.hist(first_npf_stuff[interesting_variable],bins=100,range=(-0.01,0.01))"
   ]
  },
  {
   "cell_type": "code",
   "execution_count": 297,
   "metadata": {
    "scrolled": true
   },
   "outputs": [
    {
     "data": {
      "text/plain": [
       "(array([215052.,      0.,      0.,      0.,      0.,      0.,      0.,\n",
       "             0.,      0.,      0.,      0.,      0.,      0.,      0.,\n",
       "             0.,      0.,      0.,      0.,      0.,      0.,      0.,\n",
       "             0.,      0.,      0.,      0.,      0.,      0.,      0.,\n",
       "             0.,      0.,      0.,      0.,      0.,      0.,      0.,\n",
       "             0.,      0.,      0.,      0.,      0.,      0.,      0.,\n",
       "             0.,      0.,      0.,      0.,      0.,      0.,      0.,\n",
       "             0.,      0.,      0.,      0.,      0.,      0.,      0.,\n",
       "             0.,      0.,      0.,      0.,      0.,      0.,      0.,\n",
       "             0.,      0.,      0.,      0.,      0.,      0.,      0.,\n",
       "             0.,      0.,      0.,      0.,      0.,      0.,      0.,\n",
       "             0.,      0.,      0.,      0.,      0.,      0.,      0.,\n",
       "             0.,      0.,      0.,      0.,      0.,      0.,      0.,\n",
       "             0.,      0.,      0.,      0.,      0.,      0.,      0.,\n",
       "             0.,      0.]),\n",
       " array([0.  , 0.01, 0.02, 0.03, 0.04, 0.05, 0.06, 0.07, 0.08, 0.09, 0.1 ,\n",
       "        0.11, 0.12, 0.13, 0.14, 0.15, 0.16, 0.17, 0.18, 0.19, 0.2 , 0.21,\n",
       "        0.22, 0.23, 0.24, 0.25, 0.26, 0.27, 0.28, 0.29, 0.3 , 0.31, 0.32,\n",
       "        0.33, 0.34, 0.35, 0.36, 0.37, 0.38, 0.39, 0.4 , 0.41, 0.42, 0.43,\n",
       "        0.44, 0.45, 0.46, 0.47, 0.48, 0.49, 0.5 , 0.51, 0.52, 0.53, 0.54,\n",
       "        0.55, 0.56, 0.57, 0.58, 0.59, 0.6 , 0.61, 0.62, 0.63, 0.64, 0.65,\n",
       "        0.66, 0.67, 0.68, 0.69, 0.7 , 0.71, 0.72, 0.73, 0.74, 0.75, 0.76,\n",
       "        0.77, 0.78, 0.79, 0.8 , 0.81, 0.82, 0.83, 0.84, 0.85, 0.86, 0.87,\n",
       "        0.88, 0.89, 0.9 , 0.91, 0.92, 0.93, 0.94, 0.95, 0.96, 0.97, 0.98,\n",
       "        0.99, 1.  ], dtype=float32),\n",
       " <BarContainer object of 100 artists>)"
      ]
     },
     "execution_count": 297,
     "metadata": {},
     "output_type": "execute_result"
    },
    {
     "data": {
      "image/png": "[encoded data removed]",
      "text/plain": [
       "<Figure size 432x288 with 1 Axes>"
      ]
     },
     "metadata": {
      "needs_background": "light"
     },
     "output_type": "display_data"
    }
   ],
   "source": [
    "plt.hist(first_npf_stuff[interesting_variable],bins=100,range=(0,1))"
   ]
  },
  {
   "cell_type": "code",
   "execution_count": 298,
   "metadata": {
    "scrolled": true
   },
   "outputs": [
    {
     "data": {
      "text/plain": [
       "(array([0., 0., 0., 0., 0., 0., 0., 0., 0., 0., 0., 0., 0., 0., 0., 0., 0.,\n",
       "        0., 0., 0., 0., 0., 0., 0., 0., 0., 0., 0., 0., 0., 0., 0., 0., 0.,\n",
       "        0., 0., 0., 0., 0., 0., 0., 0., 0., 0., 0., 0., 0., 0., 0., 0., 0.,\n",
       "        0., 0., 0., 0., 0., 0., 0., 0., 0., 0., 0., 0., 0., 0., 0., 0., 0.,\n",
       "        0., 0., 0., 0., 0., 0., 0., 0., 0., 0., 0., 0., 0., 0., 0., 0., 0.,\n",
       "        0., 0., 0., 0., 0., 0., 0., 0., 0., 0., 0., 0., 0., 0., 0.]),\n",
       " array([0.95 , 0.951, 0.952, 0.953, 0.954, 0.955, 0.956, 0.957, 0.958,\n",
       "        0.959, 0.96 , 0.961, 0.962, 0.963, 0.964, 0.965, 0.966, 0.967,\n",
       "        0.968, 0.969, 0.97 , 0.971, 0.972, 0.973, 0.974, 0.975, 0.976,\n",
       "        0.977, 0.978, 0.979, 0.98 , 0.981, 0.982, 0.983, 0.984, 0.985,\n",
       "        0.986, 0.987, 0.988, 0.989, 0.99 , 0.991, 0.992, 0.993, 0.994,\n",
       "        0.995, 0.996, 0.997, 0.998, 0.999, 1.   , 1.001, 1.002, 1.003,\n",
       "        1.004, 1.005, 1.006, 1.007, 1.008, 1.009, 1.01 , 1.011, 1.012,\n",
       "        1.013, 1.014, 1.015, 1.016, 1.017, 1.018, 1.019, 1.02 , 1.021,\n",
       "        1.022, 1.023, 1.024, 1.025, 1.026, 1.027, 1.028, 1.029, 1.03 ,\n",
       "        1.031, 1.032, 1.033, 1.034, 1.035, 1.036, 1.037, 1.038, 1.039,\n",
       "        1.04 , 1.041, 1.042, 1.043, 1.044, 1.045, 1.046, 1.047, 1.048,\n",
       "        1.049, 1.05 ], dtype=float32),\n",
       " <BarContainer object of 100 artists>)"
      ]
     },
     "execution_count": 298,
     "metadata": {},
     "output_type": "execute_result"
    },
    {
     "data": {
      "image/png": "[encoded data removed]",
      "text/plain": [
       "<Figure size 432x288 with 1 Axes>"
      ]
     },
     "metadata": {
      "needs_background": "light"
     },
     "output_type": "display_data"
    }
   ],
   "source": [
    "plt.hist(first_npf_stuff[interesting_variable],bins=100,range=(0.95,1.05))"
   ]
  },
  {
   "cell_type": "code",
   "execution_count": 299,
   "metadata": {
    "scrolled": true
   },
   "outputs": [
    {
     "data": {
      "text/plain": [
       "(array([215052.,      0.,      0.,      0.,      0.,      0.,      0.,\n",
       "             0.,      0.,      0.,      0.,      0.,      0.,      0.,\n",
       "             0.,      0.,      0.,      0.,      0.,      0.,      0.,\n",
       "             0.,      0.,      0.,      0.,      0.,      0.,      0.,\n",
       "             0.,      0.,      0.,      0.,      0.,      0.,      0.,\n",
       "             0.,      0.,      0.,      0.,      0.,      0.,      0.,\n",
       "             0.,      0.,      0.,      0.,      0.,      0.,      0.,\n",
       "             0.,      0.,      0.,      0.,      0.,      0.,      0.,\n",
       "             0.,      0.,      0.,      0.,      0.,      0.,      0.,\n",
       "             0.,      0.,      0.,      0.,      0.,      0.,      0.,\n",
       "             0.,      0.,      0.,      0.,      0.,      0.,      0.,\n",
       "             0.,      0.,      0.,      0.,      0.,      0.,      0.,\n",
       "             0.,      0.,      0.,      0.,      0.,      0.,      0.,\n",
       "             0.,      0.,      0.,      0.,      0.,      0.,      0.,\n",
       "             0.,      0.]),\n",
       " array([0.  , 0.05, 0.1 , 0.15, 0.2 , 0.25, 0.3 , 0.35, 0.4 , 0.45, 0.5 ,\n",
       "        0.55, 0.6 , 0.65, 0.7 , 0.75, 0.8 , 0.85, 0.9 , 0.95, 1.  , 1.05,\n",
       "        1.1 , 1.15, 1.2 , 1.25, 1.3 , 1.35, 1.4 , 1.45, 1.5 , 1.55, 1.6 ,\n",
       "        1.65, 1.7 , 1.75, 1.8 , 1.85, 1.9 , 1.95, 2.  , 2.05, 2.1 , 2.15,\n",
       "        2.2 , 2.25, 2.3 , 2.35, 2.4 , 2.45, 2.5 , 2.55, 2.6 , 2.65, 2.7 ,\n",
       "        2.75, 2.8 , 2.85, 2.9 , 2.95, 3.  , 3.05, 3.1 , 3.15, 3.2 , 3.25,\n",
       "        3.3 , 3.35, 3.4 , 3.45, 3.5 , 3.55, 3.6 , 3.65, 3.7 , 3.75, 3.8 ,\n",
       "        3.85, 3.9 , 3.95, 4.  , 4.05, 4.1 , 4.15, 4.2 , 4.25, 4.3 , 4.35,\n",
       "        4.4 , 4.45, 4.5 , 4.55, 4.6 , 4.65, 4.7 , 4.75, 4.8 , 4.85, 4.9 ,\n",
       "        4.95, 5.  ], dtype=float32),\n",
       " <BarContainer object of 100 artists>)"
      ]
     },
     "execution_count": 299,
     "metadata": {},
     "output_type": "execute_result"
    },
    {
     "data": {
      "image/png": "[encoded data removed]",
      "text/plain": [
       "<Figure size 432x288 with 1 Axes>"
      ]
     },
     "metadata": {
      "needs_background": "light"
     },
     "output_type": "display_data"
    }
   ],
   "source": [
    "plt.hist(first_npf_stuff[interesting_variable],bins=100,range=(0,5))"
   ]
  },
  {
   "cell_type": "code",
   "execution_count": 300,
   "metadata": {
    "scrolled": true
   },
   "outputs": [
    {
     "data": {
      "text/plain": [
       "(array([0., 0., 0., 0., 0., 0., 0., 0., 0., 0., 0., 0., 0., 0., 0., 0., 0.,\n",
       "        0., 0., 0., 0., 0., 0., 0., 0., 0., 0., 0., 0., 0., 0., 0., 0., 0.,\n",
       "        0., 0., 0., 0., 0., 0., 0., 0., 0., 0., 0., 0., 0., 0., 0., 0., 0.,\n",
       "        0., 0., 0., 0., 0., 0., 0., 0., 0., 0., 0., 0., 0., 0., 0., 0., 0.,\n",
       "        0., 0., 0., 0., 0., 0., 0., 0., 0., 0., 0., 0., 0., 0., 0., 0., 0.,\n",
       "        0., 0., 0., 0., 0., 0., 0., 0., 0., 0., 0., 0., 0., 0., 0.]),\n",
       " array([ 1.00001  ,  1.0900099,  1.1800098,  1.2700098,  1.3600096,\n",
       "         1.4500095,  1.5400094,  1.6300093,  1.7200092,  1.8100091,\n",
       "         1.900009 ,  1.990009 ,  2.0800087,  2.1700087,  2.2600086,\n",
       "         2.3500085,  2.4400084,  2.5300083,  2.6200082,  2.7100081,\n",
       "         2.800008 ,  2.890008 ,  2.980008 ,  3.0700078,  3.1600077,\n",
       "         3.2500074,  3.3400073,  3.4300072,  3.5200071,  3.610007 ,\n",
       "         3.700007 ,  3.7900069,  3.8800068,  3.9700067,  4.0600066,\n",
       "         4.1500063,  4.2400064,  4.330006 ,  4.4200063,  4.510006 ,\n",
       "         4.600006 ,  4.690006 ,  4.780006 ,  4.8700056,  4.9600058,\n",
       "         5.0500054,  5.1400056,  5.2300053,  5.3200054,  5.410005 ,\n",
       "         5.500005 ,  5.590005 ,  5.6800046,  5.7700047,  5.8600044,\n",
       "         5.9500046,  6.0400043,  6.1300044,  6.220004 ,  6.310004 ,\n",
       "         6.400004 ,  6.490004 ,  6.5800037,  6.670004 ,  6.7600036,\n",
       "         6.8500037,  6.9400034,  7.030003 ,  7.120003 ,  7.210003 ,\n",
       "         7.300003 ,  7.3900027,  7.480003 ,  7.5700026,  7.6600027,\n",
       "         7.7500024,  7.8400025,  7.930002 ,  8.020002 ,  8.1100025,\n",
       "         8.200002 ,  8.290002 ,  8.380002 ,  8.470002 ,  8.560001 ,\n",
       "         8.650002 ,  8.740002 ,  8.830001 ,  8.920001 ,  9.010001 ,\n",
       "         9.100001 ,  9.190001 ,  9.280001 ,  9.370001 ,  9.460001 ,\n",
       "         9.55     ,  9.64     ,  9.7300005,  9.820001 ,  9.91     ,\n",
       "        10.       ], dtype=float32),\n",
       " <BarContainer object of 100 artists>)"
      ]
     },
     "execution_count": 300,
     "metadata": {},
     "output_type": "execute_result"
    },
    {
     "data": {
      "image/png": "[encoded data removed]",
      "text/plain": [
       "<Figure size 432x288 with 1 Axes>"
      ]
     },
     "metadata": {
      "needs_background": "light"
     },
     "output_type": "display_data"
    }
   ],
   "source": [
    "plt.hist(first_npf_stuff[interesting_variable],bins=100,range=(1.00001,10))"
   ]
  },
  {
   "cell_type": "code",
   "execution_count": 301,
   "metadata": {
    "scrolled": true
   },
   "outputs": [
    {
     "data": {
      "text/plain": [
       "(array([0., 0., 0., 0., 0., 0., 0., 0., 0., 0., 0., 0., 0., 0., 0., 0., 0.,\n",
       "        0., 0., 0., 0., 0., 0., 0., 0., 0., 0., 0., 0., 0., 0., 0., 0., 0.,\n",
       "        0., 0., 0., 0., 0., 0., 0., 0., 0., 0., 0., 0., 0., 0., 0., 0., 0.,\n",
       "        0., 0., 0., 0., 0., 0., 0., 0., 0., 0., 0., 0., 0., 0., 0., 0., 0.,\n",
       "        0., 0., 0., 0., 0., 0., 0., 0., 0., 0., 0., 0., 0., 0., 0., 0., 0.,\n",
       "        0., 0., 0., 0., 0., 0., 0., 0., 0., 0., 0., 0., 0., 0., 0.]),\n",
       " array([1.0000000e-06, 1.0000989e-02, 2.0000977e-02, 3.0000968e-02,\n",
       "        4.0000957e-02, 5.0000943e-02, 6.0000934e-02, 7.0000924e-02,\n",
       "        8.0000915e-02, 9.0000898e-02, 1.0000089e-01, 1.1000088e-01,\n",
       "        1.2000087e-01, 1.3000086e-01, 1.4000085e-01, 1.5000084e-01,\n",
       "        1.6000083e-01, 1.7000081e-01, 1.8000080e-01, 1.9000079e-01,\n",
       "        2.0000078e-01, 2.1000077e-01, 2.2000076e-01, 2.3000075e-01,\n",
       "        2.4000074e-01, 2.5000072e-01, 2.6000071e-01, 2.7000070e-01,\n",
       "        2.8000069e-01, 2.9000068e-01, 3.0000067e-01, 3.1000066e-01,\n",
       "        3.2000065e-01, 3.3000064e-01, 3.4000063e-01, 3.5000062e-01,\n",
       "        3.6000061e-01, 3.7000060e-01, 3.8000059e-01, 3.9000058e-01,\n",
       "        4.0000057e-01, 4.1000056e-01, 4.2000052e-01, 4.3000051e-01,\n",
       "        4.4000050e-01, 4.5000049e-01, 4.6000049e-01, 4.7000048e-01,\n",
       "        4.8000047e-01, 4.9000046e-01, 5.0000048e-01, 5.1000047e-01,\n",
       "        5.2000046e-01, 5.3000039e-01, 5.4000038e-01, 5.5000037e-01,\n",
       "        5.6000036e-01, 5.7000035e-01, 5.8000034e-01, 5.9000033e-01,\n",
       "        6.0000032e-01, 6.1000031e-01, 6.2000030e-01, 6.3000029e-01,\n",
       "        6.4000028e-01, 6.5000027e-01, 6.6000026e-01, 6.7000026e-01,\n",
       "        6.8000025e-01, 6.9000024e-01, 7.0000023e-01, 7.1000022e-01,\n",
       "        7.2000021e-01, 7.3000020e-01, 7.4000019e-01, 7.5000018e-01,\n",
       "        7.6000017e-01, 7.7000016e-01, 7.8000015e-01, 7.9000014e-01,\n",
       "        8.0000013e-01, 8.1000012e-01, 8.2000011e-01, 8.3000010e-01,\n",
       "        8.4000009e-01, 8.5000008e-01, 8.6000007e-01, 8.7000006e-01,\n",
       "        8.8000005e-01, 8.9000005e-01, 9.0000004e-01, 9.1000003e-01,\n",
       "        9.2000002e-01, 9.2999995e-01, 9.3999994e-01, 9.4999993e-01,\n",
       "        9.5999992e-01, 9.6999991e-01, 9.7999990e-01, 9.8999989e-01,\n",
       "        9.9999988e-01], dtype=float32),\n",
       " <BarContainer object of 100 artists>)"
      ]
     },
     "execution_count": 301,
     "metadata": {},
     "output_type": "execute_result"
    },
    {
     "data": {
      "image/png": "[encoded data removed]",
      "text/plain": [
       "<Figure size 432x288 with 1 Axes>"
      ]
     },
     "metadata": {
      "needs_background": "light"
     },
     "output_type": "display_data"
    }
   ],
   "source": [
    "plt.hist(first_npf_stuff[interesting_variable],bins=100,range=(0.000001,0.9999999))"
   ]
  },
  {
   "cell_type": "code",
   "execution_count": 302,
   "metadata": {
    "scrolled": true
   },
   "outputs": [
    {
     "data": {
      "text/plain": [
       "(array([    0.,     0.,     0.,     0.,     0.,     0.,     0.,     0.,\n",
       "            0.,     0.,     0.,     0.,     0.,     0.,     0.,     0.,\n",
       "            0.,     0.,     0.,     0.,     0.,     0.,     0.,     0.,\n",
       "            0.,     0.,     0.,     0.,     0.,     0.,     0.,     0.,\n",
       "            0.,     0.,     0.,     0.,     0.,     0.,     0.,     0.,\n",
       "            0.,     0.,     0.,     0.,     0.,     0.,     0.,     0.,\n",
       "            0.,     0.,     0.,     0.,     0.,     0.,     0.,     0.,\n",
       "            0.,     0.,     0.,     0.,     0.,     0.,     0.,     0.,\n",
       "            0.,     0.,     0.,     0.,     0.,     0.,     0.,     0.,\n",
       "            0.,     0.,     0.,     0.,     0.,     0.,     0.,     0.,\n",
       "            0.,     0.,     0.,     0.,     0.,     0.,     0.,     0.,\n",
       "            0.,     0.,     0.,     0., 99984., 35800., 17126.,  9930.,\n",
       "         6867.,  5358.,  4694.,  5188.]),\n",
       " array([-5.0000000e+00, -4.9500003e+00, -4.9000001e+00, -4.8500004e+00,\n",
       "        -4.8000002e+00, -4.7500005e+00, -4.7000008e+00, -4.6500006e+00,\n",
       "        -4.6000009e+00, -4.5500007e+00, -4.5000010e+00, -4.4500012e+00,\n",
       "        -4.4000010e+00, -4.3500013e+00, -4.3000016e+00, -4.2500014e+00,\n",
       "        -4.2000017e+00, -4.1500015e+00, -4.1000018e+00, -4.0500021e+00,\n",
       "        -4.0000019e+00, -3.9500022e+00, -3.9000022e+00, -3.8500023e+00,\n",
       "        -3.8000023e+00, -3.7500024e+00, -3.7000027e+00, -3.6500027e+00,\n",
       "        -3.6000028e+00, -3.5500028e+00, -3.5000031e+00, -3.4500031e+00,\n",
       "        -3.4000032e+00, -3.3500032e+00, -3.3000033e+00, -3.2500036e+00,\n",
       "        -3.2000036e+00, -3.1500037e+00, -3.1000037e+00, -3.0500040e+00,\n",
       "        -3.0000041e+00, -2.9500041e+00, -2.9000041e+00, -2.8500042e+00,\n",
       "        -2.8000045e+00, -2.7500045e+00, -2.7000046e+00, -2.6500046e+00,\n",
       "        -2.6000049e+00, -2.5500050e+00, -2.5000050e+00, -2.4500051e+00,\n",
       "        -2.4000051e+00, -2.3500054e+00, -2.3000054e+00, -2.2500055e+00,\n",
       "        -2.2000055e+00, -2.1500058e+00, -2.1000059e+00, -2.0500059e+00,\n",
       "        -2.0000060e+00, -1.9500061e+00, -1.9000062e+00, -1.8500063e+00,\n",
       "        -1.8000064e+00, -1.7500066e+00, -1.7000066e+00, -1.6500067e+00,\n",
       "        -1.6000068e+00, -1.5500069e+00, -1.5000070e+00, -1.4500071e+00,\n",
       "        -1.4000072e+00, -1.3500073e+00, -1.3000073e+00, -1.2500075e+00,\n",
       "        -1.2000076e+00, -1.1500077e+00, -1.1000078e+00, -1.0500079e+00,\n",
       "        -1.0000080e+00, -9.5000809e-01, -9.0000820e-01, -8.5000831e-01,\n",
       "        -8.0000842e-01, -7.5000852e-01, -7.0000857e-01, -6.5000868e-01,\n",
       "        -6.0000879e-01, -5.5000889e-01, -5.0000900e-01, -4.5000911e-01,\n",
       "        -4.0000921e-01, -3.5000929e-01, -3.0000940e-01, -2.5000951e-01,\n",
       "        -2.0000960e-01, -1.5000971e-01, -1.0000980e-01, -5.0009899e-02,\n",
       "        -9.9999997e-06], dtype=float32),\n",
       " <BarContainer object of 100 artists>)"
      ]
     },
     "execution_count": 302,
     "metadata": {},
     "output_type": "execute_result"
    },
    {
     "data": {
      "image/png": "[encoded data removed]",
      "text/plain": [
       "<Figure size 432x288 with 1 Axes>"
      ]
     },
     "metadata": {
      "needs_background": "light"
     },
     "output_type": "display_data"
    }
   ],
   "source": [
    "plt.hist(first_npf_stuff[interesting_variable],bins=100,range=(-5,-0.00001))"
   ]
  },
  {
   "cell_type": "code",
   "execution_count": 303,
   "metadata": {},
   "outputs": [
    {
     "data": {
      "text/plain": [
       "12953.0"
      ]
     },
     "execution_count": 303,
     "metadata": {},
     "output_type": "execute_result"
    }
   ],
   "source": [
    "np.sum(np.array([  2.,   3.,   0.,   1.,   1.,   0.,  16.,  81., 116., 156., 201.,\n",
    "        231., 238., 269., 268., 271., 301., 341., 347., 394., 381., 375.,\n",
    "        420., 427., 427., 485., 491., 492., 422., 435., 401., 366., 342.,\n",
    "        342., 290., 279., 262., 233., 200., 197., 184., 170., 163., 129.,\n",
    "        132., 113., 105.,  84., 102.,  95.,  80.,  79., 100.,  83.,  61.,\n",
    "         74.,  69.,  72.,  52.,  63.,  50.,  52.,  45.,  46.,  34.,  34.,\n",
    "         25.,  18.,  22.,  22.,  17.,  14.,  16.,  10.,   9.,   7.,   1.,\n",
    "          3.,   5.,   2.,   1.,   2.,   0.,   0.,   2.,   2.,   0.,   0.,\n",
    "          0.,   0.,   0.,   0.,   0.,   0.,   0.,   0.,   0.,   0.,   0.,\n",
    "          0.]))"
   ]
  },
  {
   "cell_type": "code",
   "execution_count": 304,
   "metadata": {},
   "outputs": [
    {
     "data": {
      "text/plain": [
       "12956"
      ]
     },
     "execution_count": 304,
     "metadata": {},
     "output_type": "execute_result"
    }
   ],
   "source": [
    "12956"
   ]
  },
  {
   "cell_type": "code",
   "execution_count": 305,
   "metadata": {
    "scrolled": true
   },
   "outputs": [
    {
     "data": {
      "text/plain": [
       "(array([  9209.,  13755.,  12049.,  10467.,   9135.,   8182.,   7422.,\n",
       "          6622.,   5917.,   5492.,   4874.,   4652.,   4362.,   4044.,\n",
       "          3754.,   3337.,   3288.,   2939.,   2821.,   2666.,   2391.,\n",
       "          2385.,   2135.,   1970.,   1926.,   1808.,   1801.,   1647.,\n",
       "          1569.,   1429.,   1339.,   1305.,   1250.,   1188.,   1139.,\n",
       "          1101.,   1048.,    980.,    935.,    947.,    909.,    859.,\n",
       "           844.,    758.,    755.,    724.,    715.,    691.,    647.,\n",
       "           658.,    607.,    663.,    566.,    573.,    569.,    571.,\n",
       "           557.,    562.,    506.,    486.,    508.,    471.,    471.,\n",
       "           487.,    494.,    451.,    451.,    426.,    418.,    402.,\n",
       "           386.,    408.,    409.,    404.,    381.,    385.,    380.,\n",
       "           361.,    363.,    342.,    380.,    378.,    422.,    361.,\n",
       "           381.,    372.,    370.,    391.,    421.,    373.,    380.,\n",
       "           391.,    389.,    425.,    385.,    414.,    463.,    412.,\n",
       "           433., 215561.]),\n",
       " array([-3.99987876e-01, -3.95987988e-01, -3.91988128e-01, -3.87988240e-01,\n",
       "        -3.83988351e-01, -3.79988492e-01, -3.75988603e-01, -3.71988714e-01,\n",
       "        -3.67988855e-01, -3.63988966e-01, -3.59989077e-01, -3.55989218e-01,\n",
       "        -3.51989329e-01, -3.47989440e-01, -3.43989581e-01, -3.39989692e-01,\n",
       "        -3.35989803e-01, -3.31989944e-01, -3.27990055e-01, -3.23990166e-01,\n",
       "        -3.19990307e-01, -3.15990418e-01, -3.11990529e-01, -3.07990670e-01,\n",
       "        -3.03990781e-01, -2.99990892e-01, -2.95991033e-01, -2.91991144e-01,\n",
       "        -2.87991285e-01, -2.83991396e-01, -2.79991508e-01, -2.75991648e-01,\n",
       "        -2.71991760e-01, -2.67991871e-01, -2.63992012e-01, -2.59992123e-01,\n",
       "        -2.55992234e-01, -2.51992375e-01, -2.47992486e-01, -2.43992612e-01,\n",
       "        -2.39992723e-01, -2.35992849e-01, -2.31992975e-01, -2.27993086e-01,\n",
       "        -2.23993212e-01, -2.19993338e-01, -2.15993449e-01, -2.11993575e-01,\n",
       "        -2.07993701e-01, -2.03993812e-01, -1.99993938e-01, -1.95994064e-01,\n",
       "        -1.91994175e-01, -1.87994301e-01, -1.83994427e-01, -1.79994538e-01,\n",
       "        -1.75994664e-01, -1.71994790e-01, -1.67994902e-01, -1.63995028e-01,\n",
       "        -1.59995154e-01, -1.55995265e-01, -1.51995391e-01, -1.47995517e-01,\n",
       "        -1.43995643e-01, -1.39995754e-01, -1.35995880e-01, -1.31996006e-01,\n",
       "        -1.27996117e-01, -1.23996243e-01, -1.19996361e-01, -1.15996487e-01,\n",
       "        -1.11996606e-01, -1.07996725e-01, -1.03996851e-01, -9.99969691e-02,\n",
       "        -9.59970877e-02, -9.19972137e-02, -8.79973322e-02, -8.39974508e-02,\n",
       "        -7.99975768e-02, -7.59976953e-02, -7.19978213e-02, -6.79979399e-02,\n",
       "        -6.39980584e-02, -5.99981807e-02, -5.59983030e-02, -5.19984253e-02,\n",
       "        -4.79985438e-02, -4.39986661e-02, -3.99987884e-02, -3.59989107e-02,\n",
       "        -3.19990292e-02, -2.79991515e-02, -2.39992719e-02, -1.99993942e-02,\n",
       "        -1.59995146e-02, -1.19996360e-02, -7.99975730e-03, -3.99987865e-03,\n",
       "         1.60918530e-39], dtype=float32),\n",
       " <BarContainer object of 100 artists>)"
      ]
     },
     "execution_count": 305,
     "metadata": {},
     "output_type": "execute_result"
    },
    {
     "data": {
      "image/png": "[encoded data removed]",
      "text/plain": [
       "<Figure size 432x288 with 1 Axes>"
      ]
     },
     "metadata": {
      "needs_background": "light"
     },
     "output_type": "display_data"
    }
   ],
   "source": [
    "plt.hist(first_npf_stuff[interesting_variable],bins=100)"
   ]
  },
  {
   "cell_type": "code",
   "execution_count": 306,
   "metadata": {},
   "outputs": [],
   "source": [
    "first_vtx_stuff = ak.to_numpy(df_vtx_clip[:,0])"
   ]
  },
  {
   "cell_type": "code",
   "execution_count": 308,
   "metadata": {},
   "outputs": [
    {
     "data": {
      "text/plain": [
       "<Record ... None, None, None, None, None]} type='{\"sv_pt\": 5 * ?float32, \"sv_del...'>"
      ]
     },
     "execution_count": 308,
     "metadata": {},
     "output_type": "execute_result"
    }
   ],
   "source": [
    "df_vtx_clip[0,:5]"
   ]
  },
  {
   "cell_type": "code",
   "execution_count": 310,
   "metadata": {},
   "outputs": [
    {
     "data": {
      "text/plain": [
       "array([(8.9519917e+15,  8.9519917e+15,  3.7754974e+24,  3.7754974e+24,  1.8037523e+16, 1.889655e+16, 3.7754974e+24, 3.7754974e+24, 3.7754974e+24, 3.7754974e+24, 3.7754974e+24, 3.7754974e+24, 3.7754974e+24, 3.7754974e+24),\n",
       "       (3.0740284e-41,  3.0740284e-41,  4.5640291e-41,  4.5640291e-41,  3.0740284e-41, 3.074028e-41, 4.5640291e-41, 4.5640291e-41, 4.5640291e-41, 4.5640291e-41, 4.5640291e-41, 4.5640291e-41, 4.5640291e-41, 4.5640291e-41),\n",
       "       (1.5937823e+01, -1.7083077e-01,  3.8580329e+00, -1.8679965e-01, -3.9871860e-01, 6.000000e+00, 5.6024547e+00, 6.4688057e-01, 2.7153939e-02, 3.2502275e+00, 4.4923130e-02, 3.3954470e+00, 9.9997705e-01, 4.5932850e-01),\n",
       "       ...,\n",
       "       (0.0000000e+00,  0.0000000e+00, -3.9648649e-01,  0.0000000e+00,  0.0000000e+00,          nan,           nan,           nan,           nan, 0.0000000e+00,           nan,           nan,           nan,           nan),\n",
       "       (1.0099298e-40,  3.8125548e-40, -3.6618727e-01,  1.4907504e-39,  2.5223470e-39,          nan,           nan,           nan,           nan,           nan, 2.2405922e-40,           nan,           nan,           nan),\n",
       "       (0.0000000e+00,  0.0000000e+00, -4.6952665e-01,  0.0000000e+00,  0.0000000e+00,          nan,           nan,           nan,           nan,           nan, 0.0000000e+00,           nan,           nan,           nan)],\n",
       "      dtype=[('sv_pt', '<f4'), ('sv_deltaR', '<f4'), ('sv_mass', '<f4'), ('sv_etarel', '<f4'), ('sv_phirel', '<f4'), ('sv_ntracks', '<f4'), ('sv_chi2', '<f4'), ('sv_normchi2', '<f4'), ('sv_dxy', '<f4'), ('sv_dxysig', '<f4'), ('sv_d3d', '<f4'), ('sv_d3dsig', '<f4'), ('sv_costhetasvpv', '<f4'), ('sv_enratio', '<f4')])"
      ]
     },
     "execution_count": 310,
     "metadata": {},
     "output_type": "execute_result"
    }
   ],
   "source": [
    "first_vtx_stuff"
   ]
  },
  {
   "cell_type": "code",
   "execution_count": 635,
   "metadata": {
    "scrolled": true
   },
   "outputs": [
    {
     "data": {
      "text/plain": [
       "(array([0., 0., 0., 0., 0., 0., 0., 0., 0., 0., 0., 0., 0., 0., 0., 0., 0.,\n",
       "        0., 0., 0., 0., 0., 0., 0., 0., 0., 0., 0., 0., 0., 0., 0., 0., 0.,\n",
       "        0., 0., 0., 0., 0., 0., 0., 0., 0., 0., 0., 0., 0., 0., 0., 0., 0.,\n",
       "        0., 0., 0., 0., 0., 0., 0., 0., 0., 0., 0., 0., 0., 0., 0., 0., 0.,\n",
       "        0., 0., 0., 0., 0., 0., 0., 0., 0., 0., 0., 0., 0., 0., 0., 0., 0.,\n",
       "        0., 0., 0., 0., 0., 0., 0., 0., 0., 0., 0., 0., 0., 0., 0.]),\n",
       " array([-1000.   ,  -999.985,  -999.97 ,  -999.955,  -999.94 ,  -999.925,\n",
       "         -999.91 ,  -999.895,  -999.88 ,  -999.865,  -999.85 ,  -999.835,\n",
       "         -999.82 ,  -999.805,  -999.79 ,  -999.775,  -999.76 ,  -999.745,\n",
       "         -999.73 ,  -999.715,  -999.7  ,  -999.685,  -999.67 ,  -999.655,\n",
       "         -999.64 ,  -999.625,  -999.61 ,  -999.595,  -999.58 ,  -999.565,\n",
       "         -999.55 ,  -999.535,  -999.52 ,  -999.505,  -999.49 ,  -999.475,\n",
       "         -999.46 ,  -999.445,  -999.43 ,  -999.415,  -999.4  ,  -999.385,\n",
       "         -999.37 ,  -999.355,  -999.34 ,  -999.325,  -999.31 ,  -999.295,\n",
       "         -999.28 ,  -999.265,  -999.25 ,  -999.235,  -999.22 ,  -999.205,\n",
       "         -999.19 ,  -999.175,  -999.16 ,  -999.145,  -999.13 ,  -999.115,\n",
       "         -999.1  ,  -999.085,  -999.07 ,  -999.055,  -999.04 ,  -999.025,\n",
       "         -999.01 ,  -998.995,  -998.98 ,  -998.965,  -998.95 ,  -998.935,\n",
       "         -998.92 ,  -998.905,  -998.89 ,  -998.875,  -998.86 ,  -998.845,\n",
       "         -998.83 ,  -998.815,  -998.8  ,  -998.785,  -998.77 ,  -998.755,\n",
       "         -998.74 ,  -998.725,  -998.71 ,  -998.695,  -998.68 ,  -998.665,\n",
       "         -998.65 ,  -998.635,  -998.62 ,  -998.605,  -998.59 ,  -998.575,\n",
       "         -998.56 ,  -998.545,  -998.53 ,  -998.515,  -998.5  ],\n",
       "       dtype=float32),\n",
       " <BarContainer object of 100 artists>)"
      ]
     },
     "execution_count": 635,
     "metadata": {},
     "output_type": "execute_result"
    },
    {
     "data": {
      "image/png": "[encoded data removed]",
      "text/plain": [
       "<Figure size 432x288 with 1 Axes>"
      ]
     },
     "metadata": {
      "needs_background": "light"
     },
     "output_type": "display_data"
    }
   ],
   "source": [
    "interesting_variable = 'sv_enratio'\n",
    "#plt.hist(first_cpf_stuff[interesting_variable],bins=100)\n",
    "plt.hist(first_vtx_stuff[interesting_variable],bins=100,range=(-1000,-998.5))"
   ]
  },
  {
   "cell_type": "code",
   "execution_count": 636,
   "metadata": {
    "scrolled": true
   },
   "outputs": [
    {
     "data": {
      "text/plain": [
       "(array([     0.,      0.,      0.,      0.,      0.,      0.,      0.,\n",
       "             0.,      0.,      0.,      0.,      0.,      0.,      0.,\n",
       "             0.,      0.,      0.,      0.,      0.,      0.,      0.,\n",
       "             0.,      0.,      0.,      0.,      0.,      0.,      0.,\n",
       "             0.,      0.,      0.,      0.,      0.,      0.,      0.,\n",
       "             0.,      0.,      0.,      0.,      0.,      0.,      0.,\n",
       "             0.,      0.,      0.,      0.,      0.,      0.,      0.,\n",
       "             0.,      0.,      0.,      0.,      0.,      0.,      0.,\n",
       "             0.,      0.,      0.,      0.,      0.,      0.,      0.,\n",
       "             0.,      0.,      0.,      0.,      0.,      0.,      0.,\n",
       "             0.,      0.,      0.,      0.,      0.,      0.,      0.,\n",
       "             0.,      0.,      0.,      0.,      0.,      0.,      0.,\n",
       "             0.,      0.,      0.,      0.,      0.,      0.,      0.,\n",
       "             0.,      0.,      0.,      0.,      0.,      0.,      0.,\n",
       "             0., 100493.]),\n",
       " array([-1.01  , -0.9999, -0.9898, -0.9797, -0.9696, -0.9595, -0.9494,\n",
       "        -0.9393, -0.9292, -0.9191, -0.909 , -0.8989, -0.8888, -0.8787,\n",
       "        -0.8686, -0.8585, -0.8484, -0.8383, -0.8282, -0.8181, -0.808 ,\n",
       "        -0.7979, -0.7878, -0.7777, -0.7676, -0.7575, -0.7474, -0.7373,\n",
       "        -0.7272, -0.7171, -0.707 , -0.6969, -0.6868, -0.6767, -0.6666,\n",
       "        -0.6565, -0.6464, -0.6363, -0.6262, -0.6161, -0.606 , -0.5959,\n",
       "        -0.5858, -0.5757, -0.5656, -0.5555, -0.5454, -0.5353, -0.5252,\n",
       "        -0.5151, -0.505 , -0.4949, -0.4848, -0.4747, -0.4646, -0.4545,\n",
       "        -0.4444, -0.4343, -0.4242, -0.4141, -0.404 , -0.3939, -0.3838,\n",
       "        -0.3737, -0.3636, -0.3535, -0.3434, -0.3333, -0.3232, -0.3131,\n",
       "        -0.303 , -0.2929, -0.2828, -0.2727, -0.2626, -0.2525, -0.2424,\n",
       "        -0.2323, -0.2222, -0.2121, -0.202 , -0.1919, -0.1818, -0.1717,\n",
       "        -0.1616, -0.1515, -0.1414, -0.1313, -0.1212, -0.1111, -0.101 ,\n",
       "        -0.0909, -0.0808, -0.0707, -0.0606, -0.0505, -0.0404, -0.0303,\n",
       "        -0.0202, -0.0101,  0.    ], dtype=float32),\n",
       " <BarContainer object of 100 artists>)"
      ]
     },
     "execution_count": 636,
     "metadata": {},
     "output_type": "execute_result"
    },
    {
     "data": {
      "image/png": "[encoded data removed]",
      "text/plain": [
       "<Figure size 432x288 with 1 Axes>"
      ]
     },
     "metadata": {
      "needs_background": "light"
     },
     "output_type": "display_data"
    }
   ],
   "source": [
    "plt.hist(first_vtx_stuff[interesting_variable],bins=100,range=(-1.01,0))"
   ]
  },
  {
   "cell_type": "code",
   "execution_count": 612,
   "metadata": {
    "scrolled": true
   },
   "outputs": [
    {
     "data": {
      "text/plain": [
       "(array([     0.,      0.,      0.,      0.,      0.,      0.,      0.,\n",
       "             0.,      0.,      0.,      0.,      0.,      0.,      0.,\n",
       "             0.,      0.,      0.,      0.,      0.,      0.,      0.,\n",
       "             0.,      0.,      0.,      0.,      0.,      0.,      0.,\n",
       "             0.,      0.,      0.,      0.,      0.,      0.,      0.,\n",
       "             0.,      0.,      0.,      0.,      0.,      0.,      0.,\n",
       "             0.,      0.,      0.,      0.,      0.,      0.,      0.,\n",
       "             0.,      0.,      0.,      0.,      0.,      0.,      0.,\n",
       "             0.,      0.,      0.,      0.,      0.,      0.,      0.,\n",
       "             0.,      0.,      0.,      0.,      0.,      0.,      0.,\n",
       "             0.,      0.,      0.,      0.,      0.,      0.,      0.,\n",
       "             0.,      0.,      0.,      0.,      0.,      0.,      0.,\n",
       "             0.,      0.,      0.,      0.,      0.,      0.,      0.,\n",
       "             0.,      0.,      0.,      0.,      0.,      0.,      0.,\n",
       "             0., 100493.]),\n",
       " array([-0.4  , -0.396, -0.392, -0.388, -0.384, -0.38 , -0.376, -0.372,\n",
       "        -0.368, -0.364, -0.36 , -0.356, -0.352, -0.348, -0.344, -0.34 ,\n",
       "        -0.336, -0.332, -0.328, -0.324, -0.32 , -0.316, -0.312, -0.308,\n",
       "        -0.304, -0.3  , -0.296, -0.292, -0.288, -0.284, -0.28 , -0.276,\n",
       "        -0.272, -0.268, -0.264, -0.26 , -0.256, -0.252, -0.248, -0.244,\n",
       "        -0.24 , -0.236, -0.232, -0.228, -0.224, -0.22 , -0.216, -0.212,\n",
       "        -0.208, -0.204, -0.2  , -0.196, -0.192, -0.188, -0.184, -0.18 ,\n",
       "        -0.176, -0.172, -0.168, -0.164, -0.16 , -0.156, -0.152, -0.148,\n",
       "        -0.144, -0.14 , -0.136, -0.132, -0.128, -0.124, -0.12 , -0.116,\n",
       "        -0.112, -0.108, -0.104, -0.1  , -0.096, -0.092, -0.088, -0.084,\n",
       "        -0.08 , -0.076, -0.072, -0.068, -0.064, -0.06 , -0.056, -0.052,\n",
       "        -0.048, -0.044, -0.04 , -0.036, -0.032, -0.028, -0.024, -0.02 ,\n",
       "        -0.016, -0.012, -0.008, -0.004,  0.   ], dtype=float32),\n",
       " <BarContainer object of 100 artists>)"
      ]
     },
     "execution_count": 612,
     "metadata": {},
     "output_type": "execute_result"
    },
    {
     "data": {
      "image/png": "[encoded data removed]",
      "text/plain": [
       "<Figure size 432x288 with 1 Axes>"
      ]
     },
     "metadata": {
      "needs_background": "light"
     },
     "output_type": "display_data"
    }
   ],
   "source": [
    "plt.hist(first_vtx_stuff[interesting_variable],bins=100,range=(-0.40,0))"
   ]
  },
  {
   "cell_type": "code",
   "execution_count": 613,
   "metadata": {
    "scrolled": true
   },
   "outputs": [
    {
     "data": {
      "text/plain": [
       "(array([     0.,      0.,      0.,      0.,      0.,      0.,      0.,\n",
       "             0.,      0.,      0.,      0.,      0.,      0.,      0.,\n",
       "             0.,      0.,      0.,      0.,      0.,      0.,      0.,\n",
       "             0.,      0.,      0.,      0.,      0.,      0.,      0.,\n",
       "             0.,      0.,      0.,      0.,      0.,      0.,      0.,\n",
       "             0.,      0.,      0.,      0.,      0.,      0.,      0.,\n",
       "             0.,      0.,      0.,      0.,      0.,      0.,      0.,\n",
       "             0.,      0.,      0.,      0.,      0.,      0.,      0.,\n",
       "             0.,      0.,      0.,      0.,      0.,      0.,      0.,\n",
       "             0.,      0.,      0.,      0.,      0.,      0.,      0.,\n",
       "             0.,      0.,      0.,      0.,      0.,      0.,      0.,\n",
       "             0.,      0.,      0.,      0.,      0.,      0.,      0.,\n",
       "             0.,      0.,      0.,      0.,      0.,      0.,      0.,\n",
       "             0.,      0.,      0.,      0.,      0.,      0.,      0.,\n",
       "             0., 100493.]),\n",
       " array([-0.6  , -0.594, -0.588, -0.582, -0.576, -0.57 , -0.564, -0.558,\n",
       "        -0.552, -0.546, -0.54 , -0.534, -0.528, -0.522, -0.516, -0.51 ,\n",
       "        -0.504, -0.498, -0.492, -0.486, -0.48 , -0.474, -0.468, -0.462,\n",
       "        -0.456, -0.45 , -0.444, -0.438, -0.432, -0.426, -0.42 , -0.414,\n",
       "        -0.408, -0.402, -0.396, -0.39 , -0.384, -0.378, -0.372, -0.366,\n",
       "        -0.36 , -0.354, -0.348, -0.342, -0.336, -0.33 , -0.324, -0.318,\n",
       "        -0.312, -0.306, -0.3  , -0.294, -0.288, -0.282, -0.276, -0.27 ,\n",
       "        -0.264, -0.258, -0.252, -0.246, -0.24 , -0.234, -0.228, -0.222,\n",
       "        -0.216, -0.21 , -0.204, -0.198, -0.192, -0.186, -0.18 , -0.174,\n",
       "        -0.168, -0.162, -0.156, -0.15 , -0.144, -0.138, -0.132, -0.126,\n",
       "        -0.12 , -0.114, -0.108, -0.102, -0.096, -0.09 , -0.084, -0.078,\n",
       "        -0.072, -0.066, -0.06 , -0.054, -0.048, -0.042, -0.036, -0.03 ,\n",
       "        -0.024, -0.018, -0.012, -0.006,  0.   ], dtype=float32),\n",
       " <BarContainer object of 100 artists>)"
      ]
     },
     "execution_count": 613,
     "metadata": {},
     "output_type": "execute_result"
    },
    {
     "data": {
      "image/png": "[encoded data removed]",
      "text/plain": [
       "<Figure size 432x288 with 1 Axes>"
      ]
     },
     "metadata": {
      "needs_background": "light"
     },
     "output_type": "display_data"
    }
   ],
   "source": [
    "plt.hist(first_vtx_stuff[interesting_variable],bins=100,range=(-0.60,0))"
   ]
  },
  {
   "cell_type": "code",
   "execution_count": 614,
   "metadata": {
    "scrolled": true
   },
   "outputs": [
    {
     "data": {
      "text/plain": [
       "(array([0., 0., 0., 0., 0., 0., 0., 0., 0., 0., 0., 0., 0., 0., 0., 0., 0.,\n",
       "        0., 0., 0., 0., 0., 0., 0., 0., 0., 0., 0., 0., 0., 0., 0., 0., 0.,\n",
       "        0., 0., 0., 0., 0., 0., 0., 0., 0., 0., 0., 0., 0., 0., 0., 0., 0.,\n",
       "        0., 0., 0., 0., 0., 0., 0., 0., 0., 0., 0., 0., 0., 0., 0., 0., 0.,\n",
       "        0., 0., 0., 0., 0., 0., 0., 0., 0., 0., 0., 0., 0., 0., 0., 0., 0.,\n",
       "        0., 0., 0., 0., 0., 0., 0., 0., 0., 0., 0., 0., 0., 0., 0.]),\n",
       " array([-1.01  , -1.0098, -1.0096, -1.0094, -1.0092, -1.009 , -1.0088,\n",
       "        -1.0086, -1.0084, -1.0082, -1.008 , -1.0078, -1.0076, -1.0074,\n",
       "        -1.0072, -1.007 , -1.0068, -1.0066, -1.0064, -1.0062, -1.006 ,\n",
       "        -1.0058, -1.0056, -1.0054, -1.0052, -1.005 , -1.0048, -1.0046,\n",
       "        -1.0044, -1.0042, -1.004 , -1.0038, -1.0036, -1.0034, -1.0032,\n",
       "        -1.003 , -1.0028, -1.0026, -1.0024, -1.0022, -1.002 , -1.0018,\n",
       "        -1.0016, -1.0014, -1.0012, -1.001 , -1.0008, -1.0006, -1.0004,\n",
       "        -1.0002, -1.    , -0.9998, -0.9996, -0.9994, -0.9992, -0.999 ,\n",
       "        -0.9988, -0.9986, -0.9984, -0.9982, -0.998 , -0.9978, -0.9976,\n",
       "        -0.9974, -0.9972, -0.997 , -0.9968, -0.9966, -0.9964, -0.9962,\n",
       "        -0.996 , -0.9958, -0.9956, -0.9954, -0.9952, -0.995 , -0.9948,\n",
       "        -0.9946, -0.9944, -0.9942, -0.994 , -0.9938, -0.9936, -0.9934,\n",
       "        -0.9932, -0.993 , -0.9928, -0.9926, -0.9924, -0.9922, -0.992 ,\n",
       "        -0.9918, -0.9916, -0.9914, -0.9912, -0.991 , -0.9908, -0.9906,\n",
       "        -0.9904, -0.9902, -0.99  ], dtype=float32),\n",
       " <BarContainer object of 100 artists>)"
      ]
     },
     "execution_count": 614,
     "metadata": {},
     "output_type": "execute_result"
    },
    {
     "data": {
      "image/png": "[encoded data removed]",
      "text/plain": [
       "<Figure size 432x288 with 1 Axes>"
      ]
     },
     "metadata": {
      "needs_background": "light"
     },
     "output_type": "display_data"
    }
   ],
   "source": [
    "plt.hist(first_vtx_stuff[interesting_variable],bins=100,range=(-1.01,-0.99))"
   ]
  },
  {
   "cell_type": "code",
   "execution_count": 615,
   "metadata": {
    "scrolled": true
   },
   "outputs": [
    {
     "data": {
      "text/plain": [
       "(array([0.00000e+00, 0.00000e+00, 0.00000e+00, 0.00000e+00, 0.00000e+00,\n",
       "        0.00000e+00, 0.00000e+00, 0.00000e+00, 0.00000e+00, 0.00000e+00,\n",
       "        0.00000e+00, 0.00000e+00, 0.00000e+00, 0.00000e+00, 0.00000e+00,\n",
       "        0.00000e+00, 0.00000e+00, 0.00000e+00, 0.00000e+00, 0.00000e+00,\n",
       "        0.00000e+00, 0.00000e+00, 0.00000e+00, 0.00000e+00, 0.00000e+00,\n",
       "        0.00000e+00, 0.00000e+00, 0.00000e+00, 0.00000e+00, 0.00000e+00,\n",
       "        0.00000e+00, 0.00000e+00, 0.00000e+00, 0.00000e+00, 0.00000e+00,\n",
       "        0.00000e+00, 0.00000e+00, 0.00000e+00, 0.00000e+00, 0.00000e+00,\n",
       "        0.00000e+00, 0.00000e+00, 0.00000e+00, 0.00000e+00, 0.00000e+00,\n",
       "        0.00000e+00, 0.00000e+00, 0.00000e+00, 0.00000e+00, 0.00000e+00,\n",
       "        2.01031e+05, 0.00000e+00, 0.00000e+00, 0.00000e+00, 3.00000e+00,\n",
       "        8.00000e+00, 2.20000e+01, 2.70000e+01, 4.80000e+01, 4.30000e+01,\n",
       "        6.90000e+01, 8.20000e+01, 1.05000e+02, 1.00000e+02, 1.30000e+02,\n",
       "        1.20000e+02, 1.19000e+02, 1.38000e+02, 1.28000e+02, 1.34000e+02,\n",
       "        1.68000e+02, 1.68000e+02, 1.62000e+02, 1.82000e+02, 1.71000e+02,\n",
       "        1.71000e+02, 1.76000e+02, 1.74000e+02, 1.59000e+02, 1.85000e+02,\n",
       "        1.54000e+02, 1.91000e+02, 1.46000e+02, 2.11000e+02, 1.64000e+02,\n",
       "        1.62000e+02, 1.49000e+02, 1.71000e+02, 1.72000e+02, 1.82000e+02,\n",
       "        1.91000e+02, 1.75000e+02, 1.59000e+02, 1.50000e+02, 1.86000e+02,\n",
       "        1.79000e+02, 1.68000e+02, 1.79000e+02, 1.86000e+02, 1.95000e+02]),\n",
       " array([-0.01  , -0.0098, -0.0096, -0.0094, -0.0092, -0.009 , -0.0088,\n",
       "        -0.0086, -0.0084, -0.0082, -0.008 , -0.0078, -0.0076, -0.0074,\n",
       "        -0.0072, -0.007 , -0.0068, -0.0066, -0.0064, -0.0062, -0.006 ,\n",
       "        -0.0058, -0.0056, -0.0054, -0.0052, -0.005 , -0.0048, -0.0046,\n",
       "        -0.0044, -0.0042, -0.004 , -0.0038, -0.0036, -0.0034, -0.0032,\n",
       "        -0.003 , -0.0028, -0.0026, -0.0024, -0.0022, -0.002 , -0.0018,\n",
       "        -0.0016, -0.0014, -0.0012, -0.001 , -0.0008, -0.0006, -0.0004,\n",
       "        -0.0002,  0.    ,  0.0002,  0.0004,  0.0006,  0.0008,  0.001 ,\n",
       "         0.0012,  0.0014,  0.0016,  0.0018,  0.002 ,  0.0022,  0.0024,\n",
       "         0.0026,  0.0028,  0.003 ,  0.0032,  0.0034,  0.0036,  0.0038,\n",
       "         0.004 ,  0.0042,  0.0044,  0.0046,  0.0048,  0.005 ,  0.0052,\n",
       "         0.0054,  0.0056,  0.0058,  0.006 ,  0.0062,  0.0064,  0.0066,\n",
       "         0.0068,  0.007 ,  0.0072,  0.0074,  0.0076,  0.0078,  0.008 ,\n",
       "         0.0082,  0.0084,  0.0086,  0.0088,  0.009 ,  0.0092,  0.0094,\n",
       "         0.0096,  0.0098,  0.01  ], dtype=float32),\n",
       " <BarContainer object of 100 artists>)"
      ]
     },
     "execution_count": 615,
     "metadata": {},
     "output_type": "execute_result"
    },
    {
     "data": {
      "image/png": "[encoded data removed]",
      "text/plain": [
       "<Figure size 432x288 with 1 Axes>"
      ]
     },
     "metadata": {
      "needs_background": "light"
     },
     "output_type": "display_data"
    }
   ],
   "source": [
    "plt.hist(first_vtx_stuff[interesting_variable],bins=100,range=(-0.01,0.01))"
   ]
  },
  {
   "cell_type": "code",
   "execution_count": 616,
   "metadata": {
    "scrolled": true
   },
   "outputs": [
    {
     "data": {
      "text/plain": [
       "(array([2.07493e+05, 8.34200e+03, 7.38200e+03, 6.80500e+03, 6.27100e+03,\n",
       "        5.78700e+03, 5.71800e+03, 5.37700e+03, 5.08500e+03, 4.91100e+03,\n",
       "        4.68800e+03, 4.58100e+03, 4.50700e+03, 4.10700e+03, 4.01500e+03,\n",
       "        4.12900e+03, 3.85800e+03, 3.74800e+03, 3.55600e+03, 3.50300e+03,\n",
       "        3.30000e+03, 3.19000e+03, 3.13000e+03, 3.07800e+03, 2.83900e+03,\n",
       "        2.79100e+03, 2.69200e+03, 2.59200e+03, 2.47700e+03, 2.34500e+03,\n",
       "        2.34000e+03, 2.22800e+03, 2.19800e+03, 2.09300e+03, 2.00500e+03,\n",
       "        1.87400e+03, 1.82300e+03, 1.80600e+03, 1.66600e+03, 1.63500e+03,\n",
       "        1.66800e+03, 1.51100e+03, 1.42300e+03, 1.38800e+03, 1.36300e+03,\n",
       "        1.24900e+03, 1.20600e+03, 1.20400e+03, 1.08900e+03, 1.04400e+03,\n",
       "        1.00500e+03, 9.17000e+02, 8.74000e+02, 9.06000e+02, 8.13000e+02,\n",
       "        8.12000e+02, 8.11000e+02, 7.84000e+02, 6.84000e+02, 6.19000e+02,\n",
       "        5.97000e+02, 5.38000e+02, 5.09000e+02, 4.86000e+02, 4.68000e+02,\n",
       "        4.45000e+02, 4.30000e+02, 3.73000e+02, 3.88000e+02, 3.61000e+02,\n",
       "        3.32000e+02, 2.79000e+02, 2.58000e+02, 2.84000e+02, 2.16000e+02,\n",
       "        2.57000e+02, 2.18000e+02, 2.13000e+02, 1.56000e+02, 1.55000e+02,\n",
       "        1.30000e+02, 1.42000e+02, 1.06000e+02, 1.22000e+02, 1.12000e+02,\n",
       "        1.20000e+02, 8.10000e+01, 7.50000e+01, 8.70000e+01, 6.10000e+01,\n",
       "        6.60000e+01, 5.40000e+01, 5.10000e+01, 4.10000e+01, 4.20000e+01,\n",
       "        2.90000e+01, 2.80000e+01, 2.20000e+01, 2.70000e+01, 3.10000e+01]),\n",
       " array([0.  , 0.01, 0.02, 0.03, 0.04, 0.05, 0.06, 0.07, 0.08, 0.09, 0.1 ,\n",
       "        0.11, 0.12, 0.13, 0.14, 0.15, 0.16, 0.17, 0.18, 0.19, 0.2 , 0.21,\n",
       "        0.22, 0.23, 0.24, 0.25, 0.26, 0.27, 0.28, 0.29, 0.3 , 0.31, 0.32,\n",
       "        0.33, 0.34, 0.35, 0.36, 0.37, 0.38, 0.39, 0.4 , 0.41, 0.42, 0.43,\n",
       "        0.44, 0.45, 0.46, 0.47, 0.48, 0.49, 0.5 , 0.51, 0.52, 0.53, 0.54,\n",
       "        0.55, 0.56, 0.57, 0.58, 0.59, 0.6 , 0.61, 0.62, 0.63, 0.64, 0.65,\n",
       "        0.66, 0.67, 0.68, 0.69, 0.7 , 0.71, 0.72, 0.73, 0.74, 0.75, 0.76,\n",
       "        0.77, 0.78, 0.79, 0.8 , 0.81, 0.82, 0.83, 0.84, 0.85, 0.86, 0.87,\n",
       "        0.88, 0.89, 0.9 , 0.91, 0.92, 0.93, 0.94, 0.95, 0.96, 0.97, 0.98,\n",
       "        0.99, 1.  ], dtype=float32),\n",
       " <BarContainer object of 100 artists>)"
      ]
     },
     "execution_count": 616,
     "metadata": {},
     "output_type": "execute_result"
    },
    {
     "data": {
      "image/png": "[encoded data removed]",
      "text/plain": [
       "<Figure size 432x288 with 1 Axes>"
      ]
     },
     "metadata": {
      "needs_background": "light"
     },
     "output_type": "display_data"
    }
   ],
   "source": [
    "plt.hist(first_vtx_stuff[interesting_variable],bins=100,range=(0,1))"
   ]
  },
  {
   "cell_type": "code",
   "execution_count": 617,
   "metadata": {
    "scrolled": true
   },
   "outputs": [
    {
     "data": {
      "text/plain": [
       "(array([3., 3., 2., 3., 3., 4., 4., 3., 2., 2., 3., 1., 7., 3., 3., 4., 1.,\n",
       "        3., 1., 2., 3., 0., 3., 0., 2., 0., 2., 4., 5., 3., 2., 1., 3., 1.,\n",
       "        3., 4., 2., 2., 3., 6., 1., 2., 2., 6., 2., 5., 1., 4., 1., 7., 5.,\n",
       "        2., 4., 2., 2., 1., 3., 0., 0., 2., 2., 0., 0., 3., 3., 2., 1., 2.,\n",
       "        2., 1., 2., 1., 1., 0., 2., 1., 0., 2., 1., 0., 1., 2., 2., 1., 2.,\n",
       "        1., 3., 0., 2., 2., 1., 3., 1., 2., 0., 1., 0., 0., 3., 1.]),\n",
       " array([0.95 , 0.951, 0.952, 0.953, 0.954, 0.955, 0.956, 0.957, 0.958,\n",
       "        0.959, 0.96 , 0.961, 0.962, 0.963, 0.964, 0.965, 0.966, 0.967,\n",
       "        0.968, 0.969, 0.97 , 0.971, 0.972, 0.973, 0.974, 0.975, 0.976,\n",
       "        0.977, 0.978, 0.979, 0.98 , 0.981, 0.982, 0.983, 0.984, 0.985,\n",
       "        0.986, 0.987, 0.988, 0.989, 0.99 , 0.991, 0.992, 0.993, 0.994,\n",
       "        0.995, 0.996, 0.997, 0.998, 0.999, 1.   , 1.001, 1.002, 1.003,\n",
       "        1.004, 1.005, 1.006, 1.007, 1.008, 1.009, 1.01 , 1.011, 1.012,\n",
       "        1.013, 1.014, 1.015, 1.016, 1.017, 1.018, 1.019, 1.02 , 1.021,\n",
       "        1.022, 1.023, 1.024, 1.025, 1.026, 1.027, 1.028, 1.029, 1.03 ,\n",
       "        1.031, 1.032, 1.033, 1.034, 1.035, 1.036, 1.037, 1.038, 1.039,\n",
       "        1.04 , 1.041, 1.042, 1.043, 1.044, 1.045, 1.046, 1.047, 1.048,\n",
       "        1.049, 1.05 ], dtype=float32),\n",
       " <BarContainer object of 100 artists>)"
      ]
     },
     "execution_count": 617,
     "metadata": {},
     "output_type": "execute_result"
    },
    {
     "data": {
      "image/png": "[encoded data removed]",
      "text/plain": [
       "<Figure size 432x288 with 1 Axes>"
      ]
     },
     "metadata": {
      "needs_background": "light"
     },
     "output_type": "display_data"
    }
   ],
   "source": [
    "plt.hist(first_vtx_stuff[interesting_variable],bins=100,range=(0.95,1.05))"
   ]
  },
  {
   "cell_type": "code",
   "execution_count": 618,
   "metadata": {
    "scrolled": true
   },
   "outputs": [
    {
     "data": {
      "text/plain": [
       "(array([2.36293e+05, 2.68780e+04, 2.18980e+04, 1.87940e+04, 1.55370e+04,\n",
       "        1.28970e+04, 1.08640e+04, 8.80400e+03, 7.35300e+03, 5.79200e+03,\n",
       "        4.51500e+03, 3.71000e+03, 2.59800e+03, 1.99700e+03, 1.36900e+03,\n",
       "        9.99000e+02, 6.12000e+02, 4.24000e+02, 2.54000e+02, 1.37000e+02,\n",
       "        7.50000e+01, 5.60000e+01, 4.80000e+01, 4.40000e+01, 4.10000e+01,\n",
       "        3.50000e+01, 3.20000e+01, 2.10000e+01, 2.10000e+01, 2.50000e+01,\n",
       "        8.00000e+00, 6.00000e+00, 1.70000e+01, 1.40000e+01, 1.20000e+01,\n",
       "        9.00000e+00, 8.00000e+00, 1.10000e+01, 1.10000e+01, 8.00000e+00,\n",
       "        3.00000e+00, 6.00000e+00, 9.00000e+00, 7.00000e+00, 1.00000e+01,\n",
       "        3.00000e+00, 7.00000e+00, 3.00000e+00, 3.00000e+00, 6.00000e+00,\n",
       "        4.00000e+00, 6.00000e+00, 4.00000e+00, 6.00000e+00, 4.00000e+00,\n",
       "        3.00000e+00, 2.00000e+00, 3.00000e+00, 5.00000e+00, 6.00000e+00,\n",
       "        0.00000e+00, 4.00000e+00, 2.00000e+00, 2.00000e+00, 0.00000e+00,\n",
       "        4.00000e+00, 5.00000e+00, 0.00000e+00, 3.00000e+00, 3.00000e+00,\n",
       "        1.00000e+00, 2.00000e+00, 2.00000e+00, 4.00000e+00, 1.00000e+00,\n",
       "        2.00000e+00, 2.00000e+00, 0.00000e+00, 0.00000e+00, 0.00000e+00,\n",
       "        0.00000e+00, 2.00000e+00, 2.00000e+00, 2.00000e+00, 0.00000e+00,\n",
       "        0.00000e+00, 2.00000e+00, 0.00000e+00, 2.00000e+00, 0.00000e+00,\n",
       "        1.00000e+00, 0.00000e+00, 0.00000e+00, 0.00000e+00, 0.00000e+00,\n",
       "        2.00000e+00, 0.00000e+00, 1.00000e+00, 0.00000e+00, 2.00000e+00]),\n",
       " array([0.  , 0.05, 0.1 , 0.15, 0.2 , 0.25, 0.3 , 0.35, 0.4 , 0.45, 0.5 ,\n",
       "        0.55, 0.6 , 0.65, 0.7 , 0.75, 0.8 , 0.85, 0.9 , 0.95, 1.  , 1.05,\n",
       "        1.1 , 1.15, 1.2 , 1.25, 1.3 , 1.35, 1.4 , 1.45, 1.5 , 1.55, 1.6 ,\n",
       "        1.65, 1.7 , 1.75, 1.8 , 1.85, 1.9 , 1.95, 2.  , 2.05, 2.1 , 2.15,\n",
       "        2.2 , 2.25, 2.3 , 2.35, 2.4 , 2.45, 2.5 , 2.55, 2.6 , 2.65, 2.7 ,\n",
       "        2.75, 2.8 , 2.85, 2.9 , 2.95, 3.  , 3.05, 3.1 , 3.15, 3.2 , 3.25,\n",
       "        3.3 , 3.35, 3.4 , 3.45, 3.5 , 3.55, 3.6 , 3.65, 3.7 , 3.75, 3.8 ,\n",
       "        3.85, 3.9 , 3.95, 4.  , 4.05, 4.1 , 4.15, 4.2 , 4.25, 4.3 , 4.35,\n",
       "        4.4 , 4.45, 4.5 , 4.55, 4.6 , 4.65, 4.7 , 4.75, 4.8 , 4.85, 4.9 ,\n",
       "        4.95, 5.  ], dtype=float32),\n",
       " <BarContainer object of 100 artists>)"
      ]
     },
     "execution_count": 618,
     "metadata": {},
     "output_type": "execute_result"
    },
    {
     "data": {
      "image/png": "[encoded data removed]",
      "text/plain": [
       "<Figure size 432x288 with 1 Axes>"
      ]
     },
     "metadata": {
      "needs_background": "light"
     },
     "output_type": "display_data"
    }
   ],
   "source": [
    "plt.hist(first_vtx_stuff[interesting_variable],bins=100,range=(0,5))"
   ]
  },
  {
   "cell_type": "code",
   "execution_count": 619,
   "metadata": {
    "scrolled": true
   },
   "outputs": [
    {
     "data": {
      "text/plain": [
       "(array([121.,  80.,  78.,  55.,  39.,  30.,  18.,  26.,  19.,  17.,  18.,\n",
       "          8.,  16.,  12.,  10.,   6.,   9.,   7.,  11.,   6.,   4.,   9.,\n",
       "          7.,   2.,   2.,   8.,   3.,   4.,   3.,   6.,   3.,   2.,   0.,\n",
       "          0.,   4.,   2.,   2.,   0.,   2.,   1.,   0.,   0.,   2.,   1.,\n",
       "          3.,   1.,   0.,   1.,   0.,   1.,   0.,   3.,   1.,   2.,   0.,\n",
       "          0.,   0.,   1.,   1.,   0.,   0.,   1.,   0.,   1.,   0.,   1.,\n",
       "          0.,   1.,   1.,   1.,   0.,   0.,   1.,   1.,   0.,   0.,   0.,\n",
       "          0.,   0.,   0.,   1.,   0.,   1.,   0.,   0.,   0.,   0.,   0.,\n",
       "          0.,   1.,   0.,   0.,   0.,   0.,   1.,   1.,   0.,   0.,   0.,\n",
       "          0.]),\n",
       " array([ 1.00001  ,  1.0900099,  1.1800098,  1.2700098,  1.3600096,\n",
       "         1.4500095,  1.5400094,  1.6300093,  1.7200092,  1.8100091,\n",
       "         1.900009 ,  1.990009 ,  2.0800087,  2.1700087,  2.2600086,\n",
       "         2.3500085,  2.4400084,  2.5300083,  2.6200082,  2.7100081,\n",
       "         2.800008 ,  2.890008 ,  2.980008 ,  3.0700078,  3.1600077,\n",
       "         3.2500074,  3.3400073,  3.4300072,  3.5200071,  3.610007 ,\n",
       "         3.700007 ,  3.7900069,  3.8800068,  3.9700067,  4.0600066,\n",
       "         4.1500063,  4.2400064,  4.330006 ,  4.4200063,  4.510006 ,\n",
       "         4.600006 ,  4.690006 ,  4.780006 ,  4.8700056,  4.9600058,\n",
       "         5.0500054,  5.1400056,  5.2300053,  5.3200054,  5.410005 ,\n",
       "         5.500005 ,  5.590005 ,  5.6800046,  5.7700047,  5.8600044,\n",
       "         5.9500046,  6.0400043,  6.1300044,  6.220004 ,  6.310004 ,\n",
       "         6.400004 ,  6.490004 ,  6.5800037,  6.670004 ,  6.7600036,\n",
       "         6.8500037,  6.9400034,  7.030003 ,  7.120003 ,  7.210003 ,\n",
       "         7.300003 ,  7.3900027,  7.480003 ,  7.5700026,  7.6600027,\n",
       "         7.7500024,  7.8400025,  7.930002 ,  8.020002 ,  8.1100025,\n",
       "         8.200002 ,  8.290002 ,  8.380002 ,  8.470002 ,  8.560001 ,\n",
       "         8.650002 ,  8.740002 ,  8.830001 ,  8.920001 ,  9.010001 ,\n",
       "         9.100001 ,  9.190001 ,  9.280001 ,  9.370001 ,  9.460001 ,\n",
       "         9.55     ,  9.64     ,  9.7300005,  9.820001 ,  9.91     ,\n",
       "        10.       ], dtype=float32),\n",
       " <BarContainer object of 100 artists>)"
      ]
     },
     "execution_count": 619,
     "metadata": {},
     "output_type": "execute_result"
    },
    {
     "data": {
      "image/png": "[encoded data removed]",
      "text/plain": [
       "<Figure size 432x288 with 1 Axes>"
      ]
     },
     "metadata": {
      "needs_background": "light"
     },
     "output_type": "display_data"
    }
   ],
   "source": [
    "plt.hist(first_vtx_stuff[interesting_variable],bins=100,range=(1.00001,10))"
   ]
  },
  {
   "cell_type": "code",
   "execution_count": 620,
   "metadata": {
    "scrolled": true
   },
   "outputs": [
    {
     "data": {
      "text/plain": [
       "(array([11.,  9.,  6.,  7.,  1.,  1.,  1.,  3.,  0.,  0.,  1.,  1.,  3.,\n",
       "         1.,  1.,  1.,  0.,  0.,  0.,  0.,  0.,  0.,  0.,  0.,  0.,  0.,\n",
       "         0.,  1.,  0.,  0.,  0.,  0.,  0.,  0.,  0.,  0.,  0.,  0.,  0.,\n",
       "         0.,  0.,  0.,  0.,  0.,  0.,  0.,  0.,  0.,  0.,  0.,  0.,  1.,\n",
       "         0.,  0.,  0.,  0.,  0.,  0.,  1.,  0.,  0.,  0.,  0.,  0.,  0.,\n",
       "         0.,  0.,  0.,  0.,  0.,  0.,  0.,  0.,  0.,  0.,  0.,  0.,  0.,\n",
       "         0.,  0.,  0.,  0.,  0.,  0.,  0.,  0.,  0.,  0.,  0.,  0.,  0.,\n",
       "         0.,  0.,  0.,  0.,  0.,  0.,  0.,  0.,  0.]),\n",
       " array([ 1.00001  ,  1.0900099,  1.1800098,  1.2700098,  1.3600096,\n",
       "         1.4500095,  1.5400094,  1.6300093,  1.7200092,  1.8100091,\n",
       "         1.900009 ,  1.990009 ,  2.0800087,  2.1700087,  2.2600086,\n",
       "         2.3500085,  2.4400084,  2.5300083,  2.6200082,  2.7100081,\n",
       "         2.800008 ,  2.890008 ,  2.980008 ,  3.0700078,  3.1600077,\n",
       "         3.2500074,  3.3400073,  3.4300072,  3.5200071,  3.610007 ,\n",
       "         3.700007 ,  3.7900069,  3.8800068,  3.9700067,  4.0600066,\n",
       "         4.1500063,  4.2400064,  4.330006 ,  4.4200063,  4.510006 ,\n",
       "         4.600006 ,  4.690006 ,  4.780006 ,  4.8700056,  4.9600058,\n",
       "         5.0500054,  5.1400056,  5.2300053,  5.3200054,  5.410005 ,\n",
       "         5.500005 ,  5.590005 ,  5.6800046,  5.7700047,  5.8600044,\n",
       "         5.9500046,  6.0400043,  6.1300044,  6.220004 ,  6.310004 ,\n",
       "         6.400004 ,  6.490004 ,  6.5800037,  6.670004 ,  6.7600036,\n",
       "         6.8500037,  6.9400034,  7.030003 ,  7.120003 ,  7.210003 ,\n",
       "         7.300003 ,  7.3900027,  7.480003 ,  7.5700026,  7.6600027,\n",
       "         7.7500024,  7.8400025,  7.930002 ,  8.020002 ,  8.1100025,\n",
       "         8.200002 ,  8.290002 ,  8.380002 ,  8.470002 ,  8.560001 ,\n",
       "         8.650002 ,  8.740002 ,  8.830001 ,  8.920001 ,  9.010001 ,\n",
       "         9.100001 ,  9.190001 ,  9.280001 ,  9.370001 ,  9.460001 ,\n",
       "         9.55     ,  9.64     ,  9.7300005,  9.820001 ,  9.91     ,\n",
       "        10.       ], dtype=float32),\n",
       " <BarContainer object of 100 artists>)"
      ]
     },
     "execution_count": 620,
     "metadata": {},
     "output_type": "execute_result"
    },
    {
     "data": {
      "image/png": "[encoded data removed]",
      "text/plain": [
       "<Figure size 432x288 with 1 Axes>"
      ]
     },
     "metadata": {
      "needs_background": "light"
     },
     "output_type": "display_data"
    }
   ],
   "source": [
    "plt.hist(first_vtx_stuff[interesting_variable][hFlav == 4],bins=100,range=(1.00001,10))"
   ]
  },
  {
   "cell_type": "code",
   "execution_count": 621,
   "metadata": {
    "scrolled": true
   },
   "outputs": [
    {
     "data": {
      "text/plain": [
       "(array([501.,  98.,  40.,  14.,  12.,   5.,   5.,   2.,   3.,   1.,   0.,\n",
       "          0.,   0.,   1.,   0.,   1.,   0.,   1.,   0.,   0.,   0.,   0.,\n",
       "          1.,   0.,   0.,   0.,   0.,   0.,   0.,   0.,   0.,   0.,   0.,\n",
       "          0.,   0.,   0.,   0.,   0.,   1.,   0.,   0.,   0.,   0.,   0.,\n",
       "          0.,   0.,   0.,   0.,   0.,   0.,   0.,   0.,   0.,   0.,   0.,\n",
       "          0.,   0.,   0.,   0.,   0.,   0.,   0.,   0.,   0.,   0.,   0.,\n",
       "          0.,   0.,   0.,   0.,   0.,   0.,   0.,   0.,   0.,   0.,   0.,\n",
       "          0.,   0.,   0.,   0.,   0.,   0.,   0.,   0.,   0.,   0.,   0.,\n",
       "          0.,   0.,   0.,   0.,   0.,   0.,   0.,   0.,   0.,   0.,   0.,\n",
       "          0.]),\n",
       " array([  1.00001  ,   1.9900099,   2.9800098,   3.9700098,   4.9600096,\n",
       "          5.9500093,   6.9400096,   7.9300094,   8.92001  ,   9.910009 ,\n",
       "         10.900009 ,  11.890009 ,  12.880009 ,  13.870008 ,  14.860008 ,\n",
       "         15.850009 ,  16.840008 ,  17.830008 ,  18.820007 ,  19.810009 ,\n",
       "         20.800009 ,  21.790009 ,  22.780008 ,  23.770008 ,  24.760008 ,\n",
       "         25.750008 ,  26.740007 ,  27.730007 ,  28.720007 ,  29.710007 ,\n",
       "         30.700006 ,  31.690006 ,  32.680008 ,  33.670006 ,  34.660007 ,\n",
       "         35.650005 ,  36.640007 ,  37.630005 ,  38.620007 ,  39.610004 ,\n",
       "         40.600006 ,  41.590008 ,  42.580006 ,  43.570007 ,  44.560005 ,\n",
       "         45.550007 ,  46.540005 ,  47.530006 ,  48.520004 ,  49.510006 ,\n",
       "         50.500004 ,  51.490005 ,  52.480003 ,  53.470005 ,  54.460003 ,\n",
       "         55.450005 ,  56.440006 ,  57.430004 ,  58.420006 ,  59.410004 ,\n",
       "         60.400005 ,  61.390003 ,  62.380005 ,  63.370003 ,  64.36     ,\n",
       "         65.350006 ,  66.340004 ,  67.33     ,  68.32     ,  69.310005 ,\n",
       "         70.3      ,  71.29     ,  72.28001  ,  73.270004 ,  74.26     ,\n",
       "         75.25     ,  76.240005 ,  77.23     ,  78.22     ,  79.21     ,\n",
       "         80.200005 ,  81.19     ,  82.18     ,  83.17     ,  84.16     ,\n",
       "         85.15     ,  86.14     ,  87.130005 ,  88.12     ,  89.11     ,\n",
       "         90.1      ,  91.090004 ,  92.08     ,  93.07     ,  94.06     ,\n",
       "         95.05     ,  96.04     ,  97.03     ,  98.02     ,  99.01     ,\n",
       "        100.       ], dtype=float32),\n",
       " <BarContainer object of 100 artists>)"
      ]
     },
     "execution_count": 621,
     "metadata": {},
     "output_type": "execute_result"
    },
    {
     "data": {
      "image/png": "[encoded data removed]",
      "text/plain": [
       "<Figure size 432x288 with 1 Axes>"
      ]
     },
     "metadata": {
      "needs_background": "light"
     },
     "output_type": "display_data"
    }
   ],
   "source": [
    "plt.hist(first_vtx_stuff[interesting_variable],bins=100,range=(1.00001,100))"
   ]
  },
  {
   "cell_type": "code",
   "execution_count": 622,
   "metadata": {
    "scrolled": true
   },
   "outputs": [
    {
     "data": {
      "text/plain": [
       "(array([6463., 8343., 7381., 6804., 6271., 5788., 5717., 5380., 5082.,\n",
       "        4912., 4687., 4581., 4507., 4108., 4014., 4130., 3857., 3748.,\n",
       "        3556., 3503., 3301., 3189., 3130., 3078., 2839., 2791., 2692.,\n",
       "        2592., 2477., 2345., 2340., 2228., 2198., 2093., 2005., 1875.,\n",
       "        1822., 1806., 1666., 1635., 1668., 1511., 1423., 1388., 1363.,\n",
       "        1249., 1206., 1204., 1090., 1043., 1005.,  917.,  874.,  906.,\n",
       "         813.,  812.,  811.,  784.,  684.,  619.,  597.,  538.,  509.,\n",
       "         486.,  468.,  445.,  430.,  373.,  388.,  361.,  332.,  279.,\n",
       "         258.,  284.,  216.,  257.,  218.,  213.,  156.,  155.,  130.,\n",
       "         142.,  106.,  122.,  112.,  120.,   81.,   75.,   87.,   61.,\n",
       "          66.,   54.,   51.,   41.,   42.,   29.,   28.,   22.,   27.,\n",
       "          30.]),\n",
       " array([1.0000000e-06, 1.0000989e-02, 2.0000977e-02, 3.0000968e-02,\n",
       "        4.0000957e-02, 5.0000943e-02, 6.0000934e-02, 7.0000924e-02,\n",
       "        8.0000915e-02, 9.0000898e-02, 1.0000089e-01, 1.1000088e-01,\n",
       "        1.2000087e-01, 1.3000086e-01, 1.4000085e-01, 1.5000084e-01,\n",
       "        1.6000083e-01, 1.7000081e-01, 1.8000080e-01, 1.9000079e-01,\n",
       "        2.0000078e-01, 2.1000077e-01, 2.2000076e-01, 2.3000075e-01,\n",
       "        2.4000074e-01, 2.5000072e-01, 2.6000071e-01, 2.7000070e-01,\n",
       "        2.8000069e-01, 2.9000068e-01, 3.0000067e-01, 3.1000066e-01,\n",
       "        3.2000065e-01, 3.3000064e-01, 3.4000063e-01, 3.5000062e-01,\n",
       "        3.6000061e-01, 3.7000060e-01, 3.8000059e-01, 3.9000058e-01,\n",
       "        4.0000057e-01, 4.1000056e-01, 4.2000052e-01, 4.3000051e-01,\n",
       "        4.4000050e-01, 4.5000049e-01, 4.6000049e-01, 4.7000048e-01,\n",
       "        4.8000047e-01, 4.9000046e-01, 5.0000048e-01, 5.1000047e-01,\n",
       "        5.2000046e-01, 5.3000039e-01, 5.4000038e-01, 5.5000037e-01,\n",
       "        5.6000036e-01, 5.7000035e-01, 5.8000034e-01, 5.9000033e-01,\n",
       "        6.0000032e-01, 6.1000031e-01, 6.2000030e-01, 6.3000029e-01,\n",
       "        6.4000028e-01, 6.5000027e-01, 6.6000026e-01, 6.7000026e-01,\n",
       "        6.8000025e-01, 6.9000024e-01, 7.0000023e-01, 7.1000022e-01,\n",
       "        7.2000021e-01, 7.3000020e-01, 7.4000019e-01, 7.5000018e-01,\n",
       "        7.6000017e-01, 7.7000016e-01, 7.8000015e-01, 7.9000014e-01,\n",
       "        8.0000013e-01, 8.1000012e-01, 8.2000011e-01, 8.3000010e-01,\n",
       "        8.4000009e-01, 8.5000008e-01, 8.6000007e-01, 8.7000006e-01,\n",
       "        8.8000005e-01, 8.9000005e-01, 9.0000004e-01, 9.1000003e-01,\n",
       "        9.2000002e-01, 9.2999995e-01, 9.3999994e-01, 9.4999993e-01,\n",
       "        9.5999992e-01, 9.6999991e-01, 9.7999990e-01, 9.8999989e-01,\n",
       "        9.9999988e-01], dtype=float32),\n",
       " <BarContainer object of 100 artists>)"
      ]
     },
     "execution_count": 622,
     "metadata": {},
     "output_type": "execute_result"
    },
    {
     "data": {
      "image/png": "[encoded data removed]",
      "text/plain": [
       "<Figure size 432x288 with 1 Axes>"
      ]
     },
     "metadata": {
      "needs_background": "light"
     },
     "output_type": "display_data"
    }
   ],
   "source": [
    "plt.hist(first_vtx_stuff[interesting_variable],bins=100,range=(0.000001,0.9999999))"
   ]
  },
  {
   "cell_type": "code",
   "execution_count": 623,
   "metadata": {
    "scrolled": true
   },
   "outputs": [
    {
     "data": {
      "text/plain": [
       "(array([  3., 148., 487., 638., 852., 864., 866., 837., 861., 907., 867.,\n",
       "        889., 840., 846., 812., 857., 852., 765., 817., 798., 782., 767.,\n",
       "        746., 716., 769., 731., 725., 732., 725., 688., 711., 673., 707.,\n",
       "        709., 681., 660., 664., 715., 656., 628., 669., 638., 585., 641.,\n",
       "        609., 676., 620., 622., 605., 606., 610., 592., 572., 595., 540.,\n",
       "        555., 616., 566., 572., 569., 571., 576., 578., 588., 588., 570.,\n",
       "        607., 565., 542., 533., 583., 548., 542., 580., 520., 531., 546.,\n",
       "        518., 511., 499., 530., 510., 525., 473., 531., 518., 503., 514.,\n",
       "        494., 486., 522., 501., 488., 494., 506., 462., 495., 481., 487.,\n",
       "        475.]),\n",
       " array([1.000000e-06, 1.000990e-03, 2.000980e-03, 3.000970e-03,\n",
       "        4.000960e-03, 5.000950e-03, 6.000940e-03, 7.000930e-03,\n",
       "        8.000920e-03, 9.000910e-03, 1.000090e-02, 1.100089e-02,\n",
       "        1.200088e-02, 1.300087e-02, 1.400086e-02, 1.500085e-02,\n",
       "        1.600084e-02, 1.700083e-02, 1.800082e-02, 1.900081e-02,\n",
       "        2.000080e-02, 2.100079e-02, 2.200078e-02, 2.300077e-02,\n",
       "        2.400076e-02, 2.500075e-02, 2.600074e-02, 2.700073e-02,\n",
       "        2.800072e-02, 2.900071e-02, 3.000070e-02, 3.100069e-02,\n",
       "        3.200068e-02, 3.300067e-02, 3.400066e-02, 3.500065e-02,\n",
       "        3.600064e-02, 3.700063e-02, 3.800062e-02, 3.900061e-02,\n",
       "        4.000060e-02, 4.100059e-02, 4.200058e-02, 4.300057e-02,\n",
       "        4.400056e-02, 4.500055e-02, 4.600054e-02, 4.700053e-02,\n",
       "        4.800052e-02, 4.900051e-02, 5.000050e-02, 5.100049e-02,\n",
       "        5.200048e-02, 5.300047e-02, 5.400046e-02, 5.500045e-02,\n",
       "        5.600044e-02, 5.700043e-02, 5.800042e-02, 5.900041e-02,\n",
       "        6.000040e-02, 6.100039e-02, 6.200038e-02, 6.300037e-02,\n",
       "        6.400036e-02, 6.500035e-02, 6.600034e-02, 6.700033e-02,\n",
       "        6.800032e-02, 6.900031e-02, 7.000030e-02, 7.100029e-02,\n",
       "        7.200028e-02, 7.300027e-02, 7.400026e-02, 7.500025e-02,\n",
       "        7.600024e-02, 7.700023e-02, 7.800022e-02, 7.900021e-02,\n",
       "        8.000020e-02, 8.100019e-02, 8.200018e-02, 8.300017e-02,\n",
       "        8.400016e-02, 8.500015e-02, 8.600014e-02, 8.700013e-02,\n",
       "        8.800012e-02, 8.900011e-02, 9.000010e-02, 9.100009e-02,\n",
       "        9.200008e-02, 9.300007e-02, 9.400006e-02, 9.500005e-02,\n",
       "        9.600004e-02, 9.700003e-02, 9.800002e-02, 9.900001e-02,\n",
       "        1.000000e-01], dtype=float32),\n",
       " <BarContainer object of 100 artists>)"
      ]
     },
     "execution_count": 623,
     "metadata": {},
     "output_type": "execute_result"
    },
    {
     "data": {
      "image/png": "[encoded data removed]",
      "text/plain": [
       "<Figure size 432x288 with 1 Axes>"
      ]
     },
     "metadata": {
      "needs_background": "light"
     },
     "output_type": "display_data"
    }
   ],
   "source": [
    "plt.hist(first_vtx_stuff[interesting_variable],bins=100,range=(0.000001,0.1))"
   ]
  },
  {
   "cell_type": "code",
   "execution_count": 624,
   "metadata": {
    "scrolled": true
   },
   "outputs": [
    {
     "data": {
      "text/plain": [
       "(array([ 0.,  1., 15., 21., 35., 38., 30., 30., 43., 37., 37., 54., 41.,\n",
       "        44., 35., 43., 44., 43., 53., 54., 44., 52., 45., 44., 55., 48.,\n",
       "        47., 41., 47., 53., 55., 48., 51., 49., 68., 45., 65., 60., 58.,\n",
       "        55., 53., 60., 58., 50., 51., 62., 71., 61., 55., 50., 61., 49.,\n",
       "        70., 69., 63., 50., 71., 60., 53., 56., 55., 74., 59., 65., 56.,\n",
       "        67., 62., 58., 58., 56., 62., 57., 60., 61., 60., 60., 59., 63.,\n",
       "        56., 56., 81., 57., 55., 62., 70., 61., 68., 62., 61., 72., 72.,\n",
       "        60., 79., 64., 68., 65., 72., 69., 73., 69.]),\n",
       " array([1.000000e-06, 1.000990e-03, 2.000980e-03, 3.000970e-03,\n",
       "        4.000960e-03, 5.000950e-03, 6.000940e-03, 7.000930e-03,\n",
       "        8.000920e-03, 9.000910e-03, 1.000090e-02, 1.100089e-02,\n",
       "        1.200088e-02, 1.300087e-02, 1.400086e-02, 1.500085e-02,\n",
       "        1.600084e-02, 1.700083e-02, 1.800082e-02, 1.900081e-02,\n",
       "        2.000080e-02, 2.100079e-02, 2.200078e-02, 2.300077e-02,\n",
       "        2.400076e-02, 2.500075e-02, 2.600074e-02, 2.700073e-02,\n",
       "        2.800072e-02, 2.900071e-02, 3.000070e-02, 3.100069e-02,\n",
       "        3.200068e-02, 3.300067e-02, 3.400066e-02, 3.500065e-02,\n",
       "        3.600064e-02, 3.700063e-02, 3.800062e-02, 3.900061e-02,\n",
       "        4.000060e-02, 4.100059e-02, 4.200058e-02, 4.300057e-02,\n",
       "        4.400056e-02, 4.500055e-02, 4.600054e-02, 4.700053e-02,\n",
       "        4.800052e-02, 4.900051e-02, 5.000050e-02, 5.100049e-02,\n",
       "        5.200048e-02, 5.300047e-02, 5.400046e-02, 5.500045e-02,\n",
       "        5.600044e-02, 5.700043e-02, 5.800042e-02, 5.900041e-02,\n",
       "        6.000040e-02, 6.100039e-02, 6.200038e-02, 6.300037e-02,\n",
       "        6.400036e-02, 6.500035e-02, 6.600034e-02, 6.700033e-02,\n",
       "        6.800032e-02, 6.900031e-02, 7.000030e-02, 7.100029e-02,\n",
       "        7.200028e-02, 7.300027e-02, 7.400026e-02, 7.500025e-02,\n",
       "        7.600024e-02, 7.700023e-02, 7.800022e-02, 7.900021e-02,\n",
       "        8.000020e-02, 8.100019e-02, 8.200018e-02, 8.300017e-02,\n",
       "        8.400016e-02, 8.500015e-02, 8.600014e-02, 8.700013e-02,\n",
       "        8.800012e-02, 8.900011e-02, 9.000010e-02, 9.100009e-02,\n",
       "        9.200008e-02, 9.300007e-02, 9.400006e-02, 9.500005e-02,\n",
       "        9.600004e-02, 9.700003e-02, 9.800002e-02, 9.900001e-02,\n",
       "        1.000000e-01], dtype=float32),\n",
       " <BarContainer object of 100 artists>)"
      ]
     },
     "execution_count": 624,
     "metadata": {},
     "output_type": "execute_result"
    },
    {
     "data": {
      "image/png": "[encoded data removed]",
      "text/plain": [
       "<Figure size 432x288 with 1 Axes>"
      ]
     },
     "metadata": {
      "needs_background": "light"
     },
     "output_type": "display_data"
    }
   ],
   "source": [
    "plt.hist(first_vtx_stuff[interesting_variable][hFlav == 5],bins=100,range=(0.000001,0.1))"
   ]
  },
  {
   "cell_type": "code",
   "execution_count": 625,
   "metadata": {},
   "outputs": [],
   "source": [
    "hFlav = ak.to_numpy(ak.flatten(hflav, axis=0))"
   ]
  },
  {
   "cell_type": "code",
   "execution_count": 626,
   "metadata": {},
   "outputs": [
    {
     "data": {
      "text/plain": [
       "array([0, 0, 0, ..., 0, 0, 4], dtype=int32)"
      ]
     },
     "execution_count": 626,
     "metadata": {},
     "output_type": "execute_result"
    }
   ],
   "source": [
    "hFlav"
   ]
  },
  {
   "cell_type": "code",
   "execution_count": 627,
   "metadata": {
    "scrolled": true
   },
   "outputs": [
    {
     "data": {
      "text/plain": [
       "(array([6463., 8343., 7381., 6804., 6271., 5788., 5717., 5380., 5082.,\n",
       "        4912., 4687., 4581., 4507., 4108., 4014., 4130., 3857., 3748.,\n",
       "        3556., 3503., 3301., 3189., 3130., 3078., 2839., 2791., 2692.,\n",
       "        2592., 2477., 2345., 2340., 2228., 2198., 2093., 2005., 1875.,\n",
       "        1822., 1806., 1666., 1635., 1668., 1511., 1423., 1388., 1363.,\n",
       "        1249., 1206., 1204., 1090., 1043., 1005.,  917.,  874.,  906.,\n",
       "         813.,  812.,  811.,  784.,  684.,  619.,  597.,  538.,  509.,\n",
       "         486.,  468.,  445.,  430.,  373.,  388.,  361.,  332.,  279.,\n",
       "         258.,  284.,  216.,  257.,  218.,  213.,  156.,  155.,  130.,\n",
       "         142.,  106.,  122.,  112.,  120.,   81.,   75.,   87.,   61.,\n",
       "          66.,   54.,   51.,   41.,   42.,   29.,   28.,   22.,   27.,\n",
       "          30.]),\n",
       " array([1.0000000e-06, 1.0000989e-02, 2.0000977e-02, 3.0000968e-02,\n",
       "        4.0000957e-02, 5.0000943e-02, 6.0000934e-02, 7.0000924e-02,\n",
       "        8.0000915e-02, 9.0000898e-02, 1.0000089e-01, 1.1000088e-01,\n",
       "        1.2000087e-01, 1.3000086e-01, 1.4000085e-01, 1.5000084e-01,\n",
       "        1.6000083e-01, 1.7000081e-01, 1.8000080e-01, 1.9000079e-01,\n",
       "        2.0000078e-01, 2.1000077e-01, 2.2000076e-01, 2.3000075e-01,\n",
       "        2.4000074e-01, 2.5000072e-01, 2.6000071e-01, 2.7000070e-01,\n",
       "        2.8000069e-01, 2.9000068e-01, 3.0000067e-01, 3.1000066e-01,\n",
       "        3.2000065e-01, 3.3000064e-01, 3.4000063e-01, 3.5000062e-01,\n",
       "        3.6000061e-01, 3.7000060e-01, 3.8000059e-01, 3.9000058e-01,\n",
       "        4.0000057e-01, 4.1000056e-01, 4.2000052e-01, 4.3000051e-01,\n",
       "        4.4000050e-01, 4.5000049e-01, 4.6000049e-01, 4.7000048e-01,\n",
       "        4.8000047e-01, 4.9000046e-01, 5.0000048e-01, 5.1000047e-01,\n",
       "        5.2000046e-01, 5.3000039e-01, 5.4000038e-01, 5.5000037e-01,\n",
       "        5.6000036e-01, 5.7000035e-01, 5.8000034e-01, 5.9000033e-01,\n",
       "        6.0000032e-01, 6.1000031e-01, 6.2000030e-01, 6.3000029e-01,\n",
       "        6.4000028e-01, 6.5000027e-01, 6.6000026e-01, 6.7000026e-01,\n",
       "        6.8000025e-01, 6.9000024e-01, 7.0000023e-01, 7.1000022e-01,\n",
       "        7.2000021e-01, 7.3000020e-01, 7.4000019e-01, 7.5000018e-01,\n",
       "        7.6000017e-01, 7.7000016e-01, 7.8000015e-01, 7.9000014e-01,\n",
       "        8.0000013e-01, 8.1000012e-01, 8.2000011e-01, 8.3000010e-01,\n",
       "        8.4000009e-01, 8.5000008e-01, 8.6000007e-01, 8.7000006e-01,\n",
       "        8.8000005e-01, 8.9000005e-01, 9.0000004e-01, 9.1000003e-01,\n",
       "        9.2000002e-01, 9.2999995e-01, 9.3999994e-01, 9.4999993e-01,\n",
       "        9.5999992e-01, 9.6999991e-01, 9.7999990e-01, 9.8999989e-01,\n",
       "        9.9999988e-01], dtype=float32),\n",
       " <BarContainer object of 100 artists>)"
      ]
     },
     "execution_count": 627,
     "metadata": {},
     "output_type": "execute_result"
    },
    {
     "data": {
      "image/png": "[encoded data removed]",
      "text/plain": [
       "<Figure size 432x288 with 1 Axes>"
      ]
     },
     "metadata": {
      "needs_background": "light"
     },
     "output_type": "display_data"
    }
   ],
   "source": [
    "plt.hist(first_vtx_stuff[interesting_variable],bins=100,range=(0.000001,0.9999999))"
   ]
  },
  {
   "cell_type": "code",
   "execution_count": 628,
   "metadata": {
    "scrolled": true
   },
   "outputs": [
    {
     "data": {
      "text/plain": [
       "(array([0., 0., 0., 0., 0., 0., 0., 0., 0., 0., 0., 0., 0., 0., 0., 0., 0.,\n",
       "        0., 0., 0., 0., 0., 0., 0., 0., 0., 0., 0., 0., 0., 0., 0., 0., 0.,\n",
       "        0., 0., 0., 0., 0., 0., 0., 0., 0., 0., 0., 0., 0., 0., 0., 0., 0.,\n",
       "        0., 0., 0., 0., 0., 0., 0., 0., 0., 0., 0., 0., 0., 0., 0., 0., 0.,\n",
       "        0., 0., 0., 0., 0., 0., 0., 0., 0., 0., 0., 0., 0., 0., 0., 0., 0.,\n",
       "        0., 0., 0., 0., 0., 0., 0., 0., 0., 0., 0., 0., 0., 0., 0.]),\n",
       " array([-5.0000000e+00, -4.9500003e+00, -4.9000001e+00, -4.8500004e+00,\n",
       "        -4.8000002e+00, -4.7500005e+00, -4.7000008e+00, -4.6500006e+00,\n",
       "        -4.6000009e+00, -4.5500007e+00, -4.5000010e+00, -4.4500012e+00,\n",
       "        -4.4000010e+00, -4.3500013e+00, -4.3000016e+00, -4.2500014e+00,\n",
       "        -4.2000017e+00, -4.1500015e+00, -4.1000018e+00, -4.0500021e+00,\n",
       "        -4.0000019e+00, -3.9500022e+00, -3.9000022e+00, -3.8500023e+00,\n",
       "        -3.8000023e+00, -3.7500024e+00, -3.7000027e+00, -3.6500027e+00,\n",
       "        -3.6000028e+00, -3.5500028e+00, -3.5000031e+00, -3.4500031e+00,\n",
       "        -3.4000032e+00, -3.3500032e+00, -3.3000033e+00, -3.2500036e+00,\n",
       "        -3.2000036e+00, -3.1500037e+00, -3.1000037e+00, -3.0500040e+00,\n",
       "        -3.0000041e+00, -2.9500041e+00, -2.9000041e+00, -2.8500042e+00,\n",
       "        -2.8000045e+00, -2.7500045e+00, -2.7000046e+00, -2.6500046e+00,\n",
       "        -2.6000049e+00, -2.5500050e+00, -2.5000050e+00, -2.4500051e+00,\n",
       "        -2.4000051e+00, -2.3500054e+00, -2.3000054e+00, -2.2500055e+00,\n",
       "        -2.2000055e+00, -2.1500058e+00, -2.1000059e+00, -2.0500059e+00,\n",
       "        -2.0000060e+00, -1.9500061e+00, -1.9000062e+00, -1.8500063e+00,\n",
       "        -1.8000064e+00, -1.7500066e+00, -1.7000066e+00, -1.6500067e+00,\n",
       "        -1.6000068e+00, -1.5500069e+00, -1.5000070e+00, -1.4500071e+00,\n",
       "        -1.4000072e+00, -1.3500073e+00, -1.3000073e+00, -1.2500075e+00,\n",
       "        -1.2000076e+00, -1.1500077e+00, -1.1000078e+00, -1.0500079e+00,\n",
       "        -1.0000080e+00, -9.5000809e-01, -9.0000820e-01, -8.5000831e-01,\n",
       "        -8.0000842e-01, -7.5000852e-01, -7.0000857e-01, -6.5000868e-01,\n",
       "        -6.0000879e-01, -5.5000889e-01, -5.0000900e-01, -4.5000911e-01,\n",
       "        -4.0000921e-01, -3.5000929e-01, -3.0000940e-01, -2.5000951e-01,\n",
       "        -2.0000960e-01, -1.5000971e-01, -1.0000980e-01, -5.0009899e-02,\n",
       "        -9.9999997e-06], dtype=float32),\n",
       " <BarContainer object of 100 artists>)"
      ]
     },
     "execution_count": 628,
     "metadata": {},
     "output_type": "execute_result"
    },
    {
     "data": {
      "image/png": "[encoded data removed]",
      "text/plain": [
       "<Figure size 432x288 with 1 Axes>"
      ]
     },
     "metadata": {
      "needs_background": "light"
     },
     "output_type": "display_data"
    }
   ],
   "source": [
    "plt.hist(first_vtx_stuff[interesting_variable],bins=100,range=(-5,-0.00001))"
   ]
  },
  {
   "cell_type": "code",
   "execution_count": 629,
   "metadata": {},
   "outputs": [
    {
     "data": {
      "text/plain": [
       "12953.0"
      ]
     },
     "execution_count": 629,
     "metadata": {},
     "output_type": "execute_result"
    }
   ],
   "source": [
    "np.sum(np.array([  2.,   3.,   0.,   1.,   1.,   0.,  16.,  81., 116., 156., 201.,\n",
    "        231., 238., 269., 268., 271., 301., 341., 347., 394., 381., 375.,\n",
    "        420., 427., 427., 485., 491., 492., 422., 435., 401., 366., 342.,\n",
    "        342., 290., 279., 262., 233., 200., 197., 184., 170., 163., 129.,\n",
    "        132., 113., 105.,  84., 102.,  95.,  80.,  79., 100.,  83.,  61.,\n",
    "         74.,  69.,  72.,  52.,  63.,  50.,  52.,  45.,  46.,  34.,  34.,\n",
    "         25.,  18.,  22.,  22.,  17.,  14.,  16.,  10.,   9.,   7.,   1.,\n",
    "          3.,   5.,   2.,   1.,   2.,   0.,   0.,   2.,   2.,   0.,   0.,\n",
    "          0.,   0.,   0.,   0.,   0.,   0.,   0.,   0.,   0.,   0.,   0.,\n",
    "          0.]))"
   ]
  },
  {
   "cell_type": "code",
   "execution_count": 630,
   "metadata": {},
   "outputs": [
    {
     "data": {
      "text/plain": [
       "12956"
      ]
     },
     "execution_count": 630,
     "metadata": {},
     "output_type": "execute_result"
    }
   ],
   "source": [
    "12956"
   ]
  },
  {
   "cell_type": "code",
   "execution_count": 631,
   "metadata": {
    "scrolled": true
   },
   "outputs": [
    {
     "data": {
      "text/plain": [
       "(array([3.82411e+05, 0.00000e+00, 0.00000e+00, 0.00000e+00, 0.00000e+00,\n",
       "        0.00000e+00, 0.00000e+00, 0.00000e+00, 0.00000e+00, 0.00000e+00,\n",
       "        0.00000e+00, 0.00000e+00, 0.00000e+00, 0.00000e+00, 0.00000e+00,\n",
       "        0.00000e+00, 0.00000e+00, 0.00000e+00, 0.00000e+00, 0.00000e+00,\n",
       "        0.00000e+00, 0.00000e+00, 0.00000e+00, 0.00000e+00, 0.00000e+00,\n",
       "        0.00000e+00, 0.00000e+00, 0.00000e+00, 0.00000e+00, 0.00000e+00,\n",
       "        0.00000e+00, 0.00000e+00, 0.00000e+00, 0.00000e+00, 0.00000e+00,\n",
       "        0.00000e+00, 0.00000e+00, 0.00000e+00, 0.00000e+00, 0.00000e+00,\n",
       "        0.00000e+00, 0.00000e+00, 0.00000e+00, 0.00000e+00, 0.00000e+00,\n",
       "        0.00000e+00, 0.00000e+00, 0.00000e+00, 0.00000e+00, 0.00000e+00,\n",
       "        0.00000e+00, 0.00000e+00, 0.00000e+00, 0.00000e+00, 0.00000e+00,\n",
       "        0.00000e+00, 0.00000e+00, 0.00000e+00, 0.00000e+00, 0.00000e+00,\n",
       "        0.00000e+00, 0.00000e+00, 0.00000e+00, 0.00000e+00, 0.00000e+00,\n",
       "        0.00000e+00, 0.00000e+00, 0.00000e+00, 0.00000e+00, 0.00000e+00,\n",
       "        0.00000e+00, 0.00000e+00, 0.00000e+00, 0.00000e+00, 0.00000e+00,\n",
       "        0.00000e+00, 0.00000e+00, 0.00000e+00, 0.00000e+00, 0.00000e+00,\n",
       "        0.00000e+00, 0.00000e+00, 0.00000e+00, 0.00000e+00, 0.00000e+00,\n",
       "        0.00000e+00, 0.00000e+00, 0.00000e+00, 0.00000e+00, 0.00000e+00,\n",
       "        0.00000e+00, 0.00000e+00, 0.00000e+00, 0.00000e+00, 0.00000e+00,\n",
       "        0.00000e+00, 0.00000e+00, 0.00000e+00, 0.00000e+00, 2.00000e+00]),\n",
       " array([0.00000000e+00, 3.77549750e+22, 7.55099499e+22, 1.13264918e+23,\n",
       "        1.51019900e+23, 1.88774864e+23, 2.26529836e+23, 2.64284827e+23,\n",
       "        3.02039800e+23, 3.39794754e+23, 3.77549727e+23, 4.15304700e+23,\n",
       "        4.53059673e+23, 4.90814681e+23, 5.28569654e+23, 5.66324627e+23,\n",
       "        6.04079599e+23, 6.41834572e+23, 6.79589509e+23, 7.17344518e+23,\n",
       "        7.55099454e+23, 7.92854463e+23, 8.30609400e+23, 8.68364408e+23,\n",
       "        9.06119345e+23, 9.43874354e+23, 9.81629363e+23, 1.01938430e+24,\n",
       "        1.05713931e+24, 1.09489424e+24, 1.13264925e+24, 1.17040419e+24,\n",
       "        1.20815920e+24, 1.24591414e+24, 1.28366914e+24, 1.32142415e+24,\n",
       "        1.35917902e+24, 1.39693403e+24, 1.43468904e+24, 1.47244404e+24,\n",
       "        1.51019891e+24, 1.54795392e+24, 1.58570893e+24, 1.62346393e+24,\n",
       "        1.66121880e+24, 1.69897381e+24, 1.73672882e+24, 1.77448383e+24,\n",
       "        1.81223869e+24, 1.84999370e+24, 1.88774871e+24, 1.92550372e+24,\n",
       "        1.96325873e+24, 2.00101359e+24, 2.03876860e+24, 2.07652361e+24,\n",
       "        2.11427862e+24, 2.15203348e+24, 2.18978849e+24, 2.22754350e+24,\n",
       "        2.26529851e+24, 2.30305337e+24, 2.34080838e+24, 2.37856339e+24,\n",
       "        2.41631840e+24, 2.45407326e+24, 2.49182827e+24, 2.52958328e+24,\n",
       "        2.56733829e+24, 2.60509330e+24, 2.64284831e+24, 2.68060303e+24,\n",
       "        2.71835804e+24, 2.75611304e+24, 2.79386805e+24, 2.83162306e+24,\n",
       "        2.86937807e+24, 2.90713308e+24, 2.94488809e+24, 2.98264310e+24,\n",
       "        3.02039782e+24, 3.05815283e+24, 3.09590783e+24, 3.13366284e+24,\n",
       "        3.17141785e+24, 3.20917286e+24, 3.24692787e+24, 3.28468288e+24,\n",
       "        3.32243760e+24, 3.36019261e+24, 3.39794762e+24, 3.43570262e+24,\n",
       "        3.47345763e+24, 3.51121264e+24, 3.54896765e+24, 3.58672266e+24,\n",
       "        3.62447738e+24, 3.66223239e+24, 3.69998740e+24, 3.73774241e+24,\n",
       "        3.77549742e+24], dtype=float32),\n",
       " <BarContainer object of 100 artists>)"
      ]
     },
     "execution_count": 631,
     "metadata": {},
     "output_type": "execute_result"
    },
    {
     "data": {
      "image/png": "[encoded data removed]",
      "text/plain": [
       "<Figure size 432x288 with 1 Axes>"
      ]
     },
     "metadata": {
      "needs_background": "light"
     },
     "output_type": "display_data"
    }
   ],
   "source": [
    "plt.hist(first_vtx_stuff[interesting_variable],bins=100)"
   ]
  },
  {
   "cell_type": "code",
   "execution_count": 632,
   "metadata": {},
   "outputs": [
    {
     "data": {
      "text/plain": [
       "400000 * {\"sv_pt\": 5 * ?float32, \"sv_deltaR\": 5 * ?float32, \"sv_mass\": 5 * ?float32, \"sv_etarel\": 5 * ?float32, \"sv_phirel\": 5 * ?float32, \"sv_ntracks\": 5 * ?float32, \"sv_chi2\": 5 * ?float32, \"sv_normchi2\": 5 * ?float32, \"sv_dxy\": 5 * ?float32, \"sv_dxysig\": 5 * ?float32, \"sv_d3d\": 5 * ?float32, \"sv_d3dsig\": 5 * ?float32, \"sv_costhetasvpv\": 5 * ?float32, \"sv_enratio\": 5 * ?float32}"
      ]
     },
     "execution_count": 632,
     "metadata": {},
     "output_type": "execute_result"
    }
   ],
   "source": [
    "df_vtx_clip.type"
   ]
  },
  {
   "cell_type": "code",
   "execution_count": 30,
   "metadata": {},
   "outputs": [
    {
     "data": {
      "text/plain": [
       "400000 * {\"sv_pt\": 5 * ?float32, \"sv_eta\": 5 * ?float32, \"sv_phi\": 5 * ?float32, \"sv_e\": 5 * ?float32}"
      ]
     },
     "execution_count": 30,
     "metadata": {},
     "output_type": "execute_result"
    }
   ],
   "source": [
    "df_vtx_pts_clip.type"
   ]
  },
  {
   "cell_type": "code",
   "execution_count": 1005,
   "metadata": {},
   "outputs": [],
   "source": [
    "def quantile_min_max(feature,group='glob',candidate=None):\n",
    "    if group=='glob':\n",
    "        print(feature,group,candidate)\n",
    "        array_np = ak.to_numpy(df_glob[feature])\n",
    "        array_np = np.where(array_np == -999, 0, array_np)\n",
    "        array_np = np.where(array_np ==   -1, 0, array_np)\n",
    "        mini, maxi = np.quantile(array_np,0.01),np.quantile(array_np,0.99)\n",
    "        mini_, maxi_ = np.quantile(array_np,0.2),np.quantile(array_np,0.8)\n",
    "        return [mini, maxi], np.std(array_np[(array_np >= mini_) & (array_np <= maxi_)])\n",
    "    elif group=='cpf':\n",
    "        print(feature,group,candidate)\n",
    "        array_np = ak.to_numpy(df_cpf_clip[feature][:,candidate])\n",
    "        array_np = np.where(array_np == -999, 0, array_np)\n",
    "        array_np = np.where(array_np ==   -1, 0, array_np)\n",
    "        mini, maxi = np.quantile(array_np,0.01),np.quantile(array_np,0.99)\n",
    "        mini_, maxi_ = np.quantile(array_np,0.2),np.quantile(array_np,0.8)\n",
    "        return [mini, maxi], np.std(array_np[(array_np >= mini_) & (array_np <= maxi_)])\n",
    "    elif group=='npf':\n",
    "        print(feature,group,candidate)\n",
    "        array_np = ak.to_numpy(df_npf_clip[feature][:,candidate])\n",
    "        array_np = np.where(array_np == -999, 0, array_np)\n",
    "        array_np = np.where(array_np ==   -1, 0, array_np)\n",
    "        mini, maxi = np.quantile(array_np,0.01),np.quantile(array_np,0.99)\n",
    "        mini_, maxi_ = np.quantile(array_np,0.2),np.quantile(array_np,0.8)\n",
    "        return [mini, maxi], np.std(array_np[(array_np >= mini_) & (array_np <= maxi_)])\n",
    "    elif group=='vtx':\n",
    "        print(feature,group,candidate)\n",
    "        array_np = ak.to_numpy(df_vtx_clip[feature][:,candidate])\n",
    "        array_np = np.where(array_np == -999, 0, array_np)\n",
    "        array_np = np.where(array_np ==   -1, 0, array_np)\n",
    "        mini, maxi = np.quantile(array_np,0.01),np.quantile(array_np,0.99)\n",
    "        mini_, maxi_ = np.quantile(array_np,0.2),np.quantile(array_np,0.8)\n",
    "        return [mini, maxi], np.std(array_np[(array_np >= mini_) & (array_np <= maxi_)])\n",
    "    elif group=='cpf_pts':\n",
    "        print(feature,group,candidate)\n",
    "        array_np = ak.to_numpy(df_cpf_pts_clip[feature][:,candidate])\n",
    "        array_np = np.where(array_np == -999, 0, array_np)\n",
    "        array_np = np.where(array_np ==   -1, 0, array_np)\n",
    "        mini, maxi = np.quantile(array_np,0.01),np.quantile(array_np,0.99)\n",
    "        mini_, maxi_ = np.quantile(array_np,0.2),np.quantile(array_np,0.8)\n",
    "        return [mini, maxi], np.std(array_np[(array_np >= mini_) & (array_np <= maxi_)])\n",
    "    elif group=='npf_pts':\n",
    "        print(feature,group,candidate)\n",
    "        array_np = ak.to_numpy(df_npf_pts_clip[feature][:,candidate])\n",
    "        array_np = np.where(array_np == -999, 0, array_np)\n",
    "        array_np = np.where(array_np ==   -1, 0, array_np)\n",
    "        mini, maxi = np.quantile(array_np,0.01),np.quantile(array_np,0.99)\n",
    "        mini_, maxi_ = np.quantile(array_np,0.2),np.quantile(array_np,0.8)\n",
    "        return [mini, maxi], np.std(array_np[(array_np >= mini_) & (array_np <= maxi_)])\n",
    "    elif group=='vtx_pts':\n",
    "        print(feature,group,candidate)\n",
    "        array_np = ak.to_numpy(df_vtx_pts_clip[feature][:,candidate])\n",
    "        array_np = np.where(array_np == -999, 0, array_np)\n",
    "        array_np = np.where(array_np ==   -1, 0, array_np)\n",
    "        mini, maxi = np.quantile(array_np,0.01),np.quantile(array_np,0.99)\n",
    "        mini_, maxi_ = np.quantile(array_np,0.2),np.quantile(array_np,0.8)\n",
    "        return [mini, maxi], np.std(array_np[(array_np >= mini_) & (array_np <= maxi_)])"
   ]
  },
  {
   "cell_type": "code",
   "execution_count": 1006,
   "metadata": {},
   "outputs": [
    {
     "name": "stdout",
     "output_type": "stream",
     "text": [
      "jet_pt glob None\n",
      "([15.444969825744629, 1535.685830078128], 69.261475)\n"
     ]
    }
   ],
   "source": [
    "print(quantile_min_max('jet_pt','glob'))"
   ]
  },
  {
   "cell_type": "code",
   "execution_count": 1007,
   "metadata": {},
   "outputs": [
    {
     "name": "stdout",
     "output_type": "stream",
     "text": [
      "Cpfcan_BtagPf_trackEtaRel cpf 1\n",
      "([0.0, 6.157034592628479], 0.4810523)\n"
     ]
    }
   ],
   "source": [
    "print(quantile_min_max('Cpfcan_BtagPf_trackEtaRel','cpf',1))"
   ]
  },
  {
   "cell_type": "code",
   "execution_count": 1008,
   "metadata": {},
   "outputs": [],
   "source": [
    "global_epsilons = np.zeros(len(global_branches))"
   ]
  },
  {
   "cell_type": "code",
   "execution_count": 1009,
   "metadata": {},
   "outputs": [],
   "source": [
    "global_standardized_epsilons = np.zeros(len(global_branches))"
   ]
  },
  {
   "cell_type": "code",
   "execution_count": 1010,
   "metadata": {},
   "outputs": [],
   "source": [
    "global_ranges = np.zeros((len(global_branches),2))"
   ]
  },
  {
   "cell_type": "code",
   "execution_count": 1011,
   "metadata": {},
   "outputs": [
    {
     "name": "stdout",
     "output_type": "stream",
     "text": [
      "jet_pt glob None\n",
      "[15.444969825744629, 1535.685830078128] 760.1204301261916 69.261475\n",
      "jet_eta glob None\n",
      "[-2.391017284393311, 2.3943071389198307] 2.392662211656571 0.62393546\n",
      "nCpfcand glob None\n",
      "[1.0, 36.0] 17.5 2.8966672\n",
      "nNpfcand glob None\n",
      "[0.0, 20.0] 10.0 2.1228364\n",
      "nsv glob None\n",
      "[0.0, 4.0] 2.0 0.48071712\n",
      "npv glob None\n",
      "[9.0, 48.0] 19.5 4.1257358\n",
      "TagVarCSV_trackSumJetEtRatio glob None\n",
      "[0.0, 0.9856463485956193] 0.49282317429780964 0.10858201\n",
      "TagVarCSV_trackSumJetDeltaR glob None\n",
      "[0.0, 2.6554229521751425] 1.3277114760875712 0.015905594\n",
      "TagVarCSV_vertexCategory glob None\n",
      "[0.0, 2.0] 1.0 0.92754763\n",
      "TagVarCSV_trackSip2dValAboveCharm glob None\n",
      "[-0.014902344904839993, 0.036601562052965164] 0.02575195347890258 0.00093595526\n",
      "TagVarCSV_trackSip2dSigAboveCharm glob None\n",
      "[-2.80285924911499, 12.758635606765749] 7.780747427940369 0.35713342\n",
      "TagVarCSV_trackSip3dValAboveCharm glob None\n",
      "[-0.029931544382125138, 0.06389331802725803] 0.04691243120469159 0.0019247151\n",
      "TagVarCSV_trackSip3dSigAboveCharm glob None\n",
      "[-5.315430493354796, 18.9747463989258] 12.145088446140297 0.5853009\n",
      "TagVarCSV_jetNSelectedTracks glob None\n",
      "[0.0, 17.0] 8.5 1.5758711\n",
      "TagVarCSV_jetNTracksEtaRel glob None\n",
      "[0.0, 9.0] 4.5 1.0315641\n"
     ]
    }
   ],
   "source": [
    "for (i,key) in enumerate(global_branches):\n",
    "    range_inputs, standardized_epsilon = quantile_min_max(key,'glob')\n",
    "    scale_epsilon = (range_inputs[1] - range_inputs[0])/2\n",
    "    global_epsilons[i] = scale_epsilon\n",
    "    global_standardized_epsilons[i] = standardized_epsilon\n",
    "    global_ranges[i] = range_inputs\n",
    "    print(range_inputs, scale_epsilon, standardized_epsilon)"
   ]
  },
  {
   "cell_type": "code",
   "execution_count": 1012,
   "metadata": {},
   "outputs": [
    {
     "data": {
      "text/plain": [
       "array([[ 1.54449698e+01,  1.53568583e+03],\n",
       "       [-2.39101728e+00,  2.39430714e+00],\n",
       "       [ 1.00000000e+00,  3.60000000e+01],\n",
       "       [ 0.00000000e+00,  2.00000000e+01],\n",
       "       [ 0.00000000e+00,  4.00000000e+00],\n",
       "       [ 9.00000000e+00,  4.80000000e+01],\n",
       "       [ 0.00000000e+00,  9.85646349e-01],\n",
       "       [ 0.00000000e+00,  2.65542295e+00],\n",
       "       [ 0.00000000e+00,  2.00000000e+00],\n",
       "       [-1.49023449e-02,  3.66015621e-02],\n",
       "       [-2.80285925e+00,  1.27586356e+01],\n",
       "       [-2.99315444e-02,  6.38933180e-02],\n",
       "       [-5.31543049e+00,  1.89747464e+01],\n",
       "       [ 0.00000000e+00,  1.70000000e+01],\n",
       "       [ 0.00000000e+00,  9.00000000e+00]])"
      ]
     },
     "execution_count": 1012,
     "metadata": {},
     "output_type": "execute_result"
    }
   ],
   "source": [
    "global_ranges"
   ]
  },
  {
   "cell_type": "code",
   "execution_count": 1013,
   "metadata": {},
   "outputs": [],
   "source": [
    "cpf_epsilons = np.zeros((len(cpf_branches),25))"
   ]
  },
  {
   "cell_type": "code",
   "execution_count": 1014,
   "metadata": {},
   "outputs": [],
   "source": [
    "cpf_standardized_epsilons = np.zeros((len(cpf_branches),25))"
   ]
  },
  {
   "cell_type": "code",
   "execution_count": 1015,
   "metadata": {},
   "outputs": [],
   "source": [
    "cpf_ranges = np.zeros((len(cpf_branches),25, 2))"
   ]
  },
  {
   "cell_type": "code",
   "execution_count": 1016,
   "metadata": {
    "scrolled": true
   },
   "outputs": [
    {
     "name": "stdout",
     "output_type": "stream",
     "text": [
      "Cpfcan_BtagPf_trackEtaRel cpf 0\n",
      "[1.617732959985733, 6.018733162879943] 2.2005001014471053 0.44647524\n",
      "Cpfcan_BtagPf_trackEtaRel cpf 1\n",
      "[0.0, 6.157034592628479] 3.0785172963142395 0.4810523\n",
      "Cpfcan_BtagPf_trackEtaRel cpf 2\n",
      "[0.0, 6.215461888313294] 3.107730944156647 0.51979274\n",
      "Cpfcan_BtagPf_trackEtaRel cpf 3\n",
      "[0.0, 6.238176612854007] 3.1190883064270034 0.57858634\n",
      "Cpfcan_BtagPf_trackEtaRel cpf 4\n",
      "[0.0, 6.228550491333008] 3.114275245666504 0.98954326\n",
      "Cpfcan_BtagPf_trackEtaRel cpf 5\n",
      "[0.0, 6.211091284751893] 3.1055456423759464 1.3429741\n",
      "Cpfcan_BtagPf_trackEtaRel cpf 6\n",
      "[0.0, 6.171953864097597] 3.0859769320487986 1.4590832\n",
      "Cpfcan_BtagPf_trackEtaRel cpf 7\n",
      "[0.0, 6.1084881067276] 3.0542440533638 1.3531796\n",
      "Cpfcan_BtagPf_trackEtaRel cpf 8\n",
      "[0.0, 6.021909422874452] 3.010954711437226 1.207502\n",
      "Cpfcan_BtagPf_trackEtaRel cpf 9\n",
      "[0.0, 5.942981433868408] 2.971490716934204 1.0340873\n",
      "Cpfcan_BtagPf_trackEtaRel cpf 10\n",
      "[0.0, 5.858998770713807] 2.9294993853569036 0.8456317\n",
      "Cpfcan_BtagPf_trackEtaRel cpf 11\n",
      "[0.0, 5.746083106994632] 2.873041553497316 0.6426545\n",
      "Cpfcan_BtagPf_trackEtaRel cpf 12\n",
      "[0.0, 5.63433310031891] 2.817166550159455 0.4296756\n",
      "Cpfcan_BtagPf_trackEtaRel cpf 13\n",
      "[0.0, 5.54922287464142] 2.77461143732071 0.16783383\n",
      "Cpfcan_BtagPf_trackEtaRel cpf 14\n",
      "[0.0, 5.417152781486512] 2.708576390743256 0.0\n",
      "Cpfcan_BtagPf_trackEtaRel cpf 15\n",
      "[0.0, 5.301392374038697] 2.6506961870193484 0.0\n",
      "Cpfcan_BtagPf_trackEtaRel cpf 16\n",
      "[0.0, 5.177370591163636] 2.588685295581818 0.0\n",
      "Cpfcan_BtagPf_trackEtaRel cpf 17\n",
      "[0.0, 5.049820146560673] 2.5249100732803367 0.0\n",
      "Cpfcan_BtagPf_trackEtaRel cpf 18\n",
      "[0.0, 4.914595270156861] 2.4572976350784304 0.0\n",
      "Cpfcan_BtagPf_trackEtaRel cpf 19\n",
      "[0.0, 4.799545536041261] 2.3997727680206307 0.0\n",
      "Cpfcan_BtagPf_trackEtaRel cpf 20\n",
      "[0.0, 4.649228725433352] 2.324614362716676 0.0\n",
      "Cpfcan_BtagPf_trackEtaRel cpf 21\n",
      "[0.0, 4.514754881858827] 2.2573774409294134 0.0\n",
      "Cpfcan_BtagPf_trackEtaRel cpf 22\n",
      "[0.0, 4.3515206766128545] 2.1757603383064272 0.0\n",
      "Cpfcan_BtagPf_trackEtaRel cpf 23\n",
      "[0.0, 4.248172688484196] 2.124086344242098 0.0\n",
      "Cpfcan_BtagPf_trackEtaRel cpf 24\n",
      "[0.0, 4.125264558792118] 2.062632279396059 0.0\n",
      "Cpfcan_BtagPf_trackPtRel cpf 0\n",
      "[0.02937151830643416, 2.559685029983526] 1.265156755838546 0.121340685\n",
      "Cpfcan_BtagPf_trackPtRel cpf 1\n",
      "[0.0, 2.9236416649818446] 1.4618208324909223 0.12838456\n",
      "Cpfcan_BtagPf_trackPtRel cpf 2\n",
      "[0.0, 3.216256158351899] 1.6081280791759496 0.13607511\n",
      "Cpfcan_BtagPf_trackPtRel cpf 3\n",
      "[0.0, 3.3668664169311526] 1.6834332084655763 0.14652887\n",
      "Cpfcan_BtagPf_trackPtRel cpf 4\n",
      "[0.0, 3.445164153575898] 1.722582076787949 0.17253527\n",
      "Cpfcan_BtagPf_trackPtRel cpf 5\n",
      "[0.0, 3.4593458437919615] 1.7296729218959808 0.18740557\n",
      "Cpfcan_BtagPf_trackPtRel cpf 6\n",
      "[0.0, 3.439941987991337] 1.7199709939956684 0.17898035\n",
      "Cpfcan_BtagPf_trackPtRel cpf 7\n",
      "[0.0, 3.405655305385596] 1.702827652692798 0.15803222\n",
      "Cpfcan_BtagPf_trackPtRel cpf 8\n",
      "[0.0, 3.4111876392364513] 1.7055938196182256 0.13414466\n",
      "Cpfcan_BtagPf_trackPtRel cpf 9\n",
      "[0.0, 3.3277259445190444] 1.6638629722595222 0.10903073\n",
      "Cpfcan_BtagPf_trackPtRel cpf 10\n",
      "[0.0, 3.265944199562073] 1.6329720997810364 0.08166425\n",
      "Cpfcan_BtagPf_trackPtRel cpf 11\n",
      "[0.0, 3.1771202731132537] 1.5885601365566269 0.055026054\n",
      "Cpfcan_BtagPf_trackPtRel cpf 12\n",
      "[0.0, 3.1173703575134293] 1.5586851787567146 0.029941011\n",
      "Cpfcan_BtagPf_trackPtRel cpf 13\n",
      "[0.0, 2.9838914442062543] 1.4919457221031271 0.0059637357\n",
      "Cpfcan_BtagPf_trackPtRel cpf 14\n",
      "[0.0, 2.900592248439792] 1.450296124219896 0.0\n",
      "Cpfcan_BtagPf_trackPtRel cpf 15\n",
      "[0.0, 2.8274896359443695] 1.4137448179721848 0.0\n",
      "Cpfcan_BtagPf_trackPtRel cpf 16\n",
      "[0.0, 2.6729714035987864] 1.3364857017993932 0.0\n",
      "Cpfcan_BtagPf_trackPtRel cpf 17\n",
      "[0.0, 2.5642913222312966] 1.2821456611156483 0.0\n",
      "Cpfcan_BtagPf_trackPtRel cpf 18\n",
      "[0.0, 2.4392389035224924] 1.2196194517612462 0.0\n",
      "Cpfcan_BtagPf_trackPtRel cpf 19\n",
      "[0.0, 2.312170660495759] 1.1560853302478795 0.0\n",
      "Cpfcan_BtagPf_trackPtRel cpf 20\n",
      "[0.0, 2.1309625601768527] 1.0654812800884264 0.0\n",
      "Cpfcan_BtagPf_trackPtRel cpf 21\n",
      "[0.0, 1.9946322798728948] 0.9973161399364474 0.0\n",
      "Cpfcan_BtagPf_trackPtRel cpf 22\n",
      "[0.0, 1.8364348280429872] 0.9182174140214936 0.0\n",
      "Cpfcan_BtagPf_trackPtRel cpf 23\n",
      "[0.0, 1.7583078742027287] 0.8791539371013644 0.0\n",
      "Cpfcan_BtagPf_trackPtRel cpf 24\n",
      "[0.0, 1.6035878252983127] 0.8017939126491563 0.0\n",
      "Cpfcan_BtagPf_trackPPar cpf 0\n",
      "[0.9571044820547104, 128.06591278076172] 63.5544041493535 2.4878502\n",
      "Cpfcan_BtagPf_trackPPar cpf 1\n",
      "[0.0, 159.2433572387696] 79.6216786193848 3.1808085\n",
      "Cpfcan_BtagPf_trackPPar cpf 2\n",
      "[0.0, 178.9041775512699] 89.45208877563495 3.501871\n",
      "Cpfcan_BtagPf_trackPPar cpf 3\n",
      "[0.0, 185.30278060913105] 92.65139030456552 3.507223\n",
      "Cpfcan_BtagPf_trackPPar cpf 4\n",
      "[0.0, 181.7808851623535] 90.89044258117676 3.5387654\n",
      "Cpfcan_BtagPf_trackPPar cpf 5\n",
      "[0.0, 178.50740554809593] 89.25370277404797 3.404428\n",
      "Cpfcan_BtagPf_trackPPar cpf 6\n",
      "[0.0, 173.20462387084967] 86.60231193542484 2.9250147\n",
      "Cpfcan_BtagPf_trackPPar cpf 7\n",
      "[0.0, 162.6618775939943] 81.33093879699715 2.4325757\n",
      "Cpfcan_BtagPf_trackPPar cpf 8\n",
      "[0.0, 152.2463385009766] 76.1231692504883 1.9486556\n",
      "Cpfcan_BtagPf_trackPPar cpf 9\n",
      "[0.0, 143.16838195800818] 71.58419097900409 1.4834925\n",
      "Cpfcan_BtagPf_trackPPar cpf 10\n",
      "[0.0, 135.0498641967774] 67.5249320983887 1.0473715\n",
      "Cpfcan_BtagPf_trackPPar cpf 11\n",
      "[0.0, 121.91865623474123] 60.95932811737062 0.6770203\n",
      "Cpfcan_BtagPf_trackPPar cpf 12\n",
      "[0.0, 110.12088653564496] 55.06044326782248 0.37314665\n",
      "Cpfcan_BtagPf_trackPPar cpf 13\n",
      "[0.0, 103.15721595764171] 51.578607978820855 0.11201226\n",
      "Cpfcan_BtagPf_trackPPar cpf 14\n",
      "[0.0, 92.35629638671877] 46.178148193359384 0.0\n",
      "Cpfcan_BtagPf_trackPPar cpf 15\n",
      "[0.0, 85.55134841918954] 42.77567420959477 0.0\n",
      "Cpfcan_BtagPf_trackPPar cpf 16\n",
      "[0.0, 74.18383453369155] 37.091917266845776 0.0\n",
      "Cpfcan_BtagPf_trackPPar cpf 17\n",
      "[0.0, 68.21488708496098] 34.10744354248049 0.0\n",
      "Cpfcan_BtagPf_trackPPar cpf 18\n",
      "[0.0, 59.78504230499282] 29.89252115249641 0.0\n",
      "Cpfcan_BtagPf_trackPPar cpf 19\n",
      "[0.0, 55.064907379150405] 27.532453689575203 0.0\n",
      "Cpfcan_BtagPf_trackPPar cpf 20\n",
      "[0.0, 47.10596092224128] 23.55298046112064 0.0\n",
      "Cpfcan_BtagPf_trackPPar cpf 21\n",
      "[0.0, 41.5885177230835] 20.79425886154175 0.0\n",
      "Cpfcan_BtagPf_trackPPar cpf 22\n",
      "[0.0, 36.537901344299314] 18.268950672149657 0.0\n",
      "Cpfcan_BtagPf_trackPPar cpf 23\n",
      "[0.0, 33.0915209960938] 16.5457604980469 0.0\n",
      "Cpfcan_BtagPf_trackPPar cpf 24\n",
      "[0.0, 28.939395313262946] 14.469697656631473 0.0\n",
      "Cpfcan_BtagPf_trackDeltaR cpf 0\n",
      "[0.0032259083865210417, 0.39009863644838333] 0.19343636403093115 0.06160381\n",
      "Cpfcan_BtagPf_trackDeltaR cpf 1\n",
      "[0.0, 0.3834324818849564] 0.1917162409424782 0.057847377\n",
      "Cpfcan_BtagPf_trackDeltaR cpf 2\n",
      "[0.0, 0.3809736764431] 0.19048683822155 0.057000894\n",
      "Cpfcan_BtagPf_trackDeltaR cpf 3\n",
      "[0.0, 0.37986349284648896] 0.18993174642324448 0.05770118\n",
      "Cpfcan_BtagPf_trackDeltaR cpf 4\n",
      "[0.0, 0.37879931360483177] 0.18939965680241588 0.058020715\n",
      "Cpfcan_BtagPf_trackDeltaR cpf 5\n",
      "[0.0, 0.3774126052856446] 0.1887063026428223 0.05431517\n",
      "Cpfcan_BtagPf_trackDeltaR cpf 6\n",
      "[0.0, 0.3754603111743929] 0.18773015558719644 0.0442814\n",
      "Cpfcan_BtagPf_trackDeltaR cpf 7\n",
      "[0.0, 0.3736580857634545] 0.18682904288172725 0.035092615\n",
      "Cpfcan_BtagPf_trackDeltaR cpf 8\n",
      "[0.0, 0.3711132010817528] 0.1855566005408764 0.026317187\n",
      "Cpfcan_BtagPf_trackDeltaR cpf 9\n",
      "[0.0, 0.3673465019464493] 0.18367325097322465 0.018754454\n",
      "Cpfcan_BtagPf_trackDeltaR cpf 10\n",
      "[0.0, 0.3630732220411304] 0.1815366110205652 0.012173044\n",
      "Cpfcan_BtagPf_trackDeltaR cpf 11\n",
      "[0.0, 0.35781367450952545] 0.17890683725476272 0.007169344\n",
      "Cpfcan_BtagPf_trackDeltaR cpf 12\n",
      "[0.0, 0.3538285779953003] 0.17691428899765016 0.0032867582\n",
      "Cpfcan_BtagPf_trackDeltaR cpf 13\n",
      "[0.0, 0.3470459175109865] 0.17352295875549326 0.0005418483\n",
      "Cpfcan_BtagPf_trackDeltaR cpf 14\n",
      "[0.0, 0.34183947801589964] 0.17091973900794982 0.0\n",
      "Cpfcan_BtagPf_trackDeltaR cpf 15\n",
      "[0.0, 0.3314684540033342] 0.1657342270016671 0.0\n",
      "Cpfcan_BtagPf_trackDeltaR cpf 16\n",
      "[0.0, 0.3243446934223177] 0.16217234671115885 0.0\n",
      "Cpfcan_BtagPf_trackDeltaR cpf 17\n",
      "[0.0, 0.3142339932918551] 0.15711699664592754 0.0\n",
      "Cpfcan_BtagPf_trackDeltaR cpf 18\n",
      "[0.0, 0.30681794017553343] 0.15340897008776672 0.0\n",
      "Cpfcan_BtagPf_trackDeltaR cpf 19\n",
      "[0.0, 0.2931206569075588] 0.1465603284537794 0.0\n",
      "Cpfcan_BtagPf_trackDeltaR cpf 20\n",
      "[0.0, 0.28272815555334196] 0.14136407777667098 0.0\n",
      "Cpfcan_BtagPf_trackDeltaR cpf 21\n",
      "[0.0, 0.27215447902679446] 0.13607723951339723 0.0\n",
      "Cpfcan_BtagPf_trackDeltaR cpf 22\n",
      "[0.0, 0.2586247941851616] 0.1293123970925808 0.0\n",
      "Cpfcan_BtagPf_trackDeltaR cpf 23\n",
      "[0.0, 0.24371416896581657] 0.12185708448290829 0.0\n",
      "Cpfcan_BtagPf_trackDeltaR cpf 24\n",
      "[0.0, 0.22896617814898532] 0.11448308907449266 0.0\n",
      "Cpfcan_BtagPf_trackPParRatio cpf 0\n",
      "[0.929274777173996, 0.999993622303009] 0.035359422564506526 0.0046413974\n",
      "Cpfcan_BtagPf_trackPParRatio cpf 1\n",
      "[0.0, 0.9999953508377075] 0.49999767541885376 0.0038476964\n",
      "Cpfcan_BtagPf_trackPParRatio cpf 2\n",
      "[0.0, 0.9999957084655762] 0.4999978542327881 0.0045421016\n",
      "Cpfcan_BtagPf_trackPParRatio cpf 3\n",
      "[0.0, 0.9999958276748657] 0.49999791383743286 0.0076705995\n",
      "Cpfcan_BtagPf_trackPParRatio cpf 4\n",
      "[0.0, 0.999995768070221] 0.4999978840351105 0.2628975\n",
      "Cpfcan_BtagPf_trackPParRatio cpf 5\n",
      "[0.0, 0.9999955892562866] 0.4999977946281433 0.42221683\n",
      "Cpfcan_BtagPf_trackPParRatio cpf 6\n",
      "[0.0, 0.9999951124191284] 0.4999975562095642 0.49251708\n",
      "Cpfcan_BtagPf_trackPParRatio cpf 7\n",
      "[0.0, 0.9999942779541016] 0.4999971389770508 0.4737786\n",
      "Cpfcan_BtagPf_trackPParRatio cpf 8\n",
      "[0.0, 0.9999931454658508] 0.4999965727329254 0.43989018\n",
      "Cpfcan_BtagPf_trackPParRatio cpf 9\n",
      "[0.0, 0.9999916553497314] 0.4999958276748657 0.3954048\n",
      "Cpfcan_BtagPf_trackPParRatio cpf 10\n",
      "[0.0, 0.9999899864196777] 0.49999499320983887 0.34143788\n",
      "Cpfcan_BtagPf_trackPParRatio cpf 11\n",
      "[0.0, 0.9999871850013733] 0.49999359250068665 0.27832142\n",
      "Cpfcan_BtagPf_trackPParRatio cpf 12\n",
      "[0.0, 0.9999837285280228] 0.4999918642640114 0.20301542\n",
      "Cpfcan_BtagPf_trackPParRatio cpf 13\n",
      "[0.0, 0.9999805092811584] 0.4999902546405792 0.09063816\n",
      "Cpfcan_BtagPf_trackPParRatio cpf 14\n",
      "[0.0, 0.9999741917848587] 0.49998709589242935 0.0\n",
      "Cpfcan_BtagPf_trackPParRatio cpf 15\n",
      "[0.0, 0.9999665021896362] 0.4999832510948181 0.0\n",
      "Cpfcan_BtagPf_trackPParRatio cpf 16\n",
      "[0.0, 0.9999567276239395] 0.49997836381196975 0.0\n",
      "Cpfcan_BtagPf_trackPParRatio cpf 17\n",
      "[0.0, 0.9999436736106873] 0.49997183680534363 0.0\n",
      "Cpfcan_BtagPf_trackPParRatio cpf 18\n",
      "[0.0, 0.9999225741624832] 0.4999612870812416 0.0\n",
      "Cpfcan_BtagPf_trackPParRatio cpf 19\n",
      "[0.0, 0.999903678894043] 0.4999518394470215 0.0\n",
      "Cpfcan_BtagPf_trackPParRatio cpf 20\n",
      "[0.0, 0.9998682749271393] 0.49993413746356963 0.0\n",
      "Cpfcan_BtagPf_trackPParRatio cpf 21\n",
      "[0.0, 0.9998240476846695] 0.49991202384233474 0.0\n",
      "Cpfcan_BtagPf_trackPParRatio cpf 22\n",
      "[0.0, 0.9997527605295181] 0.49987638026475906 0.0\n",
      "Cpfcan_BtagPf_trackPParRatio cpf 23\n",
      "[0.0, 0.9996935737133027] 0.49984678685665135 0.0\n",
      "Cpfcan_BtagPf_trackPParRatio cpf 24\n",
      "[0.0, 0.9995949882268905] 0.49979749411344526 0.0\n",
      "Cpfcan_BtagPf_trackSip2dVal cpf 0\n",
      "[-0.003486353610642254, 13.151061820983887] 6.577274087297265 0.7848183\n",
      "Cpfcan_BtagPf_trackSip2dVal cpf 1\n",
      "[-0.015801219604909416, 8.833538837432865] 4.424670028518888 0.08355598\n",
      "Cpfcan_BtagPf_trackSip2dVal cpf 2\n",
      "[-0.05000008966773748, 6.073949880599981] 3.061974985133859 0.0056645395\n",
      "Cpfcan_BtagPf_trackSip2dVal cpf 3\n",
      "[-0.11656477257609366, 4.096870656013496] 2.1067177142947946 0.0019770036\n",
      "Cpfcan_BtagPf_trackSip2dVal cpf 4\n",
      "[-0.16059794038534164, 2.4805588078498864] 1.320578374117614 0.0010737181\n",
      "Cpfcan_BtagPf_trackSip2dVal cpf 5\n",
      "[-0.17828150302171705, 1.2654886531829834] 0.7218850781023503 0.00058953936\n",
      "Cpfcan_BtagPf_trackSip2dVal cpf 6\n",
      "[-0.15963966235518454, 0.4885908323526427] 0.3241152473539136 0.00028534306\n",
      "Cpfcan_BtagPf_trackSip2dVal cpf 7\n",
      "[-0.14991119131445885, 0.12500063985586227] 0.13745591558516057 0.0001200273\n",
      "Cpfcan_BtagPf_trackSip2dVal cpf 8\n",
      "[-0.12239700339734554, 0.0333613010123373] 0.07787915220484141 5.3845746e-05\n",
      "Cpfcan_BtagPf_trackSip2dVal cpf 9\n",
      "[-0.10205458253622052, 0.013170719807967572] 0.05761265117209405 1.1331956e-05\n",
      "Cpfcan_BtagPf_trackSip2dVal cpf 10\n",
      "[-0.07964843511581421, 0.007651366768404841] 0.04364990094210953 0.0\n",
      "Cpfcan_BtagPf_trackSip2dVal cpf 11\n",
      "[-0.06519591882824896, 0.005156249743886292] 0.035176084286067624 0.0\n",
      "Cpfcan_BtagPf_trackSip2dVal cpf 12\n",
      "[-0.0546875, 0.003747582414653175] 0.029217541207326586 0.0\n",
      "Cpfcan_BtagPf_trackSip2dVal cpf 13\n",
      "[-0.04449218887835742, 0.0028613293566741053] 0.02367675911751576 0.0\n",
      "Cpfcan_BtagPf_trackSip2dVal cpf 14\n",
      "[-0.038101998791098594, 0.002191161506343633] 0.020146580148721113 0.0\n",
      "Cpfcan_BtagPf_trackSip2dVal cpf 15\n",
      "[-0.029701952598988998, 0.0016125496511813252] 0.01565725112508516 0.0\n",
      "Cpfcan_BtagPf_trackSip2dVal cpf 16\n",
      "[-0.02523699885234236, 0.0011956769961398096] 0.013216337924241085 0.0\n",
      "Cpfcan_BtagPf_trackSip2dVal cpf 17\n",
      "[-0.022285155970603227, 0.0008648664894280954] 0.01157501123001566 0.0\n",
      "Cpfcan_BtagPf_trackSip2dVal cpf 18\n",
      "[-0.018886718899011612, 0.0005468782264506472] 0.00971679856273113 0.0\n",
      "Cpfcan_BtagPf_trackSip2dVal cpf 19\n",
      "[-0.01629397233948111, 0.00028182826383272186] 0.008287900301656916 0.0\n",
      "Cpfcan_BtagPf_trackSip2dVal cpf 20\n",
      "[-0.013843288999050855, 5.195889145398136e-05] 0.006947623945252418 0.0\n",
      "Cpfcan_BtagPf_trackSip2dVal cpf 21\n",
      "[-0.012031249711290002, 2.7914567459880984e-40] 0.006015624855645001 0.0\n",
      "Cpfcan_BtagPf_trackSip2dVal cpf 22\n",
      "[-0.010566405029967427, 2.7795877479952672e-40] 0.0052832025149837135 0.0\n",
      "Cpfcan_BtagPf_trackSip2dVal cpf 23\n",
      "[-0.009174902783706782, 2.7715302818253995e-40] 0.004587451391853391 0.0\n",
      "Cpfcan_BtagPf_trackSip2dVal cpf 24\n",
      "[-0.007944385902956127, 2.764509776519132e-40] 0.003972192951478063 0.0\n",
      "Cpfcan_BtagPf_trackSip2dSig cpf 0\n",
      "[-0.4141798198223114, 228.03236968994162] 114.22327475488197 14.572088\n",
      "Cpfcan_BtagPf_trackSip2dSig cpf 1\n",
      "[-0.7437327665090561, 92.25172363281258] 46.49772819966082 4.9297295\n",
      "Cpfcan_BtagPf_trackSip2dSig cpf 2\n",
      "[-0.859304204583168, 59.09628662109377] 29.977795412838468 1.1804959\n",
      "Cpfcan_BtagPf_trackSip2dSig cpf 3\n",
      "[-0.8953071570396424, 41.35858291625979] 21.126945036649715 0.5251375\n",
      "Cpfcan_BtagPf_trackSip2dSig cpf 4\n",
      "[-0.9127939516305923, 30.048440513610874] 15.480617232620734 0.3265782\n",
      "Cpfcan_BtagPf_trackSip2dSig cpf 5\n",
      "[-0.9149515056610107, 21.270456733703632] 11.092704119682322 0.18728365\n",
      "Cpfcan_BtagPf_trackSip2dSig cpf 6\n",
      "[-0.9110675740242005, 14.420821418762225] 7.665944496393212 0.08426337\n",
      "Cpfcan_BtagPf_trackSip2dSig cpf 7\n",
      "[-0.9062101137638091, 8.897338590621976] 4.901774352192892 0.017661327\n",
      "Cpfcan_BtagPf_trackSip2dSig cpf 8\n",
      "[-0.8991688054800033, 4.794856858253484] 2.8470128318667434 0.0\n",
      "Cpfcan_BtagPf_trackSip2dSig cpf 9\n",
      "[-0.8909230655431747, 2.5261505699157727] 1.7085368177294737 0.0\n",
      "Cpfcan_BtagPf_trackSip2dSig cpf 10\n",
      "[-0.8791333764791488, 1.6892494571208974] 1.284191416800023 0.0\n",
      "Cpfcan_BtagPf_trackSip2dSig cpf 11\n",
      "[-0.8702252632379531, 1.3121004033088686] 1.091162833273411 0.0\n",
      "Cpfcan_BtagPf_trackSip2dSig cpf 12\n",
      "[-0.8557380270957946, 1.0656320369243648] 0.9606850320100797 0.0\n",
      "Cpfcan_BtagPf_trackSip2dSig cpf 13\n",
      "[-0.8429388278722764, 0.8794443982839593] 0.8611916130781179 0.0\n",
      "Cpfcan_BtagPf_trackSip2dSig cpf 14\n",
      "[-0.8310280734300614, 0.7172496300935766] 0.774138851761819 0.0\n",
      "Cpfcan_BtagPf_trackSip2dSig cpf 15\n",
      "[-0.8178300714492798, 0.5818901002407086] 0.6998600858449942 0.0\n",
      "Cpfcan_BtagPf_trackSip2dSig cpf 16\n",
      "[-0.8024324661493302, 0.4566514277458195] 0.6295419469475748 0.0\n",
      "Cpfcan_BtagPf_trackSip2dSig cpf 17\n",
      "[-0.7854999911785125, 0.3431802344322225] 0.5643401128053676 0.0\n",
      "Cpfcan_BtagPf_trackSip2dSig cpf 18\n",
      "[-0.7633206605911255, 0.23078777208924484] 0.49705421634018515 0.0\n",
      "Cpfcan_BtagPf_trackSip2dSig cpf 19\n",
      "[-0.7386620169878005, 0.12783575177192713] 0.43324888437986386 0.0\n",
      "Cpfcan_BtagPf_trackSip2dSig cpf 20\n",
      "[-0.7109907913208008, 0.02281189363449882] 0.36690134247764983 0.0\n",
      "Cpfcan_BtagPf_trackSip2dSig cpf 21\n",
      "[-0.6889812469482421, 2.791428720018812e-40] 0.34449062347412107 0.0\n",
      "Cpfcan_BtagPf_trackSip2dSig cpf 22\n",
      "[-0.6501495909690856, 2.779573735010624e-40] 0.3250747954845428 0.0\n",
      "Cpfcan_BtagPf_trackSip2dSig cpf 23\n",
      "[-0.6095353585481643, 2.7714883830013163e-40] 0.30476767927408216 0.0\n",
      "Cpfcan_BtagPf_trackSip2dSig cpf 24\n",
      "[-0.5465379428863525, 2.764495763534489e-40] 0.27326897144317625 0.0\n",
      "Cpfcan_BtagPf_trackSip3dVal cpf 0\n",
      "[-0.40021313428878785, 19.32727245330812] 9.863742793798453 1.0940772\n",
      "Cpfcan_BtagPf_trackSip3dVal cpf 1\n",
      "[-0.3759175997972488, 13.863690118789682] 7.119803859293466 0.16975142\n",
      "Cpfcan_BtagPf_trackSip3dVal cpf 2\n",
      "[-0.31523053318262095, 11.052560825347916] 5.683895679265269 0.010317102\n",
      "Cpfcan_BtagPf_trackSip3dVal cpf 3\n",
      "[-0.27807497054338454, 8.98720344543458] 4.632639207988983 0.0035037803\n",
      "Cpfcan_BtagPf_trackSip3dVal cpf 4\n",
      "[-0.23746217057108876, 7.113326025009164] 3.6753940977901265 0.0021864667\n",
      "Cpfcan_BtagPf_trackSip3dVal cpf 5\n",
      "[-0.1799723851680755, 5.622293834686281] 2.901133109927178 0.0013998342\n",
      "Cpfcan_BtagPf_trackSip3dVal cpf 6\n",
      "[-0.12193684421479702, 4.299806876182559] 2.210871860198678 0.000812319\n",
      "Cpfcan_BtagPf_trackSip3dVal cpf 7\n",
      "[-0.08457749180495736, 3.24780509710313] 1.6661912944540438 0.00037604535\n",
      "Cpfcan_BtagPf_trackSip3dVal cpf 8\n",
      "[-0.05361687790602446, 2.3192650032043485] 1.1864409405551866 3.5179106e-05\n",
      "Cpfcan_BtagPf_trackSip3dVal cpf 9\n",
      "[-0.03920163325965404, 1.6166266644001022] 0.8279141488298781 0.0\n",
      "Cpfcan_BtagPf_trackSip3dVal cpf 10\n",
      "[-0.03364522214978933, 0.9997158068418581] 0.5166805144958238 0.0\n",
      "Cpfcan_BtagPf_trackSip3dVal cpf 11\n",
      "[-0.027583672720938923, 0.5302181524038327] 0.2789009125623858 0.0\n",
      "Cpfcan_BtagPf_trackSip3dVal cpf 12\n",
      "[-0.02411009006202221, 0.2714105060696622] 0.1477602980658422 0.0\n",
      "Cpfcan_BtagPf_trackSip3dVal cpf 13\n",
      "[-0.021064048390835522, 0.09962186977267284] 0.06034295908175418 0.0\n",
      "Cpfcan_BtagPf_trackSip3dVal cpf 14\n",
      "[-0.018911114446818828, 0.04328988339752016] 0.03110049892216949 0.0\n",
      "Cpfcan_BtagPf_trackSip3dVal cpf 15\n",
      "[-0.01693100435659289, 0.02141442030668267] 0.01917271233163778 0.0\n",
      "Cpfcan_BtagPf_trackSip3dVal cpf 16\n",
      "[-0.015085191354155538, 0.01734779015183451] 0.016216490752995024 0.0\n",
      "Cpfcan_BtagPf_trackSip3dVal cpf 17\n",
      "[-0.014022846492007374, 0.01283527250401678] 0.013429059498012076 0.0\n",
      "Cpfcan_BtagPf_trackSip3dVal cpf 18\n",
      "[-0.012532729133963584, 0.010932470150291928] 0.011732599642127757 0.0\n",
      "Cpfcan_BtagPf_trackSip3dVal cpf 19\n",
      "[-0.01158826663158834, 0.008681614911183725] 0.010134940771386033 0.0\n",
      "Cpfcan_BtagPf_trackSip3dVal cpf 20\n",
      "[-0.010480117015540599, 0.007591673228889738] 0.009035895122215169 0.0\n",
      "Cpfcan_BtagPf_trackSip3dVal cpf 21\n",
      "[-0.009370482675731182, 0.00646561348810795] 0.007918048081919565 0.0\n",
      "Cpfcan_BtagPf_trackSip3dVal cpf 22\n",
      "[-0.008770852917805314, 0.005450051077641561] 0.007110451997723437 0.0\n",
      "Cpfcan_BtagPf_trackSip3dVal cpf 23\n",
      "[-0.007996705826371908, 0.00449724272824827] 0.006246974277310089 0.0\n",
      "Cpfcan_BtagPf_trackSip3dVal cpf 24\n",
      "[-0.00725264127831906, 0.0037844837107695673] 0.005518562494544314 0.0\n",
      "Cpfcan_BtagPf_trackSip3dSig cpf 0\n",
      "[-0.7390052378177643, 484.1550991821294] 242.44705220997358 14.476143\n",
      "Cpfcan_BtagPf_trackSip3dSig cpf 1\n",
      "[-0.8885571604967116, 329.58058227539084] 165.23456971794377 5.0957727\n",
      "Cpfcan_BtagPf_trackSip3dSig cpf 2\n",
      "[-0.9241470313072205, 255.65236465454254] 128.28825584292488 1.6072992\n",
      "Cpfcan_BtagPf_trackSip3dSig cpf 3\n",
      "[-0.9351314055919647, 201.2867852783208] 101.11095834195638 0.7331644\n",
      "Cpfcan_BtagPf_trackSip3dSig cpf 4\n",
      "[-0.9384813135862351, 156.61042892456075] 78.7744551190735 0.5008918\n",
      "Cpfcan_BtagPf_trackSip3dSig cpf 5\n",
      "[-0.9354759460687637, 118.25573791503935] 59.595606930554055 0.3463568\n",
      "Cpfcan_BtagPf_trackSip3dSig cpf 6\n",
      "[-0.9299528467655183, 81.1450048828131] 41.03747886478931 0.21546455\n",
      "Cpfcan_BtagPf_trackSip3dSig cpf 7\n",
      "[-0.9223200523853302, 57.09788799285889] 29.01010402262211 0.10498215\n",
      "Cpfcan_BtagPf_trackSip3dSig cpf 8\n",
      "[-0.9153839629888534, 43.67595062255861] 22.295667292773732 0.009014668\n",
      "Cpfcan_BtagPf_trackSip3dSig cpf 9\n",
      "[-0.9051900261640549, 30.612350788116586] 15.75877040714032 0.0\n",
      "Cpfcan_BtagPf_trackSip3dSig cpf 10\n",
      "[-0.892110634446144, 21.642033195495724] 11.267071914970934 0.0\n",
      "Cpfcan_BtagPf_trackSip3dSig cpf 11\n",
      "[-0.8791242653131486, 15.00570348739633] 7.942413876354739 0.0\n",
      "Cpfcan_BtagPf_trackSip3dSig cpf 12\n",
      "[-0.8632584655284882, 11.356498041153037] 6.109878253340763 0.0\n",
      "Cpfcan_BtagPf_trackSip3dSig cpf 13\n",
      "[-0.8454514122009277, 8.183910722732547] 4.5146810674667375 0.0\n",
      "Cpfcan_BtagPf_trackSip3dSig cpf 14\n",
      "[-0.8312994593381882, 5.8856968402862835] 3.358498149812236 0.0\n",
      "Cpfcan_BtagPf_trackSip3dSig cpf 15\n",
      "[-0.8111420959234238, 4.31164400100713] 2.561393048465277 0.0\n",
      "Cpfcan_BtagPf_trackSip3dSig cpf 16\n",
      "[-0.7878231465816498, 3.681654441356684] 2.234738793969167 0.0\n",
      "Cpfcan_BtagPf_trackSip3dSig cpf 17\n",
      "[-0.7555997210741043, 2.9339369082450997] 1.8447683146596021 0.0\n",
      "Cpfcan_BtagPf_trackSip3dSig cpf 18\n",
      "[-0.7238385480642319, 2.5086298704147443] 1.6162342092394881 0.0\n",
      "Cpfcan_BtagPf_trackSip3dSig cpf 19\n",
      "[-0.6810394662618636, 2.098074915409098] 1.3895571908354807 0.0\n",
      "Cpfcan_BtagPf_trackSip3dSig cpf 20\n",
      "[-0.6332601344585419, 1.9176255309581776] 1.2754428327083598 0.0\n",
      "Cpfcan_BtagPf_trackSip3dSig cpf 21\n",
      "[-0.589138839840889, 1.7250153839588196] 1.1570771118998544 0.0\n",
      "Cpfcan_BtagPf_trackSip3dSig cpf 22\n",
      "[-0.5085268300771713, 1.521096490621569] 1.0148116603493702 0.0\n",
      "Cpfcan_BtagPf_trackSip3dSig cpf 23\n",
      "[-0.38117291063070297, 1.3392546045780271] 0.860213757604365 0.0\n",
      "Cpfcan_BtagPf_trackSip3dSig cpf 24\n",
      "[-0.07670897267758789, 1.163664636611941] 0.6201868046447644 0.0\n",
      "Cpfcan_BtagPf_trackJetDistVal cpf 0\n",
      "[-12.665345048904419, -5.068534053862092e-05] 6.33264718178194 0.36976975\n",
      "Cpfcan_BtagPf_trackJetDistVal cpf 1\n",
      "[-7.584093427658081, 9.394603731731107e-39] 3.7920467138290403 0.081533834\n",
      "Cpfcan_BtagPf_trackJetDistVal cpf 2\n",
      "[-6.074420413970946, 1.1638633984060841e-38] 3.037210206985473 0.008804293\n",
      "Cpfcan_BtagPf_trackJetDistVal cpf 3\n",
      "[-5.309810500144959, 1.202184917704744e-38] 2.6549052500724795 0.0030454262\n",
      "Cpfcan_BtagPf_trackJetDistVal cpf 4\n",
      "[-4.7642763376235955, 1.1719695947300481e-38] 2.3821381688117977 0.0020995073\n",
      "Cpfcan_BtagPf_trackJetDistVal cpf 5\n",
      "[-4.16494544506073, 3.805112670880215e-39] 2.082472722530365 0.0016134527\n",
      "Cpfcan_BtagPf_trackJetDistVal cpf 6\n",
      "[-3.617592041492462, 4.4720386045248e-39] 1.808796020746231 0.0012505298\n",
      "Cpfcan_BtagPf_trackJetDistVal cpf 7\n",
      "[-2.9968293476104737, 5.0911658411747105e-39] 1.4984146738052369 0.0009641831\n",
      "Cpfcan_BtagPf_trackJetDistVal cpf 8\n",
      "[-2.606054215431213, 5.087187246548828e-39] 1.3030271077156066 0.00071071374\n",
      "Cpfcan_BtagPf_trackJetDistVal cpf 9\n",
      "[-2.1340846872329706, 5.080292437714812e-39] 1.0670423436164853 0.00050516095\n",
      "Cpfcan_BtagPf_trackJetDistVal cpf 10\n",
      "[-1.750098178386688, 5.062217467174072e-39] 0.875049089193344 0.00032884788\n",
      "Cpfcan_BtagPf_trackJetDistVal cpf 11\n",
      "[-1.4159526109695433, 5.0425488279158236e-39] 0.7079763054847716 0.00018829788\n",
      "Cpfcan_BtagPf_trackJetDistVal cpf 12\n",
      "[-1.149011300802231, 3.392725891060591e-40] 0.5745056504011155 7.933135e-05\n",
      "Cpfcan_BtagPf_trackJetDistVal cpf 13\n",
      "[-0.8784162473678586, 3.3127397747169304e-40] 0.4392081236839293 8.333871e-06\n",
      "Cpfcan_BtagPf_trackJetDistVal cpf 14\n",
      "[-0.6419077491760252, 3.243333461778922e-40] 0.3209538745880126 0.0\n",
      "Cpfcan_BtagPf_trackJetDistVal cpf 15\n",
      "[-0.47560226500034275, 2.7352786905533165e-40] 0.23780113250017137 0.0\n",
      "Cpfcan_BtagPf_trackJetDistVal cpf 16\n",
      "[-0.3450635802745819, 2.7367500539408576e-40] 0.17253179013729095 0.0\n",
      "Cpfcan_BtagPf_trackJetDistVal cpf 17\n",
      "[-0.2450679256021974, 2.7381093134512526e-40] 0.1225339628010987 0.0\n",
      "Cpfcan_BtagPf_trackJetDistVal cpf 18\n",
      "[-0.14236684322357157, 2.739426534007718e-40] 0.07118342161178579 0.0\n",
      "Cpfcan_BtagPf_trackJetDistVal cpf 19\n",
      "[-0.08240903295576571, 2.740351531124019e-40] 0.041204516477882855 0.0\n",
      "Cpfcan_BtagPf_trackJetDistVal cpf 20\n",
      "[-0.053568543456494803, 2.741150271248684e-40] 0.026784271728247402 0.0\n",
      "Cpfcan_BtagPf_trackJetDistVal cpf 21\n",
      "[-0.03662517055869102, 2.7420049231820756e-40] 0.01831258527934551 0.0\n",
      "Cpfcan_BtagPf_trackJetDistVal cpf 22\n",
      "[-0.02597076976671815, 2.7425514295831623e-40] 0.012985384883359074 0.0\n",
      "Cpfcan_BtagPf_trackJetDistVal cpf 23\n",
      "[-0.017605249453335997, 2.743097935984249e-40] 0.008802624726667999 0.0\n",
      "Cpfcan_BtagPf_trackJetDistVal cpf 24\n",
      "[-0.013356318725273004, 2.743728520293195e-40] 0.006678159362636502 0.0\n",
      "Cpfcan_ptrel cpf 0\n",
      "[-0.998760581612587, -0.08249000608920927] 0.4581352877616888 0.028815832\n",
      "Cpfcan_ptrel cpf 1\n",
      "[-0.9987018716335297, 9.394603731731107e-39] 0.4993509358167649 0.03617938\n",
      "Cpfcan_ptrel cpf 2\n",
      "[-0.9986545461416244, 1.1638633984060841e-38] 0.4993272730708122 0.04161374\n",
      "Cpfcan_ptrel cpf 3\n",
      "[-0.9985879069566727, 1.202184917704744e-38] 0.4992939534783363 0.054621257\n",
      "Cpfcan_ptrel cpf 4\n",
      "[-0.9985240715742111, 1.1719695947300481e-38] 0.49926203578710554 0.35883427\n",
      "Cpfcan_ptrel cpf 5\n",
      "[-0.9984894412755966, 3.805112670880215e-39] 0.4992447206377983 0.41292548\n",
      "Cpfcan_ptrel cpf 6\n",
      "[-0.9984473603963853, 4.4720386045248e-39] 0.49922368019819263 0.45159003\n",
      "Cpfcan_ptrel cpf 7\n",
      "[-0.9984263187646866, 5.0911658411747105e-39] 0.4992131593823433 0.4625837\n",
      "Cpfcan_ptrel cpf 8\n",
      "[-0.9983999747037887, 5.087187246548828e-39] 0.49919998735189436 0.44535536\n",
      "Cpfcan_ptrel cpf 9\n",
      "[-0.9983606344461441, 5.080292437714812e-39] 0.49918031722307205 0.40910763\n",
      "Cpfcan_ptrel cpf 10\n",
      "[-0.9983393651247024, 5.062217467174072e-39] 0.4991696825623512 0.35713995\n",
      "Cpfcan_ptrel cpf 11\n",
      "[-0.9982817775011064, 5.0425488279158236e-39] 0.4991408887505532 0.2924741\n",
      "Cpfcan_ptrel cpf 12\n",
      "[-0.9982221740484237, 3.392725891060591e-40] 0.49911108702421186 0.21081018\n",
      "Cpfcan_ptrel cpf 13\n",
      "[-0.9981750255823135, 3.3127397747169304e-40] 0.49908751279115676 0.08492939\n",
      "Cpfcan_ptrel cpf 14\n",
      "[-0.9981105417013169, 3.243333461778922e-40] 0.49905527085065843 0.0\n",
      "Cpfcan_ptrel cpf 15\n",
      "[-0.9980385905504227, 2.7352786905533165e-40] 0.4990192952752113 0.0\n",
      "Cpfcan_ptrel cpf 16\n",
      "[-0.9979773771762848, 2.7367500539408576e-40] 0.4989886885881424 0.0\n",
      "Cpfcan_ptrel cpf 17\n",
      "[-0.9979124712944031, 2.7381093134512526e-40] 0.49895623564720154 0.0\n",
      "Cpfcan_ptrel cpf 18\n",
      "[-0.9977856427431107, 2.739426534007718e-40] 0.49889282137155533 0.0\n",
      "Cpfcan_ptrel cpf 19\n",
      "[-0.9976602870225906, 2.740351531124019e-40] 0.4988301435112953 0.0\n",
      "Cpfcan_ptrel cpf 20\n",
      "[-0.997538999915123, 2.741150271248684e-40] 0.4987694999575615 0.0\n",
      "Cpfcan_ptrel cpf 21\n",
      "[-0.9974368810653687, 2.7420049231820756e-40] 0.4987184405326843 0.0\n",
      "Cpfcan_ptrel cpf 22\n",
      "[-0.9972667759656906, 2.7425514295831623e-40] 0.4986333879828453 0.0\n",
      "Cpfcan_ptrel cpf 23\n",
      "[-0.9970438027381897, 2.743097935984249e-40] 0.49852190136909486 0.0\n",
      "Cpfcan_ptrel cpf 24\n",
      "[-0.9967480307817459, 2.743728520293195e-40] 0.49837401539087295 0.0\n",
      "Cpfcan_drminsv cpf 0\n",
      "[-0.3925670471787453, 0.0] 0.19628352358937265 0.08229725\n",
      "Cpfcan_drminsv cpf 1\n",
      "[-0.3950535589456558, 9.394603731731107e-39] 0.1975267794728279 0.09692062\n",
      "Cpfcan_drminsv cpf 2\n",
      "[-0.39566131591796877, 1.1638633984060841e-38] 0.19783065795898438 0.10125992\n",
      "Cpfcan_drminsv cpf 3\n",
      "[-0.3957566338777542, 1.202184917704744e-38] 0.1978783169388771 0.10056954\n",
      "Cpfcan_drminsv cpf 4\n",
      "[-0.39564216256141665, 1.1719695947300481e-38] 0.19782108128070833 0.097081244\n",
      "Cpfcan_drminsv cpf 5\n",
      "[-0.39542114913463594, 3.805112670880215e-39] 0.19771057456731797 0.09067673\n",
      "Cpfcan_drminsv cpf 6\n",
      "[-0.39516414821147916, 4.4720386045248e-39] 0.19758207410573958 0.080458544\n",
      "Cpfcan_drminsv cpf 7\n",
      "[-0.3948486375808716, 5.0911658411747105e-39] 0.1974243187904358 0.06687919\n",
      "Cpfcan_drminsv cpf 8\n",
      "[-0.3945344692468643, 5.087187246548828e-39] 0.19726723462343215 0.051068272\n",
      "Cpfcan_drminsv cpf 9\n",
      "[-0.39416918754577634, 5.080292437714812e-39] 0.19708459377288817 0.033679053\n",
      "Cpfcan_drminsv cpf 10\n",
      "[-0.39376761168241503, 5.062217467174072e-39] 0.19688380584120752 0.016111873\n",
      "Cpfcan_drminsv cpf 11\n",
      "[-0.39336231499910357, 5.0425488279158236e-39] 0.19668115749955178 0.0010890028\n",
      "Cpfcan_drminsv cpf 12\n",
      "[-0.39273185819387435, 3.392725891060591e-40] 0.19636592909693718 0.0\n",
      "Cpfcan_drminsv cpf 13\n",
      "[-0.39220312267541885, 3.3127397747169304e-40] 0.19610156133770942 0.0\n",
      "Cpfcan_drminsv cpf 14\n",
      "[-0.39117277920246124, 3.243333461778922e-40] 0.19558638960123062 0.0\n",
      "Cpfcan_drminsv cpf 15\n",
      "[-0.39063199192285536, 2.7352786905533165e-40] 0.19531599596142768 0.0\n",
      "Cpfcan_drminsv cpf 16\n",
      "[-0.38935004293918607, 2.7367500539408576e-40] 0.19467502146959303 0.0\n",
      "Cpfcan_drminsv cpf 17\n",
      "[-0.3885158380866051, 2.7381093134512526e-40] 0.19425791904330256 0.0\n",
      "Cpfcan_drminsv cpf 18\n",
      "[-0.38696513175964353, 2.739426534007718e-40] 0.19348256587982177 0.0\n",
      "Cpfcan_drminsv cpf 19\n",
      "[-0.3860653296113014, 2.740351531124019e-40] 0.1930326648056507 0.0\n",
      "Cpfcan_drminsv cpf 20\n",
      "[-0.38355743974447254, 2.741150271248684e-40] 0.19177871987223627 0.0\n",
      "Cpfcan_drminsv cpf 21\n",
      "[-0.3815359356999397, 2.7420049231820756e-40] 0.19076796784996986 0.0\n",
      "Cpfcan_drminsv cpf 22\n",
      "[-0.37904474705457686, 2.7425514295831623e-40] 0.18952237352728843 0.0\n",
      "Cpfcan_drminsv cpf 23\n",
      "[-0.37695196866989134, 2.743097935984249e-40] 0.18847598433494567 0.0\n",
      "Cpfcan_drminsv cpf 24\n",
      "[-0.3738614383339882, 2.743728520293195e-40] 0.1869307191669941 0.0\n",
      "Cpfcan_distminsv cpf 0\n",
      "[-10.075961265563965, 18.661992454528818] 14.368976860046391 0.70254654\n",
      "Cpfcan_distminsv cpf 1\n",
      "[-6.547971978187561, 12.972550649642947] 9.760261313915255 0.040911686\n",
      "Cpfcan_distminsv cpf 2\n",
      "[-4.687895650863648, 10.2175793838501] 7.452737517356875 0.019753765\n",
      "Cpfcan_distminsv cpf 3\n",
      "[-3.6806620621681203, 8.388982677459728] 6.034822369813924 0.016329603\n",
      "Cpfcan_distminsv cpf 4\n",
      "[-2.8811441826820374, 7.044387331008963] 4.9627657568455 0.012417048\n",
      "Cpfcan_distminsv cpf 5\n",
      "[-2.3775775265693664, 5.886869697570817] 4.132223612070092 0.008930891\n",
      "Cpfcan_distminsv cpf 6\n",
      "[-1.905678869485855, 4.711530590057382] 3.3086047297716186 0.006061676\n",
      "Cpfcan_distminsv cpf 7\n",
      "[-1.5034498035907742, 3.704288320541392] 2.6038690620660834 0.00392307\n",
      "Cpfcan_distminsv cpf 8\n",
      "[-1.1572869336605074, 3.017399358749394] 2.0873431462049505 0.002343503\n",
      "Cpfcan_distminsv cpf 9\n",
      "[-0.8931847083568571, 2.330143251419073] 1.611663979887965 0.001226237\n",
      "Cpfcan_distminsv cpf 10\n",
      "[-0.6865299373865127, 1.7167324519157414] 1.201631194651127 0.00044599385\n",
      "Cpfcan_distminsv cpf 11\n",
      "[-0.5245392358303069, 1.1813368439674459] 0.8529380398988764 8.931303e-06\n",
      "Cpfcan_distminsv cpf 12\n",
      "[-0.3966124722361564, 0.9092930239439089] 0.6529527480900327 0.0\n",
      "Cpfcan_distminsv cpf 13\n",
      "[-0.29016832143068316, 0.546934075355532] 0.41855119839310756 0.0\n",
      "Cpfcan_distminsv cpf 14\n",
      "[-0.22392129287123677, 0.30698154211044804] 0.2654514174908424 0.0\n",
      "Cpfcan_distminsv cpf 15\n",
      "[-0.170223298817873, 0.09993882462382465] 0.13508106172084883 0.0\n",
      "Cpfcan_distminsv cpf 16\n",
      "[-0.12363349854946136, 0.047750441581012465] 0.0856919700652369 0.0\n",
      "Cpfcan_distminsv cpf 17\n",
      "[-0.09819643095135688, 0.023739208672195727] 0.060967819811776305 0.0\n",
      "Cpfcan_distminsv cpf 18\n",
      "[-0.0714810386300087, 0.014642758639529825] 0.04306189863476926 0.0\n",
      "Cpfcan_distminsv cpf 19\n",
      "[-0.055407498516142364, 0.010630368497222663] 0.033018933506682516 0.0\n",
      "Cpfcan_distminsv cpf 20\n",
      "[-0.042819214686751365, 0.008389379279688032] 0.0256042969832197 0.0\n",
      "Cpfcan_distminsv cpf 21\n",
      "[-0.03496950220316648, 0.006399809578433633] 0.02068465589080006 0.0\n",
      "Cpfcan_distminsv cpf 22\n",
      "[-0.02782289106398821, 0.004995611333288255] 0.01640925119863823 0.0\n",
      "Cpfcan_distminsv cpf 23\n",
      "[-0.022177504431456323, 0.0040103695914149445] 0.013093937011435634 0.0\n",
      "Cpfcan_distminsv cpf 24\n",
      "[-0.01802031435072422, 0.002897000042721649] 0.010458657196722934 0.0\n",
      "Cpfcan_VTX_ass cpf 0\n",
      "[1.316152626905666e-38, 7.0] 3.5 2.5730162\n",
      "Cpfcan_VTX_ass cpf 1\n",
      "[0.0, 7.0] 3.5 2.4996612\n",
      "Cpfcan_VTX_ass cpf 2\n",
      "[0.0, 7.0] 3.5 2.24061\n",
      "Cpfcan_VTX_ass cpf 3\n",
      "[0.0, 7.0] 3.5 2.037704\n",
      "Cpfcan_VTX_ass cpf 4\n",
      "[0.0, 7.0] 3.5 2.3568552\n",
      "Cpfcan_VTX_ass cpf 5\n",
      "[0.0, 7.0] 3.5 2.8620648\n",
      "Cpfcan_VTX_ass cpf 6\n",
      "[0.0, 7.0] 3.5 3.2948143\n",
      "Cpfcan_VTX_ass cpf 7\n",
      "[0.0, 7.0] 3.5 3.2923949\n",
      "Cpfcan_VTX_ass cpf 8\n",
      "[0.0, 7.0] 3.5 3.2329125\n",
      "Cpfcan_VTX_ass cpf 9\n",
      "[0.0, 7.0] 3.5 3.1387048\n",
      "Cpfcan_VTX_ass cpf 10\n",
      "[0.0, 7.0] 3.5 3.0191057\n",
      "Cpfcan_VTX_ass cpf 11\n",
      "[0.0, 7.0] 3.5 1.2982627\n",
      "Cpfcan_VTX_ass cpf 12\n",
      "[0.0, 7.0] 3.5 0.9462656\n",
      "Cpfcan_VTX_ass cpf 13\n",
      "[0.0, 7.0] 3.5 0.1354868\n",
      "Cpfcan_VTX_ass cpf 14\n",
      "[0.0, 7.0] 3.5 0.0\n",
      "Cpfcan_VTX_ass cpf 15\n",
      "[0.0, 7.0] 3.5 0.0\n",
      "Cpfcan_VTX_ass cpf 16\n",
      "[0.0, 7.0] 3.5 0.0\n",
      "Cpfcan_VTX_ass cpf 17\n",
      "[0.0, 7.0] 3.5 0.0\n",
      "Cpfcan_VTX_ass cpf 18\n",
      "[0.0, 7.0] 3.5 0.0\n",
      "Cpfcan_VTX_ass cpf 19\n",
      "[0.0, 7.0] 3.5 0.0\n",
      "Cpfcan_VTX_ass cpf 20\n",
      "[0.0, 7.0] 3.5 0.0\n",
      "Cpfcan_VTX_ass cpf 21\n",
      "[0.0, 7.0] 3.5 0.0\n",
      "Cpfcan_VTX_ass cpf 22\n",
      "[0.0, 7.0] 3.5 0.0\n",
      "Cpfcan_VTX_ass cpf 23\n",
      "[0.0, 7.0] 3.5 0.0\n",
      "Cpfcan_VTX_ass cpf 24\n",
      "[0.0, 7.0] 3.5 0.0\n",
      "Cpfcan_puppiw cpf 0\n",
      "[0.0, 1.0] 0.5 0.49842274\n",
      "Cpfcan_puppiw cpf 1\n",
      "[0.0, 1.0] 0.5 0.45624363\n",
      "Cpfcan_puppiw cpf 2\n",
      "[0.0, 1.0] 0.5 0.43301705\n",
      "Cpfcan_puppiw cpf 3\n",
      "[0.0, 1.0] 0.5 0.4469955\n",
      "Cpfcan_puppiw cpf 4\n",
      "[0.0, 1.0] 0.5 0.47374195\n",
      "Cpfcan_puppiw cpf 5\n",
      "[0.0, 1.0] 0.5 0.49316323\n",
      "Cpfcan_puppiw cpf 6\n",
      "[0.0, 1.0] 0.5 0.499935\n",
      "Cpfcan_puppiw cpf 7\n",
      "[0.0, 1.0] 0.5 0.49647212\n",
      "Cpfcan_puppiw cpf 8\n",
      "[0.0, 1.0] 0.5 0.48569155\n",
      "Cpfcan_puppiw cpf 9\n",
      "[0.0, 1.0] 0.5 0.47049615\n",
      "Cpfcan_puppiw cpf 10\n",
      "[0.0, 1.0] 0.5 0.45216477\n",
      "Cpfcan_puppiw cpf 11\n",
      "[0.0, 1.0] 0.5 0.43265632\n",
      "Cpfcan_puppiw cpf 12\n",
      "[0.0, 1.0] 0.5 0.41251063\n",
      "Cpfcan_puppiw cpf 13\n",
      "[0.0, 1.0] 0.5 0.0\n",
      "Cpfcan_puppiw cpf 14\n",
      "[0.0, 1.0] 0.5 0.0\n",
      "Cpfcan_puppiw cpf 15\n",
      "[0.0, 1.0] 0.5 0.0\n",
      "Cpfcan_puppiw cpf 16\n",
      "[0.0, 1.0] 0.5 0.0\n",
      "Cpfcan_puppiw cpf 17\n",
      "[0.0, 1.0] 0.5 0.0\n",
      "Cpfcan_puppiw cpf 18\n",
      "[0.0, 1.0] 0.5 0.0\n",
      "Cpfcan_puppiw cpf 19\n",
      "[0.0, 1.0] 0.5 0.0\n",
      "Cpfcan_puppiw cpf 20\n",
      "[0.0, 1.0] 0.5 0.0\n",
      "Cpfcan_puppiw cpf 21\n",
      "[0.0, 1.0] 0.5 0.0\n",
      "Cpfcan_puppiw cpf 22\n",
      "[0.0, 1.0] 0.5 0.0\n",
      "Cpfcan_puppiw cpf 23\n",
      "[0.0, 1.0] 0.5 0.0\n",
      "Cpfcan_puppiw cpf 24\n",
      "[0.0, 1.0] 0.5 0.0\n",
      "Cpfcan_chi2 cpf 0\n",
      "[0.0, 18.0] 9.0 0.4926153\n",
      "Cpfcan_chi2 cpf 1\n",
      "[0.0, 17.0] 8.5 0.48913988\n",
      "Cpfcan_chi2 cpf 2\n",
      "[0.0, 12.0] 6.0 0.48458794\n",
      "Cpfcan_chi2 cpf 3\n",
      "[0.0, 9.0] 4.5 0.47512957\n",
      "Cpfcan_chi2 cpf 4\n",
      "[0.0, 6.0] 3.0 0.46024817\n",
      "Cpfcan_chi2 cpf 5\n",
      "[0.0, 5.0] 2.5 0.44135618\n",
      "Cpfcan_chi2 cpf 6\n",
      "[0.0, 4.0] 2.0 0.4204854\n",
      "Cpfcan_chi2 cpf 7\n",
      "[0.0, 3.0] 1.5 0.39799407\n",
      "Cpfcan_chi2 cpf 8\n",
      "[0.0, 3.0] 1.5 0.0\n",
      "Cpfcan_chi2 cpf 9\n",
      "[0.0, 3.0] 1.5 0.0\n",
      "Cpfcan_chi2 cpf 10\n",
      "[0.0, 2.0] 1.0 0.0\n",
      "Cpfcan_chi2 cpf 11\n",
      "[0.0, 2.0] 1.0 0.0\n",
      "Cpfcan_chi2 cpf 12\n",
      "[0.0, 2.0] 1.0 0.0\n",
      "Cpfcan_chi2 cpf 13\n",
      "[0.0, 2.0] 1.0 0.0\n",
      "Cpfcan_chi2 cpf 14\n",
      "[0.0, 2.0] 1.0 0.0\n",
      "Cpfcan_chi2 cpf 15\n",
      "[0.0, 2.0] 1.0 0.0\n",
      "Cpfcan_chi2 cpf 16\n",
      "[0.0, 2.0] 1.0 0.0\n",
      "Cpfcan_chi2 cpf 17\n",
      "[0.0, 2.0] 1.0 0.0\n",
      "Cpfcan_chi2 cpf 18\n",
      "[0.0, 1.0] 0.5 0.0\n",
      "Cpfcan_chi2 cpf 19\n",
      "[0.0, 1.0] 0.5 0.0\n",
      "Cpfcan_chi2 cpf 20\n",
      "[0.0, 1.0] 0.5 0.0\n",
      "Cpfcan_chi2 cpf 21\n",
      "[0.0, 1.0] 0.5 0.0\n",
      "Cpfcan_chi2 cpf 22\n",
      "[0.0, 1.0] 0.5 0.0\n",
      "Cpfcan_chi2 cpf 23\n",
      "[0.0, 1.0] 0.5 0.0\n",
      "Cpfcan_chi2 cpf 24\n",
      "[0.0, 1.0] 0.5 0.0\n",
      "Cpfcan_quality cpf 0\n",
      "[1.0, 5.0] 2.0 0.0\n",
      "Cpfcan_quality cpf 1\n",
      "[0.0, 5.0] 2.5 0.0\n",
      "Cpfcan_quality cpf 2\n",
      "[0.0, 5.0] 2.5 0.0\n",
      "Cpfcan_quality cpf 3\n",
      "[0.0, 5.0] 2.5 0.0\n",
      "Cpfcan_quality cpf 4\n",
      "[0.0, 5.0] 2.5 1.1683731\n",
      "Cpfcan_quality cpf 5\n",
      "[0.0, 5.0] 2.5 1.9212292\n",
      "Cpfcan_quality cpf 6\n",
      "[0.0, 5.0] 2.5 2.4778314\n",
      "Cpfcan_quality cpf 7\n",
      "[0.0, 5.0] 2.5 2.4986079\n",
      "Cpfcan_quality cpf 8\n",
      "[0.0, 5.0] 2.5 2.4666007\n",
      "Cpfcan_quality cpf 9\n",
      "[0.0, 5.0] 2.5 2.4021637\n",
      "Cpfcan_quality cpf 10\n",
      "[0.0, 5.0] 2.5 2.3175926\n",
      "Cpfcan_quality cpf 11\n",
      "[0.0, 5.0] 2.5 2.2229514\n",
      "Cpfcan_quality cpf 12\n",
      "[0.0, 5.0] 2.5 2.1255226\n",
      "Cpfcan_quality cpf 13\n",
      "[0.0, 5.0] 2.5 2.0267112\n",
      "Cpfcan_quality cpf 14\n",
      "[0.0, 5.0] 2.5 0.0\n",
      "Cpfcan_quality cpf 15\n",
      "[0.0, 5.0] 2.5 0.0\n",
      "Cpfcan_quality cpf 16\n",
      "[0.0, 5.0] 2.5 0.0\n",
      "Cpfcan_quality cpf 17\n",
      "[0.0, 5.0] 2.5 0.0\n",
      "Cpfcan_quality cpf 18\n",
      "[0.0, 5.0] 2.5 0.0\n",
      "Cpfcan_quality cpf 19\n",
      "[0.0, 5.0] 2.5 0.0\n",
      "Cpfcan_quality cpf 20\n",
      "[0.0, 5.0] 2.5 0.0\n",
      "Cpfcan_quality cpf 21\n",
      "[0.0, 5.0] 2.5 0.0\n",
      "Cpfcan_quality cpf 22\n",
      "[0.0, 5.0] 2.5 0.0\n",
      "Cpfcan_quality cpf 23\n",
      "[0.0, 5.0] 2.5 0.0\n",
      "Cpfcan_quality cpf 24\n",
      "[0.0, 5.0] 2.5 0.0\n"
     ]
    }
   ],
   "source": [
    "for (i,key) in enumerate(cpf_branches):\n",
    "    for cand in range(25):\n",
    "        range_inputs, standardized_epsilon = quantile_min_max(key,'cpf',cand)\n",
    "        scale_epsilon = (range_inputs[1] - range_inputs[0])/2\n",
    "        cpf_epsilons[i,cand] = scale_epsilon\n",
    "        cpf_standardized_epsilons[i,cand] = standardized_epsilon\n",
    "        cpf_ranges[i,cand] = range_inputs\n",
    "        print(range_inputs, scale_epsilon, standardized_epsilon)"
   ]
  },
  {
   "cell_type": "code",
   "execution_count": 1017,
   "metadata": {},
   "outputs": [],
   "source": [
    "npf_epsilons = np.zeros((len(npf_branches),25))"
   ]
  },
  {
   "cell_type": "code",
   "execution_count": 1018,
   "metadata": {},
   "outputs": [],
   "source": [
    "npf_standardized_epsilons = np.zeros((len(npf_branches),25))"
   ]
  },
  {
   "cell_type": "code",
   "execution_count": 1019,
   "metadata": {},
   "outputs": [],
   "source": [
    "npf_ranges = np.zeros((len(npf_branches),25, 2))"
   ]
  },
  {
   "cell_type": "code",
   "execution_count": 1020,
   "metadata": {
    "scrolled": true
   },
   "outputs": [
    {
     "name": "stdout",
     "output_type": "stream",
     "text": [
      "Npfcan_ptrel npf 0\n",
      "[-0.996482680439949, 9.519938668977239e-39] 0.4982413402199745 0.068871714\n",
      "Npfcan_ptrel npf 1\n",
      "[-0.9978387385606766, 1.200107562796306e-38] 0.4989193692803383 0.038604733\n",
      "Npfcan_ptrel npf 2\n",
      "[-0.9984986788034439, 1.1694962328755918e-38] 0.49924933940172195 0.36749423\n",
      "Npfcan_ptrel npf 3\n",
      "[-0.9986718302965164, 2.3901500891778286e-39] 0.4993359151482582 0.4431514\n",
      "Npfcan_ptrel npf 4\n",
      "[-0.9987648129463196, 2.9946303236943065e-39] 0.4993824064731598 0.48076078\n",
      "Npfcan_ptrel npf 5\n",
      "[-0.9988052845001221, 2.989201062859203e-39] 0.49940264225006104 0.45520186\n",
      "Npfcan_ptrel npf 6\n",
      "[-0.9988275766372681, 2.974158474169292e-39] 0.49941378831863403 0.3854595\n",
      "Npfcan_ptrel npf 7\n",
      "[-0.9988074308633804, 3.439263013060818e-40] 0.4994037154316902 0.27374828\n",
      "Npfcan_ptrel npf 8\n",
      "[-0.9987912184000015, 3.2927012066770855e-40] 0.49939560920000076 0.0018437873\n",
      "Npfcan_ptrel npf 9\n",
      "[-0.9987550383806229, 2.735643028154041e-40] 0.4993775191903114 0.0\n",
      "Npfcan_ptrel npf 10\n",
      "[-0.9986810094118118, 2.738291482251615e-40] 0.4993405047059059 0.0\n",
      "Npfcan_ptrel npf 11\n",
      "[-0.9986159217357636, 2.7401271832398804e-40] 0.4993079608678818 0.0\n",
      "Npfcan_ptrel npf 12\n",
      "[-0.9984879499673843, 2.7418367673663566e-40] 0.49924397498369216 0.0\n",
      "Npfcan_ptrel npf 13\n",
      "[-0.9983403092622757, 2.7429017541992435e-40] 0.49917015463113784 0.0\n",
      "Npfcan_ptrel npf 14\n",
      "[-0.9981441503763199, 2.7439106890935574e-40] 0.49907207518815994 0.0\n",
      "Npfcan_ptrel npf 15\n",
      "[-0.9978365927934647, 2.7444712084792873e-40] 0.49891829639673235 0.0\n",
      "Npfcan_ptrel npf 16\n",
      "[-0.9973358511924744, 2.7449476499571577e-40] 0.4986679255962372 0.0\n",
      "Npfcan_ptrel npf 17\n",
      "[-0.9964299821853638, 2.7453960654657417e-40] 0.4982149910926819 0.0\n",
      "Npfcan_ptrel npf 18\n",
      "[-0.9943455737829209, 2.74569033814325e-40] 0.49717278689146044 0.0\n",
      "Npfcan_ptrel npf 19\n",
      "[-0.9534286689758297, 2.745858493958969e-40] 0.47671433448791484 0.0\n",
      "Npfcan_ptrel npf 20\n",
      "[0.0, 2.7460686887286176e-40] 1.3730343443643088e-40 0.0\n",
      "Npfcan_ptrel npf 21\n",
      "[0.0, 2.7461667796211203e-40] 1.3730833898105602e-40 0.0\n",
      "Npfcan_ptrel npf 22\n",
      "[0.0, 2.74625085752898e-40] 1.37312542876449e-40 0.0\n",
      "Npfcan_ptrel npf 23\n",
      "[0.0, 2.7463629614061258e-40] 1.3731814807030629e-40 0.0\n",
      "Npfcan_ptrel npf 24\n",
      "[0.0, 2.7464750652832718e-40] 1.3732375326416359e-40 0.0\n",
      "Npfcan_etarel npf 0\n",
      "[-0.49967876106500625, 9.519938668977239e-39] 0.24983938053250312 0.03018741\n",
      "Npfcan_etarel npf 1\n",
      "[-0.49921608597040174, 1.200107562796306e-38] 0.24960804298520087 0.052494127\n",
      "Npfcan_etarel npf 2\n",
      "[-0.4986349958181381, 1.1694962328755918e-38] 0.24931749790906904 0.16301104\n",
      "Npfcan_etarel npf 3\n",
      "[-0.4981184032559395, 2.3901500891778286e-39] 0.24905920162796974 0.17854014\n",
      "Npfcan_etarel npf 4\n",
      "[-0.4974543848633766, 2.9946303236943065e-39] 0.2487271924316883 0.17690694\n",
      "Npfcan_etarel npf 5\n",
      "[-0.496453703045845, 2.989201062859203e-39] 0.2482268515229225 0.15175492\n",
      "Npfcan_etarel npf 6\n",
      "[-0.4953338545560837, 2.974158474169292e-39] 0.24766692727804185 0.11245888\n",
      "Npfcan_etarel npf 7\n",
      "[-0.49352137446403505, 3.439263013060818e-40] 0.24676068723201752 0.06462015\n",
      "Npfcan_etarel npf 8\n",
      "[-0.4913342475891113, 3.2927012066770855e-40] 0.24566712379455566 0.00036657724\n",
      "Npfcan_etarel npf 9\n",
      "[-0.48865819692611695, 2.735643028154041e-40] 0.24432909846305848 0.0\n",
      "Npfcan_etarel npf 10\n",
      "[-0.48380244851112364, 2.738291482251615e-40] 0.24190122425556182 0.0\n",
      "Npfcan_etarel npf 11\n",
      "[-0.47807617604732516, 2.7401271832398804e-40] 0.23903808802366258 0.0\n",
      "Npfcan_etarel npf 12\n",
      "[-0.4701650679111481, 2.7418367673663566e-40] 0.23508253395557405 0.0\n",
      "Npfcan_etarel npf 13\n",
      "[-0.45729142904281617, 2.7429017541992435e-40] 0.22864571452140808 0.0\n",
      "Npfcan_etarel npf 14\n",
      "[-0.44265275418758393, 2.7439106890935574e-40] 0.22132637709379197 0.0\n",
      "Npfcan_etarel npf 15\n",
      "[-0.4175756424665451, 2.7444712084792873e-40] 0.20878782123327255 0.0\n",
      "Npfcan_etarel npf 16\n",
      "[-0.384727189540863, 2.7449476499571577e-40] 0.1923635947704315 0.0\n",
      "Npfcan_etarel npf 17\n",
      "[-0.33273424208164215, 2.7453960654657417e-40] 0.16636712104082108 0.0\n",
      "Npfcan_etarel npf 18\n",
      "[-0.2606852120161056, 2.74569033814325e-40] 0.1303426060080528 0.0\n",
      "Npfcan_etarel npf 19\n",
      "[-0.12111206799745557, 2.745858493958969e-40] 0.06055603399872778 0.0\n",
      "Npfcan_etarel npf 20\n",
      "[0.0, 2.7460686887286176e-40] 1.3730343443643088e-40 0.0\n",
      "Npfcan_etarel npf 21\n",
      "[0.0, 2.7461667796211203e-40] 1.3730833898105602e-40 0.0\n",
      "Npfcan_etarel npf 22\n",
      "[0.0, 2.74625085752898e-40] 1.37312542876449e-40 0.0\n",
      "Npfcan_etarel npf 23\n",
      "[0.0, 2.7463629614061258e-40] 1.3731814807030629e-40 0.0\n",
      "Npfcan_etarel npf 24\n",
      "[0.0, 2.7464750652832718e-40] 1.3732375326416359e-40 0.0\n",
      "Npfcan_phirel npf 0\n",
      "[-0.4996307495236397, 9.519938668977239e-39] 0.24981537476181984 0.031798977\n",
      "Npfcan_phirel npf 1\n",
      "[-0.499013102054596, 1.200107562796306e-38] 0.249506551027298 0.053219676\n",
      "Npfcan_phirel npf 2\n",
      "[-0.49821022361516953, 1.1694962328755918e-38] 0.24910511180758477 0.15833448\n",
      "Npfcan_phirel npf 3\n",
      "[-0.49727544367313387, 2.3901500891778286e-39] 0.24863772183656693 0.17110766\n",
      "Npfcan_phirel npf 4\n",
      "[-0.4960160329937935, 2.9946303236943065e-39] 0.24800801649689674 0.1675595\n",
      "Npfcan_phirel npf 5\n",
      "[-0.4941766598820686, 2.989201062859203e-39] 0.2470883299410343 0.14232843\n",
      "Npfcan_phirel npf 6\n",
      "[-0.4920298817753792, 2.974158474169292e-39] 0.2460149408876896 0.10575721\n",
      "Npfcan_phirel npf 7\n",
      "[-0.48918296009302137, 3.439263013060818e-40] 0.24459148004651068 0.060906664\n",
      "Npfcan_phirel npf 8\n",
      "[-0.4844270768761635, 3.2927012066770855e-40] 0.24221353843808174 0.00027817997\n",
      "Npfcan_phirel npf 9\n",
      "[-0.4791299721598625, 2.735643028154041e-40] 0.23956498607993126 0.0\n",
      "Npfcan_phirel npf 10\n",
      "[-0.47180926144123075, 2.738291482251615e-40] 0.23590463072061538 0.0\n",
      "Npfcan_phirel npf 11\n",
      "[-0.4613083308935165, 2.7401271832398804e-40] 0.23065416544675826 0.0\n",
      "Npfcan_phirel npf 12\n",
      "[-0.44687494963407515, 2.7418367673663566e-40] 0.22343747481703757 0.0\n",
      "Npfcan_phirel npf 13\n",
      "[-0.43138069927692413, 2.7429017541992435e-40] 0.21569034963846206 0.0\n",
      "Npfcan_phirel npf 14\n",
      "[-0.40605396628379825, 2.7439106890935574e-40] 0.20302698314189913 0.0\n",
      "Npfcan_phirel npf 15\n",
      "[-0.3769425585865974, 2.7444712084792873e-40] 0.1884712792932987 0.0\n",
      "Npfcan_phirel npf 16\n",
      "[-0.33997407674789426, 2.7449476499571577e-40] 0.16998703837394713 0.0\n",
      "Npfcan_phirel npf 17\n",
      "[-0.294888579249382, 2.7453960654657417e-40] 0.147444289624691 0.0\n",
      "Npfcan_phirel npf 18\n",
      "[-0.23056105107069014, 2.74569033814325e-40] 0.11528052553534507 0.0\n",
      "Npfcan_phirel npf 19\n",
      "[-0.12017563581466671, 2.745858493958969e-40] 0.060087817907333356 0.0\n",
      "Npfcan_phirel npf 20\n",
      "[0.0, 2.7460686887286176e-40] 1.3730343443643088e-40 0.0\n",
      "Npfcan_phirel npf 21\n",
      "[0.0, 2.7461667796211203e-40] 1.3730833898105602e-40 0.0\n",
      "Npfcan_phirel npf 22\n",
      "[0.0, 2.74625085752898e-40] 1.37312542876449e-40 0.0\n",
      "Npfcan_phirel npf 23\n",
      "[0.0, 2.7463629614061258e-40] 1.3731814807030629e-40 0.0\n",
      "Npfcan_phirel npf 24\n",
      "[0.0, 2.7464750652832718e-40] 1.3732375326416359e-40 0.0\n",
      "Npfcan_deltaR npf 0\n",
      "[-0.5979350244998931, 9.519938668977239e-39] 0.29896751224994655 0.047038183\n",
      "Npfcan_deltaR npf 1\n",
      "[-0.5937444818019867, 1.200107562796306e-38] 0.29687224090099334 0.0701641\n",
      "Npfcan_deltaR npf 2\n",
      "[-0.5858929175138474, 1.1694962328755918e-38] 0.2929464587569237 0.17413338\n",
      "Npfcan_deltaR npf 3\n",
      "[-0.5795252412557602, 2.3901500891778286e-39] 0.2897626206278801 0.18617277\n",
      "Npfcan_deltaR npf 4\n",
      "[-0.5706085515022278, 2.9946303236943065e-39] 0.2853042757511139 0.18165065\n",
      "Npfcan_deltaR npf 5\n",
      "[-0.5602151793241501, 2.989201062859203e-39] 0.28010758966207505 0.15446587\n",
      "Npfcan_deltaR npf 6\n",
      "[-0.5487297457456588, 2.974158474169292e-39] 0.2743648728728294 0.11609667\n",
      "Npfcan_deltaR npf 7\n",
      "[-0.5366934466361999, 3.439263013060818e-40] 0.26834672331809994 0.07131049\n",
      "Npfcan_deltaR npf 8\n",
      "[-0.5226437228918076, 3.2927012066770855e-40] 0.2613218614459038 0.0006428505\n",
      "Npfcan_deltaR npf 9\n",
      "[-0.5084512716531754, 2.735643028154041e-40] 0.2542256358265877 0.0\n",
      "Npfcan_deltaR npf 10\n",
      "[-0.49075741738080975, 2.738291482251615e-40] 0.24537870869040487 0.0\n",
      "Npfcan_deltaR npf 11\n",
      "[-0.46972957730293274, 2.7401271832398804e-40] 0.23486478865146637 0.0\n",
      "Npfcan_deltaR npf 12\n",
      "[-0.4494831946492195, 2.7418367673663566e-40] 0.22474159732460974 0.0\n",
      "Npfcan_deltaR npf 13\n",
      "[-0.4231303313374519, 2.7429017541992435e-40] 0.21156516566872596 0.0\n",
      "Npfcan_deltaR npf 14\n",
      "[-0.3985815435647964, 2.7439106890935574e-40] 0.1992907717823982 0.0\n",
      "Npfcan_deltaR npf 15\n",
      "[-0.3675749343633652, 2.7444712084792873e-40] 0.1837874671816826 0.0\n",
      "Npfcan_deltaR npf 16\n",
      "[-0.3339235025644302, 2.7449476499571577e-40] 0.1669617512822151 0.0\n",
      "Npfcan_deltaR npf 17\n",
      "[-0.2984366956353187, 2.7453960654657417e-40] 0.14921834781765936 0.0\n",
      "Npfcan_deltaR npf 18\n",
      "[-0.25428503990173335, 2.74569033814325e-40] 0.12714251995086667 0.0\n",
      "Npfcan_deltaR npf 19\n",
      "[-0.20069240003824232, 2.745858493958969e-40] 0.10034620001912116 0.0\n",
      "Npfcan_deltaR npf 20\n",
      "[0.0, 2.7460686887286176e-40] 1.3730343443643088e-40 0.0\n",
      "Npfcan_deltaR npf 21\n",
      "[0.0, 2.7461667796211203e-40] 1.3730833898105602e-40 0.0\n",
      "Npfcan_deltaR npf 22\n",
      "[0.0, 2.74625085752898e-40] 1.37312542876449e-40 0.0\n",
      "Npfcan_deltaR npf 23\n",
      "[0.0, 2.7463629614061258e-40] 1.3731814807030629e-40 0.0\n",
      "Npfcan_deltaR npf 24\n",
      "[0.0, 2.7464750652832718e-40] 1.3732375326416359e-40 0.0\n",
      "Npfcan_isGamma npf 0\n",
      "[0.0, 1.0] 0.5 0.46114993\n",
      "Npfcan_isGamma npf 1\n",
      "[0.0, 1.0] 0.5 0.49052152\n",
      "Npfcan_isGamma npf 2\n",
      "[0.0, 1.0] 0.5 0.49848256\n",
      "Npfcan_isGamma npf 3\n",
      "[0.0, 1.0] 0.5 0.49702287\n",
      "Npfcan_isGamma npf 4\n",
      "[0.0, 1.0] 0.5 0.48081815\n",
      "Npfcan_isGamma npf 5\n",
      "[0.0, 1.0] 0.5 0.45361862\n",
      "Npfcan_isGamma npf 6\n",
      "[0.0, 1.0] 0.5 0.42041945\n",
      "Npfcan_isGamma npf 7\n",
      "[0.0, 1.0] 0.5 0.0\n",
      "Npfcan_isGamma npf 8\n",
      "[0.0, 1.0] 0.5 0.0\n",
      "Npfcan_isGamma npf 9\n",
      "[0.0, 1.0] 0.5 0.0\n",
      "Npfcan_isGamma npf 10\n",
      "[0.0, 1.0] 0.5 0.0\n",
      "Npfcan_isGamma npf 11\n",
      "[0.0, 1.0] 0.5 0.0\n",
      "Npfcan_isGamma npf 12\n",
      "[0.0, 1.0] 0.5 0.0\n",
      "Npfcan_isGamma npf 13\n",
      "[0.0, 1.0] 0.5 0.0\n",
      "Npfcan_isGamma npf 14\n",
      "[0.0, 1.0] 0.5 0.0\n",
      "Npfcan_isGamma npf 15\n",
      "[0.0, 1.0] 0.5 0.0\n",
      "Npfcan_isGamma npf 16\n",
      "[0.0, 1.0] 0.5 0.0\n",
      "Npfcan_isGamma npf 17\n",
      "[0.0, 1.0] 0.5 0.0\n",
      "Npfcan_isGamma npf 18\n",
      "[0.0, 2.8010136015147937e-40] 1.4005068007573968e-40 0.0\n",
      "Npfcan_isGamma npf 19\n",
      "[0.0, 2.7855432664686477e-40] 1.3927716332343238e-40 0.0\n",
      "Npfcan_isGamma npf 20\n",
      "[0.0, 2.7748513591858493e-40] 1.3874256795929247e-40 0.0\n",
      "Npfcan_isGamma npf 21\n",
      "[0.0, 2.7677467759717225e-40] 1.3838733879858613e-40 0.0\n",
      "Npfcan_isGamma npf 22\n",
      "[0.0, 2.761328829005115e-40] 1.3806644145025574e-40 0.0\n",
      "Npfcan_isGamma npf 23\n",
      "[0.0, 2.757054868688924e-40] 1.378527434344462e-40 0.0\n",
      "Npfcan_isGamma npf 24\n",
      "[0.0, 2.7540420769906258e-40] 1.3770210384953129e-40 0.0\n",
      "Npfcan_HadFrac npf 0\n",
      "[0.0, 1.0] 0.5 0.44619554\n",
      "Npfcan_HadFrac npf 1\n",
      "[0.0, 1.0] 0.5 0.4501931\n",
      "Npfcan_HadFrac npf 2\n",
      "[0.0, 1.0] 0.5 0.40859866\n",
      "Npfcan_HadFrac npf 3\n",
      "[0.0, 1.0] 0.5 0.0\n",
      "Npfcan_HadFrac npf 4\n",
      "[0.0, 1.0] 0.5 0.0\n",
      "Npfcan_HadFrac npf 5\n",
      "[0.0, 1.0] 0.5 0.0\n",
      "Npfcan_HadFrac npf 6\n",
      "[0.0, 1.0] 0.5 0.0\n",
      "Npfcan_HadFrac npf 7\n",
      "[0.0, 1.0] 0.5 0.0\n",
      "Npfcan_HadFrac npf 8\n",
      "[0.0, 1.0] 0.5 0.0\n",
      "Npfcan_HadFrac npf 9\n",
      "[0.0, 1.0] 0.5 0.0\n",
      "Npfcan_HadFrac npf 10\n",
      "[0.0, 1.0] 0.5 0.0\n",
      "Npfcan_HadFrac npf 11\n",
      "[0.0, 1.0] 0.5 0.0\n",
      "Npfcan_HadFrac npf 12\n",
      "[0.0, 1.0] 0.5 0.0\n",
      "Npfcan_HadFrac npf 13\n",
      "[0.0, 1.0] 0.5 0.0\n",
      "Npfcan_HadFrac npf 14\n",
      "[0.0, 1.0] 0.5 0.0\n",
      "Npfcan_HadFrac npf 15\n",
      "[0.0, 1.0] 0.5 0.0\n",
      "Npfcan_HadFrac npf 16\n",
      "[0.0, 2.789677096938406e-40] 1.394838548469203e-40 0.0\n",
      "Npfcan_HadFrac npf 17\n",
      "[0.0, 2.778957163686321e-40] 1.3894785818431605e-40 0.0\n",
      "Npfcan_HadFrac npf 18\n",
      "[0.0, 2.7703391781307234e-40] 1.3851695890653617e-40 0.0\n",
      "Npfcan_HadFrac npf 19\n",
      "[0.0, 2.764103399964478e-40] 1.382051699982239e-40 0.0\n",
      "Npfcan_HadFrac npf 20\n",
      "[0.0, 2.7596052318939953e-40] 1.3798026159469977e-40 0.0\n",
      "Npfcan_HadFrac npf 21\n",
      "[0.0, 2.7551631157620856e-40] 1.3775815578810428e-40 0.0\n",
      "Npfcan_HadFrac npf 22\n",
      "[0.0, 2.7529490641884524e-40] 1.3764745320942262e-40 0.0\n",
      "Npfcan_HadFrac npf 23\n",
      "[0.0, 2.75112737618483e-40] 1.375563688092415e-40 0.0\n",
      "Npfcan_HadFrac npf 24\n",
      "[0.0, 2.7500623893519433e-40] 1.3750311946759717e-40 0.0\n",
      "Npfcan_drminsv npf 0\n",
      "[-0.3975566476583481, 9.519938668977239e-39] 0.19877832382917404 0.13897274\n",
      "Npfcan_drminsv npf 1\n",
      "[-0.38848859518766404, 1.200107562796306e-38] 0.19424429759383202 0.11064237\n",
      "Npfcan_drminsv npf 2\n",
      "[-0.36900615096092226, 1.1694962328755918e-38] 0.18450307548046113 0.08471779\n",
      "Npfcan_drminsv npf 3\n",
      "[-0.3567120063304901, 2.3901500891778286e-39] 0.17835600316524505 0.059822213\n",
      "Npfcan_drminsv npf 4\n",
      "[-0.34018211185932157, 2.9946303236943065e-39] 0.17009105592966078 0.034086898\n",
      "Npfcan_drminsv npf 5\n",
      "[-0.32603268325328827, 2.989201062859203e-39] 0.16301634162664413 0.012124466\n",
      "Npfcan_drminsv npf 6\n",
      "[-0.31100657939910886, 2.974158474169292e-39] 0.15550328969955443 0.0\n",
      "Npfcan_drminsv npf 7\n",
      "[-0.2964497742056847, 3.439263013060818e-40] 0.14822488710284235 0.0\n",
      "Npfcan_drminsv npf 8\n",
      "[-0.28080238461494444, 3.2927012066770855e-40] 0.14040119230747222 0.0\n",
      "Npfcan_drminsv npf 9\n",
      "[-0.2649447152018547, 2.735643028154041e-40] 0.13247235760092735 0.0\n",
      "Npfcan_drminsv npf 10\n",
      "[-0.24821197047829627, 2.738291482251615e-40] 0.12410598523914813 0.0\n",
      "Npfcan_drminsv npf 11\n",
      "[-0.2299199768900871, 2.7401271832398804e-40] 0.11495998844504356 0.0\n",
      "Npfcan_drminsv npf 12\n",
      "[-0.21000683799386025, 2.7418367673663566e-40] 0.10500341899693012 0.0\n",
      "Npfcan_drminsv npf 13\n",
      "[-0.18892127603292466, 2.7429017541992435e-40] 0.09446063801646233 0.0\n",
      "Npfcan_drminsv npf 14\n",
      "[-0.16458058163523673, 2.7439106890935574e-40] 0.08229029081761836 0.0\n",
      "Npfcan_drminsv npf 15\n",
      "[-0.1379554206132889, 2.7444712084792873e-40] 0.06897771030664444 0.0\n",
      "Npfcan_drminsv npf 16\n",
      "[-0.10716081351041792, 2.7449476499571577e-40] 0.05358040675520896 0.0\n",
      "Npfcan_drminsv npf 17\n",
      "[-0.07005860686302184, 2.7453960654657417e-40] 0.03502930343151092 0.0\n",
      "Npfcan_drminsv npf 18\n",
      "[-0.019021678566932668, 2.74569033814325e-40] 0.009510839283466334 0.0\n",
      "Npfcan_drminsv npf 19\n",
      "[0.0, 2.745858493958969e-40] 1.3729292469794844e-40 0.0\n",
      "Npfcan_drminsv npf 20\n",
      "[0.0, 2.7460686887286176e-40] 1.3730343443643088e-40 0.0\n",
      "Npfcan_drminsv npf 21\n",
      "[0.0, 2.7461667796211203e-40] 1.3730833898105602e-40 0.0\n",
      "Npfcan_drminsv npf 22\n",
      "[0.0, 2.74625085752898e-40] 1.37312542876449e-40 0.0\n",
      "Npfcan_drminsv npf 23\n",
      "[0.0, 2.7463629614061258e-40] 1.3731814807030629e-40 0.0\n",
      "Npfcan_drminsv npf 24\n",
      "[0.0, 2.7464750652832718e-40] 1.3732375326416359e-40 0.0\n",
      "Npfcan_puppiw npf 0\n",
      "[0.0, 1.0] 0.5 0.0068929754\n",
      "Npfcan_puppiw npf 1\n",
      "[0.0, 1.0] 0.5 0.03271109\n",
      "Npfcan_puppiw npf 2\n",
      "[0.0, 1.0] 0.5 0.34238243\n",
      "Npfcan_puppiw npf 3\n",
      "[0.0, 1.0] 0.5 0.48741767\n",
      "Npfcan_puppiw npf 4\n",
      "[0.0, 1.0] 0.5 0.48050964\n",
      "Npfcan_puppiw npf 5\n",
      "[0.0, 1.0] 0.5 0.45668092\n",
      "Npfcan_puppiw npf 6\n",
      "[0.0, 1.0] 0.5 0.42414242\n",
      "Npfcan_puppiw npf 7\n",
      "[0.0, 1.0] 0.5 0.38817912\n",
      "Npfcan_puppiw npf 8\n",
      "[0.0, 1.0] 0.5 0.0\n",
      "Npfcan_puppiw npf 9\n",
      "[0.0, 1.0] 0.5 0.0\n",
      "Npfcan_puppiw npf 10\n",
      "[0.0, 1.0] 0.5 0.0\n",
      "Npfcan_puppiw npf 11\n",
      "[0.0, 1.0] 0.5 0.0\n",
      "Npfcan_puppiw npf 12\n",
      "[0.0, 1.0] 0.5 0.0\n",
      "Npfcan_puppiw npf 13\n",
      "[0.0, 1.0] 0.5 0.0\n",
      "Npfcan_puppiw npf 14\n",
      "[0.0, 1.0] 0.5 0.0\n",
      "Npfcan_puppiw npf 15\n",
      "[0.0, 0.9960784316062927] 0.49803921580314636 0.0\n",
      "Npfcan_puppiw npf 16\n",
      "[0.0, 0.9960784316062927] 0.49803921580314636 0.0\n",
      "Npfcan_puppiw npf 17\n",
      "[0.0, 0.9960784316062927] 0.49803921580314636 0.0\n",
      "Npfcan_puppiw npf 18\n",
      "[0.0, 0.9960784316062927] 0.49803921580314636 0.0\n",
      "Npfcan_puppiw npf 19\n",
      "[0.0, 0.9607843160629272] 0.4803921580314636 0.0\n",
      "Npfcan_puppiw npf 20\n",
      "[0.0, 2.7883038244433676e-40] 1.3941519122216838e-40 0.0\n",
      "Npfcan_puppiw npf 21\n",
      "[0.0, 2.7767150861434013e-40] 1.3883575430717007e-40 0.0\n",
      "Npfcan_puppiw npf 22\n",
      "[0.0, 2.768055061633874e-40] 1.384027530816937e-40 0.0\n",
      "Npfcan_puppiw npf 23\n",
      "[0.0, 2.761847309436915e-40] 1.3809236547184575e-40 0.0\n",
      "Npfcan_puppiw npf 24\n",
      "[0.0, 2.7576294010592973e-40] 1.3788147005296487e-40 0.0\n"
     ]
    }
   ],
   "source": [
    "for (i,key) in enumerate(npf_branches):\n",
    "    for cand in range(25):\n",
    "        range_inputs, standardized_epsilon = quantile_min_max(key,'npf',cand)\n",
    "        scale_epsilon = (range_inputs[1] - range_inputs[0])/2\n",
    "        npf_epsilons[i,cand] = scale_epsilon\n",
    "        npf_standardized_epsilons[i,cand] = standardized_epsilon\n",
    "        npf_ranges[i,cand] = range_inputs\n",
    "        print(range_inputs, scale_epsilon, standardized_epsilon)"
   ]
  },
  {
   "cell_type": "code",
   "execution_count": 1021,
   "metadata": {},
   "outputs": [],
   "source": [
    "vtx_epsilons = np.zeros((len(vtx_branches),5))"
   ]
  },
  {
   "cell_type": "code",
   "execution_count": 1022,
   "metadata": {},
   "outputs": [],
   "source": [
    "vtx_standardized_epsilons = np.zeros((len(vtx_branches),5))"
   ]
  },
  {
   "cell_type": "code",
   "execution_count": 1023,
   "metadata": {},
   "outputs": [],
   "source": [
    "vtx_ranges = np.zeros((len(vtx_branches),5, 2))"
   ]
  },
  {
   "cell_type": "code",
   "execution_count": 1024,
   "metadata": {
    "scrolled": true
   },
   "outputs": [
    {
     "name": "stdout",
     "output_type": "stream",
     "text": [
      "sv_pt vtx 0\n",
      "[0.0, 269.95538024902396] 134.97769012451198 5.464629\n",
      "sv_pt vtx 1\n",
      "[0.0, 171.34339126586914] 85.67169563293457 0.0\n",
      "sv_pt vtx 2\n",
      "[0.0, 91.23880668640176] 45.61940334320088 0.0\n",
      "sv_pt vtx 3\n",
      "[0.0, 25.99677312850961] 12.998386564254805 0.0\n",
      "sv_pt vtx 4\n",
      "[0.0, 2.780260371258143e-40] 1.3901301856290716e-40 0.0\n",
      "sv_deltaR vtx 0\n",
      "[-0.4964105808734894, 3.5949752984165918e-40] 0.2482052904367447 0.18949273\n",
      "sv_deltaR vtx 1\n",
      "[-0.4931141746044159, 2.7374647161576632e-40] 0.24655708730220796 0.0\n",
      "sv_deltaR vtx 2\n",
      "[-0.48370381295681, 2.743770559247125e-40] 0.241851906478405 0.0\n",
      "sv_deltaR vtx 3\n",
      "[-0.43024378061294555, 2.74564829918932e-40] 0.21512189030647277 0.0\n",
      "sv_deltaR vtx 4\n",
      "[0.0, 2.746194805590407e-40] 1.3730974027952034e-40 0.0\n",
      "sv_mass vtx 0\n",
      "[0.0, 9.333378877639781] 4.6666894388198905 0.36026642\n",
      "sv_mass vtx 1\n",
      "[0.0, 7.01324266433717] 3.506621332168585 0.0\n",
      "sv_mass vtx 2\n",
      "[0.0, 3.7708258700370823] 1.8854129350185411 0.0\n",
      "sv_mass vtx 3\n",
      "[0.0, 1.133283718824394] 0.566641859412197 0.0\n",
      "sv_mass vtx 4\n",
      "[0.0, 2.780260371258143e-40] 1.3901301856290716e-40 0.0\n",
      "sv_etarel vtx 0\n",
      "[-0.49928516149520874, 3.5949752984165918e-40] 0.24964258074760437 0.2089859\n",
      "sv_etarel vtx 1\n",
      "[-0.4978592431545258, 2.7374647161576632e-40] 0.2489296215772629 0.0\n",
      "sv_etarel vtx 2\n",
      "[-0.4928162547945976, 2.743770559247125e-40] 0.2464081273972988 0.0\n",
      "sv_etarel vtx 3\n",
      "[-0.4609156459569931, 2.74564829918932e-40] 0.23045782297849654 0.0\n",
      "sv_etarel vtx 4\n",
      "[0.0, 2.746194805590407e-40] 1.3730974027952034e-40 0.0\n",
      "sv_phirel vtx 0\n",
      "[-0.4992823600769043, 3.5949752984165918e-40] 0.24964118003845215 0.2082863\n",
      "sv_phirel vtx 1\n",
      "[-0.49781465768814087, 2.7374647161576632e-40] 0.24890732884407044 0.0\n",
      "sv_phirel vtx 2\n",
      "[-0.49260960847139357, 2.743770559247125e-40] 0.24630480423569678 0.0\n",
      "sv_phirel vtx 3\n",
      "[-0.4601214098930359, 2.74564829918932e-40] 0.23006070494651795 0.0\n",
      "sv_phirel vtx 4\n",
      "[0.0, 2.746194805590407e-40] 1.3730974027952034e-40 0.0\n",
      "sv_ntracks vtx 0\n",
      "[0.0, 8.0] 4.0 1.1529417\n",
      "sv_ntracks vtx 1\n",
      "[0.0, 7.0] 3.5 0.0\n",
      "sv_ntracks vtx 2\n",
      "[0.0, 5.0] 2.5 0.0\n",
      "sv_ntracks vtx 3\n",
      "[0.0, 2.0] 1.0 0.0\n",
      "sv_ntracks vtx 4\n",
      "[0.0, 2.780260371258143e-40] 1.3901301856290716e-40 0.0\n",
      "sv_chi2 vtx 0\n",
      "[0.0, 12.40097183227542] 6.20048591613771 0.48757845\n",
      "sv_chi2 vtx 1\n",
      "[0.0, 9.108673295974743] 4.5543366479873715 0.0\n",
      "sv_chi2 vtx 2\n",
      "[0.0, 5.59996720314028] 2.79998360157014 0.0\n",
      "sv_chi2 vtx 3\n",
      "[0.0, 1.476631516218186] 0.738315758109093 0.0\n",
      "sv_chi2 vtx 4\n",
      "[0.0, 2.780260371258143e-40] 1.3901301856290716e-40 0.0\n",
      "sv_normchi2 vtx 0\n",
      "[0.0, 5.965997743606573] 2.9829988718032867 0.2067272\n",
      "sv_normchi2 vtx 1\n",
      "[0.0, 3.44242983818056] 1.72121491909028 0.0\n",
      "sv_normchi2 vtx 2\n",
      "[0.0, 1.5957604718208376] 0.7978802359104188 0.0\n",
      "sv_normchi2 vtx 3\n",
      "[0.0, 0.5461571234464676] 0.2730785617232338 0.0\n",
      "sv_normchi2 vtx 4\n",
      "[0.0, 2.780022150519208e-40] 1.390011075259604e-40 0.0\n",
      "sv_dxy vtx 0\n",
      "[0.0, 11.50514328002932] 5.75257164001466 0.06820787\n",
      "sv_dxy vtx 1\n",
      "[0.0, 3.2493787479400646] 1.6246893739700323 0.0\n",
      "sv_dxy vtx 2\n",
      "[0.0, 0.6355390417575852] 0.3177695208787926 0.0\n",
      "sv_dxy vtx 3\n",
      "[0.0, 0.06671609692275561] 0.033358048461377805 0.0\n",
      "sv_dxy vtx 4\n",
      "[0.0, 2.780260371258143e-40] 1.3901301856290716e-40 0.0\n",
      "sv_dxysig vtx 0\n",
      "[0.0, 247.81521484375014] 123.90760742187507 1.7547673\n",
      "sv_dxysig vtx 1\n",
      "[0.0, 42.31842735290536] 21.15921367645268 0.0\n",
      "sv_dxysig vtx 2\n",
      "[0.0, 10.69135453224185] 5.345677266120925 0.0\n",
      "sv_dxysig vtx 3\n",
      "[0.0, 2.976688895225527] 1.4883444476127634 0.0\n",
      "sv_dxysig vtx 4\n",
      "[0.0, 2.780260371258143e-40] 1.3901301856290716e-40 0.0\n",
      "sv_d3d vtx 0\n",
      "[0.0, 17.822273712158225] 8.911136856079112 0.1180931\n",
      "sv_d3d vtx 1\n",
      "[0.0, 5.525637512207052] 2.762818756103526 0.0\n",
      "sv_d3d vtx 2\n",
      "[0.0, 0.9201090025901801] 0.46005450129509007 0.0\n",
      "sv_d3d vtx 3\n",
      "[0.0, 0.0981261672824626] 0.0490630836412313 0.0\n",
      "sv_d3d vtx 4\n",
      "[0.0, 2.780260371258143e-40] 1.3901301856290716e-40 0.0\n",
      "sv_d3dsig vtx 0\n",
      "[0.0, 247.54769180297913] 123.77384590148957 1.7549931\n",
      "sv_d3dsig vtx 1\n",
      "[0.0, 42.440350456237844] 21.220175228118922 0.0\n",
      "sv_d3dsig vtx 2\n",
      "[0.0, 10.753651447296203] 5.376825723648102 0.0\n",
      "sv_d3dsig vtx 3\n",
      "[0.0, 2.9954069352149983] 1.4977034676074992 0.0\n",
      "sv_d3dsig vtx 4\n",
      "[0.0, 2.780260371258143e-40] 1.3901301856290716e-40 0.0\n",
      "sv_costhetasvpv vtx 0\n",
      "[0.0, 0.9999998211860657] 0.49999991059303284 0.46028665\n",
      "sv_costhetasvpv vtx 1\n",
      "[0.0, 0.9999969005584717] 0.49999845027923584 0.0\n",
      "sv_costhetasvpv vtx 2\n",
      "[0.0, 0.9999362230300903] 0.49996811151504517 0.0\n",
      "sv_costhetasvpv vtx 3\n",
      "[0.0, 0.9974314999580384] 0.4987157499790192 0.0\n",
      "sv_costhetasvpv vtx 4\n",
      "[0.0, 2.7793775532256185e-40] 1.3896887766128092e-40 0.0\n",
      "sv_enratio vtx 0\n",
      "[0.0, 0.7149115538597107] 0.35745577692985536 0.05034087\n",
      "sv_enratio vtx 1\n",
      "[0.0, 0.3902205276489263] 0.19511026382446314 0.0\n",
      "sv_enratio vtx 2\n",
      "[0.0, 0.17790993571281438] 0.08895496785640719 0.0\n",
      "sv_enratio vtx 3\n",
      "[0.0, 0.046416372023523125] 0.023208186011761563 0.0\n",
      "sv_enratio vtx 4\n",
      "[0.0, 2.780260371258143e-40] 1.3901301856290716e-40 0.0\n"
     ]
    }
   ],
   "source": [
    "for (i,key) in enumerate(vtx_branches):\n",
    "    for cand in range(5):\n",
    "        range_inputs, standardized_epsilon = quantile_min_max(key,'vtx',cand)\n",
    "        scale_epsilon = (range_inputs[1] - range_inputs[0])/2\n",
    "        vtx_epsilons[i,cand] = scale_epsilon\n",
    "        vtx_standardized_epsilons[i,cand] = standardized_epsilon\n",
    "        vtx_ranges[i,cand] = range_inputs\n",
    "        print(range_inputs, scale_epsilon, standardized_epsilon)"
   ]
  },
  {
   "cell_type": "code",
   "execution_count": 1025,
   "metadata": {},
   "outputs": [],
   "source": [
    "cpf_pts_epsilons = np.zeros((len(cpf_pts_branches),25))"
   ]
  },
  {
   "cell_type": "code",
   "execution_count": 1026,
   "metadata": {},
   "outputs": [],
   "source": [
    "cpf_pts_standardized_epsilons = np.zeros((len(cpf_pts_branches),25))"
   ]
  },
  {
   "cell_type": "code",
   "execution_count": 1027,
   "metadata": {},
   "outputs": [],
   "source": [
    "cpf_pts_ranges = np.zeros((len(cpf_pts_branches),25, 2))"
   ]
  },
  {
   "cell_type": "code",
   "execution_count": 1028,
   "metadata": {
    "scrolled": true
   },
   "outputs": [
    {
     "name": "stdout",
     "output_type": "stream",
     "text": [
      "Cpfcan_pt cpf_pts 0\n",
      "[0.95556640625, 73.0625] 36.053466796875 1.2797216\n",
      "Cpfcan_pt cpf_pts 1\n",
      "[0.0, 97.87562500000058] 48.93781250000029 1.700616\n",
      "Cpfcan_pt cpf_pts 2\n",
      "[0.0, 109.75062500000058] 54.87531250000029 1.8855108\n",
      "Cpfcan_pt cpf_pts 3\n",
      "[0.0, 113.75] 56.875 1.8992194\n",
      "Cpfcan_pt cpf_pts 4\n",
      "[0.0, 112.375] 56.1875 1.9555215\n",
      "Cpfcan_pt cpf_pts 5\n",
      "[0.0, 108.5625] 54.28125 1.9528612\n",
      "Cpfcan_pt cpf_pts 6\n",
      "[0.0, 104.125] 52.0625 1.7360486\n",
      "Cpfcan_pt cpf_pts 7\n",
      "[0.0, 100.5625] 50.28125 1.4757239\n",
      "Cpfcan_pt cpf_pts 8\n",
      "[0.0, 93.9375] 46.96875 1.2109008\n",
      "Cpfcan_pt cpf_pts 9\n",
      "[0.0, 87.9375] 43.96875 0.9484038\n",
      "Cpfcan_pt cpf_pts 10\n",
      "[0.0, 84.1875] 42.09375 0.6901905\n",
      "Cpfcan_pt cpf_pts 11\n",
      "[0.0, 75.6875] 37.84375 0.46634725\n",
      "Cpfcan_pt cpf_pts 12\n",
      "[0.0, 70.4375] 35.21875 0.27621102\n",
      "Cpfcan_pt cpf_pts 13\n",
      "[0.0, 65.12562500000058] 32.56281250000029 0.09809335\n",
      "Cpfcan_pt cpf_pts 14\n",
      "[0.0, 60.84375] 30.421875 0.0\n",
      "Cpfcan_pt cpf_pts 15\n",
      "[0.0, 55.68781250000029] 27.843906250000146 0.0\n",
      "Cpfcan_pt cpf_pts 16\n",
      "[0.0, 49.0] 24.5 0.0\n",
      "Cpfcan_pt cpf_pts 17\n",
      "[0.0, 45.96906250000029] 22.984531250000146 0.0\n",
      "Cpfcan_pt cpf_pts 18\n",
      "[0.0, 40.375] 20.1875 0.0\n",
      "Cpfcan_pt cpf_pts 19\n",
      "[0.0, 38.0] 19.0 0.0\n",
      "Cpfcan_pt cpf_pts 20\n",
      "[0.0, 32.90625] 16.453125 0.0\n",
      "Cpfcan_pt cpf_pts 21\n",
      "[0.0, 29.390625] 14.6953125 0.0\n",
      "Cpfcan_pt cpf_pts 22\n",
      "[0.0, 25.859375] 12.9296875 0.0\n",
      "Cpfcan_pt cpf_pts 23\n",
      "[0.0, 23.953125] 11.9765625 0.0\n",
      "Cpfcan_pt cpf_pts 24\n",
      "[0.0, 20.890625] 10.4453125 0.0\n",
      "Cpfcan_eta cpf_pts 0\n",
      "[-2.371837615966797, 2.376781463623047] 2.374309539794922 0.6073551\n",
      "Cpfcan_eta cpf_pts 1\n",
      "[-2.390150470733643, 2.400585889816284] 2.3953681802749633 0.5861575\n",
      "Cpfcan_eta cpf_pts 2\n",
      "[-2.3912491035461425, 2.396923780441284] 2.3940864419937133 0.5359789\n",
      "Cpfcan_eta cpf_pts 3\n",
      "[-2.372203826904297, 2.375867767333986] 2.3740357971191415 0.45471436\n",
      "Cpfcan_eta cpf_pts 4\n",
      "[-2.3407087326049805, 2.3443708419799805] 2.3425397872924805 0.35033336\n",
      "Cpfcan_eta cpf_pts 5\n",
      "[-2.300607204437256, 2.300790548324585] 2.3006988763809204 0.24013247\n",
      "Cpfcan_eta cpf_pts 6\n",
      "[-2.2506179809570312, 2.253732607364656] 2.2521752941608435 0.14115217\n",
      "Cpfcan_eta cpf_pts 7\n",
      "[-2.1993470191955566, 2.1949540805816667] 2.1971505498886117 0.061500173\n",
      "Cpfcan_eta cpf_pts 8\n",
      "[-2.1315958499908447, 2.1326944828033447] 2.1321451663970947 0.0076660896\n",
      "Cpfcan_eta cpf_pts 9\n",
      "[-2.0585343837738037, 2.0623834991455112] 2.0604589414596575 0.0\n",
      "Cpfcan_eta cpf_pts 10\n",
      "[-1.9827265739440918, 1.9801648092269915] 1.9814456915855416 0.0\n",
      "Cpfcan_eta cpf_pts 11\n",
      "[-1.9028955793380737, 1.89941462516785] 1.9011551022529618 0.0\n",
      "Cpfcan_eta cpf_pts 12\n",
      "[-1.8248866033554076, 1.8208563327789307] 1.8228714680671692 0.0\n",
      "Cpfcan_eta cpf_pts 13\n",
      "[-1.7494467163085936, 1.7545701265335083] 1.752008421421051 0.0\n",
      "Cpfcan_eta cpf_pts 14\n",
      "[-1.6776634454727173, 1.6785827541351352] 1.6781230998039263 0.0\n",
      "Cpfcan_eta cpf_pts 15\n",
      "[-1.6042360067367554, 1.6071656942367554] 1.6057008504867554 0.0\n",
      "Cpfcan_eta cpf_pts 16\n",
      "[-1.5172581672668457, 1.5348368883132935] 1.5260475277900696 0.0\n",
      "Cpfcan_eta cpf_pts 17\n",
      "[-1.427720514535904, 1.4374217987060547] 1.4325711566209793 0.0\n",
      "Cpfcan_eta cpf_pts 18\n",
      "[-1.3304886484146117, 1.3233436346054077] 1.3269161415100097 0.0\n",
      "Cpfcan_eta cpf_pts 19\n",
      "[-1.2187871932983398, 1.2008440923690813] 1.2098156428337106 0.0\n",
      "Cpfcan_eta cpf_pts 20\n",
      "[-1.1177098751068115, 1.0926255416870134] 1.1051677083969125 0.0\n",
      "Cpfcan_eta cpf_pts 21\n",
      "[-1.0102237462997437, 0.9898983836174011] 1.0000610649585724 0.0\n",
      "Cpfcan_eta cpf_pts 22\n",
      "[-0.9133598041534423, 0.9043891692161594] 0.9088744866848009 0.0\n",
      "Cpfcan_eta cpf_pts 23\n",
      "[-0.822536690235138, 0.8161278200149553] 0.8193322551250466 0.0\n",
      "Cpfcan_eta cpf_pts 24\n",
      "[-0.7366557717323303, 0.7258540821075457] 0.731254926919938 0.0\n",
      "Cpfcan_phi cpf_pts 0\n",
      "[-3.078022494316101, 3.0753917860984803] 3.076707140207291 1.0798941\n",
      "Cpfcan_phi cpf_pts 1\n",
      "[-3.078707456588745, 3.076650393009186] 3.0776789247989655 1.0398432\n",
      "Cpfcan_phi cpf_pts 2\n",
      "[-3.07275559425354, 3.073431270122528] 3.073093432188034 0.96061206\n",
      "Cpfcan_phi cpf_pts 3\n",
      "[-3.068744971752167, 3.0687389469146726] 3.06874195933342 0.83216846\n",
      "Cpfcan_phi cpf_pts 4\n",
      "[-3.058881549835205, 3.056737799644471] 3.057809674739838 0.6604658\n",
      "Cpfcan_phi cpf_pts 5\n",
      "[-3.045122287273407, 3.04678025007248] 3.0459512686729435 0.4682677\n",
      "Cpfcan_phi cpf_pts 6\n",
      "[-3.0308636736869814, 3.032415871620178] 3.0316397726535795 0.28402168\n",
      "Cpfcan_phi cpf_pts 7\n",
      "[-3.015133059024811, 3.0148337268829346] 3.014983392953873 0.12479625\n",
      "Cpfcan_phi cpf_pts 8\n",
      "[-2.997755708694458, 2.9946313762664802] 2.9961935424804693 0.016065326\n",
      "Cpfcan_phi cpf_pts 9\n",
      "[-2.9766529226303104, 2.972058827877045] 2.9743558752536776 0.0\n",
      "Cpfcan_phi cpf_pts 10\n",
      "[-2.9479410767555234, 2.9436452817916883] 2.945793179273606 0.0\n",
      "Cpfcan_phi cpf_pts 11\n",
      "[-2.9172773504257203, 2.915910015106201] 2.916593682765961 0.0\n",
      "Cpfcan_phi cpf_pts 12\n",
      "[-2.878696744441986, 2.877630157470704] 2.878163450956345 0.0\n",
      "Cpfcan_phi cpf_pts 13\n",
      "[-2.842278895378113, 2.835442566871644] 2.8388607311248784 0.0\n",
      "Cpfcan_phi cpf_pts 14\n",
      "[-2.7997903990745545, 2.799989023208619] 2.799889711141587 0.0\n",
      "Cpfcan_phi cpf_pts 15\n",
      "[-2.755747625827789, 2.7594572019577033] 2.757602413892746 0.0\n",
      "Cpfcan_phi cpf_pts 16\n",
      "[-2.708293423652649, 2.699699747562409] 2.7039965856075288 0.0\n",
      "Cpfcan_phi cpf_pts 17\n",
      "[-2.659752149581909, 2.6371845698356666] 2.648468359708788 0.0\n",
      "Cpfcan_phi cpf_pts 18\n",
      "[-2.5912029385566715, 2.568242368698121] 2.579722653627396 0.0\n",
      "Cpfcan_phi cpf_pts 19\n",
      "[-2.5099425506591797, 2.4998834347724923] 2.504912992715836 0.0\n",
      "Cpfcan_phi cpf_pts 20\n",
      "[-2.4227229595184325, 2.400953791141511] 2.411838375329972 0.0\n",
      "Cpfcan_phi cpf_pts 21\n",
      "[-2.3395336651802063, 2.3094440746307403] 2.3244888699054735 0.0\n",
      "Cpfcan_phi cpf_pts 22\n",
      "[-2.216283302307129, 2.2066124510765097] 2.2114478766918193 0.0\n",
      "Cpfcan_phi cpf_pts 23\n",
      "[-2.0832677030563356, 2.0712584257125903] 2.077263064384463 0.0\n",
      "Cpfcan_phi cpf_pts 24\n",
      "[-1.9647077357769014, 1.9192057979106958] 1.9419567668437985 0.0\n",
      "Cpfcan_e cpf_pts 0\n",
      "[1.0137827003002167, 125.29146385192897] 62.13884057581438 2.4914153\n",
      "Cpfcan_e cpf_pts 1\n",
      "[0.0, 158.57642593383838] 79.28821296691919 3.1674328\n",
      "Cpfcan_e cpf_pts 2\n",
      "[0.0, 178.09632537841813] 89.04816268920906 3.4871109\n",
      "Cpfcan_e cpf_pts 3\n",
      "[0.0, 183.2413867187505] 91.62069335937525 3.4892614\n",
      "Cpfcan_e cpf_pts 4\n",
      "[0.0, 180.82145141601637] 90.41072570800819 3.5298734\n",
      "Cpfcan_e cpf_pts 5\n",
      "[0.0, 176.84907287597673] 88.42453643798837 3.404718\n",
      "Cpfcan_e cpf_pts 6\n",
      "[0.0, 172.15000305175812] 86.07500152587906 2.9336886\n",
      "Cpfcan_e cpf_pts 7\n",
      "[0.0, 161.29468582153334] 80.64734291076667 2.4451816\n",
      "Cpfcan_e cpf_pts 8\n",
      "[0.0, 150.04787399292005] 75.02393699646002 1.9616028\n",
      "Cpfcan_e cpf_pts 9\n",
      "[0.0, 141.36005828857427] 70.68002914428713 1.497028\n",
      "Cpfcan_e cpf_pts 10\n",
      "[0.0, 133.95003692626958] 66.97501846313479 1.0611336\n",
      "Cpfcan_e cpf_pts 11\n",
      "[0.0, 120.84359817504901] 60.421799087524505 0.688413\n",
      "Cpfcan_e cpf_pts 12\n",
      "[0.0, 109.3345015716554] 54.6672507858277 0.38209337\n",
      "Cpfcan_e cpf_pts 13\n",
      "[0.0, 102.24998092651438] 51.12499046325719 0.11613365\n",
      "Cpfcan_e cpf_pts 14\n",
      "[0.0, 91.85489173889172] 45.92744586944586 0.0\n",
      "Cpfcan_e cpf_pts 15\n",
      "[0.0, 85.19772117614748] 42.59886058807374 0.0\n",
      "Cpfcan_e cpf_pts 16\n",
      "[0.0, 73.9029721069336] 36.9514860534668 0.0\n",
      "Cpfcan_e cpf_pts 17\n",
      "[0.0, 68.03266792297381] 34.01633396148691 0.0\n",
      "Cpfcan_e cpf_pts 18\n",
      "[0.0, 59.41736080169697] 29.708680400848486 0.0\n",
      "Cpfcan_e cpf_pts 19\n",
      "[0.0, 54.98265335083012] 27.49132667541506 0.0\n",
      "Cpfcan_e cpf_pts 20\n",
      "[0.0, 47.10735607147222] 23.55367803573611 0.0\n",
      "Cpfcan_e cpf_pts 21\n",
      "[0.0, 41.622439498901414] 20.811219749450707 0.0\n",
      "Cpfcan_e cpf_pts 22\n",
      "[0.0, 36.53760482788096] 18.26880241394048 0.0\n",
      "Cpfcan_e cpf_pts 23\n",
      "[0.0, 33.2315227127076] 16.6157613563538 0.0\n",
      "Cpfcan_e cpf_pts 24\n",
      "[0.0, 28.98227077484145] 14.491135387420725 0.0\n"
     ]
    }
   ],
   "source": [
    "for (i,key) in enumerate(cpf_pts_branches):\n",
    "    for cand in range(25):\n",
    "        range_inputs, standardized_epsilon = quantile_min_max(key,'cpf_pts',cand)\n",
    "        scale_epsilon = (range_inputs[1] - range_inputs[0])/2\n",
    "        cpf_pts_epsilons[i,cand] = scale_epsilon\n",
    "        cpf_pts_standardized_epsilons[i,cand] = standardized_epsilon\n",
    "        cpf_pts_ranges[i,cand] = range_inputs\n",
    "        print(range_inputs, scale_epsilon, standardized_epsilon)"
   ]
  },
  {
   "cell_type": "code",
   "execution_count": 1029,
   "metadata": {},
   "outputs": [],
   "source": [
    "npf_pts_epsilons = np.zeros((len(npf_pts_branches),25))"
   ]
  },
  {
   "cell_type": "code",
   "execution_count": 1030,
   "metadata": {},
   "outputs": [],
   "source": [
    "npf_pts_standardized_epsilons = np.zeros((len(npf_pts_branches),25))"
   ]
  },
  {
   "cell_type": "code",
   "execution_count": 1031,
   "metadata": {},
   "outputs": [],
   "source": [
    "npf_pts_ranges = np.zeros((len(npf_pts_branches),25, 2))"
   ]
  },
  {
   "cell_type": "code",
   "execution_count": 1032,
   "metadata": {
    "scrolled": true
   },
   "outputs": [
    {
     "name": "stdout",
     "output_type": "stream",
     "text": [
      "Npfcan_pt npf_pts 0\n",
      "[0.0, 627.5] 313.75 8.161665\n",
      "Npfcan_pt npf_pts 1\n",
      "[0.0, 346.5] 173.25 2.245633\n",
      "Npfcan_pt npf_pts 2\n",
      "[0.0, 116.25] 58.125 1.2366415\n",
      "Npfcan_pt npf_pts 3\n",
      "[0.0, 75.625] 37.8125 1.014378\n",
      "Npfcan_pt npf_pts 4\n",
      "[0.0, 41.84375] 20.921875 0.7995741\n",
      "Npfcan_pt npf_pts 5\n",
      "[0.0, 26.84375] 13.421875 0.6056343\n",
      "Npfcan_pt npf_pts 6\n",
      "[0.0, 18.953125] 9.4765625 0.43576518\n",
      "Npfcan_pt npf_pts 7\n",
      "[0.0, 15.1796875] 7.58984375 0.2700459\n",
      "Npfcan_pt npf_pts 8\n",
      "[0.0, 12.414140625000073] 6.207070312500036 0.011635943\n",
      "Npfcan_pt npf_pts 9\n",
      "[0.0, 10.5703125] 5.28515625 0.0\n",
      "Npfcan_pt npf_pts 10\n",
      "[0.0, 8.96875] 4.484375 0.0\n",
      "Npfcan_pt npf_pts 11\n",
      "[0.0, 7.7578125] 3.87890625 0.0\n",
      "Npfcan_pt npf_pts 12\n",
      "[0.0, 6.43359375] 3.216796875 0.0\n",
      "Npfcan_pt npf_pts 13\n",
      "[0.0, 5.203125] 2.6015625 0.0\n",
      "Npfcan_pt npf_pts 14\n",
      "[0.0, 4.15625] 2.078125 0.0\n",
      "Npfcan_pt npf_pts 15\n",
      "[0.0, 3.189453125] 1.5947265625 0.0\n",
      "Npfcan_pt npf_pts 16\n",
      "[0.0, 2.42578125] 1.212890625 0.0\n",
      "Npfcan_pt npf_pts 17\n",
      "[0.0, 1.7978515625] 0.89892578125 0.0\n",
      "Npfcan_pt npf_pts 18\n",
      "[0.0, 1.3115234375] 0.65576171875 0.0\n",
      "Npfcan_pt npf_pts 19\n",
      "[0.0, 0.9658251953125045] 0.4829125976562523 0.0\n",
      "Npfcan_pt npf_pts 20\n",
      "[0.0, 2.788317837428011e-40] 1.3941589187140054e-40 0.0\n",
      "Npfcan_pt npf_pts 21\n",
      "[0.0, 2.7767290991280446e-40] 1.3883645495640223e-40 0.0\n",
      "Npfcan_pt npf_pts 22\n",
      "[0.0, 2.768055061633874e-40] 1.384027530816937e-40 0.0\n",
      "Npfcan_pt npf_pts 23\n",
      "[0.0, 2.761847309436915e-40] 1.3809236547184575e-40 0.0\n",
      "Npfcan_pt npf_pts 24\n",
      "[0.0, 2.7576294010592973e-40] 1.3788147005296487e-40 0.0\n",
      "Npfcan_eta npf_pts 0\n",
      "[-2.375499725341797, 2.373670501708986] 2.3745851135253915 0.5786562\n",
      "Npfcan_eta npf_pts 1\n",
      "[-2.3396098613739014, 2.3412598800659197] 2.3404348707199105 0.47175336\n",
      "Npfcan_eta npf_pts 2\n",
      "[-2.2132632732391357, 2.216011924743654] 2.214637598991395 0.32378227\n",
      "Npfcan_eta npf_pts 3\n",
      "[-2.0279550552368164, 2.0336313247680664] 2.0307931900024414 0.18174216\n",
      "Npfcan_eta npf_pts 4\n",
      "[-1.8303781747817993, 1.8391693067550676] 1.8347737407684335 0.067207485\n",
      "Npfcan_eta npf_pts 5\n",
      "[-1.6756492853164673, 1.6778466701507568] 1.676747977733612 0.00085207215\n",
      "Npfcan_eta npf_pts 6\n",
      "[-1.5848262310028076, 1.5829968881607073] 1.5839115595817574 0.0\n",
      "Npfcan_eta npf_pts 7\n",
      "[-1.504806637763977, 1.5104849767684954] 1.5076458072662362 0.0\n",
      "Npfcan_eta npf_pts 8\n",
      "[-1.424604058265686, 1.438522262573244] 1.431563160419465 0.0\n",
      "Npfcan_eta npf_pts 9\n",
      "[-1.3639942407608032, 1.3722360563278215] 1.3681151485443124 0.0\n",
      "Npfcan_eta npf_pts 10\n",
      "[-1.3002716302871704, 1.3101613950729387] 1.3052165126800546 0.0\n",
      "Npfcan_eta npf_pts 11\n",
      "[-1.2466218900680541, 1.253946347236635] 1.2502841186523446 0.0\n",
      "Npfcan_eta npf_pts 12\n",
      "[-1.161292119026184, 1.174476189613344] 1.167884154319764 0.0\n",
      "Npfcan_eta npf_pts 13\n",
      "[-1.0419037771224975, 1.0733988714218157] 1.0576513242721566 0.0\n",
      "Npfcan_eta npf_pts 14\n",
      "[-0.9111606478691101, 0.9450380039215105] 0.9280993258953103 0.0\n",
      "Npfcan_eta npf_pts 15\n",
      "[-0.7038825422525405, 0.746730533242229] 0.7253065377473848 0.0\n",
      "Npfcan_eta npf_pts 16\n",
      "[-0.3526773849129676, 0.4508194327354431] 0.40174840882420537 0.0\n",
      "Npfcan_eta npf_pts 17\n",
      "[0.0, 2.8009995885301504e-40] 1.4004997942650752e-40 0.0\n",
      "Npfcan_eta npf_pts 18\n",
      "[0.0, 2.78680443508654e-40] 1.39340221754327e-40 0.0\n",
      "Npfcan_eta npf_pts 19\n",
      "[0.0, 2.7759303590033794e-40] 1.3879651795016897e-40 0.0\n",
      "Npfcan_eta npf_pts 20\n",
      "[0.0, 2.768447425203885e-40] 1.3842237126019425e-40 0.0\n",
      "Npfcan_eta npf_pts 21\n",
      "[0.0, 2.7622116470376395e-40] 1.3811058235188197e-40 0.0\n",
      "Npfcan_eta npf_pts 22\n",
      "[0.0, 2.7572930894278594e-40] 1.3786465447139297e-40 0.0\n",
      "Npfcan_eta npf_pts 23\n",
      "[0.0, 2.7543083236988475e-40] 1.3771541618494238e-40 0.0\n",
      "Npfcan_eta npf_pts 24\n",
      "[0.0, 2.7521783500330738e-40] 1.3760891750165369e-40 0.0\n",
      "Npfcan_phi npf_pts 0\n",
      "[-3.0782203841209412, 3.0787067437171936] 3.078463563919067 1.0356078\n",
      "Npfcan_phi npf_pts 1\n",
      "[-3.0681600642204283, 3.0744106817245482] 3.071285372972488 0.8830454\n",
      "Npfcan_phi npf_pts 2\n",
      "[-3.054189691543579, 3.061219236850739] 3.057704464197159 0.6447114\n",
      "Npfcan_phi npf_pts 3\n",
      "[-3.036129252910614, 3.039648015499116] 3.037888634204865 0.38346475\n",
      "Npfcan_phi npf_pts 4\n",
      "[-3.010448932647705, 3.0109376907348633] 3.010693311691284 0.14623654\n",
      "Npfcan_phi npf_pts 5\n",
      "[-2.9857385611534117, 2.987391014099122] 2.986564787626267 0.00023879175\n",
      "Npfcan_phi npf_pts 6\n",
      "[-2.9301750302314757, 2.9369976472854624] 2.9335863387584693 0.0\n",
      "Npfcan_phi npf_pts 7\n",
      "[-2.8882820630073547, 2.891598501205446] 2.8899402821064006 0.0\n",
      "Npfcan_phi npf_pts 8\n",
      "[-2.8129785466194153, 2.8219649553298978] 2.8174717509746565 0.0\n",
      "Npfcan_phi npf_pts 9\n",
      "[-2.726840362548828, 2.7175571084022527] 2.7221987354755406 0.0\n",
      "Npfcan_phi npf_pts 10\n",
      "[-2.609952321052551, 2.587981133461001] 2.598966727256776 0.0\n",
      "Npfcan_phi npf_pts 11\n",
      "[-2.4496777296066283, 2.4572010469436645] 2.4534393882751466 0.0\n",
      "Npfcan_phi npf_pts 12\n",
      "[-2.2434240722656247, 2.2346531724929877] 2.239038622379306 0.0\n",
      "Npfcan_phi npf_pts 13\n",
      "[-1.9751612508296965, 1.9636361598968506] 1.9693987053632735 0.0\n",
      "Npfcan_phi npf_pts 14\n",
      "[-1.6459554719924927, 1.5709582793712706] 1.6084568756818816 0.0\n",
      "Npfcan_phi npf_pts 15\n",
      "[-1.179632328748703, 1.0948598527908344] 1.1372460907697688 0.0\n",
      "Npfcan_phi npf_pts 16\n",
      "[-0.5785373520851135, 0.5768819242715881] 0.5777096381783509 0.0\n",
      "Npfcan_phi npf_pts 17\n",
      "[0.0, 2.8001588094515555e-40] 1.4000794047257778e-40 0.0\n",
      "Npfcan_phi npf_pts 18\n",
      "[0.0, 2.7863840455472426e-40] 1.3931920227736213e-40 0.0\n",
      "Npfcan_phi npf_pts 19\n",
      "[0.0, 2.7756500993105145e-40] 1.3878250496552572e-40 0.0\n",
      "Npfcan_phi npf_pts 20\n",
      "[0.0, 2.768349334311382e-40] 1.384174667155691e-40 0.0\n",
      "Npfcan_phi npf_pts 21\n",
      "[0.0, 2.7625059197151477e-40] 1.3812529598575738e-40 0.0\n",
      "Npfcan_phi npf_pts 22\n",
      "[0.0, 2.7580217646293083e-40] 1.3790108823146541e-40 0.0\n",
      "Npfcan_phi npf_pts 23\n",
      "[0.0, 2.754840817115291e-40] 1.3774204085576455e-40 0.0\n",
      "Npfcan_phi npf_pts 24\n",
      "[0.0, 2.752696830464874e-40] 1.376348415232437e-40 0.0\n",
      "Npfcan_e npf_pts 0\n",
      "[0.0, 935.9729400634782] 467.9864700317391 15.359602\n",
      "Npfcan_e npf_pts 1\n",
      "[0.0, 498.53628051757846] 249.26814025878923 4.2048273\n",
      "Npfcan_e npf_pts 2\n",
      "[0.0, 178.32886322021534] 89.16443161010767 2.1963222\n",
      "Npfcan_e npf_pts 3\n",
      "[0.0, 117.39479286193853] 58.69739643096926 1.6253235\n",
      "Npfcan_e npf_pts 4\n",
      "[0.0, 66.34993614196796] 33.17496807098398 1.1620708\n",
      "Npfcan_e npf_pts 5\n",
      "[0.0, 44.21806221008319] 22.109031105041595 0.83372384\n",
      "Npfcan_e npf_pts 6\n",
      "[0.0, 29.712921371460105] 14.856460685730053 0.5688325\n",
      "Npfcan_e npf_pts 7\n",
      "[0.0, 23.37430713653565] 11.687153568267824 0.328056\n",
      "Npfcan_e npf_pts 8\n",
      "[0.0, 19.000453834533833] 9.500226917266916 0.00582852\n",
      "Npfcan_e npf_pts 9\n",
      "[0.0, 15.865478610992453] 7.932739305496226 0.0\n",
      "Npfcan_e npf_pts 10\n",
      "[0.0, 13.548486671447783] 6.774243335723892 0.0\n",
      "Npfcan_e npf_pts 11\n",
      "[0.0, 11.683959531784062] 5.841979765892031 0.0\n",
      "Npfcan_e npf_pts 12\n",
      "[0.0, 9.556484880447407] 4.778242440223703 0.0\n",
      "Npfcan_e npf_pts 13\n",
      "[0.0, 7.810902590751649] 3.9054512953758245 0.0\n",
      "Npfcan_e npf_pts 14\n",
      "[0.0, 6.36722555637361] 3.183612778186805 0.0\n",
      "Npfcan_e npf_pts 15\n",
      "[0.0, 4.856402635574343] 2.4282013177871713 0.0\n",
      "Npfcan_e npf_pts 16\n",
      "[0.0, 3.7503731703758376] 1.8751865851879188 0.0\n",
      "Npfcan_e npf_pts 17\n",
      "[0.0, 2.8351245689392135] 1.4175622844696067 0.0\n",
      "Npfcan_e npf_pts 18\n",
      "[0.0, 2.076011130809784] 1.038005565404892 0.0\n",
      "Npfcan_e npf_pts 19\n",
      "[0.0, 1.0835627973079873] 0.5417813986539937 0.0\n",
      "Npfcan_e npf_pts 20\n",
      "[0.0, 2.788317837428011e-40] 1.3941589187140054e-40 0.0\n",
      "Npfcan_e npf_pts 21\n",
      "[0.0, 2.7767290991280446e-40] 1.3883645495640223e-40 0.0\n",
      "Npfcan_e npf_pts 22\n",
      "[0.0, 2.768055061633874e-40] 1.384027530816937e-40 0.0\n",
      "Npfcan_e npf_pts 23\n",
      "[0.0, 2.761847309436915e-40] 1.3809236547184575e-40 0.0\n",
      "Npfcan_e npf_pts 24\n",
      "[0.0, 2.7576294010592973e-40] 1.3788147005296487e-40 0.0\n"
     ]
    }
   ],
   "source": [
    "for (i,key) in enumerate(npf_pts_branches):\n",
    "    for cand in range(25):\n",
    "        range_inputs, standardized_epsilon = quantile_min_max(key,'npf_pts',cand)\n",
    "        scale_epsilon = (range_inputs[1] - range_inputs[0])/2\n",
    "        npf_pts_epsilons[i,cand] = scale_epsilon\n",
    "        npf_pts_standardized_epsilons[i,cand] = standardized_epsilon\n",
    "        npf_pts_ranges[i,cand] = range_inputs\n",
    "        print(range_inputs, scale_epsilon, standardized_epsilon)"
   ]
  },
  {
   "cell_type": "code",
   "execution_count": 1033,
   "metadata": {},
   "outputs": [],
   "source": [
    "vtx_pts_epsilons = np.zeros((len(vtx_pts_branches),5))"
   ]
  },
  {
   "cell_type": "code",
   "execution_count": 1034,
   "metadata": {},
   "outputs": [],
   "source": [
    "vtx_pts_standardized_epsilons = np.zeros((len(vtx_pts_branches),5))"
   ]
  },
  {
   "cell_type": "code",
   "execution_count": 1035,
   "metadata": {},
   "outputs": [],
   "source": [
    "vtx_pts_ranges = np.zeros((len(vtx_pts_branches),5, 2))"
   ]
  },
  {
   "cell_type": "code",
   "execution_count": 1036,
   "metadata": {
    "scrolled": true
   },
   "outputs": [
    {
     "name": "stdout",
     "output_type": "stream",
     "text": [
      "sv_pt vtx_pts 0\n",
      "[0.0, 269.95538024902396] 134.97769012451198 5.464629\n",
      "sv_pt vtx_pts 1\n",
      "[0.0, 171.34339126586914] 85.67169563293457 0.0\n",
      "sv_pt vtx_pts 2\n",
      "[0.0, 91.23880668640176] 45.61940334320088 0.0\n",
      "sv_pt vtx_pts 3\n",
      "[0.0, 25.99677312850961] 12.998386564254805 0.0\n",
      "sv_pt vtx_pts 4\n",
      "[0.0, 2.780260371258143e-40] 1.3901301856290716e-40 0.0\n",
      "sv_eta vtx_pts 0\n",
      "[-2.2064412951469423, 2.195994005203248] 2.201217650175095 0.03496349\n",
      "sv_eta vtx_pts 1\n",
      "[-1.7422093152999878, 1.7208801341056834] 1.7315447247028355 0.0\n",
      "sv_eta vtx_pts 2\n",
      "[-0.8291426700353622, 0.796823211312296] 0.8129829406738291 0.0\n",
      "sv_eta vtx_pts 3\n",
      "[0.0, 2.7913026031570227e-40] 1.3956513015785113e-40 0.0\n",
      "sv_eta vtx_pts 4\n",
      "[0.0, 2.7630524261162344e-40] 1.3815262130581172e-40 0.0\n",
      "sv_phi vtx_pts 0\n",
      "[-3.0113272953033445, 3.006407761573792] 3.008867528438568 0.06330836\n",
      "sv_phi vtx_pts 1\n",
      "[-2.6993870472908017, 2.720079970359803] 2.7097335088253023 0.0\n",
      "sv_phi vtx_pts 2\n",
      "[-1.8070686149597166, 1.833003576993943] 1.8200360959768298 0.0\n",
      "sv_phi vtx_pts 3\n",
      "[0.0, 2.791428720018812e-40] 1.395714360009406e-40 0.0\n",
      "sv_phi vtx_pts 4\n",
      "[0.0, 2.7635148546094616e-40] 1.3817574273047308e-40 0.0\n",
      "sv_e vtx_pts 0\n",
      "[0.0, 424.24984863281264] 212.12492431640632 9.406081\n",
      "sv_e vtx_pts 1\n",
      "[0.0, 263.9880123901376] 131.9940061950688 0.0\n",
      "sv_e vtx_pts 2\n",
      "[0.0, 134.420598754883] 67.2102993774415 0.0\n",
      "sv_e vtx_pts 3\n",
      "[0.0, 37.21071464538644] 18.60535732269322 0.0\n",
      "sv_e vtx_pts 4\n",
      "[0.0, 2.780260371258143e-40] 1.3901301856290716e-40 0.0\n"
     ]
    }
   ],
   "source": [
    "for (i,key) in enumerate(vtx_pts_branches):\n",
    "    for cand in range(5):\n",
    "        range_inputs, standardized_epsilon = quantile_min_max(key,'vtx_pts',cand)\n",
    "        scale_epsilon = (range_inputs[1] - range_inputs[0])/2\n",
    "        vtx_pts_epsilons[i,cand] = scale_epsilon\n",
    "        vtx_pts_standardized_epsilons[i,cand] = standardized_epsilon\n",
    "        vtx_pts_ranges[i,cand] = range_inputs\n",
    "        print(range_inputs, scale_epsilon, standardized_epsilon)"
   ]
  },
  {
   "cell_type": "code",
   "execution_count": 1037,
   "metadata": {},
   "outputs": [],
   "source": [
    "np.save('/eos/user/a/anstein/public/DeepJet/Train_ParT/auxiliary/global_epsilons.npy',global_epsilons)"
   ]
  },
  {
   "cell_type": "code",
   "execution_count": 1038,
   "metadata": {},
   "outputs": [],
   "source": [
    "np.save('/eos/user/a/anstein/public/DeepJet/Train_ParT/auxiliary/global_standardized_epsilons.npy',global_standardized_epsilons)"
   ]
  },
  {
   "cell_type": "code",
   "execution_count": 1039,
   "metadata": {},
   "outputs": [],
   "source": [
    "np.save('/eos/user/a/anstein/public/DeepJet/Train_ParT/auxiliary/global_ranges.npy',global_ranges)"
   ]
  },
  {
   "cell_type": "code",
   "execution_count": 1040,
   "metadata": {},
   "outputs": [],
   "source": [
    "np.save('/eos/user/a/anstein/public/DeepJet/Train_ParT/auxiliary/cpf_epsilons.npy',cpf_epsilons)"
   ]
  },
  {
   "cell_type": "code",
   "execution_count": 1041,
   "metadata": {},
   "outputs": [],
   "source": [
    "np.save('/eos/user/a/anstein/public/DeepJet/Train_ParT/auxiliary/cpf_standardized_epsilons.npy',cpf_standardized_epsilons)"
   ]
  },
  {
   "cell_type": "code",
   "execution_count": 1042,
   "metadata": {},
   "outputs": [],
   "source": [
    "np.save('/eos/user/a/anstein/public/DeepJet/Train_ParT/auxiliary/cpf_ranges.npy',cpf_ranges)"
   ]
  },
  {
   "cell_type": "code",
   "execution_count": 1043,
   "metadata": {},
   "outputs": [],
   "source": [
    "np.save('/eos/user/a/anstein/public/DeepJet/Train_ParT/auxiliary/npf_epsilons.npy',npf_epsilons)"
   ]
  },
  {
   "cell_type": "code",
   "execution_count": 1044,
   "metadata": {},
   "outputs": [],
   "source": [
    "np.save('/eos/user/a/anstein/public/DeepJet/Train_ParT/auxiliary/npf_standardized_epsilons.npy',npf_standardized_epsilons)"
   ]
  },
  {
   "cell_type": "code",
   "execution_count": 1045,
   "metadata": {},
   "outputs": [],
   "source": [
    "np.save('/eos/user/a/anstein/public/DeepJet/Train_ParT/auxiliary/npf_ranges.npy',npf_ranges)"
   ]
  },
  {
   "cell_type": "code",
   "execution_count": 1046,
   "metadata": {},
   "outputs": [],
   "source": [
    "np.save('/eos/user/a/anstein/public/DeepJet/Train_ParT/auxiliary/vtx_epsilons.npy',vtx_epsilons)"
   ]
  },
  {
   "cell_type": "code",
   "execution_count": 1047,
   "metadata": {},
   "outputs": [],
   "source": [
    "np.save('/eos/user/a/anstein/public/DeepJet/Train_ParT/auxiliary/vtx_standardized_epsilons.npy',vtx_standardized_epsilons)"
   ]
  },
  {
   "cell_type": "code",
   "execution_count": 1048,
   "metadata": {},
   "outputs": [],
   "source": [
    "np.save('/eos/user/a/anstein/public/DeepJet/Train_ParT/auxiliary/vtx_ranges.npy',vtx_ranges)"
   ]
  },
  {
   "cell_type": "code",
   "execution_count": 1049,
   "metadata": {},
   "outputs": [],
   "source": [
    "np.save('/eos/user/a/anstein/public/DeepJet/Train_ParT/auxiliary/cpf_pts_epsilons.npy',cpf_pts_epsilons)"
   ]
  },
  {
   "cell_type": "code",
   "execution_count": 1050,
   "metadata": {},
   "outputs": [],
   "source": [
    "np.save('/eos/user/a/anstein/public/DeepJet/Train_ParT/auxiliary/cpf_pts_standardized_epsilons.npy',cpf_pts_standardized_epsilons)"
   ]
  },
  {
   "cell_type": "code",
   "execution_count": 1051,
   "metadata": {},
   "outputs": [],
   "source": [
    "np.save('/eos/user/a/anstein/public/DeepJet/Train_ParT/auxiliary/cpf_pts_ranges.npy',cpf_pts_ranges)"
   ]
  },
  {
   "cell_type": "code",
   "execution_count": 1052,
   "metadata": {},
   "outputs": [],
   "source": [
    "np.save('/eos/user/a/anstein/public/DeepJet/Train_ParT/auxiliary/npf_pts_epsilons.npy',npf_pts_epsilons)"
   ]
  },
  {
   "cell_type": "code",
   "execution_count": 1053,
   "metadata": {},
   "outputs": [],
   "source": [
    "np.save('/eos/user/a/anstein/public/DeepJet/Train_ParT/auxiliary/npf_pts_standardized_epsilons.npy',npf_pts_standardized_epsilons)"
   ]
  },
  {
   "cell_type": "code",
   "execution_count": 1054,
   "metadata": {},
   "outputs": [],
   "source": [
    "np.save('/eos/user/a/anstein/public/DeepJet/Train_ParT/auxiliary/npf_pts_ranges.npy',npf_pts_ranges)"
   ]
  },
  {
   "cell_type": "code",
   "execution_count": 1055,
   "metadata": {},
   "outputs": [],
   "source": [
    "np.save('/eos/user/a/anstein/public/DeepJet/Train_ParT/auxiliary/vtx_pts_epsilons.npy',vtx_pts_epsilons)"
   ]
  },
  {
   "cell_type": "code",
   "execution_count": 1056,
   "metadata": {},
   "outputs": [],
   "source": [
    "np.save('/eos/user/a/anstein/public/DeepJet/Train_ParT/auxiliary/vtx_pts_standardized_epsilons.npy',vtx_pts_standardized_epsilons)"
   ]
  },
  {
   "cell_type": "code",
   "execution_count": 1057,
   "metadata": {},
   "outputs": [],
   "source": [
    "np.save('/eos/user/a/anstein/public/DeepJet/Train_ParT/auxiliary/vtx_pts_ranges.npy',vtx_pts_ranges)"
   ]
  },
  {
   "cell_type": "code",
   "execution_count": null,
   "metadata": {},
   "outputs": [],
   "source": []
  },
  {
   "cell_type": "code",
   "execution_count": null,
   "metadata": {},
   "outputs": [],
   "source": []
  }
 ],
 "metadata": {
  "kernelspec": {
   "display_name": "Python 3",
   "language": "python",
   "name": "python3"
  },
  "language_info": {
   "codemirror_mode": {
    "name": "ipython",
    "version": 3
   },
   "file_extension": ".py",
   "mimetype": "text/x-python",
   "name": "python",
   "nbconvert_exporter": "python",
   "pygments_lexer": "ipython3",
   "version": "3.8.6"
  }
 },
 "nbformat": 4,
 "nbformat_minor": 5
}
