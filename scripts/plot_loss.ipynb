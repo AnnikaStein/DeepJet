{
 "cells": [
  {
   "cell_type": "markdown",
   "metadata": {},
   "source": [
    "# Loss curves\n",
    "## Comparison of different trainings via train & val loss"
   ]
  },
  {
   "cell_type": "code",
   "execution_count": null,
   "metadata": {},
   "outputs": [],
   "source": [
    "import numpy as np\n",
    "\n",
    "import matplotlib.pyplot as plt\n",
    "import mplhep as hep\n",
    "\n",
    "\n",
    "plt.style.use(hep.cms.style.ROOT)"
   ]
  },
  {
   "cell_type": "code",
   "execution_count": null,
   "metadata": {},
   "outputs": [],
   "source": [
    "'''\n",
    "#Run3 setup:\n",
    "model_names = ['nominal_with_etarel_phirel', 'adversarial_with_etarel_phirel']\n",
    "'''"
   ]
  },
  {
   "cell_type": "code",
   "execution_count": null,
   "metadata": {},
   "outputs": [],
   "source": [
    "model_names = ['nominal', 'adversarial_eps0p01']"
   ]
  },
  {
   "cell_type": "code",
   "execution_count": null,
   "metadata": {},
   "outputs": [],
   "source": [
    "models_str = model_names[0] + '_' + model_names[1]"
   ]
  },
  {
   "cell_type": "code",
   "execution_count": null,
   "metadata": {},
   "outputs": [],
   "source": [
    "tagger = 'DF_Run2' # 'DF'"
   ]
  },
  {
   "cell_type": "code",
   "execution_count": null,
   "metadata": {},
   "outputs": [],
   "source": [
    "dirz = [f'/eos/user/a/anstein/DeepJet/Train_{tagger}/{model_name}/' \\\n",
    "        for model_name in model_names]"
   ]
  },
  {
   "cell_type": "code",
   "execution_count": null,
   "metadata": {},
   "outputs": [],
   "source": [
    "dirz"
   ]
  },
  {
   "cell_type": "code",
   "execution_count": null,
   "metadata": {},
   "outputs": [],
   "source": [
    "colorcode = ['darkblue', 'royalblue', 'saddlebrown', 'orange']"
   ]
  },
  {
   "cell_type": "code",
   "execution_count": null,
   "metadata": {},
   "outputs": [],
   "source": [
    "paths = {\n",
    "    'nominal' : dirz[0] + f'loss_trainval.npy',\n",
    "    'adversarial' : dirz[1] + f'loss_trainval.npy'\n",
    "    }"
   ]
  },
  {
   "cell_type": "code",
   "execution_count": null,
   "metadata": {},
   "outputs": [],
   "source": [
    "leg_text = {\n",
    "    'nominal' : 'nominal',\n",
    "    'adversarial' : r'adversarial ($\\epsilon=0.01$)'\n",
    "    }"
   ]
  },
  {
   "cell_type": "code",
   "execution_count": null,
   "metadata": {},
   "outputs": [],
   "source": [
    "plt.figure(1,figsize=[13,10])\n",
    "plt.grid(which='minor', alpha=0.85)\n",
    "plt.grid(which='major', alpha=0.95, color='black')\n",
    "for p,key in enumerate(paths):\n",
    "    \n",
    "    train_val_loss = np.load(paths[key])\n",
    "    #print(train_val_loss)\n",
    "    n_epochs = len(train_val_loss[0])\n",
    "    \n",
    "    epoch_axis = np.arange(1,n_epochs+1)\n",
    "    \n",
    "    plt.plot(epoch_axis, train_val_loss[0], color=colorcode[p*2], label=f'Training loss ({leg_text[key]})')\n",
    "    plt.plot(epoch_axis, train_val_loss[1], color=colorcode[p*2+1], label=f'Validation loss ({leg_text[key]})')\n",
    "plt.xlabel('epoch')\n",
    "plt.ylabel('loss')\n",
    "leg = plt.legend()\n",
    "# set the linewidth of each legend object\n",
    "for legobj in leg.legendHandles:\n",
    "    legobj.set_linewidth(3.0)\n",
    "plt.savefig('train_val_loss_' + tagger + '_' + models_str + '.pdf', bbox_inches='tight')"
   ]
  }
 ],
 "metadata": {
  "kernelspec": {
   "display_name": "Python 3",
   "language": "python",
   "name": "python3"
  },
  "language_info": {
   "codemirror_mode": {
    "name": "ipython",
    "version": 3
   },
   "file_extension": ".py",
   "mimetype": "text/x-python",
   "name": "python",
   "nbconvert_exporter": "python",
   "pygments_lexer": "ipython3",
   "version": "3.8.6"
  }
 },
 "nbformat": 4,
 "nbformat_minor": 4
}
