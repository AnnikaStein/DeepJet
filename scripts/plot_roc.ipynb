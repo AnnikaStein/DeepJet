{
 "cells": [
  {
   "cell_type": "markdown",
   "metadata": {},
   "source": [
    "# ROC curves\n",
    "## Comparison of different trainings with different setups for inference"
   ]
  },
  {
   "cell_type": "code",
   "execution_count": null,
   "metadata": {},
   "outputs": [],
   "source": [
    "import numpy as np\n",
    "\n",
    "import matplotlib.pyplot as plt\n",
    "import mplhep as hep\n",
    "\n",
    "\n",
    "plt.style.use(hep.cms.style.ROOT)"
   ]
  },
  {
   "cell_type": "code",
   "execution_count": null,
   "metadata": {},
   "outputs": [],
   "source": [
    "plt.rcParams['axes.axisbelow'] = True"
   ]
  },
  {
   "cell_type": "code",
   "execution_count": null,
   "metadata": {},
   "outputs": [],
   "source": [
    "'''\n",
    "#Run3 setup:\n",
    "model_names = ['nominal_with_etarel_phirel', 'adversarial_with_etarel_phirel']\n",
    "prediction_setups = ['', '_FGSM']\n",
    "prediction_files = 'one_prediction'\n",
    "'''"
   ]
  },
  {
   "cell_type": "code",
   "execution_count": null,
   "metadata": {},
   "outputs": [],
   "source": [
    "#model_names = ['nominal', 'adversarial_eps0p01', 'adversarial_eps0p005']\n",
    "model_names = ['nominal', 'adversarial_eps0p01']\n",
    "prediction_setups = ['', '_FGSM']\n",
    "prediction_files = 'outfiles'"
   ]
  },
  {
   "cell_type": "code",
   "execution_count": null,
   "metadata": {},
   "outputs": [],
   "source": [
    "tagger = 'DF_Run2' # 'DF'"
   ]
  },
  {
   "cell_type": "code",
   "execution_count": null,
   "metadata": {},
   "outputs": [],
   "source": [
    "dirz = [[f'/eos/user/a/anstein/public/DeepJet/Train_{tagger}/{model_name}/predict{prediction_setup}/' \\\n",
    "        for model_name in model_names] for prediction_setup in prediction_setups]"
   ]
  },
  {
   "cell_type": "code",
   "execution_count": null,
   "metadata": {},
   "outputs": [],
   "source": [
    "dirz"
   ]
  },
  {
   "cell_type": "code",
   "execution_count": null,
   "metadata": {},
   "outputs": [],
   "source": [
    "dirz[0][0] = '/e'+dirz[0][0].strip('predict/')+'/predict_NEW/'\n",
    "dirz[1][0] = '/e'+dirz[1][0].strip('predict_FGSM/')+'/predict_FGSM_NEW/'"
   ]
  },
  {
   "cell_type": "code",
   "execution_count": null,
   "metadata": {},
   "outputs": [],
   "source": [
    "dirz"
   ]
  },
  {
   "cell_type": "code",
   "execution_count": null,
   "metadata": {},
   "outputs": [],
   "source": [
    "BvsL_paths = [item + f'BvL_{prediction_files}.npy' for sublist in dirz for item in sublist]"
   ]
  },
  {
   "cell_type": "code",
   "execution_count": null,
   "metadata": {},
   "outputs": [],
   "source": [
    "BvsL_paths"
   ]
  },
  {
   "cell_type": "code",
   "execution_count": null,
   "metadata": {},
   "outputs": [],
   "source": [
    "BvsC_paths = [item + f'BvC_{prediction_files}.npy' for sublist in dirz for item in sublist]"
   ]
  },
  {
   "cell_type": "code",
   "execution_count": null,
   "metadata": {},
   "outputs": [],
   "source": [
    "BvsC_paths"
   ]
  },
  {
   "cell_type": "code",
   "execution_count": null,
   "metadata": {},
   "outputs": [],
   "source": [
    "NEW_BvsL_paths = [item + f'BvL_{prediction_files}_NEW.npy' for sublist in dirz for item in sublist]"
   ]
  },
  {
   "cell_type": "code",
   "execution_count": null,
   "metadata": {},
   "outputs": [],
   "source": [
    "NEW_BvsL_paths"
   ]
  },
  {
   "cell_type": "code",
   "execution_count": null,
   "metadata": {},
   "outputs": [],
   "source": [
    "#NEW_BvsL_paths[1] = NEW_BvsL_paths[1].strip('_NEW.npy')+'.npy'\n",
    "#NEW_BvsL_paths[3] = NEW_BvsL_paths[3].strip('_NEW.npy')+'.npy'\n",
    "#NEW_BvsL_paths"
   ]
  },
  {
   "cell_type": "code",
   "execution_count": null,
   "metadata": {},
   "outputs": [],
   "source": [
    "NEW_CvsB_paths = [item + f'CvB_{prediction_files}_NEW.npy' for sublist in dirz for item in sublist]"
   ]
  },
  {
   "cell_type": "code",
   "execution_count": null,
   "metadata": {},
   "outputs": [],
   "source": [
    "NEW_CvsB_paths"
   ]
  },
  {
   "cell_type": "code",
   "execution_count": null,
   "metadata": {},
   "outputs": [],
   "source": [
    "#NEW_CvsB_paths[1] = NEW_CvsB_paths[1].strip('_NEW.npy')+'.npy'\n",
    "#NEW_CvsB_paths[3] = NEW_CvsB_paths[3].strip('_NEW.npy')+'.npy'\n",
    "#NEW_CvsB_paths"
   ]
  },
  {
   "cell_type": "code",
   "execution_count": null,
   "metadata": {},
   "outputs": [],
   "source": [
    "NEW_CvsL_paths = [item + f'CvL_{prediction_files}_NEW.npy' for sublist in dirz for item in sublist]"
   ]
  },
  {
   "cell_type": "code",
   "execution_count": null,
   "metadata": {},
   "outputs": [],
   "source": [
    "NEW_CvsL_paths"
   ]
  },
  {
   "cell_type": "code",
   "execution_count": null,
   "metadata": {},
   "outputs": [],
   "source": [
    "#NEW_CvsL_paths[1] = NEW_CvsL_paths[1].strip('_NEW.npy')+'.npy'\n",
    "#NEW_CvsL_paths[3] = NEW_CvsL_paths[3].strip('_NEW.npy')+'.npy'\n",
    "#NEW_CvsL_paths"
   ]
  },
  {
   "cell_type": "code",
   "execution_count": null,
   "metadata": {},
   "outputs": [],
   "source": [
    "xya = np.load(BvsL_paths[0], allow_pickle=True)"
   ]
  },
  {
   "cell_type": "code",
   "execution_count": null,
   "metadata": {},
   "outputs": [],
   "source": [
    "fig,ax = plt.subplots(figsize=[12,12])\n",
    "ax.set_xlim(left=0.,right=1)\n",
    "\n",
    "ax.set_yscale('log')\n",
    "ax.set_ylim(bottom=1e-3)\n",
    "ax.set_ylim(top=1)\n",
    "\n",
    "tag_name = ' (b,bb,lepb)'\n",
    "mistag_name = ' (uds,g)'\n",
    "\n",
    "ax.set_ylabel('Mistagging rate'+mistag_name)\n",
    "ax.set_xlabel('Tagging efficiency'+tag_name)\n",
    "\n",
    "ax.grid(which='minor', alpha=0.85)\n",
    "ax.grid(which='major', alpha=0.95, color='black')\n",
    "\n",
    "linestyles = ['-','-','-','--','--','--']\n",
    "colors = ['tab:blue','tab:orange','tab:green','tab:blue','tab:orange','tab:green']\n",
    "names_models = ['Nominal training', r'Adversarial training (against $\\epsilon=0.01$)',\n",
    "                r'Adversarial training (against $\\epsilon=0.005$)']\n",
    "names_setups = ['nominal samples', r'FGSM ($\\epsilon=0.01$, limit $20\\%$)']\n",
    "legtitle = 'BvsL'\n",
    "legloc = 'upper left'\n",
    "for i in range(6):\n",
    "    xya = np.load(BvsL_paths[i], allow_pickle=True)\n",
    "    legend_text = names_models[i % 3] + '\\n' + (names_setups[0] if i<3 else names_setups[1]) + '\\n' + 'AUC = ' + f'{xya[2]:.3f}'\n",
    "    ax.plot(xya[0], xya[1], linestyle=linestyles[i], color=colors[i],linewidth=3.0,label=legend_text)\n",
    "leg = ax.legend(title=legtitle,loc=legloc,fontsize=16,title_fontsize=20,labelspacing=0.7,frameon=True,framealpha=1,facecolor='white')\n",
    "if 'right' in legloc:\n",
    "    aligned = 'right'\n",
    "else:\n",
    "    aligned = 'left'\n",
    "leg._legend_box.align = aligned\n",
    "leg.get_frame().set_linewidth(0.0)\n",
    "#hep.cms.text('Simulation Preliminary')\n",
    "hep.cms.label(rlabel='(13 TeV)')\n",
    "#hep.cms.rlabel('13 TeV')\n",
    "#fig.savefig(legtitle + '_' + tagger + '_ROC.pdf', bbox_inches='tight')"
   ]
  },
  {
   "cell_type": "code",
   "execution_count": null,
   "metadata": {},
   "outputs": [],
   "source": [
    "fig,ax = plt.subplots(figsize=[12,12])\n",
    "ax.set_xlim(left=0.,right=1)\n",
    "\n",
    "ax.set_yscale('log')\n",
    "ax.set_ylim(bottom=1e-3)\n",
    "ax.set_ylim(top=1)\n",
    "\n",
    "tag_name = ' (b,bb,lepb)'\n",
    "mistag_name = ' (c)'\n",
    "\n",
    "ax.set_ylabel('Mistagging rate'+mistag_name)\n",
    "ax.set_xlabel('Tagging efficiency'+tag_name)\n",
    "\n",
    "ax.grid(which='minor', alpha=0.85)\n",
    "ax.grid(which='major', alpha=0.95, color='black')\n",
    "\n",
    "linestyles = ['-','-','-','--','--','--']\n",
    "colors = ['tab:blue','tab:orange','tab:green','tab:blue','tab:orange','tab:green']\n",
    "names_models = ['Nominal training', r'Adversarial training (against $\\epsilon=0.01$)',\n",
    "                r'Adversarial training (against $\\epsilon=0.005$)']\n",
    "names_setups = ['nominal samples', r'FGSM ($\\epsilon=0.01$, limit $20\\%$)']\n",
    "legtitle = 'BvsC'\n",
    "legloc = 'upper left'\n",
    "for i in range(6):\n",
    "    xya = np.load(BvsC_paths[i], allow_pickle=True)\n",
    "    legend_text = names_models[i % 3] + '\\n' + (names_setups[0] if i<3 else names_setups[1]) + '\\n' + 'AUC = ' + f'{xya[2]:.3f}'\n",
    "    ax.plot(xya[0], xya[1], linestyle=linestyles[i], color=colors[i],linewidth=3.0,label=legend_text)\n",
    "leg = ax.legend(title=legtitle,loc=legloc,fontsize=16,title_fontsize=20,labelspacing=0.7,frameon=True,framealpha=1,facecolor='white')\n",
    "if 'right' in legloc:\n",
    "    aligned = 'right'\n",
    "else:\n",
    "    aligned = 'left'\n",
    "leg._legend_box.align = aligned\n",
    "leg.get_frame().set_linewidth(0.0)\n",
    "hep.cms.label(rlabel='(13 TeV)')\n",
    "#fig.savefig(legtitle + '_' + tagger + '_ROC.pdf', bbox_inches='tight')"
   ]
  },
  {
   "cell_type": "markdown",
   "metadata": {},
   "source": [
    "# NEW"
   ]
  },
  {
   "cell_type": "code",
   "execution_count": null,
   "metadata": {},
   "outputs": [],
   "source": [
    "fig,ax = plt.subplots(figsize=[12,12])\n",
    "ax.set_xlim(left=0.,right=1)\n",
    "\n",
    "ax.set_yscale('log')\n",
    "ax.set_ylim(bottom=1e-3)\n",
    "ax.set_ylim(top=1)\n",
    "\n",
    "tag_name = ' (b,bb,lepb)'\n",
    "mistag_name = ' (uds,g)'\n",
    "\n",
    "ax.set_ylabel('Mistagging rate'+mistag_name)\n",
    "ax.set_xlabel('Tagging efficiency'+tag_name)\n",
    "\n",
    "ax.grid(which='minor', alpha=0.85)\n",
    "ax.grid(which='major', alpha=0.95, color='black')\n",
    "\n",
    "linestyles = ['-','-','--','--']\n",
    "colors = ['tab:blue','tab:orange','tab:blue','tab:orange',]\n",
    "#names_models = ['Nominal training', r'Adversarial training (against $\\epsilon=0.01$)']\n",
    "names_models = ['Nominal training', r'Adversarial training']\n",
    "names_setups = ['nominal inputs', r'adversarial inputs']\n",
    "legtitle = 'BvsL'\n",
    "legloc = 'upper left'\n",
    "for i in range(4):\n",
    "    xya = np.load(NEW_BvsL_paths[i], allow_pickle=True)\n",
    "    legend_text = names_models[i % 2] + '\\n' + (names_setups[0] if i<2 else names_setups[1]) + '\\n' + 'AUC = ' + f'{xya[2]:.3f}'\n",
    "    ax.plot(xya[0], xya[1], linestyle=linestyles[i], color=colors[i],linewidth=3.0,label=legend_text)\n",
    "leg = ax.legend(title='DeepJet '+legtitle,loc=legloc,fontsize=16,title_fontsize=20,labelspacing=0.7,frameon=True,framealpha=1,facecolor='white')\n",
    "if 'right' in legloc:\n",
    "    aligned = 'right'\n",
    "else:\n",
    "    aligned = 'left'\n",
    "leg._legend_box.align = aligned\n",
    "leg.get_frame().set_linewidth(0.0)\n",
    "hep.cms.label(rlabel='(13 TeV)')\n",
    "fig.savefig(legtitle + '_' + tagger + '_NEW_ROC_v2.pdf', bbox_inches='tight')"
   ]
  },
  {
   "cell_type": "code",
   "execution_count": null,
   "metadata": {},
   "outputs": [],
   "source": [
    "fig,ax = plt.subplots(figsize=[12,12])\n",
    "ax.set_xlim(left=0.,right=1)\n",
    "\n",
    "ax.set_yscale('log')\n",
    "ax.set_ylim(bottom=1e-3)\n",
    "ax.set_ylim(top=1)\n",
    "\n",
    "tag_name = ' (c)'\n",
    "mistag_name = ' (b,bb,lepb)'\n",
    "\n",
    "ax.set_ylabel('Mistagging rate'+mistag_name)\n",
    "ax.set_xlabel('Tagging efficiency'+tag_name)\n",
    "\n",
    "ax.grid(which='minor', alpha=0.85)\n",
    "ax.grid(which='major', alpha=0.95, color='black')\n",
    "\n",
    "linestyles = ['-','-','--','--']\n",
    "colors = ['tab:blue','tab:orange','tab:blue','tab:orange',]\n",
    "#names_models = ['Nominal training', r'Adversarial training (against $\\epsilon=0.01$)']\n",
    "names_models = ['Nominal training', r'Adversarial training']\n",
    "names_setups = ['nominal inputs', r'adversarial inputs']\n",
    "legtitle = 'CvsB'\n",
    "legloc = 'lower right'\n",
    "for i in range(4):\n",
    "    xya = np.load(NEW_CvsB_paths[i], allow_pickle=True)\n",
    "    legend_text = names_models[i % 2] + '\\n' + (names_setups[0] if i<2 else names_setups[1]) + '\\n' + 'AUC = ' + f'{xya[2]:.3f}'\n",
    "    ax.plot(xya[0], xya[1], linestyle=linestyles[i], color=colors[i],linewidth=3.0,label=legend_text)\n",
    "leg = ax.legend(title='DeepJet '+legtitle,loc=legloc,fontsize=16,title_fontsize=20,labelspacing=0.7,frameon=True,framealpha=1,facecolor='white')\n",
    "if 'right' in legloc:\n",
    "    aligned = 'left'#'right'\n",
    "else:\n",
    "    aligned = 'left'\n",
    "leg._legend_box.align = aligned\n",
    "leg.get_frame().set_linewidth(0.0)\n",
    "hep.cms.label(rlabel='(13 TeV)')\n",
    "fig.savefig(legtitle + '_' + tagger + '_NEW_ROC_v2.pdf', bbox_inches='tight')"
   ]
  },
  {
   "cell_type": "code",
   "execution_count": null,
   "metadata": {},
   "outputs": [],
   "source": [
    "fig,ax = plt.subplots(figsize=[12,12])\n",
    "ax.set_xlim(left=0.,right=1)\n",
    "\n",
    "ax.set_yscale('log')\n",
    "ax.set_ylim(bottom=1e-3)\n",
    "ax.set_ylim(top=1)\n",
    "\n",
    "tag_name = ' (c)'\n",
    "mistag_name = ' (uds,g)'\n",
    "\n",
    "ax.set_ylabel('Mistagging rate'+mistag_name)\n",
    "ax.set_xlabel('Tagging efficiency'+tag_name)\n",
    "\n",
    "ax.grid(which='minor', alpha=0.85)\n",
    "ax.grid(which='major', alpha=0.95, color='black')\n",
    "\n",
    "linestyles = ['-','-','--','--']\n",
    "colors = ['tab:blue','tab:orange','tab:blue','tab:orange',]\n",
    "#names_models = ['Nominal training', r'Adversarial training (against $\\epsilon=0.01$)']\n",
    "names_models = ['Nominal training', r'Adversarial training']\n",
    "names_setups = ['nominal inputs', r'adversarial inputs']\n",
    "legtitle = 'CvsL'\n",
    "legloc = 'lower right'\n",
    "for i in range(4):\n",
    "    xya = np.load(NEW_CvsL_paths[i], allow_pickle=True)\n",
    "    legend_text = names_models[i % 2] + '\\n' + (names_setups[0] if i<2 else names_setups[1]) + '\\n' + 'AUC = ' + f'{xya[2]:.3f}'\n",
    "    ax.plot(xya[0], xya[1], linestyle=linestyles[i], color=colors[i],linewidth=3.0,label=legend_text)\n",
    "leg = ax.legend(title='DeepJet '+legtitle,loc=legloc,fontsize=16,title_fontsize=20,labelspacing=0.7,frameon=True,framealpha=1,facecolor='white')\n",
    "if 'right' in legloc:\n",
    "    aligned = 'left'#'right'\n",
    "else:\n",
    "    aligned = 'left'\n",
    "leg._legend_box.align = aligned\n",
    "leg.get_frame().set_linewidth(0.0)\n",
    "hep.cms.label(rlabel='(13 TeV)')\n",
    "fig.savefig(legtitle + '_' + tagger + '_NEW_ROC_v2.pdf', bbox_inches='tight')"
   ]
  },
  {
   "cell_type": "code",
   "execution_count": null,
   "metadata": {},
   "outputs": [],
   "source": []
  }
 ],
 "metadata": {
  "kernelspec": {
   "display_name": "Python 3",
   "language": "python",
   "name": "python3"
  },
  "language_info": {
   "codemirror_mode": {
    "name": "ipython",
    "version": 3
   },
   "file_extension": ".py",
   "mimetype": "text/x-python",
   "name": "python",
   "nbconvert_exporter": "python",
   "pygments_lexer": "ipython3",
   "version": "3.8.6"
  }
 },
 "nbformat": 4,
 "nbformat_minor": 4
}
